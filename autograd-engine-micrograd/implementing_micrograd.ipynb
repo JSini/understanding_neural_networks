{
  "nbformat": 4,
  "nbformat_minor": 0,
  "metadata": {
    "colab": {
      "provenance": [],
      "authorship_tag": "ABX9TyPedcdAaPvOsFnxbAqYgnFT"
    },
    "kernelspec": {
      "name": "python3",
      "display_name": "Python 3"
    },
    "language_info": {
      "name": "python"
    }
  },
  "cells": [
    {
      "cell_type": "markdown",
      "source": [
        "This notebook is based purely on video tutorial [Andrej Karpathy's](https://www.youtube.com/@AndrejKarpathy) - [The spelled-out intro to neural networks and backpropagation: building micrograd](https://www.youtube.com/watch?v=VMj-3S1tku0&list=PLAqhIrjkxbuWI23v9cThsA9GvCAUhRvKZ&index=1)\n",
        "\n",
        "[micrograd_Github_repo](https://github.com/karpathy/micrograd)\n",
        "\n",
        "Working along the video has been a great learning for me!"
      ],
      "metadata": {
        "id": "QMWDZfarIzZh"
      }
    },
    {
      "cell_type": "code",
      "execution_count": 1,
      "metadata": {
        "id": "z3novDtu0AnY"
      },
      "outputs": [],
      "source": [
        "import math\n",
        "import numpy as np\n",
        "import matplotlib.pyplot as plt\n",
        "%matplotlib inline"
      ]
    },
    {
      "cell_type": "markdown",
      "source": [
        "## Understanding derivative"
      ],
      "metadata": {
        "id": "0n-YwfDN37LU"
      }
    },
    {
      "cell_type": "code",
      "source": [
        "# any function - taking an example of quadratic\n",
        "def f(x):\n",
        "  return 3*x**2 - 4*x + 5"
      ],
      "metadata": {
        "id": "COFBWoT22RK1"
      },
      "execution_count": 2,
      "outputs": []
    },
    {
      "cell_type": "code",
      "source": [
        "# compute for an x value\n",
        "f(3)"
      ],
      "metadata": {
        "colab": {
          "base_uri": "https://localhost:8080/"
        },
        "id": "zs5zMTNa4Kv0",
        "outputId": "d22fbf22-6c8f-42b8-ba8c-c2751a953353"
      },
      "execution_count": 3,
      "outputs": [
        {
          "output_type": "execute_result",
          "data": {
            "text/plain": [
              "20"
            ]
          },
          "metadata": {},
          "execution_count": 3
        }
      ]
    },
    {
      "cell_type": "code",
      "source": [
        "# compute for a range x values - ranging from -5 to 5\n",
        "xs = np.arange(-5, 5, 0.25)\n",
        "print(xs)\n",
        "\n",
        "# compute outputs for these x values\n",
        "ys = f(xs)\n",
        "ys"
      ],
      "metadata": {
        "colab": {
          "base_uri": "https://localhost:8080/"
        },
        "id": "gZfPyidj4QMM",
        "outputId": "c1b95708-e158-473a-db40-99c0cd574acf"
      },
      "execution_count": 4,
      "outputs": [
        {
          "output_type": "stream",
          "name": "stdout",
          "text": [
            "[-5.   -4.75 -4.5  -4.25 -4.   -3.75 -3.5  -3.25 -3.   -2.75 -2.5  -2.25\n",
            " -2.   -1.75 -1.5  -1.25 -1.   -0.75 -0.5  -0.25  0.    0.25  0.5   0.75\n",
            "  1.    1.25  1.5   1.75  2.    2.25  2.5   2.75  3.    3.25  3.5   3.75\n",
            "  4.    4.25  4.5   4.75]\n"
          ]
        },
        {
          "output_type": "execute_result",
          "data": {
            "text/plain": [
              "array([100.    ,  91.6875,  83.75  ,  76.1875,  69.    ,  62.1875,\n",
              "        55.75  ,  49.6875,  44.    ,  38.6875,  33.75  ,  29.1875,\n",
              "        25.    ,  21.1875,  17.75  ,  14.6875,  12.    ,   9.6875,\n",
              "         7.75  ,   6.1875,   5.    ,   4.1875,   3.75  ,   3.6875,\n",
              "         4.    ,   4.6875,   5.75  ,   7.1875,   9.    ,  11.1875,\n",
              "        13.75  ,  16.6875,  20.    ,  23.6875,  27.75  ,  32.1875,\n",
              "        37.    ,  42.1875,  47.75  ,  53.6875])"
            ]
          },
          "metadata": {},
          "execution_count": 4
        }
      ]
    },
    {
      "cell_type": "code",
      "source": [
        "# plot the xs and ys\n",
        "plt.plot(xs, ys)\n",
        "plt.show()"
      ],
      "metadata": {
        "colab": {
          "base_uri": "https://localhost:8080/",
          "height": 430
        },
        "id": "PzMFoWWO4h4E",
        "outputId": "6e539a1d-0953-41ed-fb4e-3bd40d64d54b"
      },
      "execution_count": 5,
      "outputs": [
        {
          "output_type": "display_data",
          "data": {
            "text/plain": [
              "<Figure size 640x480 with 1 Axes>"
            ],
            "image/png": "[encoded data removed]"
          },
          "metadata": {}
        }
      ]
    },
    {
      "cell_type": "markdown",
      "source": [
        "we get a parabola"
      ],
      "metadata": {
        "id": "s_da0Gn04sY8"
      }
    },
    {
      "cell_type": "markdown",
      "source": [
        "###What is a derivative?\n",
        "- slope (rise/run): change in Y / change in X\n",
        "-  derivative of a function is an infinitesimal change in the function with respect to one of its variables\n",
        "\n",
        "\n",
        "\n",
        "```\n",
        "( f(x + h) - f(x) ) / h  (h approaches 0)\n",
        "```\n",
        "\n"
      ],
      "metadata": {
        "id": "0YLny_Lr469c"
      }
    },
    {
      "cell_type": "markdown",
      "source": [
        "Lets compute the slope at different x points\n",
        "- postive slope"
      ],
      "metadata": {
        "id": "OLIrVIYD42sc"
      }
    },
    {
      "cell_type": "code",
      "source": [
        "x = 3\n",
        "f(x)"
      ],
      "metadata": {
        "colab": {
          "base_uri": "https://localhost:8080/"
        },
        "id": "DXAvSIZO6N67",
        "outputId": "10b32212-2e20-4f36-d059-f8d983f336ae"
      },
      "execution_count": 6,
      "outputs": [
        {
          "output_type": "execute_result",
          "data": {
            "text/plain": [
              "20"
            ]
          },
          "metadata": {},
          "execution_count": 6
        }
      ]
    },
    {
      "cell_type": "code",
      "source": [
        "# x = 3, and h = 0.00001\n",
        "x = 3\n",
        "h = 0.000001\n",
        "( f(x + h) - f(x) ) / h"
      ],
      "metadata": {
        "colab": {
          "base_uri": "https://localhost:8080/"
        },
        "id": "CRYBb_TT4o3D",
        "outputId": "01e35c33-8457-4ae8-af2f-489505411fb8"
      },
      "execution_count": 7,
      "outputs": [
        {
          "output_type": "execute_result",
          "data": {
            "text/plain": [
              "14.000003002223593"
            ]
          },
          "metadata": {},
          "execution_count": 7
        }
      ]
    },
    {
      "cell_type": "markdown",
      "source": [
        "- negative slope"
      ],
      "metadata": {
        "id": "ejF1Pwby6Zt7"
      }
    },
    {
      "cell_type": "code",
      "source": [
        "# x = -3, and h = 0.00001\n",
        "x = -3\n",
        "h = 0.000001\n",
        "( f(x + h) - f(x) ) / h"
      ],
      "metadata": {
        "colab": {
          "base_uri": "https://localhost:8080/"
        },
        "id": "xrwVySkZ6Y4M",
        "outputId": "77d38994-abc4-4d74-b3f8-9ac40f2d768b"
      },
      "execution_count": 8,
      "outputs": [
        {
          "output_type": "execute_result",
          "data": {
            "text/plain": [
              "-21.999997002808414"
            ]
          },
          "metadata": {},
          "execution_count": 8
        }
      ]
    },
    {
      "cell_type": "markdown",
      "source": [
        "- slope zero"
      ],
      "metadata": {
        "id": "Y9mi0r4G6e0B"
      }
    },
    {
      "cell_type": "code",
      "source": [
        "# x = 2/3, and h = 0.00001\n",
        "x = 2/3\n",
        "h = 0.000001\n",
        "( f(x + h) - f(x) ) / h"
      ],
      "metadata": {
        "colab": {
          "base_uri": "https://localhost:8080/"
        },
        "id": "NQ38v6tn6eMD",
        "outputId": "c119579a-4e7d-48ab-8960-c07329b7718f"
      },
      "execution_count": 9,
      "outputs": [
        {
          "output_type": "execute_result",
          "data": {
            "text/plain": [
              "2.999378523327323e-06"
            ]
          },
          "metadata": {},
          "execution_count": 9
        }
      ]
    },
    {
      "cell_type": "markdown",
      "source": [
        "Look at the plot and map the x and y and the computed slope."
      ],
      "metadata": {
        "id": "K8eiWGJm7RNb"
      }
    },
    {
      "cell_type": "markdown",
      "source": [
        "#### Looking at a more complex example"
      ],
      "metadata": {
        "id": "bzmliGky7pP7"
      }
    },
    {
      "cell_type": "code",
      "source": [
        "## more complex example\n",
        "a = 2.0\n",
        "b = -3.0\n",
        "c = 10.0\n",
        "\n",
        "# the function\n",
        "d = a * b + c\n",
        "\n",
        "print(d)"
      ],
      "metadata": {
        "colab": {
          "base_uri": "https://localhost:8080/"
        },
        "id": "whoPaLcH71mj",
        "outputId": "57f34724-8b81-4d82-eb2c-a5c85bb2933a"
      },
      "execution_count": 10,
      "outputs": [
        {
          "output_type": "stream",
          "name": "stdout",
          "text": [
            "4.0\n"
          ]
        }
      ]
    },
    {
      "cell_type": "code",
      "source": [
        "## inputs\n",
        "a = 2.0\n",
        "b = -3.0\n",
        "c = 10.0\n",
        "\n",
        "# compute expression\n",
        "d1 = a * b + c\n",
        "\n",
        "# change factor\n",
        "h = 0.0001\n",
        "a+=h  # bumping up a with a tiny value, but since b is negative, we end up decreasing d\n",
        "\n",
        "# compute d2\n",
        "d2 = a * b + c\n",
        "\n",
        "print('d1', d1)\n",
        "print('d2', d2)\n",
        "#print(f\"the slope is: {( d2 - d1 ) / h}\")"
      ],
      "metadata": {
        "colab": {
          "base_uri": "https://localhost:8080/"
        },
        "id": "QqquSRNv8F3z",
        "outputId": "4c1c4431-428a-486f-bf04-48ce0aa97fb5"
      },
      "execution_count": 11,
      "outputs": [
        {
          "output_type": "stream",
          "name": "stdout",
          "text": [
            "d1 4.0\n",
            "d2 3.999699999999999\n"
          ]
        }
      ]
    },
    {
      "cell_type": "code",
      "source": [],
      "metadata": {
        "id": "Uw1hU-tpAPLK"
      },
      "execution_count": 11,
      "outputs": []
    },
    {
      "cell_type": "markdown",
      "source": [
        "Think through why d2 went down!!\n"
      ],
      "metadata": {
        "id": "610HIfno9p7S"
      }
    },
    {
      "cell_type": "code",
      "source": [
        "print(f\"the slope is: {( d2 - d1 ) / h}\")"
      ],
      "metadata": {
        "colab": {
          "base_uri": "https://localhost:8080/"
        },
        "id": "0M1RoWpq9tOa",
        "outputId": "aa8954db-5d58-47fa-edeb-861afc363fe1"
      },
      "execution_count": 12,
      "outputs": [
        {
          "output_type": "stream",
          "name": "stdout",
          "text": [
            "the slope is: -3.000000000010772\n"
          ]
        }
      ]
    },
    {
      "cell_type": "markdown",
      "source": [
        "\n",
        "Notice, we change `a` by `h`, and then we compute `d`, and slope is with respect to change in `a`, which means we compute here derivate of f() with respect to `a`, and which is basically `b` and we observe the computed derivative matches `b`"
      ],
      "metadata": {
        "id": "15VCqYE_AO56"
      }
    },
    {
      "cell_type": "code",
      "source": [
        "## inputs\n",
        "a = 2.0\n",
        "b = -3.0\n",
        "c = 10.0\n",
        "\n",
        "# compute expression\n",
        "d1 = a * b + c\n",
        "\n",
        "# change factor\n",
        "h = 0.0001\n",
        "b+=h  # bumping up b, so we are basically adding up to d, so we end up increasing d\n",
        "\n",
        "# compute d2\n",
        "d2 = a * b + c\n",
        "\n",
        "print('d1', d1)\n",
        "print('d2', d2)\n",
        "print(f\"the slope is: {( d2 - d1 ) / h}\")"
      ],
      "metadata": {
        "colab": {
          "base_uri": "https://localhost:8080/"
        },
        "id": "KOOekiy--Okd",
        "outputId": "9d1b7a49-1679-4939-942e-8db02550bfbf"
      },
      "execution_count": 13,
      "outputs": [
        {
          "output_type": "stream",
          "name": "stdout",
          "text": [
            "d1 4.0\n",
            "d2 4.0002\n",
            "the slope is: 2.0000000000042206\n"
          ]
        }
      ]
    },
    {
      "cell_type": "markdown",
      "source": [
        "we change `b` by `h`, and then we compute `d`, and slope is with respect to change in `b`, which means we compute here derivate of f() with respect to `b`, and which is basically `a` and we observe the computed derivative matches `a`"
      ],
      "metadata": {
        "id": "4HPQdlt1_bbS"
      }
    },
    {
      "cell_type": "code",
      "source": [
        "## inputs\n",
        "a = 2.0\n",
        "b = -3.0\n",
        "c = 10.0\n",
        "\n",
        "# compute expression\n",
        "d1 = a * b + c\n",
        "\n",
        "# change factor\n",
        "h = 0.0001\n",
        "c+=h  # bumping up c, we end up increasing d\n",
        "\n",
        "# compute d2\n",
        "d2 = a * b + c\n",
        "\n",
        "print('d1', d1)\n",
        "print('d2', d2)\n",
        "print(f\"the slope is: {( d2 - d1 ) / h}\")"
      ],
      "metadata": {
        "colab": {
          "base_uri": "https://localhost:8080/"
        },
        "id": "58vsna6o-Q6C",
        "outputId": "b29c79e9-5cc6-49b7-dba9-126330fb6864"
      },
      "execution_count": 14,
      "outputs": [
        {
          "output_type": "stream",
          "name": "stdout",
          "text": [
            "d1 4.0\n",
            "d2 4.0001\n",
            "the slope is: 0.9999999999976694\n"
          ]
        }
      ]
    },
    {
      "cell_type": "markdown",
      "source": [
        "Here the computed slope of f() with respect to `c` is 0.9999, and that matches expected derivative of `c` from experession to be 1"
      ],
      "metadata": {
        "id": "z47QQW-nAQjK"
      }
    },
    {
      "cell_type": "markdown",
      "source": [
        "## Moving to Neural Networks\n",
        "\n",
        "Note Neural Networks are complex/massive mathematical functions, and hence we need some data structure to maintain these expression"
      ],
      "metadata": {
        "id": "cy-G4nXSAwJx"
      }
    },
    {
      "cell_type": "markdown",
      "source": [
        "Skeleton of simple `Value` object"
      ],
      "metadata": {
        "id": "fbSFWTy4BIL5"
      }
    },
    {
      "cell_type": "code",
      "source": [
        "class Value:\n",
        "\n",
        "    def __init__(self, data):\n",
        "        self.data = data\n",
        "\n",
        "    def __repr__(self):  # python will internally use the repr function to return the string representation\n",
        "        return f\"Value(data={self.data})\"\n",
        "\n",
        "a = Value(2.0)\n",
        "a"
      ],
      "metadata": {
        "colab": {
          "base_uri": "https://localhost:8080/"
        },
        "id": "arcVX7UuBUBx",
        "outputId": "716db650-d821-428b-d899-63648d95f32b"
      },
      "execution_count": 15,
      "outputs": [
        {
          "output_type": "execute_result",
          "data": {
            "text/plain": [
              "Value(data=2.0)"
            ]
          },
          "metadata": {},
          "execution_count": 15
        }
      ]
    },
    {
      "cell_type": "markdown",
      "source": [
        "So, we have here a `Value` object with data 2.0"
      ],
      "metadata": {
        "id": "yxWpZfe8CCe5"
      }
    },
    {
      "cell_type": "code",
      "source": [
        "## what happens if youskip over the __repr__ method, you get some cryptic output when create an object\n",
        "class Value:\n",
        "\n",
        "    def __init__(self, data):\n",
        "        self.data = data\n",
        "\n",
        "    # def __repr__(self):\n",
        "    #     return f\"Value(data={self.data})\"\n",
        "\n",
        "a = Value(2.0)\n",
        "a"
      ],
      "metadata": {
        "colab": {
          "base_uri": "https://localhost:8080/"
        },
        "id": "OP__AKa6EP3J",
        "outputId": "1de9268b-9ace-4a5b-a045-cc53f281fd17"
      },
      "execution_count": 16,
      "outputs": [
        {
          "output_type": "execute_result",
          "data": {
            "text/plain": [
              "<__main__.Value at 0x7edb04342a40>"
            ]
          },
          "metadata": {},
          "execution_count": 16
        }
      ]
    },
    {
      "cell_type": "markdown",
      "source": [
        "the __repr__ method helps printing out a nicer meaningful output"
      ],
      "metadata": {
        "id": "xRnsio70Exrg"
      }
    },
    {
      "cell_type": "markdown",
      "source": [
        "Implementing some operations"
      ],
      "metadata": {
        "id": "gLvMzTOtE3Lo"
      }
    },
    {
      "cell_type": "code",
      "source": [
        "# implementing expression methods\n",
        "\n",
        "class Value:\n",
        "\n",
        "    def __init__(self, data):\n",
        "        self.data = data\n",
        "\n",
        "    def __repr__(self):\n",
        "        return f\"Value(data={self.data})\"\n",
        "\n",
        "    def __add__(self, other):\n",
        "        out = Value(self.data + other.data)\n",
        "        return out\n",
        "\n",
        "    def __mul__(self, other):\n",
        "        out = Value(self.data * other.data)\n",
        "        return out\n",
        "\n",
        "a = Value(2.0)\n",
        "print('a', a)\n",
        "b = Value(-3.0)\n",
        "print('b', b)\n",
        "c = Value(10.0)\n",
        "print('c', c)\n",
        "print()\n",
        "print('a + b: ', a + b)\n",
        "print('a * b: ', a * b)\n",
        "print('a * b + c: ', a * b + c)"
      ],
      "metadata": {
        "colab": {
          "base_uri": "https://localhost:8080/"
        },
        "id": "c1o-d4pvCCCZ",
        "outputId": "be356813-caae-40b9-dbd0-24e7b51124ab"
      },
      "execution_count": 17,
      "outputs": [
        {
          "output_type": "stream",
          "name": "stdout",
          "text": [
            "a Value(data=2.0)\n",
            "b Value(data=-3.0)\n",
            "c Value(data=10.0)\n",
            "\n",
            "a + b:  Value(data=-1.0)\n",
            "a * b:  Value(data=-6.0)\n",
            "a * b + c:  Value(data=4.0)\n"
          ]
        }
      ]
    },
    {
      "cell_type": "markdown",
      "source": [
        "What we are missing is the connective tissue of these expression. So inorder to keep up with expression graph, we need to use some pointers, using here `self.prev`"
      ],
      "metadata": {
        "id": "2cXutcrbE7wx"
      }
    },
    {
      "cell_type": "code",
      "source": [
        "class Value:\n",
        "\n",
        "    def __init__(self, data, _children=(), _op=''):\n",
        "        self.data = data\n",
        "        self.prev = set(_children)\n",
        "        self._op = _op\n",
        "\n",
        "    def __repr__(self):\n",
        "        return f\"Value(data={self.data})\"\n",
        "\n",
        "    def __add__(self, other):\n",
        "        out = Value(self.data + other.data, (self, other), '+') # add to children set, notice we using Value object\n",
        "        return out\n",
        "\n",
        "    def __mul__(self, other):\n",
        "        out = Value(self.data * other.data, (self, other), '*')\n",
        "        return out\n",
        "\n",
        "a = Value(2.0)\n",
        "b = Value(-3.0)\n",
        "c = Value(10.0)\n",
        "d = a * b + c\n",
        "print('d:', d)"
      ],
      "metadata": {
        "colab": {
          "base_uri": "https://localhost:8080/"
        },
        "id": "yO7Rlpt9B_WI",
        "outputId": "b4c3c593-d25b-42af-dc8a-54c63076b708"
      },
      "execution_count": 18,
      "outputs": [
        {
          "output_type": "stream",
          "name": "stdout",
          "text": [
            "d: Value(data=4.0)\n"
          ]
        }
      ]
    },
    {
      "cell_type": "code",
      "source": [
        "d.prev"
      ],
      "metadata": {
        "colab": {
          "base_uri": "https://localhost:8080/"
        },
        "id": "qt394rhDGaDJ",
        "outputId": "a7db6bc7-19bc-4907-e4bf-ef2be02632a4"
      },
      "execution_count": 19,
      "outputs": [
        {
          "output_type": "execute_result",
          "data": {
            "text/plain": [
              "{Value(data=-6.0), Value(data=10.0)}"
            ]
          },
          "metadata": {},
          "execution_count": 19
        }
      ]
    },
    {
      "cell_type": "code",
      "source": [
        "b.prev"
      ],
      "metadata": {
        "colab": {
          "base_uri": "https://localhost:8080/"
        },
        "id": "dCPooi8EGk5o",
        "outputId": "4da46d85-3d22-4cf6-8f10-d750c26f7f53"
      },
      "execution_count": 20,
      "outputs": [
        {
          "output_type": "execute_result",
          "data": {
            "text/plain": [
              "set()"
            ]
          },
          "metadata": {},
          "execution_count": 20
        }
      ]
    },
    {
      "cell_type": "code",
      "source": [
        "d._op"
      ],
      "metadata": {
        "colab": {
          "base_uri": "https://localhost:8080/",
          "height": 37
        },
        "id": "GlSESF8WGonX",
        "outputId": "706a9b32-d06c-4896-8db3-ed161a45905e"
      },
      "execution_count": 21,
      "outputs": [
        {
          "output_type": "execute_result",
          "data": {
            "text/plain": [
              "'+'"
            ],
            "application/vnd.google.colaboratory.intrinsic+json": {
              "type": "string"
            }
          },
          "metadata": {},
          "execution_count": 21
        }
      ]
    },
    {
      "cell_type": "markdown",
      "source": [
        "Now, since these values are going to get larger, we would want to visualize our expression graph"
      ],
      "metadata": {
        "id": "sV9Q4jrrH794"
      }
    },
    {
      "cell_type": "code",
      "source": [
        "from graphviz import Digraph\n",
        "\n",
        "def trace(root):\n",
        "    # build sets of all nodes and edges in graph\n",
        "    nodes, edges = set(), set()\n",
        "    def build(v):\n",
        "        if v not in nodes:\n",
        "            nodes.add(v)\n",
        "            for child in v.prev:\n",
        "                #print(child)\n",
        "                edges.add((child, v))\n",
        "                build(child)\n",
        "    build(root)\n",
        "    return nodes, edges\n"
      ],
      "metadata": {
        "id": "vZK26tAJHgs_"
      },
      "execution_count": 22,
      "outputs": []
    },
    {
      "cell_type": "code",
      "source": [
        "print('d:', d)\n",
        "print()\n",
        "d_nodes, d_edges = trace(d)\n",
        "d_nodes, d_edges"
      ],
      "metadata": {
        "colab": {
          "base_uri": "https://localhost:8080/"
        },
        "id": "OjjGRLozi0RK",
        "outputId": "8ffbbdec-95e4-46cd-d8a7-55fbfb9c0efc"
      },
      "execution_count": 23,
      "outputs": [
        {
          "output_type": "stream",
          "name": "stdout",
          "text": [
            "d: Value(data=4.0)\n",
            "\n"
          ]
        },
        {
          "output_type": "execute_result",
          "data": {
            "text/plain": [
              "({Value(data=-3.0),\n",
              "  Value(data=-6.0),\n",
              "  Value(data=10.0),\n",
              "  Value(data=2.0),\n",
              "  Value(data=4.0)},\n",
              " {(Value(data=-3.0), Value(data=-6.0)),\n",
              "  (Value(data=-6.0), Value(data=4.0)),\n",
              "  (Value(data=10.0), Value(data=4.0)),\n",
              "  (Value(data=2.0), Value(data=-6.0))})"
            ]
          },
          "metadata": {},
          "execution_count": 23
        }
      ]
    },
    {
      "cell_type": "code",
      "source": [
        "# we will be using id of the value objects, let look at these\n",
        "for n in d_nodes:\n",
        "    print(str(id(n)))\n",
        "    print(n._op)"
      ],
      "metadata": {
        "colab": {
          "base_uri": "https://localhost:8080/"
        },
        "id": "0sWNswfHi6br",
        "outputId": "b1da8563-dadc-4561-c4c5-e54ac052def7"
      },
      "execution_count": 24,
      "outputs": [
        {
          "output_type": "stream",
          "name": "stdout",
          "text": [
            "139479133469184\n",
            "*\n",
            "139479133877776\n",
            "\n",
            "139479133876336\n",
            "+\n",
            "139479133868176\n",
            "\n",
            "139479133871392\n",
            "\n"
          ]
        }
      ]
    },
    {
      "cell_type": "code",
      "source": [
        "## vizualization part\n",
        "def draw_dot(root):\n",
        "    dot = Digraph(format='svg', graph_attr={'rankdir':'LR'}) # LR means left to right\n",
        "\n",
        "    nodes, edges = trace(root)\n",
        "\n",
        "    for n in nodes:\n",
        "        uid = str(id(n))\n",
        "\n",
        "        # for any value in the graph, create a rectangular ('record') node for  it\n",
        "        dot.node(name=uid, label=\"{ data %.4f }\" % (n.data, ), shape='record')\n",
        "        if n._op:\n",
        "            # if this value is a result of some operation, create an op node for it\n",
        "            dot.node(name=uid + n._op, label=n._op)\n",
        "            # and connect this node to it\n",
        "            dot.edge(uid + n._op, uid)\n",
        "\n",
        "    for n1, n2 in edges:\n",
        "        # connect n1 to op node of n2\n",
        "        dot.edge(str(id(n1)), str(id(n2)) + n2._op)\n",
        "\n",
        "    return dot\n",
        "\n"
      ],
      "metadata": {
        "id": "LAueyA7dh5z8"
      },
      "execution_count": 25,
      "outputs": []
    },
    {
      "cell_type": "code",
      "source": [
        "draw_dot(d)"
      ],
      "metadata": {
        "colab": {
          "base_uri": "https://localhost:8080/",
          "height": 190
        },
        "id": "1L5K9JR0fogT",
        "outputId": "16b86a41-2ca9-4014-a7fa-80408fa83dd9"
      },
      "execution_count": 26,
      "outputs": [
        {
          "output_type": "execute_result",
          "data": {
            "image/svg+xml": "<?xml version=\"1.0\" encoding=\"UTF-8\" standalone=\"no\"?>\n<!DOCTYPE svg PUBLIC \"-//W3C//DTD SVG 1.1//EN\"\n \"http://www.w3.org/Graphics/SVG/1.1/DTD/svg11.dtd\">\n<!-- Generated by graphviz version 2.43.0 (0)\n -->\n<!-- Title: %3 Pages: 1 -->\n<svg width=\"512pt\" height=\"127pt\"\n viewBox=\"0.00 0.00 512.00 127.00\" xmlns=\"http://www.w3.org/2000/svg\" xmlns:xlink=\"http://www.w3.org/1999/xlink\">\n<g id=\"graph0\" class=\"graph\" transform=\"scale(1 1) rotate(0) translate(4 123)\">\n<title>%3</title>\n<polygon fill=\"white\" stroke=\"transparent\" points=\"-4,4 -4,-123 508,-123 508,4 -4,4\"/>\n<!-- 139479133469184 -->\n<g id=\"node1\" class=\"node\">\n<title>139479133469184</title>\n<polygon fill=\"none\" stroke=\"black\" points=\"212,-27.5 212,-63.5 297,-63.5 297,-27.5 212,-27.5\"/>\n<text text-anchor=\"middle\" x=\"254.5\" y=\"-41.8\" font-family=\"Times,serif\" font-size=\"14.00\">data &#45;6.0000</text>\n</g>\n<!-- 139479133876336+ -->\n<g id=\"node5\" class=\"node\">\n<title>139479133876336+</title>\n<ellipse fill=\"none\" stroke=\"black\" cx=\"361\" cy=\"-72.5\" rx=\"27\" ry=\"18\"/>\n<text text-anchor=\"middle\" x=\"361\" y=\"-68.8\" font-family=\"Times,serif\" font-size=\"14.00\">+</text>\n</g>\n<!-- 139479133469184&#45;&gt;139479133876336+ -->\n<g id=\"edge6\" class=\"edge\">\n<title>139479133469184&#45;&gt;139479133876336+</title>\n<path fill=\"none\" stroke=\"black\" d=\"M297.1,-56.25C306.61,-58.71 316.62,-61.29 325.78,-63.66\"/>\n<polygon fill=\"black\" stroke=\"black\" points=\"325.13,-67.11 335.69,-66.22 326.88,-60.33 325.13,-67.11\"/>\n</g>\n<!-- 139479133469184* -->\n<g id=\"node2\" class=\"node\">\n<title>139479133469184*</title>\n<ellipse fill=\"none\" stroke=\"black\" cx=\"148\" cy=\"-45.5\" rx=\"27\" ry=\"18\"/>\n<text text-anchor=\"middle\" x=\"148\" y=\"-41.8\" font-family=\"Times,serif\" font-size=\"14.00\">*</text>\n</g>\n<!-- 139479133469184*&#45;&gt;139479133469184 -->\n<g id=\"edge1\" class=\"edge\">\n<title>139479133469184*&#45;&gt;139479133469184</title>\n<path fill=\"none\" stroke=\"black\" d=\"M175.1,-45.5C183.27,-45.5 192.59,-45.5 201.88,-45.5\"/>\n<polygon fill=\"black\" stroke=\"black\" points=\"201.89,-49 211.89,-45.5 201.89,-42 201.89,-49\"/>\n</g>\n<!-- 139479133877776 -->\n<g id=\"node3\" class=\"node\">\n<title>139479133877776</title>\n<polygon fill=\"none\" stroke=\"black\" points=\"0,-55.5 0,-91.5 85,-91.5 85,-55.5 0,-55.5\"/>\n<text text-anchor=\"middle\" x=\"42.5\" y=\"-69.8\" font-family=\"Times,serif\" font-size=\"14.00\">data &#45;3.0000</text>\n</g>\n<!-- 139479133877776&#45;&gt;139479133469184* -->\n<g id=\"edge4\" class=\"edge\">\n<title>139479133877776&#45;&gt;139479133469184*</title>\n<path fill=\"none\" stroke=\"black\" d=\"M85,-62.27C94.32,-59.75 104.1,-57.11 113.06,-54.68\"/>\n<polygon fill=\"black\" stroke=\"black\" points=\"114.03,-58.04 122.77,-52.05 112.2,-51.29 114.03,-58.04\"/>\n</g>\n<!-- 139479133876336 -->\n<g id=\"node4\" class=\"node\">\n<title>139479133876336</title>\n<polygon fill=\"none\" stroke=\"black\" points=\"424,-54.5 424,-90.5 504,-90.5 504,-54.5 424,-54.5\"/>\n<text text-anchor=\"middle\" x=\"464\" y=\"-68.8\" font-family=\"Times,serif\" font-size=\"14.00\">data 4.0000</text>\n</g>\n<!-- 139479133876336+&#45;&gt;139479133876336 -->\n<g id=\"edge2\" class=\"edge\">\n<title>139479133876336+&#45;&gt;139479133876336</title>\n<path fill=\"none\" stroke=\"black\" d=\"M388.01,-72.5C395.82,-72.5 404.67,-72.5 413.48,-72.5\"/>\n<polygon fill=\"black\" stroke=\"black\" points=\"413.73,-76 423.73,-72.5 413.73,-69 413.73,-76\"/>\n</g>\n<!-- 139479133868176 -->\n<g id=\"node6\" class=\"node\">\n<title>139479133868176</title>\n<polygon fill=\"none\" stroke=\"black\" points=\"211,-82.5 211,-118.5 298,-118.5 298,-82.5 211,-82.5\"/>\n<text text-anchor=\"middle\" x=\"254.5\" y=\"-96.8\" font-family=\"Times,serif\" font-size=\"14.00\">data 10.0000</text>\n</g>\n<!-- 139479133868176&#45;&gt;139479133876336+ -->\n<g id=\"edge3\" class=\"edge\">\n<title>139479133868176&#45;&gt;139479133876336+</title>\n<path fill=\"none\" stroke=\"black\" d=\"M298,-89.11C307.18,-86.65 316.78,-84.08 325.6,-81.72\"/>\n<polygon fill=\"black\" stroke=\"black\" points=\"326.78,-85.02 335.53,-79.06 324.97,-78.26 326.78,-85.02\"/>\n</g>\n<!-- 139479133871392 -->\n<g id=\"node7\" class=\"node\">\n<title>139479133871392</title>\n<polygon fill=\"none\" stroke=\"black\" points=\"2.5,-0.5 2.5,-36.5 82.5,-36.5 82.5,-0.5 2.5,-0.5\"/>\n<text text-anchor=\"middle\" x=\"42.5\" y=\"-14.8\" font-family=\"Times,serif\" font-size=\"14.00\">data 2.0000</text>\n</g>\n<!-- 139479133871392&#45;&gt;139479133469184* -->\n<g id=\"edge5\" class=\"edge\">\n<title>139479133871392&#45;&gt;139479133469184*</title>\n<path fill=\"none\" stroke=\"black\" d=\"M82.63,-28.71C92.47,-31.27 102.95,-34.01 112.54,-36.51\"/>\n<polygon fill=\"black\" stroke=\"black\" points=\"111.96,-39.98 122.52,-39.11 113.73,-33.2 111.96,-39.98\"/>\n</g>\n</g>\n</svg>\n",
            "text/plain": [
              "<graphviz.graphs.Digraph at 0x7edb07f216c0>"
            ]
          },
          "metadata": {},
          "execution_count": 26
        }
      ]
    },
    {
      "cell_type": "code",
      "source": [],
      "metadata": {
        "id": "48YK9C0bmmFg"
      },
      "execution_count": 26,
      "outputs": []
    },
    {
      "cell_type": "markdown",
      "source": [
        "That looks great!! We got this"
      ],
      "metadata": {
        "id": "I7dhs4ywk34S"
      }
    },
    {
      "cell_type": "markdown",
      "source": [
        "lets tweak:\n",
        "- the `Value class` to enhance the graph to include the labels(variable names) visble in the graph\n",
        "- the inputs"
      ],
      "metadata": {
        "id": "YEUQXFQGlFh7"
      }
    },
    {
      "cell_type": "code",
      "source": [
        "class Value:\n",
        "\n",
        "    def __init__(self, data, _children=(), _op='', label=''):\n",
        "        self.data = data\n",
        "        self.prev = set(_children)\n",
        "        self._op = _op\n",
        "        self.label = label\n",
        "\n",
        "    def __repr__(self):\n",
        "        return f\"Value(data={self.data})\"\n",
        "\n",
        "    def __add__(self, other):\n",
        "        out = Value(self.data + other.data, (self, other), '+') # add to children set, notice we using Value object\n",
        "        return out\n",
        "\n",
        "    def __mul__(self, other):\n",
        "        out = Value(self.data * other.data, (self, other), '*')\n",
        "        return out\n",
        "\n",
        "# inputs\n",
        "a = Value(2.0, label='a')\n",
        "b = Value(-3.0, label='b')\n",
        "c = Value(10.0, label='c')\n",
        "e = a * b; e.label='e'\n",
        "d = e + c; d.label='d'\n",
        "\n",
        "\n",
        "\n",
        "## vizualization part\n",
        "def draw_dot(root):\n",
        "    dot = Digraph(format='svg', graph_attr={'rankdir':'LR'}) # LR means left to right\n",
        "\n",
        "    nodes, edges = trace(root)\n",
        "\n",
        "    for n in nodes:\n",
        "        uid = str(id(n))\n",
        "\n",
        "        # for any value in the graph, create a rectangular ('record') node for  it\n",
        "        dot.node(name=uid, label=\"{ %s | data %.4f }\" % (n.label, n.data, ), shape='record')\n",
        "        if n._op:\n",
        "            # if this value is a result of some operation, create an op node for it\n",
        "            dot.node(name=uid + n._op, label=n._op)\n",
        "            # and connect this node to it\n",
        "            dot.edge(uid + n._op, uid)\n",
        "\n",
        "    for n1, n2 in edges:\n",
        "        # connect n1 to op node of n2\n",
        "        dot.edge(str(id(n1)), str(id(n2)) + n2._op)\n",
        "\n",
        "    return dot"
      ],
      "metadata": {
        "id": "oGnt6g04kr9h"
      },
      "execution_count": 27,
      "outputs": []
    },
    {
      "cell_type": "code",
      "source": [
        "# Visualize d\n",
        "draw_dot(d)"
      ],
      "metadata": {
        "colab": {
          "base_uri": "https://localhost:8080/",
          "height": 192
        },
        "id": "etDKCtC5l6rq",
        "outputId": "d1ce0052-e8e6-45fb-8e94-e307b2fe1faa"
      },
      "execution_count": 28,
      "outputs": [
        {
          "output_type": "execute_result",
          "data": {
            "image/svg+xml": "<?xml version=\"1.0\" encoding=\"UTF-8\" standalone=\"no\"?>\n<!DOCTYPE svg PUBLIC \"-//W3C//DTD SVG 1.1//EN\"\n \"http://www.w3.org/Graphics/SVG/1.1/DTD/svg11.dtd\">\n<!-- Generated by graphviz version 2.43.0 (0)\n -->\n<!-- Title: %3 Pages: 1 -->\n<svg width=\"581pt\" height=\"128pt\"\n viewBox=\"0.00 0.00 581.00 128.00\" xmlns=\"http://www.w3.org/2000/svg\" xmlns:xlink=\"http://www.w3.org/1999/xlink\">\n<g id=\"graph0\" class=\"graph\" transform=\"scale(1 1) rotate(0) translate(4 124)\">\n<title>%3</title>\n<polygon fill=\"white\" stroke=\"transparent\" points=\"-4,4 -4,-124 577,-124 577,4 -4,4\"/>\n<!-- 139479134144688 -->\n<g id=\"node1\" class=\"node\">\n<title>139479134144688</title>\n<polygon fill=\"none\" stroke=\"black\" points=\"470,-27.5 470,-63.5 573,-63.5 573,-27.5 470,-27.5\"/>\n<text text-anchor=\"middle\" x=\"481.5\" y=\"-41.8\" font-family=\"Times,serif\" font-size=\"14.00\">d</text>\n<polyline fill=\"none\" stroke=\"black\" points=\"493,-27.5 493,-63.5 \"/>\n<text text-anchor=\"middle\" x=\"533\" y=\"-41.8\" font-family=\"Times,serif\" font-size=\"14.00\">data 4.0000</text>\n</g>\n<!-- 139479134144688+ -->\n<g id=\"node2\" class=\"node\">\n<title>139479134144688+</title>\n<ellipse fill=\"none\" stroke=\"black\" cx=\"407\" cy=\"-45.5\" rx=\"27\" ry=\"18\"/>\n<text text-anchor=\"middle\" x=\"407\" y=\"-41.8\" font-family=\"Times,serif\" font-size=\"14.00\">+</text>\n</g>\n<!-- 139479134144688+&#45;&gt;139479134144688 -->\n<g id=\"edge1\" class=\"edge\">\n<title>139479134144688+&#45;&gt;139479134144688</title>\n<path fill=\"none\" stroke=\"black\" d=\"M434.09,-45.5C441.83,-45.5 450.64,-45.5 459.61,-45.5\"/>\n<polygon fill=\"black\" stroke=\"black\" points=\"459.76,-49 469.76,-45.5 459.76,-42 459.76,-49\"/>\n</g>\n<!-- 139479134144832 -->\n<g id=\"node3\" class=\"node\">\n<title>139479134144832</title>\n<polygon fill=\"none\" stroke=\"black\" points=\"235,-55.5 235,-91.5 343,-91.5 343,-55.5 235,-55.5\"/>\n<text text-anchor=\"middle\" x=\"246.5\" y=\"-69.8\" font-family=\"Times,serif\" font-size=\"14.00\">e</text>\n<polyline fill=\"none\" stroke=\"black\" points=\"258,-55.5 258,-91.5 \"/>\n<text text-anchor=\"middle\" x=\"300.5\" y=\"-69.8\" font-family=\"Times,serif\" font-size=\"14.00\">data &#45;6.0000</text>\n</g>\n<!-- 139479134144832&#45;&gt;139479134144688+ -->\n<g id=\"edge4\" class=\"edge\">\n<title>139479134144832&#45;&gt;139479134144688+</title>\n<path fill=\"none\" stroke=\"black\" d=\"M343.25,-60.65C352.84,-58.33 362.6,-55.98 371.48,-53.83\"/>\n<polygon fill=\"black\" stroke=\"black\" points=\"372.54,-57.18 381.43,-51.43 370.89,-50.37 372.54,-57.18\"/>\n</g>\n<!-- 139479134144832* -->\n<g id=\"node4\" class=\"node\">\n<title>139479134144832*</title>\n<ellipse fill=\"none\" stroke=\"black\" cx=\"171\" cy=\"-73.5\" rx=\"27\" ry=\"18\"/>\n<text text-anchor=\"middle\" x=\"171\" y=\"-69.8\" font-family=\"Times,serif\" font-size=\"14.00\">*</text>\n</g>\n<!-- 139479134144832*&#45;&gt;139479134144832 -->\n<g id=\"edge2\" class=\"edge\">\n<title>139479134144832*&#45;&gt;139479134144832</title>\n<path fill=\"none\" stroke=\"black\" d=\"M198.03,-73.5C206.08,-73.5 215.32,-73.5 224.74,-73.5\"/>\n<polygon fill=\"black\" stroke=\"black\" points=\"224.99,-77 234.99,-73.5 224.99,-70 224.99,-77\"/>\n</g>\n<!-- 139479134144448 -->\n<g id=\"node5\" class=\"node\">\n<title>139479134144448</title>\n<polygon fill=\"none\" stroke=\"black\" points=\"2.5,-83.5 2.5,-119.5 105.5,-119.5 105.5,-83.5 2.5,-83.5\"/>\n<text text-anchor=\"middle\" x=\"14\" y=\"-97.8\" font-family=\"Times,serif\" font-size=\"14.00\">a</text>\n<polyline fill=\"none\" stroke=\"black\" points=\"25.5,-83.5 25.5,-119.5 \"/>\n<text text-anchor=\"middle\" x=\"65.5\" y=\"-97.8\" font-family=\"Times,serif\" font-size=\"14.00\">data 2.0000</text>\n</g>\n<!-- 139479134144448&#45;&gt;139479134144832* -->\n<g id=\"edge6\" class=\"edge\">\n<title>139479134144448&#45;&gt;139479134144832*</title>\n<path fill=\"none\" stroke=\"black\" d=\"M105.78,-89.14C115.85,-86.68 126.2,-84.16 135.58,-81.88\"/>\n<polygon fill=\"black\" stroke=\"black\" points=\"136.41,-85.28 145.3,-79.51 134.76,-78.48 136.41,-85.28\"/>\n</g>\n<!-- 139479134144976 -->\n<g id=\"node6\" class=\"node\">\n<title>139479134144976</title>\n<polygon fill=\"none\" stroke=\"black\" points=\"0,-28.5 0,-64.5 108,-64.5 108,-28.5 0,-28.5\"/>\n<text text-anchor=\"middle\" x=\"11.5\" y=\"-42.8\" font-family=\"Times,serif\" font-size=\"14.00\">b</text>\n<polyline fill=\"none\" stroke=\"black\" points=\"23,-28.5 23,-64.5 \"/>\n<text text-anchor=\"middle\" x=\"65.5\" y=\"-42.8\" font-family=\"Times,serif\" font-size=\"14.00\">data &#45;3.0000</text>\n</g>\n<!-- 139479134144976&#45;&gt;139479134144832* -->\n<g id=\"edge3\" class=\"edge\">\n<title>139479134144976&#45;&gt;139479134144832*</title>\n<path fill=\"none\" stroke=\"black\" d=\"M108.12,-58.97C117.33,-61.13 126.68,-63.33 135.24,-65.34\"/>\n<polygon fill=\"black\" stroke=\"black\" points=\"134.68,-68.8 145.21,-67.68 136.28,-61.99 134.68,-68.8\"/>\n</g>\n<!-- 139479134144496 -->\n<g id=\"node7\" class=\"node\">\n<title>139479134144496</title>\n<polygon fill=\"none\" stroke=\"black\" points=\"234,-0.5 234,-36.5 344,-36.5 344,-0.5 234,-0.5\"/>\n<text text-anchor=\"middle\" x=\"245.5\" y=\"-14.8\" font-family=\"Times,serif\" font-size=\"14.00\">c</text>\n<polyline fill=\"none\" stroke=\"black\" points=\"257,-0.5 257,-36.5 \"/>\n<text text-anchor=\"middle\" x=\"300.5\" y=\"-14.8\" font-family=\"Times,serif\" font-size=\"14.00\">data 10.0000</text>\n</g>\n<!-- 139479134144496&#45;&gt;139479134144688+ -->\n<g id=\"edge5\" class=\"edge\">\n<title>139479134144496&#45;&gt;139479134144688+</title>\n<path fill=\"none\" stroke=\"black\" d=\"M344.26,-31.13C353.49,-33.28 362.84,-35.45 371.37,-37.44\"/>\n<polygon fill=\"black\" stroke=\"black\" points=\"370.79,-40.9 381.32,-39.76 372.38,-34.08 370.79,-40.9\"/>\n</g>\n</g>\n</svg>\n",
            "text/plain": [
              "<graphviz.graphs.Digraph at 0x7edb043ea050>"
            ]
          },
          "metadata": {},
          "execution_count": 28
        }
      ]
    },
    {
      "cell_type": "code",
      "source": [
        "# making the expression a level deeper, by adding output as `L`\n",
        "a = Value(2.0, label='a')\n",
        "b = Value(-3.0, label='b')\n",
        "c = Value(10.0, label='c')\n",
        "e = a * b; e.label='e'\n",
        "d = e + c; d.label='d'\n",
        "f = Value(-2.0, label='f')\n",
        "L = d * f; L.label='L'\n",
        "\n",
        "draw_dot(L)"
      ],
      "metadata": {
        "colab": {
          "base_uri": "https://localhost:8080/",
          "height": 192
        },
        "id": "-aAN2Qael_r5",
        "outputId": "f4d8ce98-5580-4f5b-fff4-348db1963e77"
      },
      "execution_count": 29,
      "outputs": [
        {
          "output_type": "execute_result",
          "data": {
            "image/svg+xml": "<?xml version=\"1.0\" encoding=\"UTF-8\" standalone=\"no\"?>\n<!DOCTYPE svg PUBLIC \"-//W3C//DTD SVG 1.1//EN\"\n \"http://www.w3.org/Graphics/SVG/1.1/DTD/svg11.dtd\">\n<!-- Generated by graphviz version 2.43.0 (0)\n -->\n<!-- Title: %3 Pages: 1 -->\n<svg width=\"820pt\" height=\"128pt\"\n viewBox=\"0.00 0.00 820.00 128.00\" xmlns=\"http://www.w3.org/2000/svg\" xmlns:xlink=\"http://www.w3.org/1999/xlink\">\n<g id=\"graph0\" class=\"graph\" transform=\"scale(1 1) rotate(0) translate(4 124)\">\n<title>%3</title>\n<polygon fill=\"white\" stroke=\"transparent\" points=\"-4,4 -4,-124 816,-124 816,4 -4,4\"/>\n<!-- 139479134154240 -->\n<g id=\"node1\" class=\"node\">\n<title>139479134154240</title>\n<polygon fill=\"none\" stroke=\"black\" points=\"234,-83.5 234,-119.5 344,-119.5 344,-83.5 234,-83.5\"/>\n<text text-anchor=\"middle\" x=\"245.5\" y=\"-97.8\" font-family=\"Times,serif\" font-size=\"14.00\">c</text>\n<polyline fill=\"none\" stroke=\"black\" points=\"257,-83.5 257,-119.5 \"/>\n<text text-anchor=\"middle\" x=\"300.5\" y=\"-97.8\" font-family=\"Times,serif\" font-size=\"14.00\">data 10.0000</text>\n</g>\n<!-- 139479134147904+ -->\n<g id=\"node6\" class=\"node\">\n<title>139479134147904+</title>\n<ellipse fill=\"none\" stroke=\"black\" cx=\"407\" cy=\"-73.5\" rx=\"27\" ry=\"18\"/>\n<text text-anchor=\"middle\" x=\"407\" y=\"-69.8\" font-family=\"Times,serif\" font-size=\"14.00\">+</text>\n</g>\n<!-- 139479134154240&#45;&gt;139479134147904+ -->\n<g id=\"edge8\" class=\"edge\">\n<title>139479134154240&#45;&gt;139479134147904+</title>\n<path fill=\"none\" stroke=\"black\" d=\"M344.26,-88.4C353.49,-86.18 362.84,-83.92 371.37,-81.86\"/>\n<polygon fill=\"black\" stroke=\"black\" points=\"372.42,-85.21 381.32,-79.46 370.78,-78.4 372.42,-85.21\"/>\n</g>\n<!-- 139479134148624 -->\n<g id=\"node2\" class=\"node\">\n<title>139479134148624</title>\n<polygon fill=\"none\" stroke=\"black\" points=\"0,-56.5 0,-92.5 108,-92.5 108,-56.5 0,-56.5\"/>\n<text text-anchor=\"middle\" x=\"11.5\" y=\"-70.8\" font-family=\"Times,serif\" font-size=\"14.00\">b</text>\n<polyline fill=\"none\" stroke=\"black\" points=\"23,-56.5 23,-92.5 \"/>\n<text text-anchor=\"middle\" x=\"65.5\" y=\"-70.8\" font-family=\"Times,serif\" font-size=\"14.00\">data &#45;3.0000</text>\n</g>\n<!-- 139479134155008* -->\n<g id=\"node4\" class=\"node\">\n<title>139479134155008*</title>\n<ellipse fill=\"none\" stroke=\"black\" cx=\"171\" cy=\"-46.5\" rx=\"27\" ry=\"18\"/>\n<text text-anchor=\"middle\" x=\"171\" y=\"-42.8\" font-family=\"Times,serif\" font-size=\"14.00\">*</text>\n</g>\n<!-- 139479134148624&#45;&gt;139479134155008* -->\n<g id=\"edge6\" class=\"edge\">\n<title>139479134148624&#45;&gt;139479134155008*</title>\n<path fill=\"none\" stroke=\"black\" d=\"M108.12,-61.57C117.51,-59.28 127.06,-56.95 135.76,-54.84\"/>\n<polygon fill=\"black\" stroke=\"black\" points=\"136.62,-58.23 145.51,-52.46 134.97,-51.43 136.62,-58.23\"/>\n</g>\n<!-- 139479134155008 -->\n<g id=\"node3\" class=\"node\">\n<title>139479134155008</title>\n<polygon fill=\"none\" stroke=\"black\" points=\"235,-28.5 235,-64.5 343,-64.5 343,-28.5 235,-28.5\"/>\n<text text-anchor=\"middle\" x=\"246.5\" y=\"-42.8\" font-family=\"Times,serif\" font-size=\"14.00\">e</text>\n<polyline fill=\"none\" stroke=\"black\" points=\"258,-28.5 258,-64.5 \"/>\n<text text-anchor=\"middle\" x=\"300.5\" y=\"-42.8\" font-family=\"Times,serif\" font-size=\"14.00\">data &#45;6.0000</text>\n</g>\n<!-- 139479134155008&#45;&gt;139479134147904+ -->\n<g id=\"edge9\" class=\"edge\">\n<title>139479134155008&#45;&gt;139479134147904+</title>\n<path fill=\"none\" stroke=\"black\" d=\"M343.25,-58.89C352.75,-61.11 362.43,-63.36 371.24,-65.41\"/>\n<polygon fill=\"black\" stroke=\"black\" points=\"370.6,-68.85 381.14,-67.71 372.19,-62.04 370.6,-68.85\"/>\n</g>\n<!-- 139479134155008*&#45;&gt;139479134155008 -->\n<g id=\"edge1\" class=\"edge\">\n<title>139479134155008*&#45;&gt;139479134155008</title>\n<path fill=\"none\" stroke=\"black\" d=\"M198.03,-46.5C206.08,-46.5 215.32,-46.5 224.74,-46.5\"/>\n<polygon fill=\"black\" stroke=\"black\" points=\"224.99,-50 234.99,-46.5 224.99,-43 224.99,-50\"/>\n</g>\n<!-- 139479134147904 -->\n<g id=\"node5\" class=\"node\">\n<title>139479134147904</title>\n<polygon fill=\"none\" stroke=\"black\" points=\"471.5,-55.5 471.5,-91.5 574.5,-91.5 574.5,-55.5 471.5,-55.5\"/>\n<text text-anchor=\"middle\" x=\"483\" y=\"-69.8\" font-family=\"Times,serif\" font-size=\"14.00\">d</text>\n<polyline fill=\"none\" stroke=\"black\" points=\"494.5,-55.5 494.5,-91.5 \"/>\n<text text-anchor=\"middle\" x=\"534.5\" y=\"-69.8\" font-family=\"Times,serif\" font-size=\"14.00\">data 4.0000</text>\n</g>\n<!-- 139479134154144* -->\n<g id=\"node9\" class=\"node\">\n<title>139479134154144*</title>\n<ellipse fill=\"none\" stroke=\"black\" cx=\"639\" cy=\"-45.5\" rx=\"27\" ry=\"18\"/>\n<text text-anchor=\"middle\" x=\"639\" y=\"-41.8\" font-family=\"Times,serif\" font-size=\"14.00\">*</text>\n</g>\n<!-- 139479134147904&#45;&gt;139479134154144* -->\n<g id=\"edge4\" class=\"edge\">\n<title>139479134147904&#45;&gt;139479134154144*</title>\n<path fill=\"none\" stroke=\"black\" d=\"M574.67,-61.06C584.43,-58.66 594.45,-56.2 603.55,-53.96\"/>\n<polygon fill=\"black\" stroke=\"black\" points=\"604.5,-57.33 613.37,-51.55 602.83,-50.54 604.5,-57.33\"/>\n</g>\n<!-- 139479134147904+&#45;&gt;139479134147904 -->\n<g id=\"edge2\" class=\"edge\">\n<title>139479134147904+&#45;&gt;139479134147904</title>\n<path fill=\"none\" stroke=\"black\" d=\"M434.15,-73.5C442.26,-73.5 451.57,-73.5 461.02,-73.5\"/>\n<polygon fill=\"black\" stroke=\"black\" points=\"461.28,-77 471.28,-73.5 461.28,-70 461.28,-77\"/>\n</g>\n<!-- 139479134147952 -->\n<g id=\"node7\" class=\"node\">\n<title>139479134147952</title>\n<polygon fill=\"none\" stroke=\"black\" points=\"470,-0.5 470,-36.5 576,-36.5 576,-0.5 470,-0.5\"/>\n<text text-anchor=\"middle\" x=\"480.5\" y=\"-14.8\" font-family=\"Times,serif\" font-size=\"14.00\">f</text>\n<polyline fill=\"none\" stroke=\"black\" points=\"491,-0.5 491,-36.5 \"/>\n<text text-anchor=\"middle\" x=\"533.5\" y=\"-14.8\" font-family=\"Times,serif\" font-size=\"14.00\">data &#45;2.0000</text>\n</g>\n<!-- 139479134147952&#45;&gt;139479134154144* -->\n<g id=\"edge5\" class=\"edge\">\n<title>139479134147952&#45;&gt;139479134154144*</title>\n<path fill=\"none\" stroke=\"black\" d=\"M576.33,-30.89C585.48,-33.06 594.8,-35.27 603.33,-37.29\"/>\n<polygon fill=\"black\" stroke=\"black\" points=\"602.73,-40.74 613.27,-39.64 604.34,-33.93 602.73,-40.74\"/>\n</g>\n<!-- 139479134154144 -->\n<g id=\"node8\" class=\"node\">\n<title>139479134154144</title>\n<polygon fill=\"none\" stroke=\"black\" points=\"702,-27.5 702,-63.5 812,-63.5 812,-27.5 702,-27.5\"/>\n<text text-anchor=\"middle\" x=\"714.5\" y=\"-41.8\" font-family=\"Times,serif\" font-size=\"14.00\">L</text>\n<polyline fill=\"none\" stroke=\"black\" points=\"727,-27.5 727,-63.5 \"/>\n<text text-anchor=\"middle\" x=\"769.5\" y=\"-41.8\" font-family=\"Times,serif\" font-size=\"14.00\">data &#45;8.0000</text>\n</g>\n<!-- 139479134154144*&#45;&gt;139479134154144 -->\n<g id=\"edge3\" class=\"edge\">\n<title>139479134154144*&#45;&gt;139479134154144</title>\n<path fill=\"none\" stroke=\"black\" d=\"M666.03,-45.5C673.7,-45.5 682.45,-45.5 691.42,-45.5\"/>\n<polygon fill=\"black\" stroke=\"black\" points=\"691.58,-49 701.58,-45.5 691.58,-42 691.58,-49\"/>\n</g>\n<!-- 139479134150640 -->\n<g id=\"node10\" class=\"node\">\n<title>139479134150640</title>\n<polygon fill=\"none\" stroke=\"black\" points=\"2.5,-1.5 2.5,-37.5 105.5,-37.5 105.5,-1.5 2.5,-1.5\"/>\n<text text-anchor=\"middle\" x=\"14\" y=\"-15.8\" font-family=\"Times,serif\" font-size=\"14.00\">a</text>\n<polyline fill=\"none\" stroke=\"black\" points=\"25.5,-1.5 25.5,-37.5 \"/>\n<text text-anchor=\"middle\" x=\"65.5\" y=\"-15.8\" font-family=\"Times,serif\" font-size=\"14.00\">data 2.0000</text>\n</g>\n<!-- 139479134150640&#45;&gt;139479134155008* -->\n<g id=\"edge7\" class=\"edge\">\n<title>139479134150640&#45;&gt;139479134155008*</title>\n<path fill=\"none\" stroke=\"black\" d=\"M105.78,-31.42C115.74,-33.76 125.98,-36.17 135.28,-38.35\"/>\n<polygon fill=\"black\" stroke=\"black\" points=\"134.77,-41.82 145.3,-40.7 136.37,-35.01 134.77,-41.82\"/>\n</g>\n</g>\n</svg>\n",
            "text/plain": [
              "<graphviz.graphs.Digraph at 0x7edb043eaaa0>"
            ]
          },
          "metadata": {},
          "execution_count": 29
        }
      ]
    },
    {
      "cell_type": "markdown",
      "source": [
        "Next step is Backpropogation, where in we have to compute derivative of `L` with respect to every variable. These variables here mimic weights of NN. (Remember in Neural Network, we compute gradients of Loss with respect to weights, inorder to optimize these. We don't compute gradients wrt data because data is fixed).\n",
        "\n",
        "To get into the backpropogation, we will use a variable grad which will keep tract of the gradeints"
      ],
      "metadata": {
        "id": "28WHMwqRnYCC"
      }
    },
    {
      "cell_type": "code",
      "source": [
        "class Value:\n",
        "\n",
        "    def __init__(self, data, _children=(), _op='', label=''):\n",
        "        self.data = data\n",
        "        self.grad = 0.0\n",
        "        self.prev = set(_children)\n",
        "        self._op = _op\n",
        "        self.label = label\n",
        "\n",
        "\n",
        "    def __repr__(self):\n",
        "        return f\"Value(data={self.data})\"\n",
        "\n",
        "    def __add__(self, other):\n",
        "        out = Value(self.data + other.data, (self, other), '+', self.grad) # add to children set, notice we using Value object\n",
        "        return out\n",
        "\n",
        "    def __mul__(self, other):\n",
        "        out = Value(self.data * other.data, (self, other), '*')\n",
        "        return out\n",
        "\n",
        "## vizualization part\n",
        "def draw_dot(root):\n",
        "    dot = Digraph(format='svg', graph_attr={'rankdir':'LR'}) # LR means left to right\n",
        "\n",
        "    nodes, edges = trace(root)\n",
        "\n",
        "    for n in nodes:\n",
        "        uid = str(id(n))\n",
        "\n",
        "        # for any value in the graph, create a rectangular ('record') node for  it\n",
        "        dot.node(name=uid, label=\"{ %s | data %.4f | grad %.4f}\" % (n.label, n.data, n.grad), shape='record')\n",
        "        if n._op:\n",
        "            # if this value is a result of some operation, create an op node for it\n",
        "            dot.node(name=uid + n._op, label=n._op)\n",
        "            # and connect this node to it\n",
        "            dot.edge(uid + n._op, uid)\n",
        "\n",
        "    for n1, n2 in edges:\n",
        "        # connect n1 to op node of n2\n",
        "        dot.edge(str(id(n1)), str(id(n2)) + n2._op)\n",
        "\n",
        "    return dot\n",
        "\n",
        "# inputs\n",
        "a = Value(2.0, label='a')\n",
        "b = Value(-3.0, label='b')\n",
        "c = Value(10.0, label='c')\n",
        "e = a * b; e.label='e'\n",
        "d = e + c; d.label='d'\n",
        "f = Value(-2.0, label='f')\n",
        "L = d * f; L.label='L'\n",
        "\n",
        "draw_dot(L)"
      ],
      "metadata": {
        "colab": {
          "base_uri": "https://localhost:8080/",
          "height": 249
        },
        "id": "0ihxL-ifnCYo",
        "outputId": "3f60376b-16f8-4cb1-ee24-6e6d87dd317d"
      },
      "execution_count": 30,
      "outputs": [
        {
          "output_type": "execute_result",
          "data": {
            "image/svg+xml": "<?xml version=\"1.0\" encoding=\"UTF-8\" standalone=\"no\"?>\n<!DOCTYPE svg PUBLIC \"-//W3C//DTD SVG 1.1//EN\"\n \"http://www.w3.org/Graphics/SVG/1.1/DTD/svg11.dtd\">\n<!-- Generated by graphviz version 2.43.0 (0)\n -->\n<!-- Title: %3 Pages: 1 -->\n<svg width=\"1148pt\" height=\"156pt\"\n viewBox=\"0.00 0.00 1148.00 156.00\" xmlns=\"http://www.w3.org/2000/svg\" xmlns:xlink=\"http://www.w3.org/1999/xlink\">\n<g id=\"graph0\" class=\"graph\" transform=\"scale(1 1) rotate(0) translate(4 152)\">\n<title>%3</title>\n<polygon fill=\"white\" stroke=\"transparent\" points=\"-4,4 -4,-152 1144,-152 1144,4 -4,4\"/>\n<!-- 139479133869136 -->\n<g id=\"node1\" class=\"node\">\n<title>139479133869136</title>\n<polygon fill=\"none\" stroke=\"black\" points=\"2.5,-111.5 2.5,-147.5 187.5,-147.5 187.5,-111.5 2.5,-111.5\"/>\n<text text-anchor=\"middle\" x=\"14\" y=\"-125.8\" font-family=\"Times,serif\" font-size=\"14.00\">a</text>\n<polyline fill=\"none\" stroke=\"black\" points=\"25.5,-111.5 25.5,-147.5 \"/>\n<text text-anchor=\"middle\" x=\"65.5\" y=\"-125.8\" font-family=\"Times,serif\" font-size=\"14.00\">data 2.0000</text>\n<polyline fill=\"none\" stroke=\"black\" points=\"105.5,-111.5 105.5,-147.5 \"/>\n<text text-anchor=\"middle\" x=\"146.5\" y=\"-125.8\" font-family=\"Times,serif\" font-size=\"14.00\">grad 0.0000</text>\n</g>\n<!-- 139479133869040* -->\n<g id=\"node10\" class=\"node\">\n<title>139479133869040*</title>\n<ellipse fill=\"none\" stroke=\"black\" cx=\"253\" cy=\"-101.5\" rx=\"27\" ry=\"18\"/>\n<text text-anchor=\"middle\" x=\"253\" y=\"-97.8\" font-family=\"Times,serif\" font-size=\"14.00\">*</text>\n</g>\n<!-- 139479133869136&#45;&gt;139479133869040* -->\n<g id=\"edge7\" class=\"edge\">\n<title>139479133869136&#45;&gt;139479133869040*</title>\n<path fill=\"none\" stroke=\"black\" d=\"M187.65,-113.05C197.94,-111.2 207.91,-109.41 216.81,-107.82\"/>\n<polygon fill=\"black\" stroke=\"black\" points=\"217.48,-111.25 226.71,-106.04 216.25,-104.36 217.48,-111.25\"/>\n</g>\n<!-- 139479133869760 -->\n<g id=\"node2\" class=\"node\">\n<title>139479133869760</title>\n<polygon fill=\"none\" stroke=\"black\" points=\"0,-56.5 0,-92.5 190,-92.5 190,-56.5 0,-56.5\"/>\n<text text-anchor=\"middle\" x=\"11.5\" y=\"-70.8\" font-family=\"Times,serif\" font-size=\"14.00\">b</text>\n<polyline fill=\"none\" stroke=\"black\" points=\"23,-56.5 23,-92.5 \"/>\n<text text-anchor=\"middle\" x=\"65.5\" y=\"-70.8\" font-family=\"Times,serif\" font-size=\"14.00\">data &#45;3.0000</text>\n<polyline fill=\"none\" stroke=\"black\" points=\"108,-56.5 108,-92.5 \"/>\n<text text-anchor=\"middle\" x=\"149\" y=\"-70.8\" font-family=\"Times,serif\" font-size=\"14.00\">grad 0.0000</text>\n</g>\n<!-- 139479133869760&#45;&gt;139479133869040* -->\n<g id=\"edge9\" class=\"edge\">\n<title>139479133869760&#45;&gt;139479133869040*</title>\n<path fill=\"none\" stroke=\"black\" d=\"M190.34,-90.83C199.62,-92.44 208.58,-93.99 216.66,-95.38\"/>\n<polygon fill=\"black\" stroke=\"black\" points=\"216.27,-98.87 226.72,-97.12 217.46,-91.97 216.27,-98.87\"/>\n</g>\n<!-- 139479133870864 -->\n<g id=\"node3\" class=\"node\">\n<title>139479133870864</title>\n<polygon fill=\"none\" stroke=\"black\" points=\"635.5,-55.5 635.5,-91.5 820.5,-91.5 820.5,-55.5 635.5,-55.5\"/>\n<text text-anchor=\"middle\" x=\"647\" y=\"-69.8\" font-family=\"Times,serif\" font-size=\"14.00\">d</text>\n<polyline fill=\"none\" stroke=\"black\" points=\"658.5,-55.5 658.5,-91.5 \"/>\n<text text-anchor=\"middle\" x=\"698.5\" y=\"-69.8\" font-family=\"Times,serif\" font-size=\"14.00\">data 4.0000</text>\n<polyline fill=\"none\" stroke=\"black\" points=\"738.5,-55.5 738.5,-91.5 \"/>\n<text text-anchor=\"middle\" x=\"779.5\" y=\"-69.8\" font-family=\"Times,serif\" font-size=\"14.00\">grad 0.0000</text>\n</g>\n<!-- 139479133878736* -->\n<g id=\"node8\" class=\"node\">\n<title>139479133878736*</title>\n<ellipse fill=\"none\" stroke=\"black\" cx=\"885\" cy=\"-45.5\" rx=\"27\" ry=\"18\"/>\n<text text-anchor=\"middle\" x=\"885\" y=\"-41.8\" font-family=\"Times,serif\" font-size=\"14.00\">*</text>\n</g>\n<!-- 139479133870864&#45;&gt;139479133878736* -->\n<g id=\"edge4\" class=\"edge\">\n<title>139479133870864&#45;&gt;139479133878736*</title>\n<path fill=\"none\" stroke=\"black\" d=\"M820.51,-56.97C830.48,-55.17 840.13,-53.42 848.77,-51.86\"/>\n<polygon fill=\"black\" stroke=\"black\" points=\"849.55,-55.28 858.77,-50.06 848.3,-48.39 849.55,-55.28\"/>\n</g>\n<!-- 139479133870864+ -->\n<g id=\"node4\" class=\"node\">\n<title>139479133870864+</title>\n<ellipse fill=\"none\" stroke=\"black\" cx=\"571\" cy=\"-73.5\" rx=\"27\" ry=\"18\"/>\n<text text-anchor=\"middle\" x=\"571\" y=\"-69.8\" font-family=\"Times,serif\" font-size=\"14.00\">+</text>\n</g>\n<!-- 139479133870864+&#45;&gt;139479133870864 -->\n<g id=\"edge1\" class=\"edge\">\n<title>139479133870864+&#45;&gt;139479133870864</title>\n<path fill=\"none\" stroke=\"black\" d=\"M598.29,-73.5C606.26,-73.5 615.54,-73.5 625.39,-73.5\"/>\n<polygon fill=\"black\" stroke=\"black\" points=\"625.41,-77 635.41,-73.5 625.41,-70 625.41,-77\"/>\n</g>\n<!-- 139479133866400 -->\n<g id=\"node5\" class=\"node\">\n<title>139479133866400</title>\n<polygon fill=\"none\" stroke=\"black\" points=\"634,-0.5 634,-36.5 822,-36.5 822,-0.5 634,-0.5\"/>\n<text text-anchor=\"middle\" x=\"644.5\" y=\"-14.8\" font-family=\"Times,serif\" font-size=\"14.00\">f</text>\n<polyline fill=\"none\" stroke=\"black\" points=\"655,-0.5 655,-36.5 \"/>\n<text text-anchor=\"middle\" x=\"697.5\" y=\"-14.8\" font-family=\"Times,serif\" font-size=\"14.00\">data &#45;2.0000</text>\n<polyline fill=\"none\" stroke=\"black\" points=\"740,-0.5 740,-36.5 \"/>\n<text text-anchor=\"middle\" x=\"781\" y=\"-14.8\" font-family=\"Times,serif\" font-size=\"14.00\">grad 0.0000</text>\n</g>\n<!-- 139479133866400&#45;&gt;139479133878736* -->\n<g id=\"edge5\" class=\"edge\">\n<title>139479133866400&#45;&gt;139479133878736*</title>\n<path fill=\"none\" stroke=\"black\" d=\"M822.29,-34.75C831.57,-36.37 840.52,-37.93 848.61,-39.33\"/>\n<polygon fill=\"black\" stroke=\"black\" points=\"848.22,-42.82 858.68,-41.09 849.42,-35.92 848.22,-42.82\"/>\n</g>\n<!-- 139479133876144 -->\n<g id=\"node6\" class=\"node\">\n<title>139479133876144</title>\n<polygon fill=\"none\" stroke=\"black\" points=\"316,-28.5 316,-64.5 508,-64.5 508,-28.5 316,-28.5\"/>\n<text text-anchor=\"middle\" x=\"327.5\" y=\"-42.8\" font-family=\"Times,serif\" font-size=\"14.00\">c</text>\n<polyline fill=\"none\" stroke=\"black\" points=\"339,-28.5 339,-64.5 \"/>\n<text text-anchor=\"middle\" x=\"382.5\" y=\"-42.8\" font-family=\"Times,serif\" font-size=\"14.00\">data 10.0000</text>\n<polyline fill=\"none\" stroke=\"black\" points=\"426,-28.5 426,-64.5 \"/>\n<text text-anchor=\"middle\" x=\"467\" y=\"-42.8\" font-family=\"Times,serif\" font-size=\"14.00\">grad 0.0000</text>\n</g>\n<!-- 139479133876144&#45;&gt;139479133870864+ -->\n<g id=\"edge8\" class=\"edge\">\n<title>139479133876144&#45;&gt;139479133870864+</title>\n<path fill=\"none\" stroke=\"black\" d=\"M508.4,-62.91C517.69,-64.5 526.64,-66.04 534.71,-67.43\"/>\n<polygon fill=\"black\" stroke=\"black\" points=\"534.32,-70.91 544.76,-69.16 535.5,-64.02 534.32,-70.91\"/>\n</g>\n<!-- 139479133878736 -->\n<g id=\"node7\" class=\"node\">\n<title>139479133878736</title>\n<polygon fill=\"none\" stroke=\"black\" points=\"948,-27.5 948,-63.5 1140,-63.5 1140,-27.5 948,-27.5\"/>\n<text text-anchor=\"middle\" x=\"960.5\" y=\"-41.8\" font-family=\"Times,serif\" font-size=\"14.00\">L</text>\n<polyline fill=\"none\" stroke=\"black\" points=\"973,-27.5 973,-63.5 \"/>\n<text text-anchor=\"middle\" x=\"1015.5\" y=\"-41.8\" font-family=\"Times,serif\" font-size=\"14.00\">data &#45;8.0000</text>\n<polyline fill=\"none\" stroke=\"black\" points=\"1058,-27.5 1058,-63.5 \"/>\n<text text-anchor=\"middle\" x=\"1099\" y=\"-41.8\" font-family=\"Times,serif\" font-size=\"14.00\">grad 0.0000</text>\n</g>\n<!-- 139479133878736*&#45;&gt;139479133878736 -->\n<g id=\"edge2\" class=\"edge\">\n<title>139479133878736*&#45;&gt;139479133878736</title>\n<path fill=\"none\" stroke=\"black\" d=\"M912.28,-45.5C919.78,-45.5 928.44,-45.5 937.67,-45.5\"/>\n<polygon fill=\"black\" stroke=\"black\" points=\"937.87,-49 947.87,-45.5 937.87,-42 937.87,-49\"/>\n</g>\n<!-- 139479133869040 -->\n<g id=\"node9\" class=\"node\">\n<title>139479133869040</title>\n<polygon fill=\"none\" stroke=\"black\" points=\"317,-83.5 317,-119.5 507,-119.5 507,-83.5 317,-83.5\"/>\n<text text-anchor=\"middle\" x=\"328.5\" y=\"-97.8\" font-family=\"Times,serif\" font-size=\"14.00\">e</text>\n<polyline fill=\"none\" stroke=\"black\" points=\"340,-83.5 340,-119.5 \"/>\n<text text-anchor=\"middle\" x=\"382.5\" y=\"-97.8\" font-family=\"Times,serif\" font-size=\"14.00\">data &#45;6.0000</text>\n<polyline fill=\"none\" stroke=\"black\" points=\"425,-83.5 425,-119.5 \"/>\n<text text-anchor=\"middle\" x=\"466\" y=\"-97.8\" font-family=\"Times,serif\" font-size=\"14.00\">grad 0.0000</text>\n</g>\n<!-- 139479133869040&#45;&gt;139479133870864+ -->\n<g id=\"edge6\" class=\"edge\">\n<title>139479133869040&#45;&gt;139479133870864+</title>\n<path fill=\"none\" stroke=\"black\" d=\"M507.05,-84.73C516.89,-82.97 526.39,-81.28 534.9,-79.76\"/>\n<polygon fill=\"black\" stroke=\"black\" points=\"535.52,-83.2 544.75,-78 534.29,-76.31 535.52,-83.2\"/>\n</g>\n<!-- 139479133869040*&#45;&gt;139479133869040 -->\n<g id=\"edge3\" class=\"edge\">\n<title>139479133869040*&#45;&gt;139479133869040</title>\n<path fill=\"none\" stroke=\"black\" d=\"M280.28,-101.5C288.05,-101.5 297.08,-101.5 306.68,-101.5\"/>\n<polygon fill=\"black\" stroke=\"black\" points=\"306.88,-105 316.88,-101.5 306.88,-98 306.88,-105\"/>\n</g>\n</g>\n</svg>\n",
            "text/plain": [
              "<graphviz.graphs.Digraph at 0x7edb043a59c0>"
            ]
          },
          "metadata": {},
          "execution_count": 30
        }
      ]
    },
    {
      "cell_type": "code",
      "source": [
        "L.grad"
      ],
      "metadata": {
        "colab": {
          "base_uri": "https://localhost:8080/"
        },
        "id": "8hVoJfY2vhkX",
        "outputId": "63788840-f981-4b7c-c0f0-998ad7e22e77"
      },
      "execution_count": 31,
      "outputs": [
        {
          "output_type": "execute_result",
          "data": {
            "text/plain": [
              "0.0"
            ]
          },
          "metadata": {},
          "execution_count": 31
        }
      ]
    },
    {
      "cell_type": "markdown",
      "source": [
        "### Working of Backpropogation"
      ],
      "metadata": {
        "id": "pB6wD6WQyrwF"
      }
    },
    {
      "cell_type": "markdown",
      "source": [
        "#### What is the derivative of L wrt L?\n",
        "- it is 1\n"
      ],
      "metadata": {
        "id": "RDcg8VMGtxzX"
      }
    },
    {
      "cell_type": "code",
      "source": [
        "def lol():\n",
        "    h = 0.001\n",
        "\n",
        "    a = Value(2.0, label='a')\n",
        "    b = Value(-3.0, label='b')\n",
        "    c = Value(10.0, label='c')\n",
        "    e = a * b; e.label='e'\n",
        "    d = e + c; d.label='d'\n",
        "    f = Value(-2.0, label='f')\n",
        "    L = d * f; L.label='L'\n",
        "    L1 = L.data  #remember L is value object, we just want here the data\n",
        "\n",
        "    a = Value(2.0, label='a') #bumping up a by h\n",
        "    b = Value(-3.0, label='b')\n",
        "    c = Value(10.0, label='c')\n",
        "    e = a * b; e.label='e'\n",
        "    d = e + c; d.label='d'\n",
        "    f = Value(-2.0, label='f')\n",
        "    L = d * f; L.label='L'\n",
        "    L2 = L.data + h\n",
        "\n",
        "    print((L2-L1)/h)\n",
        "\n",
        "lol() # computing L wrt to L+h, expect is 1"
      ],
      "metadata": {
        "colab": {
          "base_uri": "https://localhost:8080/"
        },
        "id": "57YvFiICsvXY",
        "outputId": "5e536362-e774-4c6a-fdaf-3cb1f5b19dff"
      },
      "execution_count": 32,
      "outputs": [
        {
          "output_type": "stream",
          "name": "stdout",
          "text": [
            "1.000000000000334\n"
          ]
        }
      ]
    },
    {
      "cell_type": "code",
      "source": [
        "#lets set L.grad as 1\n",
        "L.grad= 1.0"
      ],
      "metadata": {
        "id": "mZaVRD_pvTcf"
      },
      "execution_count": 33,
      "outputs": []
    },
    {
      "cell_type": "code",
      "source": [
        "draw_dot(L)"
      ],
      "metadata": {
        "colab": {
          "base_uri": "https://localhost:8080/",
          "height": 249
        },
        "id": "XdncvX-Nudof",
        "outputId": "d99b388d-23c9-4067-d103-dd4069b8313d"
      },
      "execution_count": 34,
      "outputs": [
        {
          "output_type": "execute_result",
          "data": {
            "image/svg+xml": "<?xml version=\"1.0\" encoding=\"UTF-8\" standalone=\"no\"?>\n<!DOCTYPE svg PUBLIC \"-//W3C//DTD SVG 1.1//EN\"\n \"http://www.w3.org/Graphics/SVG/1.1/DTD/svg11.dtd\">\n<!-- Generated by graphviz version 2.43.0 (0)\n -->\n<!-- Title: %3 Pages: 1 -->\n<svg width=\"1148pt\" height=\"156pt\"\n viewBox=\"0.00 0.00 1148.00 156.00\" xmlns=\"http://www.w3.org/2000/svg\" xmlns:xlink=\"http://www.w3.org/1999/xlink\">\n<g id=\"graph0\" class=\"graph\" transform=\"scale(1 1) rotate(0) translate(4 152)\">\n<title>%3</title>\n<polygon fill=\"white\" stroke=\"transparent\" points=\"-4,4 -4,-152 1144,-152 1144,4 -4,4\"/>\n<!-- 139479133869136 -->\n<g id=\"node1\" class=\"node\">\n<title>139479133869136</title>\n<polygon fill=\"none\" stroke=\"black\" points=\"2.5,-111.5 2.5,-147.5 187.5,-147.5 187.5,-111.5 2.5,-111.5\"/>\n<text text-anchor=\"middle\" x=\"14\" y=\"-125.8\" font-family=\"Times,serif\" font-size=\"14.00\">a</text>\n<polyline fill=\"none\" stroke=\"black\" points=\"25.5,-111.5 25.5,-147.5 \"/>\n<text text-anchor=\"middle\" x=\"65.5\" y=\"-125.8\" font-family=\"Times,serif\" font-size=\"14.00\">data 2.0000</text>\n<polyline fill=\"none\" stroke=\"black\" points=\"105.5,-111.5 105.5,-147.5 \"/>\n<text text-anchor=\"middle\" x=\"146.5\" y=\"-125.8\" font-family=\"Times,serif\" font-size=\"14.00\">grad 0.0000</text>\n</g>\n<!-- 139479133869040* -->\n<g id=\"node10\" class=\"node\">\n<title>139479133869040*</title>\n<ellipse fill=\"none\" stroke=\"black\" cx=\"253\" cy=\"-101.5\" rx=\"27\" ry=\"18\"/>\n<text text-anchor=\"middle\" x=\"253\" y=\"-97.8\" font-family=\"Times,serif\" font-size=\"14.00\">*</text>\n</g>\n<!-- 139479133869136&#45;&gt;139479133869040* -->\n<g id=\"edge7\" class=\"edge\">\n<title>139479133869136&#45;&gt;139479133869040*</title>\n<path fill=\"none\" stroke=\"black\" d=\"M187.65,-113.05C197.94,-111.2 207.91,-109.41 216.81,-107.82\"/>\n<polygon fill=\"black\" stroke=\"black\" points=\"217.48,-111.25 226.71,-106.04 216.25,-104.36 217.48,-111.25\"/>\n</g>\n<!-- 139479133869760 -->\n<g id=\"node2\" class=\"node\">\n<title>139479133869760</title>\n<polygon fill=\"none\" stroke=\"black\" points=\"0,-56.5 0,-92.5 190,-92.5 190,-56.5 0,-56.5\"/>\n<text text-anchor=\"middle\" x=\"11.5\" y=\"-70.8\" font-family=\"Times,serif\" font-size=\"14.00\">b</text>\n<polyline fill=\"none\" stroke=\"black\" points=\"23,-56.5 23,-92.5 \"/>\n<text text-anchor=\"middle\" x=\"65.5\" y=\"-70.8\" font-family=\"Times,serif\" font-size=\"14.00\">data &#45;3.0000</text>\n<polyline fill=\"none\" stroke=\"black\" points=\"108,-56.5 108,-92.5 \"/>\n<text text-anchor=\"middle\" x=\"149\" y=\"-70.8\" font-family=\"Times,serif\" font-size=\"14.00\">grad 0.0000</text>\n</g>\n<!-- 139479133869760&#45;&gt;139479133869040* -->\n<g id=\"edge9\" class=\"edge\">\n<title>139479133869760&#45;&gt;139479133869040*</title>\n<path fill=\"none\" stroke=\"black\" d=\"M190.34,-90.83C199.62,-92.44 208.58,-93.99 216.66,-95.38\"/>\n<polygon fill=\"black\" stroke=\"black\" points=\"216.27,-98.87 226.72,-97.12 217.46,-91.97 216.27,-98.87\"/>\n</g>\n<!-- 139479133870864 -->\n<g id=\"node3\" class=\"node\">\n<title>139479133870864</title>\n<polygon fill=\"none\" stroke=\"black\" points=\"635.5,-55.5 635.5,-91.5 820.5,-91.5 820.5,-55.5 635.5,-55.5\"/>\n<text text-anchor=\"middle\" x=\"647\" y=\"-69.8\" font-family=\"Times,serif\" font-size=\"14.00\">d</text>\n<polyline fill=\"none\" stroke=\"black\" points=\"658.5,-55.5 658.5,-91.5 \"/>\n<text text-anchor=\"middle\" x=\"698.5\" y=\"-69.8\" font-family=\"Times,serif\" font-size=\"14.00\">data 4.0000</text>\n<polyline fill=\"none\" stroke=\"black\" points=\"738.5,-55.5 738.5,-91.5 \"/>\n<text text-anchor=\"middle\" x=\"779.5\" y=\"-69.8\" font-family=\"Times,serif\" font-size=\"14.00\">grad 0.0000</text>\n</g>\n<!-- 139479133878736* -->\n<g id=\"node8\" class=\"node\">\n<title>139479133878736*</title>\n<ellipse fill=\"none\" stroke=\"black\" cx=\"885\" cy=\"-45.5\" rx=\"27\" ry=\"18\"/>\n<text text-anchor=\"middle\" x=\"885\" y=\"-41.8\" font-family=\"Times,serif\" font-size=\"14.00\">*</text>\n</g>\n<!-- 139479133870864&#45;&gt;139479133878736* -->\n<g id=\"edge4\" class=\"edge\">\n<title>139479133870864&#45;&gt;139479133878736*</title>\n<path fill=\"none\" stroke=\"black\" d=\"M820.51,-56.97C830.48,-55.17 840.13,-53.42 848.77,-51.86\"/>\n<polygon fill=\"black\" stroke=\"black\" points=\"849.55,-55.28 858.77,-50.06 848.3,-48.39 849.55,-55.28\"/>\n</g>\n<!-- 139479133870864+ -->\n<g id=\"node4\" class=\"node\">\n<title>139479133870864+</title>\n<ellipse fill=\"none\" stroke=\"black\" cx=\"571\" cy=\"-73.5\" rx=\"27\" ry=\"18\"/>\n<text text-anchor=\"middle\" x=\"571\" y=\"-69.8\" font-family=\"Times,serif\" font-size=\"14.00\">+</text>\n</g>\n<!-- 139479133870864+&#45;&gt;139479133870864 -->\n<g id=\"edge1\" class=\"edge\">\n<title>139479133870864+&#45;&gt;139479133870864</title>\n<path fill=\"none\" stroke=\"black\" d=\"M598.29,-73.5C606.26,-73.5 615.54,-73.5 625.39,-73.5\"/>\n<polygon fill=\"black\" stroke=\"black\" points=\"625.41,-77 635.41,-73.5 625.41,-70 625.41,-77\"/>\n</g>\n<!-- 139479133866400 -->\n<g id=\"node5\" class=\"node\">\n<title>139479133866400</title>\n<polygon fill=\"none\" stroke=\"black\" points=\"634,-0.5 634,-36.5 822,-36.5 822,-0.5 634,-0.5\"/>\n<text text-anchor=\"middle\" x=\"644.5\" y=\"-14.8\" font-family=\"Times,serif\" font-size=\"14.00\">f</text>\n<polyline fill=\"none\" stroke=\"black\" points=\"655,-0.5 655,-36.5 \"/>\n<text text-anchor=\"middle\" x=\"697.5\" y=\"-14.8\" font-family=\"Times,serif\" font-size=\"14.00\">data &#45;2.0000</text>\n<polyline fill=\"none\" stroke=\"black\" points=\"740,-0.5 740,-36.5 \"/>\n<text text-anchor=\"middle\" x=\"781\" y=\"-14.8\" font-family=\"Times,serif\" font-size=\"14.00\">grad 0.0000</text>\n</g>\n<!-- 139479133866400&#45;&gt;139479133878736* -->\n<g id=\"edge5\" class=\"edge\">\n<title>139479133866400&#45;&gt;139479133878736*</title>\n<path fill=\"none\" stroke=\"black\" d=\"M822.29,-34.75C831.57,-36.37 840.52,-37.93 848.61,-39.33\"/>\n<polygon fill=\"black\" stroke=\"black\" points=\"848.22,-42.82 858.68,-41.09 849.42,-35.92 848.22,-42.82\"/>\n</g>\n<!-- 139479133876144 -->\n<g id=\"node6\" class=\"node\">\n<title>139479133876144</title>\n<polygon fill=\"none\" stroke=\"black\" points=\"316,-28.5 316,-64.5 508,-64.5 508,-28.5 316,-28.5\"/>\n<text text-anchor=\"middle\" x=\"327.5\" y=\"-42.8\" font-family=\"Times,serif\" font-size=\"14.00\">c</text>\n<polyline fill=\"none\" stroke=\"black\" points=\"339,-28.5 339,-64.5 \"/>\n<text text-anchor=\"middle\" x=\"382.5\" y=\"-42.8\" font-family=\"Times,serif\" font-size=\"14.00\">data 10.0000</text>\n<polyline fill=\"none\" stroke=\"black\" points=\"426,-28.5 426,-64.5 \"/>\n<text text-anchor=\"middle\" x=\"467\" y=\"-42.8\" font-family=\"Times,serif\" font-size=\"14.00\">grad 0.0000</text>\n</g>\n<!-- 139479133876144&#45;&gt;139479133870864+ -->\n<g id=\"edge8\" class=\"edge\">\n<title>139479133876144&#45;&gt;139479133870864+</title>\n<path fill=\"none\" stroke=\"black\" d=\"M508.4,-62.91C517.69,-64.5 526.64,-66.04 534.71,-67.43\"/>\n<polygon fill=\"black\" stroke=\"black\" points=\"534.32,-70.91 544.76,-69.16 535.5,-64.02 534.32,-70.91\"/>\n</g>\n<!-- 139479133878736 -->\n<g id=\"node7\" class=\"node\">\n<title>139479133878736</title>\n<polygon fill=\"none\" stroke=\"black\" points=\"948,-27.5 948,-63.5 1140,-63.5 1140,-27.5 948,-27.5\"/>\n<text text-anchor=\"middle\" x=\"960.5\" y=\"-41.8\" font-family=\"Times,serif\" font-size=\"14.00\">L</text>\n<polyline fill=\"none\" stroke=\"black\" points=\"973,-27.5 973,-63.5 \"/>\n<text text-anchor=\"middle\" x=\"1015.5\" y=\"-41.8\" font-family=\"Times,serif\" font-size=\"14.00\">data &#45;8.0000</text>\n<polyline fill=\"none\" stroke=\"black\" points=\"1058,-27.5 1058,-63.5 \"/>\n<text text-anchor=\"middle\" x=\"1099\" y=\"-41.8\" font-family=\"Times,serif\" font-size=\"14.00\">grad 1.0000</text>\n</g>\n<!-- 139479133878736*&#45;&gt;139479133878736 -->\n<g id=\"edge2\" class=\"edge\">\n<title>139479133878736*&#45;&gt;139479133878736</title>\n<path fill=\"none\" stroke=\"black\" d=\"M912.28,-45.5C919.78,-45.5 928.44,-45.5 937.67,-45.5\"/>\n<polygon fill=\"black\" stroke=\"black\" points=\"937.87,-49 947.87,-45.5 937.87,-42 937.87,-49\"/>\n</g>\n<!-- 139479133869040 -->\n<g id=\"node9\" class=\"node\">\n<title>139479133869040</title>\n<polygon fill=\"none\" stroke=\"black\" points=\"317,-83.5 317,-119.5 507,-119.5 507,-83.5 317,-83.5\"/>\n<text text-anchor=\"middle\" x=\"328.5\" y=\"-97.8\" font-family=\"Times,serif\" font-size=\"14.00\">e</text>\n<polyline fill=\"none\" stroke=\"black\" points=\"340,-83.5 340,-119.5 \"/>\n<text text-anchor=\"middle\" x=\"382.5\" y=\"-97.8\" font-family=\"Times,serif\" font-size=\"14.00\">data &#45;6.0000</text>\n<polyline fill=\"none\" stroke=\"black\" points=\"425,-83.5 425,-119.5 \"/>\n<text text-anchor=\"middle\" x=\"466\" y=\"-97.8\" font-family=\"Times,serif\" font-size=\"14.00\">grad 0.0000</text>\n</g>\n<!-- 139479133869040&#45;&gt;139479133870864+ -->\n<g id=\"edge6\" class=\"edge\">\n<title>139479133869040&#45;&gt;139479133870864+</title>\n<path fill=\"none\" stroke=\"black\" d=\"M507.05,-84.73C516.89,-82.97 526.39,-81.28 534.9,-79.76\"/>\n<polygon fill=\"black\" stroke=\"black\" points=\"535.52,-83.2 544.75,-78 534.29,-76.31 535.52,-83.2\"/>\n</g>\n<!-- 139479133869040*&#45;&gt;139479133869040 -->\n<g id=\"edge3\" class=\"edge\">\n<title>139479133869040*&#45;&gt;139479133869040</title>\n<path fill=\"none\" stroke=\"black\" d=\"M280.28,-101.5C288.05,-101.5 297.08,-101.5 306.68,-101.5\"/>\n<polygon fill=\"black\" stroke=\"black\" points=\"306.88,-105 316.88,-101.5 306.88,-98 306.88,-105\"/>\n</g>\n</g>\n</svg>\n",
            "text/plain": [
              "<graphviz.graphs.Digraph at 0x7edb043eb2b0>"
            ]
          },
          "metadata": {},
          "execution_count": 34
        }
      ]
    },
    {
      "cell_type": "markdown",
      "source": [
        "#### What is derivative of `L` wrt to `f` and `d`?"
      ],
      "metadata": {
        "id": "pmJqJ_GXyEx-"
      }
    },
    {
      "cell_type": "markdown",
      "source": [
        "L = d * f\n",
        "\n",
        "dL / dd = ?  f\n",
        "\n",
        "To prove:\n",
        "derivative or slope is: `(f(x+h) - f(x)) / h`\n",
        "\n",
        "```\n",
        "= ( ( ( d + h ) * f ) - ( d * f ) ) / h\n",
        "= ( ( d * f ) +  ( h * f ) - ( d * f) ) / h\n",
        "= ( h * f ) / h\n",
        "= f\n",
        "```\n",
        "\n",
        "\n"
      ],
      "metadata": {
        "id": "EHqEnDZUwDNm"
      }
    },
    {
      "cell_type": "markdown",
      "source": [
        "So, derivatives of `f` and `d` is 4.0 and -2.0"
      ],
      "metadata": {
        "id": "OHyh64WUyUX2"
      }
    },
    {
      "cell_type": "code",
      "source": [
        "# lets set that manually here\n",
        "## dL/df\n",
        "f.grad = 4.0\n",
        "\n",
        "##dL/dd\n",
        "d.grad = -2.0"
      ],
      "metadata": {
        "id": "IAAt01gDxKQP"
      },
      "execution_count": 35,
      "outputs": []
    },
    {
      "cell_type": "code",
      "source": [
        "draw_dot(L)"
      ],
      "metadata": {
        "colab": {
          "base_uri": "https://localhost:8080/",
          "height": 249
        },
        "id": "E1KyZiUFxZJ2",
        "outputId": "c913446d-3853-451e-f122-b0f1785518c5"
      },
      "execution_count": 36,
      "outputs": [
        {
          "output_type": "execute_result",
          "data": {
            "image/svg+xml": "<?xml version=\"1.0\" encoding=\"UTF-8\" standalone=\"no\"?>\n<!DOCTYPE svg PUBLIC \"-//W3C//DTD SVG 1.1//EN\"\n \"http://www.w3.org/Graphics/SVG/1.1/DTD/svg11.dtd\">\n<!-- Generated by graphviz version 2.43.0 (0)\n -->\n<!-- Title: %3 Pages: 1 -->\n<svg width=\"1149pt\" height=\"156pt\"\n viewBox=\"0.00 0.00 1149.00 156.00\" xmlns=\"http://www.w3.org/2000/svg\" xmlns:xlink=\"http://www.w3.org/1999/xlink\">\n<g id=\"graph0\" class=\"graph\" transform=\"scale(1 1) rotate(0) translate(4 152)\">\n<title>%3</title>\n<polygon fill=\"white\" stroke=\"transparent\" points=\"-4,4 -4,-152 1145,-152 1145,4 -4,4\"/>\n<!-- 139479133869136 -->\n<g id=\"node1\" class=\"node\">\n<title>139479133869136</title>\n<polygon fill=\"none\" stroke=\"black\" points=\"2.5,-111.5 2.5,-147.5 187.5,-147.5 187.5,-111.5 2.5,-111.5\"/>\n<text text-anchor=\"middle\" x=\"14\" y=\"-125.8\" font-family=\"Times,serif\" font-size=\"14.00\">a</text>\n<polyline fill=\"none\" stroke=\"black\" points=\"25.5,-111.5 25.5,-147.5 \"/>\n<text text-anchor=\"middle\" x=\"65.5\" y=\"-125.8\" font-family=\"Times,serif\" font-size=\"14.00\">data 2.0000</text>\n<polyline fill=\"none\" stroke=\"black\" points=\"105.5,-111.5 105.5,-147.5 \"/>\n<text text-anchor=\"middle\" x=\"146.5\" y=\"-125.8\" font-family=\"Times,serif\" font-size=\"14.00\">grad 0.0000</text>\n</g>\n<!-- 139479133869040* -->\n<g id=\"node10\" class=\"node\">\n<title>139479133869040*</title>\n<ellipse fill=\"none\" stroke=\"black\" cx=\"253\" cy=\"-101.5\" rx=\"27\" ry=\"18\"/>\n<text text-anchor=\"middle\" x=\"253\" y=\"-97.8\" font-family=\"Times,serif\" font-size=\"14.00\">*</text>\n</g>\n<!-- 139479133869136&#45;&gt;139479133869040* -->\n<g id=\"edge7\" class=\"edge\">\n<title>139479133869136&#45;&gt;139479133869040*</title>\n<path fill=\"none\" stroke=\"black\" d=\"M187.65,-113.05C197.94,-111.2 207.91,-109.41 216.81,-107.82\"/>\n<polygon fill=\"black\" stroke=\"black\" points=\"217.48,-111.25 226.71,-106.04 216.25,-104.36 217.48,-111.25\"/>\n</g>\n<!-- 139479133869760 -->\n<g id=\"node2\" class=\"node\">\n<title>139479133869760</title>\n<polygon fill=\"none\" stroke=\"black\" points=\"0,-56.5 0,-92.5 190,-92.5 190,-56.5 0,-56.5\"/>\n<text text-anchor=\"middle\" x=\"11.5\" y=\"-70.8\" font-family=\"Times,serif\" font-size=\"14.00\">b</text>\n<polyline fill=\"none\" stroke=\"black\" points=\"23,-56.5 23,-92.5 \"/>\n<text text-anchor=\"middle\" x=\"65.5\" y=\"-70.8\" font-family=\"Times,serif\" font-size=\"14.00\">data &#45;3.0000</text>\n<polyline fill=\"none\" stroke=\"black\" points=\"108,-56.5 108,-92.5 \"/>\n<text text-anchor=\"middle\" x=\"149\" y=\"-70.8\" font-family=\"Times,serif\" font-size=\"14.00\">grad 0.0000</text>\n</g>\n<!-- 139479133869760&#45;&gt;139479133869040* -->\n<g id=\"edge9\" class=\"edge\">\n<title>139479133869760&#45;&gt;139479133869040*</title>\n<path fill=\"none\" stroke=\"black\" d=\"M190.34,-90.83C199.62,-92.44 208.58,-93.99 216.66,-95.38\"/>\n<polygon fill=\"black\" stroke=\"black\" points=\"216.27,-98.87 226.72,-97.12 217.46,-91.97 216.27,-98.87\"/>\n</g>\n<!-- 139479133870864 -->\n<g id=\"node3\" class=\"node\">\n<title>139479133870864</title>\n<polygon fill=\"none\" stroke=\"black\" points=\"634,-55.5 634,-91.5 823,-91.5 823,-55.5 634,-55.5\"/>\n<text text-anchor=\"middle\" x=\"645.5\" y=\"-69.8\" font-family=\"Times,serif\" font-size=\"14.00\">d</text>\n<polyline fill=\"none\" stroke=\"black\" points=\"657,-55.5 657,-91.5 \"/>\n<text text-anchor=\"middle\" x=\"697\" y=\"-69.8\" font-family=\"Times,serif\" font-size=\"14.00\">data 4.0000</text>\n<polyline fill=\"none\" stroke=\"black\" points=\"737,-55.5 737,-91.5 \"/>\n<text text-anchor=\"middle\" x=\"780\" y=\"-69.8\" font-family=\"Times,serif\" font-size=\"14.00\">grad &#45;2.0000</text>\n</g>\n<!-- 139479133878736* -->\n<g id=\"node8\" class=\"node\">\n<title>139479133878736*</title>\n<ellipse fill=\"none\" stroke=\"black\" cx=\"886\" cy=\"-45.5\" rx=\"27\" ry=\"18\"/>\n<text text-anchor=\"middle\" x=\"886\" y=\"-41.8\" font-family=\"Times,serif\" font-size=\"14.00\">*</text>\n</g>\n<!-- 139479133870864&#45;&gt;139479133878736* -->\n<g id=\"edge4\" class=\"edge\">\n<title>139479133870864&#45;&gt;139479133878736*</title>\n<path fill=\"none\" stroke=\"black\" d=\"M823.1,-56.65C832.4,-54.97 841.38,-53.35 849.49,-51.89\"/>\n<polygon fill=\"black\" stroke=\"black\" points=\"850.37,-55.29 859.59,-50.07 849.13,-48.4 850.37,-55.29\"/>\n</g>\n<!-- 139479133870864+ -->\n<g id=\"node4\" class=\"node\">\n<title>139479133870864+</title>\n<ellipse fill=\"none\" stroke=\"black\" cx=\"571\" cy=\"-73.5\" rx=\"27\" ry=\"18\"/>\n<text text-anchor=\"middle\" x=\"571\" y=\"-69.8\" font-family=\"Times,serif\" font-size=\"14.00\">+</text>\n</g>\n<!-- 139479133870864+&#45;&gt;139479133870864 -->\n<g id=\"edge1\" class=\"edge\">\n<title>139479133870864+&#45;&gt;139479133870864</title>\n<path fill=\"none\" stroke=\"black\" d=\"M598.03,-73.5C605.66,-73.5 614.52,-73.5 623.94,-73.5\"/>\n<polygon fill=\"black\" stroke=\"black\" points=\"623.94,-77 633.94,-73.5 623.94,-70 623.94,-77\"/>\n</g>\n<!-- 139479133866400 -->\n<g id=\"node5\" class=\"node\">\n<title>139479133866400</title>\n<polygon fill=\"none\" stroke=\"black\" points=\"634.5,-0.5 634.5,-36.5 822.5,-36.5 822.5,-0.5 634.5,-0.5\"/>\n<text text-anchor=\"middle\" x=\"645\" y=\"-14.8\" font-family=\"Times,serif\" font-size=\"14.00\">f</text>\n<polyline fill=\"none\" stroke=\"black\" points=\"655.5,-0.5 655.5,-36.5 \"/>\n<text text-anchor=\"middle\" x=\"698\" y=\"-14.8\" font-family=\"Times,serif\" font-size=\"14.00\">data &#45;2.0000</text>\n<polyline fill=\"none\" stroke=\"black\" points=\"740.5,-0.5 740.5,-36.5 \"/>\n<text text-anchor=\"middle\" x=\"781.5\" y=\"-14.8\" font-family=\"Times,serif\" font-size=\"14.00\">grad 4.0000</text>\n</g>\n<!-- 139479133866400&#45;&gt;139479133878736* -->\n<g id=\"edge5\" class=\"edge\">\n<title>139479133866400&#45;&gt;139479133878736*</title>\n<path fill=\"none\" stroke=\"black\" d=\"M822.65,-34.67C832.2,-36.33 841.43,-37.93 849.72,-39.37\"/>\n<polygon fill=\"black\" stroke=\"black\" points=\"849.24,-42.84 859.69,-41.11 850.44,-35.95 849.24,-42.84\"/>\n</g>\n<!-- 139479133876144 -->\n<g id=\"node6\" class=\"node\">\n<title>139479133876144</title>\n<polygon fill=\"none\" stroke=\"black\" points=\"316,-28.5 316,-64.5 508,-64.5 508,-28.5 316,-28.5\"/>\n<text text-anchor=\"middle\" x=\"327.5\" y=\"-42.8\" font-family=\"Times,serif\" font-size=\"14.00\">c</text>\n<polyline fill=\"none\" stroke=\"black\" points=\"339,-28.5 339,-64.5 \"/>\n<text text-anchor=\"middle\" x=\"382.5\" y=\"-42.8\" font-family=\"Times,serif\" font-size=\"14.00\">data 10.0000</text>\n<polyline fill=\"none\" stroke=\"black\" points=\"426,-28.5 426,-64.5 \"/>\n<text text-anchor=\"middle\" x=\"467\" y=\"-42.8\" font-family=\"Times,serif\" font-size=\"14.00\">grad 0.0000</text>\n</g>\n<!-- 139479133876144&#45;&gt;139479133870864+ -->\n<g id=\"edge8\" class=\"edge\">\n<title>139479133876144&#45;&gt;139479133870864+</title>\n<path fill=\"none\" stroke=\"black\" d=\"M508.4,-62.91C517.69,-64.5 526.64,-66.04 534.71,-67.43\"/>\n<polygon fill=\"black\" stroke=\"black\" points=\"534.32,-70.91 544.76,-69.16 535.5,-64.02 534.32,-70.91\"/>\n</g>\n<!-- 139479133878736 -->\n<g id=\"node7\" class=\"node\">\n<title>139479133878736</title>\n<polygon fill=\"none\" stroke=\"black\" points=\"949,-27.5 949,-63.5 1141,-63.5 1141,-27.5 949,-27.5\"/>\n<text text-anchor=\"middle\" x=\"961.5\" y=\"-41.8\" font-family=\"Times,serif\" font-size=\"14.00\">L</text>\n<polyline fill=\"none\" stroke=\"black\" points=\"974,-27.5 974,-63.5 \"/>\n<text text-anchor=\"middle\" x=\"1016.5\" y=\"-41.8\" font-family=\"Times,serif\" font-size=\"14.00\">data &#45;8.0000</text>\n<polyline fill=\"none\" stroke=\"black\" points=\"1059,-27.5 1059,-63.5 \"/>\n<text text-anchor=\"middle\" x=\"1100\" y=\"-41.8\" font-family=\"Times,serif\" font-size=\"14.00\">grad 1.0000</text>\n</g>\n<!-- 139479133878736*&#45;&gt;139479133878736 -->\n<g id=\"edge2\" class=\"edge\">\n<title>139479133878736*&#45;&gt;139479133878736</title>\n<path fill=\"none\" stroke=\"black\" d=\"M913.28,-45.5C920.78,-45.5 929.44,-45.5 938.67,-45.5\"/>\n<polygon fill=\"black\" stroke=\"black\" points=\"938.87,-49 948.87,-45.5 938.87,-42 938.87,-49\"/>\n</g>\n<!-- 139479133869040 -->\n<g id=\"node9\" class=\"node\">\n<title>139479133869040</title>\n<polygon fill=\"none\" stroke=\"black\" points=\"317,-83.5 317,-119.5 507,-119.5 507,-83.5 317,-83.5\"/>\n<text text-anchor=\"middle\" x=\"328.5\" y=\"-97.8\" font-family=\"Times,serif\" font-size=\"14.00\">e</text>\n<polyline fill=\"none\" stroke=\"black\" points=\"340,-83.5 340,-119.5 \"/>\n<text text-anchor=\"middle\" x=\"382.5\" y=\"-97.8\" font-family=\"Times,serif\" font-size=\"14.00\">data &#45;6.0000</text>\n<polyline fill=\"none\" stroke=\"black\" points=\"425,-83.5 425,-119.5 \"/>\n<text text-anchor=\"middle\" x=\"466\" y=\"-97.8\" font-family=\"Times,serif\" font-size=\"14.00\">grad 0.0000</text>\n</g>\n<!-- 139479133869040&#45;&gt;139479133870864+ -->\n<g id=\"edge6\" class=\"edge\">\n<title>139479133869040&#45;&gt;139479133870864+</title>\n<path fill=\"none\" stroke=\"black\" d=\"M507.05,-84.73C516.89,-82.97 526.39,-81.28 534.9,-79.76\"/>\n<polygon fill=\"black\" stroke=\"black\" points=\"535.52,-83.2 544.75,-78 534.29,-76.31 535.52,-83.2\"/>\n</g>\n<!-- 139479133869040*&#45;&gt;139479133869040 -->\n<g id=\"edge3\" class=\"edge\">\n<title>139479133869040*&#45;&gt;139479133869040</title>\n<path fill=\"none\" stroke=\"black\" d=\"M280.28,-101.5C288.05,-101.5 297.08,-101.5 306.68,-101.5\"/>\n<polygon fill=\"black\" stroke=\"black\" points=\"306.88,-105 316.88,-101.5 306.88,-98 306.88,-105\"/>\n</g>\n</g>\n</svg>\n",
            "text/plain": [
              "<graphviz.graphs.Digraph at 0x7edb043eb730>"
            ]
          },
          "metadata": {},
          "execution_count": 36
        }
      ]
    },
    {
      "cell_type": "markdown",
      "source": [
        "lets also compute derivative of `L` wrt to `f` and `d` using our function"
      ],
      "metadata": {
        "id": "BNWDOdbmygFe"
      }
    },
    {
      "cell_type": "code",
      "source": [
        "def lol():\n",
        "    h = 0.001\n",
        "\n",
        "    a = Value(2.0, label='a')\n",
        "    b = Value(-3.0, label='b')\n",
        "    c = Value(10.0, label='c')\n",
        "    e = a * b; e.label='e'\n",
        "    d = e + c; d.label='d'\n",
        "    f = Value(-2.0, label='f')\n",
        "    L = d * f; L.label='L'\n",
        "    L1 = L.data  #remember L is value object, we just want here the data\n",
        "\n",
        "    a = Value(2.0, label='a')\n",
        "    b = Value(-3.0, label='b')\n",
        "    c = Value(10.0, label='c')\n",
        "    e = a * b; e.label='e'\n",
        "    d = e + c; d.label='d'\n",
        "    f = Value(-2.0 + h , label='f') #bumping up a by h\n",
        "    L = d * f; L.label='L'\n",
        "    L2 = L.data\n",
        "\n",
        "    print((L2-L1)/h)\n",
        "\n",
        "lol() # computing L wrt to f"
      ],
      "metadata": {
        "colab": {
          "base_uri": "https://localhost:8080/"
        },
        "id": "alFBnProxcbf",
        "outputId": "43e49090-ec61-4f15-8dc0-e96bcfc748f8"
      },
      "execution_count": 37,
      "outputs": [
        {
          "output_type": "stream",
          "name": "stdout",
          "text": [
            "3.9999999999995595\n"
          ]
        }
      ]
    },
    {
      "cell_type": "code",
      "source": [
        "def lol():\n",
        "    h = 0.001\n",
        "\n",
        "    a = Value(2.0, label='a')\n",
        "    b = Value(-3.0, label='b')\n",
        "    c = Value(10.0, label='c')\n",
        "    e = a * b; e.label='e'\n",
        "    d = e + c; d.label='d'\n",
        "    f = Value(-2.0, label='f')\n",
        "    L = d * f; L.label='L'\n",
        "    L1 = L.data  #remember L is value object, we just want here the data\n",
        "\n",
        "    a = Value(2.0, label='a')\n",
        "    b = Value(-3.0, label='b')\n",
        "    c = Value(10.0, label='c')\n",
        "    e = a * b; e.label='e'\n",
        "    d = (e + c); d.label='d'\n",
        "    d.data += h #bumping up a by h\n",
        "    f = Value(-2.0 , label='f')\n",
        "    L = d * f; L.label='L'\n",
        "    L2 = L.data\n",
        "\n",
        "    print((L2-L1)/h)\n",
        "\n",
        "lol() # computing L wrt to d"
      ],
      "metadata": {
        "colab": {
          "base_uri": "https://localhost:8080/"
        },
        "id": "i4MrqjKNxpe-",
        "outputId": "3c7bbeb7-d4d3-4363-f901-07f414f983c7"
      },
      "execution_count": 38,
      "outputs": [
        {
          "output_type": "stream",
          "name": "stdout",
          "text": [
            "-2.000000000000668\n"
          ]
        }
      ]
    },
    {
      "cell_type": "markdown",
      "source": [
        "#### What is the derivation of `L` wrt to `c` and `e`"
      ],
      "metadata": {
        "id": "fnpYglw_y_Jl"
      }
    },
    {
      "cell_type": "markdown",
      "source": [
        "What is the derivative of `L` wrt `c`, and for that we first figure out what is derivative of `d` wrt `c`, we already know derivative of `L` wrt `d`\n",
        "\n",
        "d = c + e\n",
        "\n",
        "dd / dc = ?  \n",
        "\n",
        "To prove:\n",
        "derivative or slope is: `(f(x+h) - f(x)) / h`\n",
        "\n",
        "```\n",
        "= ( ( c + h + e ) - ( c + e ) ) / h\n",
        "= ( c + h + e - c - e ) / h\n",
        "= h / h\n",
        "= 1\n",
        "```\n",
        "\n",
        "And in the same way dd/de is 1"
      ],
      "metadata": {
        "id": "osFJMi6gzcTu"
      }
    },
    {
      "cell_type": "markdown",
      "source": [
        "So we know how `c` and `e` impacts `d`, and we know how `d` imapcts `L`, what we want is how `c` and `e` impacts `L`, and the way we put all this together is using chain rule - Calculus\n",
        "\n",
        "`d = c + e`\n",
        "\n",
        "####[Chain Rule](https://en.wikipedia.org/wiki/Chain_rule)\n",
        "\n",
        "`As put by George F. Simmons: \"If a car travels twice as fast as a bicycle and the bicycle is four times as fast as a walking man, then the car travels 2 × 4 = 8 times as fast as the man.\"`\n",
        "\n",
        "as per Chain rule, dL/dc and dL/de will be:\n",
        "\n",
        "`dL/dc = dL/dd * dd/dc` = -2 * 1 = -2\n",
        "\n",
        "`dL/de = dL/dd * dd/de` = -2 * 1 = -2\n",
        "\n",
        "Notice here that '+' (`d = c + e`) operation basically act as a router, it just routes the derivate `dL/dd` to `c` and `e` in this case, as `dd/dc` and `dd/de` is 1"
      ],
      "metadata": {
        "id": "Dka61Vpv-S2b"
      }
    },
    {
      "cell_type": "code",
      "source": [
        "e.grad = -2\n",
        "c.grad = -2"
      ],
      "metadata": {
        "id": "skORC_lMAqND"
      },
      "execution_count": 39,
      "outputs": []
    },
    {
      "cell_type": "code",
      "source": [
        "draw_dot(L)"
      ],
      "metadata": {
        "colab": {
          "base_uri": "https://localhost:8080/",
          "height": 249
        },
        "id": "pWUUfvll_pMp",
        "outputId": "743c9792-b412-41f4-ccf9-3b83c76e3581"
      },
      "execution_count": 40,
      "outputs": [
        {
          "output_type": "execute_result",
          "data": {
            "image/svg+xml": "<?xml version=\"1.0\" encoding=\"UTF-8\" standalone=\"no\"?>\n<!DOCTYPE svg PUBLIC \"-//W3C//DTD SVG 1.1//EN\"\n \"http://www.w3.org/Graphics/SVG/1.1/DTD/svg11.dtd\">\n<!-- Generated by graphviz version 2.43.0 (0)\n -->\n<!-- Title: %3 Pages: 1 -->\n<svg width=\"1153pt\" height=\"156pt\"\n viewBox=\"0.00 0.00 1153.00 156.00\" xmlns=\"http://www.w3.org/2000/svg\" xmlns:xlink=\"http://www.w3.org/1999/xlink\">\n<g id=\"graph0\" class=\"graph\" transform=\"scale(1 1) rotate(0) translate(4 152)\">\n<title>%3</title>\n<polygon fill=\"white\" stroke=\"transparent\" points=\"-4,4 -4,-152 1149,-152 1149,4 -4,4\"/>\n<!-- 139479133869136 -->\n<g id=\"node1\" class=\"node\">\n<title>139479133869136</title>\n<polygon fill=\"none\" stroke=\"black\" points=\"2.5,-111.5 2.5,-147.5 187.5,-147.5 187.5,-111.5 2.5,-111.5\"/>\n<text text-anchor=\"middle\" x=\"14\" y=\"-125.8\" font-family=\"Times,serif\" font-size=\"14.00\">a</text>\n<polyline fill=\"none\" stroke=\"black\" points=\"25.5,-111.5 25.5,-147.5 \"/>\n<text text-anchor=\"middle\" x=\"65.5\" y=\"-125.8\" font-family=\"Times,serif\" font-size=\"14.00\">data 2.0000</text>\n<polyline fill=\"none\" stroke=\"black\" points=\"105.5,-111.5 105.5,-147.5 \"/>\n<text text-anchor=\"middle\" x=\"146.5\" y=\"-125.8\" font-family=\"Times,serif\" font-size=\"14.00\">grad 0.0000</text>\n</g>\n<!-- 139479133869040* -->\n<g id=\"node10\" class=\"node\">\n<title>139479133869040*</title>\n<ellipse fill=\"none\" stroke=\"black\" cx=\"253\" cy=\"-101.5\" rx=\"27\" ry=\"18\"/>\n<text text-anchor=\"middle\" x=\"253\" y=\"-97.8\" font-family=\"Times,serif\" font-size=\"14.00\">*</text>\n</g>\n<!-- 139479133869136&#45;&gt;139479133869040* -->\n<g id=\"edge7\" class=\"edge\">\n<title>139479133869136&#45;&gt;139479133869040*</title>\n<path fill=\"none\" stroke=\"black\" d=\"M187.65,-113.05C197.94,-111.2 207.91,-109.41 216.81,-107.82\"/>\n<polygon fill=\"black\" stroke=\"black\" points=\"217.48,-111.25 226.71,-106.04 216.25,-104.36 217.48,-111.25\"/>\n</g>\n<!-- 139479133869760 -->\n<g id=\"node2\" class=\"node\">\n<title>139479133869760</title>\n<polygon fill=\"none\" stroke=\"black\" points=\"0,-56.5 0,-92.5 190,-92.5 190,-56.5 0,-56.5\"/>\n<text text-anchor=\"middle\" x=\"11.5\" y=\"-70.8\" font-family=\"Times,serif\" font-size=\"14.00\">b</text>\n<polyline fill=\"none\" stroke=\"black\" points=\"23,-56.5 23,-92.5 \"/>\n<text text-anchor=\"middle\" x=\"65.5\" y=\"-70.8\" font-family=\"Times,serif\" font-size=\"14.00\">data &#45;3.0000</text>\n<polyline fill=\"none\" stroke=\"black\" points=\"108,-56.5 108,-92.5 \"/>\n<text text-anchor=\"middle\" x=\"149\" y=\"-70.8\" font-family=\"Times,serif\" font-size=\"14.00\">grad 0.0000</text>\n</g>\n<!-- 139479133869760&#45;&gt;139479133869040* -->\n<g id=\"edge9\" class=\"edge\">\n<title>139479133869760&#45;&gt;139479133869040*</title>\n<path fill=\"none\" stroke=\"black\" d=\"M190.34,-90.83C199.62,-92.44 208.58,-93.99 216.66,-95.38\"/>\n<polygon fill=\"black\" stroke=\"black\" points=\"216.27,-98.87 226.72,-97.12 217.46,-91.97 216.27,-98.87\"/>\n</g>\n<!-- 139479133870864 -->\n<g id=\"node3\" class=\"node\">\n<title>139479133870864</title>\n<polygon fill=\"none\" stroke=\"black\" points=\"638,-55.5 638,-91.5 827,-91.5 827,-55.5 638,-55.5\"/>\n<text text-anchor=\"middle\" x=\"649.5\" y=\"-69.8\" font-family=\"Times,serif\" font-size=\"14.00\">d</text>\n<polyline fill=\"none\" stroke=\"black\" points=\"661,-55.5 661,-91.5 \"/>\n<text text-anchor=\"middle\" x=\"701\" y=\"-69.8\" font-family=\"Times,serif\" font-size=\"14.00\">data 4.0000</text>\n<polyline fill=\"none\" stroke=\"black\" points=\"741,-55.5 741,-91.5 \"/>\n<text text-anchor=\"middle\" x=\"784\" y=\"-69.8\" font-family=\"Times,serif\" font-size=\"14.00\">grad &#45;2.0000</text>\n</g>\n<!-- 139479133878736* -->\n<g id=\"node8\" class=\"node\">\n<title>139479133878736*</title>\n<ellipse fill=\"none\" stroke=\"black\" cx=\"890\" cy=\"-45.5\" rx=\"27\" ry=\"18\"/>\n<text text-anchor=\"middle\" x=\"890\" y=\"-41.8\" font-family=\"Times,serif\" font-size=\"14.00\">*</text>\n</g>\n<!-- 139479133870864&#45;&gt;139479133878736* -->\n<g id=\"edge4\" class=\"edge\">\n<title>139479133870864&#45;&gt;139479133878736*</title>\n<path fill=\"none\" stroke=\"black\" d=\"M827.1,-56.65C836.4,-54.97 845.38,-53.35 853.49,-51.89\"/>\n<polygon fill=\"black\" stroke=\"black\" points=\"854.37,-55.29 863.59,-50.07 853.13,-48.4 854.37,-55.29\"/>\n</g>\n<!-- 139479133870864+ -->\n<g id=\"node4\" class=\"node\">\n<title>139479133870864+</title>\n<ellipse fill=\"none\" stroke=\"black\" cx=\"575\" cy=\"-73.5\" rx=\"27\" ry=\"18\"/>\n<text text-anchor=\"middle\" x=\"575\" y=\"-69.8\" font-family=\"Times,serif\" font-size=\"14.00\">+</text>\n</g>\n<!-- 139479133870864+&#45;&gt;139479133870864 -->\n<g id=\"edge1\" class=\"edge\">\n<title>139479133870864+&#45;&gt;139479133870864</title>\n<path fill=\"none\" stroke=\"black\" d=\"M602.03,-73.5C609.66,-73.5 618.52,-73.5 627.94,-73.5\"/>\n<polygon fill=\"black\" stroke=\"black\" points=\"627.94,-77 637.94,-73.5 627.94,-70 627.94,-77\"/>\n</g>\n<!-- 139479133866400 -->\n<g id=\"node5\" class=\"node\">\n<title>139479133866400</title>\n<polygon fill=\"none\" stroke=\"black\" points=\"638.5,-0.5 638.5,-36.5 826.5,-36.5 826.5,-0.5 638.5,-0.5\"/>\n<text text-anchor=\"middle\" x=\"649\" y=\"-14.8\" font-family=\"Times,serif\" font-size=\"14.00\">f</text>\n<polyline fill=\"none\" stroke=\"black\" points=\"659.5,-0.5 659.5,-36.5 \"/>\n<text text-anchor=\"middle\" x=\"702\" y=\"-14.8\" font-family=\"Times,serif\" font-size=\"14.00\">data &#45;2.0000</text>\n<polyline fill=\"none\" stroke=\"black\" points=\"744.5,-0.5 744.5,-36.5 \"/>\n<text text-anchor=\"middle\" x=\"785.5\" y=\"-14.8\" font-family=\"Times,serif\" font-size=\"14.00\">grad 4.0000</text>\n</g>\n<!-- 139479133866400&#45;&gt;139479133878736* -->\n<g id=\"edge5\" class=\"edge\">\n<title>139479133866400&#45;&gt;139479133878736*</title>\n<path fill=\"none\" stroke=\"black\" d=\"M826.65,-34.67C836.2,-36.33 845.43,-37.93 853.72,-39.37\"/>\n<polygon fill=\"black\" stroke=\"black\" points=\"853.24,-42.84 863.69,-41.11 854.44,-35.95 853.24,-42.84\"/>\n</g>\n<!-- 139479133876144 -->\n<g id=\"node6\" class=\"node\">\n<title>139479133876144</title>\n<polygon fill=\"none\" stroke=\"black\" points=\"316,-28.5 316,-64.5 512,-64.5 512,-28.5 316,-28.5\"/>\n<text text-anchor=\"middle\" x=\"327.5\" y=\"-42.8\" font-family=\"Times,serif\" font-size=\"14.00\">c</text>\n<polyline fill=\"none\" stroke=\"black\" points=\"339,-28.5 339,-64.5 \"/>\n<text text-anchor=\"middle\" x=\"382.5\" y=\"-42.8\" font-family=\"Times,serif\" font-size=\"14.00\">data 10.0000</text>\n<polyline fill=\"none\" stroke=\"black\" points=\"426,-28.5 426,-64.5 \"/>\n<text text-anchor=\"middle\" x=\"469\" y=\"-42.8\" font-family=\"Times,serif\" font-size=\"14.00\">grad &#45;2.0000</text>\n</g>\n<!-- 139479133876144&#45;&gt;139479133870864+ -->\n<g id=\"edge8\" class=\"edge\">\n<title>139479133876144&#45;&gt;139479133870864+</title>\n<path fill=\"none\" stroke=\"black\" d=\"M512.07,-62.98C521.42,-64.57 530.43,-66.1 538.55,-67.48\"/>\n<polygon fill=\"black\" stroke=\"black\" points=\"538.21,-70.97 548.65,-69.2 539.38,-64.07 538.21,-70.97\"/>\n</g>\n<!-- 139479133878736 -->\n<g id=\"node7\" class=\"node\">\n<title>139479133878736</title>\n<polygon fill=\"none\" stroke=\"black\" points=\"953,-27.5 953,-63.5 1145,-63.5 1145,-27.5 953,-27.5\"/>\n<text text-anchor=\"middle\" x=\"965.5\" y=\"-41.8\" font-family=\"Times,serif\" font-size=\"14.00\">L</text>\n<polyline fill=\"none\" stroke=\"black\" points=\"978,-27.5 978,-63.5 \"/>\n<text text-anchor=\"middle\" x=\"1020.5\" y=\"-41.8\" font-family=\"Times,serif\" font-size=\"14.00\">data &#45;8.0000</text>\n<polyline fill=\"none\" stroke=\"black\" points=\"1063,-27.5 1063,-63.5 \"/>\n<text text-anchor=\"middle\" x=\"1104\" y=\"-41.8\" font-family=\"Times,serif\" font-size=\"14.00\">grad 1.0000</text>\n</g>\n<!-- 139479133878736*&#45;&gt;139479133878736 -->\n<g id=\"edge2\" class=\"edge\">\n<title>139479133878736*&#45;&gt;139479133878736</title>\n<path fill=\"none\" stroke=\"black\" d=\"M917.28,-45.5C924.78,-45.5 933.44,-45.5 942.67,-45.5\"/>\n<polygon fill=\"black\" stroke=\"black\" points=\"942.87,-49 952.87,-45.5 942.87,-42 942.87,-49\"/>\n</g>\n<!-- 139479133869040 -->\n<g id=\"node9\" class=\"node\">\n<title>139479133869040</title>\n<polygon fill=\"none\" stroke=\"black\" points=\"317,-83.5 317,-119.5 511,-119.5 511,-83.5 317,-83.5\"/>\n<text text-anchor=\"middle\" x=\"328.5\" y=\"-97.8\" font-family=\"Times,serif\" font-size=\"14.00\">e</text>\n<polyline fill=\"none\" stroke=\"black\" points=\"340,-83.5 340,-119.5 \"/>\n<text text-anchor=\"middle\" x=\"382.5\" y=\"-97.8\" font-family=\"Times,serif\" font-size=\"14.00\">data &#45;6.0000</text>\n<polyline fill=\"none\" stroke=\"black\" points=\"425,-83.5 425,-119.5 \"/>\n<text text-anchor=\"middle\" x=\"468\" y=\"-97.8\" font-family=\"Times,serif\" font-size=\"14.00\">grad &#45;2.0000</text>\n</g>\n<!-- 139479133869040&#45;&gt;139479133870864+ -->\n<g id=\"edge6\" class=\"edge\">\n<title>139479133869040&#45;&gt;139479133870864+</title>\n<path fill=\"none\" stroke=\"black\" d=\"M511.16,-84.57C520.82,-82.87 530.13,-81.23 538.49,-79.75\"/>\n<polygon fill=\"black\" stroke=\"black\" points=\"539.3,-83.17 548.54,-77.98 538.08,-76.27 539.3,-83.17\"/>\n</g>\n<!-- 139479133869040*&#45;&gt;139479133869040 -->\n<g id=\"edge3\" class=\"edge\">\n<title>139479133869040*&#45;&gt;139479133869040</title>\n<path fill=\"none\" stroke=\"black\" d=\"M280.26,-101.5C288.05,-101.5 297.1,-101.5 306.75,-101.5\"/>\n<polygon fill=\"black\" stroke=\"black\" points=\"306.99,-105 316.99,-101.5 306.99,-98 306.99,-105\"/>\n</g>\n</g>\n</svg>\n",
            "text/plain": [
              "<graphviz.graphs.Digraph at 0x7edb043e9d80>"
            ]
          },
          "metadata": {},
          "execution_count": 40
        }
      ]
    },
    {
      "cell_type": "markdown",
      "source": [
        "####What is the derivation of L wrt a and b?\n",
        "\n",
        "`e = a * b`\n",
        "\n",
        "`de/db = a`\n",
        "\n",
        "`de/da = b`\n",
        "\n",
        "`dL/da = dL/de  * de/da` `= -2 * -3`\n",
        "\n",
        "`dL/db = dL/de  * de/db` `= -2 * 2`\n",
        "\n"
      ],
      "metadata": {
        "id": "4bZZGOLE_ccr"
      }
    },
    {
      "cell_type": "code",
      "source": [
        "# set gradients\n",
        "a.grad = -2.0 * -3.0\n",
        "b.grad = -2.0 * 2.0\n",
        "\n",
        "draw_dot(L)"
      ],
      "metadata": {
        "colab": {
          "base_uri": "https://localhost:8080/",
          "height": 249
        },
        "id": "zZBmisJAyBB9",
        "outputId": "8b665264-a64c-4c4d-acc3-057fe230a809"
      },
      "execution_count": 41,
      "outputs": [
        {
          "output_type": "execute_result",
          "data": {
            "image/svg+xml": "<?xml version=\"1.0\" encoding=\"UTF-8\" standalone=\"no\"?>\n<!DOCTYPE svg PUBLIC \"-//W3C//DTD SVG 1.1//EN\"\n \"http://www.w3.org/Graphics/SVG/1.1/DTD/svg11.dtd\">\n<!-- Generated by graphviz version 2.43.0 (0)\n -->\n<!-- Title: %3 Pages: 1 -->\n<svg width=\"1157pt\" height=\"156pt\"\n viewBox=\"0.00 0.00 1157.00 156.00\" xmlns=\"http://www.w3.org/2000/svg\" xmlns:xlink=\"http://www.w3.org/1999/xlink\">\n<g id=\"graph0\" class=\"graph\" transform=\"scale(1 1) rotate(0) translate(4 152)\">\n<title>%3</title>\n<polygon fill=\"white\" stroke=\"transparent\" points=\"-4,4 -4,-152 1153,-152 1153,4 -4,4\"/>\n<!-- 139479133869136 -->\n<g id=\"node1\" class=\"node\">\n<title>139479133869136</title>\n<polygon fill=\"none\" stroke=\"black\" points=\"4.5,-111.5 4.5,-147.5 189.5,-147.5 189.5,-111.5 4.5,-111.5\"/>\n<text text-anchor=\"middle\" x=\"16\" y=\"-125.8\" font-family=\"Times,serif\" font-size=\"14.00\">a</text>\n<polyline fill=\"none\" stroke=\"black\" points=\"27.5,-111.5 27.5,-147.5 \"/>\n<text text-anchor=\"middle\" x=\"67.5\" y=\"-125.8\" font-family=\"Times,serif\" font-size=\"14.00\">data 2.0000</text>\n<polyline fill=\"none\" stroke=\"black\" points=\"107.5,-111.5 107.5,-147.5 \"/>\n<text text-anchor=\"middle\" x=\"148.5\" y=\"-125.8\" font-family=\"Times,serif\" font-size=\"14.00\">grad 6.0000</text>\n</g>\n<!-- 139479133869040* -->\n<g id=\"node10\" class=\"node\">\n<title>139479133869040*</title>\n<ellipse fill=\"none\" stroke=\"black\" cx=\"257\" cy=\"-101.5\" rx=\"27\" ry=\"18\"/>\n<text text-anchor=\"middle\" x=\"257\" y=\"-97.8\" font-family=\"Times,serif\" font-size=\"14.00\">*</text>\n</g>\n<!-- 139479133869136&#45;&gt;139479133869040* -->\n<g id=\"edge7\" class=\"edge\">\n<title>139479133869136&#45;&gt;139479133869040*</title>\n<path fill=\"none\" stroke=\"black\" d=\"M189.91,-113.21C200.76,-111.29 211.28,-109.43 220.61,-107.77\"/>\n<polygon fill=\"black\" stroke=\"black\" points=\"221.37,-111.19 230.6,-106 220.15,-104.3 221.37,-111.19\"/>\n</g>\n<!-- 139479133869760 -->\n<g id=\"node2\" class=\"node\">\n<title>139479133869760</title>\n<polygon fill=\"none\" stroke=\"black\" points=\"0,-56.5 0,-92.5 194,-92.5 194,-56.5 0,-56.5\"/>\n<text text-anchor=\"middle\" x=\"11.5\" y=\"-70.8\" font-family=\"Times,serif\" font-size=\"14.00\">b</text>\n<polyline fill=\"none\" stroke=\"black\" points=\"23,-56.5 23,-92.5 \"/>\n<text text-anchor=\"middle\" x=\"65.5\" y=\"-70.8\" font-family=\"Times,serif\" font-size=\"14.00\">data &#45;3.0000</text>\n<polyline fill=\"none\" stroke=\"black\" points=\"108,-56.5 108,-92.5 \"/>\n<text text-anchor=\"middle\" x=\"151\" y=\"-70.8\" font-family=\"Times,serif\" font-size=\"14.00\">grad &#45;4.0000</text>\n</g>\n<!-- 139479133869760&#45;&gt;139479133869040* -->\n<g id=\"edge9\" class=\"edge\">\n<title>139479133869760&#45;&gt;139479133869040*</title>\n<path fill=\"none\" stroke=\"black\" d=\"M194.01,-90.91C203.35,-92.5 212.37,-94.04 220.49,-95.43\"/>\n<polygon fill=\"black\" stroke=\"black\" points=\"220.16,-98.93 230.6,-97.16 221.34,-92.03 220.16,-98.93\"/>\n</g>\n<!-- 139479133870864 -->\n<g id=\"node3\" class=\"node\">\n<title>139479133870864</title>\n<polygon fill=\"none\" stroke=\"black\" points=\"642,-55.5 642,-91.5 831,-91.5 831,-55.5 642,-55.5\"/>\n<text text-anchor=\"middle\" x=\"653.5\" y=\"-69.8\" font-family=\"Times,serif\" font-size=\"14.00\">d</text>\n<polyline fill=\"none\" stroke=\"black\" points=\"665,-55.5 665,-91.5 \"/>\n<text text-anchor=\"middle\" x=\"705\" y=\"-69.8\" font-family=\"Times,serif\" font-size=\"14.00\">data 4.0000</text>\n<polyline fill=\"none\" stroke=\"black\" points=\"745,-55.5 745,-91.5 \"/>\n<text text-anchor=\"middle\" x=\"788\" y=\"-69.8\" font-family=\"Times,serif\" font-size=\"14.00\">grad &#45;2.0000</text>\n</g>\n<!-- 139479133878736* -->\n<g id=\"node8\" class=\"node\">\n<title>139479133878736*</title>\n<ellipse fill=\"none\" stroke=\"black\" cx=\"894\" cy=\"-45.5\" rx=\"27\" ry=\"18\"/>\n<text text-anchor=\"middle\" x=\"894\" y=\"-41.8\" font-family=\"Times,serif\" font-size=\"14.00\">*</text>\n</g>\n<!-- 139479133870864&#45;&gt;139479133878736* -->\n<g id=\"edge4\" class=\"edge\">\n<title>139479133870864&#45;&gt;139479133878736*</title>\n<path fill=\"none\" stroke=\"black\" d=\"M831.1,-56.65C840.4,-54.97 849.38,-53.35 857.49,-51.89\"/>\n<polygon fill=\"black\" stroke=\"black\" points=\"858.37,-55.29 867.59,-50.07 857.13,-48.4 858.37,-55.29\"/>\n</g>\n<!-- 139479133870864+ -->\n<g id=\"node4\" class=\"node\">\n<title>139479133870864+</title>\n<ellipse fill=\"none\" stroke=\"black\" cx=\"579\" cy=\"-73.5\" rx=\"27\" ry=\"18\"/>\n<text text-anchor=\"middle\" x=\"579\" y=\"-69.8\" font-family=\"Times,serif\" font-size=\"14.00\">+</text>\n</g>\n<!-- 139479133870864+&#45;&gt;139479133870864 -->\n<g id=\"edge1\" class=\"edge\">\n<title>139479133870864+&#45;&gt;139479133870864</title>\n<path fill=\"none\" stroke=\"black\" d=\"M606.03,-73.5C613.66,-73.5 622.52,-73.5 631.94,-73.5\"/>\n<polygon fill=\"black\" stroke=\"black\" points=\"631.94,-77 641.94,-73.5 631.94,-70 631.94,-77\"/>\n</g>\n<!-- 139479133866400 -->\n<g id=\"node5\" class=\"node\">\n<title>139479133866400</title>\n<polygon fill=\"none\" stroke=\"black\" points=\"642.5,-0.5 642.5,-36.5 830.5,-36.5 830.5,-0.5 642.5,-0.5\"/>\n<text text-anchor=\"middle\" x=\"653\" y=\"-14.8\" font-family=\"Times,serif\" font-size=\"14.00\">f</text>\n<polyline fill=\"none\" stroke=\"black\" points=\"663.5,-0.5 663.5,-36.5 \"/>\n<text text-anchor=\"middle\" x=\"706\" y=\"-14.8\" font-family=\"Times,serif\" font-size=\"14.00\">data &#45;2.0000</text>\n<polyline fill=\"none\" stroke=\"black\" points=\"748.5,-0.5 748.5,-36.5 \"/>\n<text text-anchor=\"middle\" x=\"789.5\" y=\"-14.8\" font-family=\"Times,serif\" font-size=\"14.00\">grad 4.0000</text>\n</g>\n<!-- 139479133866400&#45;&gt;139479133878736* -->\n<g id=\"edge5\" class=\"edge\">\n<title>139479133866400&#45;&gt;139479133878736*</title>\n<path fill=\"none\" stroke=\"black\" d=\"M830.65,-34.67C840.2,-36.33 849.43,-37.93 857.72,-39.37\"/>\n<polygon fill=\"black\" stroke=\"black\" points=\"857.24,-42.84 867.69,-41.11 858.44,-35.95 857.24,-42.84\"/>\n</g>\n<!-- 139479133876144 -->\n<g id=\"node6\" class=\"node\">\n<title>139479133876144</title>\n<polygon fill=\"none\" stroke=\"black\" points=\"320,-28.5 320,-64.5 516,-64.5 516,-28.5 320,-28.5\"/>\n<text text-anchor=\"middle\" x=\"331.5\" y=\"-42.8\" font-family=\"Times,serif\" font-size=\"14.00\">c</text>\n<polyline fill=\"none\" stroke=\"black\" points=\"343,-28.5 343,-64.5 \"/>\n<text text-anchor=\"middle\" x=\"386.5\" y=\"-42.8\" font-family=\"Times,serif\" font-size=\"14.00\">data 10.0000</text>\n<polyline fill=\"none\" stroke=\"black\" points=\"430,-28.5 430,-64.5 \"/>\n<text text-anchor=\"middle\" x=\"473\" y=\"-42.8\" font-family=\"Times,serif\" font-size=\"14.00\">grad &#45;2.0000</text>\n</g>\n<!-- 139479133876144&#45;&gt;139479133870864+ -->\n<g id=\"edge8\" class=\"edge\">\n<title>139479133876144&#45;&gt;139479133870864+</title>\n<path fill=\"none\" stroke=\"black\" d=\"M516.07,-62.98C525.42,-64.57 534.43,-66.1 542.55,-67.48\"/>\n<polygon fill=\"black\" stroke=\"black\" points=\"542.21,-70.97 552.65,-69.2 543.38,-64.07 542.21,-70.97\"/>\n</g>\n<!-- 139479133878736 -->\n<g id=\"node7\" class=\"node\">\n<title>139479133878736</title>\n<polygon fill=\"none\" stroke=\"black\" points=\"957,-27.5 957,-63.5 1149,-63.5 1149,-27.5 957,-27.5\"/>\n<text text-anchor=\"middle\" x=\"969.5\" y=\"-41.8\" font-family=\"Times,serif\" font-size=\"14.00\">L</text>\n<polyline fill=\"none\" stroke=\"black\" points=\"982,-27.5 982,-63.5 \"/>\n<text text-anchor=\"middle\" x=\"1024.5\" y=\"-41.8\" font-family=\"Times,serif\" font-size=\"14.00\">data &#45;8.0000</text>\n<polyline fill=\"none\" stroke=\"black\" points=\"1067,-27.5 1067,-63.5 \"/>\n<text text-anchor=\"middle\" x=\"1108\" y=\"-41.8\" font-family=\"Times,serif\" font-size=\"14.00\">grad 1.0000</text>\n</g>\n<!-- 139479133878736*&#45;&gt;139479133878736 -->\n<g id=\"edge2\" class=\"edge\">\n<title>139479133878736*&#45;&gt;139479133878736</title>\n<path fill=\"none\" stroke=\"black\" d=\"M921.28,-45.5C928.78,-45.5 937.44,-45.5 946.67,-45.5\"/>\n<polygon fill=\"black\" stroke=\"black\" points=\"946.87,-49 956.87,-45.5 946.87,-42 946.87,-49\"/>\n</g>\n<!-- 139479133869040 -->\n<g id=\"node9\" class=\"node\">\n<title>139479133869040</title>\n<polygon fill=\"none\" stroke=\"black\" points=\"321,-83.5 321,-119.5 515,-119.5 515,-83.5 321,-83.5\"/>\n<text text-anchor=\"middle\" x=\"332.5\" y=\"-97.8\" font-family=\"Times,serif\" font-size=\"14.00\">e</text>\n<polyline fill=\"none\" stroke=\"black\" points=\"344,-83.5 344,-119.5 \"/>\n<text text-anchor=\"middle\" x=\"386.5\" y=\"-97.8\" font-family=\"Times,serif\" font-size=\"14.00\">data &#45;6.0000</text>\n<polyline fill=\"none\" stroke=\"black\" points=\"429,-83.5 429,-119.5 \"/>\n<text text-anchor=\"middle\" x=\"472\" y=\"-97.8\" font-family=\"Times,serif\" font-size=\"14.00\">grad &#45;2.0000</text>\n</g>\n<!-- 139479133869040&#45;&gt;139479133870864+ -->\n<g id=\"edge6\" class=\"edge\">\n<title>139479133869040&#45;&gt;139479133870864+</title>\n<path fill=\"none\" stroke=\"black\" d=\"M515.16,-84.57C524.82,-82.87 534.13,-81.23 542.49,-79.75\"/>\n<polygon fill=\"black\" stroke=\"black\" points=\"543.3,-83.17 552.54,-77.98 542.08,-76.27 543.3,-83.17\"/>\n</g>\n<!-- 139479133869040*&#45;&gt;139479133869040 -->\n<g id=\"edge3\" class=\"edge\">\n<title>139479133869040*&#45;&gt;139479133869040</title>\n<path fill=\"none\" stroke=\"black\" d=\"M284.26,-101.5C292.05,-101.5 301.1,-101.5 310.75,-101.5\"/>\n<polygon fill=\"black\" stroke=\"black\" points=\"310.99,-105 320.99,-101.5 310.99,-98 310.99,-105\"/>\n</g>\n</g>\n</svg>\n",
            "text/plain": [
              "<graphviz.graphs.Digraph at 0x7edb043e9030>"
            ]
          },
          "metadata": {},
          "execution_count": 41
        }
      ]
    },
    {
      "cell_type": "code",
      "source": [
        "def lol():\n",
        "    h = 0.001\n",
        "\n",
        "    a = Value(2.0, label='a')\n",
        "    b = Value(-3.0, label='b')\n",
        "    c = Value(10.0, label='c')\n",
        "    e = a * b; e.label='e'\n",
        "    d = e + c; d.label='d'\n",
        "    f = Value(-2.0, label='f')\n",
        "    L = d * f; L.label='L'\n",
        "    L1 = L.data  #remember L is value object, we just want here the data\n",
        "\n",
        "    a = Value(2.0 + h, label='a') #bumping up a by h\n",
        "    b = Value(-3.0, label='b')\n",
        "    c = Value(10.0, label='c')\n",
        "    e = a * b; e.label='e'\n",
        "    d = (e + c); d.label='d'\n",
        "    f = Value(-2.0 , label='f')\n",
        "    L = d * f; L.label='L'\n",
        "    L2 = L.data\n",
        "\n",
        "    print((L2-L1)/h)\n",
        "\n",
        "lol() # computing L wrt to a"
      ],
      "metadata": {
        "colab": {
          "base_uri": "https://localhost:8080/"
        },
        "id": "L_nKfDEkA-KJ",
        "outputId": "12a8d7e1-872f-40bd-aa70-4d65f6806aef"
      },
      "execution_count": 42,
      "outputs": [
        {
          "output_type": "stream",
          "name": "stdout",
          "text": [
            "6.000000000000227\n"
          ]
        }
      ]
    },
    {
      "cell_type": "markdown",
      "source": [
        "From above we understand that **backpropogation is just multiplication of the local derivatives**. We know what this local derivative are. So backpropogation, we go just go on recursuvely multiplying the local derivatives - recursive application of chain rule"
      ],
      "metadata": {
        "id": "fW0JYOEaBU0Z"
      }
    },
    {
      "cell_type": "code",
      "source": [
        "draw_dot(L)"
      ],
      "metadata": {
        "colab": {
          "base_uri": "https://localhost:8080/",
          "height": 249
        },
        "id": "NTao7ikwCx2p",
        "outputId": "f022d0fa-fd57-497f-c598-a90e8b453baa"
      },
      "execution_count": 43,
      "outputs": [
        {
          "output_type": "execute_result",
          "data": {
            "image/svg+xml": "<?xml version=\"1.0\" encoding=\"UTF-8\" standalone=\"no\"?>\n<!DOCTYPE svg PUBLIC \"-//W3C//DTD SVG 1.1//EN\"\n \"http://www.w3.org/Graphics/SVG/1.1/DTD/svg11.dtd\">\n<!-- Generated by graphviz version 2.43.0 (0)\n -->\n<!-- Title: %3 Pages: 1 -->\n<svg width=\"1157pt\" height=\"156pt\"\n viewBox=\"0.00 0.00 1157.00 156.00\" xmlns=\"http://www.w3.org/2000/svg\" xmlns:xlink=\"http://www.w3.org/1999/xlink\">\n<g id=\"graph0\" class=\"graph\" transform=\"scale(1 1) rotate(0) translate(4 152)\">\n<title>%3</title>\n<polygon fill=\"white\" stroke=\"transparent\" points=\"-4,4 -4,-152 1153,-152 1153,4 -4,4\"/>\n<!-- 139479133869136 -->\n<g id=\"node1\" class=\"node\">\n<title>139479133869136</title>\n<polygon fill=\"none\" stroke=\"black\" points=\"4.5,-111.5 4.5,-147.5 189.5,-147.5 189.5,-111.5 4.5,-111.5\"/>\n<text text-anchor=\"middle\" x=\"16\" y=\"-125.8\" font-family=\"Times,serif\" font-size=\"14.00\">a</text>\n<polyline fill=\"none\" stroke=\"black\" points=\"27.5,-111.5 27.5,-147.5 \"/>\n<text text-anchor=\"middle\" x=\"67.5\" y=\"-125.8\" font-family=\"Times,serif\" font-size=\"14.00\">data 2.0000</text>\n<polyline fill=\"none\" stroke=\"black\" points=\"107.5,-111.5 107.5,-147.5 \"/>\n<text text-anchor=\"middle\" x=\"148.5\" y=\"-125.8\" font-family=\"Times,serif\" font-size=\"14.00\">grad 6.0000</text>\n</g>\n<!-- 139479133869040* -->\n<g id=\"node10\" class=\"node\">\n<title>139479133869040*</title>\n<ellipse fill=\"none\" stroke=\"black\" cx=\"257\" cy=\"-101.5\" rx=\"27\" ry=\"18\"/>\n<text text-anchor=\"middle\" x=\"257\" y=\"-97.8\" font-family=\"Times,serif\" font-size=\"14.00\">*</text>\n</g>\n<!-- 139479133869136&#45;&gt;139479133869040* -->\n<g id=\"edge7\" class=\"edge\">\n<title>139479133869136&#45;&gt;139479133869040*</title>\n<path fill=\"none\" stroke=\"black\" d=\"M189.91,-113.21C200.76,-111.29 211.28,-109.43 220.61,-107.77\"/>\n<polygon fill=\"black\" stroke=\"black\" points=\"221.37,-111.19 230.6,-106 220.15,-104.3 221.37,-111.19\"/>\n</g>\n<!-- 139479133869760 -->\n<g id=\"node2\" class=\"node\">\n<title>139479133869760</title>\n<polygon fill=\"none\" stroke=\"black\" points=\"0,-56.5 0,-92.5 194,-92.5 194,-56.5 0,-56.5\"/>\n<text text-anchor=\"middle\" x=\"11.5\" y=\"-70.8\" font-family=\"Times,serif\" font-size=\"14.00\">b</text>\n<polyline fill=\"none\" stroke=\"black\" points=\"23,-56.5 23,-92.5 \"/>\n<text text-anchor=\"middle\" x=\"65.5\" y=\"-70.8\" font-family=\"Times,serif\" font-size=\"14.00\">data &#45;3.0000</text>\n<polyline fill=\"none\" stroke=\"black\" points=\"108,-56.5 108,-92.5 \"/>\n<text text-anchor=\"middle\" x=\"151\" y=\"-70.8\" font-family=\"Times,serif\" font-size=\"14.00\">grad &#45;4.0000</text>\n</g>\n<!-- 139479133869760&#45;&gt;139479133869040* -->\n<g id=\"edge9\" class=\"edge\">\n<title>139479133869760&#45;&gt;139479133869040*</title>\n<path fill=\"none\" stroke=\"black\" d=\"M194.01,-90.91C203.35,-92.5 212.37,-94.04 220.49,-95.43\"/>\n<polygon fill=\"black\" stroke=\"black\" points=\"220.16,-98.93 230.6,-97.16 221.34,-92.03 220.16,-98.93\"/>\n</g>\n<!-- 139479133870864 -->\n<g id=\"node3\" class=\"node\">\n<title>139479133870864</title>\n<polygon fill=\"none\" stroke=\"black\" points=\"642,-55.5 642,-91.5 831,-91.5 831,-55.5 642,-55.5\"/>\n<text text-anchor=\"middle\" x=\"653.5\" y=\"-69.8\" font-family=\"Times,serif\" font-size=\"14.00\">d</text>\n<polyline fill=\"none\" stroke=\"black\" points=\"665,-55.5 665,-91.5 \"/>\n<text text-anchor=\"middle\" x=\"705\" y=\"-69.8\" font-family=\"Times,serif\" font-size=\"14.00\">data 4.0000</text>\n<polyline fill=\"none\" stroke=\"black\" points=\"745,-55.5 745,-91.5 \"/>\n<text text-anchor=\"middle\" x=\"788\" y=\"-69.8\" font-family=\"Times,serif\" font-size=\"14.00\">grad &#45;2.0000</text>\n</g>\n<!-- 139479133878736* -->\n<g id=\"node8\" class=\"node\">\n<title>139479133878736*</title>\n<ellipse fill=\"none\" stroke=\"black\" cx=\"894\" cy=\"-45.5\" rx=\"27\" ry=\"18\"/>\n<text text-anchor=\"middle\" x=\"894\" y=\"-41.8\" font-family=\"Times,serif\" font-size=\"14.00\">*</text>\n</g>\n<!-- 139479133870864&#45;&gt;139479133878736* -->\n<g id=\"edge4\" class=\"edge\">\n<title>139479133870864&#45;&gt;139479133878736*</title>\n<path fill=\"none\" stroke=\"black\" d=\"M831.1,-56.65C840.4,-54.97 849.38,-53.35 857.49,-51.89\"/>\n<polygon fill=\"black\" stroke=\"black\" points=\"858.37,-55.29 867.59,-50.07 857.13,-48.4 858.37,-55.29\"/>\n</g>\n<!-- 139479133870864+ -->\n<g id=\"node4\" class=\"node\">\n<title>139479133870864+</title>\n<ellipse fill=\"none\" stroke=\"black\" cx=\"579\" cy=\"-73.5\" rx=\"27\" ry=\"18\"/>\n<text text-anchor=\"middle\" x=\"579\" y=\"-69.8\" font-family=\"Times,serif\" font-size=\"14.00\">+</text>\n</g>\n<!-- 139479133870864+&#45;&gt;139479133870864 -->\n<g id=\"edge1\" class=\"edge\">\n<title>139479133870864+&#45;&gt;139479133870864</title>\n<path fill=\"none\" stroke=\"black\" d=\"M606.03,-73.5C613.66,-73.5 622.52,-73.5 631.94,-73.5\"/>\n<polygon fill=\"black\" stroke=\"black\" points=\"631.94,-77 641.94,-73.5 631.94,-70 631.94,-77\"/>\n</g>\n<!-- 139479133866400 -->\n<g id=\"node5\" class=\"node\">\n<title>139479133866400</title>\n<polygon fill=\"none\" stroke=\"black\" points=\"642.5,-0.5 642.5,-36.5 830.5,-36.5 830.5,-0.5 642.5,-0.5\"/>\n<text text-anchor=\"middle\" x=\"653\" y=\"-14.8\" font-family=\"Times,serif\" font-size=\"14.00\">f</text>\n<polyline fill=\"none\" stroke=\"black\" points=\"663.5,-0.5 663.5,-36.5 \"/>\n<text text-anchor=\"middle\" x=\"706\" y=\"-14.8\" font-family=\"Times,serif\" font-size=\"14.00\">data &#45;2.0000</text>\n<polyline fill=\"none\" stroke=\"black\" points=\"748.5,-0.5 748.5,-36.5 \"/>\n<text text-anchor=\"middle\" x=\"789.5\" y=\"-14.8\" font-family=\"Times,serif\" font-size=\"14.00\">grad 4.0000</text>\n</g>\n<!-- 139479133866400&#45;&gt;139479133878736* -->\n<g id=\"edge5\" class=\"edge\">\n<title>139479133866400&#45;&gt;139479133878736*</title>\n<path fill=\"none\" stroke=\"black\" d=\"M830.65,-34.67C840.2,-36.33 849.43,-37.93 857.72,-39.37\"/>\n<polygon fill=\"black\" stroke=\"black\" points=\"857.24,-42.84 867.69,-41.11 858.44,-35.95 857.24,-42.84\"/>\n</g>\n<!-- 139479133876144 -->\n<g id=\"node6\" class=\"node\">\n<title>139479133876144</title>\n<polygon fill=\"none\" stroke=\"black\" points=\"320,-28.5 320,-64.5 516,-64.5 516,-28.5 320,-28.5\"/>\n<text text-anchor=\"middle\" x=\"331.5\" y=\"-42.8\" font-family=\"Times,serif\" font-size=\"14.00\">c</text>\n<polyline fill=\"none\" stroke=\"black\" points=\"343,-28.5 343,-64.5 \"/>\n<text text-anchor=\"middle\" x=\"386.5\" y=\"-42.8\" font-family=\"Times,serif\" font-size=\"14.00\">data 10.0000</text>\n<polyline fill=\"none\" stroke=\"black\" points=\"430,-28.5 430,-64.5 \"/>\n<text text-anchor=\"middle\" x=\"473\" y=\"-42.8\" font-family=\"Times,serif\" font-size=\"14.00\">grad &#45;2.0000</text>\n</g>\n<!-- 139479133876144&#45;&gt;139479133870864+ -->\n<g id=\"edge8\" class=\"edge\">\n<title>139479133876144&#45;&gt;139479133870864+</title>\n<path fill=\"none\" stroke=\"black\" d=\"M516.07,-62.98C525.42,-64.57 534.43,-66.1 542.55,-67.48\"/>\n<polygon fill=\"black\" stroke=\"black\" points=\"542.21,-70.97 552.65,-69.2 543.38,-64.07 542.21,-70.97\"/>\n</g>\n<!-- 139479133878736 -->\n<g id=\"node7\" class=\"node\">\n<title>139479133878736</title>\n<polygon fill=\"none\" stroke=\"black\" points=\"957,-27.5 957,-63.5 1149,-63.5 1149,-27.5 957,-27.5\"/>\n<text text-anchor=\"middle\" x=\"969.5\" y=\"-41.8\" font-family=\"Times,serif\" font-size=\"14.00\">L</text>\n<polyline fill=\"none\" stroke=\"black\" points=\"982,-27.5 982,-63.5 \"/>\n<text text-anchor=\"middle\" x=\"1024.5\" y=\"-41.8\" font-family=\"Times,serif\" font-size=\"14.00\">data &#45;8.0000</text>\n<polyline fill=\"none\" stroke=\"black\" points=\"1067,-27.5 1067,-63.5 \"/>\n<text text-anchor=\"middle\" x=\"1108\" y=\"-41.8\" font-family=\"Times,serif\" font-size=\"14.00\">grad 1.0000</text>\n</g>\n<!-- 139479133878736*&#45;&gt;139479133878736 -->\n<g id=\"edge2\" class=\"edge\">\n<title>139479133878736*&#45;&gt;139479133878736</title>\n<path fill=\"none\" stroke=\"black\" d=\"M921.28,-45.5C928.78,-45.5 937.44,-45.5 946.67,-45.5\"/>\n<polygon fill=\"black\" stroke=\"black\" points=\"946.87,-49 956.87,-45.5 946.87,-42 946.87,-49\"/>\n</g>\n<!-- 139479133869040 -->\n<g id=\"node9\" class=\"node\">\n<title>139479133869040</title>\n<polygon fill=\"none\" stroke=\"black\" points=\"321,-83.5 321,-119.5 515,-119.5 515,-83.5 321,-83.5\"/>\n<text text-anchor=\"middle\" x=\"332.5\" y=\"-97.8\" font-family=\"Times,serif\" font-size=\"14.00\">e</text>\n<polyline fill=\"none\" stroke=\"black\" points=\"344,-83.5 344,-119.5 \"/>\n<text text-anchor=\"middle\" x=\"386.5\" y=\"-97.8\" font-family=\"Times,serif\" font-size=\"14.00\">data &#45;6.0000</text>\n<polyline fill=\"none\" stroke=\"black\" points=\"429,-83.5 429,-119.5 \"/>\n<text text-anchor=\"middle\" x=\"472\" y=\"-97.8\" font-family=\"Times,serif\" font-size=\"14.00\">grad &#45;2.0000</text>\n</g>\n<!-- 139479133869040&#45;&gt;139479133870864+ -->\n<g id=\"edge6\" class=\"edge\">\n<title>139479133869040&#45;&gt;139479133870864+</title>\n<path fill=\"none\" stroke=\"black\" d=\"M515.16,-84.57C524.82,-82.87 534.13,-81.23 542.49,-79.75\"/>\n<polygon fill=\"black\" stroke=\"black\" points=\"543.3,-83.17 552.54,-77.98 542.08,-76.27 543.3,-83.17\"/>\n</g>\n<!-- 139479133869040*&#45;&gt;139479133869040 -->\n<g id=\"edge3\" class=\"edge\">\n<title>139479133869040*&#45;&gt;139479133869040</title>\n<path fill=\"none\" stroke=\"black\" d=\"M284.26,-101.5C292.05,-101.5 301.1,-101.5 310.75,-101.5\"/>\n<polygon fill=\"black\" stroke=\"black\" points=\"310.99,-105 320.99,-101.5 310.99,-98 310.99,-105\"/>\n</g>\n</g>\n</svg>\n",
            "text/plain": [
              "<graphviz.graphs.Digraph at 0x7edb043ebc40>"
            ]
          },
          "metadata": {},
          "execution_count": 43
        }
      ]
    },
    {
      "cell_type": "markdown",
      "source": [
        "#### Impact of input changes on L"
      ],
      "metadata": {
        "id": "NP53szq4B1SJ"
      }
    },
    {
      "cell_type": "code",
      "source": [
        "# we will nudge our inputs in order for the L to go up\n",
        "# so if we ant L to go up, we want to walk in the direction of gradient\n",
        "# step_size be 0.01\n",
        "# a, b, c,f are the leaf nodes on which we have control\n",
        "\n",
        "a.data += 0.01 * a.grad\n",
        "b.data += 0.01 * b.grad\n",
        "c.data += 0.01 * c.grad\n",
        "f.data += 0.01 * f.grad\n",
        "\n",
        "e = a * b\n",
        "d = e + c\n",
        "L = d * f\n",
        "\n",
        "print(L.data)"
      ],
      "metadata": {
        "colab": {
          "base_uri": "https://localhost:8080/"
        },
        "id": "Gdgy1OhWB1BR",
        "outputId": "8b1ee2f0-4eb2-4947-e7a9-4163d086025a"
      },
      "execution_count": 44,
      "outputs": [
        {
          "output_type": "stream",
          "name": "stdout",
          "text": [
            "-7.286496\n"
          ]
        }
      ]
    },
    {
      "cell_type": "code",
      "source": [
        "def lol():\n",
        "    h = 0.001\n",
        "\n",
        "    a = Value(2.0, label='a')\n",
        "    b = Value(-3.0, label='b')\n",
        "    c = Value(10.0, label='c')\n",
        "    e = a * b; e.label='e'\n",
        "    d = e + c; d.label='d'\n",
        "    f = Value(-2.0, label='f')\n",
        "    L = d * f; L.label='L'\n",
        "    L1 = L.data  #remember L is value object, we just want here the data\n",
        "\n",
        "    a = Value(2.0, label='a') #bumping up a by h\n",
        "    b = Value(-3.0, label='b')\n",
        "    b.data+=h # bumping up b by h\n",
        "    c = Value(10.0, label='c')\n",
        "    e = a * b; e.label='e'\n",
        "    d = (e + c); d.label='d'\n",
        "    f = Value(-2.0 , label='f')\n",
        "    L = d * f; L.label='L'\n",
        "    L2 = L.data\n",
        "\n",
        "    print((L2-L1)/h)\n",
        "\n",
        "lol() # computing L wrt to a"
      ],
      "metadata": {
        "colab": {
          "base_uri": "https://localhost:8080/"
        },
        "id": "ESvdT4UcDPeY",
        "outputId": "6fa95052-96c8-44f3-b9e0-720ac2e126c4"
      },
      "execution_count": 45,
      "outputs": [
        {
          "output_type": "stream",
          "name": "stdout",
          "text": [
            "-3.9999999999995595\n"
          ]
        }
      ]
    },
    {
      "cell_type": "markdown",
      "source": [
        "### Neuron"
      ],
      "metadata": {
        "id": "Ue3zg4qRBA7r"
      }
    },
    {
      "cell_type": "markdown",
      "source": [
        "What is a simple neuron in Neural network?\n",
        " - mimics a biological neuron, which is far more complex that NN neuron\n",
        " - there is multiple inputs flowing fom axon of another neuron to cell body of the neuron. And then we have the synases which carry the weights. the inputs are multiplied by these weights. Weights are like the synaptic strength for each inputs.\n",
        " - neuron also has some bias (sort of innate trigger).the bias is added to the sum of all the $w_{i} * x_{i}$ and passes it to an activation function\n",
        " - this activation function is kind of squashing function like sigmoid, tanh, relu\n",
        " - output of a neuron is just the activation function applied to dot product of ws and xs and plus the bias f($\\sum_{i=1}^n w_{i}.x_{i} + b)$"
      ],
      "metadata": {
        "id": "MtLSsRuXD9ei"
      }
    },
    {
      "cell_type": "markdown",
      "source": [
        "Let's look at tanh function and how are we gonna include it.\n",
        "\n",
        "**tanh: Hyperbolic tangent**\n",
        "\n",
        "`tanh(x)` =` sinh(x) / cosh(x)` = $e^x - e^{-x} / e^x + e^{-x}$\n",
        "\n",
        "tanh at 0 is 0, for positive value its positive and then plateaus off at 1, similarly for negative values of x, the function is negative, and plateaus off at -1. So for large positive/negative values the funtcion eaturns 1/-1."
      ],
      "metadata": {
        "id": "BQ8FmL8JBFbr"
      }
    },
    {
      "cell_type": "code",
      "source": [
        "plt.plot(np.arange(-5, 5, 0.2), np.tanh(np.arange(-5, 5, 0.2)))\n",
        "plt.grid()\n",
        "plt.show()"
      ],
      "metadata": {
        "colab": {
          "base_uri": "https://localhost:8080/",
          "height": 430
        },
        "id": "4SsRfBMkD6Ix",
        "outputId": "99874d20-8e8f-47af-a585-a7707ad01fd2"
      },
      "execution_count": 46,
      "outputs": [
        {
          "output_type": "display_data",
          "data": {
            "text/plain": [
              "<Figure size 640x480 with 1 Axes>"
            ],
            "image/png": "[encoded data removed]"
          },
          "metadata": {}
        }
      ]
    },
    {
      "cell_type": "code",
      "source": [
        "#inputs\n",
        "x1 = Value(2.0, label='x1')\n",
        "x2 = Value(0.0, label='x2')\n",
        "\n",
        "# weights w1, w2\n",
        "w1 = Value(-3.0, label='w1')\n",
        "w2 = Value(1.0, label='w2')\n",
        "\n",
        "# bias of the neuron\n",
        "b = Value(6.7, label='b')\n",
        "\n",
        "#x1w1, x2w2\n",
        "x1w1 = x1 * w1; x1w1.label='x1w1'\n",
        "x2w2 = x2 * w2; x2w2.label='x2w2'\n",
        "x1w1x2w2 = x1w1 + x2w2; x1w1x2w2.label='x1w1 + x2w2'\n",
        "\n",
        "n = x1w1x2w2 + b; n.label='n'\n",
        "\n",
        "#activation\n",
        "#o = n.tanh()  # note we won't do a tanh operation here as we haven't implemented that function\n",
        "\n",
        "draw_dot(n)"
      ],
      "metadata": {
        "colab": {
          "base_uri": "https://localhost:8080/",
          "height": 321
        },
        "id": "Ev08ZUXuFxoY",
        "outputId": "d3863585-877b-4b7f-90ff-d301fc093686"
      },
      "execution_count": 47,
      "outputs": [
        {
          "output_type": "execute_result",
          "data": {
            "image/svg+xml": "<?xml version=\"1.0\" encoding=\"UTF-8\" standalone=\"no\"?>\n<!DOCTYPE svg PUBLIC \"-//W3C//DTD SVG 1.1//EN\"\n \"http://www.w3.org/Graphics/SVG/1.1/DTD/svg11.dtd\">\n<!-- Generated by graphviz version 2.43.0 (0)\n -->\n<!-- Title: %3 Pages: 1 -->\n<svg width=\"1244pt\" height=\"210pt\"\n viewBox=\"0.00 0.00 1244.00 210.00\" xmlns=\"http://www.w3.org/2000/svg\" xmlns:xlink=\"http://www.w3.org/1999/xlink\">\n<g id=\"graph0\" class=\"graph\" transform=\"scale(1 1) rotate(0) translate(4 206)\">\n<title>%3</title>\n<polygon fill=\"white\" stroke=\"transparent\" points=\"-4,4 -4,-206 1240,-206 1240,4 -4,4\"/>\n<!-- 139479132510368 -->\n<g id=\"node1\" class=\"node\">\n<title>139479132510368</title>\n<polygon fill=\"none\" stroke=\"black\" points=\"666,-82.5 666,-118.5 925,-118.5 925,-82.5 666,-82.5\"/>\n<text text-anchor=\"middle\" x=\"712\" y=\"-96.8\" font-family=\"Times,serif\" font-size=\"14.00\">x1w1 + x2w2</text>\n<polyline fill=\"none\" stroke=\"black\" points=\"758,-82.5 758,-118.5 \"/>\n<text text-anchor=\"middle\" x=\"800.5\" y=\"-96.8\" font-family=\"Times,serif\" font-size=\"14.00\">data &#45;6.0000</text>\n<polyline fill=\"none\" stroke=\"black\" points=\"843,-82.5 843,-118.5 \"/>\n<text text-anchor=\"middle\" x=\"884\" y=\"-96.8\" font-family=\"Times,serif\" font-size=\"14.00\">grad 0.0000</text>\n</g>\n<!-- 139479132509360+ -->\n<g id=\"node4\" class=\"node\">\n<title>139479132509360+</title>\n<ellipse fill=\"none\" stroke=\"black\" cx=\"988\" cy=\"-127.5\" rx=\"27\" ry=\"18\"/>\n<text text-anchor=\"middle\" x=\"988\" y=\"-123.8\" font-family=\"Times,serif\" font-size=\"14.00\">+</text>\n</g>\n<!-- 139479132510368&#45;&gt;139479132509360+ -->\n<g id=\"edge7\" class=\"edge\">\n<title>139479132510368&#45;&gt;139479132509360+</title>\n<path fill=\"none\" stroke=\"black\" d=\"M923.57,-118.51C933.55,-119.92 943,-121.26 951.42,-122.46\"/>\n<polygon fill=\"black\" stroke=\"black\" points=\"951.09,-125.95 961.48,-123.88 952.07,-119.01 951.09,-125.95\"/>\n</g>\n<!-- 139479132510368+ -->\n<g id=\"node2\" class=\"node\">\n<title>139479132510368+</title>\n<ellipse fill=\"none\" stroke=\"black\" cx=\"603\" cy=\"-100.5\" rx=\"27\" ry=\"18\"/>\n<text text-anchor=\"middle\" x=\"603\" y=\"-96.8\" font-family=\"Times,serif\" font-size=\"14.00\">+</text>\n</g>\n<!-- 139479132510368+&#45;&gt;139479132510368 -->\n<g id=\"edge1\" class=\"edge\">\n<title>139479132510368+&#45;&gt;139479132510368</title>\n<path fill=\"none\" stroke=\"black\" d=\"M630.09,-100.5C637.58,-100.5 646.3,-100.5 655.75,-100.5\"/>\n<polygon fill=\"black\" stroke=\"black\" points=\"655.84,-104 665.84,-100.5 655.84,-97 655.84,-104\"/>\n</g>\n<!-- 139479132509360 -->\n<g id=\"node3\" class=\"node\">\n<title>139479132509360</title>\n<polygon fill=\"none\" stroke=\"black\" points=\"1051,-109.5 1051,-145.5 1236,-145.5 1236,-109.5 1051,-109.5\"/>\n<text text-anchor=\"middle\" x=\"1062.5\" y=\"-123.8\" font-family=\"Times,serif\" font-size=\"14.00\">n</text>\n<polyline fill=\"none\" stroke=\"black\" points=\"1074,-109.5 1074,-145.5 \"/>\n<text text-anchor=\"middle\" x=\"1114\" y=\"-123.8\" font-family=\"Times,serif\" font-size=\"14.00\">data 0.7000</text>\n<polyline fill=\"none\" stroke=\"black\" points=\"1154,-109.5 1154,-145.5 \"/>\n<text text-anchor=\"middle\" x=\"1195\" y=\"-123.8\" font-family=\"Times,serif\" font-size=\"14.00\">grad 0.0000</text>\n</g>\n<!-- 139479132509360+&#45;&gt;139479132509360 -->\n<g id=\"edge2\" class=\"edge\">\n<title>139479132509360+&#45;&gt;139479132509360</title>\n<path fill=\"none\" stroke=\"black\" d=\"M1015.04,-127.5C1022.58,-127.5 1031.3,-127.5 1040.57,-127.5\"/>\n<polygon fill=\"black\" stroke=\"black\" points=\"1040.81,-131 1050.81,-127.5 1040.81,-124 1040.81,-131\"/>\n</g>\n<!-- 139479132796672 -->\n<g id=\"node5\" class=\"node\">\n<title>139479132796672</title>\n<polygon fill=\"none\" stroke=\"black\" points=\"703,-137.5 703,-173.5 888,-173.5 888,-137.5 703,-137.5\"/>\n<text text-anchor=\"middle\" x=\"714.5\" y=\"-151.8\" font-family=\"Times,serif\" font-size=\"14.00\">b</text>\n<polyline fill=\"none\" stroke=\"black\" points=\"726,-137.5 726,-173.5 \"/>\n<text text-anchor=\"middle\" x=\"766\" y=\"-151.8\" font-family=\"Times,serif\" font-size=\"14.00\">data 6.7000</text>\n<polyline fill=\"none\" stroke=\"black\" points=\"806,-137.5 806,-173.5 \"/>\n<text text-anchor=\"middle\" x=\"847\" y=\"-151.8\" font-family=\"Times,serif\" font-size=\"14.00\">grad 0.0000</text>\n</g>\n<!-- 139479132796672&#45;&gt;139479132509360+ -->\n<g id=\"edge8\" class=\"edge\">\n<title>139479132796672&#45;&gt;139479132509360+</title>\n<path fill=\"none\" stroke=\"black\" d=\"M888.12,-142.03C910.59,-138.73 933.33,-135.39 951.33,-132.74\"/>\n<polygon fill=\"black\" stroke=\"black\" points=\"951.96,-136.19 961.34,-131.27 950.94,-129.26 951.96,-136.19\"/>\n</g>\n<!-- 139479132798256 -->\n<g id=\"node6\" class=\"node\">\n<title>139479132798256</title>\n<polygon fill=\"none\" stroke=\"black\" points=\"4,-165.5 4,-201.5 196,-201.5 196,-165.5 4,-165.5\"/>\n<text text-anchor=\"middle\" x=\"19\" y=\"-179.8\" font-family=\"Times,serif\" font-size=\"14.00\">x1</text>\n<polyline fill=\"none\" stroke=\"black\" points=\"34,-165.5 34,-201.5 \"/>\n<text text-anchor=\"middle\" x=\"74\" y=\"-179.8\" font-family=\"Times,serif\" font-size=\"14.00\">data 2.0000</text>\n<polyline fill=\"none\" stroke=\"black\" points=\"114,-165.5 114,-201.5 \"/>\n<text text-anchor=\"middle\" x=\"155\" y=\"-179.8\" font-family=\"Times,serif\" font-size=\"14.00\">grad 0.0000</text>\n</g>\n<!-- 139479132797248* -->\n<g id=\"node8\" class=\"node\">\n<title>139479132797248*</title>\n<ellipse fill=\"none\" stroke=\"black\" cx=\"263\" cy=\"-128.5\" rx=\"27\" ry=\"18\"/>\n<text text-anchor=\"middle\" x=\"263\" y=\"-124.8\" font-family=\"Times,serif\" font-size=\"14.00\">*</text>\n</g>\n<!-- 139479132798256&#45;&gt;139479132797248* -->\n<g id=\"edge12\" class=\"edge\">\n<title>139479132798256&#45;&gt;139479132797248*</title>\n<path fill=\"none\" stroke=\"black\" d=\"M172.53,-165.44C181.84,-162.67 191.2,-159.67 200,-156.5 210.53,-152.71 221.75,-147.9 231.72,-143.33\"/>\n<polygon fill=\"black\" stroke=\"black\" points=\"233.25,-146.48 240.82,-139.07 230.28,-140.14 233.25,-146.48\"/>\n</g>\n<!-- 139479132797248 -->\n<g id=\"node7\" class=\"node\">\n<title>139479132797248</title>\n<polygon fill=\"none\" stroke=\"black\" points=\"326,-110.5 326,-146.5 540,-146.5 540,-110.5 326,-110.5\"/>\n<text text-anchor=\"middle\" x=\"349.5\" y=\"-124.8\" font-family=\"Times,serif\" font-size=\"14.00\">x1w1</text>\n<polyline fill=\"none\" stroke=\"black\" points=\"373,-110.5 373,-146.5 \"/>\n<text text-anchor=\"middle\" x=\"415.5\" y=\"-124.8\" font-family=\"Times,serif\" font-size=\"14.00\">data &#45;6.0000</text>\n<polyline fill=\"none\" stroke=\"black\" points=\"458,-110.5 458,-146.5 \"/>\n<text text-anchor=\"middle\" x=\"499\" y=\"-124.8\" font-family=\"Times,serif\" font-size=\"14.00\">grad 0.0000</text>\n</g>\n<!-- 139479132797248&#45;&gt;139479132510368+ -->\n<g id=\"edge9\" class=\"edge\">\n<title>139479132797248&#45;&gt;139479132510368+</title>\n<path fill=\"none\" stroke=\"black\" d=\"M540.4,-110.77C549.72,-109.21 558.65,-107.72 566.68,-106.39\"/>\n<polygon fill=\"black\" stroke=\"black\" points=\"567.38,-109.82 576.66,-104.72 566.22,-102.91 567.38,-109.82\"/>\n</g>\n<!-- 139479132797248*&#45;&gt;139479132797248 -->\n<g id=\"edge3\" class=\"edge\">\n<title>139479132797248*&#45;&gt;139479132797248</title>\n<path fill=\"none\" stroke=\"black\" d=\"M290.25,-128.5C297.7,-128.5 306.34,-128.5 315.59,-128.5\"/>\n<polygon fill=\"black\" stroke=\"black\" points=\"315.84,-132 325.84,-128.5 315.84,-125 315.84,-132\"/>\n</g>\n<!-- 139479132509504 -->\n<g id=\"node9\" class=\"node\">\n<title>139479132509504</title>\n<polygon fill=\"none\" stroke=\"black\" points=\"328.5,-55.5 328.5,-91.5 537.5,-91.5 537.5,-55.5 328.5,-55.5\"/>\n<text text-anchor=\"middle\" x=\"352\" y=\"-69.8\" font-family=\"Times,serif\" font-size=\"14.00\">x2w2</text>\n<polyline fill=\"none\" stroke=\"black\" points=\"375.5,-55.5 375.5,-91.5 \"/>\n<text text-anchor=\"middle\" x=\"415.5\" y=\"-69.8\" font-family=\"Times,serif\" font-size=\"14.00\">data 0.0000</text>\n<polyline fill=\"none\" stroke=\"black\" points=\"455.5,-55.5 455.5,-91.5 \"/>\n<text text-anchor=\"middle\" x=\"496.5\" y=\"-69.8\" font-family=\"Times,serif\" font-size=\"14.00\">grad 0.0000</text>\n</g>\n<!-- 139479132509504&#45;&gt;139479132510368+ -->\n<g id=\"edge11\" class=\"edge\">\n<title>139479132509504&#45;&gt;139479132510368+</title>\n<path fill=\"none\" stroke=\"black\" d=\"M537.53,-90.14C547.8,-91.79 557.66,-93.37 566.45,-94.79\"/>\n<polygon fill=\"black\" stroke=\"black\" points=\"566.16,-98.28 576.59,-96.42 567.27,-91.37 566.16,-98.28\"/>\n</g>\n<!-- 139479132509504* -->\n<g id=\"node10\" class=\"node\">\n<title>139479132509504*</title>\n<ellipse fill=\"none\" stroke=\"black\" cx=\"263\" cy=\"-73.5\" rx=\"27\" ry=\"18\"/>\n<text text-anchor=\"middle\" x=\"263\" y=\"-69.8\" font-family=\"Times,serif\" font-size=\"14.00\">*</text>\n</g>\n<!-- 139479132509504*&#45;&gt;139479132509504 -->\n<g id=\"edge4\" class=\"edge\">\n<title>139479132509504*&#45;&gt;139479132509504</title>\n<path fill=\"none\" stroke=\"black\" d=\"M290.25,-73.5C298.43,-73.5 308.03,-73.5 318.31,-73.5\"/>\n<polygon fill=\"black\" stroke=\"black\" points=\"318.35,-77 328.35,-73.5 318.35,-70 318.35,-77\"/>\n</g>\n<!-- 139479132796768 -->\n<g id=\"node11\" class=\"node\">\n<title>139479132796768</title>\n<polygon fill=\"none\" stroke=\"black\" points=\"2.5,-55.5 2.5,-91.5 197.5,-91.5 197.5,-55.5 2.5,-55.5\"/>\n<text text-anchor=\"middle\" x=\"19\" y=\"-69.8\" font-family=\"Times,serif\" font-size=\"14.00\">w2</text>\n<polyline fill=\"none\" stroke=\"black\" points=\"35.5,-55.5 35.5,-91.5 \"/>\n<text text-anchor=\"middle\" x=\"75.5\" y=\"-69.8\" font-family=\"Times,serif\" font-size=\"14.00\">data 1.0000</text>\n<polyline fill=\"none\" stroke=\"black\" points=\"115.5,-55.5 115.5,-91.5 \"/>\n<text text-anchor=\"middle\" x=\"156.5\" y=\"-69.8\" font-family=\"Times,serif\" font-size=\"14.00\">grad 0.0000</text>\n</g>\n<!-- 139479132796768&#45;&gt;139479132509504* -->\n<g id=\"edge10\" class=\"edge\">\n<title>139479132796768&#45;&gt;139479132509504*</title>\n<path fill=\"none\" stroke=\"black\" d=\"M197.91,-73.5C207.65,-73.5 217.05,-73.5 225.52,-73.5\"/>\n<polygon fill=\"black\" stroke=\"black\" points=\"225.7,-77 235.7,-73.5 225.7,-70 225.7,-77\"/>\n</g>\n<!-- 139479132798352 -->\n<g id=\"node12\" class=\"node\">\n<title>139479132798352</title>\n<polygon fill=\"none\" stroke=\"black\" points=\"4,-0.5 4,-36.5 196,-36.5 196,-0.5 4,-0.5\"/>\n<text text-anchor=\"middle\" x=\"19\" y=\"-14.8\" font-family=\"Times,serif\" font-size=\"14.00\">x2</text>\n<polyline fill=\"none\" stroke=\"black\" points=\"34,-0.5 34,-36.5 \"/>\n<text text-anchor=\"middle\" x=\"74\" y=\"-14.8\" font-family=\"Times,serif\" font-size=\"14.00\">data 0.0000</text>\n<polyline fill=\"none\" stroke=\"black\" points=\"114,-0.5 114,-36.5 \"/>\n<text text-anchor=\"middle\" x=\"155\" y=\"-14.8\" font-family=\"Times,serif\" font-size=\"14.00\">grad 0.0000</text>\n</g>\n<!-- 139479132798352&#45;&gt;139479132509504* -->\n<g id=\"edge6\" class=\"edge\">\n<title>139479132798352&#45;&gt;139479132509504*</title>\n<path fill=\"none\" stroke=\"black\" d=\"M169.28,-36.5C179.65,-39.61 190.16,-42.98 200,-46.5 210.28,-50.17 221.28,-54.74 231.11,-59.07\"/>\n<polygon fill=\"black\" stroke=\"black\" points=\"229.93,-62.37 240.48,-63.27 232.79,-55.99 229.93,-62.37\"/>\n</g>\n<!-- 139479132797344 -->\n<g id=\"node13\" class=\"node\">\n<title>139479132797344</title>\n<polygon fill=\"none\" stroke=\"black\" points=\"0,-110.5 0,-146.5 200,-146.5 200,-110.5 0,-110.5\"/>\n<text text-anchor=\"middle\" x=\"16.5\" y=\"-124.8\" font-family=\"Times,serif\" font-size=\"14.00\">w1</text>\n<polyline fill=\"none\" stroke=\"black\" points=\"33,-110.5 33,-146.5 \"/>\n<text text-anchor=\"middle\" x=\"75.5\" y=\"-124.8\" font-family=\"Times,serif\" font-size=\"14.00\">data &#45;3.0000</text>\n<polyline fill=\"none\" stroke=\"black\" points=\"118,-110.5 118,-146.5 \"/>\n<text text-anchor=\"middle\" x=\"159\" y=\"-124.8\" font-family=\"Times,serif\" font-size=\"14.00\">grad 0.0000</text>\n</g>\n<!-- 139479132797344&#45;&gt;139479132797248* -->\n<g id=\"edge5\" class=\"edge\">\n<title>139479132797344&#45;&gt;139479132797248*</title>\n<path fill=\"none\" stroke=\"black\" d=\"M200.21,-128.5C209.2,-128.5 217.86,-128.5 225.7,-128.5\"/>\n<polygon fill=\"black\" stroke=\"black\" points=\"225.85,-132 235.85,-128.5 225.85,-125 225.85,-132\"/>\n</g>\n</g>\n</svg>\n",
            "text/plain": [
              "<graphviz.graphs.Digraph at 0x7edb04259960>"
            ]
          },
          "metadata": {},
          "execution_count": 47
        }
      ]
    },
    {
      "cell_type": "markdown",
      "source": [
        "We already have implemented add and mul operations in our data structure Value class. To include tanh, one way is to include exponentiation function in our module. But wait, we actually don't need build every function at atomic level, we can leverage the beauty of abstarction as long as we know how to differentiate it and create the local derivative. So, instead of including an exp function and buildin up the tanh function, we will include tanh in an abstract way"
      ],
      "metadata": {
        "id": "EcN78PLYHW-H"
      }
    },
    {
      "cell_type": "markdown",
      "source": [
        "Let's add the tanh method to our Value class -"
      ],
      "metadata": {
        "id": "l_kEqqM8LZsM"
      }
    },
    {
      "cell_type": "code",
      "source": [
        "class Value:\n",
        "\n",
        "    def __init__(self, data, _children=(), _op='', label=''):\n",
        "        self.data = data\n",
        "        self.grad = 0.0\n",
        "        self.prev = set(_children)\n",
        "        self._op = _op\n",
        "        self.label = label\n",
        "\n",
        "\n",
        "    def __repr__(self):\n",
        "        return f\"Value(data={self.data})\"\n",
        "\n",
        "    def __add__(self, other):\n",
        "        out = Value(self.data + other.data, (self, other), '+') # add to children set, notice we using Value object\n",
        "        return out\n",
        "\n",
        "    def __mul__(self, other):\n",
        "        out = Value(self.data * other.data, (self, other), '*')\n",
        "        return out\n",
        "\n",
        "    def tanh(self):\n",
        "        x = self.data\n",
        "        t = (math.exp(2*x) - 1) / (math.exp(2*x) + 1)\n",
        "        out = Value(t, (self, ), 'tanh')\n",
        "        return out"
      ],
      "metadata": {
        "id": "5hW3gTgEJ3qe"
      },
      "execution_count": 48,
      "outputs": []
    },
    {
      "cell_type": "markdown",
      "source": [
        "Rerun the neuron code with activation function included"
      ],
      "metadata": {
        "id": "ULCLwb5ALkPV"
      }
    },
    {
      "cell_type": "code",
      "source": [
        "#inputs\n",
        "x1 = Value(2.0, label='x1')\n",
        "x2 = Value(0.0, label='x2')\n",
        "\n",
        "# weights w1, w2\n",
        "w1 = Value(-3.0, label='w1')\n",
        "w2 = Value(1.0, label='w2')\n",
        "\n",
        "# bias of the neuron\n",
        "b = Value(6.8813635870195432, label='b') # intentionally using the value so that backpropogation number are nice\n",
        "\n",
        "#x1w1, x2w2\n",
        "x1w1 = x1 * w1; x1w1.label='x1w1'\n",
        "x2w2 = x2 * w2; x2w2.label='x2w2'\n",
        "x1w1x2w2 = x1w1 + x2w2; x1w1x2w2.label='x1w1 + x2w2'\n",
        "\n",
        "n = x1w1x2w2 + b; n.label='n'\n",
        "\n",
        "#activation\n",
        "o = n.tanh()  # note we won't do a tanh operation here as we haven't implemented that function\n",
        "o.label='o'\n",
        "\n",
        "# visualize\n",
        "draw_dot(o)"
      ],
      "metadata": {
        "colab": {
          "base_uri": "https://localhost:8080/",
          "height": 321
        },
        "id": "5BYtcg8ZLgD1",
        "outputId": "982b5169-ff0b-46db-a929-7285bbb76eff"
      },
      "execution_count": 49,
      "outputs": [
        {
          "output_type": "execute_result",
          "data": {
            "image/svg+xml": "<?xml version=\"1.0\" encoding=\"UTF-8\" standalone=\"no\"?>\n<!DOCTYPE svg PUBLIC \"-//W3C//DTD SVG 1.1//EN\"\n \"http://www.w3.org/Graphics/SVG/1.1/DTD/svg11.dtd\">\n<!-- Generated by graphviz version 2.43.0 (0)\n -->\n<!-- Title: %3 Pages: 1 -->\n<svg width=\"1555pt\" height=\"210pt\"\n viewBox=\"0.00 0.00 1555.00 210.00\" xmlns=\"http://www.w3.org/2000/svg\" xmlns:xlink=\"http://www.w3.org/1999/xlink\">\n<g id=\"graph0\" class=\"graph\" transform=\"scale(1 1) rotate(0) translate(4 206)\">\n<title>%3</title>\n<polygon fill=\"white\" stroke=\"transparent\" points=\"-4,4 -4,-206 1551,-206 1551,4 -4,4\"/>\n<!-- 139479132798592 -->\n<g id=\"node1\" class=\"node\">\n<title>139479132798592</title>\n<polygon fill=\"none\" stroke=\"black\" points=\"4,-165.5 4,-201.5 196,-201.5 196,-165.5 4,-165.5\"/>\n<text text-anchor=\"middle\" x=\"19\" y=\"-179.8\" font-family=\"Times,serif\" font-size=\"14.00\">x1</text>\n<polyline fill=\"none\" stroke=\"black\" points=\"34,-165.5 34,-201.5 \"/>\n<text text-anchor=\"middle\" x=\"74\" y=\"-179.8\" font-family=\"Times,serif\" font-size=\"14.00\">data 2.0000</text>\n<polyline fill=\"none\" stroke=\"black\" points=\"114,-165.5 114,-201.5 \"/>\n<text text-anchor=\"middle\" x=\"155\" y=\"-179.8\" font-family=\"Times,serif\" font-size=\"14.00\">grad 0.0000</text>\n</g>\n<!-- 139479132792976* -->\n<g id=\"node4\" class=\"node\">\n<title>139479132792976*</title>\n<ellipse fill=\"none\" stroke=\"black\" cx=\"263\" cy=\"-128.5\" rx=\"27\" ry=\"18\"/>\n<text text-anchor=\"middle\" x=\"263\" y=\"-124.8\" font-family=\"Times,serif\" font-size=\"14.00\">*</text>\n</g>\n<!-- 139479132798592&#45;&gt;139479132792976* -->\n<g id=\"edge13\" class=\"edge\">\n<title>139479132798592&#45;&gt;139479132792976*</title>\n<path fill=\"none\" stroke=\"black\" d=\"M172.53,-165.44C181.84,-162.67 191.2,-159.67 200,-156.5 210.53,-152.71 221.75,-147.9 231.72,-143.33\"/>\n<polygon fill=\"black\" stroke=\"black\" points=\"233.25,-146.48 240.82,-139.07 230.28,-140.14 233.25,-146.48\"/>\n</g>\n<!-- 139479132797584 -->\n<g id=\"node2\" class=\"node\">\n<title>139479132797584</title>\n<polygon fill=\"none\" stroke=\"black\" points=\"703,-27.5 703,-63.5 888,-63.5 888,-27.5 703,-27.5\"/>\n<text text-anchor=\"middle\" x=\"714.5\" y=\"-41.8\" font-family=\"Times,serif\" font-size=\"14.00\">b</text>\n<polyline fill=\"none\" stroke=\"black\" points=\"726,-27.5 726,-63.5 \"/>\n<text text-anchor=\"middle\" x=\"766\" y=\"-41.8\" font-family=\"Times,serif\" font-size=\"14.00\">data 6.8814</text>\n<polyline fill=\"none\" stroke=\"black\" points=\"806,-27.5 806,-63.5 \"/>\n<text text-anchor=\"middle\" x=\"847\" y=\"-41.8\" font-family=\"Times,serif\" font-size=\"14.00\">grad 0.0000</text>\n</g>\n<!-- 139479134153952+ -->\n<g id=\"node7\" class=\"node\">\n<title>139479134153952+</title>\n<ellipse fill=\"none\" stroke=\"black\" cx=\"988\" cy=\"-72.5\" rx=\"27\" ry=\"18\"/>\n<text text-anchor=\"middle\" x=\"988\" y=\"-68.8\" font-family=\"Times,serif\" font-size=\"14.00\">+</text>\n</g>\n<!-- 139479132797584&#45;&gt;139479134153952+ -->\n<g id=\"edge8\" class=\"edge\">\n<title>139479132797584&#45;&gt;139479134153952+</title>\n<path fill=\"none\" stroke=\"black\" d=\"M888.12,-58.49C910.59,-61.67 933.33,-64.89 951.33,-67.44\"/>\n<polygon fill=\"black\" stroke=\"black\" points=\"950.95,-70.93 961.34,-68.86 951.93,-63.99 950.95,-70.93\"/>\n</g>\n<!-- 139479132792976 -->\n<g id=\"node3\" class=\"node\">\n<title>139479132792976</title>\n<polygon fill=\"none\" stroke=\"black\" points=\"326,-110.5 326,-146.5 540,-146.5 540,-110.5 326,-110.5\"/>\n<text text-anchor=\"middle\" x=\"349.5\" y=\"-124.8\" font-family=\"Times,serif\" font-size=\"14.00\">x1w1</text>\n<polyline fill=\"none\" stroke=\"black\" points=\"373,-110.5 373,-146.5 \"/>\n<text text-anchor=\"middle\" x=\"415.5\" y=\"-124.8\" font-family=\"Times,serif\" font-size=\"14.00\">data &#45;6.0000</text>\n<polyline fill=\"none\" stroke=\"black\" points=\"458,-110.5 458,-146.5 \"/>\n<text text-anchor=\"middle\" x=\"499\" y=\"-124.8\" font-family=\"Times,serif\" font-size=\"14.00\">grad 0.0000</text>\n</g>\n<!-- 139479134152128+ -->\n<g id=\"node13\" class=\"node\">\n<title>139479134152128+</title>\n<ellipse fill=\"none\" stroke=\"black\" cx=\"603\" cy=\"-100.5\" rx=\"27\" ry=\"18\"/>\n<text text-anchor=\"middle\" x=\"603\" y=\"-96.8\" font-family=\"Times,serif\" font-size=\"14.00\">+</text>\n</g>\n<!-- 139479132792976&#45;&gt;139479134152128+ -->\n<g id=\"edge6\" class=\"edge\">\n<title>139479132792976&#45;&gt;139479134152128+</title>\n<path fill=\"none\" stroke=\"black\" d=\"M540.4,-110.77C549.72,-109.21 558.65,-107.72 566.68,-106.39\"/>\n<polygon fill=\"black\" stroke=\"black\" points=\"567.38,-109.82 576.66,-104.72 566.22,-102.91 567.38,-109.82\"/>\n</g>\n<!-- 139479132792976*&#45;&gt;139479132792976 -->\n<g id=\"edge1\" class=\"edge\">\n<title>139479132792976*&#45;&gt;139479132792976</title>\n<path fill=\"none\" stroke=\"black\" d=\"M290.25,-128.5C297.7,-128.5 306.34,-128.5 315.59,-128.5\"/>\n<polygon fill=\"black\" stroke=\"black\" points=\"315.84,-132 325.84,-128.5 315.84,-125 315.84,-132\"/>\n</g>\n<!-- 139479132798400 -->\n<g id=\"node5\" class=\"node\">\n<title>139479132798400</title>\n<polygon fill=\"none\" stroke=\"black\" points=\"2.5,-55.5 2.5,-91.5 197.5,-91.5 197.5,-55.5 2.5,-55.5\"/>\n<text text-anchor=\"middle\" x=\"19\" y=\"-69.8\" font-family=\"Times,serif\" font-size=\"14.00\">w2</text>\n<polyline fill=\"none\" stroke=\"black\" points=\"35.5,-55.5 35.5,-91.5 \"/>\n<text text-anchor=\"middle\" x=\"75.5\" y=\"-69.8\" font-family=\"Times,serif\" font-size=\"14.00\">data 1.0000</text>\n<polyline fill=\"none\" stroke=\"black\" points=\"115.5,-55.5 115.5,-91.5 \"/>\n<text text-anchor=\"middle\" x=\"156.5\" y=\"-69.8\" font-family=\"Times,serif\" font-size=\"14.00\">grad 0.0000</text>\n</g>\n<!-- 139479134149584* -->\n<g id=\"node15\" class=\"node\">\n<title>139479134149584*</title>\n<ellipse fill=\"none\" stroke=\"black\" cx=\"263\" cy=\"-73.5\" rx=\"27\" ry=\"18\"/>\n<text text-anchor=\"middle\" x=\"263\" y=\"-69.8\" font-family=\"Times,serif\" font-size=\"14.00\">*</text>\n</g>\n<!-- 139479132798400&#45;&gt;139479134149584* -->\n<g id=\"edge9\" class=\"edge\">\n<title>139479132798400&#45;&gt;139479134149584*</title>\n<path fill=\"none\" stroke=\"black\" d=\"M197.91,-73.5C207.65,-73.5 217.05,-73.5 225.52,-73.5\"/>\n<polygon fill=\"black\" stroke=\"black\" points=\"225.7,-77 235.7,-73.5 225.7,-70 225.7,-77\"/>\n</g>\n<!-- 139479134153952 -->\n<g id=\"node6\" class=\"node\">\n<title>139479134153952</title>\n<polygon fill=\"none\" stroke=\"black\" points=\"1051,-54.5 1051,-90.5 1236,-90.5 1236,-54.5 1051,-54.5\"/>\n<text text-anchor=\"middle\" x=\"1062.5\" y=\"-68.8\" font-family=\"Times,serif\" font-size=\"14.00\">n</text>\n<polyline fill=\"none\" stroke=\"black\" points=\"1074,-54.5 1074,-90.5 \"/>\n<text text-anchor=\"middle\" x=\"1114\" y=\"-68.8\" font-family=\"Times,serif\" font-size=\"14.00\">data 0.8814</text>\n<polyline fill=\"none\" stroke=\"black\" points=\"1154,-54.5 1154,-90.5 \"/>\n<text text-anchor=\"middle\" x=\"1195\" y=\"-68.8\" font-family=\"Times,serif\" font-size=\"14.00\">grad 0.0000</text>\n</g>\n<!-- 139479134155008tanh -->\n<g id=\"node9\" class=\"node\">\n<title>139479134155008tanh</title>\n<ellipse fill=\"none\" stroke=\"black\" cx=\"1299\" cy=\"-72.5\" rx=\"27\" ry=\"18\"/>\n<text text-anchor=\"middle\" x=\"1299\" y=\"-68.8\" font-family=\"Times,serif\" font-size=\"14.00\">tanh</text>\n</g>\n<!-- 139479134153952&#45;&gt;139479134155008tanh -->\n<g id=\"edge10\" class=\"edge\">\n<title>139479134153952&#45;&gt;139479134155008tanh</title>\n<path fill=\"none\" stroke=\"black\" d=\"M1236.01,-72.5C1245.01,-72.5 1253.74,-72.5 1261.66,-72.5\"/>\n<polygon fill=\"black\" stroke=\"black\" points=\"1261.91,-76 1271.91,-72.5 1261.91,-69 1261.91,-76\"/>\n</g>\n<!-- 139479134153952+&#45;&gt;139479134153952 -->\n<g id=\"edge2\" class=\"edge\">\n<title>139479134153952+&#45;&gt;139479134153952</title>\n<path fill=\"none\" stroke=\"black\" d=\"M1015.04,-72.5C1022.58,-72.5 1031.3,-72.5 1040.57,-72.5\"/>\n<polygon fill=\"black\" stroke=\"black\" points=\"1040.81,-76 1050.81,-72.5 1040.81,-69 1040.81,-76\"/>\n</g>\n<!-- 139479134155008 -->\n<g id=\"node8\" class=\"node\">\n<title>139479134155008</title>\n<polygon fill=\"none\" stroke=\"black\" points=\"1362,-54.5 1362,-90.5 1547,-90.5 1547,-54.5 1362,-54.5\"/>\n<text text-anchor=\"middle\" x=\"1373.5\" y=\"-68.8\" font-family=\"Times,serif\" font-size=\"14.00\">o</text>\n<polyline fill=\"none\" stroke=\"black\" points=\"1385,-54.5 1385,-90.5 \"/>\n<text text-anchor=\"middle\" x=\"1425\" y=\"-68.8\" font-family=\"Times,serif\" font-size=\"14.00\">data 0.7071</text>\n<polyline fill=\"none\" stroke=\"black\" points=\"1465,-54.5 1465,-90.5 \"/>\n<text text-anchor=\"middle\" x=\"1506\" y=\"-68.8\" font-family=\"Times,serif\" font-size=\"14.00\">grad 0.0000</text>\n</g>\n<!-- 139479134155008tanh&#45;&gt;139479134155008 -->\n<g id=\"edge3\" class=\"edge\">\n<title>139479134155008tanh&#45;&gt;139479134155008</title>\n<path fill=\"none\" stroke=\"black\" d=\"M1326.04,-72.5C1333.58,-72.5 1342.3,-72.5 1351.57,-72.5\"/>\n<polygon fill=\"black\" stroke=\"black\" points=\"1351.81,-76 1361.81,-72.5 1351.81,-69 1351.81,-76\"/>\n</g>\n<!-- 139479132793216 -->\n<g id=\"node10\" class=\"node\">\n<title>139479132793216</title>\n<polygon fill=\"none\" stroke=\"black\" points=\"4,-0.5 4,-36.5 196,-36.5 196,-0.5 4,-0.5\"/>\n<text text-anchor=\"middle\" x=\"19\" y=\"-14.8\" font-family=\"Times,serif\" font-size=\"14.00\">x2</text>\n<polyline fill=\"none\" stroke=\"black\" points=\"34,-0.5 34,-36.5 \"/>\n<text text-anchor=\"middle\" x=\"74\" y=\"-14.8\" font-family=\"Times,serif\" font-size=\"14.00\">data 0.0000</text>\n<polyline fill=\"none\" stroke=\"black\" points=\"114,-0.5 114,-36.5 \"/>\n<text text-anchor=\"middle\" x=\"155\" y=\"-14.8\" font-family=\"Times,serif\" font-size=\"14.00\">grad 0.0000</text>\n</g>\n<!-- 139479132793216&#45;&gt;139479134149584* -->\n<g id=\"edge14\" class=\"edge\">\n<title>139479132793216&#45;&gt;139479134149584*</title>\n<path fill=\"none\" stroke=\"black\" d=\"M169.28,-36.5C179.65,-39.61 190.16,-42.98 200,-46.5 210.28,-50.17 221.28,-54.74 231.11,-59.07\"/>\n<polygon fill=\"black\" stroke=\"black\" points=\"229.93,-62.37 240.48,-63.27 232.79,-55.99 229.93,-62.37\"/>\n</g>\n<!-- 139479132797872 -->\n<g id=\"node11\" class=\"node\">\n<title>139479132797872</title>\n<polygon fill=\"none\" stroke=\"black\" points=\"0,-110.5 0,-146.5 200,-146.5 200,-110.5 0,-110.5\"/>\n<text text-anchor=\"middle\" x=\"16.5\" y=\"-124.8\" font-family=\"Times,serif\" font-size=\"14.00\">w1</text>\n<polyline fill=\"none\" stroke=\"black\" points=\"33,-110.5 33,-146.5 \"/>\n<text text-anchor=\"middle\" x=\"75.5\" y=\"-124.8\" font-family=\"Times,serif\" font-size=\"14.00\">data &#45;3.0000</text>\n<polyline fill=\"none\" stroke=\"black\" points=\"118,-110.5 118,-146.5 \"/>\n<text text-anchor=\"middle\" x=\"159\" y=\"-124.8\" font-family=\"Times,serif\" font-size=\"14.00\">grad 0.0000</text>\n</g>\n<!-- 139479132797872&#45;&gt;139479132792976* -->\n<g id=\"edge11\" class=\"edge\">\n<title>139479132797872&#45;&gt;139479132792976*</title>\n<path fill=\"none\" stroke=\"black\" d=\"M200.21,-128.5C209.2,-128.5 217.86,-128.5 225.7,-128.5\"/>\n<polygon fill=\"black\" stroke=\"black\" points=\"225.85,-132 235.85,-128.5 225.85,-125 225.85,-132\"/>\n</g>\n<!-- 139479134152128 -->\n<g id=\"node12\" class=\"node\">\n<title>139479134152128</title>\n<polygon fill=\"none\" stroke=\"black\" points=\"666,-82.5 666,-118.5 925,-118.5 925,-82.5 666,-82.5\"/>\n<text text-anchor=\"middle\" x=\"712\" y=\"-96.8\" font-family=\"Times,serif\" font-size=\"14.00\">x1w1 + x2w2</text>\n<polyline fill=\"none\" stroke=\"black\" points=\"758,-82.5 758,-118.5 \"/>\n<text text-anchor=\"middle\" x=\"800.5\" y=\"-96.8\" font-family=\"Times,serif\" font-size=\"14.00\">data &#45;6.0000</text>\n<polyline fill=\"none\" stroke=\"black\" points=\"843,-82.5 843,-118.5 \"/>\n<text text-anchor=\"middle\" x=\"884\" y=\"-96.8\" font-family=\"Times,serif\" font-size=\"14.00\">grad 0.0000</text>\n</g>\n<!-- 139479134152128&#45;&gt;139479134153952+ -->\n<g id=\"edge7\" class=\"edge\">\n<title>139479134152128&#45;&gt;139479134153952+</title>\n<path fill=\"none\" stroke=\"black\" d=\"M919.03,-82.49C930.7,-80.77 941.77,-79.15 951.46,-77.72\"/>\n<polygon fill=\"black\" stroke=\"black\" points=\"952.01,-81.18 961.4,-76.26 951,-74.25 952.01,-81.18\"/>\n</g>\n<!-- 139479134152128+&#45;&gt;139479134152128 -->\n<g id=\"edge4\" class=\"edge\">\n<title>139479134152128+&#45;&gt;139479134152128</title>\n<path fill=\"none\" stroke=\"black\" d=\"M630.09,-100.5C637.58,-100.5 646.3,-100.5 655.75,-100.5\"/>\n<polygon fill=\"black\" stroke=\"black\" points=\"655.84,-104 665.84,-100.5 655.84,-97 655.84,-104\"/>\n</g>\n<!-- 139479134149584 -->\n<g id=\"node14\" class=\"node\">\n<title>139479134149584</title>\n<polygon fill=\"none\" stroke=\"black\" points=\"328.5,-55.5 328.5,-91.5 537.5,-91.5 537.5,-55.5 328.5,-55.5\"/>\n<text text-anchor=\"middle\" x=\"352\" y=\"-69.8\" font-family=\"Times,serif\" font-size=\"14.00\">x2w2</text>\n<polyline fill=\"none\" stroke=\"black\" points=\"375.5,-55.5 375.5,-91.5 \"/>\n<text text-anchor=\"middle\" x=\"415.5\" y=\"-69.8\" font-family=\"Times,serif\" font-size=\"14.00\">data 0.0000</text>\n<polyline fill=\"none\" stroke=\"black\" points=\"455.5,-55.5 455.5,-91.5 \"/>\n<text text-anchor=\"middle\" x=\"496.5\" y=\"-69.8\" font-family=\"Times,serif\" font-size=\"14.00\">grad 0.0000</text>\n</g>\n<!-- 139479134149584&#45;&gt;139479134152128+ -->\n<g id=\"edge12\" class=\"edge\">\n<title>139479134149584&#45;&gt;139479134152128+</title>\n<path fill=\"none\" stroke=\"black\" d=\"M537.53,-90.14C547.8,-91.79 557.66,-93.37 566.45,-94.79\"/>\n<polygon fill=\"black\" stroke=\"black\" points=\"566.16,-98.28 576.59,-96.42 567.27,-91.37 566.16,-98.28\"/>\n</g>\n<!-- 139479134149584*&#45;&gt;139479134149584 -->\n<g id=\"edge5\" class=\"edge\">\n<title>139479134149584*&#45;&gt;139479134149584</title>\n<path fill=\"none\" stroke=\"black\" d=\"M290.25,-73.5C298.43,-73.5 308.03,-73.5 318.31,-73.5\"/>\n<polygon fill=\"black\" stroke=\"black\" points=\"318.35,-77 328.35,-73.5 318.35,-70 318.35,-77\"/>\n</g>\n</g>\n</svg>\n",
            "text/plain": [
              "<graphviz.graphs.Digraph at 0x7edb043e9180>"
            ]
          },
          "metadata": {},
          "execution_count": 49
        }
      ]
    },
    {
      "cell_type": "markdown",
      "source": [
        "In a Neural Network, what we care is the derivatives of ouput wrt to the weights, because that is what we will be adjusting in order to optimize. Remember  this just one neuron,in a typicla Neural network, there will be many such neurons, with  many inputs and weights, and then the output and eventually the Loss function, based on which we backpropogate and adjust the wait to optimize"
      ],
      "metadata": {
        "id": "DnBamBNfM8i0"
      }
    },
    {
      "cell_type": "markdown",
      "source": [
        "### Lets start with the backpropogation\n",
        "\n",
        "1. what is derivative of `o` wrt to `o`? it is 1"
      ],
      "metadata": {
        "id": "Y5uJ-UG_NlrU"
      }
    },
    {
      "cell_type": "code",
      "source": [
        "o.grad=1.0\n",
        "draw_dot(o)"
      ],
      "metadata": {
        "colab": {
          "base_uri": "https://localhost:8080/",
          "height": 321
        },
        "id": "XNhcSF79OARL",
        "outputId": "8187c4c4-487d-4a83-f1f5-6455644d25f1"
      },
      "execution_count": 50,
      "outputs": [
        {
          "output_type": "execute_result",
          "data": {
            "image/svg+xml": "<?xml version=\"1.0\" encoding=\"UTF-8\" standalone=\"no\"?>\n<!DOCTYPE svg PUBLIC \"-//W3C//DTD SVG 1.1//EN\"\n \"http://www.w3.org/Graphics/SVG/1.1/DTD/svg11.dtd\">\n<!-- Generated by graphviz version 2.43.0 (0)\n -->\n<!-- Title: %3 Pages: 1 -->\n<svg width=\"1555pt\" height=\"210pt\"\n viewBox=\"0.00 0.00 1555.00 210.00\" xmlns=\"http://www.w3.org/2000/svg\" xmlns:xlink=\"http://www.w3.org/1999/xlink\">\n<g id=\"graph0\" class=\"graph\" transform=\"scale(1 1) rotate(0) translate(4 206)\">\n<title>%3</title>\n<polygon fill=\"white\" stroke=\"transparent\" points=\"-4,4 -4,-206 1551,-206 1551,4 -4,4\"/>\n<!-- 139479132798592 -->\n<g id=\"node1\" class=\"node\">\n<title>139479132798592</title>\n<polygon fill=\"none\" stroke=\"black\" points=\"4,-165.5 4,-201.5 196,-201.5 196,-165.5 4,-165.5\"/>\n<text text-anchor=\"middle\" x=\"19\" y=\"-179.8\" font-family=\"Times,serif\" font-size=\"14.00\">x1</text>\n<polyline fill=\"none\" stroke=\"black\" points=\"34,-165.5 34,-201.5 \"/>\n<text text-anchor=\"middle\" x=\"74\" y=\"-179.8\" font-family=\"Times,serif\" font-size=\"14.00\">data 2.0000</text>\n<polyline fill=\"none\" stroke=\"black\" points=\"114,-165.5 114,-201.5 \"/>\n<text text-anchor=\"middle\" x=\"155\" y=\"-179.8\" font-family=\"Times,serif\" font-size=\"14.00\">grad 0.0000</text>\n</g>\n<!-- 139479132792976* -->\n<g id=\"node4\" class=\"node\">\n<title>139479132792976*</title>\n<ellipse fill=\"none\" stroke=\"black\" cx=\"263\" cy=\"-128.5\" rx=\"27\" ry=\"18\"/>\n<text text-anchor=\"middle\" x=\"263\" y=\"-124.8\" font-family=\"Times,serif\" font-size=\"14.00\">*</text>\n</g>\n<!-- 139479132798592&#45;&gt;139479132792976* -->\n<g id=\"edge13\" class=\"edge\">\n<title>139479132798592&#45;&gt;139479132792976*</title>\n<path fill=\"none\" stroke=\"black\" d=\"M172.53,-165.44C181.84,-162.67 191.2,-159.67 200,-156.5 210.53,-152.71 221.75,-147.9 231.72,-143.33\"/>\n<polygon fill=\"black\" stroke=\"black\" points=\"233.25,-146.48 240.82,-139.07 230.28,-140.14 233.25,-146.48\"/>\n</g>\n<!-- 139479132797584 -->\n<g id=\"node2\" class=\"node\">\n<title>139479132797584</title>\n<polygon fill=\"none\" stroke=\"black\" points=\"703,-27.5 703,-63.5 888,-63.5 888,-27.5 703,-27.5\"/>\n<text text-anchor=\"middle\" x=\"714.5\" y=\"-41.8\" font-family=\"Times,serif\" font-size=\"14.00\">b</text>\n<polyline fill=\"none\" stroke=\"black\" points=\"726,-27.5 726,-63.5 \"/>\n<text text-anchor=\"middle\" x=\"766\" y=\"-41.8\" font-family=\"Times,serif\" font-size=\"14.00\">data 6.8814</text>\n<polyline fill=\"none\" stroke=\"black\" points=\"806,-27.5 806,-63.5 \"/>\n<text text-anchor=\"middle\" x=\"847\" y=\"-41.8\" font-family=\"Times,serif\" font-size=\"14.00\">grad 0.0000</text>\n</g>\n<!-- 139479134153952+ -->\n<g id=\"node7\" class=\"node\">\n<title>139479134153952+</title>\n<ellipse fill=\"none\" stroke=\"black\" cx=\"988\" cy=\"-72.5\" rx=\"27\" ry=\"18\"/>\n<text text-anchor=\"middle\" x=\"988\" y=\"-68.8\" font-family=\"Times,serif\" font-size=\"14.00\">+</text>\n</g>\n<!-- 139479132797584&#45;&gt;139479134153952+ -->\n<g id=\"edge8\" class=\"edge\">\n<title>139479132797584&#45;&gt;139479134153952+</title>\n<path fill=\"none\" stroke=\"black\" d=\"M888.12,-58.49C910.59,-61.67 933.33,-64.89 951.33,-67.44\"/>\n<polygon fill=\"black\" stroke=\"black\" points=\"950.95,-70.93 961.34,-68.86 951.93,-63.99 950.95,-70.93\"/>\n</g>\n<!-- 139479132792976 -->\n<g id=\"node3\" class=\"node\">\n<title>139479132792976</title>\n<polygon fill=\"none\" stroke=\"black\" points=\"326,-110.5 326,-146.5 540,-146.5 540,-110.5 326,-110.5\"/>\n<text text-anchor=\"middle\" x=\"349.5\" y=\"-124.8\" font-family=\"Times,serif\" font-size=\"14.00\">x1w1</text>\n<polyline fill=\"none\" stroke=\"black\" points=\"373,-110.5 373,-146.5 \"/>\n<text text-anchor=\"middle\" x=\"415.5\" y=\"-124.8\" font-family=\"Times,serif\" font-size=\"14.00\">data &#45;6.0000</text>\n<polyline fill=\"none\" stroke=\"black\" points=\"458,-110.5 458,-146.5 \"/>\n<text text-anchor=\"middle\" x=\"499\" y=\"-124.8\" font-family=\"Times,serif\" font-size=\"14.00\">grad 0.0000</text>\n</g>\n<!-- 139479134152128+ -->\n<g id=\"node13\" class=\"node\">\n<title>139479134152128+</title>\n<ellipse fill=\"none\" stroke=\"black\" cx=\"603\" cy=\"-100.5\" rx=\"27\" ry=\"18\"/>\n<text text-anchor=\"middle\" x=\"603\" y=\"-96.8\" font-family=\"Times,serif\" font-size=\"14.00\">+</text>\n</g>\n<!-- 139479132792976&#45;&gt;139479134152128+ -->\n<g id=\"edge6\" class=\"edge\">\n<title>139479132792976&#45;&gt;139479134152128+</title>\n<path fill=\"none\" stroke=\"black\" d=\"M540.4,-110.77C549.72,-109.21 558.65,-107.72 566.68,-106.39\"/>\n<polygon fill=\"black\" stroke=\"black\" points=\"567.38,-109.82 576.66,-104.72 566.22,-102.91 567.38,-109.82\"/>\n</g>\n<!-- 139479132792976*&#45;&gt;139479132792976 -->\n<g id=\"edge1\" class=\"edge\">\n<title>139479132792976*&#45;&gt;139479132792976</title>\n<path fill=\"none\" stroke=\"black\" d=\"M290.25,-128.5C297.7,-128.5 306.34,-128.5 315.59,-128.5\"/>\n<polygon fill=\"black\" stroke=\"black\" points=\"315.84,-132 325.84,-128.5 315.84,-125 315.84,-132\"/>\n</g>\n<!-- 139479132798400 -->\n<g id=\"node5\" class=\"node\">\n<title>139479132798400</title>\n<polygon fill=\"none\" stroke=\"black\" points=\"2.5,-55.5 2.5,-91.5 197.5,-91.5 197.5,-55.5 2.5,-55.5\"/>\n<text text-anchor=\"middle\" x=\"19\" y=\"-69.8\" font-family=\"Times,serif\" font-size=\"14.00\">w2</text>\n<polyline fill=\"none\" stroke=\"black\" points=\"35.5,-55.5 35.5,-91.5 \"/>\n<text text-anchor=\"middle\" x=\"75.5\" y=\"-69.8\" font-family=\"Times,serif\" font-size=\"14.00\">data 1.0000</text>\n<polyline fill=\"none\" stroke=\"black\" points=\"115.5,-55.5 115.5,-91.5 \"/>\n<text text-anchor=\"middle\" x=\"156.5\" y=\"-69.8\" font-family=\"Times,serif\" font-size=\"14.00\">grad 0.0000</text>\n</g>\n<!-- 139479134149584* -->\n<g id=\"node15\" class=\"node\">\n<title>139479134149584*</title>\n<ellipse fill=\"none\" stroke=\"black\" cx=\"263\" cy=\"-73.5\" rx=\"27\" ry=\"18\"/>\n<text text-anchor=\"middle\" x=\"263\" y=\"-69.8\" font-family=\"Times,serif\" font-size=\"14.00\">*</text>\n</g>\n<!-- 139479132798400&#45;&gt;139479134149584* -->\n<g id=\"edge9\" class=\"edge\">\n<title>139479132798400&#45;&gt;139479134149584*</title>\n<path fill=\"none\" stroke=\"black\" d=\"M197.91,-73.5C207.65,-73.5 217.05,-73.5 225.52,-73.5\"/>\n<polygon fill=\"black\" stroke=\"black\" points=\"225.7,-77 235.7,-73.5 225.7,-70 225.7,-77\"/>\n</g>\n<!-- 139479134153952 -->\n<g id=\"node6\" class=\"node\">\n<title>139479134153952</title>\n<polygon fill=\"none\" stroke=\"black\" points=\"1051,-54.5 1051,-90.5 1236,-90.5 1236,-54.5 1051,-54.5\"/>\n<text text-anchor=\"middle\" x=\"1062.5\" y=\"-68.8\" font-family=\"Times,serif\" font-size=\"14.00\">n</text>\n<polyline fill=\"none\" stroke=\"black\" points=\"1074,-54.5 1074,-90.5 \"/>\n<text text-anchor=\"middle\" x=\"1114\" y=\"-68.8\" font-family=\"Times,serif\" font-size=\"14.00\">data 0.8814</text>\n<polyline fill=\"none\" stroke=\"black\" points=\"1154,-54.5 1154,-90.5 \"/>\n<text text-anchor=\"middle\" x=\"1195\" y=\"-68.8\" font-family=\"Times,serif\" font-size=\"14.00\">grad 0.0000</text>\n</g>\n<!-- 139479134155008tanh -->\n<g id=\"node9\" class=\"node\">\n<title>139479134155008tanh</title>\n<ellipse fill=\"none\" stroke=\"black\" cx=\"1299\" cy=\"-72.5\" rx=\"27\" ry=\"18\"/>\n<text text-anchor=\"middle\" x=\"1299\" y=\"-68.8\" font-family=\"Times,serif\" font-size=\"14.00\">tanh</text>\n</g>\n<!-- 139479134153952&#45;&gt;139479134155008tanh -->\n<g id=\"edge10\" class=\"edge\">\n<title>139479134153952&#45;&gt;139479134155008tanh</title>\n<path fill=\"none\" stroke=\"black\" d=\"M1236.01,-72.5C1245.01,-72.5 1253.74,-72.5 1261.66,-72.5\"/>\n<polygon fill=\"black\" stroke=\"black\" points=\"1261.91,-76 1271.91,-72.5 1261.91,-69 1261.91,-76\"/>\n</g>\n<!-- 139479134153952+&#45;&gt;139479134153952 -->\n<g id=\"edge2\" class=\"edge\">\n<title>139479134153952+&#45;&gt;139479134153952</title>\n<path fill=\"none\" stroke=\"black\" d=\"M1015.04,-72.5C1022.58,-72.5 1031.3,-72.5 1040.57,-72.5\"/>\n<polygon fill=\"black\" stroke=\"black\" points=\"1040.81,-76 1050.81,-72.5 1040.81,-69 1040.81,-76\"/>\n</g>\n<!-- 139479134155008 -->\n<g id=\"node8\" class=\"node\">\n<title>139479134155008</title>\n<polygon fill=\"none\" stroke=\"black\" points=\"1362,-54.5 1362,-90.5 1547,-90.5 1547,-54.5 1362,-54.5\"/>\n<text text-anchor=\"middle\" x=\"1373.5\" y=\"-68.8\" font-family=\"Times,serif\" font-size=\"14.00\">o</text>\n<polyline fill=\"none\" stroke=\"black\" points=\"1385,-54.5 1385,-90.5 \"/>\n<text text-anchor=\"middle\" x=\"1425\" y=\"-68.8\" font-family=\"Times,serif\" font-size=\"14.00\">data 0.7071</text>\n<polyline fill=\"none\" stroke=\"black\" points=\"1465,-54.5 1465,-90.5 \"/>\n<text text-anchor=\"middle\" x=\"1506\" y=\"-68.8\" font-family=\"Times,serif\" font-size=\"14.00\">grad 1.0000</text>\n</g>\n<!-- 139479134155008tanh&#45;&gt;139479134155008 -->\n<g id=\"edge3\" class=\"edge\">\n<title>139479134155008tanh&#45;&gt;139479134155008</title>\n<path fill=\"none\" stroke=\"black\" d=\"M1326.04,-72.5C1333.58,-72.5 1342.3,-72.5 1351.57,-72.5\"/>\n<polygon fill=\"black\" stroke=\"black\" points=\"1351.81,-76 1361.81,-72.5 1351.81,-69 1351.81,-76\"/>\n</g>\n<!-- 139479132793216 -->\n<g id=\"node10\" class=\"node\">\n<title>139479132793216</title>\n<polygon fill=\"none\" stroke=\"black\" points=\"4,-0.5 4,-36.5 196,-36.5 196,-0.5 4,-0.5\"/>\n<text text-anchor=\"middle\" x=\"19\" y=\"-14.8\" font-family=\"Times,serif\" font-size=\"14.00\">x2</text>\n<polyline fill=\"none\" stroke=\"black\" points=\"34,-0.5 34,-36.5 \"/>\n<text text-anchor=\"middle\" x=\"74\" y=\"-14.8\" font-family=\"Times,serif\" font-size=\"14.00\">data 0.0000</text>\n<polyline fill=\"none\" stroke=\"black\" points=\"114,-0.5 114,-36.5 \"/>\n<text text-anchor=\"middle\" x=\"155\" y=\"-14.8\" font-family=\"Times,serif\" font-size=\"14.00\">grad 0.0000</text>\n</g>\n<!-- 139479132793216&#45;&gt;139479134149584* -->\n<g id=\"edge14\" class=\"edge\">\n<title>139479132793216&#45;&gt;139479134149584*</title>\n<path fill=\"none\" stroke=\"black\" d=\"M169.28,-36.5C179.65,-39.61 190.16,-42.98 200,-46.5 210.28,-50.17 221.28,-54.74 231.11,-59.07\"/>\n<polygon fill=\"black\" stroke=\"black\" points=\"229.93,-62.37 240.48,-63.27 232.79,-55.99 229.93,-62.37\"/>\n</g>\n<!-- 139479132797872 -->\n<g id=\"node11\" class=\"node\">\n<title>139479132797872</title>\n<polygon fill=\"none\" stroke=\"black\" points=\"0,-110.5 0,-146.5 200,-146.5 200,-110.5 0,-110.5\"/>\n<text text-anchor=\"middle\" x=\"16.5\" y=\"-124.8\" font-family=\"Times,serif\" font-size=\"14.00\">w1</text>\n<polyline fill=\"none\" stroke=\"black\" points=\"33,-110.5 33,-146.5 \"/>\n<text text-anchor=\"middle\" x=\"75.5\" y=\"-124.8\" font-family=\"Times,serif\" font-size=\"14.00\">data &#45;3.0000</text>\n<polyline fill=\"none\" stroke=\"black\" points=\"118,-110.5 118,-146.5 \"/>\n<text text-anchor=\"middle\" x=\"159\" y=\"-124.8\" font-family=\"Times,serif\" font-size=\"14.00\">grad 0.0000</text>\n</g>\n<!-- 139479132797872&#45;&gt;139479132792976* -->\n<g id=\"edge11\" class=\"edge\">\n<title>139479132797872&#45;&gt;139479132792976*</title>\n<path fill=\"none\" stroke=\"black\" d=\"M200.21,-128.5C209.2,-128.5 217.86,-128.5 225.7,-128.5\"/>\n<polygon fill=\"black\" stroke=\"black\" points=\"225.85,-132 235.85,-128.5 225.85,-125 225.85,-132\"/>\n</g>\n<!-- 139479134152128 -->\n<g id=\"node12\" class=\"node\">\n<title>139479134152128</title>\n<polygon fill=\"none\" stroke=\"black\" points=\"666,-82.5 666,-118.5 925,-118.5 925,-82.5 666,-82.5\"/>\n<text text-anchor=\"middle\" x=\"712\" y=\"-96.8\" font-family=\"Times,serif\" font-size=\"14.00\">x1w1 + x2w2</text>\n<polyline fill=\"none\" stroke=\"black\" points=\"758,-82.5 758,-118.5 \"/>\n<text text-anchor=\"middle\" x=\"800.5\" y=\"-96.8\" font-family=\"Times,serif\" font-size=\"14.00\">data &#45;6.0000</text>\n<polyline fill=\"none\" stroke=\"black\" points=\"843,-82.5 843,-118.5 \"/>\n<text text-anchor=\"middle\" x=\"884\" y=\"-96.8\" font-family=\"Times,serif\" font-size=\"14.00\">grad 0.0000</text>\n</g>\n<!-- 139479134152128&#45;&gt;139479134153952+ -->\n<g id=\"edge7\" class=\"edge\">\n<title>139479134152128&#45;&gt;139479134153952+</title>\n<path fill=\"none\" stroke=\"black\" d=\"M919.03,-82.49C930.7,-80.77 941.77,-79.15 951.46,-77.72\"/>\n<polygon fill=\"black\" stroke=\"black\" points=\"952.01,-81.18 961.4,-76.26 951,-74.25 952.01,-81.18\"/>\n</g>\n<!-- 139479134152128+&#45;&gt;139479134152128 -->\n<g id=\"edge4\" class=\"edge\">\n<title>139479134152128+&#45;&gt;139479134152128</title>\n<path fill=\"none\" stroke=\"black\" d=\"M630.09,-100.5C637.58,-100.5 646.3,-100.5 655.75,-100.5\"/>\n<polygon fill=\"black\" stroke=\"black\" points=\"655.84,-104 665.84,-100.5 655.84,-97 655.84,-104\"/>\n</g>\n<!-- 139479134149584 -->\n<g id=\"node14\" class=\"node\">\n<title>139479134149584</title>\n<polygon fill=\"none\" stroke=\"black\" points=\"328.5,-55.5 328.5,-91.5 537.5,-91.5 537.5,-55.5 328.5,-55.5\"/>\n<text text-anchor=\"middle\" x=\"352\" y=\"-69.8\" font-family=\"Times,serif\" font-size=\"14.00\">x2w2</text>\n<polyline fill=\"none\" stroke=\"black\" points=\"375.5,-55.5 375.5,-91.5 \"/>\n<text text-anchor=\"middle\" x=\"415.5\" y=\"-69.8\" font-family=\"Times,serif\" font-size=\"14.00\">data 0.0000</text>\n<polyline fill=\"none\" stroke=\"black\" points=\"455.5,-55.5 455.5,-91.5 \"/>\n<text text-anchor=\"middle\" x=\"496.5\" y=\"-69.8\" font-family=\"Times,serif\" font-size=\"14.00\">grad 0.0000</text>\n</g>\n<!-- 139479134149584&#45;&gt;139479134152128+ -->\n<g id=\"edge12\" class=\"edge\">\n<title>139479134149584&#45;&gt;139479134152128+</title>\n<path fill=\"none\" stroke=\"black\" d=\"M537.53,-90.14C547.8,-91.79 557.66,-93.37 566.45,-94.79\"/>\n<polygon fill=\"black\" stroke=\"black\" points=\"566.16,-98.28 576.59,-96.42 567.27,-91.37 566.16,-98.28\"/>\n</g>\n<!-- 139479134149584*&#45;&gt;139479134149584 -->\n<g id=\"edge5\" class=\"edge\">\n<title>139479134149584*&#45;&gt;139479134149584</title>\n<path fill=\"none\" stroke=\"black\" d=\"M290.25,-73.5C298.43,-73.5 308.03,-73.5 318.31,-73.5\"/>\n<polygon fill=\"black\" stroke=\"black\" points=\"318.35,-77 328.35,-73.5 318.35,-70 318.35,-77\"/>\n</g>\n</g>\n</svg>\n",
            "text/plain": [
              "<graphviz.graphs.Digraph at 0x7edb0429fa60>"
            ]
          },
          "metadata": {},
          "execution_count": 50
        }
      ]
    },
    {
      "cell_type": "markdown",
      "source": [
        "2. backpropogate to tanh\n",
        "\n",
        "derivative of tanh is: 1 - $tanh(x)^2$"
      ],
      "metadata": {
        "id": "41GFnDixOGcD"
      }
    },
    {
      "cell_type": "code",
      "source": [
        "# the derivative of o wrt n\n",
        "1 - o.data ** 2"
      ],
      "metadata": {
        "colab": {
          "base_uri": "https://localhost:8080/"
        },
        "id": "9NUn7ADNOEok",
        "outputId": "df3e46a3-1300-4c41-de00-a9c489d33ff1"
      },
      "execution_count": 51,
      "outputs": [
        {
          "output_type": "execute_result",
          "data": {
            "text/plain": [
              "0.5000070710928113"
            ]
          },
          "metadata": {},
          "execution_count": 51
        }
      ]
    },
    {
      "cell_type": "code",
      "source": [
        "# set the n gradient\n",
        "n.grad = 0.5\n",
        "\n",
        "#visualize\n",
        "draw_dot(o)"
      ],
      "metadata": {
        "colab": {
          "base_uri": "https://localhost:8080/",
          "height": 321
        },
        "id": "dR-ZHeU6Ol8E",
        "outputId": "9990e652-8966-4a8f-bf08-b7f8e77c8223"
      },
      "execution_count": 52,
      "outputs": [
        {
          "output_type": "execute_result",
          "data": {
            "image/svg+xml": "<?xml version=\"1.0\" encoding=\"UTF-8\" standalone=\"no\"?>\n<!DOCTYPE svg PUBLIC \"-//W3C//DTD SVG 1.1//EN\"\n \"http://www.w3.org/Graphics/SVG/1.1/DTD/svg11.dtd\">\n<!-- Generated by graphviz version 2.43.0 (0)\n -->\n<!-- Title: %3 Pages: 1 -->\n<svg width=\"1555pt\" height=\"210pt\"\n viewBox=\"0.00 0.00 1555.00 210.00\" xmlns=\"http://www.w3.org/2000/svg\" xmlns:xlink=\"http://www.w3.org/1999/xlink\">\n<g id=\"graph0\" class=\"graph\" transform=\"scale(1 1) rotate(0) translate(4 206)\">\n<title>%3</title>\n<polygon fill=\"white\" stroke=\"transparent\" points=\"-4,4 -4,-206 1551,-206 1551,4 -4,4\"/>\n<!-- 139479132798592 -->\n<g id=\"node1\" class=\"node\">\n<title>139479132798592</title>\n<polygon fill=\"none\" stroke=\"black\" points=\"4,-165.5 4,-201.5 196,-201.5 196,-165.5 4,-165.5\"/>\n<text text-anchor=\"middle\" x=\"19\" y=\"-179.8\" font-family=\"Times,serif\" font-size=\"14.00\">x1</text>\n<polyline fill=\"none\" stroke=\"black\" points=\"34,-165.5 34,-201.5 \"/>\n<text text-anchor=\"middle\" x=\"74\" y=\"-179.8\" font-family=\"Times,serif\" font-size=\"14.00\">data 2.0000</text>\n<polyline fill=\"none\" stroke=\"black\" points=\"114,-165.5 114,-201.5 \"/>\n<text text-anchor=\"middle\" x=\"155\" y=\"-179.8\" font-family=\"Times,serif\" font-size=\"14.00\">grad 0.0000</text>\n</g>\n<!-- 139479132792976* -->\n<g id=\"node4\" class=\"node\">\n<title>139479132792976*</title>\n<ellipse fill=\"none\" stroke=\"black\" cx=\"263\" cy=\"-128.5\" rx=\"27\" ry=\"18\"/>\n<text text-anchor=\"middle\" x=\"263\" y=\"-124.8\" font-family=\"Times,serif\" font-size=\"14.00\">*</text>\n</g>\n<!-- 139479132798592&#45;&gt;139479132792976* -->\n<g id=\"edge13\" class=\"edge\">\n<title>139479132798592&#45;&gt;139479132792976*</title>\n<path fill=\"none\" stroke=\"black\" d=\"M172.53,-165.44C181.84,-162.67 191.2,-159.67 200,-156.5 210.53,-152.71 221.75,-147.9 231.72,-143.33\"/>\n<polygon fill=\"black\" stroke=\"black\" points=\"233.25,-146.48 240.82,-139.07 230.28,-140.14 233.25,-146.48\"/>\n</g>\n<!-- 139479132797584 -->\n<g id=\"node2\" class=\"node\">\n<title>139479132797584</title>\n<polygon fill=\"none\" stroke=\"black\" points=\"703,-27.5 703,-63.5 888,-63.5 888,-27.5 703,-27.5\"/>\n<text text-anchor=\"middle\" x=\"714.5\" y=\"-41.8\" font-family=\"Times,serif\" font-size=\"14.00\">b</text>\n<polyline fill=\"none\" stroke=\"black\" points=\"726,-27.5 726,-63.5 \"/>\n<text text-anchor=\"middle\" x=\"766\" y=\"-41.8\" font-family=\"Times,serif\" font-size=\"14.00\">data 6.8814</text>\n<polyline fill=\"none\" stroke=\"black\" points=\"806,-27.5 806,-63.5 \"/>\n<text text-anchor=\"middle\" x=\"847\" y=\"-41.8\" font-family=\"Times,serif\" font-size=\"14.00\">grad 0.0000</text>\n</g>\n<!-- 139479134153952+ -->\n<g id=\"node7\" class=\"node\">\n<title>139479134153952+</title>\n<ellipse fill=\"none\" stroke=\"black\" cx=\"988\" cy=\"-72.5\" rx=\"27\" ry=\"18\"/>\n<text text-anchor=\"middle\" x=\"988\" y=\"-68.8\" font-family=\"Times,serif\" font-size=\"14.00\">+</text>\n</g>\n<!-- 139479132797584&#45;&gt;139479134153952+ -->\n<g id=\"edge8\" class=\"edge\">\n<title>139479132797584&#45;&gt;139479134153952+</title>\n<path fill=\"none\" stroke=\"black\" d=\"M888.12,-58.49C910.59,-61.67 933.33,-64.89 951.33,-67.44\"/>\n<polygon fill=\"black\" stroke=\"black\" points=\"950.95,-70.93 961.34,-68.86 951.93,-63.99 950.95,-70.93\"/>\n</g>\n<!-- 139479132792976 -->\n<g id=\"node3\" class=\"node\">\n<title>139479132792976</title>\n<polygon fill=\"none\" stroke=\"black\" points=\"326,-110.5 326,-146.5 540,-146.5 540,-110.5 326,-110.5\"/>\n<text text-anchor=\"middle\" x=\"349.5\" y=\"-124.8\" font-family=\"Times,serif\" font-size=\"14.00\">x1w1</text>\n<polyline fill=\"none\" stroke=\"black\" points=\"373,-110.5 373,-146.5 \"/>\n<text text-anchor=\"middle\" x=\"415.5\" y=\"-124.8\" font-family=\"Times,serif\" font-size=\"14.00\">data &#45;6.0000</text>\n<polyline fill=\"none\" stroke=\"black\" points=\"458,-110.5 458,-146.5 \"/>\n<text text-anchor=\"middle\" x=\"499\" y=\"-124.8\" font-family=\"Times,serif\" font-size=\"14.00\">grad 0.0000</text>\n</g>\n<!-- 139479134152128+ -->\n<g id=\"node13\" class=\"node\">\n<title>139479134152128+</title>\n<ellipse fill=\"none\" stroke=\"black\" cx=\"603\" cy=\"-100.5\" rx=\"27\" ry=\"18\"/>\n<text text-anchor=\"middle\" x=\"603\" y=\"-96.8\" font-family=\"Times,serif\" font-size=\"14.00\">+</text>\n</g>\n<!-- 139479132792976&#45;&gt;139479134152128+ -->\n<g id=\"edge6\" class=\"edge\">\n<title>139479132792976&#45;&gt;139479134152128+</title>\n<path fill=\"none\" stroke=\"black\" d=\"M540.4,-110.77C549.72,-109.21 558.65,-107.72 566.68,-106.39\"/>\n<polygon fill=\"black\" stroke=\"black\" points=\"567.38,-109.82 576.66,-104.72 566.22,-102.91 567.38,-109.82\"/>\n</g>\n<!-- 139479132792976*&#45;&gt;139479132792976 -->\n<g id=\"edge1\" class=\"edge\">\n<title>139479132792976*&#45;&gt;139479132792976</title>\n<path fill=\"none\" stroke=\"black\" d=\"M290.25,-128.5C297.7,-128.5 306.34,-128.5 315.59,-128.5\"/>\n<polygon fill=\"black\" stroke=\"black\" points=\"315.84,-132 325.84,-128.5 315.84,-125 315.84,-132\"/>\n</g>\n<!-- 139479132798400 -->\n<g id=\"node5\" class=\"node\">\n<title>139479132798400</title>\n<polygon fill=\"none\" stroke=\"black\" points=\"2.5,-55.5 2.5,-91.5 197.5,-91.5 197.5,-55.5 2.5,-55.5\"/>\n<text text-anchor=\"middle\" x=\"19\" y=\"-69.8\" font-family=\"Times,serif\" font-size=\"14.00\">w2</text>\n<polyline fill=\"none\" stroke=\"black\" points=\"35.5,-55.5 35.5,-91.5 \"/>\n<text text-anchor=\"middle\" x=\"75.5\" y=\"-69.8\" font-family=\"Times,serif\" font-size=\"14.00\">data 1.0000</text>\n<polyline fill=\"none\" stroke=\"black\" points=\"115.5,-55.5 115.5,-91.5 \"/>\n<text text-anchor=\"middle\" x=\"156.5\" y=\"-69.8\" font-family=\"Times,serif\" font-size=\"14.00\">grad 0.0000</text>\n</g>\n<!-- 139479134149584* -->\n<g id=\"node15\" class=\"node\">\n<title>139479134149584*</title>\n<ellipse fill=\"none\" stroke=\"black\" cx=\"263\" cy=\"-73.5\" rx=\"27\" ry=\"18\"/>\n<text text-anchor=\"middle\" x=\"263\" y=\"-69.8\" font-family=\"Times,serif\" font-size=\"14.00\">*</text>\n</g>\n<!-- 139479132798400&#45;&gt;139479134149584* -->\n<g id=\"edge9\" class=\"edge\">\n<title>139479132798400&#45;&gt;139479134149584*</title>\n<path fill=\"none\" stroke=\"black\" d=\"M197.91,-73.5C207.65,-73.5 217.05,-73.5 225.52,-73.5\"/>\n<polygon fill=\"black\" stroke=\"black\" points=\"225.7,-77 235.7,-73.5 225.7,-70 225.7,-77\"/>\n</g>\n<!-- 139479134153952 -->\n<g id=\"node6\" class=\"node\">\n<title>139479134153952</title>\n<polygon fill=\"none\" stroke=\"black\" points=\"1051,-54.5 1051,-90.5 1236,-90.5 1236,-54.5 1051,-54.5\"/>\n<text text-anchor=\"middle\" x=\"1062.5\" y=\"-68.8\" font-family=\"Times,serif\" font-size=\"14.00\">n</text>\n<polyline fill=\"none\" stroke=\"black\" points=\"1074,-54.5 1074,-90.5 \"/>\n<text text-anchor=\"middle\" x=\"1114\" y=\"-68.8\" font-family=\"Times,serif\" font-size=\"14.00\">data 0.8814</text>\n<polyline fill=\"none\" stroke=\"black\" points=\"1154,-54.5 1154,-90.5 \"/>\n<text text-anchor=\"middle\" x=\"1195\" y=\"-68.8\" font-family=\"Times,serif\" font-size=\"14.00\">grad 0.5000</text>\n</g>\n<!-- 139479134155008tanh -->\n<g id=\"node9\" class=\"node\">\n<title>139479134155008tanh</title>\n<ellipse fill=\"none\" stroke=\"black\" cx=\"1299\" cy=\"-72.5\" rx=\"27\" ry=\"18\"/>\n<text text-anchor=\"middle\" x=\"1299\" y=\"-68.8\" font-family=\"Times,serif\" font-size=\"14.00\">tanh</text>\n</g>\n<!-- 139479134153952&#45;&gt;139479134155008tanh -->\n<g id=\"edge10\" class=\"edge\">\n<title>139479134153952&#45;&gt;139479134155008tanh</title>\n<path fill=\"none\" stroke=\"black\" d=\"M1236.01,-72.5C1245.01,-72.5 1253.74,-72.5 1261.66,-72.5\"/>\n<polygon fill=\"black\" stroke=\"black\" points=\"1261.91,-76 1271.91,-72.5 1261.91,-69 1261.91,-76\"/>\n</g>\n<!-- 139479134153952+&#45;&gt;139479134153952 -->\n<g id=\"edge2\" class=\"edge\">\n<title>139479134153952+&#45;&gt;139479134153952</title>\n<path fill=\"none\" stroke=\"black\" d=\"M1015.04,-72.5C1022.58,-72.5 1031.3,-72.5 1040.57,-72.5\"/>\n<polygon fill=\"black\" stroke=\"black\" points=\"1040.81,-76 1050.81,-72.5 1040.81,-69 1040.81,-76\"/>\n</g>\n<!-- 139479134155008 -->\n<g id=\"node8\" class=\"node\">\n<title>139479134155008</title>\n<polygon fill=\"none\" stroke=\"black\" points=\"1362,-54.5 1362,-90.5 1547,-90.5 1547,-54.5 1362,-54.5\"/>\n<text text-anchor=\"middle\" x=\"1373.5\" y=\"-68.8\" font-family=\"Times,serif\" font-size=\"14.00\">o</text>\n<polyline fill=\"none\" stroke=\"black\" points=\"1385,-54.5 1385,-90.5 \"/>\n<text text-anchor=\"middle\" x=\"1425\" y=\"-68.8\" font-family=\"Times,serif\" font-size=\"14.00\">data 0.7071</text>\n<polyline fill=\"none\" stroke=\"black\" points=\"1465,-54.5 1465,-90.5 \"/>\n<text text-anchor=\"middle\" x=\"1506\" y=\"-68.8\" font-family=\"Times,serif\" font-size=\"14.00\">grad 1.0000</text>\n</g>\n<!-- 139479134155008tanh&#45;&gt;139479134155008 -->\n<g id=\"edge3\" class=\"edge\">\n<title>139479134155008tanh&#45;&gt;139479134155008</title>\n<path fill=\"none\" stroke=\"black\" d=\"M1326.04,-72.5C1333.58,-72.5 1342.3,-72.5 1351.57,-72.5\"/>\n<polygon fill=\"black\" stroke=\"black\" points=\"1351.81,-76 1361.81,-72.5 1351.81,-69 1351.81,-76\"/>\n</g>\n<!-- 139479132793216 -->\n<g id=\"node10\" class=\"node\">\n<title>139479132793216</title>\n<polygon fill=\"none\" stroke=\"black\" points=\"4,-0.5 4,-36.5 196,-36.5 196,-0.5 4,-0.5\"/>\n<text text-anchor=\"middle\" x=\"19\" y=\"-14.8\" font-family=\"Times,serif\" font-size=\"14.00\">x2</text>\n<polyline fill=\"none\" stroke=\"black\" points=\"34,-0.5 34,-36.5 \"/>\n<text text-anchor=\"middle\" x=\"74\" y=\"-14.8\" font-family=\"Times,serif\" font-size=\"14.00\">data 0.0000</text>\n<polyline fill=\"none\" stroke=\"black\" points=\"114,-0.5 114,-36.5 \"/>\n<text text-anchor=\"middle\" x=\"155\" y=\"-14.8\" font-family=\"Times,serif\" font-size=\"14.00\">grad 0.0000</text>\n</g>\n<!-- 139479132793216&#45;&gt;139479134149584* -->\n<g id=\"edge14\" class=\"edge\">\n<title>139479132793216&#45;&gt;139479134149584*</title>\n<path fill=\"none\" stroke=\"black\" d=\"M169.28,-36.5C179.65,-39.61 190.16,-42.98 200,-46.5 210.28,-50.17 221.28,-54.74 231.11,-59.07\"/>\n<polygon fill=\"black\" stroke=\"black\" points=\"229.93,-62.37 240.48,-63.27 232.79,-55.99 229.93,-62.37\"/>\n</g>\n<!-- 139479132797872 -->\n<g id=\"node11\" class=\"node\">\n<title>139479132797872</title>\n<polygon fill=\"none\" stroke=\"black\" points=\"0,-110.5 0,-146.5 200,-146.5 200,-110.5 0,-110.5\"/>\n<text text-anchor=\"middle\" x=\"16.5\" y=\"-124.8\" font-family=\"Times,serif\" font-size=\"14.00\">w1</text>\n<polyline fill=\"none\" stroke=\"black\" points=\"33,-110.5 33,-146.5 \"/>\n<text text-anchor=\"middle\" x=\"75.5\" y=\"-124.8\" font-family=\"Times,serif\" font-size=\"14.00\">data &#45;3.0000</text>\n<polyline fill=\"none\" stroke=\"black\" points=\"118,-110.5 118,-146.5 \"/>\n<text text-anchor=\"middle\" x=\"159\" y=\"-124.8\" font-family=\"Times,serif\" font-size=\"14.00\">grad 0.0000</text>\n</g>\n<!-- 139479132797872&#45;&gt;139479132792976* -->\n<g id=\"edge11\" class=\"edge\">\n<title>139479132797872&#45;&gt;139479132792976*</title>\n<path fill=\"none\" stroke=\"black\" d=\"M200.21,-128.5C209.2,-128.5 217.86,-128.5 225.7,-128.5\"/>\n<polygon fill=\"black\" stroke=\"black\" points=\"225.85,-132 235.85,-128.5 225.85,-125 225.85,-132\"/>\n</g>\n<!-- 139479134152128 -->\n<g id=\"node12\" class=\"node\">\n<title>139479134152128</title>\n<polygon fill=\"none\" stroke=\"black\" points=\"666,-82.5 666,-118.5 925,-118.5 925,-82.5 666,-82.5\"/>\n<text text-anchor=\"middle\" x=\"712\" y=\"-96.8\" font-family=\"Times,serif\" font-size=\"14.00\">x1w1 + x2w2</text>\n<polyline fill=\"none\" stroke=\"black\" points=\"758,-82.5 758,-118.5 \"/>\n<text text-anchor=\"middle\" x=\"800.5\" y=\"-96.8\" font-family=\"Times,serif\" font-size=\"14.00\">data &#45;6.0000</text>\n<polyline fill=\"none\" stroke=\"black\" points=\"843,-82.5 843,-118.5 \"/>\n<text text-anchor=\"middle\" x=\"884\" y=\"-96.8\" font-family=\"Times,serif\" font-size=\"14.00\">grad 0.0000</text>\n</g>\n<!-- 139479134152128&#45;&gt;139479134153952+ -->\n<g id=\"edge7\" class=\"edge\">\n<title>139479134152128&#45;&gt;139479134153952+</title>\n<path fill=\"none\" stroke=\"black\" d=\"M919.03,-82.49C930.7,-80.77 941.77,-79.15 951.46,-77.72\"/>\n<polygon fill=\"black\" stroke=\"black\" points=\"952.01,-81.18 961.4,-76.26 951,-74.25 952.01,-81.18\"/>\n</g>\n<!-- 139479134152128+&#45;&gt;139479134152128 -->\n<g id=\"edge4\" class=\"edge\">\n<title>139479134152128+&#45;&gt;139479134152128</title>\n<path fill=\"none\" stroke=\"black\" d=\"M630.09,-100.5C637.58,-100.5 646.3,-100.5 655.75,-100.5\"/>\n<polygon fill=\"black\" stroke=\"black\" points=\"655.84,-104 665.84,-100.5 655.84,-97 655.84,-104\"/>\n</g>\n<!-- 139479134149584 -->\n<g id=\"node14\" class=\"node\">\n<title>139479134149584</title>\n<polygon fill=\"none\" stroke=\"black\" points=\"328.5,-55.5 328.5,-91.5 537.5,-91.5 537.5,-55.5 328.5,-55.5\"/>\n<text text-anchor=\"middle\" x=\"352\" y=\"-69.8\" font-family=\"Times,serif\" font-size=\"14.00\">x2w2</text>\n<polyline fill=\"none\" stroke=\"black\" points=\"375.5,-55.5 375.5,-91.5 \"/>\n<text text-anchor=\"middle\" x=\"415.5\" y=\"-69.8\" font-family=\"Times,serif\" font-size=\"14.00\">data 0.0000</text>\n<polyline fill=\"none\" stroke=\"black\" points=\"455.5,-55.5 455.5,-91.5 \"/>\n<text text-anchor=\"middle\" x=\"496.5\" y=\"-69.8\" font-family=\"Times,serif\" font-size=\"14.00\">grad 0.0000</text>\n</g>\n<!-- 139479134149584&#45;&gt;139479134152128+ -->\n<g id=\"edge12\" class=\"edge\">\n<title>139479134149584&#45;&gt;139479134152128+</title>\n<path fill=\"none\" stroke=\"black\" d=\"M537.53,-90.14C547.8,-91.79 557.66,-93.37 566.45,-94.79\"/>\n<polygon fill=\"black\" stroke=\"black\" points=\"566.16,-98.28 576.59,-96.42 567.27,-91.37 566.16,-98.28\"/>\n</g>\n<!-- 139479134149584*&#45;&gt;139479134149584 -->\n<g id=\"edge5\" class=\"edge\">\n<title>139479134149584*&#45;&gt;139479134149584</title>\n<path fill=\"none\" stroke=\"black\" d=\"M290.25,-73.5C298.43,-73.5 308.03,-73.5 318.31,-73.5\"/>\n<polygon fill=\"black\" stroke=\"black\" points=\"318.35,-77 328.35,-73.5 318.35,-70 318.35,-77\"/>\n</g>\n</g>\n</svg>\n",
            "text/plain": [
              "<graphviz.graphs.Digraph at 0x7edb043e9cf0>"
            ]
          },
          "metadata": {},
          "execution_count": 52
        }
      ]
    },
    {
      "cell_type": "markdown",
      "source": [
        "3. backpropogate to (x1w1 + x2w2) and bias\n",
        "\n",
        "We know that backpropogation thorugh a '+' node is just distributing the gradient.\n"
      ],
      "metadata": {
        "id": "IUn8xngROyeS"
      }
    },
    {
      "cell_type": "code",
      "source": [
        "# set gradients\n",
        "x1w1x2w2.grad = 0.5\n",
        "b.grad = 0.5\n",
        "\n",
        "#visualize\n",
        "draw_dot(o)"
      ],
      "metadata": {
        "colab": {
          "base_uri": "https://localhost:8080/",
          "height": 321
        },
        "id": "SZSBINtuPKbr",
        "outputId": "b0c7d1fc-68c7-4d3c-ab16-8427fa65b648"
      },
      "execution_count": 53,
      "outputs": [
        {
          "output_type": "execute_result",
          "data": {
            "image/svg+xml": "<?xml version=\"1.0\" encoding=\"UTF-8\" standalone=\"no\"?>\n<!DOCTYPE svg PUBLIC \"-//W3C//DTD SVG 1.1//EN\"\n \"http://www.w3.org/Graphics/SVG/1.1/DTD/svg11.dtd\">\n<!-- Generated by graphviz version 2.43.0 (0)\n -->\n<!-- Title: %3 Pages: 1 -->\n<svg width=\"1555pt\" height=\"210pt\"\n viewBox=\"0.00 0.00 1555.00 210.00\" xmlns=\"http://www.w3.org/2000/svg\" xmlns:xlink=\"http://www.w3.org/1999/xlink\">\n<g id=\"graph0\" class=\"graph\" transform=\"scale(1 1) rotate(0) translate(4 206)\">\n<title>%3</title>\n<polygon fill=\"white\" stroke=\"transparent\" points=\"-4,4 -4,-206 1551,-206 1551,4 -4,4\"/>\n<!-- 139479132798592 -->\n<g id=\"node1\" class=\"node\">\n<title>139479132798592</title>\n<polygon fill=\"none\" stroke=\"black\" points=\"4,-165.5 4,-201.5 196,-201.5 196,-165.5 4,-165.5\"/>\n<text text-anchor=\"middle\" x=\"19\" y=\"-179.8\" font-family=\"Times,serif\" font-size=\"14.00\">x1</text>\n<polyline fill=\"none\" stroke=\"black\" points=\"34,-165.5 34,-201.5 \"/>\n<text text-anchor=\"middle\" x=\"74\" y=\"-179.8\" font-family=\"Times,serif\" font-size=\"14.00\">data 2.0000</text>\n<polyline fill=\"none\" stroke=\"black\" points=\"114,-165.5 114,-201.5 \"/>\n<text text-anchor=\"middle\" x=\"155\" y=\"-179.8\" font-family=\"Times,serif\" font-size=\"14.00\">grad 0.0000</text>\n</g>\n<!-- 139479132792976* -->\n<g id=\"node4\" class=\"node\">\n<title>139479132792976*</title>\n<ellipse fill=\"none\" stroke=\"black\" cx=\"263\" cy=\"-128.5\" rx=\"27\" ry=\"18\"/>\n<text text-anchor=\"middle\" x=\"263\" y=\"-124.8\" font-family=\"Times,serif\" font-size=\"14.00\">*</text>\n</g>\n<!-- 139479132798592&#45;&gt;139479132792976* -->\n<g id=\"edge13\" class=\"edge\">\n<title>139479132798592&#45;&gt;139479132792976*</title>\n<path fill=\"none\" stroke=\"black\" d=\"M172.53,-165.44C181.84,-162.67 191.2,-159.67 200,-156.5 210.53,-152.71 221.75,-147.9 231.72,-143.33\"/>\n<polygon fill=\"black\" stroke=\"black\" points=\"233.25,-146.48 240.82,-139.07 230.28,-140.14 233.25,-146.48\"/>\n</g>\n<!-- 139479132797584 -->\n<g id=\"node2\" class=\"node\">\n<title>139479132797584</title>\n<polygon fill=\"none\" stroke=\"black\" points=\"703,-27.5 703,-63.5 888,-63.5 888,-27.5 703,-27.5\"/>\n<text text-anchor=\"middle\" x=\"714.5\" y=\"-41.8\" font-family=\"Times,serif\" font-size=\"14.00\">b</text>\n<polyline fill=\"none\" stroke=\"black\" points=\"726,-27.5 726,-63.5 \"/>\n<text text-anchor=\"middle\" x=\"766\" y=\"-41.8\" font-family=\"Times,serif\" font-size=\"14.00\">data 6.8814</text>\n<polyline fill=\"none\" stroke=\"black\" points=\"806,-27.5 806,-63.5 \"/>\n<text text-anchor=\"middle\" x=\"847\" y=\"-41.8\" font-family=\"Times,serif\" font-size=\"14.00\">grad 0.5000</text>\n</g>\n<!-- 139479134153952+ -->\n<g id=\"node7\" class=\"node\">\n<title>139479134153952+</title>\n<ellipse fill=\"none\" stroke=\"black\" cx=\"988\" cy=\"-72.5\" rx=\"27\" ry=\"18\"/>\n<text text-anchor=\"middle\" x=\"988\" y=\"-68.8\" font-family=\"Times,serif\" font-size=\"14.00\">+</text>\n</g>\n<!-- 139479132797584&#45;&gt;139479134153952+ -->\n<g id=\"edge8\" class=\"edge\">\n<title>139479132797584&#45;&gt;139479134153952+</title>\n<path fill=\"none\" stroke=\"black\" d=\"M888.12,-58.49C910.59,-61.67 933.33,-64.89 951.33,-67.44\"/>\n<polygon fill=\"black\" stroke=\"black\" points=\"950.95,-70.93 961.34,-68.86 951.93,-63.99 950.95,-70.93\"/>\n</g>\n<!-- 139479132792976 -->\n<g id=\"node3\" class=\"node\">\n<title>139479132792976</title>\n<polygon fill=\"none\" stroke=\"black\" points=\"326,-110.5 326,-146.5 540,-146.5 540,-110.5 326,-110.5\"/>\n<text text-anchor=\"middle\" x=\"349.5\" y=\"-124.8\" font-family=\"Times,serif\" font-size=\"14.00\">x1w1</text>\n<polyline fill=\"none\" stroke=\"black\" points=\"373,-110.5 373,-146.5 \"/>\n<text text-anchor=\"middle\" x=\"415.5\" y=\"-124.8\" font-family=\"Times,serif\" font-size=\"14.00\">data &#45;6.0000</text>\n<polyline fill=\"none\" stroke=\"black\" points=\"458,-110.5 458,-146.5 \"/>\n<text text-anchor=\"middle\" x=\"499\" y=\"-124.8\" font-family=\"Times,serif\" font-size=\"14.00\">grad 0.0000</text>\n</g>\n<!-- 139479134152128+ -->\n<g id=\"node13\" class=\"node\">\n<title>139479134152128+</title>\n<ellipse fill=\"none\" stroke=\"black\" cx=\"603\" cy=\"-100.5\" rx=\"27\" ry=\"18\"/>\n<text text-anchor=\"middle\" x=\"603\" y=\"-96.8\" font-family=\"Times,serif\" font-size=\"14.00\">+</text>\n</g>\n<!-- 139479132792976&#45;&gt;139479134152128+ -->\n<g id=\"edge6\" class=\"edge\">\n<title>139479132792976&#45;&gt;139479134152128+</title>\n<path fill=\"none\" stroke=\"black\" d=\"M540.4,-110.77C549.72,-109.21 558.65,-107.72 566.68,-106.39\"/>\n<polygon fill=\"black\" stroke=\"black\" points=\"567.38,-109.82 576.66,-104.72 566.22,-102.91 567.38,-109.82\"/>\n</g>\n<!-- 139479132792976*&#45;&gt;139479132792976 -->\n<g id=\"edge1\" class=\"edge\">\n<title>139479132792976*&#45;&gt;139479132792976</title>\n<path fill=\"none\" stroke=\"black\" d=\"M290.25,-128.5C297.7,-128.5 306.34,-128.5 315.59,-128.5\"/>\n<polygon fill=\"black\" stroke=\"black\" points=\"315.84,-132 325.84,-128.5 315.84,-125 315.84,-132\"/>\n</g>\n<!-- 139479132798400 -->\n<g id=\"node5\" class=\"node\">\n<title>139479132798400</title>\n<polygon fill=\"none\" stroke=\"black\" points=\"2.5,-55.5 2.5,-91.5 197.5,-91.5 197.5,-55.5 2.5,-55.5\"/>\n<text text-anchor=\"middle\" x=\"19\" y=\"-69.8\" font-family=\"Times,serif\" font-size=\"14.00\">w2</text>\n<polyline fill=\"none\" stroke=\"black\" points=\"35.5,-55.5 35.5,-91.5 \"/>\n<text text-anchor=\"middle\" x=\"75.5\" y=\"-69.8\" font-family=\"Times,serif\" font-size=\"14.00\">data 1.0000</text>\n<polyline fill=\"none\" stroke=\"black\" points=\"115.5,-55.5 115.5,-91.5 \"/>\n<text text-anchor=\"middle\" x=\"156.5\" y=\"-69.8\" font-family=\"Times,serif\" font-size=\"14.00\">grad 0.0000</text>\n</g>\n<!-- 139479134149584* -->\n<g id=\"node15\" class=\"node\">\n<title>139479134149584*</title>\n<ellipse fill=\"none\" stroke=\"black\" cx=\"263\" cy=\"-73.5\" rx=\"27\" ry=\"18\"/>\n<text text-anchor=\"middle\" x=\"263\" y=\"-69.8\" font-family=\"Times,serif\" font-size=\"14.00\">*</text>\n</g>\n<!-- 139479132798400&#45;&gt;139479134149584* -->\n<g id=\"edge9\" class=\"edge\">\n<title>139479132798400&#45;&gt;139479134149584*</title>\n<path fill=\"none\" stroke=\"black\" d=\"M197.91,-73.5C207.65,-73.5 217.05,-73.5 225.52,-73.5\"/>\n<polygon fill=\"black\" stroke=\"black\" points=\"225.7,-77 235.7,-73.5 225.7,-70 225.7,-77\"/>\n</g>\n<!-- 139479134153952 -->\n<g id=\"node6\" class=\"node\">\n<title>139479134153952</title>\n<polygon fill=\"none\" stroke=\"black\" points=\"1051,-54.5 1051,-90.5 1236,-90.5 1236,-54.5 1051,-54.5\"/>\n<text text-anchor=\"middle\" x=\"1062.5\" y=\"-68.8\" font-family=\"Times,serif\" font-size=\"14.00\">n</text>\n<polyline fill=\"none\" stroke=\"black\" points=\"1074,-54.5 1074,-90.5 \"/>\n<text text-anchor=\"middle\" x=\"1114\" y=\"-68.8\" font-family=\"Times,serif\" font-size=\"14.00\">data 0.8814</text>\n<polyline fill=\"none\" stroke=\"black\" points=\"1154,-54.5 1154,-90.5 \"/>\n<text text-anchor=\"middle\" x=\"1195\" y=\"-68.8\" font-family=\"Times,serif\" font-size=\"14.00\">grad 0.5000</text>\n</g>\n<!-- 139479134155008tanh -->\n<g id=\"node9\" class=\"node\">\n<title>139479134155008tanh</title>\n<ellipse fill=\"none\" stroke=\"black\" cx=\"1299\" cy=\"-72.5\" rx=\"27\" ry=\"18\"/>\n<text text-anchor=\"middle\" x=\"1299\" y=\"-68.8\" font-family=\"Times,serif\" font-size=\"14.00\">tanh</text>\n</g>\n<!-- 139479134153952&#45;&gt;139479134155008tanh -->\n<g id=\"edge10\" class=\"edge\">\n<title>139479134153952&#45;&gt;139479134155008tanh</title>\n<path fill=\"none\" stroke=\"black\" d=\"M1236.01,-72.5C1245.01,-72.5 1253.74,-72.5 1261.66,-72.5\"/>\n<polygon fill=\"black\" stroke=\"black\" points=\"1261.91,-76 1271.91,-72.5 1261.91,-69 1261.91,-76\"/>\n</g>\n<!-- 139479134153952+&#45;&gt;139479134153952 -->\n<g id=\"edge2\" class=\"edge\">\n<title>139479134153952+&#45;&gt;139479134153952</title>\n<path fill=\"none\" stroke=\"black\" d=\"M1015.04,-72.5C1022.58,-72.5 1031.3,-72.5 1040.57,-72.5\"/>\n<polygon fill=\"black\" stroke=\"black\" points=\"1040.81,-76 1050.81,-72.5 1040.81,-69 1040.81,-76\"/>\n</g>\n<!-- 139479134155008 -->\n<g id=\"node8\" class=\"node\">\n<title>139479134155008</title>\n<polygon fill=\"none\" stroke=\"black\" points=\"1362,-54.5 1362,-90.5 1547,-90.5 1547,-54.5 1362,-54.5\"/>\n<text text-anchor=\"middle\" x=\"1373.5\" y=\"-68.8\" font-family=\"Times,serif\" font-size=\"14.00\">o</text>\n<polyline fill=\"none\" stroke=\"black\" points=\"1385,-54.5 1385,-90.5 \"/>\n<text text-anchor=\"middle\" x=\"1425\" y=\"-68.8\" font-family=\"Times,serif\" font-size=\"14.00\">data 0.7071</text>\n<polyline fill=\"none\" stroke=\"black\" points=\"1465,-54.5 1465,-90.5 \"/>\n<text text-anchor=\"middle\" x=\"1506\" y=\"-68.8\" font-family=\"Times,serif\" font-size=\"14.00\">grad 1.0000</text>\n</g>\n<!-- 139479134155008tanh&#45;&gt;139479134155008 -->\n<g id=\"edge3\" class=\"edge\">\n<title>139479134155008tanh&#45;&gt;139479134155008</title>\n<path fill=\"none\" stroke=\"black\" d=\"M1326.04,-72.5C1333.58,-72.5 1342.3,-72.5 1351.57,-72.5\"/>\n<polygon fill=\"black\" stroke=\"black\" points=\"1351.81,-76 1361.81,-72.5 1351.81,-69 1351.81,-76\"/>\n</g>\n<!-- 139479132793216 -->\n<g id=\"node10\" class=\"node\">\n<title>139479132793216</title>\n<polygon fill=\"none\" stroke=\"black\" points=\"4,-0.5 4,-36.5 196,-36.5 196,-0.5 4,-0.5\"/>\n<text text-anchor=\"middle\" x=\"19\" y=\"-14.8\" font-family=\"Times,serif\" font-size=\"14.00\">x2</text>\n<polyline fill=\"none\" stroke=\"black\" points=\"34,-0.5 34,-36.5 \"/>\n<text text-anchor=\"middle\" x=\"74\" y=\"-14.8\" font-family=\"Times,serif\" font-size=\"14.00\">data 0.0000</text>\n<polyline fill=\"none\" stroke=\"black\" points=\"114,-0.5 114,-36.5 \"/>\n<text text-anchor=\"middle\" x=\"155\" y=\"-14.8\" font-family=\"Times,serif\" font-size=\"14.00\">grad 0.0000</text>\n</g>\n<!-- 139479132793216&#45;&gt;139479134149584* -->\n<g id=\"edge14\" class=\"edge\">\n<title>139479132793216&#45;&gt;139479134149584*</title>\n<path fill=\"none\" stroke=\"black\" d=\"M169.28,-36.5C179.65,-39.61 190.16,-42.98 200,-46.5 210.28,-50.17 221.28,-54.74 231.11,-59.07\"/>\n<polygon fill=\"black\" stroke=\"black\" points=\"229.93,-62.37 240.48,-63.27 232.79,-55.99 229.93,-62.37\"/>\n</g>\n<!-- 139479132797872 -->\n<g id=\"node11\" class=\"node\">\n<title>139479132797872</title>\n<polygon fill=\"none\" stroke=\"black\" points=\"0,-110.5 0,-146.5 200,-146.5 200,-110.5 0,-110.5\"/>\n<text text-anchor=\"middle\" x=\"16.5\" y=\"-124.8\" font-family=\"Times,serif\" font-size=\"14.00\">w1</text>\n<polyline fill=\"none\" stroke=\"black\" points=\"33,-110.5 33,-146.5 \"/>\n<text text-anchor=\"middle\" x=\"75.5\" y=\"-124.8\" font-family=\"Times,serif\" font-size=\"14.00\">data &#45;3.0000</text>\n<polyline fill=\"none\" stroke=\"black\" points=\"118,-110.5 118,-146.5 \"/>\n<text text-anchor=\"middle\" x=\"159\" y=\"-124.8\" font-family=\"Times,serif\" font-size=\"14.00\">grad 0.0000</text>\n</g>\n<!-- 139479132797872&#45;&gt;139479132792976* -->\n<g id=\"edge11\" class=\"edge\">\n<title>139479132797872&#45;&gt;139479132792976*</title>\n<path fill=\"none\" stroke=\"black\" d=\"M200.21,-128.5C209.2,-128.5 217.86,-128.5 225.7,-128.5\"/>\n<polygon fill=\"black\" stroke=\"black\" points=\"225.85,-132 235.85,-128.5 225.85,-125 225.85,-132\"/>\n</g>\n<!-- 139479134152128 -->\n<g id=\"node12\" class=\"node\">\n<title>139479134152128</title>\n<polygon fill=\"none\" stroke=\"black\" points=\"666,-82.5 666,-118.5 925,-118.5 925,-82.5 666,-82.5\"/>\n<text text-anchor=\"middle\" x=\"712\" y=\"-96.8\" font-family=\"Times,serif\" font-size=\"14.00\">x1w1 + x2w2</text>\n<polyline fill=\"none\" stroke=\"black\" points=\"758,-82.5 758,-118.5 \"/>\n<text text-anchor=\"middle\" x=\"800.5\" y=\"-96.8\" font-family=\"Times,serif\" font-size=\"14.00\">data &#45;6.0000</text>\n<polyline fill=\"none\" stroke=\"black\" points=\"843,-82.5 843,-118.5 \"/>\n<text text-anchor=\"middle\" x=\"884\" y=\"-96.8\" font-family=\"Times,serif\" font-size=\"14.00\">grad 0.5000</text>\n</g>\n<!-- 139479134152128&#45;&gt;139479134153952+ -->\n<g id=\"edge7\" class=\"edge\">\n<title>139479134152128&#45;&gt;139479134153952+</title>\n<path fill=\"none\" stroke=\"black\" d=\"M919.03,-82.49C930.7,-80.77 941.77,-79.15 951.46,-77.72\"/>\n<polygon fill=\"black\" stroke=\"black\" points=\"952.01,-81.18 961.4,-76.26 951,-74.25 952.01,-81.18\"/>\n</g>\n<!-- 139479134152128+&#45;&gt;139479134152128 -->\n<g id=\"edge4\" class=\"edge\">\n<title>139479134152128+&#45;&gt;139479134152128</title>\n<path fill=\"none\" stroke=\"black\" d=\"M630.09,-100.5C637.58,-100.5 646.3,-100.5 655.75,-100.5\"/>\n<polygon fill=\"black\" stroke=\"black\" points=\"655.84,-104 665.84,-100.5 655.84,-97 655.84,-104\"/>\n</g>\n<!-- 139479134149584 -->\n<g id=\"node14\" class=\"node\">\n<title>139479134149584</title>\n<polygon fill=\"none\" stroke=\"black\" points=\"328.5,-55.5 328.5,-91.5 537.5,-91.5 537.5,-55.5 328.5,-55.5\"/>\n<text text-anchor=\"middle\" x=\"352\" y=\"-69.8\" font-family=\"Times,serif\" font-size=\"14.00\">x2w2</text>\n<polyline fill=\"none\" stroke=\"black\" points=\"375.5,-55.5 375.5,-91.5 \"/>\n<text text-anchor=\"middle\" x=\"415.5\" y=\"-69.8\" font-family=\"Times,serif\" font-size=\"14.00\">data 0.0000</text>\n<polyline fill=\"none\" stroke=\"black\" points=\"455.5,-55.5 455.5,-91.5 \"/>\n<text text-anchor=\"middle\" x=\"496.5\" y=\"-69.8\" font-family=\"Times,serif\" font-size=\"14.00\">grad 0.0000</text>\n</g>\n<!-- 139479134149584&#45;&gt;139479134152128+ -->\n<g id=\"edge12\" class=\"edge\">\n<title>139479134149584&#45;&gt;139479134152128+</title>\n<path fill=\"none\" stroke=\"black\" d=\"M537.53,-90.14C547.8,-91.79 557.66,-93.37 566.45,-94.79\"/>\n<polygon fill=\"black\" stroke=\"black\" points=\"566.16,-98.28 576.59,-96.42 567.27,-91.37 566.16,-98.28\"/>\n</g>\n<!-- 139479134149584*&#45;&gt;139479134149584 -->\n<g id=\"edge5\" class=\"edge\">\n<title>139479134149584*&#45;&gt;139479134149584</title>\n<path fill=\"none\" stroke=\"black\" d=\"M290.25,-73.5C298.43,-73.5 308.03,-73.5 318.31,-73.5\"/>\n<polygon fill=\"black\" stroke=\"black\" points=\"318.35,-77 328.35,-73.5 318.35,-70 318.35,-77\"/>\n</g>\n</g>\n</svg>\n",
            "text/plain": [
              "<graphviz.graphs.Digraph at 0x7edb042592a0>"
            ]
          },
          "metadata": {},
          "execution_count": 53
        }
      ]
    },
    {
      "cell_type": "markdown",
      "source": [
        "4. backpropogate to x1w1 and x2w2\n",
        "\n",
        "We need again to backpropogate through a '+' operation, just ditributing the earlier gradient"
      ],
      "metadata": {
        "id": "PbIPdASwPatq"
      }
    },
    {
      "cell_type": "code",
      "source": [
        "# set gradients\n",
        "x1w1.grad = 0.5\n",
        "x2w2.grad = 0.5\n",
        "\n",
        "#visualize\n",
        "draw_dot(o)"
      ],
      "metadata": {
        "colab": {
          "base_uri": "https://localhost:8080/",
          "height": 321
        },
        "id": "NqyL-xi3PYFV",
        "outputId": "bf7ecd8c-3449-45ed-910c-ffc31850bee9"
      },
      "execution_count": 54,
      "outputs": [
        {
          "output_type": "execute_result",
          "data": {
            "image/svg+xml": "<?xml version=\"1.0\" encoding=\"UTF-8\" standalone=\"no\"?>\n<!DOCTYPE svg PUBLIC \"-//W3C//DTD SVG 1.1//EN\"\n \"http://www.w3.org/Graphics/SVG/1.1/DTD/svg11.dtd\">\n<!-- Generated by graphviz version 2.43.0 (0)\n -->\n<!-- Title: %3 Pages: 1 -->\n<svg width=\"1555pt\" height=\"210pt\"\n viewBox=\"0.00 0.00 1555.00 210.00\" xmlns=\"http://www.w3.org/2000/svg\" xmlns:xlink=\"http://www.w3.org/1999/xlink\">\n<g id=\"graph0\" class=\"graph\" transform=\"scale(1 1) rotate(0) translate(4 206)\">\n<title>%3</title>\n<polygon fill=\"white\" stroke=\"transparent\" points=\"-4,4 -4,-206 1551,-206 1551,4 -4,4\"/>\n<!-- 139479132798592 -->\n<g id=\"node1\" class=\"node\">\n<title>139479132798592</title>\n<polygon fill=\"none\" stroke=\"black\" points=\"4,-165.5 4,-201.5 196,-201.5 196,-165.5 4,-165.5\"/>\n<text text-anchor=\"middle\" x=\"19\" y=\"-179.8\" font-family=\"Times,serif\" font-size=\"14.00\">x1</text>\n<polyline fill=\"none\" stroke=\"black\" points=\"34,-165.5 34,-201.5 \"/>\n<text text-anchor=\"middle\" x=\"74\" y=\"-179.8\" font-family=\"Times,serif\" font-size=\"14.00\">data 2.0000</text>\n<polyline fill=\"none\" stroke=\"black\" points=\"114,-165.5 114,-201.5 \"/>\n<text text-anchor=\"middle\" x=\"155\" y=\"-179.8\" font-family=\"Times,serif\" font-size=\"14.00\">grad 0.0000</text>\n</g>\n<!-- 139479132792976* -->\n<g id=\"node4\" class=\"node\">\n<title>139479132792976*</title>\n<ellipse fill=\"none\" stroke=\"black\" cx=\"263\" cy=\"-128.5\" rx=\"27\" ry=\"18\"/>\n<text text-anchor=\"middle\" x=\"263\" y=\"-124.8\" font-family=\"Times,serif\" font-size=\"14.00\">*</text>\n</g>\n<!-- 139479132798592&#45;&gt;139479132792976* -->\n<g id=\"edge13\" class=\"edge\">\n<title>139479132798592&#45;&gt;139479132792976*</title>\n<path fill=\"none\" stroke=\"black\" d=\"M172.53,-165.44C181.84,-162.67 191.2,-159.67 200,-156.5 210.53,-152.71 221.75,-147.9 231.72,-143.33\"/>\n<polygon fill=\"black\" stroke=\"black\" points=\"233.25,-146.48 240.82,-139.07 230.28,-140.14 233.25,-146.48\"/>\n</g>\n<!-- 139479132797584 -->\n<g id=\"node2\" class=\"node\">\n<title>139479132797584</title>\n<polygon fill=\"none\" stroke=\"black\" points=\"703,-27.5 703,-63.5 888,-63.5 888,-27.5 703,-27.5\"/>\n<text text-anchor=\"middle\" x=\"714.5\" y=\"-41.8\" font-family=\"Times,serif\" font-size=\"14.00\">b</text>\n<polyline fill=\"none\" stroke=\"black\" points=\"726,-27.5 726,-63.5 \"/>\n<text text-anchor=\"middle\" x=\"766\" y=\"-41.8\" font-family=\"Times,serif\" font-size=\"14.00\">data 6.8814</text>\n<polyline fill=\"none\" stroke=\"black\" points=\"806,-27.5 806,-63.5 \"/>\n<text text-anchor=\"middle\" x=\"847\" y=\"-41.8\" font-family=\"Times,serif\" font-size=\"14.00\">grad 0.5000</text>\n</g>\n<!-- 139479134153952+ -->\n<g id=\"node7\" class=\"node\">\n<title>139479134153952+</title>\n<ellipse fill=\"none\" stroke=\"black\" cx=\"988\" cy=\"-72.5\" rx=\"27\" ry=\"18\"/>\n<text text-anchor=\"middle\" x=\"988\" y=\"-68.8\" font-family=\"Times,serif\" font-size=\"14.00\">+</text>\n</g>\n<!-- 139479132797584&#45;&gt;139479134153952+ -->\n<g id=\"edge8\" class=\"edge\">\n<title>139479132797584&#45;&gt;139479134153952+</title>\n<path fill=\"none\" stroke=\"black\" d=\"M888.12,-58.49C910.59,-61.67 933.33,-64.89 951.33,-67.44\"/>\n<polygon fill=\"black\" stroke=\"black\" points=\"950.95,-70.93 961.34,-68.86 951.93,-63.99 950.95,-70.93\"/>\n</g>\n<!-- 139479132792976 -->\n<g id=\"node3\" class=\"node\">\n<title>139479132792976</title>\n<polygon fill=\"none\" stroke=\"black\" points=\"326,-110.5 326,-146.5 540,-146.5 540,-110.5 326,-110.5\"/>\n<text text-anchor=\"middle\" x=\"349.5\" y=\"-124.8\" font-family=\"Times,serif\" font-size=\"14.00\">x1w1</text>\n<polyline fill=\"none\" stroke=\"black\" points=\"373,-110.5 373,-146.5 \"/>\n<text text-anchor=\"middle\" x=\"415.5\" y=\"-124.8\" font-family=\"Times,serif\" font-size=\"14.00\">data &#45;6.0000</text>\n<polyline fill=\"none\" stroke=\"black\" points=\"458,-110.5 458,-146.5 \"/>\n<text text-anchor=\"middle\" x=\"499\" y=\"-124.8\" font-family=\"Times,serif\" font-size=\"14.00\">grad 0.5000</text>\n</g>\n<!-- 139479134152128+ -->\n<g id=\"node13\" class=\"node\">\n<title>139479134152128+</title>\n<ellipse fill=\"none\" stroke=\"black\" cx=\"603\" cy=\"-100.5\" rx=\"27\" ry=\"18\"/>\n<text text-anchor=\"middle\" x=\"603\" y=\"-96.8\" font-family=\"Times,serif\" font-size=\"14.00\">+</text>\n</g>\n<!-- 139479132792976&#45;&gt;139479134152128+ -->\n<g id=\"edge6\" class=\"edge\">\n<title>139479132792976&#45;&gt;139479134152128+</title>\n<path fill=\"none\" stroke=\"black\" d=\"M540.4,-110.77C549.72,-109.21 558.65,-107.72 566.68,-106.39\"/>\n<polygon fill=\"black\" stroke=\"black\" points=\"567.38,-109.82 576.66,-104.72 566.22,-102.91 567.38,-109.82\"/>\n</g>\n<!-- 139479132792976*&#45;&gt;139479132792976 -->\n<g id=\"edge1\" class=\"edge\">\n<title>139479132792976*&#45;&gt;139479132792976</title>\n<path fill=\"none\" stroke=\"black\" d=\"M290.25,-128.5C297.7,-128.5 306.34,-128.5 315.59,-128.5\"/>\n<polygon fill=\"black\" stroke=\"black\" points=\"315.84,-132 325.84,-128.5 315.84,-125 315.84,-132\"/>\n</g>\n<!-- 139479132798400 -->\n<g id=\"node5\" class=\"node\">\n<title>139479132798400</title>\n<polygon fill=\"none\" stroke=\"black\" points=\"2.5,-55.5 2.5,-91.5 197.5,-91.5 197.5,-55.5 2.5,-55.5\"/>\n<text text-anchor=\"middle\" x=\"19\" y=\"-69.8\" font-family=\"Times,serif\" font-size=\"14.00\">w2</text>\n<polyline fill=\"none\" stroke=\"black\" points=\"35.5,-55.5 35.5,-91.5 \"/>\n<text text-anchor=\"middle\" x=\"75.5\" y=\"-69.8\" font-family=\"Times,serif\" font-size=\"14.00\">data 1.0000</text>\n<polyline fill=\"none\" stroke=\"black\" points=\"115.5,-55.5 115.5,-91.5 \"/>\n<text text-anchor=\"middle\" x=\"156.5\" y=\"-69.8\" font-family=\"Times,serif\" font-size=\"14.00\">grad 0.0000</text>\n</g>\n<!-- 139479134149584* -->\n<g id=\"node15\" class=\"node\">\n<title>139479134149584*</title>\n<ellipse fill=\"none\" stroke=\"black\" cx=\"263\" cy=\"-73.5\" rx=\"27\" ry=\"18\"/>\n<text text-anchor=\"middle\" x=\"263\" y=\"-69.8\" font-family=\"Times,serif\" font-size=\"14.00\">*</text>\n</g>\n<!-- 139479132798400&#45;&gt;139479134149584* -->\n<g id=\"edge9\" class=\"edge\">\n<title>139479132798400&#45;&gt;139479134149584*</title>\n<path fill=\"none\" stroke=\"black\" d=\"M197.91,-73.5C207.65,-73.5 217.05,-73.5 225.52,-73.5\"/>\n<polygon fill=\"black\" stroke=\"black\" points=\"225.7,-77 235.7,-73.5 225.7,-70 225.7,-77\"/>\n</g>\n<!-- 139479134153952 -->\n<g id=\"node6\" class=\"node\">\n<title>139479134153952</title>\n<polygon fill=\"none\" stroke=\"black\" points=\"1051,-54.5 1051,-90.5 1236,-90.5 1236,-54.5 1051,-54.5\"/>\n<text text-anchor=\"middle\" x=\"1062.5\" y=\"-68.8\" font-family=\"Times,serif\" font-size=\"14.00\">n</text>\n<polyline fill=\"none\" stroke=\"black\" points=\"1074,-54.5 1074,-90.5 \"/>\n<text text-anchor=\"middle\" x=\"1114\" y=\"-68.8\" font-family=\"Times,serif\" font-size=\"14.00\">data 0.8814</text>\n<polyline fill=\"none\" stroke=\"black\" points=\"1154,-54.5 1154,-90.5 \"/>\n<text text-anchor=\"middle\" x=\"1195\" y=\"-68.8\" font-family=\"Times,serif\" font-size=\"14.00\">grad 0.5000</text>\n</g>\n<!-- 139479134155008tanh -->\n<g id=\"node9\" class=\"node\">\n<title>139479134155008tanh</title>\n<ellipse fill=\"none\" stroke=\"black\" cx=\"1299\" cy=\"-72.5\" rx=\"27\" ry=\"18\"/>\n<text text-anchor=\"middle\" x=\"1299\" y=\"-68.8\" font-family=\"Times,serif\" font-size=\"14.00\">tanh</text>\n</g>\n<!-- 139479134153952&#45;&gt;139479134155008tanh -->\n<g id=\"edge10\" class=\"edge\">\n<title>139479134153952&#45;&gt;139479134155008tanh</title>\n<path fill=\"none\" stroke=\"black\" d=\"M1236.01,-72.5C1245.01,-72.5 1253.74,-72.5 1261.66,-72.5\"/>\n<polygon fill=\"black\" stroke=\"black\" points=\"1261.91,-76 1271.91,-72.5 1261.91,-69 1261.91,-76\"/>\n</g>\n<!-- 139479134153952+&#45;&gt;139479134153952 -->\n<g id=\"edge2\" class=\"edge\">\n<title>139479134153952+&#45;&gt;139479134153952</title>\n<path fill=\"none\" stroke=\"black\" d=\"M1015.04,-72.5C1022.58,-72.5 1031.3,-72.5 1040.57,-72.5\"/>\n<polygon fill=\"black\" stroke=\"black\" points=\"1040.81,-76 1050.81,-72.5 1040.81,-69 1040.81,-76\"/>\n</g>\n<!-- 139479134155008 -->\n<g id=\"node8\" class=\"node\">\n<title>139479134155008</title>\n<polygon fill=\"none\" stroke=\"black\" points=\"1362,-54.5 1362,-90.5 1547,-90.5 1547,-54.5 1362,-54.5\"/>\n<text text-anchor=\"middle\" x=\"1373.5\" y=\"-68.8\" font-family=\"Times,serif\" font-size=\"14.00\">o</text>\n<polyline fill=\"none\" stroke=\"black\" points=\"1385,-54.5 1385,-90.5 \"/>\n<text text-anchor=\"middle\" x=\"1425\" y=\"-68.8\" font-family=\"Times,serif\" font-size=\"14.00\">data 0.7071</text>\n<polyline fill=\"none\" stroke=\"black\" points=\"1465,-54.5 1465,-90.5 \"/>\n<text text-anchor=\"middle\" x=\"1506\" y=\"-68.8\" font-family=\"Times,serif\" font-size=\"14.00\">grad 1.0000</text>\n</g>\n<!-- 139479134155008tanh&#45;&gt;139479134155008 -->\n<g id=\"edge3\" class=\"edge\">\n<title>139479134155008tanh&#45;&gt;139479134155008</title>\n<path fill=\"none\" stroke=\"black\" d=\"M1326.04,-72.5C1333.58,-72.5 1342.3,-72.5 1351.57,-72.5\"/>\n<polygon fill=\"black\" stroke=\"black\" points=\"1351.81,-76 1361.81,-72.5 1351.81,-69 1351.81,-76\"/>\n</g>\n<!-- 139479132793216 -->\n<g id=\"node10\" class=\"node\">\n<title>139479132793216</title>\n<polygon fill=\"none\" stroke=\"black\" points=\"4,-0.5 4,-36.5 196,-36.5 196,-0.5 4,-0.5\"/>\n<text text-anchor=\"middle\" x=\"19\" y=\"-14.8\" font-family=\"Times,serif\" font-size=\"14.00\">x2</text>\n<polyline fill=\"none\" stroke=\"black\" points=\"34,-0.5 34,-36.5 \"/>\n<text text-anchor=\"middle\" x=\"74\" y=\"-14.8\" font-family=\"Times,serif\" font-size=\"14.00\">data 0.0000</text>\n<polyline fill=\"none\" stroke=\"black\" points=\"114,-0.5 114,-36.5 \"/>\n<text text-anchor=\"middle\" x=\"155\" y=\"-14.8\" font-family=\"Times,serif\" font-size=\"14.00\">grad 0.0000</text>\n</g>\n<!-- 139479132793216&#45;&gt;139479134149584* -->\n<g id=\"edge14\" class=\"edge\">\n<title>139479132793216&#45;&gt;139479134149584*</title>\n<path fill=\"none\" stroke=\"black\" d=\"M169.28,-36.5C179.65,-39.61 190.16,-42.98 200,-46.5 210.28,-50.17 221.28,-54.74 231.11,-59.07\"/>\n<polygon fill=\"black\" stroke=\"black\" points=\"229.93,-62.37 240.48,-63.27 232.79,-55.99 229.93,-62.37\"/>\n</g>\n<!-- 139479132797872 -->\n<g id=\"node11\" class=\"node\">\n<title>139479132797872</title>\n<polygon fill=\"none\" stroke=\"black\" points=\"0,-110.5 0,-146.5 200,-146.5 200,-110.5 0,-110.5\"/>\n<text text-anchor=\"middle\" x=\"16.5\" y=\"-124.8\" font-family=\"Times,serif\" font-size=\"14.00\">w1</text>\n<polyline fill=\"none\" stroke=\"black\" points=\"33,-110.5 33,-146.5 \"/>\n<text text-anchor=\"middle\" x=\"75.5\" y=\"-124.8\" font-family=\"Times,serif\" font-size=\"14.00\">data &#45;3.0000</text>\n<polyline fill=\"none\" stroke=\"black\" points=\"118,-110.5 118,-146.5 \"/>\n<text text-anchor=\"middle\" x=\"159\" y=\"-124.8\" font-family=\"Times,serif\" font-size=\"14.00\">grad 0.0000</text>\n</g>\n<!-- 139479132797872&#45;&gt;139479132792976* -->\n<g id=\"edge11\" class=\"edge\">\n<title>139479132797872&#45;&gt;139479132792976*</title>\n<path fill=\"none\" stroke=\"black\" d=\"M200.21,-128.5C209.2,-128.5 217.86,-128.5 225.7,-128.5\"/>\n<polygon fill=\"black\" stroke=\"black\" points=\"225.85,-132 235.85,-128.5 225.85,-125 225.85,-132\"/>\n</g>\n<!-- 139479134152128 -->\n<g id=\"node12\" class=\"node\">\n<title>139479134152128</title>\n<polygon fill=\"none\" stroke=\"black\" points=\"666,-82.5 666,-118.5 925,-118.5 925,-82.5 666,-82.5\"/>\n<text text-anchor=\"middle\" x=\"712\" y=\"-96.8\" font-family=\"Times,serif\" font-size=\"14.00\">x1w1 + x2w2</text>\n<polyline fill=\"none\" stroke=\"black\" points=\"758,-82.5 758,-118.5 \"/>\n<text text-anchor=\"middle\" x=\"800.5\" y=\"-96.8\" font-family=\"Times,serif\" font-size=\"14.00\">data &#45;6.0000</text>\n<polyline fill=\"none\" stroke=\"black\" points=\"843,-82.5 843,-118.5 \"/>\n<text text-anchor=\"middle\" x=\"884\" y=\"-96.8\" font-family=\"Times,serif\" font-size=\"14.00\">grad 0.5000</text>\n</g>\n<!-- 139479134152128&#45;&gt;139479134153952+ -->\n<g id=\"edge7\" class=\"edge\">\n<title>139479134152128&#45;&gt;139479134153952+</title>\n<path fill=\"none\" stroke=\"black\" d=\"M919.03,-82.49C930.7,-80.77 941.77,-79.15 951.46,-77.72\"/>\n<polygon fill=\"black\" stroke=\"black\" points=\"952.01,-81.18 961.4,-76.26 951,-74.25 952.01,-81.18\"/>\n</g>\n<!-- 139479134152128+&#45;&gt;139479134152128 -->\n<g id=\"edge4\" class=\"edge\">\n<title>139479134152128+&#45;&gt;139479134152128</title>\n<path fill=\"none\" stroke=\"black\" d=\"M630.09,-100.5C637.58,-100.5 646.3,-100.5 655.75,-100.5\"/>\n<polygon fill=\"black\" stroke=\"black\" points=\"655.84,-104 665.84,-100.5 655.84,-97 655.84,-104\"/>\n</g>\n<!-- 139479134149584 -->\n<g id=\"node14\" class=\"node\">\n<title>139479134149584</title>\n<polygon fill=\"none\" stroke=\"black\" points=\"328.5,-55.5 328.5,-91.5 537.5,-91.5 537.5,-55.5 328.5,-55.5\"/>\n<text text-anchor=\"middle\" x=\"352\" y=\"-69.8\" font-family=\"Times,serif\" font-size=\"14.00\">x2w2</text>\n<polyline fill=\"none\" stroke=\"black\" points=\"375.5,-55.5 375.5,-91.5 \"/>\n<text text-anchor=\"middle\" x=\"415.5\" y=\"-69.8\" font-family=\"Times,serif\" font-size=\"14.00\">data 0.0000</text>\n<polyline fill=\"none\" stroke=\"black\" points=\"455.5,-55.5 455.5,-91.5 \"/>\n<text text-anchor=\"middle\" x=\"496.5\" y=\"-69.8\" font-family=\"Times,serif\" font-size=\"14.00\">grad 0.5000</text>\n</g>\n<!-- 139479134149584&#45;&gt;139479134152128+ -->\n<g id=\"edge12\" class=\"edge\">\n<title>139479134149584&#45;&gt;139479134152128+</title>\n<path fill=\"none\" stroke=\"black\" d=\"M537.53,-90.14C547.8,-91.79 557.66,-93.37 566.45,-94.79\"/>\n<polygon fill=\"black\" stroke=\"black\" points=\"566.16,-98.28 576.59,-96.42 567.27,-91.37 566.16,-98.28\"/>\n</g>\n<!-- 139479134149584*&#45;&gt;139479134149584 -->\n<g id=\"edge5\" class=\"edge\">\n<title>139479134149584*&#45;&gt;139479134149584</title>\n<path fill=\"none\" stroke=\"black\" d=\"M290.25,-73.5C298.43,-73.5 308.03,-73.5 318.31,-73.5\"/>\n<polygon fill=\"black\" stroke=\"black\" points=\"318.35,-77 328.35,-73.5 318.35,-70 318.35,-77\"/>\n</g>\n</g>\n</svg>\n",
            "text/plain": [
              "<graphviz.graphs.Digraph at 0x7edb0429e860>"
            ]
          },
          "metadata": {},
          "execution_count": 54
        }
      ]
    },
    {
      "cell_type": "markdown",
      "source": [
        "5. backpropogate to w1, x1 and w2, x2\n",
        "\n",
        "Keep in mind, every point in time along here, these gradient is signifying the impact on output -\n",
        "Notice the x1w1 and x2w2 gradients are positive, which signifies that if we want the output of the neuron to increase, then the influence of these input expression is making positive contribution to the output\n"
      ],
      "metadata": {
        "id": "RILdQAc_PxPp"
      }
    },
    {
      "cell_type": "code",
      "source": [
        "w1.grad = x1.data * x1w1.grad\n",
        "x1.grad = w1.data * x1w1.grad\n",
        "\n",
        "#visualize\n",
        "draw_dot(o)"
      ],
      "metadata": {
        "colab": {
          "base_uri": "https://localhost:8080/",
          "height": 321
        },
        "id": "k0zsJhshQJ2J",
        "outputId": "ff9fd5f5-6c24-447a-ac9d-adf7132d84f1"
      },
      "execution_count": 55,
      "outputs": [
        {
          "output_type": "execute_result",
          "data": {
            "image/svg+xml": "<?xml version=\"1.0\" encoding=\"UTF-8\" standalone=\"no\"?>\n<!DOCTYPE svg PUBLIC \"-//W3C//DTD SVG 1.1//EN\"\n \"http://www.w3.org/Graphics/SVG/1.1/DTD/svg11.dtd\">\n<!-- Generated by graphviz version 2.43.0 (0)\n -->\n<!-- Title: %3 Pages: 1 -->\n<svg width=\"1555pt\" height=\"210pt\"\n viewBox=\"0.00 0.00 1555.00 210.00\" xmlns=\"http://www.w3.org/2000/svg\" xmlns:xlink=\"http://www.w3.org/1999/xlink\">\n<g id=\"graph0\" class=\"graph\" transform=\"scale(1 1) rotate(0) translate(4 206)\">\n<title>%3</title>\n<polygon fill=\"white\" stroke=\"transparent\" points=\"-4,4 -4,-206 1551,-206 1551,4 -4,4\"/>\n<!-- 139479132798592 -->\n<g id=\"node1\" class=\"node\">\n<title>139479132798592</title>\n<polygon fill=\"none\" stroke=\"black\" points=\"2,-165.5 2,-201.5 198,-201.5 198,-165.5 2,-165.5\"/>\n<text text-anchor=\"middle\" x=\"17\" y=\"-179.8\" font-family=\"Times,serif\" font-size=\"14.00\">x1</text>\n<polyline fill=\"none\" stroke=\"black\" points=\"32,-165.5 32,-201.5 \"/>\n<text text-anchor=\"middle\" x=\"72\" y=\"-179.8\" font-family=\"Times,serif\" font-size=\"14.00\">data 2.0000</text>\n<polyline fill=\"none\" stroke=\"black\" points=\"112,-165.5 112,-201.5 \"/>\n<text text-anchor=\"middle\" x=\"155\" y=\"-179.8\" font-family=\"Times,serif\" font-size=\"14.00\">grad &#45;1.5000</text>\n</g>\n<!-- 139479132792976* -->\n<g id=\"node4\" class=\"node\">\n<title>139479132792976*</title>\n<ellipse fill=\"none\" stroke=\"black\" cx=\"263\" cy=\"-128.5\" rx=\"27\" ry=\"18\"/>\n<text text-anchor=\"middle\" x=\"263\" y=\"-124.8\" font-family=\"Times,serif\" font-size=\"14.00\">*</text>\n</g>\n<!-- 139479132798592&#45;&gt;139479132792976* -->\n<g id=\"edge13\" class=\"edge\">\n<title>139479132798592&#45;&gt;139479132792976*</title>\n<path fill=\"none\" stroke=\"black\" d=\"M172.53,-165.44C181.84,-162.67 191.2,-159.67 200,-156.5 210.53,-152.71 221.75,-147.9 231.72,-143.33\"/>\n<polygon fill=\"black\" stroke=\"black\" points=\"233.25,-146.48 240.82,-139.07 230.28,-140.14 233.25,-146.48\"/>\n</g>\n<!-- 139479132797584 -->\n<g id=\"node2\" class=\"node\">\n<title>139479132797584</title>\n<polygon fill=\"none\" stroke=\"black\" points=\"703,-27.5 703,-63.5 888,-63.5 888,-27.5 703,-27.5\"/>\n<text text-anchor=\"middle\" x=\"714.5\" y=\"-41.8\" font-family=\"Times,serif\" font-size=\"14.00\">b</text>\n<polyline fill=\"none\" stroke=\"black\" points=\"726,-27.5 726,-63.5 \"/>\n<text text-anchor=\"middle\" x=\"766\" y=\"-41.8\" font-family=\"Times,serif\" font-size=\"14.00\">data 6.8814</text>\n<polyline fill=\"none\" stroke=\"black\" points=\"806,-27.5 806,-63.5 \"/>\n<text text-anchor=\"middle\" x=\"847\" y=\"-41.8\" font-family=\"Times,serif\" font-size=\"14.00\">grad 0.5000</text>\n</g>\n<!-- 139479134153952+ -->\n<g id=\"node7\" class=\"node\">\n<title>139479134153952+</title>\n<ellipse fill=\"none\" stroke=\"black\" cx=\"988\" cy=\"-72.5\" rx=\"27\" ry=\"18\"/>\n<text text-anchor=\"middle\" x=\"988\" y=\"-68.8\" font-family=\"Times,serif\" font-size=\"14.00\">+</text>\n</g>\n<!-- 139479132797584&#45;&gt;139479134153952+ -->\n<g id=\"edge8\" class=\"edge\">\n<title>139479132797584&#45;&gt;139479134153952+</title>\n<path fill=\"none\" stroke=\"black\" d=\"M888.12,-58.49C910.59,-61.67 933.33,-64.89 951.33,-67.44\"/>\n<polygon fill=\"black\" stroke=\"black\" points=\"950.95,-70.93 961.34,-68.86 951.93,-63.99 950.95,-70.93\"/>\n</g>\n<!-- 139479132792976 -->\n<g id=\"node3\" class=\"node\">\n<title>139479132792976</title>\n<polygon fill=\"none\" stroke=\"black\" points=\"326,-110.5 326,-146.5 540,-146.5 540,-110.5 326,-110.5\"/>\n<text text-anchor=\"middle\" x=\"349.5\" y=\"-124.8\" font-family=\"Times,serif\" font-size=\"14.00\">x1w1</text>\n<polyline fill=\"none\" stroke=\"black\" points=\"373,-110.5 373,-146.5 \"/>\n<text text-anchor=\"middle\" x=\"415.5\" y=\"-124.8\" font-family=\"Times,serif\" font-size=\"14.00\">data &#45;6.0000</text>\n<polyline fill=\"none\" stroke=\"black\" points=\"458,-110.5 458,-146.5 \"/>\n<text text-anchor=\"middle\" x=\"499\" y=\"-124.8\" font-family=\"Times,serif\" font-size=\"14.00\">grad 0.5000</text>\n</g>\n<!-- 139479134152128+ -->\n<g id=\"node13\" class=\"node\">\n<title>139479134152128+</title>\n<ellipse fill=\"none\" stroke=\"black\" cx=\"603\" cy=\"-100.5\" rx=\"27\" ry=\"18\"/>\n<text text-anchor=\"middle\" x=\"603\" y=\"-96.8\" font-family=\"Times,serif\" font-size=\"14.00\">+</text>\n</g>\n<!-- 139479132792976&#45;&gt;139479134152128+ -->\n<g id=\"edge6\" class=\"edge\">\n<title>139479132792976&#45;&gt;139479134152128+</title>\n<path fill=\"none\" stroke=\"black\" d=\"M540.4,-110.77C549.72,-109.21 558.65,-107.72 566.68,-106.39\"/>\n<polygon fill=\"black\" stroke=\"black\" points=\"567.38,-109.82 576.66,-104.72 566.22,-102.91 567.38,-109.82\"/>\n</g>\n<!-- 139479132792976*&#45;&gt;139479132792976 -->\n<g id=\"edge1\" class=\"edge\">\n<title>139479132792976*&#45;&gt;139479132792976</title>\n<path fill=\"none\" stroke=\"black\" d=\"M290.25,-128.5C297.7,-128.5 306.34,-128.5 315.59,-128.5\"/>\n<polygon fill=\"black\" stroke=\"black\" points=\"315.84,-132 325.84,-128.5 315.84,-125 315.84,-132\"/>\n</g>\n<!-- 139479132798400 -->\n<g id=\"node5\" class=\"node\">\n<title>139479132798400</title>\n<polygon fill=\"none\" stroke=\"black\" points=\"2.5,-55.5 2.5,-91.5 197.5,-91.5 197.5,-55.5 2.5,-55.5\"/>\n<text text-anchor=\"middle\" x=\"19\" y=\"-69.8\" font-family=\"Times,serif\" font-size=\"14.00\">w2</text>\n<polyline fill=\"none\" stroke=\"black\" points=\"35.5,-55.5 35.5,-91.5 \"/>\n<text text-anchor=\"middle\" x=\"75.5\" y=\"-69.8\" font-family=\"Times,serif\" font-size=\"14.00\">data 1.0000</text>\n<polyline fill=\"none\" stroke=\"black\" points=\"115.5,-55.5 115.5,-91.5 \"/>\n<text text-anchor=\"middle\" x=\"156.5\" y=\"-69.8\" font-family=\"Times,serif\" font-size=\"14.00\">grad 0.0000</text>\n</g>\n<!-- 139479134149584* -->\n<g id=\"node15\" class=\"node\">\n<title>139479134149584*</title>\n<ellipse fill=\"none\" stroke=\"black\" cx=\"263\" cy=\"-73.5\" rx=\"27\" ry=\"18\"/>\n<text text-anchor=\"middle\" x=\"263\" y=\"-69.8\" font-family=\"Times,serif\" font-size=\"14.00\">*</text>\n</g>\n<!-- 139479132798400&#45;&gt;139479134149584* -->\n<g id=\"edge9\" class=\"edge\">\n<title>139479132798400&#45;&gt;139479134149584*</title>\n<path fill=\"none\" stroke=\"black\" d=\"M197.91,-73.5C207.65,-73.5 217.05,-73.5 225.52,-73.5\"/>\n<polygon fill=\"black\" stroke=\"black\" points=\"225.7,-77 235.7,-73.5 225.7,-70 225.7,-77\"/>\n</g>\n<!-- 139479134153952 -->\n<g id=\"node6\" class=\"node\">\n<title>139479134153952</title>\n<polygon fill=\"none\" stroke=\"black\" points=\"1051,-54.5 1051,-90.5 1236,-90.5 1236,-54.5 1051,-54.5\"/>\n<text text-anchor=\"middle\" x=\"1062.5\" y=\"-68.8\" font-family=\"Times,serif\" font-size=\"14.00\">n</text>\n<polyline fill=\"none\" stroke=\"black\" points=\"1074,-54.5 1074,-90.5 \"/>\n<text text-anchor=\"middle\" x=\"1114\" y=\"-68.8\" font-family=\"Times,serif\" font-size=\"14.00\">data 0.8814</text>\n<polyline fill=\"none\" stroke=\"black\" points=\"1154,-54.5 1154,-90.5 \"/>\n<text text-anchor=\"middle\" x=\"1195\" y=\"-68.8\" font-family=\"Times,serif\" font-size=\"14.00\">grad 0.5000</text>\n</g>\n<!-- 139479134155008tanh -->\n<g id=\"node9\" class=\"node\">\n<title>139479134155008tanh</title>\n<ellipse fill=\"none\" stroke=\"black\" cx=\"1299\" cy=\"-72.5\" rx=\"27\" ry=\"18\"/>\n<text text-anchor=\"middle\" x=\"1299\" y=\"-68.8\" font-family=\"Times,serif\" font-size=\"14.00\">tanh</text>\n</g>\n<!-- 139479134153952&#45;&gt;139479134155008tanh -->\n<g id=\"edge10\" class=\"edge\">\n<title>139479134153952&#45;&gt;139479134155008tanh</title>\n<path fill=\"none\" stroke=\"black\" d=\"M1236.01,-72.5C1245.01,-72.5 1253.74,-72.5 1261.66,-72.5\"/>\n<polygon fill=\"black\" stroke=\"black\" points=\"1261.91,-76 1271.91,-72.5 1261.91,-69 1261.91,-76\"/>\n</g>\n<!-- 139479134153952+&#45;&gt;139479134153952 -->\n<g id=\"edge2\" class=\"edge\">\n<title>139479134153952+&#45;&gt;139479134153952</title>\n<path fill=\"none\" stroke=\"black\" d=\"M1015.04,-72.5C1022.58,-72.5 1031.3,-72.5 1040.57,-72.5\"/>\n<polygon fill=\"black\" stroke=\"black\" points=\"1040.81,-76 1050.81,-72.5 1040.81,-69 1040.81,-76\"/>\n</g>\n<!-- 139479134155008 -->\n<g id=\"node8\" class=\"node\">\n<title>139479134155008</title>\n<polygon fill=\"none\" stroke=\"black\" points=\"1362,-54.5 1362,-90.5 1547,-90.5 1547,-54.5 1362,-54.5\"/>\n<text text-anchor=\"middle\" x=\"1373.5\" y=\"-68.8\" font-family=\"Times,serif\" font-size=\"14.00\">o</text>\n<polyline fill=\"none\" stroke=\"black\" points=\"1385,-54.5 1385,-90.5 \"/>\n<text text-anchor=\"middle\" x=\"1425\" y=\"-68.8\" font-family=\"Times,serif\" font-size=\"14.00\">data 0.7071</text>\n<polyline fill=\"none\" stroke=\"black\" points=\"1465,-54.5 1465,-90.5 \"/>\n<text text-anchor=\"middle\" x=\"1506\" y=\"-68.8\" font-family=\"Times,serif\" font-size=\"14.00\">grad 1.0000</text>\n</g>\n<!-- 139479134155008tanh&#45;&gt;139479134155008 -->\n<g id=\"edge3\" class=\"edge\">\n<title>139479134155008tanh&#45;&gt;139479134155008</title>\n<path fill=\"none\" stroke=\"black\" d=\"M1326.04,-72.5C1333.58,-72.5 1342.3,-72.5 1351.57,-72.5\"/>\n<polygon fill=\"black\" stroke=\"black\" points=\"1351.81,-76 1361.81,-72.5 1351.81,-69 1351.81,-76\"/>\n</g>\n<!-- 139479132793216 -->\n<g id=\"node10\" class=\"node\">\n<title>139479132793216</title>\n<polygon fill=\"none\" stroke=\"black\" points=\"4,-0.5 4,-36.5 196,-36.5 196,-0.5 4,-0.5\"/>\n<text text-anchor=\"middle\" x=\"19\" y=\"-14.8\" font-family=\"Times,serif\" font-size=\"14.00\">x2</text>\n<polyline fill=\"none\" stroke=\"black\" points=\"34,-0.5 34,-36.5 \"/>\n<text text-anchor=\"middle\" x=\"74\" y=\"-14.8\" font-family=\"Times,serif\" font-size=\"14.00\">data 0.0000</text>\n<polyline fill=\"none\" stroke=\"black\" points=\"114,-0.5 114,-36.5 \"/>\n<text text-anchor=\"middle\" x=\"155\" y=\"-14.8\" font-family=\"Times,serif\" font-size=\"14.00\">grad 0.0000</text>\n</g>\n<!-- 139479132793216&#45;&gt;139479134149584* -->\n<g id=\"edge14\" class=\"edge\">\n<title>139479132793216&#45;&gt;139479134149584*</title>\n<path fill=\"none\" stroke=\"black\" d=\"M169.28,-36.5C179.65,-39.61 190.16,-42.98 200,-46.5 210.28,-50.17 221.28,-54.74 231.11,-59.07\"/>\n<polygon fill=\"black\" stroke=\"black\" points=\"229.93,-62.37 240.48,-63.27 232.79,-55.99 229.93,-62.37\"/>\n</g>\n<!-- 139479132797872 -->\n<g id=\"node11\" class=\"node\">\n<title>139479132797872</title>\n<polygon fill=\"none\" stroke=\"black\" points=\"0,-110.5 0,-146.5 200,-146.5 200,-110.5 0,-110.5\"/>\n<text text-anchor=\"middle\" x=\"16.5\" y=\"-124.8\" font-family=\"Times,serif\" font-size=\"14.00\">w1</text>\n<polyline fill=\"none\" stroke=\"black\" points=\"33,-110.5 33,-146.5 \"/>\n<text text-anchor=\"middle\" x=\"75.5\" y=\"-124.8\" font-family=\"Times,serif\" font-size=\"14.00\">data &#45;3.0000</text>\n<polyline fill=\"none\" stroke=\"black\" points=\"118,-110.5 118,-146.5 \"/>\n<text text-anchor=\"middle\" x=\"159\" y=\"-124.8\" font-family=\"Times,serif\" font-size=\"14.00\">grad 1.0000</text>\n</g>\n<!-- 139479132797872&#45;&gt;139479132792976* -->\n<g id=\"edge11\" class=\"edge\">\n<title>139479132797872&#45;&gt;139479132792976*</title>\n<path fill=\"none\" stroke=\"black\" d=\"M200.21,-128.5C209.2,-128.5 217.86,-128.5 225.7,-128.5\"/>\n<polygon fill=\"black\" stroke=\"black\" points=\"225.85,-132 235.85,-128.5 225.85,-125 225.85,-132\"/>\n</g>\n<!-- 139479134152128 -->\n<g id=\"node12\" class=\"node\">\n<title>139479134152128</title>\n<polygon fill=\"none\" stroke=\"black\" points=\"666,-82.5 666,-118.5 925,-118.5 925,-82.5 666,-82.5\"/>\n<text text-anchor=\"middle\" x=\"712\" y=\"-96.8\" font-family=\"Times,serif\" font-size=\"14.00\">x1w1 + x2w2</text>\n<polyline fill=\"none\" stroke=\"black\" points=\"758,-82.5 758,-118.5 \"/>\n<text text-anchor=\"middle\" x=\"800.5\" y=\"-96.8\" font-family=\"Times,serif\" font-size=\"14.00\">data &#45;6.0000</text>\n<polyline fill=\"none\" stroke=\"black\" points=\"843,-82.5 843,-118.5 \"/>\n<text text-anchor=\"middle\" x=\"884\" y=\"-96.8\" font-family=\"Times,serif\" font-size=\"14.00\">grad 0.5000</text>\n</g>\n<!-- 139479134152128&#45;&gt;139479134153952+ -->\n<g id=\"edge7\" class=\"edge\">\n<title>139479134152128&#45;&gt;139479134153952+</title>\n<path fill=\"none\" stroke=\"black\" d=\"M919.03,-82.49C930.7,-80.77 941.77,-79.15 951.46,-77.72\"/>\n<polygon fill=\"black\" stroke=\"black\" points=\"952.01,-81.18 961.4,-76.26 951,-74.25 952.01,-81.18\"/>\n</g>\n<!-- 139479134152128+&#45;&gt;139479134152128 -->\n<g id=\"edge4\" class=\"edge\">\n<title>139479134152128+&#45;&gt;139479134152128</title>\n<path fill=\"none\" stroke=\"black\" d=\"M630.09,-100.5C637.58,-100.5 646.3,-100.5 655.75,-100.5\"/>\n<polygon fill=\"black\" stroke=\"black\" points=\"655.84,-104 665.84,-100.5 655.84,-97 655.84,-104\"/>\n</g>\n<!-- 139479134149584 -->\n<g id=\"node14\" class=\"node\">\n<title>139479134149584</title>\n<polygon fill=\"none\" stroke=\"black\" points=\"328.5,-55.5 328.5,-91.5 537.5,-91.5 537.5,-55.5 328.5,-55.5\"/>\n<text text-anchor=\"middle\" x=\"352\" y=\"-69.8\" font-family=\"Times,serif\" font-size=\"14.00\">x2w2</text>\n<polyline fill=\"none\" stroke=\"black\" points=\"375.5,-55.5 375.5,-91.5 \"/>\n<text text-anchor=\"middle\" x=\"415.5\" y=\"-69.8\" font-family=\"Times,serif\" font-size=\"14.00\">data 0.0000</text>\n<polyline fill=\"none\" stroke=\"black\" points=\"455.5,-55.5 455.5,-91.5 \"/>\n<text text-anchor=\"middle\" x=\"496.5\" y=\"-69.8\" font-family=\"Times,serif\" font-size=\"14.00\">grad 0.5000</text>\n</g>\n<!-- 139479134149584&#45;&gt;139479134152128+ -->\n<g id=\"edge12\" class=\"edge\">\n<title>139479134149584&#45;&gt;139479134152128+</title>\n<path fill=\"none\" stroke=\"black\" d=\"M537.53,-90.14C547.8,-91.79 557.66,-93.37 566.45,-94.79\"/>\n<polygon fill=\"black\" stroke=\"black\" points=\"566.16,-98.28 576.59,-96.42 567.27,-91.37 566.16,-98.28\"/>\n</g>\n<!-- 139479134149584*&#45;&gt;139479134149584 -->\n<g id=\"edge5\" class=\"edge\">\n<title>139479134149584*&#45;&gt;139479134149584</title>\n<path fill=\"none\" stroke=\"black\" d=\"M290.25,-73.5C298.43,-73.5 308.03,-73.5 318.31,-73.5\"/>\n<polygon fill=\"black\" stroke=\"black\" points=\"318.35,-77 328.35,-73.5 318.35,-70 318.35,-77\"/>\n</g>\n</g>\n</svg>\n",
            "text/plain": [
              "<graphviz.graphs.Digraph at 0x7edb04259540>"
            ]
          },
          "metadata": {},
          "execution_count": 55
        }
      ]
    },
    {
      "cell_type": "code",
      "source": [
        "\n",
        "w2.grad = x2.data * x2w2.grad\n",
        "x2.grad = w2.data * x2w2.grad\n",
        "\n",
        "#visualize\n",
        "draw_dot(o)"
      ],
      "metadata": {
        "colab": {
          "base_uri": "https://localhost:8080/",
          "height": 321
        },
        "id": "enUIrkNcRkgB",
        "outputId": "50c16b85-6218-410a-bd65-c419534777d5"
      },
      "execution_count": 56,
      "outputs": [
        {
          "output_type": "execute_result",
          "data": {
            "image/svg+xml": "<?xml version=\"1.0\" encoding=\"UTF-8\" standalone=\"no\"?>\n<!DOCTYPE svg PUBLIC \"-//W3C//DTD SVG 1.1//EN\"\n \"http://www.w3.org/Graphics/SVG/1.1/DTD/svg11.dtd\">\n<!-- Generated by graphviz version 2.43.0 (0)\n -->\n<!-- Title: %3 Pages: 1 -->\n<svg width=\"1555pt\" height=\"210pt\"\n viewBox=\"0.00 0.00 1555.00 210.00\" xmlns=\"http://www.w3.org/2000/svg\" xmlns:xlink=\"http://www.w3.org/1999/xlink\">\n<g id=\"graph0\" class=\"graph\" transform=\"scale(1 1) rotate(0) translate(4 206)\">\n<title>%3</title>\n<polygon fill=\"white\" stroke=\"transparent\" points=\"-4,4 -4,-206 1551,-206 1551,4 -4,4\"/>\n<!-- 139479132798592 -->\n<g id=\"node1\" class=\"node\">\n<title>139479132798592</title>\n<polygon fill=\"none\" stroke=\"black\" points=\"2,-165.5 2,-201.5 198,-201.5 198,-165.5 2,-165.5\"/>\n<text text-anchor=\"middle\" x=\"17\" y=\"-179.8\" font-family=\"Times,serif\" font-size=\"14.00\">x1</text>\n<polyline fill=\"none\" stroke=\"black\" points=\"32,-165.5 32,-201.5 \"/>\n<text text-anchor=\"middle\" x=\"72\" y=\"-179.8\" font-family=\"Times,serif\" font-size=\"14.00\">data 2.0000</text>\n<polyline fill=\"none\" stroke=\"black\" points=\"112,-165.5 112,-201.5 \"/>\n<text text-anchor=\"middle\" x=\"155\" y=\"-179.8\" font-family=\"Times,serif\" font-size=\"14.00\">grad &#45;1.5000</text>\n</g>\n<!-- 139479132792976* -->\n<g id=\"node4\" class=\"node\">\n<title>139479132792976*</title>\n<ellipse fill=\"none\" stroke=\"black\" cx=\"263\" cy=\"-128.5\" rx=\"27\" ry=\"18\"/>\n<text text-anchor=\"middle\" x=\"263\" y=\"-124.8\" font-family=\"Times,serif\" font-size=\"14.00\">*</text>\n</g>\n<!-- 139479132798592&#45;&gt;139479132792976* -->\n<g id=\"edge13\" class=\"edge\">\n<title>139479132798592&#45;&gt;139479132792976*</title>\n<path fill=\"none\" stroke=\"black\" d=\"M172.53,-165.44C181.84,-162.67 191.2,-159.67 200,-156.5 210.53,-152.71 221.75,-147.9 231.72,-143.33\"/>\n<polygon fill=\"black\" stroke=\"black\" points=\"233.25,-146.48 240.82,-139.07 230.28,-140.14 233.25,-146.48\"/>\n</g>\n<!-- 139479132797584 -->\n<g id=\"node2\" class=\"node\">\n<title>139479132797584</title>\n<polygon fill=\"none\" stroke=\"black\" points=\"703,-27.5 703,-63.5 888,-63.5 888,-27.5 703,-27.5\"/>\n<text text-anchor=\"middle\" x=\"714.5\" y=\"-41.8\" font-family=\"Times,serif\" font-size=\"14.00\">b</text>\n<polyline fill=\"none\" stroke=\"black\" points=\"726,-27.5 726,-63.5 \"/>\n<text text-anchor=\"middle\" x=\"766\" y=\"-41.8\" font-family=\"Times,serif\" font-size=\"14.00\">data 6.8814</text>\n<polyline fill=\"none\" stroke=\"black\" points=\"806,-27.5 806,-63.5 \"/>\n<text text-anchor=\"middle\" x=\"847\" y=\"-41.8\" font-family=\"Times,serif\" font-size=\"14.00\">grad 0.5000</text>\n</g>\n<!-- 139479134153952+ -->\n<g id=\"node7\" class=\"node\">\n<title>139479134153952+</title>\n<ellipse fill=\"none\" stroke=\"black\" cx=\"988\" cy=\"-72.5\" rx=\"27\" ry=\"18\"/>\n<text text-anchor=\"middle\" x=\"988\" y=\"-68.8\" font-family=\"Times,serif\" font-size=\"14.00\">+</text>\n</g>\n<!-- 139479132797584&#45;&gt;139479134153952+ -->\n<g id=\"edge8\" class=\"edge\">\n<title>139479132797584&#45;&gt;139479134153952+</title>\n<path fill=\"none\" stroke=\"black\" d=\"M888.12,-58.49C910.59,-61.67 933.33,-64.89 951.33,-67.44\"/>\n<polygon fill=\"black\" stroke=\"black\" points=\"950.95,-70.93 961.34,-68.86 951.93,-63.99 950.95,-70.93\"/>\n</g>\n<!-- 139479132792976 -->\n<g id=\"node3\" class=\"node\">\n<title>139479132792976</title>\n<polygon fill=\"none\" stroke=\"black\" points=\"326,-110.5 326,-146.5 540,-146.5 540,-110.5 326,-110.5\"/>\n<text text-anchor=\"middle\" x=\"349.5\" y=\"-124.8\" font-family=\"Times,serif\" font-size=\"14.00\">x1w1</text>\n<polyline fill=\"none\" stroke=\"black\" points=\"373,-110.5 373,-146.5 \"/>\n<text text-anchor=\"middle\" x=\"415.5\" y=\"-124.8\" font-family=\"Times,serif\" font-size=\"14.00\">data &#45;6.0000</text>\n<polyline fill=\"none\" stroke=\"black\" points=\"458,-110.5 458,-146.5 \"/>\n<text text-anchor=\"middle\" x=\"499\" y=\"-124.8\" font-family=\"Times,serif\" font-size=\"14.00\">grad 0.5000</text>\n</g>\n<!-- 139479134152128+ -->\n<g id=\"node13\" class=\"node\">\n<title>139479134152128+</title>\n<ellipse fill=\"none\" stroke=\"black\" cx=\"603\" cy=\"-100.5\" rx=\"27\" ry=\"18\"/>\n<text text-anchor=\"middle\" x=\"603\" y=\"-96.8\" font-family=\"Times,serif\" font-size=\"14.00\">+</text>\n</g>\n<!-- 139479132792976&#45;&gt;139479134152128+ -->\n<g id=\"edge6\" class=\"edge\">\n<title>139479132792976&#45;&gt;139479134152128+</title>\n<path fill=\"none\" stroke=\"black\" d=\"M540.4,-110.77C549.72,-109.21 558.65,-107.72 566.68,-106.39\"/>\n<polygon fill=\"black\" stroke=\"black\" points=\"567.38,-109.82 576.66,-104.72 566.22,-102.91 567.38,-109.82\"/>\n</g>\n<!-- 139479132792976*&#45;&gt;139479132792976 -->\n<g id=\"edge1\" class=\"edge\">\n<title>139479132792976*&#45;&gt;139479132792976</title>\n<path fill=\"none\" stroke=\"black\" d=\"M290.25,-128.5C297.7,-128.5 306.34,-128.5 315.59,-128.5\"/>\n<polygon fill=\"black\" stroke=\"black\" points=\"315.84,-132 325.84,-128.5 315.84,-125 315.84,-132\"/>\n</g>\n<!-- 139479132798400 -->\n<g id=\"node5\" class=\"node\">\n<title>139479132798400</title>\n<polygon fill=\"none\" stroke=\"black\" points=\"2.5,-55.5 2.5,-91.5 197.5,-91.5 197.5,-55.5 2.5,-55.5\"/>\n<text text-anchor=\"middle\" x=\"19\" y=\"-69.8\" font-family=\"Times,serif\" font-size=\"14.00\">w2</text>\n<polyline fill=\"none\" stroke=\"black\" points=\"35.5,-55.5 35.5,-91.5 \"/>\n<text text-anchor=\"middle\" x=\"75.5\" y=\"-69.8\" font-family=\"Times,serif\" font-size=\"14.00\">data 1.0000</text>\n<polyline fill=\"none\" stroke=\"black\" points=\"115.5,-55.5 115.5,-91.5 \"/>\n<text text-anchor=\"middle\" x=\"156.5\" y=\"-69.8\" font-family=\"Times,serif\" font-size=\"14.00\">grad 0.0000</text>\n</g>\n<!-- 139479134149584* -->\n<g id=\"node15\" class=\"node\">\n<title>139479134149584*</title>\n<ellipse fill=\"none\" stroke=\"black\" cx=\"263\" cy=\"-73.5\" rx=\"27\" ry=\"18\"/>\n<text text-anchor=\"middle\" x=\"263\" y=\"-69.8\" font-family=\"Times,serif\" font-size=\"14.00\">*</text>\n</g>\n<!-- 139479132798400&#45;&gt;139479134149584* -->\n<g id=\"edge9\" class=\"edge\">\n<title>139479132798400&#45;&gt;139479134149584*</title>\n<path fill=\"none\" stroke=\"black\" d=\"M197.91,-73.5C207.65,-73.5 217.05,-73.5 225.52,-73.5\"/>\n<polygon fill=\"black\" stroke=\"black\" points=\"225.7,-77 235.7,-73.5 225.7,-70 225.7,-77\"/>\n</g>\n<!-- 139479134153952 -->\n<g id=\"node6\" class=\"node\">\n<title>139479134153952</title>\n<polygon fill=\"none\" stroke=\"black\" points=\"1051,-54.5 1051,-90.5 1236,-90.5 1236,-54.5 1051,-54.5\"/>\n<text text-anchor=\"middle\" x=\"1062.5\" y=\"-68.8\" font-family=\"Times,serif\" font-size=\"14.00\">n</text>\n<polyline fill=\"none\" stroke=\"black\" points=\"1074,-54.5 1074,-90.5 \"/>\n<text text-anchor=\"middle\" x=\"1114\" y=\"-68.8\" font-family=\"Times,serif\" font-size=\"14.00\">data 0.8814</text>\n<polyline fill=\"none\" stroke=\"black\" points=\"1154,-54.5 1154,-90.5 \"/>\n<text text-anchor=\"middle\" x=\"1195\" y=\"-68.8\" font-family=\"Times,serif\" font-size=\"14.00\">grad 0.5000</text>\n</g>\n<!-- 139479134155008tanh -->\n<g id=\"node9\" class=\"node\">\n<title>139479134155008tanh</title>\n<ellipse fill=\"none\" stroke=\"black\" cx=\"1299\" cy=\"-72.5\" rx=\"27\" ry=\"18\"/>\n<text text-anchor=\"middle\" x=\"1299\" y=\"-68.8\" font-family=\"Times,serif\" font-size=\"14.00\">tanh</text>\n</g>\n<!-- 139479134153952&#45;&gt;139479134155008tanh -->\n<g id=\"edge10\" class=\"edge\">\n<title>139479134153952&#45;&gt;139479134155008tanh</title>\n<path fill=\"none\" stroke=\"black\" d=\"M1236.01,-72.5C1245.01,-72.5 1253.74,-72.5 1261.66,-72.5\"/>\n<polygon fill=\"black\" stroke=\"black\" points=\"1261.91,-76 1271.91,-72.5 1261.91,-69 1261.91,-76\"/>\n</g>\n<!-- 139479134153952+&#45;&gt;139479134153952 -->\n<g id=\"edge2\" class=\"edge\">\n<title>139479134153952+&#45;&gt;139479134153952</title>\n<path fill=\"none\" stroke=\"black\" d=\"M1015.04,-72.5C1022.58,-72.5 1031.3,-72.5 1040.57,-72.5\"/>\n<polygon fill=\"black\" stroke=\"black\" points=\"1040.81,-76 1050.81,-72.5 1040.81,-69 1040.81,-76\"/>\n</g>\n<!-- 139479134155008 -->\n<g id=\"node8\" class=\"node\">\n<title>139479134155008</title>\n<polygon fill=\"none\" stroke=\"black\" points=\"1362,-54.5 1362,-90.5 1547,-90.5 1547,-54.5 1362,-54.5\"/>\n<text text-anchor=\"middle\" x=\"1373.5\" y=\"-68.8\" font-family=\"Times,serif\" font-size=\"14.00\">o</text>\n<polyline fill=\"none\" stroke=\"black\" points=\"1385,-54.5 1385,-90.5 \"/>\n<text text-anchor=\"middle\" x=\"1425\" y=\"-68.8\" font-family=\"Times,serif\" font-size=\"14.00\">data 0.7071</text>\n<polyline fill=\"none\" stroke=\"black\" points=\"1465,-54.5 1465,-90.5 \"/>\n<text text-anchor=\"middle\" x=\"1506\" y=\"-68.8\" font-family=\"Times,serif\" font-size=\"14.00\">grad 1.0000</text>\n</g>\n<!-- 139479134155008tanh&#45;&gt;139479134155008 -->\n<g id=\"edge3\" class=\"edge\">\n<title>139479134155008tanh&#45;&gt;139479134155008</title>\n<path fill=\"none\" stroke=\"black\" d=\"M1326.04,-72.5C1333.58,-72.5 1342.3,-72.5 1351.57,-72.5\"/>\n<polygon fill=\"black\" stroke=\"black\" points=\"1351.81,-76 1361.81,-72.5 1351.81,-69 1351.81,-76\"/>\n</g>\n<!-- 139479132793216 -->\n<g id=\"node10\" class=\"node\">\n<title>139479132793216</title>\n<polygon fill=\"none\" stroke=\"black\" points=\"4,-0.5 4,-36.5 196,-36.5 196,-0.5 4,-0.5\"/>\n<text text-anchor=\"middle\" x=\"19\" y=\"-14.8\" font-family=\"Times,serif\" font-size=\"14.00\">x2</text>\n<polyline fill=\"none\" stroke=\"black\" points=\"34,-0.5 34,-36.5 \"/>\n<text text-anchor=\"middle\" x=\"74\" y=\"-14.8\" font-family=\"Times,serif\" font-size=\"14.00\">data 0.0000</text>\n<polyline fill=\"none\" stroke=\"black\" points=\"114,-0.5 114,-36.5 \"/>\n<text text-anchor=\"middle\" x=\"155\" y=\"-14.8\" font-family=\"Times,serif\" font-size=\"14.00\">grad 0.5000</text>\n</g>\n<!-- 139479132793216&#45;&gt;139479134149584* -->\n<g id=\"edge14\" class=\"edge\">\n<title>139479132793216&#45;&gt;139479134149584*</title>\n<path fill=\"none\" stroke=\"black\" d=\"M169.28,-36.5C179.65,-39.61 190.16,-42.98 200,-46.5 210.28,-50.17 221.28,-54.74 231.11,-59.07\"/>\n<polygon fill=\"black\" stroke=\"black\" points=\"229.93,-62.37 240.48,-63.27 232.79,-55.99 229.93,-62.37\"/>\n</g>\n<!-- 139479132797872 -->\n<g id=\"node11\" class=\"node\">\n<title>139479132797872</title>\n<polygon fill=\"none\" stroke=\"black\" points=\"0,-110.5 0,-146.5 200,-146.5 200,-110.5 0,-110.5\"/>\n<text text-anchor=\"middle\" x=\"16.5\" y=\"-124.8\" font-family=\"Times,serif\" font-size=\"14.00\">w1</text>\n<polyline fill=\"none\" stroke=\"black\" points=\"33,-110.5 33,-146.5 \"/>\n<text text-anchor=\"middle\" x=\"75.5\" y=\"-124.8\" font-family=\"Times,serif\" font-size=\"14.00\">data &#45;3.0000</text>\n<polyline fill=\"none\" stroke=\"black\" points=\"118,-110.5 118,-146.5 \"/>\n<text text-anchor=\"middle\" x=\"159\" y=\"-124.8\" font-family=\"Times,serif\" font-size=\"14.00\">grad 1.0000</text>\n</g>\n<!-- 139479132797872&#45;&gt;139479132792976* -->\n<g id=\"edge11\" class=\"edge\">\n<title>139479132797872&#45;&gt;139479132792976*</title>\n<path fill=\"none\" stroke=\"black\" d=\"M200.21,-128.5C209.2,-128.5 217.86,-128.5 225.7,-128.5\"/>\n<polygon fill=\"black\" stroke=\"black\" points=\"225.85,-132 235.85,-128.5 225.85,-125 225.85,-132\"/>\n</g>\n<!-- 139479134152128 -->\n<g id=\"node12\" class=\"node\">\n<title>139479134152128</title>\n<polygon fill=\"none\" stroke=\"black\" points=\"666,-82.5 666,-118.5 925,-118.5 925,-82.5 666,-82.5\"/>\n<text text-anchor=\"middle\" x=\"712\" y=\"-96.8\" font-family=\"Times,serif\" font-size=\"14.00\">x1w1 + x2w2</text>\n<polyline fill=\"none\" stroke=\"black\" points=\"758,-82.5 758,-118.5 \"/>\n<text text-anchor=\"middle\" x=\"800.5\" y=\"-96.8\" font-family=\"Times,serif\" font-size=\"14.00\">data &#45;6.0000</text>\n<polyline fill=\"none\" stroke=\"black\" points=\"843,-82.5 843,-118.5 \"/>\n<text text-anchor=\"middle\" x=\"884\" y=\"-96.8\" font-family=\"Times,serif\" font-size=\"14.00\">grad 0.5000</text>\n</g>\n<!-- 139479134152128&#45;&gt;139479134153952+ -->\n<g id=\"edge7\" class=\"edge\">\n<title>139479134152128&#45;&gt;139479134153952+</title>\n<path fill=\"none\" stroke=\"black\" d=\"M919.03,-82.49C930.7,-80.77 941.77,-79.15 951.46,-77.72\"/>\n<polygon fill=\"black\" stroke=\"black\" points=\"952.01,-81.18 961.4,-76.26 951,-74.25 952.01,-81.18\"/>\n</g>\n<!-- 139479134152128+&#45;&gt;139479134152128 -->\n<g id=\"edge4\" class=\"edge\">\n<title>139479134152128+&#45;&gt;139479134152128</title>\n<path fill=\"none\" stroke=\"black\" d=\"M630.09,-100.5C637.58,-100.5 646.3,-100.5 655.75,-100.5\"/>\n<polygon fill=\"black\" stroke=\"black\" points=\"655.84,-104 665.84,-100.5 655.84,-97 655.84,-104\"/>\n</g>\n<!-- 139479134149584 -->\n<g id=\"node14\" class=\"node\">\n<title>139479134149584</title>\n<polygon fill=\"none\" stroke=\"black\" points=\"328.5,-55.5 328.5,-91.5 537.5,-91.5 537.5,-55.5 328.5,-55.5\"/>\n<text text-anchor=\"middle\" x=\"352\" y=\"-69.8\" font-family=\"Times,serif\" font-size=\"14.00\">x2w2</text>\n<polyline fill=\"none\" stroke=\"black\" points=\"375.5,-55.5 375.5,-91.5 \"/>\n<text text-anchor=\"middle\" x=\"415.5\" y=\"-69.8\" font-family=\"Times,serif\" font-size=\"14.00\">data 0.0000</text>\n<polyline fill=\"none\" stroke=\"black\" points=\"455.5,-55.5 455.5,-91.5 \"/>\n<text text-anchor=\"middle\" x=\"496.5\" y=\"-69.8\" font-family=\"Times,serif\" font-size=\"14.00\">grad 0.5000</text>\n</g>\n<!-- 139479134149584&#45;&gt;139479134152128+ -->\n<g id=\"edge12\" class=\"edge\">\n<title>139479134149584&#45;&gt;139479134152128+</title>\n<path fill=\"none\" stroke=\"black\" d=\"M537.53,-90.14C547.8,-91.79 557.66,-93.37 566.45,-94.79\"/>\n<polygon fill=\"black\" stroke=\"black\" points=\"566.16,-98.28 576.59,-96.42 567.27,-91.37 566.16,-98.28\"/>\n</g>\n<!-- 139479134149584*&#45;&gt;139479134149584 -->\n<g id=\"edge5\" class=\"edge\">\n<title>139479134149584*&#45;&gt;139479134149584</title>\n<path fill=\"none\" stroke=\"black\" d=\"M290.25,-73.5C298.43,-73.5 308.03,-73.5 318.31,-73.5\"/>\n<polygon fill=\"black\" stroke=\"black\" points=\"318.35,-77 328.35,-73.5 318.35,-70 318.35,-77\"/>\n</g>\n</g>\n</svg>\n",
            "text/plain": [
              "<graphviz.graphs.Digraph at 0x7edb0429f940>"
            ]
          },
          "metadata": {},
          "execution_count": 56
        }
      ]
    },
    {
      "cell_type": "markdown",
      "source": [
        "we see that gradient for w2 is 0.0, because the data x2 is 0.0. This is intuitively correct, derivative always tell us the influence of the expression on the output, if i nudge w2 a bit, it will not have any effect on the output because we multiplying by 0.0 (the data x2 is 0.0). Because it is not changing, the derivative is 0.0"
      ],
      "metadata": {
        "id": "C8wYrDxeR0Mo"
      }
    },
    {
      "cell_type": "markdown",
      "source": [
        "So those are our gradients on backpropogation.\n",
        "\n",
        "#### Understanding what factors actually influences the outputs\n",
        "Now if want our output to increase:\n",
        "\n",
        "- w2 has no influence, as the x2.data is 0.0\n",
        "- w1 can influence with its positive derivative of 1, should go up inorder to increase the ouput\n",
        "- likewise all factors/weights with positive gradient when increased influence the output positively"
      ],
      "metadata": {
        "id": "VPYl3UFcSqgf"
      }
    },
    {
      "cell_type": "markdown",
      "source": [
        "### Automating the Backpropogation\n",
        "\n",
        "We will automate the backpropogation, instead of manually computing and updating the gradient which we were doing until now for better understanding the concept\n",
        "\n",
        "We will create _backward() function, which will not do anything for leaf nodes"
      ],
      "metadata": {
        "id": "-RLwTicvTngZ"
      }
    },
    {
      "cell_type": "code",
      "source": [
        "class Value:\n",
        "\n",
        "    def __init__(self, data, _children=(), _op='', label=''):\n",
        "        self.data = data\n",
        "        self.prev = set(_children)\n",
        "        self._op = _op\n",
        "        self.grad = 0.0\n",
        "        self._backward = lambda: None # empty function, so leaf node it will do nothing\n",
        "        self.label=label\n",
        "\n",
        "\n",
        "    def __repr__(self):\n",
        "        return f\"Value(data={self.data})\"\n",
        "\n",
        "    def __add__(self, other):\n",
        "        out = Value(self.data + other.data, (self, other), '+')\n",
        "\n",
        "        # backward function, we want to backpropogate the out.grad to self and other\n",
        "        def _backward():\n",
        "            self.grad = 1.0 * out.grad\n",
        "            other.grad = 1.0 * out.grad\n",
        "        out._backward = _backward\n",
        "\n",
        "        return out\n",
        "\n",
        "    def __mul__(self, other):\n",
        "        out = Value(self.data * other.data, (self, other), '*')\n",
        "\n",
        "        #backward function\n",
        "        def _backward():\n",
        "            self.grad = other.data * out.grad\n",
        "            other.grad = self.data * out.grad\n",
        "        out._backward = _backward\n",
        "\n",
        "        return out\n",
        "\n",
        "    def tanh(self):\n",
        "        x = self.data\n",
        "        t = (math.exp(2*x) - 1) / (math.exp(2*x) + 1)\n",
        "        out = Value(t, (self, ), 'tanh')\n",
        "\n",
        "        def _backward():\n",
        "            self.grad = (1 - t**2) * out.grad\n",
        "        out._backward = _backward\n",
        "\n",
        "        return out"
      ],
      "metadata": {
        "id": "uQFDc_RNTl7f"
      },
      "execution_count": 57,
      "outputs": []
    },
    {
      "cell_type": "markdown",
      "source": [
        "We will redefine our expression and make sure all grads are now 0.0"
      ],
      "metadata": {
        "id": "7viFTGn9YMPk"
      }
    },
    {
      "cell_type": "code",
      "source": [
        "#inputs\n",
        "x1 = Value(2.0, label='x1')\n",
        "x2 = Value(0.0, label='x2')\n",
        "\n",
        "# weights w1, w2\n",
        "w1 = Value(-3.0, label='w1')\n",
        "w2 = Value(1.0, label='w2')\n",
        "\n",
        "# bias of the neuron\n",
        "b = Value(6.8813635870195432, label='b') # intentionally using the value so that backpropogation number are nice\n",
        "\n",
        "#x1w1, x2w2\n",
        "x1w1 = x1 * w1; x1w1.label='x1w1'\n",
        "x2w2 = x2 * w2; x2w2.label='x2w2'\n",
        "x1w1x2w2 = x1w1 + x2w2; x1w1x2w2.label='x1w1 + x2w2'\n",
        "\n",
        "n = x1w1x2w2 + b; n.label='n'\n",
        "\n",
        "#activation\n",
        "o = n.tanh()  # note we won't do a tanh operation here as we haven't implemented that function\n",
        "o.label='o'\n",
        "\n",
        "# visualize\n",
        "draw_dot(o)"
      ],
      "metadata": {
        "colab": {
          "base_uri": "https://localhost:8080/",
          "height": 321
        },
        "id": "IIFgmcXUVgn4",
        "outputId": "25e5f7ad-6a34-4909-e909-66af1c744e0a"
      },
      "execution_count": 58,
      "outputs": [
        {
          "output_type": "execute_result",
          "data": {
            "image/svg+xml": "<?xml version=\"1.0\" encoding=\"UTF-8\" standalone=\"no\"?>\n<!DOCTYPE svg PUBLIC \"-//W3C//DTD SVG 1.1//EN\"\n \"http://www.w3.org/Graphics/SVG/1.1/DTD/svg11.dtd\">\n<!-- Generated by graphviz version 2.43.0 (0)\n -->\n<!-- Title: %3 Pages: 1 -->\n<svg width=\"1555pt\" height=\"210pt\"\n viewBox=\"0.00 0.00 1555.00 210.00\" xmlns=\"http://www.w3.org/2000/svg\" xmlns:xlink=\"http://www.w3.org/1999/xlink\">\n<g id=\"graph0\" class=\"graph\" transform=\"scale(1 1) rotate(0) translate(4 206)\">\n<title>%3</title>\n<polygon fill=\"white\" stroke=\"transparent\" points=\"-4,4 -4,-206 1551,-206 1551,4 -4,4\"/>\n<!-- 139479132884512 -->\n<g id=\"node1\" class=\"node\">\n<title>139479132884512</title>\n<polygon fill=\"none\" stroke=\"black\" points=\"0,-165.5 0,-201.5 200,-201.5 200,-165.5 0,-165.5\"/>\n<text text-anchor=\"middle\" x=\"16.5\" y=\"-179.8\" font-family=\"Times,serif\" font-size=\"14.00\">w1</text>\n<polyline fill=\"none\" stroke=\"black\" points=\"33,-165.5 33,-201.5 \"/>\n<text text-anchor=\"middle\" x=\"75.5\" y=\"-179.8\" font-family=\"Times,serif\" font-size=\"14.00\">data &#45;3.0000</text>\n<polyline fill=\"none\" stroke=\"black\" points=\"118,-165.5 118,-201.5 \"/>\n<text text-anchor=\"middle\" x=\"159\" y=\"-179.8\" font-family=\"Times,serif\" font-size=\"14.00\">grad 0.0000</text>\n</g>\n<!-- 139479132888400* -->\n<g id=\"node13\" class=\"node\">\n<title>139479132888400*</title>\n<ellipse fill=\"none\" stroke=\"black\" cx=\"263\" cy=\"-128.5\" rx=\"27\" ry=\"18\"/>\n<text text-anchor=\"middle\" x=\"263\" y=\"-124.8\" font-family=\"Times,serif\" font-size=\"14.00\">*</text>\n</g>\n<!-- 139479132884512&#45;&gt;139479132888400* -->\n<g id=\"edge8\" class=\"edge\">\n<title>139479132884512&#45;&gt;139479132888400*</title>\n<path fill=\"none\" stroke=\"black\" d=\"M172.53,-165.44C181.84,-162.67 191.2,-159.67 200,-156.5 210.53,-152.71 221.75,-147.9 231.72,-143.33\"/>\n<polygon fill=\"black\" stroke=\"black\" points=\"233.25,-146.48 240.82,-139.07 230.28,-140.14 233.25,-146.48\"/>\n</g>\n<!-- 139479132890656 -->\n<g id=\"node2\" class=\"node\">\n<title>139479132890656</title>\n<polygon fill=\"none\" stroke=\"black\" points=\"666,-82.5 666,-118.5 925,-118.5 925,-82.5 666,-82.5\"/>\n<text text-anchor=\"middle\" x=\"712\" y=\"-96.8\" font-family=\"Times,serif\" font-size=\"14.00\">x1w1 + x2w2</text>\n<polyline fill=\"none\" stroke=\"black\" points=\"758,-82.5 758,-118.5 \"/>\n<text text-anchor=\"middle\" x=\"800.5\" y=\"-96.8\" font-family=\"Times,serif\" font-size=\"14.00\">data &#45;6.0000</text>\n<polyline fill=\"none\" stroke=\"black\" points=\"843,-82.5 843,-118.5 \"/>\n<text text-anchor=\"middle\" x=\"884\" y=\"-96.8\" font-family=\"Times,serif\" font-size=\"14.00\">grad 0.0000</text>\n</g>\n<!-- 139479132884032+ -->\n<g id=\"node5\" class=\"node\">\n<title>139479132884032+</title>\n<ellipse fill=\"none\" stroke=\"black\" cx=\"988\" cy=\"-72.5\" rx=\"27\" ry=\"18\"/>\n<text text-anchor=\"middle\" x=\"988\" y=\"-68.8\" font-family=\"Times,serif\" font-size=\"14.00\">+</text>\n</g>\n<!-- 139479132890656&#45;&gt;139479132884032+ -->\n<g id=\"edge7\" class=\"edge\">\n<title>139479132890656&#45;&gt;139479132884032+</title>\n<path fill=\"none\" stroke=\"black\" d=\"M919.03,-82.49C930.7,-80.77 941.77,-79.15 951.46,-77.72\"/>\n<polygon fill=\"black\" stroke=\"black\" points=\"952.01,-81.18 961.4,-76.26 951,-74.25 952.01,-81.18\"/>\n</g>\n<!-- 139479132890656+ -->\n<g id=\"node3\" class=\"node\">\n<title>139479132890656+</title>\n<ellipse fill=\"none\" stroke=\"black\" cx=\"603\" cy=\"-100.5\" rx=\"27\" ry=\"18\"/>\n<text text-anchor=\"middle\" x=\"603\" y=\"-96.8\" font-family=\"Times,serif\" font-size=\"14.00\">+</text>\n</g>\n<!-- 139479132890656+&#45;&gt;139479132890656 -->\n<g id=\"edge1\" class=\"edge\">\n<title>139479132890656+&#45;&gt;139479132890656</title>\n<path fill=\"none\" stroke=\"black\" d=\"M630.09,-100.5C637.58,-100.5 646.3,-100.5 655.75,-100.5\"/>\n<polygon fill=\"black\" stroke=\"black\" points=\"655.84,-104 665.84,-100.5 655.84,-97 655.84,-104\"/>\n</g>\n<!-- 139479132884032 -->\n<g id=\"node4\" class=\"node\">\n<title>139479132884032</title>\n<polygon fill=\"none\" stroke=\"black\" points=\"1051,-54.5 1051,-90.5 1236,-90.5 1236,-54.5 1051,-54.5\"/>\n<text text-anchor=\"middle\" x=\"1062.5\" y=\"-68.8\" font-family=\"Times,serif\" font-size=\"14.00\">n</text>\n<polyline fill=\"none\" stroke=\"black\" points=\"1074,-54.5 1074,-90.5 \"/>\n<text text-anchor=\"middle\" x=\"1114\" y=\"-68.8\" font-family=\"Times,serif\" font-size=\"14.00\">data 0.8814</text>\n<polyline fill=\"none\" stroke=\"black\" points=\"1154,-54.5 1154,-90.5 \"/>\n<text text-anchor=\"middle\" x=\"1195\" y=\"-68.8\" font-family=\"Times,serif\" font-size=\"14.00\">grad 0.0000</text>\n</g>\n<!-- 139479132892912tanh -->\n<g id=\"node10\" class=\"node\">\n<title>139479132892912tanh</title>\n<ellipse fill=\"none\" stroke=\"black\" cx=\"1299\" cy=\"-72.5\" rx=\"27\" ry=\"18\"/>\n<text text-anchor=\"middle\" x=\"1299\" y=\"-68.8\" font-family=\"Times,serif\" font-size=\"14.00\">tanh</text>\n</g>\n<!-- 139479132884032&#45;&gt;139479132892912tanh -->\n<g id=\"edge13\" class=\"edge\">\n<title>139479132884032&#45;&gt;139479132892912tanh</title>\n<path fill=\"none\" stroke=\"black\" d=\"M1236.01,-72.5C1245.01,-72.5 1253.74,-72.5 1261.66,-72.5\"/>\n<polygon fill=\"black\" stroke=\"black\" points=\"1261.91,-76 1271.91,-72.5 1261.91,-69 1261.91,-76\"/>\n</g>\n<!-- 139479132884032+&#45;&gt;139479132884032 -->\n<g id=\"edge2\" class=\"edge\">\n<title>139479132884032+&#45;&gt;139479132884032</title>\n<path fill=\"none\" stroke=\"black\" d=\"M1015.04,-72.5C1022.58,-72.5 1031.3,-72.5 1040.57,-72.5\"/>\n<polygon fill=\"black\" stroke=\"black\" points=\"1040.81,-76 1050.81,-72.5 1040.81,-69 1040.81,-76\"/>\n</g>\n<!-- 139479132889696 -->\n<g id=\"node6\" class=\"node\">\n<title>139479132889696</title>\n<polygon fill=\"none\" stroke=\"black\" points=\"328.5,-55.5 328.5,-91.5 537.5,-91.5 537.5,-55.5 328.5,-55.5\"/>\n<text text-anchor=\"middle\" x=\"352\" y=\"-69.8\" font-family=\"Times,serif\" font-size=\"14.00\">x2w2</text>\n<polyline fill=\"none\" stroke=\"black\" points=\"375.5,-55.5 375.5,-91.5 \"/>\n<text text-anchor=\"middle\" x=\"415.5\" y=\"-69.8\" font-family=\"Times,serif\" font-size=\"14.00\">data 0.0000</text>\n<polyline fill=\"none\" stroke=\"black\" points=\"455.5,-55.5 455.5,-91.5 \"/>\n<text text-anchor=\"middle\" x=\"496.5\" y=\"-69.8\" font-family=\"Times,serif\" font-size=\"14.00\">grad 0.0000</text>\n</g>\n<!-- 139479132889696&#45;&gt;139479132890656+ -->\n<g id=\"edge14\" class=\"edge\">\n<title>139479132889696&#45;&gt;139479132890656+</title>\n<path fill=\"none\" stroke=\"black\" d=\"M537.53,-90.14C547.8,-91.79 557.66,-93.37 566.45,-94.79\"/>\n<polygon fill=\"black\" stroke=\"black\" points=\"566.16,-98.28 576.59,-96.42 567.27,-91.37 566.16,-98.28\"/>\n</g>\n<!-- 139479132889696* -->\n<g id=\"node7\" class=\"node\">\n<title>139479132889696*</title>\n<ellipse fill=\"none\" stroke=\"black\" cx=\"263\" cy=\"-73.5\" rx=\"27\" ry=\"18\"/>\n<text text-anchor=\"middle\" x=\"263\" y=\"-69.8\" font-family=\"Times,serif\" font-size=\"14.00\">*</text>\n</g>\n<!-- 139479132889696*&#45;&gt;139479132889696 -->\n<g id=\"edge3\" class=\"edge\">\n<title>139479132889696*&#45;&gt;139479132889696</title>\n<path fill=\"none\" stroke=\"black\" d=\"M290.25,-73.5C298.43,-73.5 308.03,-73.5 318.31,-73.5\"/>\n<polygon fill=\"black\" stroke=\"black\" points=\"318.35,-77 328.35,-73.5 318.35,-70 318.35,-77\"/>\n</g>\n<!-- 139479132887248 -->\n<g id=\"node8\" class=\"node\">\n<title>139479132887248</title>\n<polygon fill=\"none\" stroke=\"black\" points=\"4,-55.5 4,-91.5 196,-91.5 196,-55.5 4,-55.5\"/>\n<text text-anchor=\"middle\" x=\"19\" y=\"-69.8\" font-family=\"Times,serif\" font-size=\"14.00\">x2</text>\n<polyline fill=\"none\" stroke=\"black\" points=\"34,-55.5 34,-91.5 \"/>\n<text text-anchor=\"middle\" x=\"74\" y=\"-69.8\" font-family=\"Times,serif\" font-size=\"14.00\">data 0.0000</text>\n<polyline fill=\"none\" stroke=\"black\" points=\"114,-55.5 114,-91.5 \"/>\n<text text-anchor=\"middle\" x=\"155\" y=\"-69.8\" font-family=\"Times,serif\" font-size=\"14.00\">grad 0.0000</text>\n</g>\n<!-- 139479132887248&#45;&gt;139479132889696* -->\n<g id=\"edge6\" class=\"edge\">\n<title>139479132887248&#45;&gt;139479132889696*</title>\n<path fill=\"none\" stroke=\"black\" d=\"M196.05,-73.5C206.52,-73.5 216.65,-73.5 225.71,-73.5\"/>\n<polygon fill=\"black\" stroke=\"black\" points=\"225.79,-77 235.79,-73.5 225.79,-70 225.79,-77\"/>\n</g>\n<!-- 139479132892912 -->\n<g id=\"node9\" class=\"node\">\n<title>139479132892912</title>\n<polygon fill=\"none\" stroke=\"black\" points=\"1362,-54.5 1362,-90.5 1547,-90.5 1547,-54.5 1362,-54.5\"/>\n<text text-anchor=\"middle\" x=\"1373.5\" y=\"-68.8\" font-family=\"Times,serif\" font-size=\"14.00\">o</text>\n<polyline fill=\"none\" stroke=\"black\" points=\"1385,-54.5 1385,-90.5 \"/>\n<text text-anchor=\"middle\" x=\"1425\" y=\"-68.8\" font-family=\"Times,serif\" font-size=\"14.00\">data 0.7071</text>\n<polyline fill=\"none\" stroke=\"black\" points=\"1465,-54.5 1465,-90.5 \"/>\n<text text-anchor=\"middle\" x=\"1506\" y=\"-68.8\" font-family=\"Times,serif\" font-size=\"14.00\">grad 0.0000</text>\n</g>\n<!-- 139479132892912tanh&#45;&gt;139479132892912 -->\n<g id=\"edge4\" class=\"edge\">\n<title>139479132892912tanh&#45;&gt;139479132892912</title>\n<path fill=\"none\" stroke=\"black\" d=\"M1326.04,-72.5C1333.58,-72.5 1342.3,-72.5 1351.57,-72.5\"/>\n<polygon fill=\"black\" stroke=\"black\" points=\"1351.81,-76 1361.81,-72.5 1351.81,-69 1351.81,-76\"/>\n</g>\n<!-- 139479132884800 -->\n<g id=\"node11\" class=\"node\">\n<title>139479132884800</title>\n<polygon fill=\"none\" stroke=\"black\" points=\"2.5,-0.5 2.5,-36.5 197.5,-36.5 197.5,-0.5 2.5,-0.5\"/>\n<text text-anchor=\"middle\" x=\"19\" y=\"-14.8\" font-family=\"Times,serif\" font-size=\"14.00\">w2</text>\n<polyline fill=\"none\" stroke=\"black\" points=\"35.5,-0.5 35.5,-36.5 \"/>\n<text text-anchor=\"middle\" x=\"75.5\" y=\"-14.8\" font-family=\"Times,serif\" font-size=\"14.00\">data 1.0000</text>\n<polyline fill=\"none\" stroke=\"black\" points=\"115.5,-0.5 115.5,-36.5 \"/>\n<text text-anchor=\"middle\" x=\"156.5\" y=\"-14.8\" font-family=\"Times,serif\" font-size=\"14.00\">grad 0.0000</text>\n</g>\n<!-- 139479132884800&#45;&gt;139479132889696* -->\n<g id=\"edge9\" class=\"edge\">\n<title>139479132884800&#45;&gt;139479132889696*</title>\n<path fill=\"none\" stroke=\"black\" d=\"M169.28,-36.5C179.65,-39.61 190.16,-42.98 200,-46.5 210.28,-50.17 221.28,-54.74 231.11,-59.07\"/>\n<polygon fill=\"black\" stroke=\"black\" points=\"229.93,-62.37 240.48,-63.27 232.79,-55.99 229.93,-62.37\"/>\n</g>\n<!-- 139479132888400 -->\n<g id=\"node12\" class=\"node\">\n<title>139479132888400</title>\n<polygon fill=\"none\" stroke=\"black\" points=\"326,-110.5 326,-146.5 540,-146.5 540,-110.5 326,-110.5\"/>\n<text text-anchor=\"middle\" x=\"349.5\" y=\"-124.8\" font-family=\"Times,serif\" font-size=\"14.00\">x1w1</text>\n<polyline fill=\"none\" stroke=\"black\" points=\"373,-110.5 373,-146.5 \"/>\n<text text-anchor=\"middle\" x=\"415.5\" y=\"-124.8\" font-family=\"Times,serif\" font-size=\"14.00\">data &#45;6.0000</text>\n<polyline fill=\"none\" stroke=\"black\" points=\"458,-110.5 458,-146.5 \"/>\n<text text-anchor=\"middle\" x=\"499\" y=\"-124.8\" font-family=\"Times,serif\" font-size=\"14.00\">grad 0.0000</text>\n</g>\n<!-- 139479132888400&#45;&gt;139479132890656+ -->\n<g id=\"edge11\" class=\"edge\">\n<title>139479132888400&#45;&gt;139479132890656+</title>\n<path fill=\"none\" stroke=\"black\" d=\"M540.4,-110.77C549.72,-109.21 558.65,-107.72 566.68,-106.39\"/>\n<polygon fill=\"black\" stroke=\"black\" points=\"567.38,-109.82 576.66,-104.72 566.22,-102.91 567.38,-109.82\"/>\n</g>\n<!-- 139479132888400*&#45;&gt;139479132888400 -->\n<g id=\"edge5\" class=\"edge\">\n<title>139479132888400*&#45;&gt;139479132888400</title>\n<path fill=\"none\" stroke=\"black\" d=\"M290.25,-128.5C297.7,-128.5 306.34,-128.5 315.59,-128.5\"/>\n<polygon fill=\"black\" stroke=\"black\" points=\"315.84,-132 325.84,-128.5 315.84,-125 315.84,-132\"/>\n</g>\n<!-- 139479132885328 -->\n<g id=\"node14\" class=\"node\">\n<title>139479132885328</title>\n<polygon fill=\"none\" stroke=\"black\" points=\"703,-27.5 703,-63.5 888,-63.5 888,-27.5 703,-27.5\"/>\n<text text-anchor=\"middle\" x=\"714.5\" y=\"-41.8\" font-family=\"Times,serif\" font-size=\"14.00\">b</text>\n<polyline fill=\"none\" stroke=\"black\" points=\"726,-27.5 726,-63.5 \"/>\n<text text-anchor=\"middle\" x=\"766\" y=\"-41.8\" font-family=\"Times,serif\" font-size=\"14.00\">data 6.8814</text>\n<polyline fill=\"none\" stroke=\"black\" points=\"806,-27.5 806,-63.5 \"/>\n<text text-anchor=\"middle\" x=\"847\" y=\"-41.8\" font-family=\"Times,serif\" font-size=\"14.00\">grad 0.0000</text>\n</g>\n<!-- 139479132885328&#45;&gt;139479132884032+ -->\n<g id=\"edge10\" class=\"edge\">\n<title>139479132885328&#45;&gt;139479132884032+</title>\n<path fill=\"none\" stroke=\"black\" d=\"M888.12,-58.49C910.59,-61.67 933.33,-64.89 951.33,-67.44\"/>\n<polygon fill=\"black\" stroke=\"black\" points=\"950.95,-70.93 961.34,-68.86 951.93,-63.99 950.95,-70.93\"/>\n</g>\n<!-- 139479132884944 -->\n<g id=\"node15\" class=\"node\">\n<title>139479132884944</title>\n<polygon fill=\"none\" stroke=\"black\" points=\"4,-110.5 4,-146.5 196,-146.5 196,-110.5 4,-110.5\"/>\n<text text-anchor=\"middle\" x=\"19\" y=\"-124.8\" font-family=\"Times,serif\" font-size=\"14.00\">x1</text>\n<polyline fill=\"none\" stroke=\"black\" points=\"34,-110.5 34,-146.5 \"/>\n<text text-anchor=\"middle\" x=\"74\" y=\"-124.8\" font-family=\"Times,serif\" font-size=\"14.00\">data 2.0000</text>\n<polyline fill=\"none\" stroke=\"black\" points=\"114,-110.5 114,-146.5 \"/>\n<text text-anchor=\"middle\" x=\"155\" y=\"-124.8\" font-family=\"Times,serif\" font-size=\"14.00\">grad 0.0000</text>\n</g>\n<!-- 139479132884944&#45;&gt;139479132888400* -->\n<g id=\"edge12\" class=\"edge\">\n<title>139479132884944&#45;&gt;139479132888400*</title>\n<path fill=\"none\" stroke=\"black\" d=\"M196.05,-128.5C206.52,-128.5 216.65,-128.5 225.71,-128.5\"/>\n<polygon fill=\"black\" stroke=\"black\" points=\"225.79,-132 235.79,-128.5 225.79,-125 225.79,-132\"/>\n</g>\n</g>\n</svg>\n",
            "text/plain": [
              "<graphviz.graphs.Digraph at 0x7edb042b6110>"
            ]
          },
          "metadata": {},
          "execution_count": 58
        }
      ]
    },
    {
      "cell_type": "markdown",
      "source": [
        "We will be calling our backward function in order. Remember the first backward we will call is o._backward, and not that out.grad is currently set to 0.0, as it s all initialized with 0.0. So we need to set that to 1.0 and then call thebackward functions"
      ],
      "metadata": {
        "id": "to5Rbvg2YiVW"
      }
    },
    {
      "cell_type": "code",
      "source": [
        "o.grad=1.0\n",
        "draw_dot(o)"
      ],
      "metadata": {
        "colab": {
          "base_uri": "https://localhost:8080/",
          "height": 321
        },
        "id": "yRnJ1BQ_ViPT",
        "outputId": "23c2f3e7-47ad-4bd9-f0ad-163fb2d3f108"
      },
      "execution_count": 59,
      "outputs": [
        {
          "output_type": "execute_result",
          "data": {
            "image/svg+xml": "<?xml version=\"1.0\" encoding=\"UTF-8\" standalone=\"no\"?>\n<!DOCTYPE svg PUBLIC \"-//W3C//DTD SVG 1.1//EN\"\n \"http://www.w3.org/Graphics/SVG/1.1/DTD/svg11.dtd\">\n<!-- Generated by graphviz version 2.43.0 (0)\n -->\n<!-- Title: %3 Pages: 1 -->\n<svg width=\"1555pt\" height=\"210pt\"\n viewBox=\"0.00 0.00 1555.00 210.00\" xmlns=\"http://www.w3.org/2000/svg\" xmlns:xlink=\"http://www.w3.org/1999/xlink\">\n<g id=\"graph0\" class=\"graph\" transform=\"scale(1 1) rotate(0) translate(4 206)\">\n<title>%3</title>\n<polygon fill=\"white\" stroke=\"transparent\" points=\"-4,4 -4,-206 1551,-206 1551,4 -4,4\"/>\n<!-- 139479132884512 -->\n<g id=\"node1\" class=\"node\">\n<title>139479132884512</title>\n<polygon fill=\"none\" stroke=\"black\" points=\"0,-165.5 0,-201.5 200,-201.5 200,-165.5 0,-165.5\"/>\n<text text-anchor=\"middle\" x=\"16.5\" y=\"-179.8\" font-family=\"Times,serif\" font-size=\"14.00\">w1</text>\n<polyline fill=\"none\" stroke=\"black\" points=\"33,-165.5 33,-201.5 \"/>\n<text text-anchor=\"middle\" x=\"75.5\" y=\"-179.8\" font-family=\"Times,serif\" font-size=\"14.00\">data &#45;3.0000</text>\n<polyline fill=\"none\" stroke=\"black\" points=\"118,-165.5 118,-201.5 \"/>\n<text text-anchor=\"middle\" x=\"159\" y=\"-179.8\" font-family=\"Times,serif\" font-size=\"14.00\">grad 0.0000</text>\n</g>\n<!-- 139479132888400* -->\n<g id=\"node13\" class=\"node\">\n<title>139479132888400*</title>\n<ellipse fill=\"none\" stroke=\"black\" cx=\"263\" cy=\"-128.5\" rx=\"27\" ry=\"18\"/>\n<text text-anchor=\"middle\" x=\"263\" y=\"-124.8\" font-family=\"Times,serif\" font-size=\"14.00\">*</text>\n</g>\n<!-- 139479132884512&#45;&gt;139479132888400* -->\n<g id=\"edge8\" class=\"edge\">\n<title>139479132884512&#45;&gt;139479132888400*</title>\n<path fill=\"none\" stroke=\"black\" d=\"M172.53,-165.44C181.84,-162.67 191.2,-159.67 200,-156.5 210.53,-152.71 221.75,-147.9 231.72,-143.33\"/>\n<polygon fill=\"black\" stroke=\"black\" points=\"233.25,-146.48 240.82,-139.07 230.28,-140.14 233.25,-146.48\"/>\n</g>\n<!-- 139479132890656 -->\n<g id=\"node2\" class=\"node\">\n<title>139479132890656</title>\n<polygon fill=\"none\" stroke=\"black\" points=\"666,-82.5 666,-118.5 925,-118.5 925,-82.5 666,-82.5\"/>\n<text text-anchor=\"middle\" x=\"712\" y=\"-96.8\" font-family=\"Times,serif\" font-size=\"14.00\">x1w1 + x2w2</text>\n<polyline fill=\"none\" stroke=\"black\" points=\"758,-82.5 758,-118.5 \"/>\n<text text-anchor=\"middle\" x=\"800.5\" y=\"-96.8\" font-family=\"Times,serif\" font-size=\"14.00\">data &#45;6.0000</text>\n<polyline fill=\"none\" stroke=\"black\" points=\"843,-82.5 843,-118.5 \"/>\n<text text-anchor=\"middle\" x=\"884\" y=\"-96.8\" font-family=\"Times,serif\" font-size=\"14.00\">grad 0.0000</text>\n</g>\n<!-- 139479132884032+ -->\n<g id=\"node5\" class=\"node\">\n<title>139479132884032+</title>\n<ellipse fill=\"none\" stroke=\"black\" cx=\"988\" cy=\"-72.5\" rx=\"27\" ry=\"18\"/>\n<text text-anchor=\"middle\" x=\"988\" y=\"-68.8\" font-family=\"Times,serif\" font-size=\"14.00\">+</text>\n</g>\n<!-- 139479132890656&#45;&gt;139479132884032+ -->\n<g id=\"edge7\" class=\"edge\">\n<title>139479132890656&#45;&gt;139479132884032+</title>\n<path fill=\"none\" stroke=\"black\" d=\"M919.03,-82.49C930.7,-80.77 941.77,-79.15 951.46,-77.72\"/>\n<polygon fill=\"black\" stroke=\"black\" points=\"952.01,-81.18 961.4,-76.26 951,-74.25 952.01,-81.18\"/>\n</g>\n<!-- 139479132890656+ -->\n<g id=\"node3\" class=\"node\">\n<title>139479132890656+</title>\n<ellipse fill=\"none\" stroke=\"black\" cx=\"603\" cy=\"-100.5\" rx=\"27\" ry=\"18\"/>\n<text text-anchor=\"middle\" x=\"603\" y=\"-96.8\" font-family=\"Times,serif\" font-size=\"14.00\">+</text>\n</g>\n<!-- 139479132890656+&#45;&gt;139479132890656 -->\n<g id=\"edge1\" class=\"edge\">\n<title>139479132890656+&#45;&gt;139479132890656</title>\n<path fill=\"none\" stroke=\"black\" d=\"M630.09,-100.5C637.58,-100.5 646.3,-100.5 655.75,-100.5\"/>\n<polygon fill=\"black\" stroke=\"black\" points=\"655.84,-104 665.84,-100.5 655.84,-97 655.84,-104\"/>\n</g>\n<!-- 139479132884032 -->\n<g id=\"node4\" class=\"node\">\n<title>139479132884032</title>\n<polygon fill=\"none\" stroke=\"black\" points=\"1051,-54.5 1051,-90.5 1236,-90.5 1236,-54.5 1051,-54.5\"/>\n<text text-anchor=\"middle\" x=\"1062.5\" y=\"-68.8\" font-family=\"Times,serif\" font-size=\"14.00\">n</text>\n<polyline fill=\"none\" stroke=\"black\" points=\"1074,-54.5 1074,-90.5 \"/>\n<text text-anchor=\"middle\" x=\"1114\" y=\"-68.8\" font-family=\"Times,serif\" font-size=\"14.00\">data 0.8814</text>\n<polyline fill=\"none\" stroke=\"black\" points=\"1154,-54.5 1154,-90.5 \"/>\n<text text-anchor=\"middle\" x=\"1195\" y=\"-68.8\" font-family=\"Times,serif\" font-size=\"14.00\">grad 0.0000</text>\n</g>\n<!-- 139479132892912tanh -->\n<g id=\"node10\" class=\"node\">\n<title>139479132892912tanh</title>\n<ellipse fill=\"none\" stroke=\"black\" cx=\"1299\" cy=\"-72.5\" rx=\"27\" ry=\"18\"/>\n<text text-anchor=\"middle\" x=\"1299\" y=\"-68.8\" font-family=\"Times,serif\" font-size=\"14.00\">tanh</text>\n</g>\n<!-- 139479132884032&#45;&gt;139479132892912tanh -->\n<g id=\"edge13\" class=\"edge\">\n<title>139479132884032&#45;&gt;139479132892912tanh</title>\n<path fill=\"none\" stroke=\"black\" d=\"M1236.01,-72.5C1245.01,-72.5 1253.74,-72.5 1261.66,-72.5\"/>\n<polygon fill=\"black\" stroke=\"black\" points=\"1261.91,-76 1271.91,-72.5 1261.91,-69 1261.91,-76\"/>\n</g>\n<!-- 139479132884032+&#45;&gt;139479132884032 -->\n<g id=\"edge2\" class=\"edge\">\n<title>139479132884032+&#45;&gt;139479132884032</title>\n<path fill=\"none\" stroke=\"black\" d=\"M1015.04,-72.5C1022.58,-72.5 1031.3,-72.5 1040.57,-72.5\"/>\n<polygon fill=\"black\" stroke=\"black\" points=\"1040.81,-76 1050.81,-72.5 1040.81,-69 1040.81,-76\"/>\n</g>\n<!-- 139479132889696 -->\n<g id=\"node6\" class=\"node\">\n<title>139479132889696</title>\n<polygon fill=\"none\" stroke=\"black\" points=\"328.5,-55.5 328.5,-91.5 537.5,-91.5 537.5,-55.5 328.5,-55.5\"/>\n<text text-anchor=\"middle\" x=\"352\" y=\"-69.8\" font-family=\"Times,serif\" font-size=\"14.00\">x2w2</text>\n<polyline fill=\"none\" stroke=\"black\" points=\"375.5,-55.5 375.5,-91.5 \"/>\n<text text-anchor=\"middle\" x=\"415.5\" y=\"-69.8\" font-family=\"Times,serif\" font-size=\"14.00\">data 0.0000</text>\n<polyline fill=\"none\" stroke=\"black\" points=\"455.5,-55.5 455.5,-91.5 \"/>\n<text text-anchor=\"middle\" x=\"496.5\" y=\"-69.8\" font-family=\"Times,serif\" font-size=\"14.00\">grad 0.0000</text>\n</g>\n<!-- 139479132889696&#45;&gt;139479132890656+ -->\n<g id=\"edge14\" class=\"edge\">\n<title>139479132889696&#45;&gt;139479132890656+</title>\n<path fill=\"none\" stroke=\"black\" d=\"M537.53,-90.14C547.8,-91.79 557.66,-93.37 566.45,-94.79\"/>\n<polygon fill=\"black\" stroke=\"black\" points=\"566.16,-98.28 576.59,-96.42 567.27,-91.37 566.16,-98.28\"/>\n</g>\n<!-- 139479132889696* -->\n<g id=\"node7\" class=\"node\">\n<title>139479132889696*</title>\n<ellipse fill=\"none\" stroke=\"black\" cx=\"263\" cy=\"-73.5\" rx=\"27\" ry=\"18\"/>\n<text text-anchor=\"middle\" x=\"263\" y=\"-69.8\" font-family=\"Times,serif\" font-size=\"14.00\">*</text>\n</g>\n<!-- 139479132889696*&#45;&gt;139479132889696 -->\n<g id=\"edge3\" class=\"edge\">\n<title>139479132889696*&#45;&gt;139479132889696</title>\n<path fill=\"none\" stroke=\"black\" d=\"M290.25,-73.5C298.43,-73.5 308.03,-73.5 318.31,-73.5\"/>\n<polygon fill=\"black\" stroke=\"black\" points=\"318.35,-77 328.35,-73.5 318.35,-70 318.35,-77\"/>\n</g>\n<!-- 139479132887248 -->\n<g id=\"node8\" class=\"node\">\n<title>139479132887248</title>\n<polygon fill=\"none\" stroke=\"black\" points=\"4,-55.5 4,-91.5 196,-91.5 196,-55.5 4,-55.5\"/>\n<text text-anchor=\"middle\" x=\"19\" y=\"-69.8\" font-family=\"Times,serif\" font-size=\"14.00\">x2</text>\n<polyline fill=\"none\" stroke=\"black\" points=\"34,-55.5 34,-91.5 \"/>\n<text text-anchor=\"middle\" x=\"74\" y=\"-69.8\" font-family=\"Times,serif\" font-size=\"14.00\">data 0.0000</text>\n<polyline fill=\"none\" stroke=\"black\" points=\"114,-55.5 114,-91.5 \"/>\n<text text-anchor=\"middle\" x=\"155\" y=\"-69.8\" font-family=\"Times,serif\" font-size=\"14.00\">grad 0.0000</text>\n</g>\n<!-- 139479132887248&#45;&gt;139479132889696* -->\n<g id=\"edge6\" class=\"edge\">\n<title>139479132887248&#45;&gt;139479132889696*</title>\n<path fill=\"none\" stroke=\"black\" d=\"M196.05,-73.5C206.52,-73.5 216.65,-73.5 225.71,-73.5\"/>\n<polygon fill=\"black\" stroke=\"black\" points=\"225.79,-77 235.79,-73.5 225.79,-70 225.79,-77\"/>\n</g>\n<!-- 139479132892912 -->\n<g id=\"node9\" class=\"node\">\n<title>139479132892912</title>\n<polygon fill=\"none\" stroke=\"black\" points=\"1362,-54.5 1362,-90.5 1547,-90.5 1547,-54.5 1362,-54.5\"/>\n<text text-anchor=\"middle\" x=\"1373.5\" y=\"-68.8\" font-family=\"Times,serif\" font-size=\"14.00\">o</text>\n<polyline fill=\"none\" stroke=\"black\" points=\"1385,-54.5 1385,-90.5 \"/>\n<text text-anchor=\"middle\" x=\"1425\" y=\"-68.8\" font-family=\"Times,serif\" font-size=\"14.00\">data 0.7071</text>\n<polyline fill=\"none\" stroke=\"black\" points=\"1465,-54.5 1465,-90.5 \"/>\n<text text-anchor=\"middle\" x=\"1506\" y=\"-68.8\" font-family=\"Times,serif\" font-size=\"14.00\">grad 1.0000</text>\n</g>\n<!-- 139479132892912tanh&#45;&gt;139479132892912 -->\n<g id=\"edge4\" class=\"edge\">\n<title>139479132892912tanh&#45;&gt;139479132892912</title>\n<path fill=\"none\" stroke=\"black\" d=\"M1326.04,-72.5C1333.58,-72.5 1342.3,-72.5 1351.57,-72.5\"/>\n<polygon fill=\"black\" stroke=\"black\" points=\"1351.81,-76 1361.81,-72.5 1351.81,-69 1351.81,-76\"/>\n</g>\n<!-- 139479132884800 -->\n<g id=\"node11\" class=\"node\">\n<title>139479132884800</title>\n<polygon fill=\"none\" stroke=\"black\" points=\"2.5,-0.5 2.5,-36.5 197.5,-36.5 197.5,-0.5 2.5,-0.5\"/>\n<text text-anchor=\"middle\" x=\"19\" y=\"-14.8\" font-family=\"Times,serif\" font-size=\"14.00\">w2</text>\n<polyline fill=\"none\" stroke=\"black\" points=\"35.5,-0.5 35.5,-36.5 \"/>\n<text text-anchor=\"middle\" x=\"75.5\" y=\"-14.8\" font-family=\"Times,serif\" font-size=\"14.00\">data 1.0000</text>\n<polyline fill=\"none\" stroke=\"black\" points=\"115.5,-0.5 115.5,-36.5 \"/>\n<text text-anchor=\"middle\" x=\"156.5\" y=\"-14.8\" font-family=\"Times,serif\" font-size=\"14.00\">grad 0.0000</text>\n</g>\n<!-- 139479132884800&#45;&gt;139479132889696* -->\n<g id=\"edge9\" class=\"edge\">\n<title>139479132884800&#45;&gt;139479132889696*</title>\n<path fill=\"none\" stroke=\"black\" d=\"M169.28,-36.5C179.65,-39.61 190.16,-42.98 200,-46.5 210.28,-50.17 221.28,-54.74 231.11,-59.07\"/>\n<polygon fill=\"black\" stroke=\"black\" points=\"229.93,-62.37 240.48,-63.27 232.79,-55.99 229.93,-62.37\"/>\n</g>\n<!-- 139479132888400 -->\n<g id=\"node12\" class=\"node\">\n<title>139479132888400</title>\n<polygon fill=\"none\" stroke=\"black\" points=\"326,-110.5 326,-146.5 540,-146.5 540,-110.5 326,-110.5\"/>\n<text text-anchor=\"middle\" x=\"349.5\" y=\"-124.8\" font-family=\"Times,serif\" font-size=\"14.00\">x1w1</text>\n<polyline fill=\"none\" stroke=\"black\" points=\"373,-110.5 373,-146.5 \"/>\n<text text-anchor=\"middle\" x=\"415.5\" y=\"-124.8\" font-family=\"Times,serif\" font-size=\"14.00\">data &#45;6.0000</text>\n<polyline fill=\"none\" stroke=\"black\" points=\"458,-110.5 458,-146.5 \"/>\n<text text-anchor=\"middle\" x=\"499\" y=\"-124.8\" font-family=\"Times,serif\" font-size=\"14.00\">grad 0.0000</text>\n</g>\n<!-- 139479132888400&#45;&gt;139479132890656+ -->\n<g id=\"edge11\" class=\"edge\">\n<title>139479132888400&#45;&gt;139479132890656+</title>\n<path fill=\"none\" stroke=\"black\" d=\"M540.4,-110.77C549.72,-109.21 558.65,-107.72 566.68,-106.39\"/>\n<polygon fill=\"black\" stroke=\"black\" points=\"567.38,-109.82 576.66,-104.72 566.22,-102.91 567.38,-109.82\"/>\n</g>\n<!-- 139479132888400*&#45;&gt;139479132888400 -->\n<g id=\"edge5\" class=\"edge\">\n<title>139479132888400*&#45;&gt;139479132888400</title>\n<path fill=\"none\" stroke=\"black\" d=\"M290.25,-128.5C297.7,-128.5 306.34,-128.5 315.59,-128.5\"/>\n<polygon fill=\"black\" stroke=\"black\" points=\"315.84,-132 325.84,-128.5 315.84,-125 315.84,-132\"/>\n</g>\n<!-- 139479132885328 -->\n<g id=\"node14\" class=\"node\">\n<title>139479132885328</title>\n<polygon fill=\"none\" stroke=\"black\" points=\"703,-27.5 703,-63.5 888,-63.5 888,-27.5 703,-27.5\"/>\n<text text-anchor=\"middle\" x=\"714.5\" y=\"-41.8\" font-family=\"Times,serif\" font-size=\"14.00\">b</text>\n<polyline fill=\"none\" stroke=\"black\" points=\"726,-27.5 726,-63.5 \"/>\n<text text-anchor=\"middle\" x=\"766\" y=\"-41.8\" font-family=\"Times,serif\" font-size=\"14.00\">data 6.8814</text>\n<polyline fill=\"none\" stroke=\"black\" points=\"806,-27.5 806,-63.5 \"/>\n<text text-anchor=\"middle\" x=\"847\" y=\"-41.8\" font-family=\"Times,serif\" font-size=\"14.00\">grad 0.0000</text>\n</g>\n<!-- 139479132885328&#45;&gt;139479132884032+ -->\n<g id=\"edge10\" class=\"edge\">\n<title>139479132885328&#45;&gt;139479132884032+</title>\n<path fill=\"none\" stroke=\"black\" d=\"M888.12,-58.49C910.59,-61.67 933.33,-64.89 951.33,-67.44\"/>\n<polygon fill=\"black\" stroke=\"black\" points=\"950.95,-70.93 961.34,-68.86 951.93,-63.99 950.95,-70.93\"/>\n</g>\n<!-- 139479132884944 -->\n<g id=\"node15\" class=\"node\">\n<title>139479132884944</title>\n<polygon fill=\"none\" stroke=\"black\" points=\"4,-110.5 4,-146.5 196,-146.5 196,-110.5 4,-110.5\"/>\n<text text-anchor=\"middle\" x=\"19\" y=\"-124.8\" font-family=\"Times,serif\" font-size=\"14.00\">x1</text>\n<polyline fill=\"none\" stroke=\"black\" points=\"34,-110.5 34,-146.5 \"/>\n<text text-anchor=\"middle\" x=\"74\" y=\"-124.8\" font-family=\"Times,serif\" font-size=\"14.00\">data 2.0000</text>\n<polyline fill=\"none\" stroke=\"black\" points=\"114,-110.5 114,-146.5 \"/>\n<text text-anchor=\"middle\" x=\"155\" y=\"-124.8\" font-family=\"Times,serif\" font-size=\"14.00\">grad 0.0000</text>\n</g>\n<!-- 139479132884944&#45;&gt;139479132888400* -->\n<g id=\"edge12\" class=\"edge\">\n<title>139479132884944&#45;&gt;139479132888400*</title>\n<path fill=\"none\" stroke=\"black\" d=\"M196.05,-128.5C206.52,-128.5 216.65,-128.5 225.71,-128.5\"/>\n<polygon fill=\"black\" stroke=\"black\" points=\"225.79,-132 235.79,-128.5 225.79,-125 225.79,-132\"/>\n</g>\n</g>\n</svg>\n",
            "text/plain": [
              "<graphviz.graphs.Digraph at 0x7edb042b6290>"
            ]
          },
          "metadata": {},
          "execution_count": 59
        }
      ]
    },
    {
      "cell_type": "code",
      "source": [
        "o._backward()"
      ],
      "metadata": {
        "id": "cVN80lX4ZBFm"
      },
      "execution_count": 60,
      "outputs": []
    },
    {
      "cell_type": "code",
      "source": [
        "draw_dot(o)"
      ],
      "metadata": {
        "colab": {
          "base_uri": "https://localhost:8080/",
          "height": 321
        },
        "id": "YtSKEXIRZdk9",
        "outputId": "792af6f1-6081-4e6f-878d-70b0475953fa"
      },
      "execution_count": 61,
      "outputs": [
        {
          "output_type": "execute_result",
          "data": {
            "image/svg+xml": "<?xml version=\"1.0\" encoding=\"UTF-8\" standalone=\"no\"?>\n<!DOCTYPE svg PUBLIC \"-//W3C//DTD SVG 1.1//EN\"\n \"http://www.w3.org/Graphics/SVG/1.1/DTD/svg11.dtd\">\n<!-- Generated by graphviz version 2.43.0 (0)\n -->\n<!-- Title: %3 Pages: 1 -->\n<svg width=\"1555pt\" height=\"210pt\"\n viewBox=\"0.00 0.00 1555.00 210.00\" xmlns=\"http://www.w3.org/2000/svg\" xmlns:xlink=\"http://www.w3.org/1999/xlink\">\n<g id=\"graph0\" class=\"graph\" transform=\"scale(1 1) rotate(0) translate(4 206)\">\n<title>%3</title>\n<polygon fill=\"white\" stroke=\"transparent\" points=\"-4,4 -4,-206 1551,-206 1551,4 -4,4\"/>\n<!-- 139479132884512 -->\n<g id=\"node1\" class=\"node\">\n<title>139479132884512</title>\n<polygon fill=\"none\" stroke=\"black\" points=\"0,-165.5 0,-201.5 200,-201.5 200,-165.5 0,-165.5\"/>\n<text text-anchor=\"middle\" x=\"16.5\" y=\"-179.8\" font-family=\"Times,serif\" font-size=\"14.00\">w1</text>\n<polyline fill=\"none\" stroke=\"black\" points=\"33,-165.5 33,-201.5 \"/>\n<text text-anchor=\"middle\" x=\"75.5\" y=\"-179.8\" font-family=\"Times,serif\" font-size=\"14.00\">data &#45;3.0000</text>\n<polyline fill=\"none\" stroke=\"black\" points=\"118,-165.5 118,-201.5 \"/>\n<text text-anchor=\"middle\" x=\"159\" y=\"-179.8\" font-family=\"Times,serif\" font-size=\"14.00\">grad 0.0000</text>\n</g>\n<!-- 139479132888400* -->\n<g id=\"node13\" class=\"node\">\n<title>139479132888400*</title>\n<ellipse fill=\"none\" stroke=\"black\" cx=\"263\" cy=\"-128.5\" rx=\"27\" ry=\"18\"/>\n<text text-anchor=\"middle\" x=\"263\" y=\"-124.8\" font-family=\"Times,serif\" font-size=\"14.00\">*</text>\n</g>\n<!-- 139479132884512&#45;&gt;139479132888400* -->\n<g id=\"edge8\" class=\"edge\">\n<title>139479132884512&#45;&gt;139479132888400*</title>\n<path fill=\"none\" stroke=\"black\" d=\"M172.53,-165.44C181.84,-162.67 191.2,-159.67 200,-156.5 210.53,-152.71 221.75,-147.9 231.72,-143.33\"/>\n<polygon fill=\"black\" stroke=\"black\" points=\"233.25,-146.48 240.82,-139.07 230.28,-140.14 233.25,-146.48\"/>\n</g>\n<!-- 139479132890656 -->\n<g id=\"node2\" class=\"node\">\n<title>139479132890656</title>\n<polygon fill=\"none\" stroke=\"black\" points=\"666,-82.5 666,-118.5 925,-118.5 925,-82.5 666,-82.5\"/>\n<text text-anchor=\"middle\" x=\"712\" y=\"-96.8\" font-family=\"Times,serif\" font-size=\"14.00\">x1w1 + x2w2</text>\n<polyline fill=\"none\" stroke=\"black\" points=\"758,-82.5 758,-118.5 \"/>\n<text text-anchor=\"middle\" x=\"800.5\" y=\"-96.8\" font-family=\"Times,serif\" font-size=\"14.00\">data &#45;6.0000</text>\n<polyline fill=\"none\" stroke=\"black\" points=\"843,-82.5 843,-118.5 \"/>\n<text text-anchor=\"middle\" x=\"884\" y=\"-96.8\" font-family=\"Times,serif\" font-size=\"14.00\">grad 0.0000</text>\n</g>\n<!-- 139479132884032+ -->\n<g id=\"node5\" class=\"node\">\n<title>139479132884032+</title>\n<ellipse fill=\"none\" stroke=\"black\" cx=\"988\" cy=\"-72.5\" rx=\"27\" ry=\"18\"/>\n<text text-anchor=\"middle\" x=\"988\" y=\"-68.8\" font-family=\"Times,serif\" font-size=\"14.00\">+</text>\n</g>\n<!-- 139479132890656&#45;&gt;139479132884032+ -->\n<g id=\"edge7\" class=\"edge\">\n<title>139479132890656&#45;&gt;139479132884032+</title>\n<path fill=\"none\" stroke=\"black\" d=\"M919.03,-82.49C930.7,-80.77 941.77,-79.15 951.46,-77.72\"/>\n<polygon fill=\"black\" stroke=\"black\" points=\"952.01,-81.18 961.4,-76.26 951,-74.25 952.01,-81.18\"/>\n</g>\n<!-- 139479132890656+ -->\n<g id=\"node3\" class=\"node\">\n<title>139479132890656+</title>\n<ellipse fill=\"none\" stroke=\"black\" cx=\"603\" cy=\"-100.5\" rx=\"27\" ry=\"18\"/>\n<text text-anchor=\"middle\" x=\"603\" y=\"-96.8\" font-family=\"Times,serif\" font-size=\"14.00\">+</text>\n</g>\n<!-- 139479132890656+&#45;&gt;139479132890656 -->\n<g id=\"edge1\" class=\"edge\">\n<title>139479132890656+&#45;&gt;139479132890656</title>\n<path fill=\"none\" stroke=\"black\" d=\"M630.09,-100.5C637.58,-100.5 646.3,-100.5 655.75,-100.5\"/>\n<polygon fill=\"black\" stroke=\"black\" points=\"655.84,-104 665.84,-100.5 655.84,-97 655.84,-104\"/>\n</g>\n<!-- 139479132884032 -->\n<g id=\"node4\" class=\"node\">\n<title>139479132884032</title>\n<polygon fill=\"none\" stroke=\"black\" points=\"1051,-54.5 1051,-90.5 1236,-90.5 1236,-54.5 1051,-54.5\"/>\n<text text-anchor=\"middle\" x=\"1062.5\" y=\"-68.8\" font-family=\"Times,serif\" font-size=\"14.00\">n</text>\n<polyline fill=\"none\" stroke=\"black\" points=\"1074,-54.5 1074,-90.5 \"/>\n<text text-anchor=\"middle\" x=\"1114\" y=\"-68.8\" font-family=\"Times,serif\" font-size=\"14.00\">data 0.8814</text>\n<polyline fill=\"none\" stroke=\"black\" points=\"1154,-54.5 1154,-90.5 \"/>\n<text text-anchor=\"middle\" x=\"1195\" y=\"-68.8\" font-family=\"Times,serif\" font-size=\"14.00\">grad 0.5000</text>\n</g>\n<!-- 139479132892912tanh -->\n<g id=\"node10\" class=\"node\">\n<title>139479132892912tanh</title>\n<ellipse fill=\"none\" stroke=\"black\" cx=\"1299\" cy=\"-72.5\" rx=\"27\" ry=\"18\"/>\n<text text-anchor=\"middle\" x=\"1299\" y=\"-68.8\" font-family=\"Times,serif\" font-size=\"14.00\">tanh</text>\n</g>\n<!-- 139479132884032&#45;&gt;139479132892912tanh -->\n<g id=\"edge13\" class=\"edge\">\n<title>139479132884032&#45;&gt;139479132892912tanh</title>\n<path fill=\"none\" stroke=\"black\" d=\"M1236.01,-72.5C1245.01,-72.5 1253.74,-72.5 1261.66,-72.5\"/>\n<polygon fill=\"black\" stroke=\"black\" points=\"1261.91,-76 1271.91,-72.5 1261.91,-69 1261.91,-76\"/>\n</g>\n<!-- 139479132884032+&#45;&gt;139479132884032 -->\n<g id=\"edge2\" class=\"edge\">\n<title>139479132884032+&#45;&gt;139479132884032</title>\n<path fill=\"none\" stroke=\"black\" d=\"M1015.04,-72.5C1022.58,-72.5 1031.3,-72.5 1040.57,-72.5\"/>\n<polygon fill=\"black\" stroke=\"black\" points=\"1040.81,-76 1050.81,-72.5 1040.81,-69 1040.81,-76\"/>\n</g>\n<!-- 139479132889696 -->\n<g id=\"node6\" class=\"node\">\n<title>139479132889696</title>\n<polygon fill=\"none\" stroke=\"black\" points=\"328.5,-55.5 328.5,-91.5 537.5,-91.5 537.5,-55.5 328.5,-55.5\"/>\n<text text-anchor=\"middle\" x=\"352\" y=\"-69.8\" font-family=\"Times,serif\" font-size=\"14.00\">x2w2</text>\n<polyline fill=\"none\" stroke=\"black\" points=\"375.5,-55.5 375.5,-91.5 \"/>\n<text text-anchor=\"middle\" x=\"415.5\" y=\"-69.8\" font-family=\"Times,serif\" font-size=\"14.00\">data 0.0000</text>\n<polyline fill=\"none\" stroke=\"black\" points=\"455.5,-55.5 455.5,-91.5 \"/>\n<text text-anchor=\"middle\" x=\"496.5\" y=\"-69.8\" font-family=\"Times,serif\" font-size=\"14.00\">grad 0.0000</text>\n</g>\n<!-- 139479132889696&#45;&gt;139479132890656+ -->\n<g id=\"edge14\" class=\"edge\">\n<title>139479132889696&#45;&gt;139479132890656+</title>\n<path fill=\"none\" stroke=\"black\" d=\"M537.53,-90.14C547.8,-91.79 557.66,-93.37 566.45,-94.79\"/>\n<polygon fill=\"black\" stroke=\"black\" points=\"566.16,-98.28 576.59,-96.42 567.27,-91.37 566.16,-98.28\"/>\n</g>\n<!-- 139479132889696* -->\n<g id=\"node7\" class=\"node\">\n<title>139479132889696*</title>\n<ellipse fill=\"none\" stroke=\"black\" cx=\"263\" cy=\"-73.5\" rx=\"27\" ry=\"18\"/>\n<text text-anchor=\"middle\" x=\"263\" y=\"-69.8\" font-family=\"Times,serif\" font-size=\"14.00\">*</text>\n</g>\n<!-- 139479132889696*&#45;&gt;139479132889696 -->\n<g id=\"edge3\" class=\"edge\">\n<title>139479132889696*&#45;&gt;139479132889696</title>\n<path fill=\"none\" stroke=\"black\" d=\"M290.25,-73.5C298.43,-73.5 308.03,-73.5 318.31,-73.5\"/>\n<polygon fill=\"black\" stroke=\"black\" points=\"318.35,-77 328.35,-73.5 318.35,-70 318.35,-77\"/>\n</g>\n<!-- 139479132887248 -->\n<g id=\"node8\" class=\"node\">\n<title>139479132887248</title>\n<polygon fill=\"none\" stroke=\"black\" points=\"4,-55.5 4,-91.5 196,-91.5 196,-55.5 4,-55.5\"/>\n<text text-anchor=\"middle\" x=\"19\" y=\"-69.8\" font-family=\"Times,serif\" font-size=\"14.00\">x2</text>\n<polyline fill=\"none\" stroke=\"black\" points=\"34,-55.5 34,-91.5 \"/>\n<text text-anchor=\"middle\" x=\"74\" y=\"-69.8\" font-family=\"Times,serif\" font-size=\"14.00\">data 0.0000</text>\n<polyline fill=\"none\" stroke=\"black\" points=\"114,-55.5 114,-91.5 \"/>\n<text text-anchor=\"middle\" x=\"155\" y=\"-69.8\" font-family=\"Times,serif\" font-size=\"14.00\">grad 0.0000</text>\n</g>\n<!-- 139479132887248&#45;&gt;139479132889696* -->\n<g id=\"edge6\" class=\"edge\">\n<title>139479132887248&#45;&gt;139479132889696*</title>\n<path fill=\"none\" stroke=\"black\" d=\"M196.05,-73.5C206.52,-73.5 216.65,-73.5 225.71,-73.5\"/>\n<polygon fill=\"black\" stroke=\"black\" points=\"225.79,-77 235.79,-73.5 225.79,-70 225.79,-77\"/>\n</g>\n<!-- 139479132892912 -->\n<g id=\"node9\" class=\"node\">\n<title>139479132892912</title>\n<polygon fill=\"none\" stroke=\"black\" points=\"1362,-54.5 1362,-90.5 1547,-90.5 1547,-54.5 1362,-54.5\"/>\n<text text-anchor=\"middle\" x=\"1373.5\" y=\"-68.8\" font-family=\"Times,serif\" font-size=\"14.00\">o</text>\n<polyline fill=\"none\" stroke=\"black\" points=\"1385,-54.5 1385,-90.5 \"/>\n<text text-anchor=\"middle\" x=\"1425\" y=\"-68.8\" font-family=\"Times,serif\" font-size=\"14.00\">data 0.7071</text>\n<polyline fill=\"none\" stroke=\"black\" points=\"1465,-54.5 1465,-90.5 \"/>\n<text text-anchor=\"middle\" x=\"1506\" y=\"-68.8\" font-family=\"Times,serif\" font-size=\"14.00\">grad 1.0000</text>\n</g>\n<!-- 139479132892912tanh&#45;&gt;139479132892912 -->\n<g id=\"edge4\" class=\"edge\">\n<title>139479132892912tanh&#45;&gt;139479132892912</title>\n<path fill=\"none\" stroke=\"black\" d=\"M1326.04,-72.5C1333.58,-72.5 1342.3,-72.5 1351.57,-72.5\"/>\n<polygon fill=\"black\" stroke=\"black\" points=\"1351.81,-76 1361.81,-72.5 1351.81,-69 1351.81,-76\"/>\n</g>\n<!-- 139479132884800 -->\n<g id=\"node11\" class=\"node\">\n<title>139479132884800</title>\n<polygon fill=\"none\" stroke=\"black\" points=\"2.5,-0.5 2.5,-36.5 197.5,-36.5 197.5,-0.5 2.5,-0.5\"/>\n<text text-anchor=\"middle\" x=\"19\" y=\"-14.8\" font-family=\"Times,serif\" font-size=\"14.00\">w2</text>\n<polyline fill=\"none\" stroke=\"black\" points=\"35.5,-0.5 35.5,-36.5 \"/>\n<text text-anchor=\"middle\" x=\"75.5\" y=\"-14.8\" font-family=\"Times,serif\" font-size=\"14.00\">data 1.0000</text>\n<polyline fill=\"none\" stroke=\"black\" points=\"115.5,-0.5 115.5,-36.5 \"/>\n<text text-anchor=\"middle\" x=\"156.5\" y=\"-14.8\" font-family=\"Times,serif\" font-size=\"14.00\">grad 0.0000</text>\n</g>\n<!-- 139479132884800&#45;&gt;139479132889696* -->\n<g id=\"edge9\" class=\"edge\">\n<title>139479132884800&#45;&gt;139479132889696*</title>\n<path fill=\"none\" stroke=\"black\" d=\"M169.28,-36.5C179.65,-39.61 190.16,-42.98 200,-46.5 210.28,-50.17 221.28,-54.74 231.11,-59.07\"/>\n<polygon fill=\"black\" stroke=\"black\" points=\"229.93,-62.37 240.48,-63.27 232.79,-55.99 229.93,-62.37\"/>\n</g>\n<!-- 139479132888400 -->\n<g id=\"node12\" class=\"node\">\n<title>139479132888400</title>\n<polygon fill=\"none\" stroke=\"black\" points=\"326,-110.5 326,-146.5 540,-146.5 540,-110.5 326,-110.5\"/>\n<text text-anchor=\"middle\" x=\"349.5\" y=\"-124.8\" font-family=\"Times,serif\" font-size=\"14.00\">x1w1</text>\n<polyline fill=\"none\" stroke=\"black\" points=\"373,-110.5 373,-146.5 \"/>\n<text text-anchor=\"middle\" x=\"415.5\" y=\"-124.8\" font-family=\"Times,serif\" font-size=\"14.00\">data &#45;6.0000</text>\n<polyline fill=\"none\" stroke=\"black\" points=\"458,-110.5 458,-146.5 \"/>\n<text text-anchor=\"middle\" x=\"499\" y=\"-124.8\" font-family=\"Times,serif\" font-size=\"14.00\">grad 0.0000</text>\n</g>\n<!-- 139479132888400&#45;&gt;139479132890656+ -->\n<g id=\"edge11\" class=\"edge\">\n<title>139479132888400&#45;&gt;139479132890656+</title>\n<path fill=\"none\" stroke=\"black\" d=\"M540.4,-110.77C549.72,-109.21 558.65,-107.72 566.68,-106.39\"/>\n<polygon fill=\"black\" stroke=\"black\" points=\"567.38,-109.82 576.66,-104.72 566.22,-102.91 567.38,-109.82\"/>\n</g>\n<!-- 139479132888400*&#45;&gt;139479132888400 -->\n<g id=\"edge5\" class=\"edge\">\n<title>139479132888400*&#45;&gt;139479132888400</title>\n<path fill=\"none\" stroke=\"black\" d=\"M290.25,-128.5C297.7,-128.5 306.34,-128.5 315.59,-128.5\"/>\n<polygon fill=\"black\" stroke=\"black\" points=\"315.84,-132 325.84,-128.5 315.84,-125 315.84,-132\"/>\n</g>\n<!-- 139479132885328 -->\n<g id=\"node14\" class=\"node\">\n<title>139479132885328</title>\n<polygon fill=\"none\" stroke=\"black\" points=\"703,-27.5 703,-63.5 888,-63.5 888,-27.5 703,-27.5\"/>\n<text text-anchor=\"middle\" x=\"714.5\" y=\"-41.8\" font-family=\"Times,serif\" font-size=\"14.00\">b</text>\n<polyline fill=\"none\" stroke=\"black\" points=\"726,-27.5 726,-63.5 \"/>\n<text text-anchor=\"middle\" x=\"766\" y=\"-41.8\" font-family=\"Times,serif\" font-size=\"14.00\">data 6.8814</text>\n<polyline fill=\"none\" stroke=\"black\" points=\"806,-27.5 806,-63.5 \"/>\n<text text-anchor=\"middle\" x=\"847\" y=\"-41.8\" font-family=\"Times,serif\" font-size=\"14.00\">grad 0.0000</text>\n</g>\n<!-- 139479132885328&#45;&gt;139479132884032+ -->\n<g id=\"edge10\" class=\"edge\">\n<title>139479132885328&#45;&gt;139479132884032+</title>\n<path fill=\"none\" stroke=\"black\" d=\"M888.12,-58.49C910.59,-61.67 933.33,-64.89 951.33,-67.44\"/>\n<polygon fill=\"black\" stroke=\"black\" points=\"950.95,-70.93 961.34,-68.86 951.93,-63.99 950.95,-70.93\"/>\n</g>\n<!-- 139479132884944 -->\n<g id=\"node15\" class=\"node\">\n<title>139479132884944</title>\n<polygon fill=\"none\" stroke=\"black\" points=\"4,-110.5 4,-146.5 196,-146.5 196,-110.5 4,-110.5\"/>\n<text text-anchor=\"middle\" x=\"19\" y=\"-124.8\" font-family=\"Times,serif\" font-size=\"14.00\">x1</text>\n<polyline fill=\"none\" stroke=\"black\" points=\"34,-110.5 34,-146.5 \"/>\n<text text-anchor=\"middle\" x=\"74\" y=\"-124.8\" font-family=\"Times,serif\" font-size=\"14.00\">data 2.0000</text>\n<polyline fill=\"none\" stroke=\"black\" points=\"114,-110.5 114,-146.5 \"/>\n<text text-anchor=\"middle\" x=\"155\" y=\"-124.8\" font-family=\"Times,serif\" font-size=\"14.00\">grad 0.0000</text>\n</g>\n<!-- 139479132884944&#45;&gt;139479132888400* -->\n<g id=\"edge12\" class=\"edge\">\n<title>139479132884944&#45;&gt;139479132888400*</title>\n<path fill=\"none\" stroke=\"black\" d=\"M196.05,-128.5C206.52,-128.5 216.65,-128.5 225.71,-128.5\"/>\n<polygon fill=\"black\" stroke=\"black\" points=\"225.79,-132 235.79,-128.5 225.79,-125 225.79,-132\"/>\n</g>\n</g>\n</svg>\n",
            "text/plain": [
              "<graphviz.graphs.Digraph at 0x7edb042b5f90>"
            ]
          },
          "metadata": {},
          "execution_count": 61
        }
      ]
    },
    {
      "cell_type": "code",
      "source": [
        "n._backward()\n",
        "draw_dot(o)"
      ],
      "metadata": {
        "colab": {
          "base_uri": "https://localhost:8080/",
          "height": 321
        },
        "id": "CXiAZJVaZlv8",
        "outputId": "2a00fa01-38d1-4d7d-f0a9-fbef95182bcf"
      },
      "execution_count": 62,
      "outputs": [
        {
          "output_type": "execute_result",
          "data": {
            "image/svg+xml": "<?xml version=\"1.0\" encoding=\"UTF-8\" standalone=\"no\"?>\n<!DOCTYPE svg PUBLIC \"-//W3C//DTD SVG 1.1//EN\"\n \"http://www.w3.org/Graphics/SVG/1.1/DTD/svg11.dtd\">\n<!-- Generated by graphviz version 2.43.0 (0)\n -->\n<!-- Title: %3 Pages: 1 -->\n<svg width=\"1555pt\" height=\"210pt\"\n viewBox=\"0.00 0.00 1555.00 210.00\" xmlns=\"http://www.w3.org/2000/svg\" xmlns:xlink=\"http://www.w3.org/1999/xlink\">\n<g id=\"graph0\" class=\"graph\" transform=\"scale(1 1) rotate(0) translate(4 206)\">\n<title>%3</title>\n<polygon fill=\"white\" stroke=\"transparent\" points=\"-4,4 -4,-206 1551,-206 1551,4 -4,4\"/>\n<!-- 139479132884512 -->\n<g id=\"node1\" class=\"node\">\n<title>139479132884512</title>\n<polygon fill=\"none\" stroke=\"black\" points=\"0,-165.5 0,-201.5 200,-201.5 200,-165.5 0,-165.5\"/>\n<text text-anchor=\"middle\" x=\"16.5\" y=\"-179.8\" font-family=\"Times,serif\" font-size=\"14.00\">w1</text>\n<polyline fill=\"none\" stroke=\"black\" points=\"33,-165.5 33,-201.5 \"/>\n<text text-anchor=\"middle\" x=\"75.5\" y=\"-179.8\" font-family=\"Times,serif\" font-size=\"14.00\">data &#45;3.0000</text>\n<polyline fill=\"none\" stroke=\"black\" points=\"118,-165.5 118,-201.5 \"/>\n<text text-anchor=\"middle\" x=\"159\" y=\"-179.8\" font-family=\"Times,serif\" font-size=\"14.00\">grad 0.0000</text>\n</g>\n<!-- 139479132888400* -->\n<g id=\"node13\" class=\"node\">\n<title>139479132888400*</title>\n<ellipse fill=\"none\" stroke=\"black\" cx=\"263\" cy=\"-128.5\" rx=\"27\" ry=\"18\"/>\n<text text-anchor=\"middle\" x=\"263\" y=\"-124.8\" font-family=\"Times,serif\" font-size=\"14.00\">*</text>\n</g>\n<!-- 139479132884512&#45;&gt;139479132888400* -->\n<g id=\"edge8\" class=\"edge\">\n<title>139479132884512&#45;&gt;139479132888400*</title>\n<path fill=\"none\" stroke=\"black\" d=\"M172.53,-165.44C181.84,-162.67 191.2,-159.67 200,-156.5 210.53,-152.71 221.75,-147.9 231.72,-143.33\"/>\n<polygon fill=\"black\" stroke=\"black\" points=\"233.25,-146.48 240.82,-139.07 230.28,-140.14 233.25,-146.48\"/>\n</g>\n<!-- 139479132890656 -->\n<g id=\"node2\" class=\"node\">\n<title>139479132890656</title>\n<polygon fill=\"none\" stroke=\"black\" points=\"666,-82.5 666,-118.5 925,-118.5 925,-82.5 666,-82.5\"/>\n<text text-anchor=\"middle\" x=\"712\" y=\"-96.8\" font-family=\"Times,serif\" font-size=\"14.00\">x1w1 + x2w2</text>\n<polyline fill=\"none\" stroke=\"black\" points=\"758,-82.5 758,-118.5 \"/>\n<text text-anchor=\"middle\" x=\"800.5\" y=\"-96.8\" font-family=\"Times,serif\" font-size=\"14.00\">data &#45;6.0000</text>\n<polyline fill=\"none\" stroke=\"black\" points=\"843,-82.5 843,-118.5 \"/>\n<text text-anchor=\"middle\" x=\"884\" y=\"-96.8\" font-family=\"Times,serif\" font-size=\"14.00\">grad 0.5000</text>\n</g>\n<!-- 139479132884032+ -->\n<g id=\"node5\" class=\"node\">\n<title>139479132884032+</title>\n<ellipse fill=\"none\" stroke=\"black\" cx=\"988\" cy=\"-72.5\" rx=\"27\" ry=\"18\"/>\n<text text-anchor=\"middle\" x=\"988\" y=\"-68.8\" font-family=\"Times,serif\" font-size=\"14.00\">+</text>\n</g>\n<!-- 139479132890656&#45;&gt;139479132884032+ -->\n<g id=\"edge7\" class=\"edge\">\n<title>139479132890656&#45;&gt;139479132884032+</title>\n<path fill=\"none\" stroke=\"black\" d=\"M919.03,-82.49C930.7,-80.77 941.77,-79.15 951.46,-77.72\"/>\n<polygon fill=\"black\" stroke=\"black\" points=\"952.01,-81.18 961.4,-76.26 951,-74.25 952.01,-81.18\"/>\n</g>\n<!-- 139479132890656+ -->\n<g id=\"node3\" class=\"node\">\n<title>139479132890656+</title>\n<ellipse fill=\"none\" stroke=\"black\" cx=\"603\" cy=\"-100.5\" rx=\"27\" ry=\"18\"/>\n<text text-anchor=\"middle\" x=\"603\" y=\"-96.8\" font-family=\"Times,serif\" font-size=\"14.00\">+</text>\n</g>\n<!-- 139479132890656+&#45;&gt;139479132890656 -->\n<g id=\"edge1\" class=\"edge\">\n<title>139479132890656+&#45;&gt;139479132890656</title>\n<path fill=\"none\" stroke=\"black\" d=\"M630.09,-100.5C637.58,-100.5 646.3,-100.5 655.75,-100.5\"/>\n<polygon fill=\"black\" stroke=\"black\" points=\"655.84,-104 665.84,-100.5 655.84,-97 655.84,-104\"/>\n</g>\n<!-- 139479132884032 -->\n<g id=\"node4\" class=\"node\">\n<title>139479132884032</title>\n<polygon fill=\"none\" stroke=\"black\" points=\"1051,-54.5 1051,-90.5 1236,-90.5 1236,-54.5 1051,-54.5\"/>\n<text text-anchor=\"middle\" x=\"1062.5\" y=\"-68.8\" font-family=\"Times,serif\" font-size=\"14.00\">n</text>\n<polyline fill=\"none\" stroke=\"black\" points=\"1074,-54.5 1074,-90.5 \"/>\n<text text-anchor=\"middle\" x=\"1114\" y=\"-68.8\" font-family=\"Times,serif\" font-size=\"14.00\">data 0.8814</text>\n<polyline fill=\"none\" stroke=\"black\" points=\"1154,-54.5 1154,-90.5 \"/>\n<text text-anchor=\"middle\" x=\"1195\" y=\"-68.8\" font-family=\"Times,serif\" font-size=\"14.00\">grad 0.5000</text>\n</g>\n<!-- 139479132892912tanh -->\n<g id=\"node10\" class=\"node\">\n<title>139479132892912tanh</title>\n<ellipse fill=\"none\" stroke=\"black\" cx=\"1299\" cy=\"-72.5\" rx=\"27\" ry=\"18\"/>\n<text text-anchor=\"middle\" x=\"1299\" y=\"-68.8\" font-family=\"Times,serif\" font-size=\"14.00\">tanh</text>\n</g>\n<!-- 139479132884032&#45;&gt;139479132892912tanh -->\n<g id=\"edge13\" class=\"edge\">\n<title>139479132884032&#45;&gt;139479132892912tanh</title>\n<path fill=\"none\" stroke=\"black\" d=\"M1236.01,-72.5C1245.01,-72.5 1253.74,-72.5 1261.66,-72.5\"/>\n<polygon fill=\"black\" stroke=\"black\" points=\"1261.91,-76 1271.91,-72.5 1261.91,-69 1261.91,-76\"/>\n</g>\n<!-- 139479132884032+&#45;&gt;139479132884032 -->\n<g id=\"edge2\" class=\"edge\">\n<title>139479132884032+&#45;&gt;139479132884032</title>\n<path fill=\"none\" stroke=\"black\" d=\"M1015.04,-72.5C1022.58,-72.5 1031.3,-72.5 1040.57,-72.5\"/>\n<polygon fill=\"black\" stroke=\"black\" points=\"1040.81,-76 1050.81,-72.5 1040.81,-69 1040.81,-76\"/>\n</g>\n<!-- 139479132889696 -->\n<g id=\"node6\" class=\"node\">\n<title>139479132889696</title>\n<polygon fill=\"none\" stroke=\"black\" points=\"328.5,-55.5 328.5,-91.5 537.5,-91.5 537.5,-55.5 328.5,-55.5\"/>\n<text text-anchor=\"middle\" x=\"352\" y=\"-69.8\" font-family=\"Times,serif\" font-size=\"14.00\">x2w2</text>\n<polyline fill=\"none\" stroke=\"black\" points=\"375.5,-55.5 375.5,-91.5 \"/>\n<text text-anchor=\"middle\" x=\"415.5\" y=\"-69.8\" font-family=\"Times,serif\" font-size=\"14.00\">data 0.0000</text>\n<polyline fill=\"none\" stroke=\"black\" points=\"455.5,-55.5 455.5,-91.5 \"/>\n<text text-anchor=\"middle\" x=\"496.5\" y=\"-69.8\" font-family=\"Times,serif\" font-size=\"14.00\">grad 0.0000</text>\n</g>\n<!-- 139479132889696&#45;&gt;139479132890656+ -->\n<g id=\"edge14\" class=\"edge\">\n<title>139479132889696&#45;&gt;139479132890656+</title>\n<path fill=\"none\" stroke=\"black\" d=\"M537.53,-90.14C547.8,-91.79 557.66,-93.37 566.45,-94.79\"/>\n<polygon fill=\"black\" stroke=\"black\" points=\"566.16,-98.28 576.59,-96.42 567.27,-91.37 566.16,-98.28\"/>\n</g>\n<!-- 139479132889696* -->\n<g id=\"node7\" class=\"node\">\n<title>139479132889696*</title>\n<ellipse fill=\"none\" stroke=\"black\" cx=\"263\" cy=\"-73.5\" rx=\"27\" ry=\"18\"/>\n<text text-anchor=\"middle\" x=\"263\" y=\"-69.8\" font-family=\"Times,serif\" font-size=\"14.00\">*</text>\n</g>\n<!-- 139479132889696*&#45;&gt;139479132889696 -->\n<g id=\"edge3\" class=\"edge\">\n<title>139479132889696*&#45;&gt;139479132889696</title>\n<path fill=\"none\" stroke=\"black\" d=\"M290.25,-73.5C298.43,-73.5 308.03,-73.5 318.31,-73.5\"/>\n<polygon fill=\"black\" stroke=\"black\" points=\"318.35,-77 328.35,-73.5 318.35,-70 318.35,-77\"/>\n</g>\n<!-- 139479132887248 -->\n<g id=\"node8\" class=\"node\">\n<title>139479132887248</title>\n<polygon fill=\"none\" stroke=\"black\" points=\"4,-55.5 4,-91.5 196,-91.5 196,-55.5 4,-55.5\"/>\n<text text-anchor=\"middle\" x=\"19\" y=\"-69.8\" font-family=\"Times,serif\" font-size=\"14.00\">x2</text>\n<polyline fill=\"none\" stroke=\"black\" points=\"34,-55.5 34,-91.5 \"/>\n<text text-anchor=\"middle\" x=\"74\" y=\"-69.8\" font-family=\"Times,serif\" font-size=\"14.00\">data 0.0000</text>\n<polyline fill=\"none\" stroke=\"black\" points=\"114,-55.5 114,-91.5 \"/>\n<text text-anchor=\"middle\" x=\"155\" y=\"-69.8\" font-family=\"Times,serif\" font-size=\"14.00\">grad 0.0000</text>\n</g>\n<!-- 139479132887248&#45;&gt;139479132889696* -->\n<g id=\"edge6\" class=\"edge\">\n<title>139479132887248&#45;&gt;139479132889696*</title>\n<path fill=\"none\" stroke=\"black\" d=\"M196.05,-73.5C206.52,-73.5 216.65,-73.5 225.71,-73.5\"/>\n<polygon fill=\"black\" stroke=\"black\" points=\"225.79,-77 235.79,-73.5 225.79,-70 225.79,-77\"/>\n</g>\n<!-- 139479132892912 -->\n<g id=\"node9\" class=\"node\">\n<title>139479132892912</title>\n<polygon fill=\"none\" stroke=\"black\" points=\"1362,-54.5 1362,-90.5 1547,-90.5 1547,-54.5 1362,-54.5\"/>\n<text text-anchor=\"middle\" x=\"1373.5\" y=\"-68.8\" font-family=\"Times,serif\" font-size=\"14.00\">o</text>\n<polyline fill=\"none\" stroke=\"black\" points=\"1385,-54.5 1385,-90.5 \"/>\n<text text-anchor=\"middle\" x=\"1425\" y=\"-68.8\" font-family=\"Times,serif\" font-size=\"14.00\">data 0.7071</text>\n<polyline fill=\"none\" stroke=\"black\" points=\"1465,-54.5 1465,-90.5 \"/>\n<text text-anchor=\"middle\" x=\"1506\" y=\"-68.8\" font-family=\"Times,serif\" font-size=\"14.00\">grad 1.0000</text>\n</g>\n<!-- 139479132892912tanh&#45;&gt;139479132892912 -->\n<g id=\"edge4\" class=\"edge\">\n<title>139479132892912tanh&#45;&gt;139479132892912</title>\n<path fill=\"none\" stroke=\"black\" d=\"M1326.04,-72.5C1333.58,-72.5 1342.3,-72.5 1351.57,-72.5\"/>\n<polygon fill=\"black\" stroke=\"black\" points=\"1351.81,-76 1361.81,-72.5 1351.81,-69 1351.81,-76\"/>\n</g>\n<!-- 139479132884800 -->\n<g id=\"node11\" class=\"node\">\n<title>139479132884800</title>\n<polygon fill=\"none\" stroke=\"black\" points=\"2.5,-0.5 2.5,-36.5 197.5,-36.5 197.5,-0.5 2.5,-0.5\"/>\n<text text-anchor=\"middle\" x=\"19\" y=\"-14.8\" font-family=\"Times,serif\" font-size=\"14.00\">w2</text>\n<polyline fill=\"none\" stroke=\"black\" points=\"35.5,-0.5 35.5,-36.5 \"/>\n<text text-anchor=\"middle\" x=\"75.5\" y=\"-14.8\" font-family=\"Times,serif\" font-size=\"14.00\">data 1.0000</text>\n<polyline fill=\"none\" stroke=\"black\" points=\"115.5,-0.5 115.5,-36.5 \"/>\n<text text-anchor=\"middle\" x=\"156.5\" y=\"-14.8\" font-family=\"Times,serif\" font-size=\"14.00\">grad 0.0000</text>\n</g>\n<!-- 139479132884800&#45;&gt;139479132889696* -->\n<g id=\"edge9\" class=\"edge\">\n<title>139479132884800&#45;&gt;139479132889696*</title>\n<path fill=\"none\" stroke=\"black\" d=\"M169.28,-36.5C179.65,-39.61 190.16,-42.98 200,-46.5 210.28,-50.17 221.28,-54.74 231.11,-59.07\"/>\n<polygon fill=\"black\" stroke=\"black\" points=\"229.93,-62.37 240.48,-63.27 232.79,-55.99 229.93,-62.37\"/>\n</g>\n<!-- 139479132888400 -->\n<g id=\"node12\" class=\"node\">\n<title>139479132888400</title>\n<polygon fill=\"none\" stroke=\"black\" points=\"326,-110.5 326,-146.5 540,-146.5 540,-110.5 326,-110.5\"/>\n<text text-anchor=\"middle\" x=\"349.5\" y=\"-124.8\" font-family=\"Times,serif\" font-size=\"14.00\">x1w1</text>\n<polyline fill=\"none\" stroke=\"black\" points=\"373,-110.5 373,-146.5 \"/>\n<text text-anchor=\"middle\" x=\"415.5\" y=\"-124.8\" font-family=\"Times,serif\" font-size=\"14.00\">data &#45;6.0000</text>\n<polyline fill=\"none\" stroke=\"black\" points=\"458,-110.5 458,-146.5 \"/>\n<text text-anchor=\"middle\" x=\"499\" y=\"-124.8\" font-family=\"Times,serif\" font-size=\"14.00\">grad 0.0000</text>\n</g>\n<!-- 139479132888400&#45;&gt;139479132890656+ -->\n<g id=\"edge11\" class=\"edge\">\n<title>139479132888400&#45;&gt;139479132890656+</title>\n<path fill=\"none\" stroke=\"black\" d=\"M540.4,-110.77C549.72,-109.21 558.65,-107.72 566.68,-106.39\"/>\n<polygon fill=\"black\" stroke=\"black\" points=\"567.38,-109.82 576.66,-104.72 566.22,-102.91 567.38,-109.82\"/>\n</g>\n<!-- 139479132888400*&#45;&gt;139479132888400 -->\n<g id=\"edge5\" class=\"edge\">\n<title>139479132888400*&#45;&gt;139479132888400</title>\n<path fill=\"none\" stroke=\"black\" d=\"M290.25,-128.5C297.7,-128.5 306.34,-128.5 315.59,-128.5\"/>\n<polygon fill=\"black\" stroke=\"black\" points=\"315.84,-132 325.84,-128.5 315.84,-125 315.84,-132\"/>\n</g>\n<!-- 139479132885328 -->\n<g id=\"node14\" class=\"node\">\n<title>139479132885328</title>\n<polygon fill=\"none\" stroke=\"black\" points=\"703,-27.5 703,-63.5 888,-63.5 888,-27.5 703,-27.5\"/>\n<text text-anchor=\"middle\" x=\"714.5\" y=\"-41.8\" font-family=\"Times,serif\" font-size=\"14.00\">b</text>\n<polyline fill=\"none\" stroke=\"black\" points=\"726,-27.5 726,-63.5 \"/>\n<text text-anchor=\"middle\" x=\"766\" y=\"-41.8\" font-family=\"Times,serif\" font-size=\"14.00\">data 6.8814</text>\n<polyline fill=\"none\" stroke=\"black\" points=\"806,-27.5 806,-63.5 \"/>\n<text text-anchor=\"middle\" x=\"847\" y=\"-41.8\" font-family=\"Times,serif\" font-size=\"14.00\">grad 0.5000</text>\n</g>\n<!-- 139479132885328&#45;&gt;139479132884032+ -->\n<g id=\"edge10\" class=\"edge\">\n<title>139479132885328&#45;&gt;139479132884032+</title>\n<path fill=\"none\" stroke=\"black\" d=\"M888.12,-58.49C910.59,-61.67 933.33,-64.89 951.33,-67.44\"/>\n<polygon fill=\"black\" stroke=\"black\" points=\"950.95,-70.93 961.34,-68.86 951.93,-63.99 950.95,-70.93\"/>\n</g>\n<!-- 139479132884944 -->\n<g id=\"node15\" class=\"node\">\n<title>139479132884944</title>\n<polygon fill=\"none\" stroke=\"black\" points=\"4,-110.5 4,-146.5 196,-146.5 196,-110.5 4,-110.5\"/>\n<text text-anchor=\"middle\" x=\"19\" y=\"-124.8\" font-family=\"Times,serif\" font-size=\"14.00\">x1</text>\n<polyline fill=\"none\" stroke=\"black\" points=\"34,-110.5 34,-146.5 \"/>\n<text text-anchor=\"middle\" x=\"74\" y=\"-124.8\" font-family=\"Times,serif\" font-size=\"14.00\">data 2.0000</text>\n<polyline fill=\"none\" stroke=\"black\" points=\"114,-110.5 114,-146.5 \"/>\n<text text-anchor=\"middle\" x=\"155\" y=\"-124.8\" font-family=\"Times,serif\" font-size=\"14.00\">grad 0.0000</text>\n</g>\n<!-- 139479132884944&#45;&gt;139479132888400* -->\n<g id=\"edge12\" class=\"edge\">\n<title>139479132884944&#45;&gt;139479132888400*</title>\n<path fill=\"none\" stroke=\"black\" d=\"M196.05,-128.5C206.52,-128.5 216.65,-128.5 225.71,-128.5\"/>\n<polygon fill=\"black\" stroke=\"black\" points=\"225.79,-132 235.79,-128.5 225.79,-125 225.79,-132\"/>\n</g>\n</g>\n</svg>\n",
            "text/plain": [
              "<graphviz.graphs.Digraph at 0x7edb042b42e0>"
            ]
          },
          "metadata": {},
          "execution_count": 62
        }
      ]
    },
    {
      "cell_type": "code",
      "source": [
        "b._backward() ## note b is leaf node, and for leafnodes we are just doing nothing when backward is called on it, we could although call the funtion"
      ],
      "metadata": {
        "id": "BFbrw3wJZosF"
      },
      "execution_count": 63,
      "outputs": []
    },
    {
      "cell_type": "code",
      "source": [
        "x1w1x2w2._backward()\n",
        "draw_dot(o)"
      ],
      "metadata": {
        "colab": {
          "base_uri": "https://localhost:8080/",
          "height": 321
        },
        "id": "R9ejUmjpZ8fL",
        "outputId": "c353c5b4-33b8-4a3e-98a7-6a2b8cad45da"
      },
      "execution_count": 64,
      "outputs": [
        {
          "output_type": "execute_result",
          "data": {
            "image/svg+xml": "<?xml version=\"1.0\" encoding=\"UTF-8\" standalone=\"no\"?>\n<!DOCTYPE svg PUBLIC \"-//W3C//DTD SVG 1.1//EN\"\n \"http://www.w3.org/Graphics/SVG/1.1/DTD/svg11.dtd\">\n<!-- Generated by graphviz version 2.43.0 (0)\n -->\n<!-- Title: %3 Pages: 1 -->\n<svg width=\"1555pt\" height=\"210pt\"\n viewBox=\"0.00 0.00 1555.00 210.00\" xmlns=\"http://www.w3.org/2000/svg\" xmlns:xlink=\"http://www.w3.org/1999/xlink\">\n<g id=\"graph0\" class=\"graph\" transform=\"scale(1 1) rotate(0) translate(4 206)\">\n<title>%3</title>\n<polygon fill=\"white\" stroke=\"transparent\" points=\"-4,4 -4,-206 1551,-206 1551,4 -4,4\"/>\n<!-- 139479132884512 -->\n<g id=\"node1\" class=\"node\">\n<title>139479132884512</title>\n<polygon fill=\"none\" stroke=\"black\" points=\"0,-165.5 0,-201.5 200,-201.5 200,-165.5 0,-165.5\"/>\n<text text-anchor=\"middle\" x=\"16.5\" y=\"-179.8\" font-family=\"Times,serif\" font-size=\"14.00\">w1</text>\n<polyline fill=\"none\" stroke=\"black\" points=\"33,-165.5 33,-201.5 \"/>\n<text text-anchor=\"middle\" x=\"75.5\" y=\"-179.8\" font-family=\"Times,serif\" font-size=\"14.00\">data &#45;3.0000</text>\n<polyline fill=\"none\" stroke=\"black\" points=\"118,-165.5 118,-201.5 \"/>\n<text text-anchor=\"middle\" x=\"159\" y=\"-179.8\" font-family=\"Times,serif\" font-size=\"14.00\">grad 0.0000</text>\n</g>\n<!-- 139479132888400* -->\n<g id=\"node13\" class=\"node\">\n<title>139479132888400*</title>\n<ellipse fill=\"none\" stroke=\"black\" cx=\"263\" cy=\"-128.5\" rx=\"27\" ry=\"18\"/>\n<text text-anchor=\"middle\" x=\"263\" y=\"-124.8\" font-family=\"Times,serif\" font-size=\"14.00\">*</text>\n</g>\n<!-- 139479132884512&#45;&gt;139479132888400* -->\n<g id=\"edge8\" class=\"edge\">\n<title>139479132884512&#45;&gt;139479132888400*</title>\n<path fill=\"none\" stroke=\"black\" d=\"M172.53,-165.44C181.84,-162.67 191.2,-159.67 200,-156.5 210.53,-152.71 221.75,-147.9 231.72,-143.33\"/>\n<polygon fill=\"black\" stroke=\"black\" points=\"233.25,-146.48 240.82,-139.07 230.28,-140.14 233.25,-146.48\"/>\n</g>\n<!-- 139479132890656 -->\n<g id=\"node2\" class=\"node\">\n<title>139479132890656</title>\n<polygon fill=\"none\" stroke=\"black\" points=\"666,-82.5 666,-118.5 925,-118.5 925,-82.5 666,-82.5\"/>\n<text text-anchor=\"middle\" x=\"712\" y=\"-96.8\" font-family=\"Times,serif\" font-size=\"14.00\">x1w1 + x2w2</text>\n<polyline fill=\"none\" stroke=\"black\" points=\"758,-82.5 758,-118.5 \"/>\n<text text-anchor=\"middle\" x=\"800.5\" y=\"-96.8\" font-family=\"Times,serif\" font-size=\"14.00\">data &#45;6.0000</text>\n<polyline fill=\"none\" stroke=\"black\" points=\"843,-82.5 843,-118.5 \"/>\n<text text-anchor=\"middle\" x=\"884\" y=\"-96.8\" font-family=\"Times,serif\" font-size=\"14.00\">grad 0.5000</text>\n</g>\n<!-- 139479132884032+ -->\n<g id=\"node5\" class=\"node\">\n<title>139479132884032+</title>\n<ellipse fill=\"none\" stroke=\"black\" cx=\"988\" cy=\"-72.5\" rx=\"27\" ry=\"18\"/>\n<text text-anchor=\"middle\" x=\"988\" y=\"-68.8\" font-family=\"Times,serif\" font-size=\"14.00\">+</text>\n</g>\n<!-- 139479132890656&#45;&gt;139479132884032+ -->\n<g id=\"edge7\" class=\"edge\">\n<title>139479132890656&#45;&gt;139479132884032+</title>\n<path fill=\"none\" stroke=\"black\" d=\"M919.03,-82.49C930.7,-80.77 941.77,-79.15 951.46,-77.72\"/>\n<polygon fill=\"black\" stroke=\"black\" points=\"952.01,-81.18 961.4,-76.26 951,-74.25 952.01,-81.18\"/>\n</g>\n<!-- 139479132890656+ -->\n<g id=\"node3\" class=\"node\">\n<title>139479132890656+</title>\n<ellipse fill=\"none\" stroke=\"black\" cx=\"603\" cy=\"-100.5\" rx=\"27\" ry=\"18\"/>\n<text text-anchor=\"middle\" x=\"603\" y=\"-96.8\" font-family=\"Times,serif\" font-size=\"14.00\">+</text>\n</g>\n<!-- 139479132890656+&#45;&gt;139479132890656 -->\n<g id=\"edge1\" class=\"edge\">\n<title>139479132890656+&#45;&gt;139479132890656</title>\n<path fill=\"none\" stroke=\"black\" d=\"M630.09,-100.5C637.58,-100.5 646.3,-100.5 655.75,-100.5\"/>\n<polygon fill=\"black\" stroke=\"black\" points=\"655.84,-104 665.84,-100.5 655.84,-97 655.84,-104\"/>\n</g>\n<!-- 139479132884032 -->\n<g id=\"node4\" class=\"node\">\n<title>139479132884032</title>\n<polygon fill=\"none\" stroke=\"black\" points=\"1051,-54.5 1051,-90.5 1236,-90.5 1236,-54.5 1051,-54.5\"/>\n<text text-anchor=\"middle\" x=\"1062.5\" y=\"-68.8\" font-family=\"Times,serif\" font-size=\"14.00\">n</text>\n<polyline fill=\"none\" stroke=\"black\" points=\"1074,-54.5 1074,-90.5 \"/>\n<text text-anchor=\"middle\" x=\"1114\" y=\"-68.8\" font-family=\"Times,serif\" font-size=\"14.00\">data 0.8814</text>\n<polyline fill=\"none\" stroke=\"black\" points=\"1154,-54.5 1154,-90.5 \"/>\n<text text-anchor=\"middle\" x=\"1195\" y=\"-68.8\" font-family=\"Times,serif\" font-size=\"14.00\">grad 0.5000</text>\n</g>\n<!-- 139479132892912tanh -->\n<g id=\"node10\" class=\"node\">\n<title>139479132892912tanh</title>\n<ellipse fill=\"none\" stroke=\"black\" cx=\"1299\" cy=\"-72.5\" rx=\"27\" ry=\"18\"/>\n<text text-anchor=\"middle\" x=\"1299\" y=\"-68.8\" font-family=\"Times,serif\" font-size=\"14.00\">tanh</text>\n</g>\n<!-- 139479132884032&#45;&gt;139479132892912tanh -->\n<g id=\"edge13\" class=\"edge\">\n<title>139479132884032&#45;&gt;139479132892912tanh</title>\n<path fill=\"none\" stroke=\"black\" d=\"M1236.01,-72.5C1245.01,-72.5 1253.74,-72.5 1261.66,-72.5\"/>\n<polygon fill=\"black\" stroke=\"black\" points=\"1261.91,-76 1271.91,-72.5 1261.91,-69 1261.91,-76\"/>\n</g>\n<!-- 139479132884032+&#45;&gt;139479132884032 -->\n<g id=\"edge2\" class=\"edge\">\n<title>139479132884032+&#45;&gt;139479132884032</title>\n<path fill=\"none\" stroke=\"black\" d=\"M1015.04,-72.5C1022.58,-72.5 1031.3,-72.5 1040.57,-72.5\"/>\n<polygon fill=\"black\" stroke=\"black\" points=\"1040.81,-76 1050.81,-72.5 1040.81,-69 1040.81,-76\"/>\n</g>\n<!-- 139479132889696 -->\n<g id=\"node6\" class=\"node\">\n<title>139479132889696</title>\n<polygon fill=\"none\" stroke=\"black\" points=\"328.5,-55.5 328.5,-91.5 537.5,-91.5 537.5,-55.5 328.5,-55.5\"/>\n<text text-anchor=\"middle\" x=\"352\" y=\"-69.8\" font-family=\"Times,serif\" font-size=\"14.00\">x2w2</text>\n<polyline fill=\"none\" stroke=\"black\" points=\"375.5,-55.5 375.5,-91.5 \"/>\n<text text-anchor=\"middle\" x=\"415.5\" y=\"-69.8\" font-family=\"Times,serif\" font-size=\"14.00\">data 0.0000</text>\n<polyline fill=\"none\" stroke=\"black\" points=\"455.5,-55.5 455.5,-91.5 \"/>\n<text text-anchor=\"middle\" x=\"496.5\" y=\"-69.8\" font-family=\"Times,serif\" font-size=\"14.00\">grad 0.5000</text>\n</g>\n<!-- 139479132889696&#45;&gt;139479132890656+ -->\n<g id=\"edge14\" class=\"edge\">\n<title>139479132889696&#45;&gt;139479132890656+</title>\n<path fill=\"none\" stroke=\"black\" d=\"M537.53,-90.14C547.8,-91.79 557.66,-93.37 566.45,-94.79\"/>\n<polygon fill=\"black\" stroke=\"black\" points=\"566.16,-98.28 576.59,-96.42 567.27,-91.37 566.16,-98.28\"/>\n</g>\n<!-- 139479132889696* -->\n<g id=\"node7\" class=\"node\">\n<title>139479132889696*</title>\n<ellipse fill=\"none\" stroke=\"black\" cx=\"263\" cy=\"-73.5\" rx=\"27\" ry=\"18\"/>\n<text text-anchor=\"middle\" x=\"263\" y=\"-69.8\" font-family=\"Times,serif\" font-size=\"14.00\">*</text>\n</g>\n<!-- 139479132889696*&#45;&gt;139479132889696 -->\n<g id=\"edge3\" class=\"edge\">\n<title>139479132889696*&#45;&gt;139479132889696</title>\n<path fill=\"none\" stroke=\"black\" d=\"M290.25,-73.5C298.43,-73.5 308.03,-73.5 318.31,-73.5\"/>\n<polygon fill=\"black\" stroke=\"black\" points=\"318.35,-77 328.35,-73.5 318.35,-70 318.35,-77\"/>\n</g>\n<!-- 139479132887248 -->\n<g id=\"node8\" class=\"node\">\n<title>139479132887248</title>\n<polygon fill=\"none\" stroke=\"black\" points=\"4,-55.5 4,-91.5 196,-91.5 196,-55.5 4,-55.5\"/>\n<text text-anchor=\"middle\" x=\"19\" y=\"-69.8\" font-family=\"Times,serif\" font-size=\"14.00\">x2</text>\n<polyline fill=\"none\" stroke=\"black\" points=\"34,-55.5 34,-91.5 \"/>\n<text text-anchor=\"middle\" x=\"74\" y=\"-69.8\" font-family=\"Times,serif\" font-size=\"14.00\">data 0.0000</text>\n<polyline fill=\"none\" stroke=\"black\" points=\"114,-55.5 114,-91.5 \"/>\n<text text-anchor=\"middle\" x=\"155\" y=\"-69.8\" font-family=\"Times,serif\" font-size=\"14.00\">grad 0.0000</text>\n</g>\n<!-- 139479132887248&#45;&gt;139479132889696* -->\n<g id=\"edge6\" class=\"edge\">\n<title>139479132887248&#45;&gt;139479132889696*</title>\n<path fill=\"none\" stroke=\"black\" d=\"M196.05,-73.5C206.52,-73.5 216.65,-73.5 225.71,-73.5\"/>\n<polygon fill=\"black\" stroke=\"black\" points=\"225.79,-77 235.79,-73.5 225.79,-70 225.79,-77\"/>\n</g>\n<!-- 139479132892912 -->\n<g id=\"node9\" class=\"node\">\n<title>139479132892912</title>\n<polygon fill=\"none\" stroke=\"black\" points=\"1362,-54.5 1362,-90.5 1547,-90.5 1547,-54.5 1362,-54.5\"/>\n<text text-anchor=\"middle\" x=\"1373.5\" y=\"-68.8\" font-family=\"Times,serif\" font-size=\"14.00\">o</text>\n<polyline fill=\"none\" stroke=\"black\" points=\"1385,-54.5 1385,-90.5 \"/>\n<text text-anchor=\"middle\" x=\"1425\" y=\"-68.8\" font-family=\"Times,serif\" font-size=\"14.00\">data 0.7071</text>\n<polyline fill=\"none\" stroke=\"black\" points=\"1465,-54.5 1465,-90.5 \"/>\n<text text-anchor=\"middle\" x=\"1506\" y=\"-68.8\" font-family=\"Times,serif\" font-size=\"14.00\">grad 1.0000</text>\n</g>\n<!-- 139479132892912tanh&#45;&gt;139479132892912 -->\n<g id=\"edge4\" class=\"edge\">\n<title>139479132892912tanh&#45;&gt;139479132892912</title>\n<path fill=\"none\" stroke=\"black\" d=\"M1326.04,-72.5C1333.58,-72.5 1342.3,-72.5 1351.57,-72.5\"/>\n<polygon fill=\"black\" stroke=\"black\" points=\"1351.81,-76 1361.81,-72.5 1351.81,-69 1351.81,-76\"/>\n</g>\n<!-- 139479132884800 -->\n<g id=\"node11\" class=\"node\">\n<title>139479132884800</title>\n<polygon fill=\"none\" stroke=\"black\" points=\"2.5,-0.5 2.5,-36.5 197.5,-36.5 197.5,-0.5 2.5,-0.5\"/>\n<text text-anchor=\"middle\" x=\"19\" y=\"-14.8\" font-family=\"Times,serif\" font-size=\"14.00\">w2</text>\n<polyline fill=\"none\" stroke=\"black\" points=\"35.5,-0.5 35.5,-36.5 \"/>\n<text text-anchor=\"middle\" x=\"75.5\" y=\"-14.8\" font-family=\"Times,serif\" font-size=\"14.00\">data 1.0000</text>\n<polyline fill=\"none\" stroke=\"black\" points=\"115.5,-0.5 115.5,-36.5 \"/>\n<text text-anchor=\"middle\" x=\"156.5\" y=\"-14.8\" font-family=\"Times,serif\" font-size=\"14.00\">grad 0.0000</text>\n</g>\n<!-- 139479132884800&#45;&gt;139479132889696* -->\n<g id=\"edge9\" class=\"edge\">\n<title>139479132884800&#45;&gt;139479132889696*</title>\n<path fill=\"none\" stroke=\"black\" d=\"M169.28,-36.5C179.65,-39.61 190.16,-42.98 200,-46.5 210.28,-50.17 221.28,-54.74 231.11,-59.07\"/>\n<polygon fill=\"black\" stroke=\"black\" points=\"229.93,-62.37 240.48,-63.27 232.79,-55.99 229.93,-62.37\"/>\n</g>\n<!-- 139479132888400 -->\n<g id=\"node12\" class=\"node\">\n<title>139479132888400</title>\n<polygon fill=\"none\" stroke=\"black\" points=\"326,-110.5 326,-146.5 540,-146.5 540,-110.5 326,-110.5\"/>\n<text text-anchor=\"middle\" x=\"349.5\" y=\"-124.8\" font-family=\"Times,serif\" font-size=\"14.00\">x1w1</text>\n<polyline fill=\"none\" stroke=\"black\" points=\"373,-110.5 373,-146.5 \"/>\n<text text-anchor=\"middle\" x=\"415.5\" y=\"-124.8\" font-family=\"Times,serif\" font-size=\"14.00\">data &#45;6.0000</text>\n<polyline fill=\"none\" stroke=\"black\" points=\"458,-110.5 458,-146.5 \"/>\n<text text-anchor=\"middle\" x=\"499\" y=\"-124.8\" font-family=\"Times,serif\" font-size=\"14.00\">grad 0.5000</text>\n</g>\n<!-- 139479132888400&#45;&gt;139479132890656+ -->\n<g id=\"edge11\" class=\"edge\">\n<title>139479132888400&#45;&gt;139479132890656+</title>\n<path fill=\"none\" stroke=\"black\" d=\"M540.4,-110.77C549.72,-109.21 558.65,-107.72 566.68,-106.39\"/>\n<polygon fill=\"black\" stroke=\"black\" points=\"567.38,-109.82 576.66,-104.72 566.22,-102.91 567.38,-109.82\"/>\n</g>\n<!-- 139479132888400*&#45;&gt;139479132888400 -->\n<g id=\"edge5\" class=\"edge\">\n<title>139479132888400*&#45;&gt;139479132888400</title>\n<path fill=\"none\" stroke=\"black\" d=\"M290.25,-128.5C297.7,-128.5 306.34,-128.5 315.59,-128.5\"/>\n<polygon fill=\"black\" stroke=\"black\" points=\"315.84,-132 325.84,-128.5 315.84,-125 315.84,-132\"/>\n</g>\n<!-- 139479132885328 -->\n<g id=\"node14\" class=\"node\">\n<title>139479132885328</title>\n<polygon fill=\"none\" stroke=\"black\" points=\"703,-27.5 703,-63.5 888,-63.5 888,-27.5 703,-27.5\"/>\n<text text-anchor=\"middle\" x=\"714.5\" y=\"-41.8\" font-family=\"Times,serif\" font-size=\"14.00\">b</text>\n<polyline fill=\"none\" stroke=\"black\" points=\"726,-27.5 726,-63.5 \"/>\n<text text-anchor=\"middle\" x=\"766\" y=\"-41.8\" font-family=\"Times,serif\" font-size=\"14.00\">data 6.8814</text>\n<polyline fill=\"none\" stroke=\"black\" points=\"806,-27.5 806,-63.5 \"/>\n<text text-anchor=\"middle\" x=\"847\" y=\"-41.8\" font-family=\"Times,serif\" font-size=\"14.00\">grad 0.5000</text>\n</g>\n<!-- 139479132885328&#45;&gt;139479132884032+ -->\n<g id=\"edge10\" class=\"edge\">\n<title>139479132885328&#45;&gt;139479132884032+</title>\n<path fill=\"none\" stroke=\"black\" d=\"M888.12,-58.49C910.59,-61.67 933.33,-64.89 951.33,-67.44\"/>\n<polygon fill=\"black\" stroke=\"black\" points=\"950.95,-70.93 961.34,-68.86 951.93,-63.99 950.95,-70.93\"/>\n</g>\n<!-- 139479132884944 -->\n<g id=\"node15\" class=\"node\">\n<title>139479132884944</title>\n<polygon fill=\"none\" stroke=\"black\" points=\"4,-110.5 4,-146.5 196,-146.5 196,-110.5 4,-110.5\"/>\n<text text-anchor=\"middle\" x=\"19\" y=\"-124.8\" font-family=\"Times,serif\" font-size=\"14.00\">x1</text>\n<polyline fill=\"none\" stroke=\"black\" points=\"34,-110.5 34,-146.5 \"/>\n<text text-anchor=\"middle\" x=\"74\" y=\"-124.8\" font-family=\"Times,serif\" font-size=\"14.00\">data 2.0000</text>\n<polyline fill=\"none\" stroke=\"black\" points=\"114,-110.5 114,-146.5 \"/>\n<text text-anchor=\"middle\" x=\"155\" y=\"-124.8\" font-family=\"Times,serif\" font-size=\"14.00\">grad 0.0000</text>\n</g>\n<!-- 139479132884944&#45;&gt;139479132888400* -->\n<g id=\"edge12\" class=\"edge\">\n<title>139479132884944&#45;&gt;139479132888400*</title>\n<path fill=\"none\" stroke=\"black\" d=\"M196.05,-128.5C206.52,-128.5 216.65,-128.5 225.71,-128.5\"/>\n<polygon fill=\"black\" stroke=\"black\" points=\"225.79,-132 235.79,-128.5 225.79,-125 225.79,-132\"/>\n</g>\n</g>\n</svg>\n",
            "text/plain": [
              "<graphviz.graphs.Digraph at 0x7edb042b6c50>"
            ]
          },
          "metadata": {},
          "execution_count": 64
        }
      ]
    },
    {
      "cell_type": "code",
      "source": [
        "x1w1._backward()\n",
        "x2w2._backward()\n",
        "\n",
        "draw_dot(o)"
      ],
      "metadata": {
        "colab": {
          "base_uri": "https://localhost:8080/",
          "height": 321
        },
        "id": "Melg85LbaBlW",
        "outputId": "972589c1-19f3-4cec-c9a4-a5fb046bc0f0"
      },
      "execution_count": 65,
      "outputs": [
        {
          "output_type": "execute_result",
          "data": {
            "image/svg+xml": "<?xml version=\"1.0\" encoding=\"UTF-8\" standalone=\"no\"?>\n<!DOCTYPE svg PUBLIC \"-//W3C//DTD SVG 1.1//EN\"\n \"http://www.w3.org/Graphics/SVG/1.1/DTD/svg11.dtd\">\n<!-- Generated by graphviz version 2.43.0 (0)\n -->\n<!-- Title: %3 Pages: 1 -->\n<svg width=\"1555pt\" height=\"210pt\"\n viewBox=\"0.00 0.00 1555.00 210.00\" xmlns=\"http://www.w3.org/2000/svg\" xmlns:xlink=\"http://www.w3.org/1999/xlink\">\n<g id=\"graph0\" class=\"graph\" transform=\"scale(1 1) rotate(0) translate(4 206)\">\n<title>%3</title>\n<polygon fill=\"white\" stroke=\"transparent\" points=\"-4,4 -4,-206 1551,-206 1551,4 -4,4\"/>\n<!-- 139479132884512 -->\n<g id=\"node1\" class=\"node\">\n<title>139479132884512</title>\n<polygon fill=\"none\" stroke=\"black\" points=\"0,-165.5 0,-201.5 200,-201.5 200,-165.5 0,-165.5\"/>\n<text text-anchor=\"middle\" x=\"16.5\" y=\"-179.8\" font-family=\"Times,serif\" font-size=\"14.00\">w1</text>\n<polyline fill=\"none\" stroke=\"black\" points=\"33,-165.5 33,-201.5 \"/>\n<text text-anchor=\"middle\" x=\"75.5\" y=\"-179.8\" font-family=\"Times,serif\" font-size=\"14.00\">data &#45;3.0000</text>\n<polyline fill=\"none\" stroke=\"black\" points=\"118,-165.5 118,-201.5 \"/>\n<text text-anchor=\"middle\" x=\"159\" y=\"-179.8\" font-family=\"Times,serif\" font-size=\"14.00\">grad 1.0000</text>\n</g>\n<!-- 139479132888400* -->\n<g id=\"node13\" class=\"node\">\n<title>139479132888400*</title>\n<ellipse fill=\"none\" stroke=\"black\" cx=\"263\" cy=\"-128.5\" rx=\"27\" ry=\"18\"/>\n<text text-anchor=\"middle\" x=\"263\" y=\"-124.8\" font-family=\"Times,serif\" font-size=\"14.00\">*</text>\n</g>\n<!-- 139479132884512&#45;&gt;139479132888400* -->\n<g id=\"edge8\" class=\"edge\">\n<title>139479132884512&#45;&gt;139479132888400*</title>\n<path fill=\"none\" stroke=\"black\" d=\"M172.53,-165.44C181.84,-162.67 191.2,-159.67 200,-156.5 210.53,-152.71 221.75,-147.9 231.72,-143.33\"/>\n<polygon fill=\"black\" stroke=\"black\" points=\"233.25,-146.48 240.82,-139.07 230.28,-140.14 233.25,-146.48\"/>\n</g>\n<!-- 139479132890656 -->\n<g id=\"node2\" class=\"node\">\n<title>139479132890656</title>\n<polygon fill=\"none\" stroke=\"black\" points=\"666,-82.5 666,-118.5 925,-118.5 925,-82.5 666,-82.5\"/>\n<text text-anchor=\"middle\" x=\"712\" y=\"-96.8\" font-family=\"Times,serif\" font-size=\"14.00\">x1w1 + x2w2</text>\n<polyline fill=\"none\" stroke=\"black\" points=\"758,-82.5 758,-118.5 \"/>\n<text text-anchor=\"middle\" x=\"800.5\" y=\"-96.8\" font-family=\"Times,serif\" font-size=\"14.00\">data &#45;6.0000</text>\n<polyline fill=\"none\" stroke=\"black\" points=\"843,-82.5 843,-118.5 \"/>\n<text text-anchor=\"middle\" x=\"884\" y=\"-96.8\" font-family=\"Times,serif\" font-size=\"14.00\">grad 0.5000</text>\n</g>\n<!-- 139479132884032+ -->\n<g id=\"node5\" class=\"node\">\n<title>139479132884032+</title>\n<ellipse fill=\"none\" stroke=\"black\" cx=\"988\" cy=\"-72.5\" rx=\"27\" ry=\"18\"/>\n<text text-anchor=\"middle\" x=\"988\" y=\"-68.8\" font-family=\"Times,serif\" font-size=\"14.00\">+</text>\n</g>\n<!-- 139479132890656&#45;&gt;139479132884032+ -->\n<g id=\"edge7\" class=\"edge\">\n<title>139479132890656&#45;&gt;139479132884032+</title>\n<path fill=\"none\" stroke=\"black\" d=\"M919.03,-82.49C930.7,-80.77 941.77,-79.15 951.46,-77.72\"/>\n<polygon fill=\"black\" stroke=\"black\" points=\"952.01,-81.18 961.4,-76.26 951,-74.25 952.01,-81.18\"/>\n</g>\n<!-- 139479132890656+ -->\n<g id=\"node3\" class=\"node\">\n<title>139479132890656+</title>\n<ellipse fill=\"none\" stroke=\"black\" cx=\"603\" cy=\"-100.5\" rx=\"27\" ry=\"18\"/>\n<text text-anchor=\"middle\" x=\"603\" y=\"-96.8\" font-family=\"Times,serif\" font-size=\"14.00\">+</text>\n</g>\n<!-- 139479132890656+&#45;&gt;139479132890656 -->\n<g id=\"edge1\" class=\"edge\">\n<title>139479132890656+&#45;&gt;139479132890656</title>\n<path fill=\"none\" stroke=\"black\" d=\"M630.09,-100.5C637.58,-100.5 646.3,-100.5 655.75,-100.5\"/>\n<polygon fill=\"black\" stroke=\"black\" points=\"655.84,-104 665.84,-100.5 655.84,-97 655.84,-104\"/>\n</g>\n<!-- 139479132884032 -->\n<g id=\"node4\" class=\"node\">\n<title>139479132884032</title>\n<polygon fill=\"none\" stroke=\"black\" points=\"1051,-54.5 1051,-90.5 1236,-90.5 1236,-54.5 1051,-54.5\"/>\n<text text-anchor=\"middle\" x=\"1062.5\" y=\"-68.8\" font-family=\"Times,serif\" font-size=\"14.00\">n</text>\n<polyline fill=\"none\" stroke=\"black\" points=\"1074,-54.5 1074,-90.5 \"/>\n<text text-anchor=\"middle\" x=\"1114\" y=\"-68.8\" font-family=\"Times,serif\" font-size=\"14.00\">data 0.8814</text>\n<polyline fill=\"none\" stroke=\"black\" points=\"1154,-54.5 1154,-90.5 \"/>\n<text text-anchor=\"middle\" x=\"1195\" y=\"-68.8\" font-family=\"Times,serif\" font-size=\"14.00\">grad 0.5000</text>\n</g>\n<!-- 139479132892912tanh -->\n<g id=\"node10\" class=\"node\">\n<title>139479132892912tanh</title>\n<ellipse fill=\"none\" stroke=\"black\" cx=\"1299\" cy=\"-72.5\" rx=\"27\" ry=\"18\"/>\n<text text-anchor=\"middle\" x=\"1299\" y=\"-68.8\" font-family=\"Times,serif\" font-size=\"14.00\">tanh</text>\n</g>\n<!-- 139479132884032&#45;&gt;139479132892912tanh -->\n<g id=\"edge13\" class=\"edge\">\n<title>139479132884032&#45;&gt;139479132892912tanh</title>\n<path fill=\"none\" stroke=\"black\" d=\"M1236.01,-72.5C1245.01,-72.5 1253.74,-72.5 1261.66,-72.5\"/>\n<polygon fill=\"black\" stroke=\"black\" points=\"1261.91,-76 1271.91,-72.5 1261.91,-69 1261.91,-76\"/>\n</g>\n<!-- 139479132884032+&#45;&gt;139479132884032 -->\n<g id=\"edge2\" class=\"edge\">\n<title>139479132884032+&#45;&gt;139479132884032</title>\n<path fill=\"none\" stroke=\"black\" d=\"M1015.04,-72.5C1022.58,-72.5 1031.3,-72.5 1040.57,-72.5\"/>\n<polygon fill=\"black\" stroke=\"black\" points=\"1040.81,-76 1050.81,-72.5 1040.81,-69 1040.81,-76\"/>\n</g>\n<!-- 139479132889696 -->\n<g id=\"node6\" class=\"node\">\n<title>139479132889696</title>\n<polygon fill=\"none\" stroke=\"black\" points=\"328.5,-55.5 328.5,-91.5 537.5,-91.5 537.5,-55.5 328.5,-55.5\"/>\n<text text-anchor=\"middle\" x=\"352\" y=\"-69.8\" font-family=\"Times,serif\" font-size=\"14.00\">x2w2</text>\n<polyline fill=\"none\" stroke=\"black\" points=\"375.5,-55.5 375.5,-91.5 \"/>\n<text text-anchor=\"middle\" x=\"415.5\" y=\"-69.8\" font-family=\"Times,serif\" font-size=\"14.00\">data 0.0000</text>\n<polyline fill=\"none\" stroke=\"black\" points=\"455.5,-55.5 455.5,-91.5 \"/>\n<text text-anchor=\"middle\" x=\"496.5\" y=\"-69.8\" font-family=\"Times,serif\" font-size=\"14.00\">grad 0.5000</text>\n</g>\n<!-- 139479132889696&#45;&gt;139479132890656+ -->\n<g id=\"edge14\" class=\"edge\">\n<title>139479132889696&#45;&gt;139479132890656+</title>\n<path fill=\"none\" stroke=\"black\" d=\"M537.53,-90.14C547.8,-91.79 557.66,-93.37 566.45,-94.79\"/>\n<polygon fill=\"black\" stroke=\"black\" points=\"566.16,-98.28 576.59,-96.42 567.27,-91.37 566.16,-98.28\"/>\n</g>\n<!-- 139479132889696* -->\n<g id=\"node7\" class=\"node\">\n<title>139479132889696*</title>\n<ellipse fill=\"none\" stroke=\"black\" cx=\"263\" cy=\"-73.5\" rx=\"27\" ry=\"18\"/>\n<text text-anchor=\"middle\" x=\"263\" y=\"-69.8\" font-family=\"Times,serif\" font-size=\"14.00\">*</text>\n</g>\n<!-- 139479132889696*&#45;&gt;139479132889696 -->\n<g id=\"edge3\" class=\"edge\">\n<title>139479132889696*&#45;&gt;139479132889696</title>\n<path fill=\"none\" stroke=\"black\" d=\"M290.25,-73.5C298.43,-73.5 308.03,-73.5 318.31,-73.5\"/>\n<polygon fill=\"black\" stroke=\"black\" points=\"318.35,-77 328.35,-73.5 318.35,-70 318.35,-77\"/>\n</g>\n<!-- 139479132887248 -->\n<g id=\"node8\" class=\"node\">\n<title>139479132887248</title>\n<polygon fill=\"none\" stroke=\"black\" points=\"4,-55.5 4,-91.5 196,-91.5 196,-55.5 4,-55.5\"/>\n<text text-anchor=\"middle\" x=\"19\" y=\"-69.8\" font-family=\"Times,serif\" font-size=\"14.00\">x2</text>\n<polyline fill=\"none\" stroke=\"black\" points=\"34,-55.5 34,-91.5 \"/>\n<text text-anchor=\"middle\" x=\"74\" y=\"-69.8\" font-family=\"Times,serif\" font-size=\"14.00\">data 0.0000</text>\n<polyline fill=\"none\" stroke=\"black\" points=\"114,-55.5 114,-91.5 \"/>\n<text text-anchor=\"middle\" x=\"155\" y=\"-69.8\" font-family=\"Times,serif\" font-size=\"14.00\">grad 0.5000</text>\n</g>\n<!-- 139479132887248&#45;&gt;139479132889696* -->\n<g id=\"edge6\" class=\"edge\">\n<title>139479132887248&#45;&gt;139479132889696*</title>\n<path fill=\"none\" stroke=\"black\" d=\"M196.05,-73.5C206.52,-73.5 216.65,-73.5 225.71,-73.5\"/>\n<polygon fill=\"black\" stroke=\"black\" points=\"225.79,-77 235.79,-73.5 225.79,-70 225.79,-77\"/>\n</g>\n<!-- 139479132892912 -->\n<g id=\"node9\" class=\"node\">\n<title>139479132892912</title>\n<polygon fill=\"none\" stroke=\"black\" points=\"1362,-54.5 1362,-90.5 1547,-90.5 1547,-54.5 1362,-54.5\"/>\n<text text-anchor=\"middle\" x=\"1373.5\" y=\"-68.8\" font-family=\"Times,serif\" font-size=\"14.00\">o</text>\n<polyline fill=\"none\" stroke=\"black\" points=\"1385,-54.5 1385,-90.5 \"/>\n<text text-anchor=\"middle\" x=\"1425\" y=\"-68.8\" font-family=\"Times,serif\" font-size=\"14.00\">data 0.7071</text>\n<polyline fill=\"none\" stroke=\"black\" points=\"1465,-54.5 1465,-90.5 \"/>\n<text text-anchor=\"middle\" x=\"1506\" y=\"-68.8\" font-family=\"Times,serif\" font-size=\"14.00\">grad 1.0000</text>\n</g>\n<!-- 139479132892912tanh&#45;&gt;139479132892912 -->\n<g id=\"edge4\" class=\"edge\">\n<title>139479132892912tanh&#45;&gt;139479132892912</title>\n<path fill=\"none\" stroke=\"black\" d=\"M1326.04,-72.5C1333.58,-72.5 1342.3,-72.5 1351.57,-72.5\"/>\n<polygon fill=\"black\" stroke=\"black\" points=\"1351.81,-76 1361.81,-72.5 1351.81,-69 1351.81,-76\"/>\n</g>\n<!-- 139479132884800 -->\n<g id=\"node11\" class=\"node\">\n<title>139479132884800</title>\n<polygon fill=\"none\" stroke=\"black\" points=\"2.5,-0.5 2.5,-36.5 197.5,-36.5 197.5,-0.5 2.5,-0.5\"/>\n<text text-anchor=\"middle\" x=\"19\" y=\"-14.8\" font-family=\"Times,serif\" font-size=\"14.00\">w2</text>\n<polyline fill=\"none\" stroke=\"black\" points=\"35.5,-0.5 35.5,-36.5 \"/>\n<text text-anchor=\"middle\" x=\"75.5\" y=\"-14.8\" font-family=\"Times,serif\" font-size=\"14.00\">data 1.0000</text>\n<polyline fill=\"none\" stroke=\"black\" points=\"115.5,-0.5 115.5,-36.5 \"/>\n<text text-anchor=\"middle\" x=\"156.5\" y=\"-14.8\" font-family=\"Times,serif\" font-size=\"14.00\">grad 0.0000</text>\n</g>\n<!-- 139479132884800&#45;&gt;139479132889696* -->\n<g id=\"edge9\" class=\"edge\">\n<title>139479132884800&#45;&gt;139479132889696*</title>\n<path fill=\"none\" stroke=\"black\" d=\"M169.28,-36.5C179.65,-39.61 190.16,-42.98 200,-46.5 210.28,-50.17 221.28,-54.74 231.11,-59.07\"/>\n<polygon fill=\"black\" stroke=\"black\" points=\"229.93,-62.37 240.48,-63.27 232.79,-55.99 229.93,-62.37\"/>\n</g>\n<!-- 139479132888400 -->\n<g id=\"node12\" class=\"node\">\n<title>139479132888400</title>\n<polygon fill=\"none\" stroke=\"black\" points=\"326,-110.5 326,-146.5 540,-146.5 540,-110.5 326,-110.5\"/>\n<text text-anchor=\"middle\" x=\"349.5\" y=\"-124.8\" font-family=\"Times,serif\" font-size=\"14.00\">x1w1</text>\n<polyline fill=\"none\" stroke=\"black\" points=\"373,-110.5 373,-146.5 \"/>\n<text text-anchor=\"middle\" x=\"415.5\" y=\"-124.8\" font-family=\"Times,serif\" font-size=\"14.00\">data &#45;6.0000</text>\n<polyline fill=\"none\" stroke=\"black\" points=\"458,-110.5 458,-146.5 \"/>\n<text text-anchor=\"middle\" x=\"499\" y=\"-124.8\" font-family=\"Times,serif\" font-size=\"14.00\">grad 0.5000</text>\n</g>\n<!-- 139479132888400&#45;&gt;139479132890656+ -->\n<g id=\"edge11\" class=\"edge\">\n<title>139479132888400&#45;&gt;139479132890656+</title>\n<path fill=\"none\" stroke=\"black\" d=\"M540.4,-110.77C549.72,-109.21 558.65,-107.72 566.68,-106.39\"/>\n<polygon fill=\"black\" stroke=\"black\" points=\"567.38,-109.82 576.66,-104.72 566.22,-102.91 567.38,-109.82\"/>\n</g>\n<!-- 139479132888400*&#45;&gt;139479132888400 -->\n<g id=\"edge5\" class=\"edge\">\n<title>139479132888400*&#45;&gt;139479132888400</title>\n<path fill=\"none\" stroke=\"black\" d=\"M290.25,-128.5C297.7,-128.5 306.34,-128.5 315.59,-128.5\"/>\n<polygon fill=\"black\" stroke=\"black\" points=\"315.84,-132 325.84,-128.5 315.84,-125 315.84,-132\"/>\n</g>\n<!-- 139479132885328 -->\n<g id=\"node14\" class=\"node\">\n<title>139479132885328</title>\n<polygon fill=\"none\" stroke=\"black\" points=\"703,-27.5 703,-63.5 888,-63.5 888,-27.5 703,-27.5\"/>\n<text text-anchor=\"middle\" x=\"714.5\" y=\"-41.8\" font-family=\"Times,serif\" font-size=\"14.00\">b</text>\n<polyline fill=\"none\" stroke=\"black\" points=\"726,-27.5 726,-63.5 \"/>\n<text text-anchor=\"middle\" x=\"766\" y=\"-41.8\" font-family=\"Times,serif\" font-size=\"14.00\">data 6.8814</text>\n<polyline fill=\"none\" stroke=\"black\" points=\"806,-27.5 806,-63.5 \"/>\n<text text-anchor=\"middle\" x=\"847\" y=\"-41.8\" font-family=\"Times,serif\" font-size=\"14.00\">grad 0.5000</text>\n</g>\n<!-- 139479132885328&#45;&gt;139479132884032+ -->\n<g id=\"edge10\" class=\"edge\">\n<title>139479132885328&#45;&gt;139479132884032+</title>\n<path fill=\"none\" stroke=\"black\" d=\"M888.12,-58.49C910.59,-61.67 933.33,-64.89 951.33,-67.44\"/>\n<polygon fill=\"black\" stroke=\"black\" points=\"950.95,-70.93 961.34,-68.86 951.93,-63.99 950.95,-70.93\"/>\n</g>\n<!-- 139479132884944 -->\n<g id=\"node15\" class=\"node\">\n<title>139479132884944</title>\n<polygon fill=\"none\" stroke=\"black\" points=\"2,-110.5 2,-146.5 198,-146.5 198,-110.5 2,-110.5\"/>\n<text text-anchor=\"middle\" x=\"17\" y=\"-124.8\" font-family=\"Times,serif\" font-size=\"14.00\">x1</text>\n<polyline fill=\"none\" stroke=\"black\" points=\"32,-110.5 32,-146.5 \"/>\n<text text-anchor=\"middle\" x=\"72\" y=\"-124.8\" font-family=\"Times,serif\" font-size=\"14.00\">data 2.0000</text>\n<polyline fill=\"none\" stroke=\"black\" points=\"112,-110.5 112,-146.5 \"/>\n<text text-anchor=\"middle\" x=\"155\" y=\"-124.8\" font-family=\"Times,serif\" font-size=\"14.00\">grad &#45;1.5000</text>\n</g>\n<!-- 139479132884944&#45;&gt;139479132888400* -->\n<g id=\"edge12\" class=\"edge\">\n<title>139479132884944&#45;&gt;139479132888400*</title>\n<path fill=\"none\" stroke=\"black\" d=\"M198.37,-128.5C208.05,-128.5 217.4,-128.5 225.8,-128.5\"/>\n<polygon fill=\"black\" stroke=\"black\" points=\"225.91,-132 235.91,-128.5 225.91,-125 225.91,-132\"/>\n</g>\n</g>\n</svg>\n",
            "text/plain": [
              "<graphviz.graphs.Digraph at 0x7edb042b7c10>"
            ]
          },
          "metadata": {},
          "execution_count": 65
        }
      ]
    },
    {
      "cell_type": "markdown",
      "source": [
        "#### Ordering of the graphs\n",
        "\n",
        "One last thing, we need to get rid of calling this backward function manually. We have laid out all the expression, and then we have flow backward through it. Saying that, we never want to call a backward for any node before we done evrthing after it means until, we have actually done the forward pass, until we have all that has to propogate back.\n",
        "\n",
        "This ordering of graph can be achieved by topological sort"
      ],
      "metadata": {
        "id": "FiHz17DPcpAS"
      }
    },
    {
      "cell_type": "code",
      "source": [
        "topo = []\n",
        "visited = set()\n",
        "\n",
        "def build_topo(v):\n",
        "    if v not in visited:\n",
        "        visited.add(v)\n",
        "        for child in v.prev:\n",
        "            build_topo(child)\n",
        "        topo.append(v)\n",
        "\n",
        "build_topo(o)\n",
        "topo"
      ],
      "metadata": {
        "colab": {
          "base_uri": "https://localhost:8080/"
        },
        "id": "aM3sumHbaZ4V",
        "outputId": "d5ed2d90-cdfe-4b50-8bda-bb1e8bd7a950"
      },
      "execution_count": 66,
      "outputs": [
        {
          "output_type": "execute_result",
          "data": {
            "text/plain": [
              "[Value(data=-3.0),\n",
              " Value(data=2.0),\n",
              " Value(data=-6.0),\n",
              " Value(data=1.0),\n",
              " Value(data=0.0),\n",
              " Value(data=0.0),\n",
              " Value(data=-6.0),\n",
              " Value(data=6.8813635870195435),\n",
              " Value(data=0.8813635870195435),\n",
              " Value(data=0.7071017811511924)]"
            ]
          },
          "metadata": {},
          "execution_count": 66
        }
      ]
    },
    {
      "cell_type": "code",
      "source": [
        "#inputs\n",
        "x1 = Value(2.0, label='x1')\n",
        "x2 = Value(0.0, label='x2')\n",
        "\n",
        "# weights w1, w2\n",
        "w1 = Value(-3.0, label='w1')\n",
        "w2 = Value(1.0, label='w2')\n",
        "\n",
        "# bias of the neuron\n",
        "b = Value(6.8813635870195432, label='b') # intentionally using the value so that backpropogation number are nice\n",
        "\n",
        "#x1w1, x2w2\n",
        "x1w1 = x1 * w1; x1w1.label='x1w1'\n",
        "x2w2 = x2 * w2; x2w2.label='x2w2'\n",
        "x1w1x2w2 = x1w1 + x2w2; x1w1x2w2.label='x1w1 + x2w2'\n",
        "\n",
        "n = x1w1x2w2 + b; n.label='n'\n",
        "\n",
        "#activation\n",
        "o = n.tanh()  # note we won't do a tanh operation here as we haven't implemented that function\n",
        "o.label='o'\n",
        "\n",
        "# visualize\n",
        "draw_dot(o)"
      ],
      "metadata": {
        "colab": {
          "base_uri": "https://localhost:8080/",
          "height": 321
        },
        "id": "KEMN1qUYn8H1",
        "outputId": "f9ff1148-947b-4f3d-d6ac-ae254eba8d01"
      },
      "execution_count": 67,
      "outputs": [
        {
          "output_type": "execute_result",
          "data": {
            "image/svg+xml": "<?xml version=\"1.0\" encoding=\"UTF-8\" standalone=\"no\"?>\n<!DOCTYPE svg PUBLIC \"-//W3C//DTD SVG 1.1//EN\"\n \"http://www.w3.org/Graphics/SVG/1.1/DTD/svg11.dtd\">\n<!-- Generated by graphviz version 2.43.0 (0)\n -->\n<!-- Title: %3 Pages: 1 -->\n<svg width=\"1555pt\" height=\"210pt\"\n viewBox=\"0.00 0.00 1555.00 210.00\" xmlns=\"http://www.w3.org/2000/svg\" xmlns:xlink=\"http://www.w3.org/1999/xlink\">\n<g id=\"graph0\" class=\"graph\" transform=\"scale(1 1) rotate(0) translate(4 206)\">\n<title>%3</title>\n<polygon fill=\"white\" stroke=\"transparent\" points=\"-4,4 -4,-206 1551,-206 1551,4 -4,4\"/>\n<!-- 139479132880960 -->\n<g id=\"node1\" class=\"node\">\n<title>139479132880960</title>\n<polygon fill=\"none\" stroke=\"black\" points=\"1051,-54.5 1051,-90.5 1236,-90.5 1236,-54.5 1051,-54.5\"/>\n<text text-anchor=\"middle\" x=\"1062.5\" y=\"-68.8\" font-family=\"Times,serif\" font-size=\"14.00\">n</text>\n<polyline fill=\"none\" stroke=\"black\" points=\"1074,-54.5 1074,-90.5 \"/>\n<text text-anchor=\"middle\" x=\"1114\" y=\"-68.8\" font-family=\"Times,serif\" font-size=\"14.00\">data 0.8814</text>\n<polyline fill=\"none\" stroke=\"black\" points=\"1154,-54.5 1154,-90.5 \"/>\n<text text-anchor=\"middle\" x=\"1195\" y=\"-68.8\" font-family=\"Times,serif\" font-size=\"14.00\">grad 0.0000</text>\n</g>\n<!-- 139479132881728tanh -->\n<g id=\"node15\" class=\"node\">\n<title>139479132881728tanh</title>\n<ellipse fill=\"none\" stroke=\"black\" cx=\"1299\" cy=\"-72.5\" rx=\"27\" ry=\"18\"/>\n<text text-anchor=\"middle\" x=\"1299\" y=\"-68.8\" font-family=\"Times,serif\" font-size=\"14.00\">tanh</text>\n</g>\n<!-- 139479132880960&#45;&gt;139479132881728tanh -->\n<g id=\"edge7\" class=\"edge\">\n<title>139479132880960&#45;&gt;139479132881728tanh</title>\n<path fill=\"none\" stroke=\"black\" d=\"M1236.01,-72.5C1245.01,-72.5 1253.74,-72.5 1261.66,-72.5\"/>\n<polygon fill=\"black\" stroke=\"black\" points=\"1261.91,-76 1271.91,-72.5 1261.91,-69 1261.91,-76\"/>\n</g>\n<!-- 139479132880960+ -->\n<g id=\"node2\" class=\"node\">\n<title>139479132880960+</title>\n<ellipse fill=\"none\" stroke=\"black\" cx=\"988\" cy=\"-72.5\" rx=\"27\" ry=\"18\"/>\n<text text-anchor=\"middle\" x=\"988\" y=\"-68.8\" font-family=\"Times,serif\" font-size=\"14.00\">+</text>\n</g>\n<!-- 139479132880960+&#45;&gt;139479132880960 -->\n<g id=\"edge1\" class=\"edge\">\n<title>139479132880960+&#45;&gt;139479132880960</title>\n<path fill=\"none\" stroke=\"black\" d=\"M1015.04,-72.5C1022.58,-72.5 1031.3,-72.5 1040.57,-72.5\"/>\n<polygon fill=\"black\" stroke=\"black\" points=\"1040.81,-76 1050.81,-72.5 1040.81,-69 1040.81,-76\"/>\n</g>\n<!-- 139479132887632 -->\n<g id=\"node3\" class=\"node\">\n<title>139479132887632</title>\n<polygon fill=\"none\" stroke=\"black\" points=\"666,-82.5 666,-118.5 925,-118.5 925,-82.5 666,-82.5\"/>\n<text text-anchor=\"middle\" x=\"712\" y=\"-96.8\" font-family=\"Times,serif\" font-size=\"14.00\">x1w1 + x2w2</text>\n<polyline fill=\"none\" stroke=\"black\" points=\"758,-82.5 758,-118.5 \"/>\n<text text-anchor=\"middle\" x=\"800.5\" y=\"-96.8\" font-family=\"Times,serif\" font-size=\"14.00\">data &#45;6.0000</text>\n<polyline fill=\"none\" stroke=\"black\" points=\"843,-82.5 843,-118.5 \"/>\n<text text-anchor=\"middle\" x=\"884\" y=\"-96.8\" font-family=\"Times,serif\" font-size=\"14.00\">grad 0.0000</text>\n</g>\n<!-- 139479132887632&#45;&gt;139479132880960+ -->\n<g id=\"edge6\" class=\"edge\">\n<title>139479132887632&#45;&gt;139479132880960+</title>\n<path fill=\"none\" stroke=\"black\" d=\"M919.03,-82.49C930.7,-80.77 941.77,-79.15 951.46,-77.72\"/>\n<polygon fill=\"black\" stroke=\"black\" points=\"952.01,-81.18 961.4,-76.26 951,-74.25 952.01,-81.18\"/>\n</g>\n<!-- 139479132887632+ -->\n<g id=\"node4\" class=\"node\">\n<title>139479132887632+</title>\n<ellipse fill=\"none\" stroke=\"black\" cx=\"603\" cy=\"-100.5\" rx=\"27\" ry=\"18\"/>\n<text text-anchor=\"middle\" x=\"603\" y=\"-96.8\" font-family=\"Times,serif\" font-size=\"14.00\">+</text>\n</g>\n<!-- 139479132887632+&#45;&gt;139479132887632 -->\n<g id=\"edge2\" class=\"edge\">\n<title>139479132887632+&#45;&gt;139479132887632</title>\n<path fill=\"none\" stroke=\"black\" d=\"M630.09,-100.5C637.58,-100.5 646.3,-100.5 655.75,-100.5\"/>\n<polygon fill=\"black\" stroke=\"black\" points=\"655.84,-104 665.84,-100.5 655.84,-97 655.84,-104\"/>\n</g>\n<!-- 139479132892768 -->\n<g id=\"node5\" class=\"node\">\n<title>139479132892768</title>\n<polygon fill=\"none\" stroke=\"black\" points=\"4,-165.5 4,-201.5 196,-201.5 196,-165.5 4,-165.5\"/>\n<text text-anchor=\"middle\" x=\"19\" y=\"-179.8\" font-family=\"Times,serif\" font-size=\"14.00\">x1</text>\n<polyline fill=\"none\" stroke=\"black\" points=\"34,-165.5 34,-201.5 \"/>\n<text text-anchor=\"middle\" x=\"74\" y=\"-179.8\" font-family=\"Times,serif\" font-size=\"14.00\">data 2.0000</text>\n<polyline fill=\"none\" stroke=\"black\" points=\"114,-165.5 114,-201.5 \"/>\n<text text-anchor=\"middle\" x=\"155\" y=\"-179.8\" font-family=\"Times,serif\" font-size=\"14.00\">grad 0.0000</text>\n</g>\n<!-- 139479132893824* -->\n<g id=\"node8\" class=\"node\">\n<title>139479132893824*</title>\n<ellipse fill=\"none\" stroke=\"black\" cx=\"263\" cy=\"-128.5\" rx=\"27\" ry=\"18\"/>\n<text text-anchor=\"middle\" x=\"263\" y=\"-124.8\" font-family=\"Times,serif\" font-size=\"14.00\">*</text>\n</g>\n<!-- 139479132892768&#45;&gt;139479132893824* -->\n<g id=\"edge8\" class=\"edge\">\n<title>139479132892768&#45;&gt;139479132893824*</title>\n<path fill=\"none\" stroke=\"black\" d=\"M172.53,-165.44C181.84,-162.67 191.2,-159.67 200,-156.5 210.53,-152.71 221.75,-147.9 231.72,-143.33\"/>\n<polygon fill=\"black\" stroke=\"black\" points=\"233.25,-146.48 240.82,-139.07 230.28,-140.14 233.25,-146.48\"/>\n</g>\n<!-- 139479132881488 -->\n<g id=\"node6\" class=\"node\">\n<title>139479132881488</title>\n<polygon fill=\"none\" stroke=\"black\" points=\"2.5,-55.5 2.5,-91.5 197.5,-91.5 197.5,-55.5 2.5,-55.5\"/>\n<text text-anchor=\"middle\" x=\"19\" y=\"-69.8\" font-family=\"Times,serif\" font-size=\"14.00\">w2</text>\n<polyline fill=\"none\" stroke=\"black\" points=\"35.5,-55.5 35.5,-91.5 \"/>\n<text text-anchor=\"middle\" x=\"75.5\" y=\"-69.8\" font-family=\"Times,serif\" font-size=\"14.00\">data 1.0000</text>\n<polyline fill=\"none\" stroke=\"black\" points=\"115.5,-55.5 115.5,-91.5 \"/>\n<text text-anchor=\"middle\" x=\"156.5\" y=\"-69.8\" font-family=\"Times,serif\" font-size=\"14.00\">grad 0.0000</text>\n</g>\n<!-- 139479132882064* -->\n<g id=\"node10\" class=\"node\">\n<title>139479132882064*</title>\n<ellipse fill=\"none\" stroke=\"black\" cx=\"263\" cy=\"-73.5\" rx=\"27\" ry=\"18\"/>\n<text text-anchor=\"middle\" x=\"263\" y=\"-69.8\" font-family=\"Times,serif\" font-size=\"14.00\">*</text>\n</g>\n<!-- 139479132881488&#45;&gt;139479132882064* -->\n<g id=\"edge13\" class=\"edge\">\n<title>139479132881488&#45;&gt;139479132882064*</title>\n<path fill=\"none\" stroke=\"black\" d=\"M197.91,-73.5C207.65,-73.5 217.05,-73.5 225.52,-73.5\"/>\n<polygon fill=\"black\" stroke=\"black\" points=\"225.7,-77 235.7,-73.5 225.7,-70 225.7,-77\"/>\n</g>\n<!-- 139479132893824 -->\n<g id=\"node7\" class=\"node\">\n<title>139479132893824</title>\n<polygon fill=\"none\" stroke=\"black\" points=\"326,-110.5 326,-146.5 540,-146.5 540,-110.5 326,-110.5\"/>\n<text text-anchor=\"middle\" x=\"349.5\" y=\"-124.8\" font-family=\"Times,serif\" font-size=\"14.00\">x1w1</text>\n<polyline fill=\"none\" stroke=\"black\" points=\"373,-110.5 373,-146.5 \"/>\n<text text-anchor=\"middle\" x=\"415.5\" y=\"-124.8\" font-family=\"Times,serif\" font-size=\"14.00\">data &#45;6.0000</text>\n<polyline fill=\"none\" stroke=\"black\" points=\"458,-110.5 458,-146.5 \"/>\n<text text-anchor=\"middle\" x=\"499\" y=\"-124.8\" font-family=\"Times,serif\" font-size=\"14.00\">grad 0.0000</text>\n</g>\n<!-- 139479132893824&#45;&gt;139479132887632+ -->\n<g id=\"edge11\" class=\"edge\">\n<title>139479132893824&#45;&gt;139479132887632+</title>\n<path fill=\"none\" stroke=\"black\" d=\"M540.4,-110.77C549.72,-109.21 558.65,-107.72 566.68,-106.39\"/>\n<polygon fill=\"black\" stroke=\"black\" points=\"567.38,-109.82 576.66,-104.72 566.22,-102.91 567.38,-109.82\"/>\n</g>\n<!-- 139479132893824*&#45;&gt;139479132893824 -->\n<g id=\"edge3\" class=\"edge\">\n<title>139479132893824*&#45;&gt;139479132893824</title>\n<path fill=\"none\" stroke=\"black\" d=\"M290.25,-128.5C297.7,-128.5 306.34,-128.5 315.59,-128.5\"/>\n<polygon fill=\"black\" stroke=\"black\" points=\"315.84,-132 325.84,-128.5 315.84,-125 315.84,-132\"/>\n</g>\n<!-- 139479132882064 -->\n<g id=\"node9\" class=\"node\">\n<title>139479132882064</title>\n<polygon fill=\"none\" stroke=\"black\" points=\"328.5,-55.5 328.5,-91.5 537.5,-91.5 537.5,-55.5 328.5,-55.5\"/>\n<text text-anchor=\"middle\" x=\"352\" y=\"-69.8\" font-family=\"Times,serif\" font-size=\"14.00\">x2w2</text>\n<polyline fill=\"none\" stroke=\"black\" points=\"375.5,-55.5 375.5,-91.5 \"/>\n<text text-anchor=\"middle\" x=\"415.5\" y=\"-69.8\" font-family=\"Times,serif\" font-size=\"14.00\">data 0.0000</text>\n<polyline fill=\"none\" stroke=\"black\" points=\"455.5,-55.5 455.5,-91.5 \"/>\n<text text-anchor=\"middle\" x=\"496.5\" y=\"-69.8\" font-family=\"Times,serif\" font-size=\"14.00\">grad 0.0000</text>\n</g>\n<!-- 139479132882064&#45;&gt;139479132887632+ -->\n<g id=\"edge12\" class=\"edge\">\n<title>139479132882064&#45;&gt;139479132887632+</title>\n<path fill=\"none\" stroke=\"black\" d=\"M537.53,-90.14C547.8,-91.79 557.66,-93.37 566.45,-94.79\"/>\n<polygon fill=\"black\" stroke=\"black\" points=\"566.16,-98.28 576.59,-96.42 567.27,-91.37 566.16,-98.28\"/>\n</g>\n<!-- 139479132882064*&#45;&gt;139479132882064 -->\n<g id=\"edge4\" class=\"edge\">\n<title>139479132882064*&#45;&gt;139479132882064</title>\n<path fill=\"none\" stroke=\"black\" d=\"M290.25,-73.5C298.43,-73.5 308.03,-73.5 318.31,-73.5\"/>\n<polygon fill=\"black\" stroke=\"black\" points=\"318.35,-77 328.35,-73.5 318.35,-70 318.35,-77\"/>\n</g>\n<!-- 139479132893296 -->\n<g id=\"node11\" class=\"node\">\n<title>139479132893296</title>\n<polygon fill=\"none\" stroke=\"black\" points=\"703,-27.5 703,-63.5 888,-63.5 888,-27.5 703,-27.5\"/>\n<text text-anchor=\"middle\" x=\"714.5\" y=\"-41.8\" font-family=\"Times,serif\" font-size=\"14.00\">b</text>\n<polyline fill=\"none\" stroke=\"black\" points=\"726,-27.5 726,-63.5 \"/>\n<text text-anchor=\"middle\" x=\"766\" y=\"-41.8\" font-family=\"Times,serif\" font-size=\"14.00\">data 6.8814</text>\n<polyline fill=\"none\" stroke=\"black\" points=\"806,-27.5 806,-63.5 \"/>\n<text text-anchor=\"middle\" x=\"847\" y=\"-41.8\" font-family=\"Times,serif\" font-size=\"14.00\">grad 0.0000</text>\n</g>\n<!-- 139479132893296&#45;&gt;139479132880960+ -->\n<g id=\"edge10\" class=\"edge\">\n<title>139479132893296&#45;&gt;139479132880960+</title>\n<path fill=\"none\" stroke=\"black\" d=\"M888.12,-58.49C910.59,-61.67 933.33,-64.89 951.33,-67.44\"/>\n<polygon fill=\"black\" stroke=\"black\" points=\"950.95,-70.93 961.34,-68.86 951.93,-63.99 950.95,-70.93\"/>\n</g>\n<!-- 139479132890368 -->\n<g id=\"node12\" class=\"node\">\n<title>139479132890368</title>\n<polygon fill=\"none\" stroke=\"black\" points=\"4,-0.5 4,-36.5 196,-36.5 196,-0.5 4,-0.5\"/>\n<text text-anchor=\"middle\" x=\"19\" y=\"-14.8\" font-family=\"Times,serif\" font-size=\"14.00\">x2</text>\n<polyline fill=\"none\" stroke=\"black\" points=\"34,-0.5 34,-36.5 \"/>\n<text text-anchor=\"middle\" x=\"74\" y=\"-14.8\" font-family=\"Times,serif\" font-size=\"14.00\">data 0.0000</text>\n<polyline fill=\"none\" stroke=\"black\" points=\"114,-0.5 114,-36.5 \"/>\n<text text-anchor=\"middle\" x=\"155\" y=\"-14.8\" font-family=\"Times,serif\" font-size=\"14.00\">grad 0.0000</text>\n</g>\n<!-- 139479132890368&#45;&gt;139479132882064* -->\n<g id=\"edge14\" class=\"edge\">\n<title>139479132890368&#45;&gt;139479132882064*</title>\n<path fill=\"none\" stroke=\"black\" d=\"M172.53,-36.56C181.84,-39.33 191.2,-42.33 200,-45.5 210.53,-49.29 221.75,-54.1 231.72,-58.67\"/>\n<polygon fill=\"black\" stroke=\"black\" points=\"230.28,-61.86 240.82,-62.93 233.25,-55.52 230.28,-61.86\"/>\n</g>\n<!-- 139479132883744 -->\n<g id=\"node13\" class=\"node\">\n<title>139479132883744</title>\n<polygon fill=\"none\" stroke=\"black\" points=\"0,-110.5 0,-146.5 200,-146.5 200,-110.5 0,-110.5\"/>\n<text text-anchor=\"middle\" x=\"16.5\" y=\"-124.8\" font-family=\"Times,serif\" font-size=\"14.00\">w1</text>\n<polyline fill=\"none\" stroke=\"black\" points=\"33,-110.5 33,-146.5 \"/>\n<text text-anchor=\"middle\" x=\"75.5\" y=\"-124.8\" font-family=\"Times,serif\" font-size=\"14.00\">data &#45;3.0000</text>\n<polyline fill=\"none\" stroke=\"black\" points=\"118,-110.5 118,-146.5 \"/>\n<text text-anchor=\"middle\" x=\"159\" y=\"-124.8\" font-family=\"Times,serif\" font-size=\"14.00\">grad 0.0000</text>\n</g>\n<!-- 139479132883744&#45;&gt;139479132893824* -->\n<g id=\"edge9\" class=\"edge\">\n<title>139479132883744&#45;&gt;139479132893824*</title>\n<path fill=\"none\" stroke=\"black\" d=\"M200.21,-128.5C209.2,-128.5 217.86,-128.5 225.7,-128.5\"/>\n<polygon fill=\"black\" stroke=\"black\" points=\"225.85,-132 235.85,-128.5 225.85,-125 225.85,-132\"/>\n</g>\n<!-- 139479132881728 -->\n<g id=\"node14\" class=\"node\">\n<title>139479132881728</title>\n<polygon fill=\"none\" stroke=\"black\" points=\"1362,-54.5 1362,-90.5 1547,-90.5 1547,-54.5 1362,-54.5\"/>\n<text text-anchor=\"middle\" x=\"1373.5\" y=\"-68.8\" font-family=\"Times,serif\" font-size=\"14.00\">o</text>\n<polyline fill=\"none\" stroke=\"black\" points=\"1385,-54.5 1385,-90.5 \"/>\n<text text-anchor=\"middle\" x=\"1425\" y=\"-68.8\" font-family=\"Times,serif\" font-size=\"14.00\">data 0.7071</text>\n<polyline fill=\"none\" stroke=\"black\" points=\"1465,-54.5 1465,-90.5 \"/>\n<text text-anchor=\"middle\" x=\"1506\" y=\"-68.8\" font-family=\"Times,serif\" font-size=\"14.00\">grad 0.0000</text>\n</g>\n<!-- 139479132881728tanh&#45;&gt;139479132881728 -->\n<g id=\"edge5\" class=\"edge\">\n<title>139479132881728tanh&#45;&gt;139479132881728</title>\n<path fill=\"none\" stroke=\"black\" d=\"M1326.04,-72.5C1333.58,-72.5 1342.3,-72.5 1351.57,-72.5\"/>\n<polygon fill=\"black\" stroke=\"black\" points=\"1351.81,-76 1361.81,-72.5 1351.81,-69 1351.81,-76\"/>\n</g>\n</g>\n</svg>\n",
            "text/plain": [
              "<graphviz.graphs.Digraph at 0x7edb042b6200>"
            ]
          },
          "metadata": {},
          "execution_count": 67
        }
      ]
    },
    {
      "cell_type": "code",
      "source": [
        "# set o.grad\n",
        "o.grad = 1.0\n",
        "\n",
        "# function to build the topological graph\n",
        "topo = []\n",
        "visited = set()\n",
        "\n",
        "def build_topo(v):\n",
        "    if v not in visited:\n",
        "        visited.add(v)\n",
        "        for child in v.prev:\n",
        "            build_topo(child)\n",
        "        topo.append(v)\n",
        "\n",
        "build_topo(o)\n",
        "\n",
        "# call backward function on the nodes\n",
        "for node in reversed(topo):\n",
        "    node._backward()\n",
        "\n",
        "\n",
        "draw_dot(o)"
      ],
      "metadata": {
        "colab": {
          "base_uri": "https://localhost:8080/",
          "height": 321
        },
        "id": "UFnoYyZpomcT",
        "outputId": "4fe55fb6-f3b4-490d-c3a4-e80b25e99644"
      },
      "execution_count": 68,
      "outputs": [
        {
          "output_type": "execute_result",
          "data": {
            "image/svg+xml": "<?xml version=\"1.0\" encoding=\"UTF-8\" standalone=\"no\"?>\n<!DOCTYPE svg PUBLIC \"-//W3C//DTD SVG 1.1//EN\"\n \"http://www.w3.org/Graphics/SVG/1.1/DTD/svg11.dtd\">\n<!-- Generated by graphviz version 2.43.0 (0)\n -->\n<!-- Title: %3 Pages: 1 -->\n<svg width=\"1555pt\" height=\"210pt\"\n viewBox=\"0.00 0.00 1555.00 210.00\" xmlns=\"http://www.w3.org/2000/svg\" xmlns:xlink=\"http://www.w3.org/1999/xlink\">\n<g id=\"graph0\" class=\"graph\" transform=\"scale(1 1) rotate(0) translate(4 206)\">\n<title>%3</title>\n<polygon fill=\"white\" stroke=\"transparent\" points=\"-4,4 -4,-206 1551,-206 1551,4 -4,4\"/>\n<!-- 139479132880960 -->\n<g id=\"node1\" class=\"node\">\n<title>139479132880960</title>\n<polygon fill=\"none\" stroke=\"black\" points=\"1051,-54.5 1051,-90.5 1236,-90.5 1236,-54.5 1051,-54.5\"/>\n<text text-anchor=\"middle\" x=\"1062.5\" y=\"-68.8\" font-family=\"Times,serif\" font-size=\"14.00\">n</text>\n<polyline fill=\"none\" stroke=\"black\" points=\"1074,-54.5 1074,-90.5 \"/>\n<text text-anchor=\"middle\" x=\"1114\" y=\"-68.8\" font-family=\"Times,serif\" font-size=\"14.00\">data 0.8814</text>\n<polyline fill=\"none\" stroke=\"black\" points=\"1154,-54.5 1154,-90.5 \"/>\n<text text-anchor=\"middle\" x=\"1195\" y=\"-68.8\" font-family=\"Times,serif\" font-size=\"14.00\">grad 0.5000</text>\n</g>\n<!-- 139479132881728tanh -->\n<g id=\"node15\" class=\"node\">\n<title>139479132881728tanh</title>\n<ellipse fill=\"none\" stroke=\"black\" cx=\"1299\" cy=\"-72.5\" rx=\"27\" ry=\"18\"/>\n<text text-anchor=\"middle\" x=\"1299\" y=\"-68.8\" font-family=\"Times,serif\" font-size=\"14.00\">tanh</text>\n</g>\n<!-- 139479132880960&#45;&gt;139479132881728tanh -->\n<g id=\"edge7\" class=\"edge\">\n<title>139479132880960&#45;&gt;139479132881728tanh</title>\n<path fill=\"none\" stroke=\"black\" d=\"M1236.01,-72.5C1245.01,-72.5 1253.74,-72.5 1261.66,-72.5\"/>\n<polygon fill=\"black\" stroke=\"black\" points=\"1261.91,-76 1271.91,-72.5 1261.91,-69 1261.91,-76\"/>\n</g>\n<!-- 139479132880960+ -->\n<g id=\"node2\" class=\"node\">\n<title>139479132880960+</title>\n<ellipse fill=\"none\" stroke=\"black\" cx=\"988\" cy=\"-72.5\" rx=\"27\" ry=\"18\"/>\n<text text-anchor=\"middle\" x=\"988\" y=\"-68.8\" font-family=\"Times,serif\" font-size=\"14.00\">+</text>\n</g>\n<!-- 139479132880960+&#45;&gt;139479132880960 -->\n<g id=\"edge1\" class=\"edge\">\n<title>139479132880960+&#45;&gt;139479132880960</title>\n<path fill=\"none\" stroke=\"black\" d=\"M1015.04,-72.5C1022.58,-72.5 1031.3,-72.5 1040.57,-72.5\"/>\n<polygon fill=\"black\" stroke=\"black\" points=\"1040.81,-76 1050.81,-72.5 1040.81,-69 1040.81,-76\"/>\n</g>\n<!-- 139479132887632 -->\n<g id=\"node3\" class=\"node\">\n<title>139479132887632</title>\n<polygon fill=\"none\" stroke=\"black\" points=\"666,-82.5 666,-118.5 925,-118.5 925,-82.5 666,-82.5\"/>\n<text text-anchor=\"middle\" x=\"712\" y=\"-96.8\" font-family=\"Times,serif\" font-size=\"14.00\">x1w1 + x2w2</text>\n<polyline fill=\"none\" stroke=\"black\" points=\"758,-82.5 758,-118.5 \"/>\n<text text-anchor=\"middle\" x=\"800.5\" y=\"-96.8\" font-family=\"Times,serif\" font-size=\"14.00\">data &#45;6.0000</text>\n<polyline fill=\"none\" stroke=\"black\" points=\"843,-82.5 843,-118.5 \"/>\n<text text-anchor=\"middle\" x=\"884\" y=\"-96.8\" font-family=\"Times,serif\" font-size=\"14.00\">grad 0.5000</text>\n</g>\n<!-- 139479132887632&#45;&gt;139479132880960+ -->\n<g id=\"edge6\" class=\"edge\">\n<title>139479132887632&#45;&gt;139479132880960+</title>\n<path fill=\"none\" stroke=\"black\" d=\"M919.03,-82.49C930.7,-80.77 941.77,-79.15 951.46,-77.72\"/>\n<polygon fill=\"black\" stroke=\"black\" points=\"952.01,-81.18 961.4,-76.26 951,-74.25 952.01,-81.18\"/>\n</g>\n<!-- 139479132887632+ -->\n<g id=\"node4\" class=\"node\">\n<title>139479132887632+</title>\n<ellipse fill=\"none\" stroke=\"black\" cx=\"603\" cy=\"-100.5\" rx=\"27\" ry=\"18\"/>\n<text text-anchor=\"middle\" x=\"603\" y=\"-96.8\" font-family=\"Times,serif\" font-size=\"14.00\">+</text>\n</g>\n<!-- 139479132887632+&#45;&gt;139479132887632 -->\n<g id=\"edge2\" class=\"edge\">\n<title>139479132887632+&#45;&gt;139479132887632</title>\n<path fill=\"none\" stroke=\"black\" d=\"M630.09,-100.5C637.58,-100.5 646.3,-100.5 655.75,-100.5\"/>\n<polygon fill=\"black\" stroke=\"black\" points=\"655.84,-104 665.84,-100.5 655.84,-97 655.84,-104\"/>\n</g>\n<!-- 139479132892768 -->\n<g id=\"node5\" class=\"node\">\n<title>139479132892768</title>\n<polygon fill=\"none\" stroke=\"black\" points=\"2,-165.5 2,-201.5 198,-201.5 198,-165.5 2,-165.5\"/>\n<text text-anchor=\"middle\" x=\"17\" y=\"-179.8\" font-family=\"Times,serif\" font-size=\"14.00\">x1</text>\n<polyline fill=\"none\" stroke=\"black\" points=\"32,-165.5 32,-201.5 \"/>\n<text text-anchor=\"middle\" x=\"72\" y=\"-179.8\" font-family=\"Times,serif\" font-size=\"14.00\">data 2.0000</text>\n<polyline fill=\"none\" stroke=\"black\" points=\"112,-165.5 112,-201.5 \"/>\n<text text-anchor=\"middle\" x=\"155\" y=\"-179.8\" font-family=\"Times,serif\" font-size=\"14.00\">grad &#45;1.5000</text>\n</g>\n<!-- 139479132893824* -->\n<g id=\"node8\" class=\"node\">\n<title>139479132893824*</title>\n<ellipse fill=\"none\" stroke=\"black\" cx=\"263\" cy=\"-128.5\" rx=\"27\" ry=\"18\"/>\n<text text-anchor=\"middle\" x=\"263\" y=\"-124.8\" font-family=\"Times,serif\" font-size=\"14.00\">*</text>\n</g>\n<!-- 139479132892768&#45;&gt;139479132893824* -->\n<g id=\"edge8\" class=\"edge\">\n<title>139479132892768&#45;&gt;139479132893824*</title>\n<path fill=\"none\" stroke=\"black\" d=\"M172.53,-165.44C181.84,-162.67 191.2,-159.67 200,-156.5 210.53,-152.71 221.75,-147.9 231.72,-143.33\"/>\n<polygon fill=\"black\" stroke=\"black\" points=\"233.25,-146.48 240.82,-139.07 230.28,-140.14 233.25,-146.48\"/>\n</g>\n<!-- 139479132881488 -->\n<g id=\"node6\" class=\"node\">\n<title>139479132881488</title>\n<polygon fill=\"none\" stroke=\"black\" points=\"2.5,-55.5 2.5,-91.5 197.5,-91.5 197.5,-55.5 2.5,-55.5\"/>\n<text text-anchor=\"middle\" x=\"19\" y=\"-69.8\" font-family=\"Times,serif\" font-size=\"14.00\">w2</text>\n<polyline fill=\"none\" stroke=\"black\" points=\"35.5,-55.5 35.5,-91.5 \"/>\n<text text-anchor=\"middle\" x=\"75.5\" y=\"-69.8\" font-family=\"Times,serif\" font-size=\"14.00\">data 1.0000</text>\n<polyline fill=\"none\" stroke=\"black\" points=\"115.5,-55.5 115.5,-91.5 \"/>\n<text text-anchor=\"middle\" x=\"156.5\" y=\"-69.8\" font-family=\"Times,serif\" font-size=\"14.00\">grad 0.0000</text>\n</g>\n<!-- 139479132882064* -->\n<g id=\"node10\" class=\"node\">\n<title>139479132882064*</title>\n<ellipse fill=\"none\" stroke=\"black\" cx=\"263\" cy=\"-73.5\" rx=\"27\" ry=\"18\"/>\n<text text-anchor=\"middle\" x=\"263\" y=\"-69.8\" font-family=\"Times,serif\" font-size=\"14.00\">*</text>\n</g>\n<!-- 139479132881488&#45;&gt;139479132882064* -->\n<g id=\"edge13\" class=\"edge\">\n<title>139479132881488&#45;&gt;139479132882064*</title>\n<path fill=\"none\" stroke=\"black\" d=\"M197.91,-73.5C207.65,-73.5 217.05,-73.5 225.52,-73.5\"/>\n<polygon fill=\"black\" stroke=\"black\" points=\"225.7,-77 235.7,-73.5 225.7,-70 225.7,-77\"/>\n</g>\n<!-- 139479132893824 -->\n<g id=\"node7\" class=\"node\">\n<title>139479132893824</title>\n<polygon fill=\"none\" stroke=\"black\" points=\"326,-110.5 326,-146.5 540,-146.5 540,-110.5 326,-110.5\"/>\n<text text-anchor=\"middle\" x=\"349.5\" y=\"-124.8\" font-family=\"Times,serif\" font-size=\"14.00\">x1w1</text>\n<polyline fill=\"none\" stroke=\"black\" points=\"373,-110.5 373,-146.5 \"/>\n<text text-anchor=\"middle\" x=\"415.5\" y=\"-124.8\" font-family=\"Times,serif\" font-size=\"14.00\">data &#45;6.0000</text>\n<polyline fill=\"none\" stroke=\"black\" points=\"458,-110.5 458,-146.5 \"/>\n<text text-anchor=\"middle\" x=\"499\" y=\"-124.8\" font-family=\"Times,serif\" font-size=\"14.00\">grad 0.5000</text>\n</g>\n<!-- 139479132893824&#45;&gt;139479132887632+ -->\n<g id=\"edge11\" class=\"edge\">\n<title>139479132893824&#45;&gt;139479132887632+</title>\n<path fill=\"none\" stroke=\"black\" d=\"M540.4,-110.77C549.72,-109.21 558.65,-107.72 566.68,-106.39\"/>\n<polygon fill=\"black\" stroke=\"black\" points=\"567.38,-109.82 576.66,-104.72 566.22,-102.91 567.38,-109.82\"/>\n</g>\n<!-- 139479132893824*&#45;&gt;139479132893824 -->\n<g id=\"edge3\" class=\"edge\">\n<title>139479132893824*&#45;&gt;139479132893824</title>\n<path fill=\"none\" stroke=\"black\" d=\"M290.25,-128.5C297.7,-128.5 306.34,-128.5 315.59,-128.5\"/>\n<polygon fill=\"black\" stroke=\"black\" points=\"315.84,-132 325.84,-128.5 315.84,-125 315.84,-132\"/>\n</g>\n<!-- 139479132882064 -->\n<g id=\"node9\" class=\"node\">\n<title>139479132882064</title>\n<polygon fill=\"none\" stroke=\"black\" points=\"328.5,-55.5 328.5,-91.5 537.5,-91.5 537.5,-55.5 328.5,-55.5\"/>\n<text text-anchor=\"middle\" x=\"352\" y=\"-69.8\" font-family=\"Times,serif\" font-size=\"14.00\">x2w2</text>\n<polyline fill=\"none\" stroke=\"black\" points=\"375.5,-55.5 375.5,-91.5 \"/>\n<text text-anchor=\"middle\" x=\"415.5\" y=\"-69.8\" font-family=\"Times,serif\" font-size=\"14.00\">data 0.0000</text>\n<polyline fill=\"none\" stroke=\"black\" points=\"455.5,-55.5 455.5,-91.5 \"/>\n<text text-anchor=\"middle\" x=\"496.5\" y=\"-69.8\" font-family=\"Times,serif\" font-size=\"14.00\">grad 0.5000</text>\n</g>\n<!-- 139479132882064&#45;&gt;139479132887632+ -->\n<g id=\"edge12\" class=\"edge\">\n<title>139479132882064&#45;&gt;139479132887632+</title>\n<path fill=\"none\" stroke=\"black\" d=\"M537.53,-90.14C547.8,-91.79 557.66,-93.37 566.45,-94.79\"/>\n<polygon fill=\"black\" stroke=\"black\" points=\"566.16,-98.28 576.59,-96.42 567.27,-91.37 566.16,-98.28\"/>\n</g>\n<!-- 139479132882064*&#45;&gt;139479132882064 -->\n<g id=\"edge4\" class=\"edge\">\n<title>139479132882064*&#45;&gt;139479132882064</title>\n<path fill=\"none\" stroke=\"black\" d=\"M290.25,-73.5C298.43,-73.5 308.03,-73.5 318.31,-73.5\"/>\n<polygon fill=\"black\" stroke=\"black\" points=\"318.35,-77 328.35,-73.5 318.35,-70 318.35,-77\"/>\n</g>\n<!-- 139479132893296 -->\n<g id=\"node11\" class=\"node\">\n<title>139479132893296</title>\n<polygon fill=\"none\" stroke=\"black\" points=\"703,-27.5 703,-63.5 888,-63.5 888,-27.5 703,-27.5\"/>\n<text text-anchor=\"middle\" x=\"714.5\" y=\"-41.8\" font-family=\"Times,serif\" font-size=\"14.00\">b</text>\n<polyline fill=\"none\" stroke=\"black\" points=\"726,-27.5 726,-63.5 \"/>\n<text text-anchor=\"middle\" x=\"766\" y=\"-41.8\" font-family=\"Times,serif\" font-size=\"14.00\">data 6.8814</text>\n<polyline fill=\"none\" stroke=\"black\" points=\"806,-27.5 806,-63.5 \"/>\n<text text-anchor=\"middle\" x=\"847\" y=\"-41.8\" font-family=\"Times,serif\" font-size=\"14.00\">grad 0.5000</text>\n</g>\n<!-- 139479132893296&#45;&gt;139479132880960+ -->\n<g id=\"edge10\" class=\"edge\">\n<title>139479132893296&#45;&gt;139479132880960+</title>\n<path fill=\"none\" stroke=\"black\" d=\"M888.12,-58.49C910.59,-61.67 933.33,-64.89 951.33,-67.44\"/>\n<polygon fill=\"black\" stroke=\"black\" points=\"950.95,-70.93 961.34,-68.86 951.93,-63.99 950.95,-70.93\"/>\n</g>\n<!-- 139479132890368 -->\n<g id=\"node12\" class=\"node\">\n<title>139479132890368</title>\n<polygon fill=\"none\" stroke=\"black\" points=\"4,-0.5 4,-36.5 196,-36.5 196,-0.5 4,-0.5\"/>\n<text text-anchor=\"middle\" x=\"19\" y=\"-14.8\" font-family=\"Times,serif\" font-size=\"14.00\">x2</text>\n<polyline fill=\"none\" stroke=\"black\" points=\"34,-0.5 34,-36.5 \"/>\n<text text-anchor=\"middle\" x=\"74\" y=\"-14.8\" font-family=\"Times,serif\" font-size=\"14.00\">data 0.0000</text>\n<polyline fill=\"none\" stroke=\"black\" points=\"114,-0.5 114,-36.5 \"/>\n<text text-anchor=\"middle\" x=\"155\" y=\"-14.8\" font-family=\"Times,serif\" font-size=\"14.00\">grad 0.5000</text>\n</g>\n<!-- 139479132890368&#45;&gt;139479132882064* -->\n<g id=\"edge14\" class=\"edge\">\n<title>139479132890368&#45;&gt;139479132882064*</title>\n<path fill=\"none\" stroke=\"black\" d=\"M172.53,-36.56C181.84,-39.33 191.2,-42.33 200,-45.5 210.53,-49.29 221.75,-54.1 231.72,-58.67\"/>\n<polygon fill=\"black\" stroke=\"black\" points=\"230.28,-61.86 240.82,-62.93 233.25,-55.52 230.28,-61.86\"/>\n</g>\n<!-- 139479132883744 -->\n<g id=\"node13\" class=\"node\">\n<title>139479132883744</title>\n<polygon fill=\"none\" stroke=\"black\" points=\"0,-110.5 0,-146.5 200,-146.5 200,-110.5 0,-110.5\"/>\n<text text-anchor=\"middle\" x=\"16.5\" y=\"-124.8\" font-family=\"Times,serif\" font-size=\"14.00\">w1</text>\n<polyline fill=\"none\" stroke=\"black\" points=\"33,-110.5 33,-146.5 \"/>\n<text text-anchor=\"middle\" x=\"75.5\" y=\"-124.8\" font-family=\"Times,serif\" font-size=\"14.00\">data &#45;3.0000</text>\n<polyline fill=\"none\" stroke=\"black\" points=\"118,-110.5 118,-146.5 \"/>\n<text text-anchor=\"middle\" x=\"159\" y=\"-124.8\" font-family=\"Times,serif\" font-size=\"14.00\">grad 1.0000</text>\n</g>\n<!-- 139479132883744&#45;&gt;139479132893824* -->\n<g id=\"edge9\" class=\"edge\">\n<title>139479132883744&#45;&gt;139479132893824*</title>\n<path fill=\"none\" stroke=\"black\" d=\"M200.21,-128.5C209.2,-128.5 217.86,-128.5 225.7,-128.5\"/>\n<polygon fill=\"black\" stroke=\"black\" points=\"225.85,-132 235.85,-128.5 225.85,-125 225.85,-132\"/>\n</g>\n<!-- 139479132881728 -->\n<g id=\"node14\" class=\"node\">\n<title>139479132881728</title>\n<polygon fill=\"none\" stroke=\"black\" points=\"1362,-54.5 1362,-90.5 1547,-90.5 1547,-54.5 1362,-54.5\"/>\n<text text-anchor=\"middle\" x=\"1373.5\" y=\"-68.8\" font-family=\"Times,serif\" font-size=\"14.00\">o</text>\n<polyline fill=\"none\" stroke=\"black\" points=\"1385,-54.5 1385,-90.5 \"/>\n<text text-anchor=\"middle\" x=\"1425\" y=\"-68.8\" font-family=\"Times,serif\" font-size=\"14.00\">data 0.7071</text>\n<polyline fill=\"none\" stroke=\"black\" points=\"1465,-54.5 1465,-90.5 \"/>\n<text text-anchor=\"middle\" x=\"1506\" y=\"-68.8\" font-family=\"Times,serif\" font-size=\"14.00\">grad 1.0000</text>\n</g>\n<!-- 139479132881728tanh&#45;&gt;139479132881728 -->\n<g id=\"edge5\" class=\"edge\">\n<title>139479132881728tanh&#45;&gt;139479132881728</title>\n<path fill=\"none\" stroke=\"black\" d=\"M1326.04,-72.5C1333.58,-72.5 1342.3,-72.5 1351.57,-72.5\"/>\n<polygon fill=\"black\" stroke=\"black\" points=\"1351.81,-76 1361.81,-72.5 1351.81,-69 1351.81,-76\"/>\n</g>\n</g>\n</svg>\n",
            "text/plain": [
              "<graphviz.graphs.Digraph at 0x7edb043a4df0>"
            ]
          },
          "metadata": {},
          "execution_count": 68
        }
      ]
    },
    {
      "cell_type": "markdown",
      "source": [
        "We will hide this functionality under Value class"
      ],
      "metadata": {
        "id": "WxiKykBepJPL"
      }
    },
    {
      "cell_type": "code",
      "source": [
        "class Value:\n",
        "\n",
        "    def __init__(self, data, _children=(), _op='', label=''):\n",
        "        self.data = data\n",
        "        self.prev = set(_children)\n",
        "        self._op = _op\n",
        "        self.grad = 0.0\n",
        "        self._backward = lambda: None # empty function, so leaf node it will do nothing\n",
        "        self.label=label\n",
        "\n",
        "\n",
        "    def __repr__(self):\n",
        "        return f\"Value(data={self.data})\"\n",
        "\n",
        "    def __add__(self, other):\n",
        "        out = Value(self.data + other.data, (self, other), '+')\n",
        "\n",
        "        # backward function, we want to backpropogate the out.grad to self and other\n",
        "        def _backward():\n",
        "            self.grad = 1.0 * out.grad\n",
        "            other.grad = 1.0 * out.grad\n",
        "        out._backward = _backward\n",
        "\n",
        "        return out\n",
        "\n",
        "    def __mul__(self, other):\n",
        "        out = Value(self.data * other.data, (self, other), '*')\n",
        "\n",
        "        #backward function\n",
        "        def _backward():\n",
        "            self.grad = other.data * out.grad\n",
        "            other.grad = self.data * out.grad\n",
        "        out._backward = _backward\n",
        "\n",
        "        return out\n",
        "\n",
        "    def tanh(self):\n",
        "        x = self.data\n",
        "        t = (math.exp(2*x) - 1) / (math.exp(2*x) + 1)\n",
        "        out = Value(t, (self, ), 'tanh')\n",
        "\n",
        "        def _backward():\n",
        "            self.grad = (1 - t**2) * out.grad\n",
        "        out._backward = _backward\n",
        "\n",
        "        return out\n",
        "\n",
        "    def backward(self):\n",
        "        topo = []\n",
        "        visited = set()\n",
        "\n",
        "        def build_topo(v):\n",
        "            if v not in visited:\n",
        "                visited.add(v)\n",
        "                for child in v.prev:\n",
        "                    build_topo(child)\n",
        "                topo.append(v)\n",
        "        build_topo(self) # starting at output\n",
        "\n",
        "        self.grad=1.0\n",
        "        for node in reversed(topo):\n",
        "            node._backward()\n"
      ],
      "metadata": {
        "id": "XAsJZWNMo_8-"
      },
      "execution_count": 69,
      "outputs": []
    },
    {
      "cell_type": "code",
      "source": [
        "#inputs\n",
        "x1 = Value(2.0, label='x1')\n",
        "x2 = Value(0.0, label='x2')\n",
        "\n",
        "# weights w1, w2\n",
        "w1 = Value(-3.0, label='w1')\n",
        "w2 = Value(1.0, label='w2')\n",
        "\n",
        "# bias of the neuron\n",
        "b = Value(6.8813635870195432, label='b') # intentionally using the value so that backpropogation number are nice\n",
        "\n",
        "#x1w1, x2w2\n",
        "x1w1 = x1 * w1; x1w1.label='x1w1'\n",
        "x2w2 = x2 * w2; x2w2.label='x2w2'\n",
        "x1w1x2w2 = x1w1 + x2w2; x1w1x2w2.label='x1w1 + x2w2'\n",
        "\n",
        "n = x1w1x2w2 + b; n.label='n'\n",
        "\n",
        "#activation\n",
        "o = n.tanh()  # note we won't do a tanh operation here as we haven't implemented that function\n",
        "o.label='o'\n",
        "\n",
        "# visualize\n",
        "draw_dot(o)"
      ],
      "metadata": {
        "colab": {
          "base_uri": "https://localhost:8080/",
          "height": 321
        },
        "id": "A9hLVZshqJ7z",
        "outputId": "d8630504-6e16-4a4b-d2e4-becee9d5bdbe"
      },
      "execution_count": 70,
      "outputs": [
        {
          "output_type": "execute_result",
          "data": {
            "image/svg+xml": "<?xml version=\"1.0\" encoding=\"UTF-8\" standalone=\"no\"?>\n<!DOCTYPE svg PUBLIC \"-//W3C//DTD SVG 1.1//EN\"\n \"http://www.w3.org/Graphics/SVG/1.1/DTD/svg11.dtd\">\n<!-- Generated by graphviz version 2.43.0 (0)\n -->\n<!-- Title: %3 Pages: 1 -->\n<svg width=\"1555pt\" height=\"210pt\"\n viewBox=\"0.00 0.00 1555.00 210.00\" xmlns=\"http://www.w3.org/2000/svg\" xmlns:xlink=\"http://www.w3.org/1999/xlink\">\n<g id=\"graph0\" class=\"graph\" transform=\"scale(1 1) rotate(0) translate(4 206)\">\n<title>%3</title>\n<polygon fill=\"white\" stroke=\"transparent\" points=\"-4,4 -4,-206 1551,-206 1551,4 -4,4\"/>\n<!-- 139479134145552 -->\n<g id=\"node1\" class=\"node\">\n<title>139479134145552</title>\n<polygon fill=\"none\" stroke=\"black\" points=\"4,-165.5 4,-201.5 196,-201.5 196,-165.5 4,-165.5\"/>\n<text text-anchor=\"middle\" x=\"19\" y=\"-179.8\" font-family=\"Times,serif\" font-size=\"14.00\">x2</text>\n<polyline fill=\"none\" stroke=\"black\" points=\"34,-165.5 34,-201.5 \"/>\n<text text-anchor=\"middle\" x=\"74\" y=\"-179.8\" font-family=\"Times,serif\" font-size=\"14.00\">data 0.0000</text>\n<polyline fill=\"none\" stroke=\"black\" points=\"114,-165.5 114,-201.5 \"/>\n<text text-anchor=\"middle\" x=\"155\" y=\"-179.8\" font-family=\"Times,serif\" font-size=\"14.00\">grad 0.0000</text>\n</g>\n<!-- 139479134154912* -->\n<g id=\"node5\" class=\"node\">\n<title>139479134154912*</title>\n<ellipse fill=\"none\" stroke=\"black\" cx=\"263\" cy=\"-128.5\" rx=\"27\" ry=\"18\"/>\n<text text-anchor=\"middle\" x=\"263\" y=\"-124.8\" font-family=\"Times,serif\" font-size=\"14.00\">*</text>\n</g>\n<!-- 139479134145552&#45;&gt;139479134154912* -->\n<g id=\"edge7\" class=\"edge\">\n<title>139479134145552&#45;&gt;139479134154912*</title>\n<path fill=\"none\" stroke=\"black\" d=\"M172.53,-165.44C181.84,-162.67 191.2,-159.67 200,-156.5 210.53,-152.71 221.75,-147.9 231.72,-143.33\"/>\n<polygon fill=\"black\" stroke=\"black\" points=\"233.25,-146.48 240.82,-139.07 230.28,-140.14 233.25,-146.48\"/>\n</g>\n<!-- 139479134152752 -->\n<g id=\"node2\" class=\"node\">\n<title>139479134152752</title>\n<polygon fill=\"none\" stroke=\"black\" points=\"666,-82.5 666,-118.5 925,-118.5 925,-82.5 666,-82.5\"/>\n<text text-anchor=\"middle\" x=\"712\" y=\"-96.8\" font-family=\"Times,serif\" font-size=\"14.00\">x1w1 + x2w2</text>\n<polyline fill=\"none\" stroke=\"black\" points=\"758,-82.5 758,-118.5 \"/>\n<text text-anchor=\"middle\" x=\"800.5\" y=\"-96.8\" font-family=\"Times,serif\" font-size=\"14.00\">data &#45;6.0000</text>\n<polyline fill=\"none\" stroke=\"black\" points=\"843,-82.5 843,-118.5 \"/>\n<text text-anchor=\"middle\" x=\"884\" y=\"-96.8\" font-family=\"Times,serif\" font-size=\"14.00\">grad 0.0000</text>\n</g>\n<!-- 139479134148912+ -->\n<g id=\"node8\" class=\"node\">\n<title>139479134148912+</title>\n<ellipse fill=\"none\" stroke=\"black\" cx=\"988\" cy=\"-72.5\" rx=\"27\" ry=\"18\"/>\n<text text-anchor=\"middle\" x=\"988\" y=\"-68.8\" font-family=\"Times,serif\" font-size=\"14.00\">+</text>\n</g>\n<!-- 139479134152752&#45;&gt;139479134148912+ -->\n<g id=\"edge13\" class=\"edge\">\n<title>139479134152752&#45;&gt;139479134148912+</title>\n<path fill=\"none\" stroke=\"black\" d=\"M919.03,-82.49C930.7,-80.77 941.77,-79.15 951.46,-77.72\"/>\n<polygon fill=\"black\" stroke=\"black\" points=\"952.01,-81.18 961.4,-76.26 951,-74.25 952.01,-81.18\"/>\n</g>\n<!-- 139479134152752+ -->\n<g id=\"node3\" class=\"node\">\n<title>139479134152752+</title>\n<ellipse fill=\"none\" stroke=\"black\" cx=\"603\" cy=\"-100.5\" rx=\"27\" ry=\"18\"/>\n<text text-anchor=\"middle\" x=\"603\" y=\"-96.8\" font-family=\"Times,serif\" font-size=\"14.00\">+</text>\n</g>\n<!-- 139479134152752+&#45;&gt;139479134152752 -->\n<g id=\"edge1\" class=\"edge\">\n<title>139479134152752+&#45;&gt;139479134152752</title>\n<path fill=\"none\" stroke=\"black\" d=\"M630.09,-100.5C637.58,-100.5 646.3,-100.5 655.75,-100.5\"/>\n<polygon fill=\"black\" stroke=\"black\" points=\"655.84,-104 665.84,-100.5 655.84,-97 655.84,-104\"/>\n</g>\n<!-- 139479134154912 -->\n<g id=\"node4\" class=\"node\">\n<title>139479134154912</title>\n<polygon fill=\"none\" stroke=\"black\" points=\"328.5,-110.5 328.5,-146.5 537.5,-146.5 537.5,-110.5 328.5,-110.5\"/>\n<text text-anchor=\"middle\" x=\"352\" y=\"-124.8\" font-family=\"Times,serif\" font-size=\"14.00\">x2w2</text>\n<polyline fill=\"none\" stroke=\"black\" points=\"375.5,-110.5 375.5,-146.5 \"/>\n<text text-anchor=\"middle\" x=\"415.5\" y=\"-124.8\" font-family=\"Times,serif\" font-size=\"14.00\">data 0.0000</text>\n<polyline fill=\"none\" stroke=\"black\" points=\"455.5,-110.5 455.5,-146.5 \"/>\n<text text-anchor=\"middle\" x=\"496.5\" y=\"-124.8\" font-family=\"Times,serif\" font-size=\"14.00\">grad 0.0000</text>\n</g>\n<!-- 139479134154912&#45;&gt;139479134152752+ -->\n<g id=\"edge6\" class=\"edge\">\n<title>139479134154912&#45;&gt;139479134152752+</title>\n<path fill=\"none\" stroke=\"black\" d=\"M537.53,-111.25C547.8,-109.53 557.66,-107.89 566.45,-106.43\"/>\n<polygon fill=\"black\" stroke=\"black\" points=\"567.3,-109.83 576.59,-104.74 566.15,-102.93 567.3,-109.83\"/>\n</g>\n<!-- 139479134154912*&#45;&gt;139479134154912 -->\n<g id=\"edge2\" class=\"edge\">\n<title>139479134154912*&#45;&gt;139479134154912</title>\n<path fill=\"none\" stroke=\"black\" d=\"M290.25,-128.5C298.43,-128.5 308.03,-128.5 318.31,-128.5\"/>\n<polygon fill=\"black\" stroke=\"black\" points=\"318.35,-132 328.35,-128.5 318.35,-125 318.35,-132\"/>\n</g>\n<!-- 139479134150304 -->\n<g id=\"node6\" class=\"node\">\n<title>139479134150304</title>\n<polygon fill=\"none\" stroke=\"black\" points=\"2.5,-110.5 2.5,-146.5 197.5,-146.5 197.5,-110.5 2.5,-110.5\"/>\n<text text-anchor=\"middle\" x=\"19\" y=\"-124.8\" font-family=\"Times,serif\" font-size=\"14.00\">w2</text>\n<polyline fill=\"none\" stroke=\"black\" points=\"35.5,-110.5 35.5,-146.5 \"/>\n<text text-anchor=\"middle\" x=\"75.5\" y=\"-124.8\" font-family=\"Times,serif\" font-size=\"14.00\">data 1.0000</text>\n<polyline fill=\"none\" stroke=\"black\" points=\"115.5,-110.5 115.5,-146.5 \"/>\n<text text-anchor=\"middle\" x=\"156.5\" y=\"-124.8\" font-family=\"Times,serif\" font-size=\"14.00\">grad 0.0000</text>\n</g>\n<!-- 139479134150304&#45;&gt;139479134154912* -->\n<g id=\"edge9\" class=\"edge\">\n<title>139479134150304&#45;&gt;139479134154912*</title>\n<path fill=\"none\" stroke=\"black\" d=\"M197.91,-128.5C207.65,-128.5 217.05,-128.5 225.52,-128.5\"/>\n<polygon fill=\"black\" stroke=\"black\" points=\"225.7,-132 235.7,-128.5 225.7,-125 225.7,-132\"/>\n</g>\n<!-- 139479134148912 -->\n<g id=\"node7\" class=\"node\">\n<title>139479134148912</title>\n<polygon fill=\"none\" stroke=\"black\" points=\"1051,-54.5 1051,-90.5 1236,-90.5 1236,-54.5 1051,-54.5\"/>\n<text text-anchor=\"middle\" x=\"1062.5\" y=\"-68.8\" font-family=\"Times,serif\" font-size=\"14.00\">n</text>\n<polyline fill=\"none\" stroke=\"black\" points=\"1074,-54.5 1074,-90.5 \"/>\n<text text-anchor=\"middle\" x=\"1114\" y=\"-68.8\" font-family=\"Times,serif\" font-size=\"14.00\">data 0.8814</text>\n<polyline fill=\"none\" stroke=\"black\" points=\"1154,-54.5 1154,-90.5 \"/>\n<text text-anchor=\"middle\" x=\"1195\" y=\"-68.8\" font-family=\"Times,serif\" font-size=\"14.00\">grad 0.0000</text>\n</g>\n<!-- 139479134150064tanh -->\n<g id=\"node14\" class=\"node\">\n<title>139479134150064tanh</title>\n<ellipse fill=\"none\" stroke=\"black\" cx=\"1299\" cy=\"-72.5\" rx=\"27\" ry=\"18\"/>\n<text text-anchor=\"middle\" x=\"1299\" y=\"-68.8\" font-family=\"Times,serif\" font-size=\"14.00\">tanh</text>\n</g>\n<!-- 139479134148912&#45;&gt;139479134150064tanh -->\n<g id=\"edge14\" class=\"edge\">\n<title>139479134148912&#45;&gt;139479134150064tanh</title>\n<path fill=\"none\" stroke=\"black\" d=\"M1236.01,-72.5C1245.01,-72.5 1253.74,-72.5 1261.66,-72.5\"/>\n<polygon fill=\"black\" stroke=\"black\" points=\"1261.91,-76 1271.91,-72.5 1261.91,-69 1261.91,-76\"/>\n</g>\n<!-- 139479134148912+&#45;&gt;139479134148912 -->\n<g id=\"edge3\" class=\"edge\">\n<title>139479134148912+&#45;&gt;139479134148912</title>\n<path fill=\"none\" stroke=\"black\" d=\"M1015.04,-72.5C1022.58,-72.5 1031.3,-72.5 1040.57,-72.5\"/>\n<polygon fill=\"black\" stroke=\"black\" points=\"1040.81,-76 1050.81,-72.5 1040.81,-69 1040.81,-76\"/>\n</g>\n<!-- 139479134145840 -->\n<g id=\"node9\" class=\"node\">\n<title>139479134145840</title>\n<polygon fill=\"none\" stroke=\"black\" points=\"703,-27.5 703,-63.5 888,-63.5 888,-27.5 703,-27.5\"/>\n<text text-anchor=\"middle\" x=\"714.5\" y=\"-41.8\" font-family=\"Times,serif\" font-size=\"14.00\">b</text>\n<polyline fill=\"none\" stroke=\"black\" points=\"726,-27.5 726,-63.5 \"/>\n<text text-anchor=\"middle\" x=\"766\" y=\"-41.8\" font-family=\"Times,serif\" font-size=\"14.00\">data 6.8814</text>\n<polyline fill=\"none\" stroke=\"black\" points=\"806,-27.5 806,-63.5 \"/>\n<text text-anchor=\"middle\" x=\"847\" y=\"-41.8\" font-family=\"Times,serif\" font-size=\"14.00\">grad 0.0000</text>\n</g>\n<!-- 139479134145840&#45;&gt;139479134148912+ -->\n<g id=\"edge10\" class=\"edge\">\n<title>139479134145840&#45;&gt;139479134148912+</title>\n<path fill=\"none\" stroke=\"black\" d=\"M888.12,-58.49C910.59,-61.67 933.33,-64.89 951.33,-67.44\"/>\n<polygon fill=\"black\" stroke=\"black\" points=\"950.95,-70.93 961.34,-68.86 951.93,-63.99 950.95,-70.93\"/>\n</g>\n<!-- 139479134144352 -->\n<g id=\"node10\" class=\"node\">\n<title>139479134144352</title>\n<polygon fill=\"none\" stroke=\"black\" points=\"326,-55.5 326,-91.5 540,-91.5 540,-55.5 326,-55.5\"/>\n<text text-anchor=\"middle\" x=\"349.5\" y=\"-69.8\" font-family=\"Times,serif\" font-size=\"14.00\">x1w1</text>\n<polyline fill=\"none\" stroke=\"black\" points=\"373,-55.5 373,-91.5 \"/>\n<text text-anchor=\"middle\" x=\"415.5\" y=\"-69.8\" font-family=\"Times,serif\" font-size=\"14.00\">data &#45;6.0000</text>\n<polyline fill=\"none\" stroke=\"black\" points=\"458,-55.5 458,-91.5 \"/>\n<text text-anchor=\"middle\" x=\"499\" y=\"-69.8\" font-family=\"Times,serif\" font-size=\"14.00\">grad 0.0000</text>\n</g>\n<!-- 139479134144352&#45;&gt;139479134152752+ -->\n<g id=\"edge11\" class=\"edge\">\n<title>139479134144352&#45;&gt;139479134152752+</title>\n<path fill=\"none\" stroke=\"black\" d=\"M540.4,-90.6C549.72,-92.1 558.65,-93.53 566.68,-94.82\"/>\n<polygon fill=\"black\" stroke=\"black\" points=\"566.24,-98.3 576.66,-96.43 567.35,-91.39 566.24,-98.3\"/>\n</g>\n<!-- 139479134144352* -->\n<g id=\"node11\" class=\"node\">\n<title>139479134144352*</title>\n<ellipse fill=\"none\" stroke=\"black\" cx=\"263\" cy=\"-73.5\" rx=\"27\" ry=\"18\"/>\n<text text-anchor=\"middle\" x=\"263\" y=\"-69.8\" font-family=\"Times,serif\" font-size=\"14.00\">*</text>\n</g>\n<!-- 139479134144352*&#45;&gt;139479134144352 -->\n<g id=\"edge4\" class=\"edge\">\n<title>139479134144352*&#45;&gt;139479134144352</title>\n<path fill=\"none\" stroke=\"black\" d=\"M290.25,-73.5C297.7,-73.5 306.34,-73.5 315.59,-73.5\"/>\n<polygon fill=\"black\" stroke=\"black\" points=\"315.84,-77 325.84,-73.5 315.84,-70 315.84,-77\"/>\n</g>\n<!-- 139479134157696 -->\n<g id=\"node12\" class=\"node\">\n<title>139479134157696</title>\n<polygon fill=\"none\" stroke=\"black\" points=\"0,-55.5 0,-91.5 200,-91.5 200,-55.5 0,-55.5\"/>\n<text text-anchor=\"middle\" x=\"16.5\" y=\"-69.8\" font-family=\"Times,serif\" font-size=\"14.00\">w1</text>\n<polyline fill=\"none\" stroke=\"black\" points=\"33,-55.5 33,-91.5 \"/>\n<text text-anchor=\"middle\" x=\"75.5\" y=\"-69.8\" font-family=\"Times,serif\" font-size=\"14.00\">data &#45;3.0000</text>\n<polyline fill=\"none\" stroke=\"black\" points=\"118,-55.5 118,-91.5 \"/>\n<text text-anchor=\"middle\" x=\"159\" y=\"-69.8\" font-family=\"Times,serif\" font-size=\"14.00\">grad 0.0000</text>\n</g>\n<!-- 139479134157696&#45;&gt;139479134144352* -->\n<g id=\"edge12\" class=\"edge\">\n<title>139479134157696&#45;&gt;139479134144352*</title>\n<path fill=\"none\" stroke=\"black\" d=\"M200.21,-73.5C209.2,-73.5 217.86,-73.5 225.7,-73.5\"/>\n<polygon fill=\"black\" stroke=\"black\" points=\"225.85,-77 235.85,-73.5 225.85,-70 225.85,-77\"/>\n</g>\n<!-- 139479134150064 -->\n<g id=\"node13\" class=\"node\">\n<title>139479134150064</title>\n<polygon fill=\"none\" stroke=\"black\" points=\"1362,-54.5 1362,-90.5 1547,-90.5 1547,-54.5 1362,-54.5\"/>\n<text text-anchor=\"middle\" x=\"1373.5\" y=\"-68.8\" font-family=\"Times,serif\" font-size=\"14.00\">o</text>\n<polyline fill=\"none\" stroke=\"black\" points=\"1385,-54.5 1385,-90.5 \"/>\n<text text-anchor=\"middle\" x=\"1425\" y=\"-68.8\" font-family=\"Times,serif\" font-size=\"14.00\">data 0.7071</text>\n<polyline fill=\"none\" stroke=\"black\" points=\"1465,-54.5 1465,-90.5 \"/>\n<text text-anchor=\"middle\" x=\"1506\" y=\"-68.8\" font-family=\"Times,serif\" font-size=\"14.00\">grad 0.0000</text>\n</g>\n<!-- 139479134150064tanh&#45;&gt;139479134150064 -->\n<g id=\"edge5\" class=\"edge\">\n<title>139479134150064tanh&#45;&gt;139479134150064</title>\n<path fill=\"none\" stroke=\"black\" d=\"M1326.04,-72.5C1333.58,-72.5 1342.3,-72.5 1351.57,-72.5\"/>\n<polygon fill=\"black\" stroke=\"black\" points=\"1351.81,-76 1361.81,-72.5 1351.81,-69 1351.81,-76\"/>\n</g>\n<!-- 139479134144976 -->\n<g id=\"node15\" class=\"node\">\n<title>139479134144976</title>\n<polygon fill=\"none\" stroke=\"black\" points=\"4,-0.5 4,-36.5 196,-36.5 196,-0.5 4,-0.5\"/>\n<text text-anchor=\"middle\" x=\"19\" y=\"-14.8\" font-family=\"Times,serif\" font-size=\"14.00\">x1</text>\n<polyline fill=\"none\" stroke=\"black\" points=\"34,-0.5 34,-36.5 \"/>\n<text text-anchor=\"middle\" x=\"74\" y=\"-14.8\" font-family=\"Times,serif\" font-size=\"14.00\">data 2.0000</text>\n<polyline fill=\"none\" stroke=\"black\" points=\"114,-0.5 114,-36.5 \"/>\n<text text-anchor=\"middle\" x=\"155\" y=\"-14.8\" font-family=\"Times,serif\" font-size=\"14.00\">grad 0.0000</text>\n</g>\n<!-- 139479134144976&#45;&gt;139479134144352* -->\n<g id=\"edge8\" class=\"edge\">\n<title>139479134144976&#45;&gt;139479134144352*</title>\n<path fill=\"none\" stroke=\"black\" d=\"M169.28,-36.5C179.65,-39.61 190.16,-42.98 200,-46.5 210.28,-50.17 221.28,-54.74 231.11,-59.07\"/>\n<polygon fill=\"black\" stroke=\"black\" points=\"229.93,-62.37 240.48,-63.27 232.79,-55.99 229.93,-62.37\"/>\n</g>\n</g>\n</svg>\n",
            "text/plain": [
              "<graphviz.graphs.Digraph at 0x7edb043e9060>"
            ]
          },
          "metadata": {},
          "execution_count": 70
        }
      ]
    },
    {
      "cell_type": "code",
      "source": [
        "# call o.backward()\n",
        "o.backward()\n",
        "draw_dot(o)"
      ],
      "metadata": {
        "colab": {
          "base_uri": "https://localhost:8080/",
          "height": 321
        },
        "id": "Gk_JOQLQqSDK",
        "outputId": "9a3e0f61-050c-4014-f09a-318a73052652"
      },
      "execution_count": 71,
      "outputs": [
        {
          "output_type": "execute_result",
          "data": {
            "image/svg+xml": "<?xml version=\"1.0\" encoding=\"UTF-8\" standalone=\"no\"?>\n<!DOCTYPE svg PUBLIC \"-//W3C//DTD SVG 1.1//EN\"\n \"http://www.w3.org/Graphics/SVG/1.1/DTD/svg11.dtd\">\n<!-- Generated by graphviz version 2.43.0 (0)\n -->\n<!-- Title: %3 Pages: 1 -->\n<svg width=\"1555pt\" height=\"210pt\"\n viewBox=\"0.00 0.00 1555.00 210.00\" xmlns=\"http://www.w3.org/2000/svg\" xmlns:xlink=\"http://www.w3.org/1999/xlink\">\n<g id=\"graph0\" class=\"graph\" transform=\"scale(1 1) rotate(0) translate(4 206)\">\n<title>%3</title>\n<polygon fill=\"white\" stroke=\"transparent\" points=\"-4,4 -4,-206 1551,-206 1551,4 -4,4\"/>\n<!-- 139479134145552 -->\n<g id=\"node1\" class=\"node\">\n<title>139479134145552</title>\n<polygon fill=\"none\" stroke=\"black\" points=\"4,-165.5 4,-201.5 196,-201.5 196,-165.5 4,-165.5\"/>\n<text text-anchor=\"middle\" x=\"19\" y=\"-179.8\" font-family=\"Times,serif\" font-size=\"14.00\">x2</text>\n<polyline fill=\"none\" stroke=\"black\" points=\"34,-165.5 34,-201.5 \"/>\n<text text-anchor=\"middle\" x=\"74\" y=\"-179.8\" font-family=\"Times,serif\" font-size=\"14.00\">data 0.0000</text>\n<polyline fill=\"none\" stroke=\"black\" points=\"114,-165.5 114,-201.5 \"/>\n<text text-anchor=\"middle\" x=\"155\" y=\"-179.8\" font-family=\"Times,serif\" font-size=\"14.00\">grad 0.5000</text>\n</g>\n<!-- 139479134154912* -->\n<g id=\"node5\" class=\"node\">\n<title>139479134154912*</title>\n<ellipse fill=\"none\" stroke=\"black\" cx=\"263\" cy=\"-128.5\" rx=\"27\" ry=\"18\"/>\n<text text-anchor=\"middle\" x=\"263\" y=\"-124.8\" font-family=\"Times,serif\" font-size=\"14.00\">*</text>\n</g>\n<!-- 139479134145552&#45;&gt;139479134154912* -->\n<g id=\"edge7\" class=\"edge\">\n<title>139479134145552&#45;&gt;139479134154912*</title>\n<path fill=\"none\" stroke=\"black\" d=\"M172.53,-165.44C181.84,-162.67 191.2,-159.67 200,-156.5 210.53,-152.71 221.75,-147.9 231.72,-143.33\"/>\n<polygon fill=\"black\" stroke=\"black\" points=\"233.25,-146.48 240.82,-139.07 230.28,-140.14 233.25,-146.48\"/>\n</g>\n<!-- 139479134152752 -->\n<g id=\"node2\" class=\"node\">\n<title>139479134152752</title>\n<polygon fill=\"none\" stroke=\"black\" points=\"666,-82.5 666,-118.5 925,-118.5 925,-82.5 666,-82.5\"/>\n<text text-anchor=\"middle\" x=\"712\" y=\"-96.8\" font-family=\"Times,serif\" font-size=\"14.00\">x1w1 + x2w2</text>\n<polyline fill=\"none\" stroke=\"black\" points=\"758,-82.5 758,-118.5 \"/>\n<text text-anchor=\"middle\" x=\"800.5\" y=\"-96.8\" font-family=\"Times,serif\" font-size=\"14.00\">data &#45;6.0000</text>\n<polyline fill=\"none\" stroke=\"black\" points=\"843,-82.5 843,-118.5 \"/>\n<text text-anchor=\"middle\" x=\"884\" y=\"-96.8\" font-family=\"Times,serif\" font-size=\"14.00\">grad 0.5000</text>\n</g>\n<!-- 139479134148912+ -->\n<g id=\"node8\" class=\"node\">\n<title>139479134148912+</title>\n<ellipse fill=\"none\" stroke=\"black\" cx=\"988\" cy=\"-72.5\" rx=\"27\" ry=\"18\"/>\n<text text-anchor=\"middle\" x=\"988\" y=\"-68.8\" font-family=\"Times,serif\" font-size=\"14.00\">+</text>\n</g>\n<!-- 139479134152752&#45;&gt;139479134148912+ -->\n<g id=\"edge13\" class=\"edge\">\n<title>139479134152752&#45;&gt;139479134148912+</title>\n<path fill=\"none\" stroke=\"black\" d=\"M919.03,-82.49C930.7,-80.77 941.77,-79.15 951.46,-77.72\"/>\n<polygon fill=\"black\" stroke=\"black\" points=\"952.01,-81.18 961.4,-76.26 951,-74.25 952.01,-81.18\"/>\n</g>\n<!-- 139479134152752+ -->\n<g id=\"node3\" class=\"node\">\n<title>139479134152752+</title>\n<ellipse fill=\"none\" stroke=\"black\" cx=\"603\" cy=\"-100.5\" rx=\"27\" ry=\"18\"/>\n<text text-anchor=\"middle\" x=\"603\" y=\"-96.8\" font-family=\"Times,serif\" font-size=\"14.00\">+</text>\n</g>\n<!-- 139479134152752+&#45;&gt;139479134152752 -->\n<g id=\"edge1\" class=\"edge\">\n<title>139479134152752+&#45;&gt;139479134152752</title>\n<path fill=\"none\" stroke=\"black\" d=\"M630.09,-100.5C637.58,-100.5 646.3,-100.5 655.75,-100.5\"/>\n<polygon fill=\"black\" stroke=\"black\" points=\"655.84,-104 665.84,-100.5 655.84,-97 655.84,-104\"/>\n</g>\n<!-- 139479134154912 -->\n<g id=\"node4\" class=\"node\">\n<title>139479134154912</title>\n<polygon fill=\"none\" stroke=\"black\" points=\"328.5,-110.5 328.5,-146.5 537.5,-146.5 537.5,-110.5 328.5,-110.5\"/>\n<text text-anchor=\"middle\" x=\"352\" y=\"-124.8\" font-family=\"Times,serif\" font-size=\"14.00\">x2w2</text>\n<polyline fill=\"none\" stroke=\"black\" points=\"375.5,-110.5 375.5,-146.5 \"/>\n<text text-anchor=\"middle\" x=\"415.5\" y=\"-124.8\" font-family=\"Times,serif\" font-size=\"14.00\">data 0.0000</text>\n<polyline fill=\"none\" stroke=\"black\" points=\"455.5,-110.5 455.5,-146.5 \"/>\n<text text-anchor=\"middle\" x=\"496.5\" y=\"-124.8\" font-family=\"Times,serif\" font-size=\"14.00\">grad 0.5000</text>\n</g>\n<!-- 139479134154912&#45;&gt;139479134152752+ -->\n<g id=\"edge6\" class=\"edge\">\n<title>139479134154912&#45;&gt;139479134152752+</title>\n<path fill=\"none\" stroke=\"black\" d=\"M537.53,-111.25C547.8,-109.53 557.66,-107.89 566.45,-106.43\"/>\n<polygon fill=\"black\" stroke=\"black\" points=\"567.3,-109.83 576.59,-104.74 566.15,-102.93 567.3,-109.83\"/>\n</g>\n<!-- 139479134154912*&#45;&gt;139479134154912 -->\n<g id=\"edge2\" class=\"edge\">\n<title>139479134154912*&#45;&gt;139479134154912</title>\n<path fill=\"none\" stroke=\"black\" d=\"M290.25,-128.5C298.43,-128.5 308.03,-128.5 318.31,-128.5\"/>\n<polygon fill=\"black\" stroke=\"black\" points=\"318.35,-132 328.35,-128.5 318.35,-125 318.35,-132\"/>\n</g>\n<!-- 139479134150304 -->\n<g id=\"node6\" class=\"node\">\n<title>139479134150304</title>\n<polygon fill=\"none\" stroke=\"black\" points=\"2.5,-110.5 2.5,-146.5 197.5,-146.5 197.5,-110.5 2.5,-110.5\"/>\n<text text-anchor=\"middle\" x=\"19\" y=\"-124.8\" font-family=\"Times,serif\" font-size=\"14.00\">w2</text>\n<polyline fill=\"none\" stroke=\"black\" points=\"35.5,-110.5 35.5,-146.5 \"/>\n<text text-anchor=\"middle\" x=\"75.5\" y=\"-124.8\" font-family=\"Times,serif\" font-size=\"14.00\">data 1.0000</text>\n<polyline fill=\"none\" stroke=\"black\" points=\"115.5,-110.5 115.5,-146.5 \"/>\n<text text-anchor=\"middle\" x=\"156.5\" y=\"-124.8\" font-family=\"Times,serif\" font-size=\"14.00\">grad 0.0000</text>\n</g>\n<!-- 139479134150304&#45;&gt;139479134154912* -->\n<g id=\"edge9\" class=\"edge\">\n<title>139479134150304&#45;&gt;139479134154912*</title>\n<path fill=\"none\" stroke=\"black\" d=\"M197.91,-128.5C207.65,-128.5 217.05,-128.5 225.52,-128.5\"/>\n<polygon fill=\"black\" stroke=\"black\" points=\"225.7,-132 235.7,-128.5 225.7,-125 225.7,-132\"/>\n</g>\n<!-- 139479134148912 -->\n<g id=\"node7\" class=\"node\">\n<title>139479134148912</title>\n<polygon fill=\"none\" stroke=\"black\" points=\"1051,-54.5 1051,-90.5 1236,-90.5 1236,-54.5 1051,-54.5\"/>\n<text text-anchor=\"middle\" x=\"1062.5\" y=\"-68.8\" font-family=\"Times,serif\" font-size=\"14.00\">n</text>\n<polyline fill=\"none\" stroke=\"black\" points=\"1074,-54.5 1074,-90.5 \"/>\n<text text-anchor=\"middle\" x=\"1114\" y=\"-68.8\" font-family=\"Times,serif\" font-size=\"14.00\">data 0.8814</text>\n<polyline fill=\"none\" stroke=\"black\" points=\"1154,-54.5 1154,-90.5 \"/>\n<text text-anchor=\"middle\" x=\"1195\" y=\"-68.8\" font-family=\"Times,serif\" font-size=\"14.00\">grad 0.5000</text>\n</g>\n<!-- 139479134150064tanh -->\n<g id=\"node14\" class=\"node\">\n<title>139479134150064tanh</title>\n<ellipse fill=\"none\" stroke=\"black\" cx=\"1299\" cy=\"-72.5\" rx=\"27\" ry=\"18\"/>\n<text text-anchor=\"middle\" x=\"1299\" y=\"-68.8\" font-family=\"Times,serif\" font-size=\"14.00\">tanh</text>\n</g>\n<!-- 139479134148912&#45;&gt;139479134150064tanh -->\n<g id=\"edge14\" class=\"edge\">\n<title>139479134148912&#45;&gt;139479134150064tanh</title>\n<path fill=\"none\" stroke=\"black\" d=\"M1236.01,-72.5C1245.01,-72.5 1253.74,-72.5 1261.66,-72.5\"/>\n<polygon fill=\"black\" stroke=\"black\" points=\"1261.91,-76 1271.91,-72.5 1261.91,-69 1261.91,-76\"/>\n</g>\n<!-- 139479134148912+&#45;&gt;139479134148912 -->\n<g id=\"edge3\" class=\"edge\">\n<title>139479134148912+&#45;&gt;139479134148912</title>\n<path fill=\"none\" stroke=\"black\" d=\"M1015.04,-72.5C1022.58,-72.5 1031.3,-72.5 1040.57,-72.5\"/>\n<polygon fill=\"black\" stroke=\"black\" points=\"1040.81,-76 1050.81,-72.5 1040.81,-69 1040.81,-76\"/>\n</g>\n<!-- 139479134145840 -->\n<g id=\"node9\" class=\"node\">\n<title>139479134145840</title>\n<polygon fill=\"none\" stroke=\"black\" points=\"703,-27.5 703,-63.5 888,-63.5 888,-27.5 703,-27.5\"/>\n<text text-anchor=\"middle\" x=\"714.5\" y=\"-41.8\" font-family=\"Times,serif\" font-size=\"14.00\">b</text>\n<polyline fill=\"none\" stroke=\"black\" points=\"726,-27.5 726,-63.5 \"/>\n<text text-anchor=\"middle\" x=\"766\" y=\"-41.8\" font-family=\"Times,serif\" font-size=\"14.00\">data 6.8814</text>\n<polyline fill=\"none\" stroke=\"black\" points=\"806,-27.5 806,-63.5 \"/>\n<text text-anchor=\"middle\" x=\"847\" y=\"-41.8\" font-family=\"Times,serif\" font-size=\"14.00\">grad 0.5000</text>\n</g>\n<!-- 139479134145840&#45;&gt;139479134148912+ -->\n<g id=\"edge10\" class=\"edge\">\n<title>139479134145840&#45;&gt;139479134148912+</title>\n<path fill=\"none\" stroke=\"black\" d=\"M888.12,-58.49C910.59,-61.67 933.33,-64.89 951.33,-67.44\"/>\n<polygon fill=\"black\" stroke=\"black\" points=\"950.95,-70.93 961.34,-68.86 951.93,-63.99 950.95,-70.93\"/>\n</g>\n<!-- 139479134144352 -->\n<g id=\"node10\" class=\"node\">\n<title>139479134144352</title>\n<polygon fill=\"none\" stroke=\"black\" points=\"326,-55.5 326,-91.5 540,-91.5 540,-55.5 326,-55.5\"/>\n<text text-anchor=\"middle\" x=\"349.5\" y=\"-69.8\" font-family=\"Times,serif\" font-size=\"14.00\">x1w1</text>\n<polyline fill=\"none\" stroke=\"black\" points=\"373,-55.5 373,-91.5 \"/>\n<text text-anchor=\"middle\" x=\"415.5\" y=\"-69.8\" font-family=\"Times,serif\" font-size=\"14.00\">data &#45;6.0000</text>\n<polyline fill=\"none\" stroke=\"black\" points=\"458,-55.5 458,-91.5 \"/>\n<text text-anchor=\"middle\" x=\"499\" y=\"-69.8\" font-family=\"Times,serif\" font-size=\"14.00\">grad 0.5000</text>\n</g>\n<!-- 139479134144352&#45;&gt;139479134152752+ -->\n<g id=\"edge11\" class=\"edge\">\n<title>139479134144352&#45;&gt;139479134152752+</title>\n<path fill=\"none\" stroke=\"black\" d=\"M540.4,-90.6C549.72,-92.1 558.65,-93.53 566.68,-94.82\"/>\n<polygon fill=\"black\" stroke=\"black\" points=\"566.24,-98.3 576.66,-96.43 567.35,-91.39 566.24,-98.3\"/>\n</g>\n<!-- 139479134144352* -->\n<g id=\"node11\" class=\"node\">\n<title>139479134144352*</title>\n<ellipse fill=\"none\" stroke=\"black\" cx=\"263\" cy=\"-73.5\" rx=\"27\" ry=\"18\"/>\n<text text-anchor=\"middle\" x=\"263\" y=\"-69.8\" font-family=\"Times,serif\" font-size=\"14.00\">*</text>\n</g>\n<!-- 139479134144352*&#45;&gt;139479134144352 -->\n<g id=\"edge4\" class=\"edge\">\n<title>139479134144352*&#45;&gt;139479134144352</title>\n<path fill=\"none\" stroke=\"black\" d=\"M290.25,-73.5C297.7,-73.5 306.34,-73.5 315.59,-73.5\"/>\n<polygon fill=\"black\" stroke=\"black\" points=\"315.84,-77 325.84,-73.5 315.84,-70 315.84,-77\"/>\n</g>\n<!-- 139479134157696 -->\n<g id=\"node12\" class=\"node\">\n<title>139479134157696</title>\n<polygon fill=\"none\" stroke=\"black\" points=\"0,-55.5 0,-91.5 200,-91.5 200,-55.5 0,-55.5\"/>\n<text text-anchor=\"middle\" x=\"16.5\" y=\"-69.8\" font-family=\"Times,serif\" font-size=\"14.00\">w1</text>\n<polyline fill=\"none\" stroke=\"black\" points=\"33,-55.5 33,-91.5 \"/>\n<text text-anchor=\"middle\" x=\"75.5\" y=\"-69.8\" font-family=\"Times,serif\" font-size=\"14.00\">data &#45;3.0000</text>\n<polyline fill=\"none\" stroke=\"black\" points=\"118,-55.5 118,-91.5 \"/>\n<text text-anchor=\"middle\" x=\"159\" y=\"-69.8\" font-family=\"Times,serif\" font-size=\"14.00\">grad 1.0000</text>\n</g>\n<!-- 139479134157696&#45;&gt;139479134144352* -->\n<g id=\"edge12\" class=\"edge\">\n<title>139479134157696&#45;&gt;139479134144352*</title>\n<path fill=\"none\" stroke=\"black\" d=\"M200.21,-73.5C209.2,-73.5 217.86,-73.5 225.7,-73.5\"/>\n<polygon fill=\"black\" stroke=\"black\" points=\"225.85,-77 235.85,-73.5 225.85,-70 225.85,-77\"/>\n</g>\n<!-- 139479134150064 -->\n<g id=\"node13\" class=\"node\">\n<title>139479134150064</title>\n<polygon fill=\"none\" stroke=\"black\" points=\"1362,-54.5 1362,-90.5 1547,-90.5 1547,-54.5 1362,-54.5\"/>\n<text text-anchor=\"middle\" x=\"1373.5\" y=\"-68.8\" font-family=\"Times,serif\" font-size=\"14.00\">o</text>\n<polyline fill=\"none\" stroke=\"black\" points=\"1385,-54.5 1385,-90.5 \"/>\n<text text-anchor=\"middle\" x=\"1425\" y=\"-68.8\" font-family=\"Times,serif\" font-size=\"14.00\">data 0.7071</text>\n<polyline fill=\"none\" stroke=\"black\" points=\"1465,-54.5 1465,-90.5 \"/>\n<text text-anchor=\"middle\" x=\"1506\" y=\"-68.8\" font-family=\"Times,serif\" font-size=\"14.00\">grad 1.0000</text>\n</g>\n<!-- 139479134150064tanh&#45;&gt;139479134150064 -->\n<g id=\"edge5\" class=\"edge\">\n<title>139479134150064tanh&#45;&gt;139479134150064</title>\n<path fill=\"none\" stroke=\"black\" d=\"M1326.04,-72.5C1333.58,-72.5 1342.3,-72.5 1351.57,-72.5\"/>\n<polygon fill=\"black\" stroke=\"black\" points=\"1351.81,-76 1361.81,-72.5 1351.81,-69 1351.81,-76\"/>\n</g>\n<!-- 139479134144976 -->\n<g id=\"node15\" class=\"node\">\n<title>139479134144976</title>\n<polygon fill=\"none\" stroke=\"black\" points=\"2,-0.5 2,-36.5 198,-36.5 198,-0.5 2,-0.5\"/>\n<text text-anchor=\"middle\" x=\"17\" y=\"-14.8\" font-family=\"Times,serif\" font-size=\"14.00\">x1</text>\n<polyline fill=\"none\" stroke=\"black\" points=\"32,-0.5 32,-36.5 \"/>\n<text text-anchor=\"middle\" x=\"72\" y=\"-14.8\" font-family=\"Times,serif\" font-size=\"14.00\">data 2.0000</text>\n<polyline fill=\"none\" stroke=\"black\" points=\"112,-0.5 112,-36.5 \"/>\n<text text-anchor=\"middle\" x=\"155\" y=\"-14.8\" font-family=\"Times,serif\" font-size=\"14.00\">grad &#45;1.5000</text>\n</g>\n<!-- 139479134144976&#45;&gt;139479134144352* -->\n<g id=\"edge8\" class=\"edge\">\n<title>139479134144976&#45;&gt;139479134144352*</title>\n<path fill=\"none\" stroke=\"black\" d=\"M169.28,-36.5C179.65,-39.61 190.16,-42.98 200,-46.5 210.28,-50.17 221.28,-54.74 231.11,-59.07\"/>\n<polygon fill=\"black\" stroke=\"black\" points=\"229.93,-62.37 240.48,-63.27 232.79,-55.99 229.93,-62.37\"/>\n</g>\n</g>\n</svg>\n",
            "text/plain": [
              "<graphviz.graphs.Digraph at 0x7edb043e9780>"
            ]
          },
          "metadata": {},
          "execution_count": 71
        }
      ]
    },
    {
      "cell_type": "markdown",
      "source": [
        "So, thats our one neuron backpropogation working.\n",
        "\n",
        "But we have a bug here, lets test it out!"
      ],
      "metadata": {
        "id": "A-LGVGAMq0Bl"
      }
    },
    {
      "cell_type": "code",
      "source": [
        "a = Value(3.0, label='a')\n",
        "b = a + a\n",
        "b.label='b'\n",
        "b.backward()\n",
        "draw_dot(b)"
      ],
      "metadata": {
        "colab": {
          "base_uri": "https://localhost:8080/",
          "height": 81
        },
        "id": "JT6K_8cGqbsM",
        "outputId": "9b956c3a-a69b-4f58-adfa-2702a0881a6c"
      },
      "execution_count": 72,
      "outputs": [
        {
          "output_type": "execute_result",
          "data": {
            "image/svg+xml": "<?xml version=\"1.0\" encoding=\"UTF-8\" standalone=\"no\"?>\n<!DOCTYPE svg PUBLIC \"-//W3C//DTD SVG 1.1//EN\"\n \"http://www.w3.org/Graphics/SVG/1.1/DTD/svg11.dtd\">\n<!-- Generated by graphviz version 2.43.0 (0)\n -->\n<!-- Title: %3 Pages: 1 -->\n<svg width=\"504pt\" height=\"45pt\"\n viewBox=\"0.00 0.00 504.00 45.00\" xmlns=\"http://www.w3.org/2000/svg\" xmlns:xlink=\"http://www.w3.org/1999/xlink\">\n<g id=\"graph0\" class=\"graph\" transform=\"scale(1 1) rotate(0) translate(4 41)\">\n<title>%3</title>\n<polygon fill=\"white\" stroke=\"transparent\" points=\"-4,4 -4,-41 500,-41 500,4 -4,4\"/>\n<!-- 139479134155008 -->\n<g id=\"node1\" class=\"node\">\n<title>139479134155008</title>\n<polygon fill=\"none\" stroke=\"black\" points=\"0,-0.5 0,-36.5 185,-36.5 185,-0.5 0,-0.5\"/>\n<text text-anchor=\"middle\" x=\"11.5\" y=\"-14.8\" font-family=\"Times,serif\" font-size=\"14.00\">a</text>\n<polyline fill=\"none\" stroke=\"black\" points=\"23,-0.5 23,-36.5 \"/>\n<text text-anchor=\"middle\" x=\"63\" y=\"-14.8\" font-family=\"Times,serif\" font-size=\"14.00\">data 3.0000</text>\n<polyline fill=\"none\" stroke=\"black\" points=\"103,-0.5 103,-36.5 \"/>\n<text text-anchor=\"middle\" x=\"144\" y=\"-14.8\" font-family=\"Times,serif\" font-size=\"14.00\">grad 1.0000</text>\n</g>\n<!-- 139479134146752+ -->\n<g id=\"node3\" class=\"node\">\n<title>139479134146752+</title>\n<ellipse fill=\"none\" stroke=\"black\" cx=\"248\" cy=\"-18.5\" rx=\"27\" ry=\"18\"/>\n<text text-anchor=\"middle\" x=\"248\" y=\"-14.8\" font-family=\"Times,serif\" font-size=\"14.00\">+</text>\n</g>\n<!-- 139479134155008&#45;&gt;139479134146752+ -->\n<g id=\"edge2\" class=\"edge\">\n<title>139479134155008&#45;&gt;139479134146752+</title>\n<path fill=\"none\" stroke=\"black\" d=\"M185.01,-18.5C194.01,-18.5 202.74,-18.5 210.66,-18.5\"/>\n<polygon fill=\"black\" stroke=\"black\" points=\"210.91,-22 220.91,-18.5 210.91,-15 210.91,-22\"/>\n</g>\n<!-- 139479134146752 -->\n<g id=\"node2\" class=\"node\">\n<title>139479134146752</title>\n<polygon fill=\"none\" stroke=\"black\" points=\"311,-0.5 311,-36.5 496,-36.5 496,-0.5 311,-0.5\"/>\n<text text-anchor=\"middle\" x=\"322.5\" y=\"-14.8\" font-family=\"Times,serif\" font-size=\"14.00\">b</text>\n<polyline fill=\"none\" stroke=\"black\" points=\"334,-0.5 334,-36.5 \"/>\n<text text-anchor=\"middle\" x=\"374\" y=\"-14.8\" font-family=\"Times,serif\" font-size=\"14.00\">data 6.0000</text>\n<polyline fill=\"none\" stroke=\"black\" points=\"414,-0.5 414,-36.5 \"/>\n<text text-anchor=\"middle\" x=\"455\" y=\"-14.8\" font-family=\"Times,serif\" font-size=\"14.00\">grad 1.0000</text>\n</g>\n<!-- 139479134146752+&#45;&gt;139479134146752 -->\n<g id=\"edge1\" class=\"edge\">\n<title>139479134146752+&#45;&gt;139479134146752</title>\n<path fill=\"none\" stroke=\"black\" d=\"M275.04,-18.5C282.58,-18.5 291.3,-18.5 300.57,-18.5\"/>\n<polygon fill=\"black\" stroke=\"black\" points=\"300.81,-22 310.81,-18.5 300.81,-15 300.81,-22\"/>\n</g>\n</g>\n</svg>\n",
            "text/plain": [
              "<graphviz.graphs.Digraph at 0x7edb043ea200>"
            ]
          },
          "metadata": {},
          "execution_count": 72
        }
      ]
    },
    {
      "cell_type": "markdown",
      "source": [
        "\n",
        "a + a = b\n",
        "\n",
        "gradient of `a` wrt `b` = `db/da `= 1 + 1 = 2\n",
        "\n",
        "gradient for a is 1, should be 2. This is because in our code, for add method we just distribute the gradients to the precursors, but here in this case, the precursors are same\n"
      ],
      "metadata": {
        "id": "67liIUriIPF0"
      }
    },
    {
      "cell_type": "code",
      "source": [
        "# lets see a complex experession\n",
        "a = Value(-2.0, label='a')\n",
        "b = Value(3.0, label='b')\n",
        "d = a * b; d.label = 'd'\n",
        "e = a + b; e.label = 'e'\n",
        "f = d * e; f.label = 'f'\n",
        "\n",
        "draw_dot(f)"
      ],
      "metadata": {
        "colab": {
          "base_uri": "https://localhost:8080/",
          "height": 154
        },
        "id": "CeBN-0sMrNgU",
        "outputId": "0f2ebffa-f6d2-431a-91e3-939cfd1527a8"
      },
      "execution_count": 73,
      "outputs": [
        {
          "output_type": "execute_result",
          "data": {
            "image/svg+xml": "<?xml version=\"1.0\" encoding=\"UTF-8\" standalone=\"no\"?>\n<!DOCTYPE svg PUBLIC \"-//W3C//DTD SVG 1.1//EN\"\n \"http://www.w3.org/Graphics/SVG/1.1/DTD/svg11.dtd\">\n<!-- Generated by graphviz version 2.43.0 (0)\n -->\n<!-- Title: %3 Pages: 1 -->\n<svg width=\"828pt\" height=\"100pt\"\n viewBox=\"0.00 0.00 828.00 100.00\" xmlns=\"http://www.w3.org/2000/svg\" xmlns:xlink=\"http://www.w3.org/1999/xlink\">\n<g id=\"graph0\" class=\"graph\" transform=\"scale(1 1) rotate(0) translate(4 96)\">\n<title>%3</title>\n<polygon fill=\"white\" stroke=\"transparent\" points=\"-4,4 -4,-96 824,-96 824,4 -4,4\"/>\n<!-- 139479134155824 -->\n<g id=\"node1\" class=\"node\">\n<title>139479134155824</title>\n<polygon fill=\"none\" stroke=\"black\" points=\"316,-55.5 316,-91.5 506,-91.5 506,-55.5 316,-55.5\"/>\n<text text-anchor=\"middle\" x=\"327.5\" y=\"-69.8\" font-family=\"Times,serif\" font-size=\"14.00\">d</text>\n<polyline fill=\"none\" stroke=\"black\" points=\"339,-55.5 339,-91.5 \"/>\n<text text-anchor=\"middle\" x=\"381.5\" y=\"-69.8\" font-family=\"Times,serif\" font-size=\"14.00\">data &#45;6.0000</text>\n<polyline fill=\"none\" stroke=\"black\" points=\"424,-55.5 424,-91.5 \"/>\n<text text-anchor=\"middle\" x=\"465\" y=\"-69.8\" font-family=\"Times,serif\" font-size=\"14.00\">grad 0.0000</text>\n</g>\n<!-- 139479134146512* -->\n<g id=\"node8\" class=\"node\">\n<title>139479134146512*</title>\n<ellipse fill=\"none\" stroke=\"black\" cx=\"569\" cy=\"-45.5\" rx=\"27\" ry=\"18\"/>\n<text text-anchor=\"middle\" x=\"569\" y=\"-41.8\" font-family=\"Times,serif\" font-size=\"14.00\">*</text>\n</g>\n<!-- 139479134155824&#45;&gt;139479134146512* -->\n<g id=\"edge7\" class=\"edge\">\n<title>139479134155824&#45;&gt;139479134146512*</title>\n<path fill=\"none\" stroke=\"black\" d=\"M506.34,-56.57C515.62,-54.9 524.58,-53.29 532.66,-51.84\"/>\n<polygon fill=\"black\" stroke=\"black\" points=\"533.49,-55.25 542.72,-50.04 532.26,-48.36 533.49,-55.25\"/>\n</g>\n<!-- 139479134155824* -->\n<g id=\"node2\" class=\"node\">\n<title>139479134155824*</title>\n<ellipse fill=\"none\" stroke=\"black\" cx=\"253\" cy=\"-73.5\" rx=\"27\" ry=\"18\"/>\n<text text-anchor=\"middle\" x=\"253\" y=\"-69.8\" font-family=\"Times,serif\" font-size=\"14.00\">*</text>\n</g>\n<!-- 139479134155824*&#45;&gt;139479134155824 -->\n<g id=\"edge1\" class=\"edge\">\n<title>139479134155824*&#45;&gt;139479134155824</title>\n<path fill=\"none\" stroke=\"black\" d=\"M280.11,-73.5C287.63,-73.5 296.32,-73.5 305.58,-73.5\"/>\n<polygon fill=\"black\" stroke=\"black\" points=\"305.81,-77 315.81,-73.5 305.81,-70 305.81,-77\"/>\n</g>\n<!-- 139479134157408 -->\n<g id=\"node3\" class=\"node\">\n<title>139479134157408</title>\n<polygon fill=\"none\" stroke=\"black\" points=\"318.5,-0.5 318.5,-36.5 503.5,-36.5 503.5,-0.5 318.5,-0.5\"/>\n<text text-anchor=\"middle\" x=\"330\" y=\"-14.8\" font-family=\"Times,serif\" font-size=\"14.00\">e</text>\n<polyline fill=\"none\" stroke=\"black\" points=\"341.5,-0.5 341.5,-36.5 \"/>\n<text text-anchor=\"middle\" x=\"381.5\" y=\"-14.8\" font-family=\"Times,serif\" font-size=\"14.00\">data 1.0000</text>\n<polyline fill=\"none\" stroke=\"black\" points=\"421.5,-0.5 421.5,-36.5 \"/>\n<text text-anchor=\"middle\" x=\"462.5\" y=\"-14.8\" font-family=\"Times,serif\" font-size=\"14.00\">grad 0.0000</text>\n</g>\n<!-- 139479134157408&#45;&gt;139479134146512* -->\n<g id=\"edge9\" class=\"edge\">\n<title>139479134157408&#45;&gt;139479134146512*</title>\n<path fill=\"none\" stroke=\"black\" d=\"M503.65,-34.36C513.94,-36.14 523.91,-37.87 532.81,-39.41\"/>\n<polygon fill=\"black\" stroke=\"black\" points=\"532.26,-42.87 542.71,-41.12 533.45,-35.97 532.26,-42.87\"/>\n</g>\n<!-- 139479134157408+ -->\n<g id=\"node4\" class=\"node\">\n<title>139479134157408+</title>\n<ellipse fill=\"none\" stroke=\"black\" cx=\"253\" cy=\"-18.5\" rx=\"27\" ry=\"18\"/>\n<text text-anchor=\"middle\" x=\"253\" y=\"-14.8\" font-family=\"Times,serif\" font-size=\"14.00\">+</text>\n</g>\n<!-- 139479134157408+&#45;&gt;139479134157408 -->\n<g id=\"edge2\" class=\"edge\">\n<title>139479134157408+&#45;&gt;139479134157408</title>\n<path fill=\"none\" stroke=\"black\" d=\"M280.11,-18.5C288.39,-18.5 298.1,-18.5 308.42,-18.5\"/>\n<polygon fill=\"black\" stroke=\"black\" points=\"308.47,-22 318.47,-18.5 308.47,-15 308.47,-22\"/>\n</g>\n<!-- 139479132509360 -->\n<g id=\"node5\" class=\"node\">\n<title>139479132509360</title>\n<polygon fill=\"none\" stroke=\"black\" points=\"0,-55.5 0,-91.5 190,-91.5 190,-55.5 0,-55.5\"/>\n<text text-anchor=\"middle\" x=\"11.5\" y=\"-69.8\" font-family=\"Times,serif\" font-size=\"14.00\">a</text>\n<polyline fill=\"none\" stroke=\"black\" points=\"23,-55.5 23,-91.5 \"/>\n<text text-anchor=\"middle\" x=\"65.5\" y=\"-69.8\" font-family=\"Times,serif\" font-size=\"14.00\">data &#45;2.0000</text>\n<polyline fill=\"none\" stroke=\"black\" points=\"108,-55.5 108,-91.5 \"/>\n<text text-anchor=\"middle\" x=\"149\" y=\"-69.8\" font-family=\"Times,serif\" font-size=\"14.00\">grad 0.0000</text>\n</g>\n<!-- 139479132509360&#45;&gt;139479134155824* -->\n<g id=\"edge6\" class=\"edge\">\n<title>139479132509360&#45;&gt;139479134155824*</title>\n<path fill=\"none\" stroke=\"black\" d=\"M190.34,-73.5C199.26,-73.5 207.87,-73.5 215.69,-73.5\"/>\n<polygon fill=\"black\" stroke=\"black\" points=\"215.82,-77 225.82,-73.5 215.82,-70 215.82,-77\"/>\n</g>\n<!-- 139479132509360&#45;&gt;139479134157408+ -->\n<g id=\"edge8\" class=\"edge\">\n<title>139479132509360&#45;&gt;139479134157408+</title>\n<path fill=\"none\" stroke=\"black\" d=\"M163.39,-55.42C172.4,-52.63 181.47,-49.63 190,-46.5 200.5,-42.64 211.72,-37.81 221.69,-33.24\"/>\n<polygon fill=\"black\" stroke=\"black\" points=\"223.21,-36.39 230.8,-28.99 220.26,-30.05 223.21,-36.39\"/>\n</g>\n<!-- 139479132508928 -->\n<g id=\"node6\" class=\"node\">\n<title>139479132508928</title>\n<polygon fill=\"none\" stroke=\"black\" points=\"2.5,-0.5 2.5,-36.5 187.5,-36.5 187.5,-0.5 2.5,-0.5\"/>\n<text text-anchor=\"middle\" x=\"14\" y=\"-14.8\" font-family=\"Times,serif\" font-size=\"14.00\">b</text>\n<polyline fill=\"none\" stroke=\"black\" points=\"25.5,-0.5 25.5,-36.5 \"/>\n<text text-anchor=\"middle\" x=\"65.5\" y=\"-14.8\" font-family=\"Times,serif\" font-size=\"14.00\">data 3.0000</text>\n<polyline fill=\"none\" stroke=\"black\" points=\"105.5,-0.5 105.5,-36.5 \"/>\n<text text-anchor=\"middle\" x=\"146.5\" y=\"-14.8\" font-family=\"Times,serif\" font-size=\"14.00\">grad 0.0000</text>\n</g>\n<!-- 139479132508928&#45;&gt;139479134155824* -->\n<g id=\"edge4\" class=\"edge\">\n<title>139479132508928&#45;&gt;139479134155824*</title>\n<path fill=\"none\" stroke=\"black\" d=\"M160.31,-36.52C170.31,-39.65 180.48,-43.02 190,-46.5 200.26,-50.25 211.24,-54.83 221.08,-59.16\"/>\n<polygon fill=\"black\" stroke=\"black\" points=\"219.9,-62.46 230.45,-63.35 222.75,-56.07 219.9,-62.46\"/>\n</g>\n<!-- 139479132508928&#45;&gt;139479134157408+ -->\n<g id=\"edge5\" class=\"edge\">\n<title>139479132508928&#45;&gt;139479134157408+</title>\n<path fill=\"none\" stroke=\"black\" d=\"M187.65,-18.5C197.55,-18.5 207.15,-18.5 215.78,-18.5\"/>\n<polygon fill=\"black\" stroke=\"black\" points=\"215.78,-22 225.78,-18.5 215.78,-15 215.78,-22\"/>\n</g>\n<!-- 139479134146512 -->\n<g id=\"node7\" class=\"node\">\n<title>139479134146512</title>\n<polygon fill=\"none\" stroke=\"black\" points=\"632,-27.5 632,-63.5 820,-63.5 820,-27.5 632,-27.5\"/>\n<text text-anchor=\"middle\" x=\"642.5\" y=\"-41.8\" font-family=\"Times,serif\" font-size=\"14.00\">f</text>\n<polyline fill=\"none\" stroke=\"black\" points=\"653,-27.5 653,-63.5 \"/>\n<text text-anchor=\"middle\" x=\"695.5\" y=\"-41.8\" font-family=\"Times,serif\" font-size=\"14.00\">data &#45;6.0000</text>\n<polyline fill=\"none\" stroke=\"black\" points=\"738,-27.5 738,-63.5 \"/>\n<text text-anchor=\"middle\" x=\"779\" y=\"-41.8\" font-family=\"Times,serif\" font-size=\"14.00\">grad 0.0000</text>\n</g>\n<!-- 139479134146512*&#45;&gt;139479134146512 -->\n<g id=\"edge3\" class=\"edge\">\n<title>139479134146512*&#45;&gt;139479134146512</title>\n<path fill=\"none\" stroke=\"black\" d=\"M596.29,-45.5C603.78,-45.5 612.42,-45.5 621.6,-45.5\"/>\n<polygon fill=\"black\" stroke=\"black\" points=\"621.76,-49 631.76,-45.5 621.76,-42 621.76,-49\"/>\n</g>\n</g>\n</svg>\n",
            "text/plain": [
              "<graphviz.graphs.Digraph at 0x7edb043e8ac0>"
            ]
          },
          "metadata": {},
          "execution_count": 73
        }
      ]
    },
    {
      "cell_type": "code",
      "source": [
        "f.backward()\n",
        "draw_dot(f)"
      ],
      "metadata": {
        "colab": {
          "base_uri": "https://localhost:8080/",
          "height": 154
        },
        "id": "L4YYMoTcPAou",
        "outputId": "665db2e9-d351-4b1b-bcda-408830a3fbd1"
      },
      "execution_count": 74,
      "outputs": [
        {
          "output_type": "execute_result",
          "data": {
            "image/svg+xml": "<?xml version=\"1.0\" encoding=\"UTF-8\" standalone=\"no\"?>\n<!DOCTYPE svg PUBLIC \"-//W3C//DTD SVG 1.1//EN\"\n \"http://www.w3.org/Graphics/SVG/1.1/DTD/svg11.dtd\">\n<!-- Generated by graphviz version 2.43.0 (0)\n -->\n<!-- Title: %3 Pages: 1 -->\n<svg width=\"828pt\" height=\"100pt\"\n viewBox=\"0.00 0.00 828.00 100.00\" xmlns=\"http://www.w3.org/2000/svg\" xmlns:xlink=\"http://www.w3.org/1999/xlink\">\n<g id=\"graph0\" class=\"graph\" transform=\"scale(1 1) rotate(0) translate(4 96)\">\n<title>%3</title>\n<polygon fill=\"white\" stroke=\"transparent\" points=\"-4,4 -4,-96 824,-96 824,4 -4,4\"/>\n<!-- 139479134155824 -->\n<g id=\"node1\" class=\"node\">\n<title>139479134155824</title>\n<polygon fill=\"none\" stroke=\"black\" points=\"316,-55.5 316,-91.5 506,-91.5 506,-55.5 316,-55.5\"/>\n<text text-anchor=\"middle\" x=\"327.5\" y=\"-69.8\" font-family=\"Times,serif\" font-size=\"14.00\">d</text>\n<polyline fill=\"none\" stroke=\"black\" points=\"339,-55.5 339,-91.5 \"/>\n<text text-anchor=\"middle\" x=\"381.5\" y=\"-69.8\" font-family=\"Times,serif\" font-size=\"14.00\">data &#45;6.0000</text>\n<polyline fill=\"none\" stroke=\"black\" points=\"424,-55.5 424,-91.5 \"/>\n<text text-anchor=\"middle\" x=\"465\" y=\"-69.8\" font-family=\"Times,serif\" font-size=\"14.00\">grad 1.0000</text>\n</g>\n<!-- 139479134146512* -->\n<g id=\"node8\" class=\"node\">\n<title>139479134146512*</title>\n<ellipse fill=\"none\" stroke=\"black\" cx=\"569\" cy=\"-45.5\" rx=\"27\" ry=\"18\"/>\n<text text-anchor=\"middle\" x=\"569\" y=\"-41.8\" font-family=\"Times,serif\" font-size=\"14.00\">*</text>\n</g>\n<!-- 139479134155824&#45;&gt;139479134146512* -->\n<g id=\"edge7\" class=\"edge\">\n<title>139479134155824&#45;&gt;139479134146512*</title>\n<path fill=\"none\" stroke=\"black\" d=\"M506.34,-56.57C515.62,-54.9 524.58,-53.29 532.66,-51.84\"/>\n<polygon fill=\"black\" stroke=\"black\" points=\"533.49,-55.25 542.72,-50.04 532.26,-48.36 533.49,-55.25\"/>\n</g>\n<!-- 139479134155824* -->\n<g id=\"node2\" class=\"node\">\n<title>139479134155824*</title>\n<ellipse fill=\"none\" stroke=\"black\" cx=\"253\" cy=\"-73.5\" rx=\"27\" ry=\"18\"/>\n<text text-anchor=\"middle\" x=\"253\" y=\"-69.8\" font-family=\"Times,serif\" font-size=\"14.00\">*</text>\n</g>\n<!-- 139479134155824*&#45;&gt;139479134155824 -->\n<g id=\"edge1\" class=\"edge\">\n<title>139479134155824*&#45;&gt;139479134155824</title>\n<path fill=\"none\" stroke=\"black\" d=\"M280.11,-73.5C287.63,-73.5 296.32,-73.5 305.58,-73.5\"/>\n<polygon fill=\"black\" stroke=\"black\" points=\"305.81,-77 315.81,-73.5 305.81,-70 305.81,-77\"/>\n</g>\n<!-- 139479134157408 -->\n<g id=\"node3\" class=\"node\">\n<title>139479134157408</title>\n<polygon fill=\"none\" stroke=\"black\" points=\"316.5,-0.5 316.5,-36.5 505.5,-36.5 505.5,-0.5 316.5,-0.5\"/>\n<text text-anchor=\"middle\" x=\"328\" y=\"-14.8\" font-family=\"Times,serif\" font-size=\"14.00\">e</text>\n<polyline fill=\"none\" stroke=\"black\" points=\"339.5,-0.5 339.5,-36.5 \"/>\n<text text-anchor=\"middle\" x=\"379.5\" y=\"-14.8\" font-family=\"Times,serif\" font-size=\"14.00\">data 1.0000</text>\n<polyline fill=\"none\" stroke=\"black\" points=\"419.5,-0.5 419.5,-36.5 \"/>\n<text text-anchor=\"middle\" x=\"462.5\" y=\"-14.8\" font-family=\"Times,serif\" font-size=\"14.00\">grad &#45;6.0000</text>\n</g>\n<!-- 139479134157408&#45;&gt;139479134146512* -->\n<g id=\"edge9\" class=\"edge\">\n<title>139479134157408&#45;&gt;139479134146512*</title>\n<path fill=\"none\" stroke=\"black\" d=\"M505.9,-34.75C515.33,-36.38 524.45,-37.96 532.65,-39.38\"/>\n<polygon fill=\"black\" stroke=\"black\" points=\"532.06,-42.83 542.51,-41.09 533.26,-35.93 532.06,-42.83\"/>\n</g>\n<!-- 139479134157408+ -->\n<g id=\"node4\" class=\"node\">\n<title>139479134157408+</title>\n<ellipse fill=\"none\" stroke=\"black\" cx=\"253\" cy=\"-18.5\" rx=\"27\" ry=\"18\"/>\n<text text-anchor=\"middle\" x=\"253\" y=\"-14.8\" font-family=\"Times,serif\" font-size=\"14.00\">+</text>\n</g>\n<!-- 139479134157408+&#45;&gt;139479134157408 -->\n<g id=\"edge2\" class=\"edge\">\n<title>139479134157408+&#45;&gt;139479134157408</title>\n<path fill=\"none\" stroke=\"black\" d=\"M280.11,-18.5C287.84,-18.5 296.8,-18.5 306.35,-18.5\"/>\n<polygon fill=\"black\" stroke=\"black\" points=\"306.48,-22 316.48,-18.5 306.48,-15 306.48,-22\"/>\n</g>\n<!-- 139479132509360 -->\n<g id=\"node5\" class=\"node\">\n<title>139479132509360</title>\n<polygon fill=\"none\" stroke=\"black\" points=\"0,-55.5 0,-91.5 190,-91.5 190,-55.5 0,-55.5\"/>\n<text text-anchor=\"middle\" x=\"11.5\" y=\"-69.8\" font-family=\"Times,serif\" font-size=\"14.00\">a</text>\n<polyline fill=\"none\" stroke=\"black\" points=\"23,-55.5 23,-91.5 \"/>\n<text text-anchor=\"middle\" x=\"65.5\" y=\"-69.8\" font-family=\"Times,serif\" font-size=\"14.00\">data &#45;2.0000</text>\n<polyline fill=\"none\" stroke=\"black\" points=\"108,-55.5 108,-91.5 \"/>\n<text text-anchor=\"middle\" x=\"149\" y=\"-69.8\" font-family=\"Times,serif\" font-size=\"14.00\">grad 3.0000</text>\n</g>\n<!-- 139479132509360&#45;&gt;139479134155824* -->\n<g id=\"edge6\" class=\"edge\">\n<title>139479132509360&#45;&gt;139479134155824*</title>\n<path fill=\"none\" stroke=\"black\" d=\"M190.34,-73.5C199.26,-73.5 207.87,-73.5 215.69,-73.5\"/>\n<polygon fill=\"black\" stroke=\"black\" points=\"215.82,-77 225.82,-73.5 215.82,-70 215.82,-77\"/>\n</g>\n<!-- 139479132509360&#45;&gt;139479134157408+ -->\n<g id=\"edge8\" class=\"edge\">\n<title>139479132509360&#45;&gt;139479134157408+</title>\n<path fill=\"none\" stroke=\"black\" d=\"M163.39,-55.42C172.4,-52.63 181.47,-49.63 190,-46.5 200.5,-42.64 211.72,-37.81 221.69,-33.24\"/>\n<polygon fill=\"black\" stroke=\"black\" points=\"223.21,-36.39 230.8,-28.99 220.26,-30.05 223.21,-36.39\"/>\n</g>\n<!-- 139479132508928 -->\n<g id=\"node6\" class=\"node\">\n<title>139479132508928</title>\n<polygon fill=\"none\" stroke=\"black\" points=\"0.5,-0.5 0.5,-36.5 189.5,-36.5 189.5,-0.5 0.5,-0.5\"/>\n<text text-anchor=\"middle\" x=\"12\" y=\"-14.8\" font-family=\"Times,serif\" font-size=\"14.00\">b</text>\n<polyline fill=\"none\" stroke=\"black\" points=\"23.5,-0.5 23.5,-36.5 \"/>\n<text text-anchor=\"middle\" x=\"63.5\" y=\"-14.8\" font-family=\"Times,serif\" font-size=\"14.00\">data 3.0000</text>\n<polyline fill=\"none\" stroke=\"black\" points=\"103.5,-0.5 103.5,-36.5 \"/>\n<text text-anchor=\"middle\" x=\"146.5\" y=\"-14.8\" font-family=\"Times,serif\" font-size=\"14.00\">grad &#45;2.0000</text>\n</g>\n<!-- 139479132508928&#45;&gt;139479134155824* -->\n<g id=\"edge4\" class=\"edge\">\n<title>139479132508928&#45;&gt;139479134155824*</title>\n<path fill=\"none\" stroke=\"black\" d=\"M160.31,-36.52C170.31,-39.65 180.48,-43.02 190,-46.5 200.26,-50.25 211.24,-54.83 221.08,-59.16\"/>\n<polygon fill=\"black\" stroke=\"black\" points=\"219.9,-62.46 230.45,-63.35 222.75,-56.07 219.9,-62.46\"/>\n</g>\n<!-- 139479132508928&#45;&gt;139479134157408+ -->\n<g id=\"edge5\" class=\"edge\">\n<title>139479132508928&#45;&gt;139479134157408+</title>\n<path fill=\"none\" stroke=\"black\" d=\"M189.9,-18.5C199.05,-18.5 207.9,-18.5 215.91,-18.5\"/>\n<polygon fill=\"black\" stroke=\"black\" points=\"215.91,-22 225.91,-18.5 215.91,-15 215.91,-22\"/>\n</g>\n<!-- 139479134146512 -->\n<g id=\"node7\" class=\"node\">\n<title>139479134146512</title>\n<polygon fill=\"none\" stroke=\"black\" points=\"632,-27.5 632,-63.5 820,-63.5 820,-27.5 632,-27.5\"/>\n<text text-anchor=\"middle\" x=\"642.5\" y=\"-41.8\" font-family=\"Times,serif\" font-size=\"14.00\">f</text>\n<polyline fill=\"none\" stroke=\"black\" points=\"653,-27.5 653,-63.5 \"/>\n<text text-anchor=\"middle\" x=\"695.5\" y=\"-41.8\" font-family=\"Times,serif\" font-size=\"14.00\">data &#45;6.0000</text>\n<polyline fill=\"none\" stroke=\"black\" points=\"738,-27.5 738,-63.5 \"/>\n<text text-anchor=\"middle\" x=\"779\" y=\"-41.8\" font-family=\"Times,serif\" font-size=\"14.00\">grad 1.0000</text>\n</g>\n<!-- 139479134146512*&#45;&gt;139479134146512 -->\n<g id=\"edge3\" class=\"edge\">\n<title>139479134146512*&#45;&gt;139479134146512</title>\n<path fill=\"none\" stroke=\"black\" d=\"M596.29,-45.5C603.78,-45.5 612.42,-45.5 621.6,-45.5\"/>\n<polygon fill=\"black\" stroke=\"black\" points=\"621.76,-49 631.76,-45.5 621.76,-42 621.76,-49\"/>\n</g>\n</g>\n</svg>\n",
            "text/plain": [
              "<graphviz.graphs.Digraph at 0x7edb043ebc70>"
            ]
          },
          "metadata": {},
          "execution_count": 74
        }
      ]
    },
    {
      "cell_type": "markdown",
      "source": [
        "\n",
        "problem is happening because we are using same variables more than once which wasn't the cases seen earlier.\n",
        "\n",
        "Refer - Wikipedia-Multivariable calculus, In that case, we would need to accumulate the gradients"
      ],
      "metadata": {
        "id": "MoM59pNUOuoW"
      }
    },
    {
      "cell_type": "code",
      "source": [
        "class Value:\n",
        "\n",
        "    def __init__(self, data, _children=(), _op='', label=''):\n",
        "        self.data = data\n",
        "        self.prev = set(_children)\n",
        "        self._op = _op\n",
        "        self.grad = 0.0\n",
        "        self._backward = lambda: None\n",
        "        self.label=label\n",
        "\n",
        "\n",
        "    def __repr__(self):\n",
        "        return f\"Value(data={self.data})\"\n",
        "\n",
        "    def __add__(self, other):\n",
        "        out = Value(self.data + other.data, (self, other), '+')\n",
        "\n",
        "        def _backward():\n",
        "            self.grad += 1.0 * out.grad # using += to accumulate any gradient backpropogated to it\n",
        "            other.grad += 1.0 * out.grad\n",
        "        out._backward = _backward\n",
        "\n",
        "        return out\n",
        "\n",
        "    def __mul__(self, other):\n",
        "        out = Value(self.data * other.data, (self, other), '*')\n",
        "\n",
        "        #backward function\n",
        "        def _backward():\n",
        "            self.grad += other.data * out.grad\n",
        "            other.grad += self.data * out.grad\n",
        "        out._backward = _backward\n",
        "\n",
        "        return out\n",
        "\n",
        "    def tanh(self):\n",
        "        x = self.data\n",
        "        t = (math.exp(2*x) - 1) / (math.exp(2*x) + 1)\n",
        "        out = Value(t, (self, ), 'tanh')\n",
        "\n",
        "        def _backward():\n",
        "            self.grad += (1 - t**2) * out.grad\n",
        "        out._backward = _backward\n",
        "\n",
        "        return out\n",
        "\n",
        "    def backward(self):\n",
        "        topo = []\n",
        "        visited = set()\n",
        "\n",
        "        def build_topo(v):\n",
        "            if v not in visited:\n",
        "                visited.add(v)\n",
        "                for child in v.prev:\n",
        "                    build_topo(child)\n",
        "                topo.append(v)\n",
        "        build_topo(self)\n",
        "\n",
        "        self.grad=1.0\n",
        "        for node in reversed(topo):\n",
        "            node._backward()\n"
      ],
      "metadata": {
        "id": "uQ_E0wYtJbmL"
      },
      "execution_count": 75,
      "outputs": []
    },
    {
      "cell_type": "markdown",
      "source": [
        "Lets try problem cases again"
      ],
      "metadata": {
        "id": "GKU3zIt_Q22k"
      }
    },
    {
      "cell_type": "code",
      "source": [
        "a = Value(3.0, label='a')\n",
        "b = a + a\n",
        "b.label='b'\n",
        "b.backward()\n",
        "draw_dot(b)"
      ],
      "metadata": {
        "colab": {
          "base_uri": "https://localhost:8080/",
          "height": 81
        },
        "id": "ttQaty3fQ2kI",
        "outputId": "7411c722-15c9-4489-c6d9-2a6406494931"
      },
      "execution_count": 76,
      "outputs": [
        {
          "output_type": "execute_result",
          "data": {
            "image/svg+xml": "<?xml version=\"1.0\" encoding=\"UTF-8\" standalone=\"no\"?>\n<!DOCTYPE svg PUBLIC \"-//W3C//DTD SVG 1.1//EN\"\n \"http://www.w3.org/Graphics/SVG/1.1/DTD/svg11.dtd\">\n<!-- Generated by graphviz version 2.43.0 (0)\n -->\n<!-- Title: %3 Pages: 1 -->\n<svg width=\"504pt\" height=\"45pt\"\n viewBox=\"0.00 0.00 504.00 45.00\" xmlns=\"http://www.w3.org/2000/svg\" xmlns:xlink=\"http://www.w3.org/1999/xlink\">\n<g id=\"graph0\" class=\"graph\" transform=\"scale(1 1) rotate(0) translate(4 41)\">\n<title>%3</title>\n<polygon fill=\"white\" stroke=\"transparent\" points=\"-4,4 -4,-41 500,-41 500,4 -4,4\"/>\n<!-- 139479133866112 -->\n<g id=\"node1\" class=\"node\">\n<title>139479133866112</title>\n<polygon fill=\"none\" stroke=\"black\" points=\"311,-0.5 311,-36.5 496,-36.5 496,-0.5 311,-0.5\"/>\n<text text-anchor=\"middle\" x=\"322.5\" y=\"-14.8\" font-family=\"Times,serif\" font-size=\"14.00\">b</text>\n<polyline fill=\"none\" stroke=\"black\" points=\"334,-0.5 334,-36.5 \"/>\n<text text-anchor=\"middle\" x=\"374\" y=\"-14.8\" font-family=\"Times,serif\" font-size=\"14.00\">data 6.0000</text>\n<polyline fill=\"none\" stroke=\"black\" points=\"414,-0.5 414,-36.5 \"/>\n<text text-anchor=\"middle\" x=\"455\" y=\"-14.8\" font-family=\"Times,serif\" font-size=\"14.00\">grad 1.0000</text>\n</g>\n<!-- 139479133866112+ -->\n<g id=\"node2\" class=\"node\">\n<title>139479133866112+</title>\n<ellipse fill=\"none\" stroke=\"black\" cx=\"248\" cy=\"-18.5\" rx=\"27\" ry=\"18\"/>\n<text text-anchor=\"middle\" x=\"248\" y=\"-14.8\" font-family=\"Times,serif\" font-size=\"14.00\">+</text>\n</g>\n<!-- 139479133866112+&#45;&gt;139479133866112 -->\n<g id=\"edge1\" class=\"edge\">\n<title>139479133866112+&#45;&gt;139479133866112</title>\n<path fill=\"none\" stroke=\"black\" d=\"M275.04,-18.5C282.58,-18.5 291.3,-18.5 300.57,-18.5\"/>\n<polygon fill=\"black\" stroke=\"black\" points=\"300.81,-22 310.81,-18.5 300.81,-15 300.81,-22\"/>\n</g>\n<!-- 139479133872544 -->\n<g id=\"node3\" class=\"node\">\n<title>139479133872544</title>\n<polygon fill=\"none\" stroke=\"black\" points=\"0,-0.5 0,-36.5 185,-36.5 185,-0.5 0,-0.5\"/>\n<text text-anchor=\"middle\" x=\"11.5\" y=\"-14.8\" font-family=\"Times,serif\" font-size=\"14.00\">a</text>\n<polyline fill=\"none\" stroke=\"black\" points=\"23,-0.5 23,-36.5 \"/>\n<text text-anchor=\"middle\" x=\"63\" y=\"-14.8\" font-family=\"Times,serif\" font-size=\"14.00\">data 3.0000</text>\n<polyline fill=\"none\" stroke=\"black\" points=\"103,-0.5 103,-36.5 \"/>\n<text text-anchor=\"middle\" x=\"144\" y=\"-14.8\" font-family=\"Times,serif\" font-size=\"14.00\">grad 2.0000</text>\n</g>\n<!-- 139479133872544&#45;&gt;139479133866112+ -->\n<g id=\"edge2\" class=\"edge\">\n<title>139479133872544&#45;&gt;139479133866112+</title>\n<path fill=\"none\" stroke=\"black\" d=\"M185.01,-18.5C194.01,-18.5 202.74,-18.5 210.66,-18.5\"/>\n<polygon fill=\"black\" stroke=\"black\" points=\"210.91,-22 220.91,-18.5 210.91,-15 210.91,-22\"/>\n</g>\n</g>\n</svg>\n",
            "text/plain": [
              "<graphviz.graphs.Digraph at 0x7edb04282f80>"
            ]
          },
          "metadata": {},
          "execution_count": 76
        }
      ]
    },
    {
      "cell_type": "code",
      "source": [
        "# lets see a complex experession\n",
        "a = Value(-2.0, label='a')\n",
        "b = Value(3.0, label='b')\n",
        "d = a * b; d.label = 'd'\n",
        "e = a + b; e.label = 'e'\n",
        "f = d * e; f.label = 'f'\n",
        "f.backward()\n",
        "draw_dot(f)"
      ],
      "metadata": {
        "colab": {
          "base_uri": "https://localhost:8080/",
          "height": 174
        },
        "id": "CV_liNMpQ8x9",
        "outputId": "7b4821b1-878c-4a69-b715-cf3266578f0e"
      },
      "execution_count": 77,
      "outputs": [
        {
          "output_type": "execute_result",
          "data": {
            "image/svg+xml": "<?xml version=\"1.0\" encoding=\"UTF-8\" standalone=\"no\"?>\n<!DOCTYPE svg PUBLIC \"-//W3C//DTD SVG 1.1//EN\"\n \"http://www.w3.org/Graphics/SVG/1.1/DTD/svg11.dtd\">\n<!-- Generated by graphviz version 2.43.0 (0)\n -->\n<!-- Title: %3 Pages: 1 -->\n<svg width=\"832pt\" height=\"100pt\"\n viewBox=\"0.00 0.00 832.00 100.00\" xmlns=\"http://www.w3.org/2000/svg\" xmlns:xlink=\"http://www.w3.org/1999/xlink\">\n<g id=\"graph0\" class=\"graph\" transform=\"scale(1 1) rotate(0) translate(4 96)\">\n<title>%3</title>\n<polygon fill=\"white\" stroke=\"transparent\" points=\"-4,4 -4,-96 828,-96 828,4 -4,4\"/>\n<!-- 139479133244624 -->\n<g id=\"node1\" class=\"node\">\n<title>139479133244624</title>\n<polygon fill=\"none\" stroke=\"black\" points=\"2.5,-55.5 2.5,-91.5 191.5,-91.5 191.5,-55.5 2.5,-55.5\"/>\n<text text-anchor=\"middle\" x=\"14\" y=\"-69.8\" font-family=\"Times,serif\" font-size=\"14.00\">b</text>\n<polyline fill=\"none\" stroke=\"black\" points=\"25.5,-55.5 25.5,-91.5 \"/>\n<text text-anchor=\"middle\" x=\"65.5\" y=\"-69.8\" font-family=\"Times,serif\" font-size=\"14.00\">data 3.0000</text>\n<polyline fill=\"none\" stroke=\"black\" points=\"105.5,-55.5 105.5,-91.5 \"/>\n<text text-anchor=\"middle\" x=\"148.5\" y=\"-69.8\" font-family=\"Times,serif\" font-size=\"14.00\">grad &#45;8.0000</text>\n</g>\n<!-- 139479133469520+ -->\n<g id=\"node3\" class=\"node\">\n<title>139479133469520+</title>\n<ellipse fill=\"none\" stroke=\"black\" cx=\"257\" cy=\"-73.5\" rx=\"27\" ry=\"18\"/>\n<text text-anchor=\"middle\" x=\"257\" y=\"-69.8\" font-family=\"Times,serif\" font-size=\"14.00\">+</text>\n</g>\n<!-- 139479133244624&#45;&gt;139479133469520+ -->\n<g id=\"edge8\" class=\"edge\">\n<title>139479133244624&#45;&gt;139479133469520+</title>\n<path fill=\"none\" stroke=\"black\" d=\"M191.74,-73.5C201.55,-73.5 211.04,-73.5 219.59,-73.5\"/>\n<polygon fill=\"black\" stroke=\"black\" points=\"219.87,-77 229.87,-73.5 219.87,-70 219.87,-77\"/>\n</g>\n<!-- 139479133469136* -->\n<g id=\"node6\" class=\"node\">\n<title>139479133469136*</title>\n<ellipse fill=\"none\" stroke=\"black\" cx=\"257\" cy=\"-18.5\" rx=\"27\" ry=\"18\"/>\n<text text-anchor=\"middle\" x=\"257\" y=\"-14.8\" font-family=\"Times,serif\" font-size=\"14.00\">*</text>\n</g>\n<!-- 139479133244624&#45;&gt;139479133469136* -->\n<g id=\"edge5\" class=\"edge\">\n<title>139479133244624&#45;&gt;139479133469136*</title>\n<path fill=\"none\" stroke=\"black\" d=\"M166.84,-55.49C176.04,-52.69 185.3,-49.67 194,-46.5 204.51,-42.67 215.73,-37.84 225.7,-33.28\"/>\n<polygon fill=\"black\" stroke=\"black\" points=\"227.23,-36.43 234.81,-29.02 224.27,-30.09 227.23,-36.43\"/>\n</g>\n<!-- 139479133469520 -->\n<g id=\"node2\" class=\"node\">\n<title>139479133469520</title>\n<polygon fill=\"none\" stroke=\"black\" points=\"320.5,-55.5 320.5,-91.5 509.5,-91.5 509.5,-55.5 320.5,-55.5\"/>\n<text text-anchor=\"middle\" x=\"332\" y=\"-69.8\" font-family=\"Times,serif\" font-size=\"14.00\">e</text>\n<polyline fill=\"none\" stroke=\"black\" points=\"343.5,-55.5 343.5,-91.5 \"/>\n<text text-anchor=\"middle\" x=\"383.5\" y=\"-69.8\" font-family=\"Times,serif\" font-size=\"14.00\">data 1.0000</text>\n<polyline fill=\"none\" stroke=\"black\" points=\"423.5,-55.5 423.5,-91.5 \"/>\n<text text-anchor=\"middle\" x=\"466.5\" y=\"-69.8\" font-family=\"Times,serif\" font-size=\"14.00\">grad &#45;6.0000</text>\n</g>\n<!-- 139479133468656* -->\n<g id=\"node8\" class=\"node\">\n<title>139479133468656*</title>\n<ellipse fill=\"none\" stroke=\"black\" cx=\"573\" cy=\"-45.5\" rx=\"27\" ry=\"18\"/>\n<text text-anchor=\"middle\" x=\"573\" y=\"-41.8\" font-family=\"Times,serif\" font-size=\"14.00\">*</text>\n</g>\n<!-- 139479133469520&#45;&gt;139479133468656* -->\n<g id=\"edge9\" class=\"edge\">\n<title>139479133469520&#45;&gt;139479133468656*</title>\n<path fill=\"none\" stroke=\"black\" d=\"M509.9,-56.65C519.42,-54.94 528.62,-53.29 536.89,-51.8\"/>\n<polygon fill=\"black\" stroke=\"black\" points=\"537.59,-55.23 546.81,-50.02 536.35,-48.34 537.59,-55.23\"/>\n</g>\n<!-- 139479133469520+&#45;&gt;139479133469520 -->\n<g id=\"edge1\" class=\"edge\">\n<title>139479133469520+&#45;&gt;139479133469520</title>\n<path fill=\"none\" stroke=\"black\" d=\"M284.11,-73.5C291.84,-73.5 300.8,-73.5 310.35,-73.5\"/>\n<polygon fill=\"black\" stroke=\"black\" points=\"310.48,-77 320.48,-73.5 310.48,-70 310.48,-77\"/>\n</g>\n<!-- 139479133467024 -->\n<g id=\"node4\" class=\"node\">\n<title>139479133467024</title>\n<polygon fill=\"none\" stroke=\"black\" points=\"0,-0.5 0,-36.5 194,-36.5 194,-0.5 0,-0.5\"/>\n<text text-anchor=\"middle\" x=\"11.5\" y=\"-14.8\" font-family=\"Times,serif\" font-size=\"14.00\">a</text>\n<polyline fill=\"none\" stroke=\"black\" points=\"23,-0.5 23,-36.5 \"/>\n<text text-anchor=\"middle\" x=\"65.5\" y=\"-14.8\" font-family=\"Times,serif\" font-size=\"14.00\">data &#45;2.0000</text>\n<polyline fill=\"none\" stroke=\"black\" points=\"108,-0.5 108,-36.5 \"/>\n<text text-anchor=\"middle\" x=\"151\" y=\"-14.8\" font-family=\"Times,serif\" font-size=\"14.00\">grad &#45;3.0000</text>\n</g>\n<!-- 139479133467024&#45;&gt;139479133469520+ -->\n<g id=\"edge4\" class=\"edge\">\n<title>139479133467024&#45;&gt;139479133469520+</title>\n<path fill=\"none\" stroke=\"black\" d=\"M163.94,-36.53C174.08,-39.65 184.37,-43.01 194,-46.5 204.27,-50.22 215.26,-54.8 225.09,-59.12\"/>\n<polygon fill=\"black\" stroke=\"black\" points=\"223.91,-62.43 234.47,-63.32 226.77,-56.04 223.91,-62.43\"/>\n</g>\n<!-- 139479133467024&#45;&gt;139479133469136* -->\n<g id=\"edge7\" class=\"edge\">\n<title>139479133467024&#45;&gt;139479133469136*</title>\n<path fill=\"none\" stroke=\"black\" d=\"M194.01,-18.5C202.98,-18.5 211.65,-18.5 219.51,-18.5\"/>\n<polygon fill=\"black\" stroke=\"black\" points=\"219.7,-22 229.7,-18.5 219.7,-15 219.7,-22\"/>\n</g>\n<!-- 139479133469136 -->\n<g id=\"node5\" class=\"node\">\n<title>139479133469136</title>\n<polygon fill=\"none\" stroke=\"black\" points=\"320,-0.5 320,-36.5 510,-36.5 510,-0.5 320,-0.5\"/>\n<text text-anchor=\"middle\" x=\"331.5\" y=\"-14.8\" font-family=\"Times,serif\" font-size=\"14.00\">d</text>\n<polyline fill=\"none\" stroke=\"black\" points=\"343,-0.5 343,-36.5 \"/>\n<text text-anchor=\"middle\" x=\"385.5\" y=\"-14.8\" font-family=\"Times,serif\" font-size=\"14.00\">data &#45;6.0000</text>\n<polyline fill=\"none\" stroke=\"black\" points=\"428,-0.5 428,-36.5 \"/>\n<text text-anchor=\"middle\" x=\"469\" y=\"-14.8\" font-family=\"Times,serif\" font-size=\"14.00\">grad 1.0000</text>\n</g>\n<!-- 139479133469136&#45;&gt;139479133468656* -->\n<g id=\"edge6\" class=\"edge\">\n<title>139479133469136&#45;&gt;139479133468656*</title>\n<path fill=\"none\" stroke=\"black\" d=\"M510.34,-34.83C519.62,-36.44 528.58,-37.99 536.66,-39.38\"/>\n<polygon fill=\"black\" stroke=\"black\" points=\"536.27,-42.87 546.72,-41.12 537.46,-35.97 536.27,-42.87\"/>\n</g>\n<!-- 139479133469136*&#45;&gt;139479133469136 -->\n<g id=\"edge2\" class=\"edge\">\n<title>139479133469136*&#45;&gt;139479133469136</title>\n<path fill=\"none\" stroke=\"black\" d=\"M284.11,-18.5C291.63,-18.5 300.32,-18.5 309.58,-18.5\"/>\n<polygon fill=\"black\" stroke=\"black\" points=\"309.81,-22 319.81,-18.5 309.81,-15 309.81,-22\"/>\n</g>\n<!-- 139479133468656 -->\n<g id=\"node7\" class=\"node\">\n<title>139479133468656</title>\n<polygon fill=\"none\" stroke=\"black\" points=\"636,-27.5 636,-63.5 824,-63.5 824,-27.5 636,-27.5\"/>\n<text text-anchor=\"middle\" x=\"646.5\" y=\"-41.8\" font-family=\"Times,serif\" font-size=\"14.00\">f</text>\n<polyline fill=\"none\" stroke=\"black\" points=\"657,-27.5 657,-63.5 \"/>\n<text text-anchor=\"middle\" x=\"699.5\" y=\"-41.8\" font-family=\"Times,serif\" font-size=\"14.00\">data &#45;6.0000</text>\n<polyline fill=\"none\" stroke=\"black\" points=\"742,-27.5 742,-63.5 \"/>\n<text text-anchor=\"middle\" x=\"783\" y=\"-41.8\" font-family=\"Times,serif\" font-size=\"14.00\">grad 1.0000</text>\n</g>\n<!-- 139479133468656*&#45;&gt;139479133468656 -->\n<g id=\"edge3\" class=\"edge\">\n<title>139479133468656*&#45;&gt;139479133468656</title>\n<path fill=\"none\" stroke=\"black\" d=\"M600.29,-45.5C607.78,-45.5 616.42,-45.5 625.6,-45.5\"/>\n<polygon fill=\"black\" stroke=\"black\" points=\"625.76,-49 635.76,-45.5 625.76,-42 625.76,-49\"/>\n</g>\n</g>\n</svg>\n",
            "text/plain": [
              "<graphviz.graphs.Digraph at 0x7edb04343610>"
            ]
          },
          "metadata": {},
          "execution_count": 77
        }
      ]
    },
    {
      "cell_type": "markdown",
      "source": [
        "#### Implementing some more methods in the Value class"
      ],
      "metadata": {
        "id": "UnD2PKQuR-NV"
      }
    },
    {
      "cell_type": "markdown",
      "source": [
        "We will add here:\n",
        "- some more capabilities to the module\n",
        "- implementing tanh - from atomic level for practice sake"
      ],
      "metadata": {
        "id": "KKEgwqtDSE5d"
      }
    },
    {
      "cell_type": "markdown",
      "source": [
        "1. we cannnot do any operation for value object with a scaler value directly, e.g.,"
      ],
      "metadata": {
        "id": "YgTNv8vrSWvt"
      }
    },
    {
      "cell_type": "code",
      "source": [
        "a = Value(2.0, label='a')\n",
        "a + 11"
      ],
      "metadata": {
        "colab": {
          "base_uri": "https://localhost:8080/",
          "height": 305
        },
        "id": "3dAtRHRESilk",
        "outputId": "9398d3a4-db40-4539-afd5-d3747fdc1595"
      },
      "execution_count": 78,
      "outputs": [
        {
          "output_type": "error",
          "ename": "AttributeError",
          "evalue": "ignored",
          "traceback": [
            "\u001b[0;31m---------------------------------------------------------------------------\u001b[0m",
            "\u001b[0;31mAttributeError\u001b[0m                            Traceback (most recent call last)",
            "\u001b[0;32m<ipython-input-78-0984234bcd1a>\u001b[0m in \u001b[0;36m<cell line: 2>\u001b[0;34m()\u001b[0m\n\u001b[1;32m      1\u001b[0m \u001b[0ma\u001b[0m \u001b[0;34m=\u001b[0m \u001b[0mValue\u001b[0m\u001b[0;34m(\u001b[0m\u001b[0;36m2.0\u001b[0m\u001b[0;34m,\u001b[0m \u001b[0mlabel\u001b[0m\u001b[0;34m=\u001b[0m\u001b[0;34m'a'\u001b[0m\u001b[0;34m)\u001b[0m\u001b[0;34m\u001b[0m\u001b[0;34m\u001b[0m\u001b[0m\n\u001b[0;32m----> 2\u001b[0;31m \u001b[0ma\u001b[0m \u001b[0;34m+\u001b[0m \u001b[0;36m11\u001b[0m\u001b[0;34m\u001b[0m\u001b[0;34m\u001b[0m\u001b[0m\n\u001b[0m",
            "\u001b[0;32m<ipython-input-75-a5d3bc358c3b>\u001b[0m in \u001b[0;36m__add__\u001b[0;34m(self, other)\u001b[0m\n\u001b[1;32m     14\u001b[0m \u001b[0;34m\u001b[0m\u001b[0m\n\u001b[1;32m     15\u001b[0m     \u001b[0;32mdef\u001b[0m \u001b[0m__add__\u001b[0m\u001b[0;34m(\u001b[0m\u001b[0mself\u001b[0m\u001b[0;34m,\u001b[0m \u001b[0mother\u001b[0m\u001b[0;34m)\u001b[0m\u001b[0;34m:\u001b[0m\u001b[0;34m\u001b[0m\u001b[0;34m\u001b[0m\u001b[0m\n\u001b[0;32m---> 16\u001b[0;31m         \u001b[0mout\u001b[0m \u001b[0;34m=\u001b[0m \u001b[0mValue\u001b[0m\u001b[0;34m(\u001b[0m\u001b[0mself\u001b[0m\u001b[0;34m.\u001b[0m\u001b[0mdata\u001b[0m \u001b[0;34m+\u001b[0m \u001b[0mother\u001b[0m\u001b[0;34m.\u001b[0m\u001b[0mdata\u001b[0m\u001b[0;34m,\u001b[0m \u001b[0;34m(\u001b[0m\u001b[0mself\u001b[0m\u001b[0;34m,\u001b[0m \u001b[0mother\u001b[0m\u001b[0;34m)\u001b[0m\u001b[0;34m,\u001b[0m \u001b[0;34m'+'\u001b[0m\u001b[0;34m)\u001b[0m\u001b[0;34m\u001b[0m\u001b[0;34m\u001b[0m\u001b[0m\n\u001b[0m\u001b[1;32m     17\u001b[0m \u001b[0;34m\u001b[0m\u001b[0m\n\u001b[1;32m     18\u001b[0m         \u001b[0;32mdef\u001b[0m \u001b[0m_backward\u001b[0m\u001b[0;34m(\u001b[0m\u001b[0;34m)\u001b[0m\u001b[0;34m:\u001b[0m\u001b[0;34m\u001b[0m\u001b[0;34m\u001b[0m\u001b[0m\n",
            "\u001b[0;31mAttributeError\u001b[0m: 'int' object has no attribute 'data'"
          ]
        }
      ]
    },
    {
      "cell_type": "markdown",
      "source": [
        "so idea is to wrap with `Value()` anything passed other than Value object"
      ],
      "metadata": {
        "id": "qUoWufQuSqV0"
      }
    },
    {
      "cell_type": "code",
      "source": [
        "class Value:\n",
        "\n",
        "    def __init__(self, data, _children=(), _op='', label=''):\n",
        "        self.data = data\n",
        "        self.prev = set(_children)\n",
        "        self._op = _op\n",
        "        self.grad = 0.0\n",
        "        self._backward = lambda: None\n",
        "        self.label=label\n",
        "\n",
        "\n",
        "    def __repr__(self):\n",
        "        return f\"Value(data={self.data})\"\n",
        "\n",
        "    def __add__(self, other):\n",
        "        other = other if isinstance(other, Value) else Value(other)\n",
        "        out = Value(self.data + other.data, (self, other), '+')\n",
        "\n",
        "        def _backward():\n",
        "            self.grad += 1.0 * out.grad # using += to accumulate any gradient backpropogated to it\n",
        "            other.grad += 1.0 * out.grad\n",
        "        out._backward = _backward\n",
        "\n",
        "        return out\n",
        "\n",
        "    def __mul__(self, other):\n",
        "        other = other if isinstance(other, Value) else Value(other)\n",
        "        out = Value(self.data * other.data, (self, other), '*')\n",
        "\n",
        "        #backward function\n",
        "        def _backward():\n",
        "            self.grad += other.data * out.grad\n",
        "            other.grad += self.data * out.grad\n",
        "        out._backward = _backward\n",
        "\n",
        "        return out\n",
        "\n",
        "    def tanh(self):\n",
        "        x = self.data\n",
        "        t = (math.exp(2*x) - 1) / (math.exp(2*x) + 1)\n",
        "        out = Value(t, (self, ), 'tanh')\n",
        "\n",
        "        def _backward():\n",
        "            self.grad += (1 - t**2) * out.grad\n",
        "        out._backward = _backward\n",
        "\n",
        "        return out\n",
        "\n",
        "    def backward(self):\n",
        "        topo = []\n",
        "        visited = set()\n",
        "\n",
        "        def build_topo(v):\n",
        "            if v not in visited:\n",
        "                visited.add(v)\n",
        "                for child in v.prev:\n",
        "                    build_topo(child)\n",
        "                topo.append(v)\n",
        "        build_topo(self)\n",
        "\n",
        "        self.grad=1.0\n",
        "        for node in reversed(topo):\n",
        "            node._backward()\n"
      ],
      "metadata": {
        "id": "07-RA_YNQ-7n"
      },
      "execution_count": 79,
      "outputs": []
    },
    {
      "cell_type": "code",
      "source": [
        "a = Value(2.0, label='a')\n",
        "a + 11"
      ],
      "metadata": {
        "colab": {
          "base_uri": "https://localhost:8080/"
        },
        "id": "pfz5czVnTdD_",
        "outputId": "d3209180-879f-4b4a-d5a8-72866d83dca3"
      },
      "execution_count": 80,
      "outputs": [
        {
          "output_type": "execute_result",
          "data": {
            "text/plain": [
              "Value(data=13.0)"
            ]
          },
          "metadata": {},
          "execution_count": 80
        }
      ]
    },
    {
      "cell_type": "code",
      "source": [
        "a = Value(2.0, label='a')\n",
        "a * 2"
      ],
      "metadata": {
        "colab": {
          "base_uri": "https://localhost:8080/"
        },
        "id": "c4xzOC-jTeb-",
        "outputId": "e7fb4351-3faf-4b89-fd18-0ef02a4df6a3"
      },
      "execution_count": 81,
      "outputs": [
        {
          "output_type": "execute_result",
          "data": {
            "text/plain": [
              "Value(data=4.0)"
            ]
          },
          "metadata": {},
          "execution_count": 81
        }
      ]
    },
    {
      "cell_type": "code",
      "source": [
        "a = Value(2.0, label='a')\n",
        "3 * a"
      ],
      "metadata": {
        "colab": {
          "base_uri": "https://localhost:8080/",
          "height": 184
        },
        "id": "tpQeYvl-TffW",
        "outputId": "745ebc40-4ce4-45eb-cf7c-aa91b3f85a39"
      },
      "execution_count": 82,
      "outputs": [
        {
          "output_type": "error",
          "ename": "TypeError",
          "evalue": "ignored",
          "traceback": [
            "\u001b[0;31m---------------------------------------------------------------------------\u001b[0m",
            "\u001b[0;31mTypeError\u001b[0m                                 Traceback (most recent call last)",
            "\u001b[0;32m<ipython-input-82-8e843500611a>\u001b[0m in \u001b[0;36m<cell line: 2>\u001b[0;34m()\u001b[0m\n\u001b[1;32m      1\u001b[0m \u001b[0ma\u001b[0m \u001b[0;34m=\u001b[0m \u001b[0mValue\u001b[0m\u001b[0;34m(\u001b[0m\u001b[0;36m2.0\u001b[0m\u001b[0;34m,\u001b[0m \u001b[0mlabel\u001b[0m\u001b[0;34m=\u001b[0m\u001b[0;34m'a'\u001b[0m\u001b[0;34m)\u001b[0m\u001b[0;34m\u001b[0m\u001b[0;34m\u001b[0m\u001b[0m\n\u001b[0;32m----> 2\u001b[0;31m \u001b[0;36m3\u001b[0m \u001b[0;34m*\u001b[0m \u001b[0ma\u001b[0m\u001b[0;34m\u001b[0m\u001b[0;34m\u001b[0m\u001b[0m\n\u001b[0m",
            "\u001b[0;31mTypeError\u001b[0m: unsupported operand type(s) for *: 'int' and 'Value'"
          ]
        }
      ]
    },
    {
      "cell_type": "markdown",
      "source": [
        "Why is other way not working? 3 * a\n",
        "\n",
        "When we do `a * 2`, Python will call `a.__mul__(2)`. And `2 * a` mean `2.__mul__(a)` which is confusing to python\n",
        "\n",
        "In python we can define something called `__rmul__()`, its like a fallback, so if `2 * a` doesn't work, it makes a check if the other way `a*2` works or not"
      ],
      "metadata": {
        "id": "IRkrIkjzTuV0"
      }
    },
    {
      "cell_type": "code",
      "source": [
        "class Value:\n",
        "\n",
        "    def __init__(self, data, _children=(), _op='', label=''):\n",
        "        self.data = data\n",
        "        self.prev = set(_children)\n",
        "        self._op = _op\n",
        "        self.grad = 0.0\n",
        "        self._backward = lambda: None\n",
        "        self.label=label\n",
        "\n",
        "\n",
        "    def __repr__(self):\n",
        "        return f\"Value(data={self.data})\"\n",
        "\n",
        "    def __add__(self, other):\n",
        "        other = other if isinstance(other, Value) else Value(other)\n",
        "        out = Value(self.data + other.data, (self, other), '+')\n",
        "\n",
        "        def _backward():\n",
        "            self.grad += 1.0 * out.grad # using += to accumulate any gradient backpropogated to it\n",
        "            other.grad += 1.0 * out.grad\n",
        "        out._backward = _backward\n",
        "\n",
        "        return out\n",
        "\n",
        "    def __mul__(self, other):\n",
        "        other = other if isinstance(other, Value) else Value(other)\n",
        "        out = Value(self.data * other.data, (self, other), '*')\n",
        "\n",
        "        #backward function\n",
        "        def _backward():\n",
        "            self.grad += other.data * out.grad\n",
        "            other.grad += self.data * out.grad\n",
        "        out._backward = _backward\n",
        "\n",
        "        return out\n",
        "\n",
        "    def __rmul__(self, other): ## other * mul\n",
        "        return self * other\n",
        "\n",
        "    def tanh(self):\n",
        "        x = self.data\n",
        "        t = (math.exp(2*x) - 1) / (math.exp(2*x) + 1)\n",
        "        out = Value(t, (self, ), 'tanh')\n",
        "\n",
        "        def _backward():\n",
        "            self.grad += (1 - t**2) * out.grad\n",
        "        out._backward = _backward\n",
        "\n",
        "        return out\n",
        "\n",
        "    def exp(self):\n",
        "        x = self.data\n",
        "        out = Value(math.exp(x), (self, ), 'exp')\n",
        "\n",
        "        def _backward():\n",
        "            self.grad = out.data *  out.grad\n",
        "        out._backward = _backward\n",
        "\n",
        "        return out\n",
        "\n",
        "    def backward(self):\n",
        "        topo = []\n",
        "        visited = set()\n",
        "\n",
        "        def build_topo(v):\n",
        "            if v not in visited:\n",
        "                visited.add(v)\n",
        "                for child in v.prev:\n",
        "                    build_topo(child)\n",
        "                topo.append(v)\n",
        "        build_topo(self)\n",
        "\n",
        "        self.grad=1.0\n",
        "        for node in reversed(topo):\n",
        "            node._backward()\n"
      ],
      "metadata": {
        "id": "tgSRKOQzTin-"
      },
      "execution_count": 83,
      "outputs": []
    },
    {
      "cell_type": "code",
      "source": [
        "a = Value(2.0, label='a')\n",
        "3 * a"
      ],
      "metadata": {
        "colab": {
          "base_uri": "https://localhost:8080/"
        },
        "id": "b4KE6-n6ep53",
        "outputId": "4daa576a-6de0-4663-fdb1-4574e295181e"
      },
      "execution_count": 84,
      "outputs": [
        {
          "output_type": "execute_result",
          "data": {
            "text/plain": [
              "Value(data=6.0)"
            ]
          },
          "metadata": {},
          "execution_count": 84
        }
      ]
    },
    {
      "cell_type": "code",
      "source": [
        "a = Value(2.0, label='a')\n",
        "a.exp()"
      ],
      "metadata": {
        "colab": {
          "base_uri": "https://localhost:8080/"
        },
        "id": "Yam5DXk6fy89",
        "outputId": "f3e34319-6f50-48ea-eda0-f0cd32a7bba6"
      },
      "execution_count": 85,
      "outputs": [
        {
          "output_type": "execute_result",
          "data": {
            "text/plain": [
              "Value(data=7.38905609893065)"
            ]
          },
          "metadata": {},
          "execution_count": 85
        }
      ]
    },
    {
      "cell_type": "markdown",
      "source": [
        "**implementing division**\n",
        "\n",
        "We will implement here something more powerful than division.\n",
        "\n",
        "Division can be reshuffled as follows:\n",
        "\n",
        "= $a / b$\n",
        "\n",
        "= $a * 1 / b$\n",
        "\n",
        "= $a * (b**-1)$\n",
        "\n",
        "So we will implement case of $x**k$ where k is some constant, k= -1 (which is division) is its one case\n"
      ],
      "metadata": {
        "id": "W00FBSZlgGLl"
      }
    },
    {
      "cell_type": "markdown",
      "source": [
        "we will also be **implementing subtraction** by addition of a negation, and implement negation also"
      ],
      "metadata": {
        "id": "l3VfSM0ljxnT"
      }
    },
    {
      "cell_type": "code",
      "source": [
        "a = Value(3.0, label='a')\n",
        "b = Value(2.0, label='b')\n",
        "a / b"
      ],
      "metadata": {
        "colab": {
          "base_uri": "https://localhost:8080/",
          "height": 201
        },
        "id": "ixrTP_2ZivhD",
        "outputId": "61c8b077-9cde-48a3-bec3-b7d70d22ca42"
      },
      "execution_count": 86,
      "outputs": [
        {
          "output_type": "error",
          "ename": "TypeError",
          "evalue": "ignored",
          "traceback": [
            "\u001b[0;31m---------------------------------------------------------------------------\u001b[0m",
            "\u001b[0;31mTypeError\u001b[0m                                 Traceback (most recent call last)",
            "\u001b[0;32m<ipython-input-86-3665beb05c11>\u001b[0m in \u001b[0;36m<cell line: 3>\u001b[0;34m()\u001b[0m\n\u001b[1;32m      1\u001b[0m \u001b[0ma\u001b[0m \u001b[0;34m=\u001b[0m \u001b[0mValue\u001b[0m\u001b[0;34m(\u001b[0m\u001b[0;36m3.0\u001b[0m\u001b[0;34m,\u001b[0m \u001b[0mlabel\u001b[0m\u001b[0;34m=\u001b[0m\u001b[0;34m'a'\u001b[0m\u001b[0;34m)\u001b[0m\u001b[0;34m\u001b[0m\u001b[0;34m\u001b[0m\u001b[0m\n\u001b[1;32m      2\u001b[0m \u001b[0mb\u001b[0m \u001b[0;34m=\u001b[0m \u001b[0mValue\u001b[0m\u001b[0;34m(\u001b[0m\u001b[0;36m2.0\u001b[0m\u001b[0;34m,\u001b[0m \u001b[0mlabel\u001b[0m\u001b[0;34m=\u001b[0m\u001b[0;34m'b'\u001b[0m\u001b[0;34m)\u001b[0m\u001b[0;34m\u001b[0m\u001b[0;34m\u001b[0m\u001b[0m\n\u001b[0;32m----> 3\u001b[0;31m \u001b[0ma\u001b[0m \u001b[0;34m/\u001b[0m \u001b[0mb\u001b[0m\u001b[0;34m\u001b[0m\u001b[0;34m\u001b[0m\u001b[0m\n\u001b[0m",
            "\u001b[0;31mTypeError\u001b[0m: unsupported operand type(s) for /: 'Value' and 'Value'"
          ]
        }
      ]
    },
    {
      "cell_type": "code",
      "source": [
        "class Value:\n",
        "\n",
        "    def __init__(self, data, _children=(), _op='', label=''):\n",
        "        self.data = data\n",
        "        self.prev = set(_children)\n",
        "        self._op = _op\n",
        "        self.grad = 0.0\n",
        "        self._backward = lambda: None\n",
        "        self.label=label\n",
        "\n",
        "\n",
        "    def __repr__(self):\n",
        "        return f\"Value(data={self.data})\"\n",
        "\n",
        "    def __add__(self, other):\n",
        "        other = other if isinstance(other, Value) else Value(other)\n",
        "        out = Value(self.data + other.data, (self, other), '+')\n",
        "\n",
        "        def _backward():\n",
        "            self.grad += 1.0 * out.grad # using += to accumulate any gradient backpropogated to it\n",
        "            other.grad += 1.0 * out.grad\n",
        "        out._backward = _backward\n",
        "\n",
        "        return out\n",
        "\n",
        "    def __neg__(self):\n",
        "        return self * -1\n",
        "\n",
        "    def __sub__(self, other):\n",
        "        return self + (-other)\n",
        "\n",
        "    def __mul__(self, other):\n",
        "        other = other if isinstance(other, Value) else Value(other)\n",
        "        out = Value(self.data * other.data, (self, other), '*')\n",
        "\n",
        "        #backward function\n",
        "        def _backward():\n",
        "            self.grad += other.data * out.grad\n",
        "            other.grad += self.data * out.grad\n",
        "        out._backward = _backward\n",
        "\n",
        "        return out\n",
        "\n",
        "    def __pow__(self, other):\n",
        "        assert isinstance(other, (int, float)), \"only supporting int and float for now\"\n",
        "        out = Value(self.data ** other, (self, ), f\"**{other}\")\n",
        "\n",
        "        def _backward():\n",
        "            self.grad = (other * self.data**(other-1)) * out.grad\n",
        "        out._backward = _backward\n",
        "\n",
        "        return out\n",
        "\n",
        "    def __radd__(self, other): ## other + self\n",
        "        return self + other\n",
        "\n",
        "    def __rmul__(self, other): ## other * self\n",
        "        return self * other\n",
        "\n",
        "    def __truediv__(self, other):\n",
        "        return self * (other ** -1)\n",
        "\n",
        "    def tanh(self):\n",
        "        x = self.data\n",
        "        t = (math.exp(2*x) - 1) / (math.exp(2*x) + 1)\n",
        "        out = Value(t, (self, ), 'tanh')\n",
        "\n",
        "        def _backward():\n",
        "            self.grad += (1 - t**2) * out.grad\n",
        "        out._backward = _backward\n",
        "\n",
        "        return out\n",
        "\n",
        "    def exp(self):\n",
        "        x = self.data\n",
        "        out = Value(math.exp(x), (self, ), 'exp')\n",
        "\n",
        "        def _backward():\n",
        "            self.grad = out.data *  out.grad\n",
        "        out._backward = _backward\n",
        "\n",
        "        return out\n",
        "\n",
        "    def backward(self):\n",
        "        topo = []\n",
        "        visited = set()\n",
        "\n",
        "        def build_topo(v):\n",
        "            if v not in visited:\n",
        "                visited.add(v)\n",
        "                for child in v.prev:\n",
        "                    build_topo(child)\n",
        "                topo.append(v)\n",
        "        build_topo(self)\n",
        "\n",
        "        self.grad=1.0\n",
        "        for node in reversed(topo):\n",
        "            node._backward()\n"
      ],
      "metadata": {
        "id": "rTRCQpA_f3vP"
      },
      "execution_count": 87,
      "outputs": []
    },
    {
      "cell_type": "code",
      "source": [
        "a = Value(3.0, label='a')\n",
        "b = Value(2.0, label='b')\n",
        "a / b"
      ],
      "metadata": {
        "colab": {
          "base_uri": "https://localhost:8080/"
        },
        "id": "owe7v6vpi-z7",
        "outputId": "70580325-ce92-43ba-a939-49bac7918579"
      },
      "execution_count": 88,
      "outputs": [
        {
          "output_type": "execute_result",
          "data": {
            "text/plain": [
              "Value(data=1.5)"
            ]
          },
          "metadata": {},
          "execution_count": 88
        }
      ]
    },
    {
      "cell_type": "code",
      "source": [
        "a = Value(3.0, label='a')\n",
        "b = Value(2.0, label='b')\n",
        "a - b"
      ],
      "metadata": {
        "colab": {
          "base_uri": "https://localhost:8080/"
        },
        "id": "ZvIn-Xe9kqrz",
        "outputId": "83bb3895-3764-4fb2-cd63-19df747b3c28"
      },
      "execution_count": 89,
      "outputs": [
        {
          "output_type": "execute_result",
          "data": {
            "text/plain": [
              "Value(data=1.0)"
            ]
          },
          "metadata": {},
          "execution_count": 89
        }
      ]
    },
    {
      "cell_type": "code",
      "source": [
        "#inputs\n",
        "x1 = Value(2.0, label='x1')\n",
        "x2 = Value(0.0, label='x2')\n",
        "\n",
        "# weights w1, w2\n",
        "w1 = Value(-3.0, label='w1')\n",
        "w2 = Value(1.0, label='w2')\n",
        "\n",
        "# bias of the neuron\n",
        "b = Value(6.8813635870195432, label='b') # intentionally using the value so that backpropogation number are nice\n",
        "\n",
        "#x1w1, x2w2\n",
        "x1w1 = x1 * w1; x1w1.label='x1w1'\n",
        "x2w2 = x2 * w2; x2w2.label='x2w2'\n",
        "x1w1x2w2 = x1w1 + x2w2; x1w1x2w2.label='x1w1 + x2w2'\n",
        "\n",
        "n = x1w1x2w2 + b; n.label='n'\n",
        "\n",
        "#activation\n",
        "o = n.tanh()  # note we won't do a tanh operation here as we haven't implemented that function\n",
        "o.label='o'\n",
        "\n",
        "# backward pass\n",
        "o.backward()\n",
        "\n",
        "# visualize\n",
        "draw_dot(o)"
      ],
      "metadata": {
        "colab": {
          "base_uri": "https://localhost:8080/",
          "height": 321
        },
        "id": "kFIMPuXaks22",
        "outputId": "ed0bf51c-1c87-44f4-cb4b-d28c250c20e1"
      },
      "execution_count": 90,
      "outputs": [
        {
          "output_type": "execute_result",
          "data": {
            "image/svg+xml": "<?xml version=\"1.0\" encoding=\"UTF-8\" standalone=\"no\"?>\n<!DOCTYPE svg PUBLIC \"-//W3C//DTD SVG 1.1//EN\"\n \"http://www.w3.org/Graphics/SVG/1.1/DTD/svg11.dtd\">\n<!-- Generated by graphviz version 2.43.0 (0)\n -->\n<!-- Title: %3 Pages: 1 -->\n<svg width=\"1555pt\" height=\"210pt\"\n viewBox=\"0.00 0.00 1555.00 210.00\" xmlns=\"http://www.w3.org/2000/svg\" xmlns:xlink=\"http://www.w3.org/1999/xlink\">\n<g id=\"graph0\" class=\"graph\" transform=\"scale(1 1) rotate(0) translate(4 206)\">\n<title>%3</title>\n<polygon fill=\"white\" stroke=\"transparent\" points=\"-4,4 -4,-206 1551,-206 1551,4 -4,4\"/>\n<!-- 139479132509744 -->\n<g id=\"node1\" class=\"node\">\n<title>139479132509744</title>\n<polygon fill=\"none\" stroke=\"black\" points=\"4,-165.5 4,-201.5 196,-201.5 196,-165.5 4,-165.5\"/>\n<text text-anchor=\"middle\" x=\"19\" y=\"-179.8\" font-family=\"Times,serif\" font-size=\"14.00\">x2</text>\n<polyline fill=\"none\" stroke=\"black\" points=\"34,-165.5 34,-201.5 \"/>\n<text text-anchor=\"middle\" x=\"74\" y=\"-179.8\" font-family=\"Times,serif\" font-size=\"14.00\">data 0.0000</text>\n<polyline fill=\"none\" stroke=\"black\" points=\"114,-165.5 114,-201.5 \"/>\n<text text-anchor=\"middle\" x=\"155\" y=\"-179.8\" font-family=\"Times,serif\" font-size=\"14.00\">grad 0.5000</text>\n</g>\n<!-- 139479132796912* -->\n<g id=\"node15\" class=\"node\">\n<title>139479132796912*</title>\n<ellipse fill=\"none\" stroke=\"black\" cx=\"263\" cy=\"-128.5\" rx=\"27\" ry=\"18\"/>\n<text text-anchor=\"middle\" x=\"263\" y=\"-124.8\" font-family=\"Times,serif\" font-size=\"14.00\">*</text>\n</g>\n<!-- 139479132509744&#45;&gt;139479132796912* -->\n<g id=\"edge6\" class=\"edge\">\n<title>139479132509744&#45;&gt;139479132796912*</title>\n<path fill=\"none\" stroke=\"black\" d=\"M172.53,-165.44C181.84,-162.67 191.2,-159.67 200,-156.5 210.53,-152.71 221.75,-147.9 231.72,-143.33\"/>\n<polygon fill=\"black\" stroke=\"black\" points=\"233.25,-146.48 240.82,-139.07 230.28,-140.14 233.25,-146.48\"/>\n</g>\n<!-- 139479132511856 -->\n<g id=\"node2\" class=\"node\">\n<title>139479132511856</title>\n<polygon fill=\"none\" stroke=\"black\" points=\"703,-27.5 703,-63.5 888,-63.5 888,-27.5 703,-27.5\"/>\n<text text-anchor=\"middle\" x=\"714.5\" y=\"-41.8\" font-family=\"Times,serif\" font-size=\"14.00\">b</text>\n<polyline fill=\"none\" stroke=\"black\" points=\"726,-27.5 726,-63.5 \"/>\n<text text-anchor=\"middle\" x=\"766\" y=\"-41.8\" font-family=\"Times,serif\" font-size=\"14.00\">data 6.8814</text>\n<polyline fill=\"none\" stroke=\"black\" points=\"806,-27.5 806,-63.5 \"/>\n<text text-anchor=\"middle\" x=\"847\" y=\"-41.8\" font-family=\"Times,serif\" font-size=\"14.00\">grad 0.5000</text>\n</g>\n<!-- 139479132793168+ -->\n<g id=\"node9\" class=\"node\">\n<title>139479132793168+</title>\n<ellipse fill=\"none\" stroke=\"black\" cx=\"988\" cy=\"-72.5\" rx=\"27\" ry=\"18\"/>\n<text text-anchor=\"middle\" x=\"988\" y=\"-68.8\" font-family=\"Times,serif\" font-size=\"14.00\">+</text>\n</g>\n<!-- 139479132511856&#45;&gt;139479132793168+ -->\n<g id=\"edge12\" class=\"edge\">\n<title>139479132511856&#45;&gt;139479132793168+</title>\n<path fill=\"none\" stroke=\"black\" d=\"M888.12,-58.49C910.59,-61.67 933.33,-64.89 951.33,-67.44\"/>\n<polygon fill=\"black\" stroke=\"black\" points=\"950.95,-70.93 961.34,-68.86 951.93,-63.99 950.95,-70.93\"/>\n</g>\n<!-- 139479132792976 -->\n<g id=\"node3\" class=\"node\">\n<title>139479132792976</title>\n<polygon fill=\"none\" stroke=\"black\" points=\"1362,-54.5 1362,-90.5 1547,-90.5 1547,-54.5 1362,-54.5\"/>\n<text text-anchor=\"middle\" x=\"1373.5\" y=\"-68.8\" font-family=\"Times,serif\" font-size=\"14.00\">o</text>\n<polyline fill=\"none\" stroke=\"black\" points=\"1385,-54.5 1385,-90.5 \"/>\n<text text-anchor=\"middle\" x=\"1425\" y=\"-68.8\" font-family=\"Times,serif\" font-size=\"14.00\">data 0.7071</text>\n<polyline fill=\"none\" stroke=\"black\" points=\"1465,-54.5 1465,-90.5 \"/>\n<text text-anchor=\"middle\" x=\"1506\" y=\"-68.8\" font-family=\"Times,serif\" font-size=\"14.00\">grad 1.0000</text>\n</g>\n<!-- 139479132792976tanh -->\n<g id=\"node4\" class=\"node\">\n<title>139479132792976tanh</title>\n<ellipse fill=\"none\" stroke=\"black\" cx=\"1299\" cy=\"-72.5\" rx=\"27\" ry=\"18\"/>\n<text text-anchor=\"middle\" x=\"1299\" y=\"-68.8\" font-family=\"Times,serif\" font-size=\"14.00\">tanh</text>\n</g>\n<!-- 139479132792976tanh&#45;&gt;139479132792976 -->\n<g id=\"edge1\" class=\"edge\">\n<title>139479132792976tanh&#45;&gt;139479132792976</title>\n<path fill=\"none\" stroke=\"black\" d=\"M1326.04,-72.5C1333.58,-72.5 1342.3,-72.5 1351.57,-72.5\"/>\n<polygon fill=\"black\" stroke=\"black\" points=\"1351.81,-76 1361.81,-72.5 1351.81,-69 1351.81,-76\"/>\n</g>\n<!-- 139479132510368 -->\n<g id=\"node5\" class=\"node\">\n<title>139479132510368</title>\n<polygon fill=\"none\" stroke=\"black\" points=\"2.5,-110.5 2.5,-146.5 197.5,-146.5 197.5,-110.5 2.5,-110.5\"/>\n<text text-anchor=\"middle\" x=\"19\" y=\"-124.8\" font-family=\"Times,serif\" font-size=\"14.00\">w2</text>\n<polyline fill=\"none\" stroke=\"black\" points=\"35.5,-110.5 35.5,-146.5 \"/>\n<text text-anchor=\"middle\" x=\"75.5\" y=\"-124.8\" font-family=\"Times,serif\" font-size=\"14.00\">data 1.0000</text>\n<polyline fill=\"none\" stroke=\"black\" points=\"115.5,-110.5 115.5,-146.5 \"/>\n<text text-anchor=\"middle\" x=\"156.5\" y=\"-124.8\" font-family=\"Times,serif\" font-size=\"14.00\">grad 0.0000</text>\n</g>\n<!-- 139479132510368&#45;&gt;139479132796912* -->\n<g id=\"edge7\" class=\"edge\">\n<title>139479132510368&#45;&gt;139479132796912*</title>\n<path fill=\"none\" stroke=\"black\" d=\"M197.91,-128.5C207.65,-128.5 217.05,-128.5 225.52,-128.5\"/>\n<polygon fill=\"black\" stroke=\"black\" points=\"225.7,-132 235.7,-128.5 225.7,-125 225.7,-132\"/>\n</g>\n<!-- 139479132795712 -->\n<g id=\"node6\" class=\"node\">\n<title>139479132795712</title>\n<polygon fill=\"none\" stroke=\"black\" points=\"326,-55.5 326,-91.5 540,-91.5 540,-55.5 326,-55.5\"/>\n<text text-anchor=\"middle\" x=\"349.5\" y=\"-69.8\" font-family=\"Times,serif\" font-size=\"14.00\">x1w1</text>\n<polyline fill=\"none\" stroke=\"black\" points=\"373,-55.5 373,-91.5 \"/>\n<text text-anchor=\"middle\" x=\"415.5\" y=\"-69.8\" font-family=\"Times,serif\" font-size=\"14.00\">data &#45;6.0000</text>\n<polyline fill=\"none\" stroke=\"black\" points=\"458,-55.5 458,-91.5 \"/>\n<text text-anchor=\"middle\" x=\"499\" y=\"-69.8\" font-family=\"Times,serif\" font-size=\"14.00\">grad 0.5000</text>\n</g>\n<!-- 139479132795856+ -->\n<g id=\"node13\" class=\"node\">\n<title>139479132795856+</title>\n<ellipse fill=\"none\" stroke=\"black\" cx=\"603\" cy=\"-100.5\" rx=\"27\" ry=\"18\"/>\n<text text-anchor=\"middle\" x=\"603\" y=\"-96.8\" font-family=\"Times,serif\" font-size=\"14.00\">+</text>\n</g>\n<!-- 139479132795712&#45;&gt;139479132795856+ -->\n<g id=\"edge11\" class=\"edge\">\n<title>139479132795712&#45;&gt;139479132795856+</title>\n<path fill=\"none\" stroke=\"black\" d=\"M540.4,-90.6C549.72,-92.1 558.65,-93.53 566.68,-94.82\"/>\n<polygon fill=\"black\" stroke=\"black\" points=\"566.24,-98.3 576.66,-96.43 567.35,-91.39 566.24,-98.3\"/>\n</g>\n<!-- 139479132795712* -->\n<g id=\"node7\" class=\"node\">\n<title>139479132795712*</title>\n<ellipse fill=\"none\" stroke=\"black\" cx=\"263\" cy=\"-73.5\" rx=\"27\" ry=\"18\"/>\n<text text-anchor=\"middle\" x=\"263\" y=\"-69.8\" font-family=\"Times,serif\" font-size=\"14.00\">*</text>\n</g>\n<!-- 139479132795712*&#45;&gt;139479132795712 -->\n<g id=\"edge2\" class=\"edge\">\n<title>139479132795712*&#45;&gt;139479132795712</title>\n<path fill=\"none\" stroke=\"black\" d=\"M290.25,-73.5C297.7,-73.5 306.34,-73.5 315.59,-73.5\"/>\n<polygon fill=\"black\" stroke=\"black\" points=\"315.84,-77 325.84,-73.5 315.84,-70 315.84,-77\"/>\n</g>\n<!-- 139479132793168 -->\n<g id=\"node8\" class=\"node\">\n<title>139479132793168</title>\n<polygon fill=\"none\" stroke=\"black\" points=\"1051,-54.5 1051,-90.5 1236,-90.5 1236,-54.5 1051,-54.5\"/>\n<text text-anchor=\"middle\" x=\"1062.5\" y=\"-68.8\" font-family=\"Times,serif\" font-size=\"14.00\">n</text>\n<polyline fill=\"none\" stroke=\"black\" points=\"1074,-54.5 1074,-90.5 \"/>\n<text text-anchor=\"middle\" x=\"1114\" y=\"-68.8\" font-family=\"Times,serif\" font-size=\"14.00\">data 0.8814</text>\n<polyline fill=\"none\" stroke=\"black\" points=\"1154,-54.5 1154,-90.5 \"/>\n<text text-anchor=\"middle\" x=\"1195\" y=\"-68.8\" font-family=\"Times,serif\" font-size=\"14.00\">grad 0.5000</text>\n</g>\n<!-- 139479132793168&#45;&gt;139479132792976tanh -->\n<g id=\"edge13\" class=\"edge\">\n<title>139479132793168&#45;&gt;139479132792976tanh</title>\n<path fill=\"none\" stroke=\"black\" d=\"M1236.01,-72.5C1245.01,-72.5 1253.74,-72.5 1261.66,-72.5\"/>\n<polygon fill=\"black\" stroke=\"black\" points=\"1261.91,-76 1271.91,-72.5 1261.91,-69 1261.91,-76\"/>\n</g>\n<!-- 139479132793168+&#45;&gt;139479132793168 -->\n<g id=\"edge3\" class=\"edge\">\n<title>139479132793168+&#45;&gt;139479132793168</title>\n<path fill=\"none\" stroke=\"black\" d=\"M1015.04,-72.5C1022.58,-72.5 1031.3,-72.5 1040.57,-72.5\"/>\n<polygon fill=\"black\" stroke=\"black\" points=\"1040.81,-76 1050.81,-72.5 1040.81,-69 1040.81,-76\"/>\n</g>\n<!-- 139479132510032 -->\n<g id=\"node10\" class=\"node\">\n<title>139479132510032</title>\n<polygon fill=\"none\" stroke=\"black\" points=\"0,-55.5 0,-91.5 200,-91.5 200,-55.5 0,-55.5\"/>\n<text text-anchor=\"middle\" x=\"16.5\" y=\"-69.8\" font-family=\"Times,serif\" font-size=\"14.00\">w1</text>\n<polyline fill=\"none\" stroke=\"black\" points=\"33,-55.5 33,-91.5 \"/>\n<text text-anchor=\"middle\" x=\"75.5\" y=\"-69.8\" font-family=\"Times,serif\" font-size=\"14.00\">data &#45;3.0000</text>\n<polyline fill=\"none\" stroke=\"black\" points=\"118,-55.5 118,-91.5 \"/>\n<text text-anchor=\"middle\" x=\"159\" y=\"-69.8\" font-family=\"Times,serif\" font-size=\"14.00\">grad 1.0000</text>\n</g>\n<!-- 139479132510032&#45;&gt;139479132795712* -->\n<g id=\"edge9\" class=\"edge\">\n<title>139479132510032&#45;&gt;139479132795712*</title>\n<path fill=\"none\" stroke=\"black\" d=\"M200.21,-73.5C209.2,-73.5 217.86,-73.5 225.7,-73.5\"/>\n<polygon fill=\"black\" stroke=\"black\" points=\"225.85,-77 235.85,-73.5 225.85,-70 225.85,-77\"/>\n</g>\n<!-- 139479132510080 -->\n<g id=\"node11\" class=\"node\">\n<title>139479132510080</title>\n<polygon fill=\"none\" stroke=\"black\" points=\"2,-0.5 2,-36.5 198,-36.5 198,-0.5 2,-0.5\"/>\n<text text-anchor=\"middle\" x=\"17\" y=\"-14.8\" font-family=\"Times,serif\" font-size=\"14.00\">x1</text>\n<polyline fill=\"none\" stroke=\"black\" points=\"32,-0.5 32,-36.5 \"/>\n<text text-anchor=\"middle\" x=\"72\" y=\"-14.8\" font-family=\"Times,serif\" font-size=\"14.00\">data 2.0000</text>\n<polyline fill=\"none\" stroke=\"black\" points=\"112,-0.5 112,-36.5 \"/>\n<text text-anchor=\"middle\" x=\"155\" y=\"-14.8\" font-family=\"Times,serif\" font-size=\"14.00\">grad &#45;1.5000</text>\n</g>\n<!-- 139479132510080&#45;&gt;139479132795712* -->\n<g id=\"edge8\" class=\"edge\">\n<title>139479132510080&#45;&gt;139479132795712*</title>\n<path fill=\"none\" stroke=\"black\" d=\"M169.28,-36.5C179.65,-39.61 190.16,-42.98 200,-46.5 210.28,-50.17 221.28,-54.74 231.11,-59.07\"/>\n<polygon fill=\"black\" stroke=\"black\" points=\"229.93,-62.37 240.48,-63.27 232.79,-55.99 229.93,-62.37\"/>\n</g>\n<!-- 139479132795856 -->\n<g id=\"node12\" class=\"node\">\n<title>139479132795856</title>\n<polygon fill=\"none\" stroke=\"black\" points=\"666,-82.5 666,-118.5 925,-118.5 925,-82.5 666,-82.5\"/>\n<text text-anchor=\"middle\" x=\"712\" y=\"-96.8\" font-family=\"Times,serif\" font-size=\"14.00\">x1w1 + x2w2</text>\n<polyline fill=\"none\" stroke=\"black\" points=\"758,-82.5 758,-118.5 \"/>\n<text text-anchor=\"middle\" x=\"800.5\" y=\"-96.8\" font-family=\"Times,serif\" font-size=\"14.00\">data &#45;6.0000</text>\n<polyline fill=\"none\" stroke=\"black\" points=\"843,-82.5 843,-118.5 \"/>\n<text text-anchor=\"middle\" x=\"884\" y=\"-96.8\" font-family=\"Times,serif\" font-size=\"14.00\">grad 0.5000</text>\n</g>\n<!-- 139479132795856&#45;&gt;139479132793168+ -->\n<g id=\"edge14\" class=\"edge\">\n<title>139479132795856&#45;&gt;139479132793168+</title>\n<path fill=\"none\" stroke=\"black\" d=\"M919.03,-82.49C930.7,-80.77 941.77,-79.15 951.46,-77.72\"/>\n<polygon fill=\"black\" stroke=\"black\" points=\"952.01,-81.18 961.4,-76.26 951,-74.25 952.01,-81.18\"/>\n</g>\n<!-- 139479132795856+&#45;&gt;139479132795856 -->\n<g id=\"edge4\" class=\"edge\">\n<title>139479132795856+&#45;&gt;139479132795856</title>\n<path fill=\"none\" stroke=\"black\" d=\"M630.09,-100.5C637.58,-100.5 646.3,-100.5 655.75,-100.5\"/>\n<polygon fill=\"black\" stroke=\"black\" points=\"655.84,-104 665.84,-100.5 655.84,-97 655.84,-104\"/>\n</g>\n<!-- 139479132796912 -->\n<g id=\"node14\" class=\"node\">\n<title>139479132796912</title>\n<polygon fill=\"none\" stroke=\"black\" points=\"328.5,-110.5 328.5,-146.5 537.5,-146.5 537.5,-110.5 328.5,-110.5\"/>\n<text text-anchor=\"middle\" x=\"352\" y=\"-124.8\" font-family=\"Times,serif\" font-size=\"14.00\">x2w2</text>\n<polyline fill=\"none\" stroke=\"black\" points=\"375.5,-110.5 375.5,-146.5 \"/>\n<text text-anchor=\"middle\" x=\"415.5\" y=\"-124.8\" font-family=\"Times,serif\" font-size=\"14.00\">data 0.0000</text>\n<polyline fill=\"none\" stroke=\"black\" points=\"455.5,-110.5 455.5,-146.5 \"/>\n<text text-anchor=\"middle\" x=\"496.5\" y=\"-124.8\" font-family=\"Times,serif\" font-size=\"14.00\">grad 0.5000</text>\n</g>\n<!-- 139479132796912&#45;&gt;139479132795856+ -->\n<g id=\"edge10\" class=\"edge\">\n<title>139479132796912&#45;&gt;139479132795856+</title>\n<path fill=\"none\" stroke=\"black\" d=\"M537.53,-111.25C547.8,-109.53 557.66,-107.89 566.45,-106.43\"/>\n<polygon fill=\"black\" stroke=\"black\" points=\"567.3,-109.83 576.59,-104.74 566.15,-102.93 567.3,-109.83\"/>\n</g>\n<!-- 139479132796912*&#45;&gt;139479132796912 -->\n<g id=\"edge5\" class=\"edge\">\n<title>139479132796912*&#45;&gt;139479132796912</title>\n<path fill=\"none\" stroke=\"black\" d=\"M290.25,-128.5C298.43,-128.5 308.03,-128.5 318.31,-128.5\"/>\n<polygon fill=\"black\" stroke=\"black\" points=\"318.35,-132 328.35,-128.5 318.35,-125 318.35,-132\"/>\n</g>\n</g>\n</svg>\n",
            "text/plain": [
              "<graphviz.graphs.Digraph at 0x7edb04259270>"
            ]
          },
          "metadata": {},
          "execution_count": 90
        }
      ]
    },
    {
      "cell_type": "code",
      "source": [],
      "metadata": {
        "id": "s82WbUh5lrMC"
      },
      "execution_count": 90,
      "outputs": []
    },
    {
      "cell_type": "code",
      "source": [
        "#inputs\n",
        "x1 = Value(2.0, label='x1')\n",
        "x2 = Value(0.0, label='x2')\n",
        "\n",
        "# weights w1, w2\n",
        "w1 = Value(-3.0, label='w1')\n",
        "w2 = Value(1.0, label='w2')\n",
        "\n",
        "# bias of the neuron\n",
        "b = Value(6.8813635870195432, label='b') # intentionally using the value so that backpropogation number are nice\n",
        "\n",
        "#x1w1, x2w2\n",
        "x1w1 = x1 * w1; x1w1.label='x1w1'\n",
        "x2w2 = x2 * w2; x2w2.label='x2w2'\n",
        "x1w1x2w2 = x1w1 + x2w2; x1w1x2w2.label='x1w1 + x2w2'\n",
        "\n",
        "n = x1w1x2w2 + b; n.label='n'\n",
        "\n",
        "# activation\n",
        "e = (2*n).exp()\n",
        "o = (e - 1) / (e + 1)  # note we won't do a tanh operation here as we haven't implemented that function\n",
        "o.label='o'\n",
        "\n",
        "# backward pass\n",
        "o.backward()\n",
        "\n",
        "# visualize\n",
        "draw_dot(o)"
      ],
      "metadata": {
        "colab": {
          "base_uri": "https://localhost:8080/",
          "height": 360
        },
        "id": "3a4Tz5kFlNPK",
        "outputId": "65566118-40a2-41ce-da70-7f9c08a2f2a3"
      },
      "execution_count": 91,
      "outputs": [
        {
          "output_type": "execute_result",
          "data": {
            "image/svg+xml": "<?xml version=\"1.0\" encoding=\"UTF-8\" standalone=\"no\"?>\n<!DOCTYPE svg PUBLIC \"-//W3C//DTD SVG 1.1//EN\"\n \"http://www.w3.org/Graphics/SVG/1.1/DTD/svg11.dtd\">\n<!-- Generated by graphviz version 2.43.0 (0)\n -->\n<!-- Title: %3 Pages: 1 -->\n<svg width=\"2924pt\" height=\"239pt\"\n viewBox=\"0.00 0.00 2924.00 239.00\" xmlns=\"http://www.w3.org/2000/svg\" xmlns:xlink=\"http://www.w3.org/1999/xlink\">\n<g id=\"graph0\" class=\"graph\" transform=\"scale(1 1) rotate(0) translate(4 235)\">\n<title>%3</title>\n<polygon fill=\"white\" stroke=\"transparent\" points=\"-4,4 -4,-235 2920,-235 2920,4 -4,4\"/>\n<!-- 139479196243984 -->\n<g id=\"node1\" class=\"node\">\n<title>139479196243984</title>\n<polygon fill=\"none\" stroke=\"black\" points=\"2,-194.5 2,-230.5 198,-230.5 198,-194.5 2,-194.5\"/>\n<text text-anchor=\"middle\" x=\"17\" y=\"-208.8\" font-family=\"Times,serif\" font-size=\"14.00\">x1</text>\n<polyline fill=\"none\" stroke=\"black\" points=\"32,-194.5 32,-230.5 \"/>\n<text text-anchor=\"middle\" x=\"72\" y=\"-208.8\" font-family=\"Times,serif\" font-size=\"14.00\">data 2.0000</text>\n<polyline fill=\"none\" stroke=\"black\" points=\"112,-194.5 112,-230.5 \"/>\n<text text-anchor=\"middle\" x=\"155\" y=\"-208.8\" font-family=\"Times,serif\" font-size=\"14.00\">grad &#45;1.5000</text>\n</g>\n<!-- 139479132793648* -->\n<g id=\"node23\" class=\"node\">\n<title>139479132793648*</title>\n<ellipse fill=\"none\" stroke=\"black\" cx=\"263\" cy=\"-157.5\" rx=\"27\" ry=\"18\"/>\n<text text-anchor=\"middle\" x=\"263\" y=\"-153.8\" font-family=\"Times,serif\" font-size=\"14.00\">*</text>\n</g>\n<!-- 139479196243984&#45;&gt;139479132793648* -->\n<g id=\"edge15\" class=\"edge\">\n<title>139479196243984&#45;&gt;139479132793648*</title>\n<path fill=\"none\" stroke=\"black\" d=\"M172.53,-194.44C181.84,-191.67 191.2,-188.67 200,-185.5 210.53,-181.71 221.75,-176.9 231.72,-172.33\"/>\n<polygon fill=\"black\" stroke=\"black\" points=\"233.25,-175.48 240.82,-168.07 230.28,-169.14 233.25,-175.48\"/>\n</g>\n<!-- 139479132883024 -->\n<g id=\"node2\" class=\"node\">\n<title>139479132883024</title>\n<polygon fill=\"none\" stroke=\"black\" points=\"1983,-82.5 1983,-118.5 2169,-118.5 2169,-82.5 1983,-82.5\"/>\n<text text-anchor=\"middle\" x=\"1993\" y=\"-96.8\" font-family=\"Times,serif\" font-size=\"14.00\"> </text>\n<polyline fill=\"none\" stroke=\"black\" points=\"2003,-82.5 2003,-118.5 \"/>\n<text text-anchor=\"middle\" x=\"2043\" y=\"-96.8\" font-family=\"Times,serif\" font-size=\"14.00\">data 6.8283</text>\n<polyline fill=\"none\" stroke=\"black\" points=\"2083,-82.5 2083,-118.5 \"/>\n<text text-anchor=\"middle\" x=\"2126\" y=\"-96.8\" font-family=\"Times,serif\" font-size=\"14.00\">grad &#45;0.1036</text>\n</g>\n<!-- 139479132883120**&#45;1 -->\n<g id=\"node18\" class=\"node\">\n<title>139479132883120**&#45;1</title>\n<ellipse fill=\"none\" stroke=\"black\" cx=\"2296\" cy=\"-100.5\" rx=\"27\" ry=\"18\"/>\n<text text-anchor=\"middle\" x=\"2296\" y=\"-96.8\" font-family=\"Times,serif\" font-size=\"14.00\">**&#45;1</text>\n</g>\n<!-- 139479132883024&#45;&gt;139479132883120**&#45;1 -->\n<g id=\"edge18\" class=\"edge\">\n<title>139479132883024&#45;&gt;139479132883120**&#45;1</title>\n<path fill=\"none\" stroke=\"black\" d=\"M2169.14,-100.5C2200.72,-100.5 2234.24,-100.5 2258.74,-100.5\"/>\n<polygon fill=\"black\" stroke=\"black\" points=\"2258.98,-104 2268.98,-100.5 2258.98,-97 2258.98,-104\"/>\n</g>\n<!-- 139479132883024+ -->\n<g id=\"node3\" class=\"node\">\n<title>139479132883024+</title>\n<ellipse fill=\"none\" stroke=\"black\" cx=\"1920\" cy=\"-100.5\" rx=\"27\" ry=\"18\"/>\n<text text-anchor=\"middle\" x=\"1920\" y=\"-96.8\" font-family=\"Times,serif\" font-size=\"14.00\">+</text>\n</g>\n<!-- 139479132883024+&#45;&gt;139479132883024 -->\n<g id=\"edge1\" class=\"edge\">\n<title>139479132883024+&#45;&gt;139479132883024</title>\n<path fill=\"none\" stroke=\"black\" d=\"M1947.12,-100.5C1954.62,-100.5 1963.29,-100.5 1972.5,-100.5\"/>\n<polygon fill=\"black\" stroke=\"black\" points=\"1972.69,-104 1982.69,-100.5 1972.69,-97 1972.69,-104\"/>\n</g>\n<!-- 139479196246624 -->\n<g id=\"node4\" class=\"node\">\n<title>139479196246624</title>\n<polygon fill=\"none\" stroke=\"black\" points=\"0,-139.5 0,-175.5 200,-175.5 200,-139.5 0,-139.5\"/>\n<text text-anchor=\"middle\" x=\"16.5\" y=\"-153.8\" font-family=\"Times,serif\" font-size=\"14.00\">w1</text>\n<polyline fill=\"none\" stroke=\"black\" points=\"33,-139.5 33,-175.5 \"/>\n<text text-anchor=\"middle\" x=\"75.5\" y=\"-153.8\" font-family=\"Times,serif\" font-size=\"14.00\">data &#45;3.0000</text>\n<polyline fill=\"none\" stroke=\"black\" points=\"118,-139.5 118,-175.5 \"/>\n<text text-anchor=\"middle\" x=\"159\" y=\"-153.8\" font-family=\"Times,serif\" font-size=\"14.00\">grad 1.0000</text>\n</g>\n<!-- 139479196246624&#45;&gt;139479132793648* -->\n<g id=\"edge13\" class=\"edge\">\n<title>139479196246624&#45;&gt;139479132793648*</title>\n<path fill=\"none\" stroke=\"black\" d=\"M200.21,-157.5C209.2,-157.5 217.86,-157.5 225.7,-157.5\"/>\n<polygon fill=\"black\" stroke=\"black\" points=\"225.85,-161 235.85,-157.5 225.85,-154 225.85,-161\"/>\n</g>\n<!-- 139479132891760 -->\n<g id=\"node5\" class=\"node\">\n<title>139479132891760</title>\n<polygon fill=\"none\" stroke=\"black\" points=\"2731,-54.5 2731,-90.5 2916,-90.5 2916,-54.5 2731,-54.5\"/>\n<text text-anchor=\"middle\" x=\"2742.5\" y=\"-68.8\" font-family=\"Times,serif\" font-size=\"14.00\">o</text>\n<polyline fill=\"none\" stroke=\"black\" points=\"2754,-54.5 2754,-90.5 \"/>\n<text text-anchor=\"middle\" x=\"2794\" y=\"-68.8\" font-family=\"Times,serif\" font-size=\"14.00\">data 0.7071</text>\n<polyline fill=\"none\" stroke=\"black\" points=\"2834,-54.5 2834,-90.5 \"/>\n<text text-anchor=\"middle\" x=\"2875\" y=\"-68.8\" font-family=\"Times,serif\" font-size=\"14.00\">grad 1.0000</text>\n</g>\n<!-- 139479132891760* -->\n<g id=\"node6\" class=\"node\">\n<title>139479132891760*</title>\n<ellipse fill=\"none\" stroke=\"black\" cx=\"2668\" cy=\"-72.5\" rx=\"27\" ry=\"18\"/>\n<text text-anchor=\"middle\" x=\"2668\" y=\"-68.8\" font-family=\"Times,serif\" font-size=\"14.00\">*</text>\n</g>\n<!-- 139479132891760*&#45;&gt;139479132891760 -->\n<g id=\"edge2\" class=\"edge\">\n<title>139479132891760*&#45;&gt;139479132891760</title>\n<path fill=\"none\" stroke=\"black\" d=\"M2695.04,-72.5C2702.58,-72.5 2711.3,-72.5 2720.57,-72.5\"/>\n<polygon fill=\"black\" stroke=\"black\" points=\"2720.81,-76 2730.81,-72.5 2720.81,-69 2720.81,-76\"/>\n</g>\n<!-- 139479132894352 -->\n<g id=\"node7\" class=\"node\">\n<title>139479132894352</title>\n<polygon fill=\"none\" stroke=\"black\" points=\"2205,-27.5 2205,-63.5 2387,-63.5 2387,-27.5 2205,-27.5\"/>\n<text text-anchor=\"middle\" x=\"2215\" y=\"-41.8\" font-family=\"Times,serif\" font-size=\"14.00\"> </text>\n<polyline fill=\"none\" stroke=\"black\" points=\"2225,-27.5 2225,-63.5 \"/>\n<text text-anchor=\"middle\" x=\"2265\" y=\"-41.8\" font-family=\"Times,serif\" font-size=\"14.00\">data 4.8283</text>\n<polyline fill=\"none\" stroke=\"black\" points=\"2305,-27.5 2305,-63.5 \"/>\n<text text-anchor=\"middle\" x=\"2346\" y=\"-41.8\" font-family=\"Times,serif\" font-size=\"14.00\">grad 0.1464</text>\n</g>\n<!-- 139479132894352&#45;&gt;139479132891760* -->\n<g id=\"edge28\" class=\"edge\">\n<title>139479132894352&#45;&gt;139479132891760*</title>\n<path fill=\"none\" stroke=\"black\" d=\"M2387.04,-52.07C2465.41,-57.79 2574.98,-65.79 2630.96,-69.87\"/>\n<polygon fill=\"black\" stroke=\"black\" points=\"2630.87,-73.37 2641.1,-70.61 2631.38,-66.39 2630.87,-73.37\"/>\n</g>\n<!-- 139479132894352+ -->\n<g id=\"node8\" class=\"node\">\n<title>139479132894352+</title>\n<ellipse fill=\"none\" stroke=\"black\" cx=\"1920\" cy=\"-45.5\" rx=\"27\" ry=\"18\"/>\n<text text-anchor=\"middle\" x=\"1920\" y=\"-41.8\" font-family=\"Times,serif\" font-size=\"14.00\">+</text>\n</g>\n<!-- 139479132894352+&#45;&gt;139479132894352 -->\n<g id=\"edge3\" class=\"edge\">\n<title>139479132894352+&#45;&gt;139479132894352</title>\n<path fill=\"none\" stroke=\"black\" d=\"M1947,-45.5C1997.46,-45.5 2111.06,-45.5 2194.81,-45.5\"/>\n<polygon fill=\"black\" stroke=\"black\" points=\"2194.87,-49 2204.87,-45.5 2194.87,-42 2194.87,-49\"/>\n</g>\n<!-- 139479132895888 -->\n<g id=\"node9\" class=\"node\">\n<title>139479132895888</title>\n<polygon fill=\"none\" stroke=\"black\" points=\"1672.5,-55.5 1672.5,-91.5 1854.5,-91.5 1854.5,-55.5 1672.5,-55.5\"/>\n<text text-anchor=\"middle\" x=\"1682.5\" y=\"-69.8\" font-family=\"Times,serif\" font-size=\"14.00\"> </text>\n<polyline fill=\"none\" stroke=\"black\" points=\"1692.5,-55.5 1692.5,-91.5 \"/>\n<text text-anchor=\"middle\" x=\"1732.5\" y=\"-69.8\" font-family=\"Times,serif\" font-size=\"14.00\">data 5.8283</text>\n<polyline fill=\"none\" stroke=\"black\" points=\"1772.5,-55.5 1772.5,-91.5 \"/>\n<text text-anchor=\"middle\" x=\"1813.5\" y=\"-69.8\" font-family=\"Times,serif\" font-size=\"14.00\">grad 0.0429</text>\n</g>\n<!-- 139479132895888&#45;&gt;139479132883024+ -->\n<g id=\"edge24\" class=\"edge\">\n<title>139479132895888&#45;&gt;139479132883024+</title>\n<path fill=\"none\" stroke=\"black\" d=\"M1854.82,-89.28C1865.07,-91.08 1875.01,-92.81 1883.88,-94.36\"/>\n<polygon fill=\"black\" stroke=\"black\" points=\"1883.3,-97.81 1893.75,-96.09 1884.5,-90.92 1883.3,-97.81\"/>\n</g>\n<!-- 139479132895888&#45;&gt;139479132894352+ -->\n<g id=\"edge19\" class=\"edge\">\n<title>139479132895888&#45;&gt;139479132894352+</title>\n<path fill=\"none\" stroke=\"black\" d=\"M1854.82,-57.13C1865.07,-55.27 1875.01,-53.47 1883.88,-51.87\"/>\n<polygon fill=\"black\" stroke=\"black\" points=\"1884.54,-55.3 1893.75,-50.08 1883.29,-48.42 1884.54,-55.3\"/>\n</g>\n<!-- 139479132895888exp -->\n<g id=\"node10\" class=\"node\">\n<title>139479132895888exp</title>\n<ellipse fill=\"none\" stroke=\"black\" cx=\"1607\" cy=\"-73.5\" rx=\"27\" ry=\"18\"/>\n<text text-anchor=\"middle\" x=\"1607\" y=\"-69.8\" font-family=\"Times,serif\" font-size=\"14.00\">exp</text>\n</g>\n<!-- 139479132895888exp&#45;&gt;139479132895888 -->\n<g id=\"edge4\" class=\"edge\">\n<title>139479132895888exp&#45;&gt;139479132895888</title>\n<path fill=\"none\" stroke=\"black\" d=\"M1634.21,-73.5C1642.34,-73.5 1651.85,-73.5 1661.94,-73.5\"/>\n<polygon fill=\"black\" stroke=\"black\" points=\"1662.19,-77 1672.19,-73.5 1662.19,-70 1662.19,-77\"/>\n</g>\n<!-- 139479133464720 -->\n<g id=\"node11\" class=\"node\">\n<title>139479133464720</title>\n<polygon fill=\"none\" stroke=\"black\" points=\"703,-56.5 703,-92.5 888,-92.5 888,-56.5 703,-56.5\"/>\n<text text-anchor=\"middle\" x=\"714.5\" y=\"-70.8\" font-family=\"Times,serif\" font-size=\"14.00\">b</text>\n<polyline fill=\"none\" stroke=\"black\" points=\"726,-56.5 726,-92.5 \"/>\n<text text-anchor=\"middle\" x=\"766\" y=\"-70.8\" font-family=\"Times,serif\" font-size=\"14.00\">data 6.8814</text>\n<polyline fill=\"none\" stroke=\"black\" points=\"806,-56.5 806,-92.5 \"/>\n<text text-anchor=\"middle\" x=\"847\" y=\"-70.8\" font-family=\"Times,serif\" font-size=\"14.00\">grad 0.5000</text>\n</g>\n<!-- 139479132375024+ -->\n<g id=\"node28\" class=\"node\">\n<title>139479132375024+</title>\n<ellipse fill=\"none\" stroke=\"black\" cx=\"988\" cy=\"-101.5\" rx=\"27\" ry=\"18\"/>\n<text text-anchor=\"middle\" x=\"988\" y=\"-97.8\" font-family=\"Times,serif\" font-size=\"14.00\">+</text>\n</g>\n<!-- 139479133464720&#45;&gt;139479132375024+ -->\n<g id=\"edge11\" class=\"edge\">\n<title>139479133464720&#45;&gt;139479132375024+</title>\n<path fill=\"none\" stroke=\"black\" d=\"M888.12,-87.49C910.59,-90.67 933.33,-93.89 951.33,-96.44\"/>\n<polygon fill=\"black\" stroke=\"black\" points=\"950.95,-99.93 961.34,-97.86 951.93,-92.99 950.95,-99.93\"/>\n</g>\n<!-- 139479196244128 -->\n<g id=\"node12\" class=\"node\">\n<title>139479196244128</title>\n<polygon fill=\"none\" stroke=\"black\" points=\"2.5,-84.5 2.5,-120.5 197.5,-120.5 197.5,-84.5 2.5,-84.5\"/>\n<text text-anchor=\"middle\" x=\"19\" y=\"-98.8\" font-family=\"Times,serif\" font-size=\"14.00\">w2</text>\n<polyline fill=\"none\" stroke=\"black\" points=\"35.5,-84.5 35.5,-120.5 \"/>\n<text text-anchor=\"middle\" x=\"75.5\" y=\"-98.8\" font-family=\"Times,serif\" font-size=\"14.00\">data 1.0000</text>\n<polyline fill=\"none\" stroke=\"black\" points=\"115.5,-84.5 115.5,-120.5 \"/>\n<text text-anchor=\"middle\" x=\"156.5\" y=\"-98.8\" font-family=\"Times,serif\" font-size=\"14.00\">grad 0.0000</text>\n</g>\n<!-- 139479412828880* -->\n<g id=\"node14\" class=\"node\">\n<title>139479412828880*</title>\n<ellipse fill=\"none\" stroke=\"black\" cx=\"263\" cy=\"-102.5\" rx=\"27\" ry=\"18\"/>\n<text text-anchor=\"middle\" x=\"263\" y=\"-98.8\" font-family=\"Times,serif\" font-size=\"14.00\">*</text>\n</g>\n<!-- 139479196244128&#45;&gt;139479412828880* -->\n<g id=\"edge21\" class=\"edge\">\n<title>139479196244128&#45;&gt;139479412828880*</title>\n<path fill=\"none\" stroke=\"black\" d=\"M197.91,-102.5C207.65,-102.5 217.05,-102.5 225.52,-102.5\"/>\n<polygon fill=\"black\" stroke=\"black\" points=\"225.7,-106 235.7,-102.5 225.7,-99 225.7,-106\"/>\n</g>\n<!-- 139479412828880 -->\n<g id=\"node13\" class=\"node\">\n<title>139479412828880</title>\n<polygon fill=\"none\" stroke=\"black\" points=\"328.5,-84.5 328.5,-120.5 537.5,-120.5 537.5,-84.5 328.5,-84.5\"/>\n<text text-anchor=\"middle\" x=\"352\" y=\"-98.8\" font-family=\"Times,serif\" font-size=\"14.00\">x2w2</text>\n<polyline fill=\"none\" stroke=\"black\" points=\"375.5,-84.5 375.5,-120.5 \"/>\n<text text-anchor=\"middle\" x=\"415.5\" y=\"-98.8\" font-family=\"Times,serif\" font-size=\"14.00\">data 0.0000</text>\n<polyline fill=\"none\" stroke=\"black\" points=\"455.5,-84.5 455.5,-120.5 \"/>\n<text text-anchor=\"middle\" x=\"496.5\" y=\"-98.8\" font-family=\"Times,serif\" font-size=\"14.00\">grad 0.5000</text>\n</g>\n<!-- 139479412829984+ -->\n<g id=\"node21\" class=\"node\">\n<title>139479412829984+</title>\n<ellipse fill=\"none\" stroke=\"black\" cx=\"603\" cy=\"-129.5\" rx=\"27\" ry=\"18\"/>\n<text text-anchor=\"middle\" x=\"603\" y=\"-125.8\" font-family=\"Times,serif\" font-size=\"14.00\">+</text>\n</g>\n<!-- 139479412828880&#45;&gt;139479412829984+ -->\n<g id=\"edge22\" class=\"edge\">\n<title>139479412828880&#45;&gt;139479412829984+</title>\n<path fill=\"none\" stroke=\"black\" d=\"M537.53,-119.14C547.8,-120.79 557.66,-122.37 566.45,-123.79\"/>\n<polygon fill=\"black\" stroke=\"black\" points=\"566.16,-127.28 576.59,-125.42 567.27,-120.37 566.16,-127.28\"/>\n</g>\n<!-- 139479412828880*&#45;&gt;139479412828880 -->\n<g id=\"edge5\" class=\"edge\">\n<title>139479412828880*&#45;&gt;139479412828880</title>\n<path fill=\"none\" stroke=\"black\" d=\"M290.25,-102.5C298.43,-102.5 308.03,-102.5 318.31,-102.5\"/>\n<polygon fill=\"black\" stroke=\"black\" points=\"318.35,-106 328.35,-102.5 318.35,-99 318.35,-106\"/>\n</g>\n<!-- 139479132896992 -->\n<g id=\"node15\" class=\"node\">\n<title>139479132896992</title>\n<polygon fill=\"none\" stroke=\"black\" points=\"1362,-55.5 1362,-91.5 1544,-91.5 1544,-55.5 1362,-55.5\"/>\n<text text-anchor=\"middle\" x=\"1372\" y=\"-69.8\" font-family=\"Times,serif\" font-size=\"14.00\"> </text>\n<polyline fill=\"none\" stroke=\"black\" points=\"1382,-55.5 1382,-91.5 \"/>\n<text text-anchor=\"middle\" x=\"1422\" y=\"-69.8\" font-family=\"Times,serif\" font-size=\"14.00\">data 1.7627</text>\n<polyline fill=\"none\" stroke=\"black\" points=\"1462,-55.5 1462,-91.5 \"/>\n<text text-anchor=\"middle\" x=\"1503\" y=\"-69.8\" font-family=\"Times,serif\" font-size=\"14.00\">grad 0.2500</text>\n</g>\n<!-- 139479132896992&#45;&gt;139479132895888exp -->\n<g id=\"edge27\" class=\"edge\">\n<title>139479132896992&#45;&gt;139479132895888exp</title>\n<path fill=\"none\" stroke=\"black\" d=\"M1544.18,-73.5C1553.14,-73.5 1561.83,-73.5 1569.73,-73.5\"/>\n<polygon fill=\"black\" stroke=\"black\" points=\"1569.96,-77 1579.96,-73.5 1569.96,-70 1569.96,-77\"/>\n</g>\n<!-- 139479132896992* -->\n<g id=\"node16\" class=\"node\">\n<title>139479132896992*</title>\n<ellipse fill=\"none\" stroke=\"black\" cx=\"1299\" cy=\"-73.5\" rx=\"27\" ry=\"18\"/>\n<text text-anchor=\"middle\" x=\"1299\" y=\"-69.8\" font-family=\"Times,serif\" font-size=\"14.00\">*</text>\n</g>\n<!-- 139479132896992*&#45;&gt;139479132896992 -->\n<g id=\"edge6\" class=\"edge\">\n<title>139479132896992*&#45;&gt;139479132896992</title>\n<path fill=\"none\" stroke=\"black\" d=\"M1326.13,-73.5C1333.67,-73.5 1342.39,-73.5 1351.64,-73.5\"/>\n<polygon fill=\"black\" stroke=\"black\" points=\"1351.87,-77 1361.87,-73.5 1351.87,-70 1351.87,-77\"/>\n</g>\n<!-- 139479132883120 -->\n<g id=\"node17\" class=\"node\">\n<title>139479132883120</title>\n<polygon fill=\"none\" stroke=\"black\" points=\"2423,-80.5 2423,-116.5 2605,-116.5 2605,-80.5 2423,-80.5\"/>\n<text text-anchor=\"middle\" x=\"2433\" y=\"-94.8\" font-family=\"Times,serif\" font-size=\"14.00\"> </text>\n<polyline fill=\"none\" stroke=\"black\" points=\"2443,-80.5 2443,-116.5 \"/>\n<text text-anchor=\"middle\" x=\"2483\" y=\"-94.8\" font-family=\"Times,serif\" font-size=\"14.00\">data 0.1464</text>\n<polyline fill=\"none\" stroke=\"black\" points=\"2523,-80.5 2523,-116.5 \"/>\n<text text-anchor=\"middle\" x=\"2564\" y=\"-94.8\" font-family=\"Times,serif\" font-size=\"14.00\">grad 4.8283</text>\n</g>\n<!-- 139479132883120&#45;&gt;139479132891760* -->\n<g id=\"edge16\" class=\"edge\">\n<title>139479132883120&#45;&gt;139479132891760*</title>\n<path fill=\"none\" stroke=\"black\" d=\"M2605.18,-83.08C2614.42,-81.49 2623.38,-79.96 2631.47,-78.58\"/>\n<polygon fill=\"black\" stroke=\"black\" points=\"2632.29,-81.99 2641.56,-76.85 2631.11,-75.09 2632.29,-81.99\"/>\n</g>\n<!-- 139479132883120**&#45;1&#45;&gt;139479132883120 -->\n<g id=\"edge7\" class=\"edge\">\n<title>139479132883120**&#45;1&#45;&gt;139479132883120</title>\n<path fill=\"none\" stroke=\"black\" d=\"M2323.05,-100.26C2345.53,-100.05 2379.48,-99.74 2412.5,-99.43\"/>\n<polygon fill=\"black\" stroke=\"black\" points=\"2412.74,-102.93 2422.7,-99.34 2412.67,-95.93 2412.74,-102.93\"/>\n</g>\n<!-- 139479132885184 -->\n<g id=\"node19\" class=\"node\">\n<title>139479132885184</title>\n<polygon fill=\"none\" stroke=\"black\" points=\"1670.5,-110.5 1670.5,-146.5 1856.5,-146.5 1856.5,-110.5 1670.5,-110.5\"/>\n<text text-anchor=\"middle\" x=\"1680.5\" y=\"-124.8\" font-family=\"Times,serif\" font-size=\"14.00\"> </text>\n<polyline fill=\"none\" stroke=\"black\" points=\"1690.5,-110.5 1690.5,-146.5 \"/>\n<text text-anchor=\"middle\" x=\"1730.5\" y=\"-124.8\" font-family=\"Times,serif\" font-size=\"14.00\">data 1.0000</text>\n<polyline fill=\"none\" stroke=\"black\" points=\"1770.5,-110.5 1770.5,-146.5 \"/>\n<text text-anchor=\"middle\" x=\"1813.5\" y=\"-124.8\" font-family=\"Times,serif\" font-size=\"14.00\">grad &#45;0.1036</text>\n</g>\n<!-- 139479132885184&#45;&gt;139479132883024+ -->\n<g id=\"edge17\" class=\"edge\">\n<title>139479132885184&#45;&gt;139479132883024+</title>\n<path fill=\"none\" stroke=\"black\" d=\"M1856.6,-111.81C1866.15,-110.08 1875.37,-108.41 1883.68,-106.9\"/>\n<polygon fill=\"black\" stroke=\"black\" points=\"1884.43,-110.32 1893.65,-105.09 1883.18,-103.43 1884.43,-110.32\"/>\n</g>\n<!-- 139479412829984 -->\n<g id=\"node20\" class=\"node\">\n<title>139479412829984</title>\n<polygon fill=\"none\" stroke=\"black\" points=\"666,-111.5 666,-147.5 925,-147.5 925,-111.5 666,-111.5\"/>\n<text text-anchor=\"middle\" x=\"712\" y=\"-125.8\" font-family=\"Times,serif\" font-size=\"14.00\">x1w1 + x2w2</text>\n<polyline fill=\"none\" stroke=\"black\" points=\"758,-111.5 758,-147.5 \"/>\n<text text-anchor=\"middle\" x=\"800.5\" y=\"-125.8\" font-family=\"Times,serif\" font-size=\"14.00\">data &#45;6.0000</text>\n<polyline fill=\"none\" stroke=\"black\" points=\"843,-111.5 843,-147.5 \"/>\n<text text-anchor=\"middle\" x=\"884\" y=\"-125.8\" font-family=\"Times,serif\" font-size=\"14.00\">grad 0.5000</text>\n</g>\n<!-- 139479412829984&#45;&gt;139479132375024+ -->\n<g id=\"edge12\" class=\"edge\">\n<title>139479412829984&#45;&gt;139479132375024+</title>\n<path fill=\"none\" stroke=\"black\" d=\"M919.03,-111.49C930.7,-109.77 941.77,-108.15 951.46,-106.72\"/>\n<polygon fill=\"black\" stroke=\"black\" points=\"952.01,-110.18 961.4,-105.26 951,-103.25 952.01,-110.18\"/>\n</g>\n<!-- 139479412829984+&#45;&gt;139479412829984 -->\n<g id=\"edge8\" class=\"edge\">\n<title>139479412829984+&#45;&gt;139479412829984</title>\n<path fill=\"none\" stroke=\"black\" d=\"M630.09,-129.5C637.58,-129.5 646.3,-129.5 655.75,-129.5\"/>\n<polygon fill=\"black\" stroke=\"black\" points=\"655.84,-133 665.84,-129.5 655.84,-126 655.84,-133\"/>\n</g>\n<!-- 139479132793648 -->\n<g id=\"node22\" class=\"node\">\n<title>139479132793648</title>\n<polygon fill=\"none\" stroke=\"black\" points=\"326,-139.5 326,-175.5 540,-175.5 540,-139.5 326,-139.5\"/>\n<text text-anchor=\"middle\" x=\"349.5\" y=\"-153.8\" font-family=\"Times,serif\" font-size=\"14.00\">x1w1</text>\n<polyline fill=\"none\" stroke=\"black\" points=\"373,-139.5 373,-175.5 \"/>\n<text text-anchor=\"middle\" x=\"415.5\" y=\"-153.8\" font-family=\"Times,serif\" font-size=\"14.00\">data &#45;6.0000</text>\n<polyline fill=\"none\" stroke=\"black\" points=\"458,-139.5 458,-175.5 \"/>\n<text text-anchor=\"middle\" x=\"499\" y=\"-153.8\" font-family=\"Times,serif\" font-size=\"14.00\">grad 0.5000</text>\n</g>\n<!-- 139479132793648&#45;&gt;139479412829984+ -->\n<g id=\"edge25\" class=\"edge\">\n<title>139479132793648&#45;&gt;139479412829984+</title>\n<path fill=\"none\" stroke=\"black\" d=\"M540.4,-139.77C549.72,-138.21 558.65,-136.72 566.68,-135.39\"/>\n<polygon fill=\"black\" stroke=\"black\" points=\"567.38,-138.82 576.66,-133.72 566.22,-131.91 567.38,-138.82\"/>\n</g>\n<!-- 139479132793648*&#45;&gt;139479132793648 -->\n<g id=\"edge9\" class=\"edge\">\n<title>139479132793648*&#45;&gt;139479132793648</title>\n<path fill=\"none\" stroke=\"black\" d=\"M290.25,-157.5C297.7,-157.5 306.34,-157.5 315.59,-157.5\"/>\n<polygon fill=\"black\" stroke=\"black\" points=\"315.84,-161 325.84,-157.5 315.84,-154 315.84,-161\"/>\n</g>\n<!-- 139479132886336 -->\n<g id=\"node24\" class=\"node\">\n<title>139479132886336</title>\n<polygon fill=\"none\" stroke=\"black\" points=\"1052.5,-28.5 1052.5,-64.5 1234.5,-64.5 1234.5,-28.5 1052.5,-28.5\"/>\n<text text-anchor=\"middle\" x=\"1062.5\" y=\"-42.8\" font-family=\"Times,serif\" font-size=\"14.00\"> </text>\n<polyline fill=\"none\" stroke=\"black\" points=\"1072.5,-28.5 1072.5,-64.5 \"/>\n<text text-anchor=\"middle\" x=\"1112.5\" y=\"-42.8\" font-family=\"Times,serif\" font-size=\"14.00\">data 2.0000</text>\n<polyline fill=\"none\" stroke=\"black\" points=\"1152.5,-28.5 1152.5,-64.5 \"/>\n<text text-anchor=\"middle\" x=\"1193.5\" y=\"-42.8\" font-family=\"Times,serif\" font-size=\"14.00\">grad 0.2203</text>\n</g>\n<!-- 139479132886336&#45;&gt;139479132896992* -->\n<g id=\"edge14\" class=\"edge\">\n<title>139479132886336&#45;&gt;139479132896992*</title>\n<path fill=\"none\" stroke=\"black\" d=\"M1234.68,-62.36C1244.61,-64.11 1254.23,-65.8 1262.84,-67.32\"/>\n<polygon fill=\"black\" stroke=\"black\" points=\"1262.36,-70.78 1272.81,-69.07 1263.57,-63.89 1262.36,-70.78\"/>\n</g>\n<!-- 139479133467936 -->\n<g id=\"node25\" class=\"node\">\n<title>139479133467936</title>\n<polygon fill=\"none\" stroke=\"black\" points=\"4,-29.5 4,-65.5 196,-65.5 196,-29.5 4,-29.5\"/>\n<text text-anchor=\"middle\" x=\"19\" y=\"-43.8\" font-family=\"Times,serif\" font-size=\"14.00\">x2</text>\n<polyline fill=\"none\" stroke=\"black\" points=\"34,-29.5 34,-65.5 \"/>\n<text text-anchor=\"middle\" x=\"74\" y=\"-43.8\" font-family=\"Times,serif\" font-size=\"14.00\">data 0.0000</text>\n<polyline fill=\"none\" stroke=\"black\" points=\"114,-29.5 114,-65.5 \"/>\n<text text-anchor=\"middle\" x=\"155\" y=\"-43.8\" font-family=\"Times,serif\" font-size=\"14.00\">grad 0.5000</text>\n</g>\n<!-- 139479133467936&#45;&gt;139479412828880* -->\n<g id=\"edge20\" class=\"edge\">\n<title>139479133467936&#45;&gt;139479412828880*</title>\n<path fill=\"none\" stroke=\"black\" d=\"M169.28,-65.5C179.65,-68.61 190.16,-71.98 200,-75.5 210.28,-79.17 221.28,-83.74 231.11,-88.07\"/>\n<polygon fill=\"black\" stroke=\"black\" points=\"229.93,-91.37 240.48,-92.27 232.79,-84.99 229.93,-91.37\"/>\n</g>\n<!-- 139479132893632 -->\n<g id=\"node26\" class=\"node\">\n<title>139479132893632</title>\n<polygon fill=\"none\" stroke=\"black\" points=\"1670,-0.5 1670,-36.5 1857,-36.5 1857,-0.5 1670,-0.5\"/>\n<text text-anchor=\"middle\" x=\"1680\" y=\"-14.8\" font-family=\"Times,serif\" font-size=\"14.00\"> </text>\n<polyline fill=\"none\" stroke=\"black\" points=\"1690,-0.5 1690,-36.5 \"/>\n<text text-anchor=\"middle\" x=\"1732.5\" y=\"-14.8\" font-family=\"Times,serif\" font-size=\"14.00\">data &#45;1.0000</text>\n<polyline fill=\"none\" stroke=\"black\" points=\"1775,-0.5 1775,-36.5 \"/>\n<text text-anchor=\"middle\" x=\"1816\" y=\"-14.8\" font-family=\"Times,serif\" font-size=\"14.00\">grad 0.1464</text>\n</g>\n<!-- 139479132893632&#45;&gt;139479132894352+ -->\n<g id=\"edge23\" class=\"edge\">\n<title>139479132893632&#45;&gt;139479132894352+</title>\n<path fill=\"none\" stroke=\"black\" d=\"M1857.05,-34.67C1866.34,-36.3 1875.33,-37.87 1883.44,-39.29\"/>\n<polygon fill=\"black\" stroke=\"black\" points=\"1883.1,-42.78 1893.55,-41.05 1884.3,-35.88 1883.1,-42.78\"/>\n</g>\n<!-- 139479132375024 -->\n<g id=\"node27\" class=\"node\">\n<title>139479132375024</title>\n<polygon fill=\"none\" stroke=\"black\" points=\"1051,-83.5 1051,-119.5 1236,-119.5 1236,-83.5 1051,-83.5\"/>\n<text text-anchor=\"middle\" x=\"1062.5\" y=\"-97.8\" font-family=\"Times,serif\" font-size=\"14.00\">n</text>\n<polyline fill=\"none\" stroke=\"black\" points=\"1074,-83.5 1074,-119.5 \"/>\n<text text-anchor=\"middle\" x=\"1114\" y=\"-97.8\" font-family=\"Times,serif\" font-size=\"14.00\">data 0.8814</text>\n<polyline fill=\"none\" stroke=\"black\" points=\"1154,-83.5 1154,-119.5 \"/>\n<text text-anchor=\"middle\" x=\"1195\" y=\"-97.8\" font-family=\"Times,serif\" font-size=\"14.00\">grad 0.5000</text>\n</g>\n<!-- 139479132375024&#45;&gt;139479132896992* -->\n<g id=\"edge26\" class=\"edge\">\n<title>139479132375024&#45;&gt;139479132896992*</title>\n<path fill=\"none\" stroke=\"black\" d=\"M1236.01,-84.81C1245.49,-83.08 1254.66,-81.41 1262.9,-79.9\"/>\n<polygon fill=\"black\" stroke=\"black\" points=\"1263.6,-83.33 1272.81,-78.09 1262.35,-76.45 1263.6,-83.33\"/>\n</g>\n<!-- 139479132375024+&#45;&gt;139479132375024 -->\n<g id=\"edge10\" class=\"edge\">\n<title>139479132375024+&#45;&gt;139479132375024</title>\n<path fill=\"none\" stroke=\"black\" d=\"M1015.04,-101.5C1022.58,-101.5 1031.3,-101.5 1040.57,-101.5\"/>\n<polygon fill=\"black\" stroke=\"black\" points=\"1040.81,-105 1050.81,-101.5 1040.81,-98 1040.81,-105\"/>\n</g>\n</g>\n</svg>\n",
            "text/plain": [
              "<graphviz.graphs.Digraph at 0x7edb14daef50>"
            ]
          },
          "metadata": {},
          "execution_count": 91
        }
      ]
    },
    {
      "cell_type": "markdown",
      "source": [
        "We observe that we broke the tanh into bunch of atomic operation, since the operation is equivalent we end up with same output and observe same gradients for the precursors"
      ],
      "metadata": {
        "id": "cSpi5imrlx5r"
      }
    },
    {
      "cell_type": "markdown",
      "source": [
        "### Using Pytorch"
      ],
      "metadata": {
        "id": "XbWXD_L8ml6J"
      }
    },
    {
      "cell_type": "markdown",
      "source": [
        "The micrograd engine was working with scaler values, while pytorch works with tensors(n-dim arrays). Those are the inputs which we work in actual pytoch library.\n",
        "\n",
        "Mimicking above neuron example, few things to note:\n",
        "- casting here values to double, as python by default use double precision for floating number. so that we get values similar to our micrograd\n",
        "- the nodes we are creating are just leaf nodes, so we need to explicitly set them for requires_grad as True"
      ],
      "metadata": {
        "id": "WoRLuM5Nm_Qz"
      }
    },
    {
      "cell_type": "code",
      "source": [
        "import torch"
      ],
      "metadata": {
        "id": "2K9AelIMpXoI"
      },
      "execution_count": 92,
      "outputs": []
    },
    {
      "cell_type": "code",
      "source": [
        "print(torch.Tensor([[1., 2.], [3., 4.]]).dtype)\n",
        "print(torch.Tensor([[1., 2.], [3., 4.]]).double().dtype)"
      ],
      "metadata": {
        "colab": {
          "base_uri": "https://localhost:8080/"
        },
        "id": "UyCzzUEypPof",
        "outputId": "355c1faf-5cee-4797-f9c1-ecd28da14476"
      },
      "execution_count": 93,
      "outputs": [
        {
          "output_type": "stream",
          "name": "stdout",
          "text": [
            "torch.float32\n",
            "torch.float64\n"
          ]
        }
      ]
    },
    {
      "cell_type": "code",
      "source": [
        "# pytorch\n",
        "\n",
        "x1 = torch.Tensor([2.0]).double() ; x1.requires_grad = True\n",
        "x2 = torch.Tensor([0.0]).double() ; x2.requires_grad = True\n",
        "w1 = torch.Tensor([-3.0]).double() ; w1.requires_grad = True\n",
        "w2 = torch.Tensor([1.0]).double() ; w2.requires_grad = True\n",
        "b = torch.Tensor([6.8813635870195432]).double() ; b.requires_grad = True\n",
        "\n",
        "n = x1*w1 + x2*w2 + b\n",
        "o = torch.tanh(n)\n",
        "\n",
        "print(o.data.item()) # returns just the element\n",
        "o.backward()\n",
        "\n",
        "print('=================')\n",
        "print(f\"x2 grad: {x2.grad.item()}\")\n",
        "print(f\"w2 grad: {w2.grad.item()}\")\n",
        "print(f\"x1 grad: {x1.grad.item()}\")\n",
        "print(f\"w1 grad: {w1.grad.item()}\")\n"
      ],
      "metadata": {
        "colab": {
          "base_uri": "https://localhost:8080/"
        },
        "id": "oD57ZOVIldF7",
        "outputId": "1c44fc52-4ca0-4b3a-c3f5-996f34844064"
      },
      "execution_count": 94,
      "outputs": [
        {
          "output_type": "stream",
          "name": "stdout",
          "text": [
            "0.7071016835781376\n",
            "=================\n",
            "x2 grad: 0.5000072090809633\n",
            "w2 grad: 0.0\n",
            "x1 grad: -1.50002162724289\n",
            "w1 grad: 1.0000144181619266\n"
          ]
        }
      ]
    },
    {
      "cell_type": "code",
      "source": [
        "print(o)\n",
        "print(o.item())\n",
        "print(o.data.item())"
      ],
      "metadata": {
        "colab": {
          "base_uri": "https://localhost:8080/"
        },
        "id": "nzXtY-6Fm2rz",
        "outputId": "080ff6e8-f9c3-4613-a428-9eb5ab84b85a"
      },
      "execution_count": 95,
      "outputs": [
        {
          "output_type": "stream",
          "name": "stdout",
          "text": [
            "tensor([0.7071], dtype=torch.float64, grad_fn=<TanhBackward0>)\n",
            "0.7071016835781376\n",
            "0.7071016835781376\n"
          ]
        }
      ]
    },
    {
      "cell_type": "markdown",
      "source": [
        "So we get very similar results. The big deal with pytorch, that here we are working with tensors, making the process significantly more efficient. With tensors we can do lot of these operations in parallel.\n",
        "\n",
        "Otherwise, the implemented micrograd is very much similar to the pytoch api"
      ],
      "metadata": {
        "id": "NtFe1zG1qclv"
      }
    },
    {
      "cell_type": "markdown",
      "source": [
        "## Building Neural Nets\n",
        "\n",
        "Now that we have a core machinery to build complicated mathematical expression, we can also start building up Neural Nets. Neural Nets are just a special class of mathematical expressions"
      ],
      "metadata": {
        "id": "DjDI0eJaBrXw"
      }
    },
    {
      "cell_type": "code",
      "source": [
        "import random"
      ],
      "metadata": {
        "id": "SylIkTfgCtKk"
      },
      "execution_count": 96,
      "outputs": []
    },
    {
      "cell_type": "code",
      "source": [
        "class Neuron:\n",
        "\n",
        "    def __init__(self, nin): #nin: number of inputs\n",
        "        self.w = [Value(random.uniform(-1, 1)) for _ in range(nin)]\n",
        "        self.b = Value(random.uniform(-1, 1))\n",
        "\n",
        "    def __call__(self, x): ## forward pass\n",
        "        # w*x + b operation)\n",
        "        act = sum(wi*xi for wi, xi in zip(self.w, x)) + self.b #this line was throwing error, added __radd__ method to Value class to ignore order\n",
        "        out = act.tanh()\n",
        "        return out\n",
        "\n",
        "\n",
        "x = [2.0, 3.0]\n",
        "n = Neuron(2)\n",
        "print(n(x))\n",
        "print()\n",
        "\n",
        "\n",
        "class Layer:\n",
        "\n",
        "    def __init__(self, nin, nout): #nout number of neurons\n",
        "        self.neurons = [Neuron(nin) for _ in range(nout)]\n",
        "\n",
        "    def __call__(self, x):\n",
        "        outs = [n(x) for n in self.neurons]\n",
        "        return outs[0] if len(outs)==1 else outs\n",
        "\n",
        "\n",
        "x = [2.0, 3.0]\n",
        "n = Layer(2, 3)\n",
        "print(n(x))\n",
        "print()\n",
        "\n",
        "\n",
        "class MLP:\n",
        "\n",
        "    def __init__(self, nin, nouts): # unlike Layer, we have here list of nouts, defining the size of different layers\n",
        "        sz = [nin] + nouts\n",
        "        self.layers = [Layer(sz[i], sz[i+1]) for i in range(len(nouts))]\n",
        "\n",
        "    def __call__(self, x):\n",
        "        for layer in self.layers:\n",
        "            x = layer(x)\n",
        "        return x\n",
        "\n",
        "x = [2.0, 3.0, -1.0]\n",
        "n = MLP(3, [4, 4, 1])\n",
        "n(x)\n"
      ],
      "metadata": {
        "colab": {
          "base_uri": "https://localhost:8080/"
        },
        "id": "_q14-VbhqUKZ",
        "outputId": "40871ad5-38ff-4679-eca7-55d66a6aa72b"
      },
      "execution_count": 98,
      "outputs": [
        {
          "output_type": "stream",
          "name": "stdout",
          "text": [
            "Value(data=0.9422724142123368)\n",
            "\n",
            "[Value(data=0.22988557736226528), Value(data=0.9908046661009465), Value(data=-0.736636365268235)]\n",
            "\n"
          ]
        },
        {
          "output_type": "execute_result",
          "data": {
            "text/plain": [
              "Value(data=-0.013523617697609671)"
            ]
          },
          "metadata": {},
          "execution_count": 98
        }
      ]
    },
    {
      "cell_type": "code",
      "source": [
        "draw_dot(n(x))"
      ],
      "metadata": {
        "colab": {
          "base_uri": "https://localhost:8080/",
          "height": 1000
        },
        "id": "SeEG9a-FD30z",
        "outputId": "c7014404-5ccf-49f1-bad6-39fcd8a19f65"
      },
      "execution_count": 99,
      "outputs": [
        {
          "output_type": "execute_result",
          "data": {
            "image/svg+xml": "<?xml version=\"1.0\" encoding=\"UTF-8\" standalone=\"no\"?>\n<!DOCTYPE svg PUBLIC \"-//W3C//DTD SVG 1.1//EN\"\n \"http://www.w3.org/Graphics/SVG/1.1/DTD/svg11.dtd\">\n<!-- Generated by graphviz version 2.43.0 (0)\n -->\n<!-- Title: %3 Pages: 1 -->\n<svg width=\"6573pt\" height=\"1035pt\"\n viewBox=\"0.00 0.00 6573.00 1035.00\" xmlns=\"http://www.w3.org/2000/svg\" xmlns:xlink=\"http://www.w3.org/1999/xlink\">\n<g id=\"graph0\" class=\"graph\" transform=\"scale(1 1) rotate(0) translate(4 1031)\">\n<title>%3</title>\n<polygon fill=\"white\" stroke=\"transparent\" points=\"-4,4 -4,-1031 6569,-1031 6569,4 -4,4\"/>\n<!-- 139475927990480 -->\n<g id=\"node1\" class=\"node\">\n<title>139475927990480</title>\n<polygon fill=\"none\" stroke=\"black\" points=\"2.5,-230.5 2.5,-266.5 184.5,-266.5 184.5,-230.5 2.5,-230.5\"/>\n<text text-anchor=\"middle\" x=\"12.5\" y=\"-244.8\" font-family=\"Times,serif\" font-size=\"14.00\"> </text>\n<polyline fill=\"none\" stroke=\"black\" points=\"22.5,-230.5 22.5,-266.5 \"/>\n<text text-anchor=\"middle\" x=\"62.5\" y=\"-244.8\" font-family=\"Times,serif\" font-size=\"14.00\">data 2.0000</text>\n<polyline fill=\"none\" stroke=\"black\" points=\"102.5,-230.5 102.5,-266.5 \"/>\n<text text-anchor=\"middle\" x=\"143.5\" y=\"-244.8\" font-family=\"Times,serif\" font-size=\"14.00\">grad 0.0000</text>\n</g>\n<!-- 139475927990528* -->\n<g id=\"node3\" class=\"node\">\n<title>139475927990528*</title>\n<ellipse fill=\"none\" stroke=\"black\" cx=\"250\" cy=\"-220.5\" rx=\"27\" ry=\"18\"/>\n<text text-anchor=\"middle\" x=\"250\" y=\"-216.8\" font-family=\"Times,serif\" font-size=\"14.00\">*</text>\n</g>\n<!-- 139475927990480&#45;&gt;139475927990528* -->\n<g id=\"edge83\" class=\"edge\">\n<title>139475927990480&#45;&gt;139475927990528*</title>\n<path fill=\"none\" stroke=\"black\" d=\"M184.82,-232.13C195.07,-230.27 205.01,-228.47 213.88,-226.87\"/>\n<polygon fill=\"black\" stroke=\"black\" points=\"214.54,-230.3 223.75,-225.08 213.29,-223.42 214.54,-230.3\"/>\n</g>\n<!-- 139475927990528 -->\n<g id=\"node2\" class=\"node\">\n<title>139475927990528</title>\n<polygon fill=\"none\" stroke=\"black\" points=\"313,-202.5 313,-238.5 500,-238.5 500,-202.5 313,-202.5\"/>\n<text text-anchor=\"middle\" x=\"323\" y=\"-216.8\" font-family=\"Times,serif\" font-size=\"14.00\"> </text>\n<polyline fill=\"none\" stroke=\"black\" points=\"333,-202.5 333,-238.5 \"/>\n<text text-anchor=\"middle\" x=\"375.5\" y=\"-216.8\" font-family=\"Times,serif\" font-size=\"14.00\">data &#45;1.3745</text>\n<polyline fill=\"none\" stroke=\"black\" points=\"418,-202.5 418,-238.5 \"/>\n<text text-anchor=\"middle\" x=\"459\" y=\"-216.8\" font-family=\"Times,serif\" font-size=\"14.00\">grad 0.0000</text>\n</g>\n<!-- 139475927993648+ -->\n<g id=\"node51\" class=\"node\">\n<title>139475927993648+</title>\n<ellipse fill=\"none\" stroke=\"black\" cx=\"563\" cy=\"-165.5\" rx=\"27\" ry=\"18\"/>\n<text text-anchor=\"middle\" x=\"563\" y=\"-161.8\" font-family=\"Times,serif\" font-size=\"14.00\">+</text>\n</g>\n<!-- 139475927990528&#45;&gt;139475927993648+ -->\n<g id=\"edge108\" class=\"edge\">\n<title>139475927990528&#45;&gt;139475927993648+</title>\n<path fill=\"none\" stroke=\"black\" d=\"M473.56,-202.45C482.51,-199.64 491.53,-196.63 500,-193.5 510.49,-189.62 521.71,-184.78 531.68,-180.22\"/>\n<polygon fill=\"black\" stroke=\"black\" points=\"533.2,-183.37 540.79,-175.97 530.25,-177.02 533.2,-183.37\"/>\n</g>\n<!-- 139475927990528*&#45;&gt;139475927990528 -->\n<g id=\"edge1\" class=\"edge\">\n<title>139475927990528*&#45;&gt;139475927990528</title>\n<path fill=\"none\" stroke=\"black\" d=\"M277.21,-220.5C284.73,-220.5 293.43,-220.5 302.67,-220.5\"/>\n<polygon fill=\"black\" stroke=\"black\" points=\"302.89,-224 312.89,-220.5 302.89,-217 302.89,-224\"/>\n</g>\n<!-- 139475927769840 -->\n<g id=\"node4\" class=\"node\">\n<title>139475927769840</title>\n<polygon fill=\"none\" stroke=\"black\" points=\"1254.5,-243.5 1254.5,-279.5 1436.5,-279.5 1436.5,-243.5 1254.5,-243.5\"/>\n<text text-anchor=\"middle\" x=\"1264.5\" y=\"-257.8\" font-family=\"Times,serif\" font-size=\"14.00\"> </text>\n<polyline fill=\"none\" stroke=\"black\" points=\"1274.5,-243.5 1274.5,-279.5 \"/>\n<text text-anchor=\"middle\" x=\"1314.5\" y=\"-257.8\" font-family=\"Times,serif\" font-size=\"14.00\">data 0.6424</text>\n<polyline fill=\"none\" stroke=\"black\" points=\"1354.5,-243.5 1354.5,-279.5 \"/>\n<text text-anchor=\"middle\" x=\"1395.5\" y=\"-257.8\" font-family=\"Times,serif\" font-size=\"14.00\">grad 0.0000</text>\n</g>\n<!-- 139475927994320+ -->\n<g id=\"node73\" class=\"node\">\n<title>139475927994320+</title>\n<ellipse fill=\"none\" stroke=\"black\" cx=\"1502\" cy=\"-259.5\" rx=\"27\" ry=\"18\"/>\n<text text-anchor=\"middle\" x=\"1502\" y=\"-255.8\" font-family=\"Times,serif\" font-size=\"14.00\">+</text>\n</g>\n<!-- 139475927769840&#45;&gt;139475927994320+ -->\n<g id=\"edge156\" class=\"edge\">\n<title>139475927769840&#45;&gt;139475927994320+</title>\n<path fill=\"none\" stroke=\"black\" d=\"M1436.82,-260.33C1446.57,-260.2 1456.04,-260.08 1464.57,-259.97\"/>\n<polygon fill=\"black\" stroke=\"black\" points=\"1464.87,-263.47 1474.83,-259.84 1464.78,-256.47 1464.87,-263.47\"/>\n</g>\n<!-- 139475927770128 -->\n<g id=\"node5\" class=\"node\">\n<title>139475927770128</title>\n<polygon fill=\"none\" stroke=\"black\" points=\"939,-325.5 939,-361.5 1126,-361.5 1126,-325.5 939,-325.5\"/>\n<text text-anchor=\"middle\" x=\"949\" y=\"-339.8\" font-family=\"Times,serif\" font-size=\"14.00\"> </text>\n<polyline fill=\"none\" stroke=\"black\" points=\"959,-325.5 959,-361.5 \"/>\n<text text-anchor=\"middle\" x=\"1001.5\" y=\"-339.8\" font-family=\"Times,serif\" font-size=\"14.00\">data &#45;0.2173</text>\n<polyline fill=\"none\" stroke=\"black\" points=\"1044,-325.5 1044,-361.5 \"/>\n<text text-anchor=\"middle\" x=\"1085\" y=\"-339.8\" font-family=\"Times,serif\" font-size=\"14.00\">grad 0.0000</text>\n</g>\n<!-- 139475927995520* -->\n<g id=\"node123\" class=\"node\">\n<title>139475927995520*</title>\n<ellipse fill=\"none\" stroke=\"black\" cx=\"1189\" cy=\"-343.5\" rx=\"27\" ry=\"18\"/>\n<text text-anchor=\"middle\" x=\"1189\" y=\"-339.8\" font-family=\"Times,serif\" font-size=\"14.00\">*</text>\n</g>\n<!-- 139475927770128&#45;&gt;139475927995520* -->\n<g id=\"edge87\" class=\"edge\">\n<title>139475927770128&#45;&gt;139475927995520*</title>\n<path fill=\"none\" stroke=\"black\" d=\"M1126.05,-343.5C1135.06,-343.5 1143.79,-343.5 1151.7,-343.5\"/>\n<polygon fill=\"black\" stroke=\"black\" points=\"1151.95,-347 1161.95,-343.5 1151.95,-340 1151.95,-347\"/>\n</g>\n<!-- 139475927999504 -->\n<g id=\"node6\" class=\"node\">\n<title>139475927999504</title>\n<polygon fill=\"none\" stroke=\"black\" points=\"2819.5,-385.5 2819.5,-421.5 3001.5,-421.5 3001.5,-385.5 2819.5,-385.5\"/>\n<text text-anchor=\"middle\" x=\"2829.5\" y=\"-399.8\" font-family=\"Times,serif\" font-size=\"14.00\"> </text>\n<polyline fill=\"none\" stroke=\"black\" points=\"2839.5,-385.5 2839.5,-421.5 \"/>\n<text text-anchor=\"middle\" x=\"2879.5\" y=\"-399.8\" font-family=\"Times,serif\" font-size=\"14.00\">data 0.0337</text>\n<polyline fill=\"none\" stroke=\"black\" points=\"2919.5,-385.5 2919.5,-421.5 \"/>\n<text text-anchor=\"middle\" x=\"2960.5\" y=\"-399.8\" font-family=\"Times,serif\" font-size=\"14.00\">grad 0.0000</text>\n</g>\n<!-- 139479133464144+ -->\n<g id=\"node10\" class=\"node\">\n<title>139479133464144+</title>\n<ellipse fill=\"none\" stroke=\"black\" cx=\"3067\" cy=\"-403.5\" rx=\"27\" ry=\"18\"/>\n<text text-anchor=\"middle\" x=\"3067\" y=\"-399.8\" font-family=\"Times,serif\" font-size=\"14.00\">+</text>\n</g>\n<!-- 139475927999504&#45;&gt;139479133464144+ -->\n<g id=\"edge121\" class=\"edge\">\n<title>139475927999504&#45;&gt;139479133464144+</title>\n<path fill=\"none\" stroke=\"black\" d=\"M3001.82,-403.5C3011.57,-403.5 3021.04,-403.5 3029.57,-403.5\"/>\n<polygon fill=\"black\" stroke=\"black\" points=\"3029.83,-407 3039.83,-403.5 3029.83,-400 3029.83,-407\"/>\n</g>\n<!-- 139475927999504* -->\n<g id=\"node7\" class=\"node\">\n<title>139475927999504*</title>\n<ellipse fill=\"none\" stroke=\"black\" cx=\"2754\" cy=\"-513.5\" rx=\"27\" ry=\"18\"/>\n<text text-anchor=\"middle\" x=\"2754\" y=\"-509.8\" font-family=\"Times,serif\" font-size=\"14.00\">*</text>\n</g>\n<!-- 139475927999504*&#45;&gt;139475927999504 -->\n<g id=\"edge2\" class=\"edge\">\n<title>139475927999504*&#45;&gt;139475927999504</title>\n<path fill=\"none\" stroke=\"black\" d=\"M2769.76,-498.49C2773.56,-494.39 2777.55,-489.87 2781,-485.5 2798.87,-462.86 2793.84,-448.69 2817,-431.5 2819.48,-429.66 2822.08,-427.94 2824.77,-426.33\"/>\n<polygon fill=\"black\" stroke=\"black\" points=\"2826.49,-429.38 2833.65,-421.57 2823.18,-423.21 2826.49,-429.38\"/>\n</g>\n<!-- 139475927770656 -->\n<g id=\"node8\" class=\"node\">\n<title>139475927770656</title>\n<polygon fill=\"none\" stroke=\"black\" points=\"3445.5,-777.5 3445.5,-813.5 3627.5,-813.5 3627.5,-777.5 3445.5,-777.5\"/>\n<text text-anchor=\"middle\" x=\"3455.5\" y=\"-791.8\" font-family=\"Times,serif\" font-size=\"14.00\"> </text>\n<polyline fill=\"none\" stroke=\"black\" points=\"3465.5,-777.5 3465.5,-813.5 \"/>\n<text text-anchor=\"middle\" x=\"3505.5\" y=\"-791.8\" font-family=\"Times,serif\" font-size=\"14.00\">data 0.0702</text>\n<polyline fill=\"none\" stroke=\"black\" points=\"3545.5,-777.5 3545.5,-813.5 \"/>\n<text text-anchor=\"middle\" x=\"3586.5\" y=\"-791.8\" font-family=\"Times,serif\" font-size=\"14.00\">grad 0.0000</text>\n</g>\n<!-- 139475928116976+ -->\n<g id=\"node63\" class=\"node\">\n<title>139475928116976+</title>\n<ellipse fill=\"none\" stroke=\"black\" cx=\"3693\" cy=\"-744.5\" rx=\"27\" ry=\"18\"/>\n<text text-anchor=\"middle\" x=\"3693\" y=\"-740.8\" font-family=\"Times,serif\" font-size=\"14.00\">+</text>\n</g>\n<!-- 139475927770656&#45;&gt;139475928116976+ -->\n<g id=\"edge151\" class=\"edge\">\n<title>139475927770656&#45;&gt;139475928116976+</title>\n<path fill=\"none\" stroke=\"black\" d=\"M3601.91,-777.47C3611.37,-774.6 3620.97,-771.56 3630,-768.5 3639.82,-765.17 3650.38,-761.23 3659.95,-757.51\"/>\n<polygon fill=\"black\" stroke=\"black\" points=\"3661.47,-760.67 3669.49,-753.74 3658.91,-754.15 3661.47,-760.67\"/>\n</g>\n<!-- 139479133464144 -->\n<g id=\"node9\" class=\"node\">\n<title>139479133464144</title>\n<polygon fill=\"none\" stroke=\"black\" points=\"3130,-426.5 3130,-462.5 3317,-462.5 3317,-426.5 3130,-426.5\"/>\n<text text-anchor=\"middle\" x=\"3140\" y=\"-440.8\" font-family=\"Times,serif\" font-size=\"14.00\"> </text>\n<polyline fill=\"none\" stroke=\"black\" points=\"3150,-426.5 3150,-462.5 \"/>\n<text text-anchor=\"middle\" x=\"3192.5\" y=\"-440.8\" font-family=\"Times,serif\" font-size=\"14.00\">data &#45;0.0244</text>\n<polyline fill=\"none\" stroke=\"black\" points=\"3235,-426.5 3235,-462.5 \"/>\n<text text-anchor=\"middle\" x=\"3276\" y=\"-440.8\" font-family=\"Times,serif\" font-size=\"14.00\">grad 0.0000</text>\n</g>\n<!-- 139479133467264+ -->\n<g id=\"node101\" class=\"node\">\n<title>139479133467264+</title>\n<ellipse fill=\"none\" stroke=\"black\" cx=\"3380\" cy=\"-549.5\" rx=\"27\" ry=\"18\"/>\n<text text-anchor=\"middle\" x=\"3380\" y=\"-545.8\" font-family=\"Times,serif\" font-size=\"14.00\">+</text>\n</g>\n<!-- 139479133464144&#45;&gt;139479133467264+ -->\n<g id=\"edge122\" class=\"edge\">\n<title>139479133464144&#45;&gt;139479133467264+</title>\n<path fill=\"none\" stroke=\"black\" d=\"M3273.37,-462.68C3288.01,-469.17 3303.7,-477.21 3317,-486.5 3332.94,-497.64 3348.29,-513.18 3359.73,-526.04\"/>\n<polygon fill=\"black\" stroke=\"black\" points=\"3357.12,-528.38 3366.31,-533.64 3362.41,-523.79 3357.12,-528.38\"/>\n</g>\n<!-- 139479133464144+&#45;&gt;139479133464144 -->\n<g id=\"edge3\" class=\"edge\">\n<title>139479133464144+&#45;&gt;139479133464144</title>\n<path fill=\"none\" stroke=\"black\" d=\"M3092.48,-410C3106.76,-413.78 3125.63,-418.79 3144.57,-423.82\"/>\n<polygon fill=\"black\" stroke=\"black\" points=\"3143.89,-427.26 3154.45,-426.44 3145.68,-420.49 3143.89,-427.26\"/>\n</g>\n<!-- 139475928115104 -->\n<g id=\"node11\" class=\"node\">\n<title>139475928115104</title>\n<polygon fill=\"none\" stroke=\"black\" points=\"4071.5,-506.5 4071.5,-542.5 4253.5,-542.5 4253.5,-506.5 4071.5,-506.5\"/>\n<text text-anchor=\"middle\" x=\"4081.5\" y=\"-520.8\" font-family=\"Times,serif\" font-size=\"14.00\"> </text>\n<polyline fill=\"none\" stroke=\"black\" points=\"4091.5,-506.5 4091.5,-542.5 \"/>\n<text text-anchor=\"middle\" x=\"4131.5\" y=\"-520.8\" font-family=\"Times,serif\" font-size=\"14.00\">data 0.2956</text>\n<polyline fill=\"none\" stroke=\"black\" points=\"4171.5,-506.5 4171.5,-542.5 \"/>\n<text text-anchor=\"middle\" x=\"4212.5\" y=\"-520.8\" font-family=\"Times,serif\" font-size=\"14.00\">grad 0.0000</text>\n</g>\n<!-- 139475928119856* -->\n<g id=\"node189\" class=\"node\">\n<title>139475928119856*</title>\n<ellipse fill=\"none\" stroke=\"black\" cx=\"4319\" cy=\"-487.5\" rx=\"27\" ry=\"18\"/>\n<text text-anchor=\"middle\" x=\"4319\" y=\"-483.8\" font-family=\"Times,serif\" font-size=\"14.00\">*</text>\n</g>\n<!-- 139475928115104&#45;&gt;139475928119856* -->\n<g id=\"edge142\" class=\"edge\">\n<title>139475928115104&#45;&gt;139475928119856*</title>\n<path fill=\"none\" stroke=\"black\" d=\"M4238.94,-506.43C4254.41,-502.73 4269.98,-499 4283.16,-495.84\"/>\n<polygon fill=\"black\" stroke=\"black\" points=\"4284.27,-499.18 4293.18,-493.44 4282.64,-492.37 4284.27,-499.18\"/>\n</g>\n<!-- 139475928115104tanh -->\n<g id=\"node12\" class=\"node\">\n<title>139475928115104tanh</title>\n<ellipse fill=\"none\" stroke=\"black\" cx=\"4006\" cy=\"-524.5\" rx=\"27\" ry=\"18\"/>\n<text text-anchor=\"middle\" x=\"4006\" y=\"-520.8\" font-family=\"Times,serif\" font-size=\"14.00\">tanh</text>\n</g>\n<!-- 139475928115104tanh&#45;&gt;139475928115104 -->\n<g id=\"edge4\" class=\"edge\">\n<title>139475928115104tanh&#45;&gt;139475928115104</title>\n<path fill=\"none\" stroke=\"black\" d=\"M4033.21,-524.5C4041.34,-524.5 4050.85,-524.5 4060.94,-524.5\"/>\n<polygon fill=\"black\" stroke=\"black\" points=\"4061.19,-528 4071.19,-524.5 4061.19,-521 4061.19,-528\"/>\n</g>\n<!-- 139475928115152 -->\n<g id=\"node13\" class=\"node\">\n<title>139475928115152</title>\n<polygon fill=\"none\" stroke=\"black\" points=\"3758.5,-506.5 3758.5,-542.5 3940.5,-542.5 3940.5,-506.5 3758.5,-506.5\"/>\n<text text-anchor=\"middle\" x=\"3768.5\" y=\"-520.8\" font-family=\"Times,serif\" font-size=\"14.00\"> </text>\n<polyline fill=\"none\" stroke=\"black\" points=\"3778.5,-506.5 3778.5,-542.5 \"/>\n<text text-anchor=\"middle\" x=\"3818.5\" y=\"-520.8\" font-family=\"Times,serif\" font-size=\"14.00\">data 0.3047</text>\n<polyline fill=\"none\" stroke=\"black\" points=\"3858.5,-506.5 3858.5,-542.5 \"/>\n<text text-anchor=\"middle\" x=\"3899.5\" y=\"-520.8\" font-family=\"Times,serif\" font-size=\"14.00\">grad 0.0000</text>\n</g>\n<!-- 139475928115152&#45;&gt;139475928115104tanh -->\n<g id=\"edge227\" class=\"edge\">\n<title>139475928115152&#45;&gt;139475928115104tanh</title>\n<path fill=\"none\" stroke=\"black\" d=\"M3940.82,-524.5C3950.57,-524.5 3960.04,-524.5 3968.57,-524.5\"/>\n<polygon fill=\"black\" stroke=\"black\" points=\"3968.83,-528 3978.83,-524.5 3968.83,-521 3968.83,-528\"/>\n</g>\n<!-- 139475928115152+ -->\n<g id=\"node14\" class=\"node\">\n<title>139475928115152+</title>\n<ellipse fill=\"none\" stroke=\"black\" cx=\"3693\" cy=\"-524.5\" rx=\"27\" ry=\"18\"/>\n<text text-anchor=\"middle\" x=\"3693\" y=\"-520.8\" font-family=\"Times,serif\" font-size=\"14.00\">+</text>\n</g>\n<!-- 139475928115152+&#45;&gt;139475928115152 -->\n<g id=\"edge5\" class=\"edge\">\n<title>139475928115152+&#45;&gt;139475928115152</title>\n<path fill=\"none\" stroke=\"black\" d=\"M3720.21,-524.5C3728.34,-524.5 3737.85,-524.5 3747.94,-524.5\"/>\n<polygon fill=\"black\" stroke=\"black\" points=\"3748.19,-528 3758.19,-524.5 3748.19,-521 3748.19,-528\"/>\n</g>\n<!-- 139475928000656 -->\n<g id=\"node15\" class=\"node\">\n<title>139475928000656</title>\n<polygon fill=\"none\" stroke=\"black\" points=\"2504,-275.5 2504,-311.5 2691,-311.5 2691,-275.5 2504,-275.5\"/>\n<text text-anchor=\"middle\" x=\"2514\" y=\"-289.8\" font-family=\"Times,serif\" font-size=\"14.00\"> </text>\n<polyline fill=\"none\" stroke=\"black\" points=\"2524,-275.5 2524,-311.5 \"/>\n<text text-anchor=\"middle\" x=\"2566.5\" y=\"-289.8\" font-family=\"Times,serif\" font-size=\"14.00\">data &#45;0.0575</text>\n<polyline fill=\"none\" stroke=\"black\" points=\"2609,-275.5 2609,-311.5 \"/>\n<text text-anchor=\"middle\" x=\"2650\" y=\"-289.8\" font-family=\"Times,serif\" font-size=\"14.00\">grad 0.0000</text>\n</g>\n<!-- 139475927997824+ -->\n<g id=\"node215\" class=\"node\">\n<title>139475927997824+</title>\n<ellipse fill=\"none\" stroke=\"black\" cx=\"2754\" cy=\"-293.5\" rx=\"27\" ry=\"18\"/>\n<text text-anchor=\"middle\" x=\"2754\" y=\"-289.8\" font-family=\"Times,serif\" font-size=\"14.00\">+</text>\n</g>\n<!-- 139475928000656&#45;&gt;139475927997824+ -->\n<g id=\"edge140\" class=\"edge\">\n<title>139475928000656&#45;&gt;139475927997824+</title>\n<path fill=\"none\" stroke=\"black\" d=\"M2691.05,-293.5C2700.06,-293.5 2708.79,-293.5 2716.7,-293.5\"/>\n<polygon fill=\"black\" stroke=\"black\" points=\"2716.95,-297 2726.95,-293.5 2716.95,-290 2716.95,-297\"/>\n</g>\n<!-- 139475928000656* -->\n<g id=\"node16\" class=\"node\">\n<title>139475928000656*</title>\n<ellipse fill=\"none\" stroke=\"black\" cx=\"2441\" cy=\"-293.5\" rx=\"27\" ry=\"18\"/>\n<text text-anchor=\"middle\" x=\"2441\" y=\"-289.8\" font-family=\"Times,serif\" font-size=\"14.00\">*</text>\n</g>\n<!-- 139475928000656*&#45;&gt;139475928000656 -->\n<g id=\"edge6\" class=\"edge\">\n<title>139475928000656*&#45;&gt;139475928000656</title>\n<path fill=\"none\" stroke=\"black\" d=\"M2468.21,-293.5C2475.73,-293.5 2484.43,-293.5 2493.67,-293.5\"/>\n<polygon fill=\"black\" stroke=\"black\" points=\"2493.89,-297 2503.89,-293.5 2493.89,-290 2493.89,-297\"/>\n</g>\n<!-- 139475928115488 -->\n<g id=\"node17\" class=\"node\">\n<title>139475928115488</title>\n<polygon fill=\"none\" stroke=\"black\" points=\"2191,-660.5 2191,-696.5 2378,-696.5 2378,-660.5 2191,-660.5\"/>\n<text text-anchor=\"middle\" x=\"2201\" y=\"-674.8\" font-family=\"Times,serif\" font-size=\"14.00\"> </text>\n<polyline fill=\"none\" stroke=\"black\" points=\"2211,-660.5 2211,-696.5 \"/>\n<text text-anchor=\"middle\" x=\"2253.5\" y=\"-674.8\" font-family=\"Times,serif\" font-size=\"14.00\">data &#45;0.0567</text>\n<polyline fill=\"none\" stroke=\"black\" points=\"2296,-660.5 2296,-696.5 \"/>\n<text text-anchor=\"middle\" x=\"2337\" y=\"-674.8\" font-family=\"Times,serif\" font-size=\"14.00\">grad 0.0000</text>\n</g>\n<!-- 139475928115728+ -->\n<g id=\"node25\" class=\"node\">\n<title>139475928115728+</title>\n<ellipse fill=\"none\" stroke=\"black\" cx=\"2441\" cy=\"-733.5\" rx=\"27\" ry=\"18\"/>\n<text text-anchor=\"middle\" x=\"2441\" y=\"-729.8\" font-family=\"Times,serif\" font-size=\"14.00\">+</text>\n</g>\n<!-- 139475928115488&#45;&gt;139475928115728+ -->\n<g id=\"edge213\" class=\"edge\">\n<title>139475928115488&#45;&gt;139475928115728+</title>\n<path fill=\"none\" stroke=\"black\" d=\"M2349.02,-696.65C2358.79,-699.76 2368.71,-703.08 2378,-706.5 2388.25,-710.27 2399.23,-714.86 2409.07,-719.18\"/>\n<polygon fill=\"black\" stroke=\"black\" points=\"2407.89,-722.49 2418.45,-723.37 2410.74,-716.1 2407.89,-722.49\"/>\n</g>\n<!-- 139475928115488* -->\n<g id=\"node18\" class=\"node\">\n<title>139475928115488*</title>\n<ellipse fill=\"none\" stroke=\"black\" cx=\"2128\" cy=\"-678.5\" rx=\"27\" ry=\"18\"/>\n<text text-anchor=\"middle\" x=\"2128\" y=\"-674.8\" font-family=\"Times,serif\" font-size=\"14.00\">*</text>\n</g>\n<!-- 139475928115488*&#45;&gt;139475928115488 -->\n<g id=\"edge7\" class=\"edge\">\n<title>139475928115488*&#45;&gt;139475928115488</title>\n<path fill=\"none\" stroke=\"black\" d=\"M2155.21,-678.5C2162.73,-678.5 2171.43,-678.5 2180.67,-678.5\"/>\n<polygon fill=\"black\" stroke=\"black\" points=\"2180.89,-682 2190.89,-678.5 2180.89,-675 2180.89,-682\"/>\n</g>\n<!-- 139475928115680 -->\n<g id=\"node19\" class=\"node\">\n<title>139475928115680</title>\n<polygon fill=\"none\" stroke=\"black\" points=\"2193.5,-715.5 2193.5,-751.5 2375.5,-751.5 2375.5,-715.5 2193.5,-715.5\"/>\n<text text-anchor=\"middle\" x=\"2203.5\" y=\"-729.8\" font-family=\"Times,serif\" font-size=\"14.00\"> </text>\n<polyline fill=\"none\" stroke=\"black\" points=\"2213.5,-715.5 2213.5,-751.5 \"/>\n<text text-anchor=\"middle\" x=\"2253.5\" y=\"-729.8\" font-family=\"Times,serif\" font-size=\"14.00\">data 0.0000</text>\n<polyline fill=\"none\" stroke=\"black\" points=\"2293.5,-715.5 2293.5,-751.5 \"/>\n<text text-anchor=\"middle\" x=\"2334.5\" y=\"-729.8\" font-family=\"Times,serif\" font-size=\"14.00\">grad 0.0000</text>\n</g>\n<!-- 139475928115680&#45;&gt;139475928115728+ -->\n<g id=\"edge155\" class=\"edge\">\n<title>139475928115680&#45;&gt;139475928115728+</title>\n<path fill=\"none\" stroke=\"black\" d=\"M2375.82,-733.5C2385.57,-733.5 2395.04,-733.5 2403.57,-733.5\"/>\n<polygon fill=\"black\" stroke=\"black\" points=\"2403.83,-737 2413.83,-733.5 2403.83,-730 2403.83,-737\"/>\n</g>\n<!-- 139475928000992 -->\n<g id=\"node20\" class=\"node\">\n<title>139475928000992</title>\n<polygon fill=\"none\" stroke=\"black\" points=\"2191,-165.5 2191,-201.5 2378,-201.5 2378,-165.5 2191,-165.5\"/>\n<text text-anchor=\"middle\" x=\"2201\" y=\"-179.8\" font-family=\"Times,serif\" font-size=\"14.00\"> </text>\n<polyline fill=\"none\" stroke=\"black\" points=\"2211,-165.5 2211,-201.5 \"/>\n<text text-anchor=\"middle\" x=\"2253.5\" y=\"-179.8\" font-family=\"Times,serif\" font-size=\"14.00\">data &#45;0.0006</text>\n<polyline fill=\"none\" stroke=\"black\" points=\"2296,-165.5 2296,-201.5 \"/>\n<text text-anchor=\"middle\" x=\"2337\" y=\"-179.8\" font-family=\"Times,serif\" font-size=\"14.00\">grad 0.0000</text>\n</g>\n<!-- 139475928005888+ -->\n<g id=\"node211\" class=\"node\">\n<title>139475928005888+</title>\n<ellipse fill=\"none\" stroke=\"black\" cx=\"2441\" cy=\"-183.5\" rx=\"27\" ry=\"18\"/>\n<text text-anchor=\"middle\" x=\"2441\" y=\"-179.8\" font-family=\"Times,serif\" font-size=\"14.00\">+</text>\n</g>\n<!-- 139475928000992&#45;&gt;139475928005888+ -->\n<g id=\"edge231\" class=\"edge\">\n<title>139475928000992&#45;&gt;139475928005888+</title>\n<path fill=\"none\" stroke=\"black\" d=\"M2378.05,-183.5C2387.06,-183.5 2395.79,-183.5 2403.7,-183.5\"/>\n<polygon fill=\"black\" stroke=\"black\" points=\"2403.95,-187 2413.95,-183.5 2403.95,-180 2403.95,-187\"/>\n</g>\n<!-- 139475928000992* -->\n<g id=\"node21\" class=\"node\">\n<title>139475928000992*</title>\n<ellipse fill=\"none\" stroke=\"black\" cx=\"2128\" cy=\"-190.5\" rx=\"27\" ry=\"18\"/>\n<text text-anchor=\"middle\" x=\"2128\" y=\"-186.8\" font-family=\"Times,serif\" font-size=\"14.00\">*</text>\n</g>\n<!-- 139475928000992*&#45;&gt;139475928000992 -->\n<g id=\"edge8\" class=\"edge\">\n<title>139475928000992*&#45;&gt;139475928000992</title>\n<path fill=\"none\" stroke=\"black\" d=\"M2155.21,-189.31C2162.73,-188.97 2171.43,-188.58 2180.67,-188.16\"/>\n<polygon fill=\"black\" stroke=\"black\" points=\"2181.06,-191.65 2190.89,-187.7 2180.74,-184.65 2181.06,-191.65\"/>\n</g>\n<!-- 139475928001040 -->\n<g id=\"node22\" class=\"node\">\n<title>139475928001040</title>\n<polygon fill=\"none\" stroke=\"black\" points=\"1254.5,-715.5 1254.5,-751.5 1436.5,-751.5 1436.5,-715.5 1254.5,-715.5\"/>\n<text text-anchor=\"middle\" x=\"1264.5\" y=\"-729.8\" font-family=\"Times,serif\" font-size=\"14.00\"> </text>\n<polyline fill=\"none\" stroke=\"black\" points=\"1274.5,-715.5 1274.5,-751.5 \"/>\n<text text-anchor=\"middle\" x=\"1314.5\" y=\"-729.8\" font-family=\"Times,serif\" font-size=\"14.00\">data 0.5715</text>\n<polyline fill=\"none\" stroke=\"black\" points=\"1354.5,-715.5 1354.5,-751.5 \"/>\n<text text-anchor=\"middle\" x=\"1395.5\" y=\"-729.8\" font-family=\"Times,serif\" font-size=\"14.00\">grad 0.0000</text>\n</g>\n<!-- 139475927996768+ -->\n<g id=\"node181\" class=\"node\">\n<title>139475927996768+</title>\n<ellipse fill=\"none\" stroke=\"black\" cx=\"1502\" cy=\"-678.5\" rx=\"27\" ry=\"18\"/>\n<text text-anchor=\"middle\" x=\"1502\" y=\"-674.8\" font-family=\"Times,serif\" font-size=\"14.00\">+</text>\n</g>\n<!-- 139475928001040&#45;&gt;139475927996768+ -->\n<g id=\"edge170\" class=\"edge\">\n<title>139475928001040&#45;&gt;139475927996768+</title>\n<path fill=\"none\" stroke=\"black\" d=\"M1412.56,-715.45C1421.51,-712.64 1430.53,-709.63 1439,-706.5 1449.49,-702.62 1460.71,-697.78 1470.68,-693.22\"/>\n<polygon fill=\"black\" stroke=\"black\" points=\"1472.2,-696.37 1479.79,-688.97 1469.25,-690.02 1472.2,-696.37\"/>\n</g>\n<!-- 139475928001040+ -->\n<g id=\"node23\" class=\"node\">\n<title>139475928001040+</title>\n<ellipse fill=\"none\" stroke=\"black\" cx=\"1189\" cy=\"-733.5\" rx=\"27\" ry=\"18\"/>\n<text text-anchor=\"middle\" x=\"1189\" y=\"-729.8\" font-family=\"Times,serif\" font-size=\"14.00\">+</text>\n</g>\n<!-- 139475928001040+&#45;&gt;139475928001040 -->\n<g id=\"edge9\" class=\"edge\">\n<title>139475928001040+&#45;&gt;139475928001040</title>\n<path fill=\"none\" stroke=\"black\" d=\"M1216.21,-733.5C1224.34,-733.5 1233.85,-733.5 1243.94,-733.5\"/>\n<polygon fill=\"black\" stroke=\"black\" points=\"1244.19,-737 1254.19,-733.5 1244.19,-730 1244.19,-737\"/>\n</g>\n<!-- 139475928115728 -->\n<g id=\"node24\" class=\"node\">\n<title>139475928115728</title>\n<polygon fill=\"none\" stroke=\"black\" points=\"2504,-770.5 2504,-806.5 2691,-806.5 2691,-770.5 2504,-770.5\"/>\n<text text-anchor=\"middle\" x=\"2514\" y=\"-784.8\" font-family=\"Times,serif\" font-size=\"14.00\"> </text>\n<polyline fill=\"none\" stroke=\"black\" points=\"2524,-770.5 2524,-806.5 \"/>\n<text text-anchor=\"middle\" x=\"2566.5\" y=\"-784.8\" font-family=\"Times,serif\" font-size=\"14.00\">data &#45;0.0567</text>\n<polyline fill=\"none\" stroke=\"black\" points=\"2609,-770.5 2609,-806.5 \"/>\n<text text-anchor=\"middle\" x=\"2650\" y=\"-784.8\" font-family=\"Times,serif\" font-size=\"14.00\">grad 0.0000</text>\n</g>\n<!-- 139475928116112+ -->\n<g id=\"node32\" class=\"node\">\n<title>139475928116112+</title>\n<ellipse fill=\"none\" stroke=\"black\" cx=\"2754\" cy=\"-733.5\" rx=\"27\" ry=\"18\"/>\n<text text-anchor=\"middle\" x=\"2754\" y=\"-729.8\" font-family=\"Times,serif\" font-size=\"14.00\">+</text>\n</g>\n<!-- 139475928115728&#45;&gt;139475928116112+ -->\n<g id=\"edge104\" class=\"edge\">\n<title>139475928115728&#45;&gt;139475928116112+</title>\n<path fill=\"none\" stroke=\"black\" d=\"M2664.56,-770.45C2673.51,-767.64 2682.53,-764.63 2691,-761.5 2701.49,-757.62 2712.71,-752.78 2722.68,-748.22\"/>\n<polygon fill=\"black\" stroke=\"black\" points=\"2724.2,-751.37 2731.79,-743.97 2721.25,-745.02 2724.2,-751.37\"/>\n</g>\n<!-- 139475928115728+&#45;&gt;139475928115728 -->\n<g id=\"edge10\" class=\"edge\">\n<title>139475928115728+&#45;&gt;139475928115728</title>\n<path fill=\"none\" stroke=\"black\" d=\"M2463.21,-743.97C2475.05,-749.59 2490.15,-756.38 2504,-761.5 2509.43,-763.51 2515.08,-765.46 2520.79,-767.35\"/>\n<polygon fill=\"black\" stroke=\"black\" points=\"2519.85,-770.72 2530.44,-770.45 2521.99,-764.06 2519.85,-770.72\"/>\n</g>\n<!-- 139475928115920 -->\n<g id=\"node26\" class=\"node\">\n<title>139475928115920</title>\n<polygon fill=\"none\" stroke=\"black\" points=\"2504,-715.5 2504,-751.5 2691,-751.5 2691,-715.5 2504,-715.5\"/>\n<text text-anchor=\"middle\" x=\"2514\" y=\"-729.8\" font-family=\"Times,serif\" font-size=\"14.00\"> </text>\n<polyline fill=\"none\" stroke=\"black\" points=\"2524,-715.5 2524,-751.5 \"/>\n<text text-anchor=\"middle\" x=\"2566.5\" y=\"-729.8\" font-family=\"Times,serif\" font-size=\"14.00\">data &#45;0.0280</text>\n<polyline fill=\"none\" stroke=\"black\" points=\"2609,-715.5 2609,-751.5 \"/>\n<text text-anchor=\"middle\" x=\"2650\" y=\"-729.8\" font-family=\"Times,serif\" font-size=\"14.00\">grad 0.0000</text>\n</g>\n<!-- 139475928115920&#45;&gt;139475928116112+ -->\n<g id=\"edge204\" class=\"edge\">\n<title>139475928115920&#45;&gt;139475928116112+</title>\n<path fill=\"none\" stroke=\"black\" d=\"M2691.05,-733.5C2700.06,-733.5 2708.79,-733.5 2716.7,-733.5\"/>\n<polygon fill=\"black\" stroke=\"black\" points=\"2716.95,-737 2726.95,-733.5 2716.95,-730 2716.95,-737\"/>\n</g>\n<!-- 139475928115920* -->\n<g id=\"node27\" class=\"node\">\n<title>139475928115920*</title>\n<ellipse fill=\"none\" stroke=\"black\" cx=\"2441\" cy=\"-623.5\" rx=\"27\" ry=\"18\"/>\n<text text-anchor=\"middle\" x=\"2441\" y=\"-619.8\" font-family=\"Times,serif\" font-size=\"14.00\">*</text>\n</g>\n<!-- 139475928115920*&#45;&gt;139475928115920 -->\n<g id=\"edge11\" class=\"edge\">\n<title>139475928115920*&#45;&gt;139475928115920</title>\n<path fill=\"none\" stroke=\"black\" d=\"M2450.32,-640.41C2460.46,-659.27 2479.32,-689.38 2504,-706.5 2506.1,-707.96 2508.29,-709.34 2510.53,-710.65\"/>\n<polygon fill=\"black\" stroke=\"black\" points=\"2508.99,-713.79 2519.47,-715.34 2512.24,-707.59 2508.99,-713.79\"/>\n</g>\n<!-- 139475928001280 -->\n<g id=\"node28\" class=\"node\">\n<title>139475928001280</title>\n<polygon fill=\"none\" stroke=\"black\" points=\"1252,-660.5 1252,-696.5 1439,-696.5 1439,-660.5 1252,-660.5\"/>\n<text text-anchor=\"middle\" x=\"1262\" y=\"-674.8\" font-family=\"Times,serif\" font-size=\"14.00\"> </text>\n<polyline fill=\"none\" stroke=\"black\" points=\"1272,-660.5 1272,-696.5 \"/>\n<text text-anchor=\"middle\" x=\"1314.5\" y=\"-674.8\" font-family=\"Times,serif\" font-size=\"14.00\">data &#45;1.0262</text>\n<polyline fill=\"none\" stroke=\"black\" points=\"1357,-660.5 1357,-696.5 \"/>\n<text text-anchor=\"middle\" x=\"1398\" y=\"-674.8\" font-family=\"Times,serif\" font-size=\"14.00\">grad 0.0000</text>\n</g>\n<!-- 139475928001280&#45;&gt;139475927996768+ -->\n<g id=\"edge219\" class=\"edge\">\n<title>139475928001280&#45;&gt;139475927996768+</title>\n<path fill=\"none\" stroke=\"black\" d=\"M1439.05,-678.5C1448.06,-678.5 1456.79,-678.5 1464.7,-678.5\"/>\n<polygon fill=\"black\" stroke=\"black\" points=\"1464.95,-682 1474.95,-678.5 1464.95,-675 1464.95,-682\"/>\n</g>\n<!-- 139475928001280* -->\n<g id=\"node29\" class=\"node\">\n<title>139475928001280*</title>\n<ellipse fill=\"none\" stroke=\"black\" cx=\"1189\" cy=\"-678.5\" rx=\"27\" ry=\"18\"/>\n<text text-anchor=\"middle\" x=\"1189\" y=\"-674.8\" font-family=\"Times,serif\" font-size=\"14.00\">*</text>\n</g>\n<!-- 139475928001280*&#45;&gt;139475928001280 -->\n<g id=\"edge12\" class=\"edge\">\n<title>139475928001280*&#45;&gt;139475928001280</title>\n<path fill=\"none\" stroke=\"black\" d=\"M1216.21,-678.5C1223.73,-678.5 1232.43,-678.5 1241.67,-678.5\"/>\n<polygon fill=\"black\" stroke=\"black\" points=\"1241.89,-682 1251.89,-678.5 1241.89,-675 1241.89,-682\"/>\n</g>\n<!-- 139475928001424 -->\n<g id=\"node30\" class=\"node\">\n<title>139475928001424</title>\n<polygon fill=\"none\" stroke=\"black\" points=\"941.5,-660.5 941.5,-696.5 1123.5,-696.5 1123.5,-660.5 941.5,-660.5\"/>\n<text text-anchor=\"middle\" x=\"951.5\" y=\"-674.8\" font-family=\"Times,serif\" font-size=\"14.00\"> </text>\n<polyline fill=\"none\" stroke=\"black\" points=\"961.5,-660.5 961.5,-696.5 \"/>\n<text text-anchor=\"middle\" x=\"1001.5\" y=\"-674.8\" font-family=\"Times,serif\" font-size=\"14.00\">data 3.0000</text>\n<polyline fill=\"none\" stroke=\"black\" points=\"1041.5,-660.5 1041.5,-696.5 \"/>\n<text text-anchor=\"middle\" x=\"1082.5\" y=\"-674.8\" font-family=\"Times,serif\" font-size=\"14.00\">grad 0.0000</text>\n</g>\n<!-- 139475928001424&#45;&gt;139475928001280* -->\n<g id=\"edge202\" class=\"edge\">\n<title>139475928001424&#45;&gt;139475928001280*</title>\n<path fill=\"none\" stroke=\"black\" d=\"M1123.82,-678.5C1133.57,-678.5 1143.04,-678.5 1151.57,-678.5\"/>\n<polygon fill=\"black\" stroke=\"black\" points=\"1151.83,-682 1161.83,-678.5 1151.83,-675 1151.83,-682\"/>\n</g>\n<!-- 139475928116112 -->\n<g id=\"node31\" class=\"node\">\n<title>139475928116112</title>\n<polygon fill=\"none\" stroke=\"black\" points=\"2817,-715.5 2817,-751.5 3004,-751.5 3004,-715.5 2817,-715.5\"/>\n<text text-anchor=\"middle\" x=\"2827\" y=\"-729.8\" font-family=\"Times,serif\" font-size=\"14.00\"> </text>\n<polyline fill=\"none\" stroke=\"black\" points=\"2837,-715.5 2837,-751.5 \"/>\n<text text-anchor=\"middle\" x=\"2879.5\" y=\"-729.8\" font-family=\"Times,serif\" font-size=\"14.00\">data &#45;0.0847</text>\n<polyline fill=\"none\" stroke=\"black\" points=\"2922,-715.5 2922,-751.5 \"/>\n<text text-anchor=\"middle\" x=\"2963\" y=\"-729.8\" font-family=\"Times,serif\" font-size=\"14.00\">grad 0.0000</text>\n</g>\n<!-- 139475928116496+ -->\n<g id=\"node49\" class=\"node\">\n<title>139475928116496+</title>\n<ellipse fill=\"none\" stroke=\"black\" cx=\"3067\" cy=\"-733.5\" rx=\"27\" ry=\"18\"/>\n<text text-anchor=\"middle\" x=\"3067\" y=\"-729.8\" font-family=\"Times,serif\" font-size=\"14.00\">+</text>\n</g>\n<!-- 139475928116112&#45;&gt;139475928116496+ -->\n<g id=\"edge233\" class=\"edge\">\n<title>139475928116112&#45;&gt;139475928116496+</title>\n<path fill=\"none\" stroke=\"black\" d=\"M3004.05,-733.5C3013.06,-733.5 3021.79,-733.5 3029.7,-733.5\"/>\n<polygon fill=\"black\" stroke=\"black\" points=\"3029.95,-737 3039.95,-733.5 3029.95,-730 3029.95,-737\"/>\n</g>\n<!-- 139475928116112+&#45;&gt;139475928116112 -->\n<g id=\"edge13\" class=\"edge\">\n<title>139475928116112+&#45;&gt;139475928116112</title>\n<path fill=\"none\" stroke=\"black\" d=\"M2781.21,-733.5C2788.73,-733.5 2797.43,-733.5 2806.67,-733.5\"/>\n<polygon fill=\"black\" stroke=\"black\" points=\"2806.89,-737 2816.89,-733.5 2806.89,-730 2806.89,-737\"/>\n</g>\n<!-- 139475927993264 -->\n<g id=\"node33\" class=\"node\">\n<title>139475927993264</title>\n<polygon fill=\"none\" stroke=\"black\" points=\"1252,-188.5 1252,-224.5 1439,-224.5 1439,-188.5 1252,-188.5\"/>\n<text text-anchor=\"middle\" x=\"1262\" y=\"-202.8\" font-family=\"Times,serif\" font-size=\"14.00\"> </text>\n<polyline fill=\"none\" stroke=\"black\" points=\"1272,-188.5 1272,-224.5 \"/>\n<text text-anchor=\"middle\" x=\"1314.5\" y=\"-202.8\" font-family=\"Times,serif\" font-size=\"14.00\">data &#45;1.1090</text>\n<polyline fill=\"none\" stroke=\"black\" points=\"1357,-188.5 1357,-224.5 \"/>\n<text text-anchor=\"middle\" x=\"1398\" y=\"-202.8\" font-family=\"Times,serif\" font-size=\"14.00\">grad 0.0000</text>\n</g>\n<!-- 139475927993264&#45;&gt;139475927994320+ -->\n<g id=\"edge125\" class=\"edge\">\n<title>139475927993264&#45;&gt;139475927994320+</title>\n<path fill=\"none\" stroke=\"black\" d=\"M1408.94,-224.57C1419.04,-227.73 1429.35,-231.1 1439,-234.5 1449.02,-238.03 1459.79,-242.23 1469.51,-246.17\"/>\n<polygon fill=\"black\" stroke=\"black\" points=\"1468.22,-249.42 1478.8,-249.99 1470.88,-242.95 1468.22,-249.42\"/>\n</g>\n<!-- 139475927993264+ -->\n<g id=\"node34\" class=\"node\">\n<title>139475927993264+</title>\n<ellipse fill=\"none\" stroke=\"black\" cx=\"1189\" cy=\"-206.5\" rx=\"27\" ry=\"18\"/>\n<text text-anchor=\"middle\" x=\"1189\" y=\"-202.8\" font-family=\"Times,serif\" font-size=\"14.00\">+</text>\n</g>\n<!-- 139475927993264+&#45;&gt;139475927993264 -->\n<g id=\"edge14\" class=\"edge\">\n<title>139475927993264+&#45;&gt;139475927993264</title>\n<path fill=\"none\" stroke=\"black\" d=\"M1216.21,-206.5C1223.73,-206.5 1232.43,-206.5 1241.67,-206.5\"/>\n<polygon fill=\"black\" stroke=\"black\" points=\"1241.89,-210 1251.89,-206.5 1241.89,-203 1241.89,-210\"/>\n</g>\n<!-- 139475927993312 -->\n<g id=\"node35\" class=\"node\">\n<title>139475927993312</title>\n<polygon fill=\"none\" stroke=\"black\" points=\"315.5,-147.5 315.5,-183.5 497.5,-183.5 497.5,-147.5 315.5,-147.5\"/>\n<text text-anchor=\"middle\" x=\"325.5\" y=\"-161.8\" font-family=\"Times,serif\" font-size=\"14.00\"> </text>\n<polyline fill=\"none\" stroke=\"black\" points=\"335.5,-147.5 335.5,-183.5 \"/>\n<text text-anchor=\"middle\" x=\"375.5\" y=\"-161.8\" font-family=\"Times,serif\" font-size=\"14.00\">data 0.0000</text>\n<polyline fill=\"none\" stroke=\"black\" points=\"415.5,-147.5 415.5,-183.5 \"/>\n<text text-anchor=\"middle\" x=\"456.5\" y=\"-161.8\" font-family=\"Times,serif\" font-size=\"14.00\">grad 0.0000</text>\n</g>\n<!-- 139475927993312&#45;&gt;139475927993648+ -->\n<g id=\"edge229\" class=\"edge\">\n<title>139475927993312&#45;&gt;139475927993648+</title>\n<path fill=\"none\" stroke=\"black\" d=\"M497.82,-165.5C507.57,-165.5 517.04,-165.5 525.57,-165.5\"/>\n<polygon fill=\"black\" stroke=\"black\" points=\"525.83,-169 535.83,-165.5 525.83,-162 525.83,-169\"/>\n</g>\n<!-- 139475927772192 -->\n<g id=\"node36\" class=\"node\">\n<title>139475927772192</title>\n<polygon fill=\"none\" stroke=\"black\" points=\"1880.5,-550.5 1880.5,-586.5 2062.5,-586.5 2062.5,-550.5 1880.5,-550.5\"/>\n<text text-anchor=\"middle\" x=\"1890.5\" y=\"-564.8\" font-family=\"Times,serif\" font-size=\"14.00\"> </text>\n<polyline fill=\"none\" stroke=\"black\" points=\"1900.5,-550.5 1900.5,-586.5 \"/>\n<text text-anchor=\"middle\" x=\"1940.5\" y=\"-564.8\" font-family=\"Times,serif\" font-size=\"14.00\">data 0.7391</text>\n<polyline fill=\"none\" stroke=\"black\" points=\"1980.5,-550.5 1980.5,-586.5 \"/>\n<text text-anchor=\"middle\" x=\"2021.5\" y=\"-564.8\" font-family=\"Times,serif\" font-size=\"14.00\">grad 0.0000</text>\n</g>\n<!-- 139475928001712+ -->\n<g id=\"node42\" class=\"node\">\n<title>139475928001712+</title>\n<ellipse fill=\"none\" stroke=\"black\" cx=\"2128\" cy=\"-568.5\" rx=\"27\" ry=\"18\"/>\n<text text-anchor=\"middle\" x=\"2128\" y=\"-564.8\" font-family=\"Times,serif\" font-size=\"14.00\">+</text>\n</g>\n<!-- 139475927772192&#45;&gt;139475928001712+ -->\n<g id=\"edge103\" class=\"edge\">\n<title>139475927772192&#45;&gt;139475928001712+</title>\n<path fill=\"none\" stroke=\"black\" d=\"M2062.82,-568.5C2072.57,-568.5 2082.04,-568.5 2090.57,-568.5\"/>\n<polygon fill=\"black\" stroke=\"black\" points=\"2090.83,-572 2100.83,-568.5 2090.83,-565 2090.83,-572\"/>\n</g>\n<!-- 139475928116304 -->\n<g id=\"node37\" class=\"node\">\n<title>139475928116304</title>\n<polygon fill=\"none\" stroke=\"black\" points=\"2819.5,-660.5 2819.5,-696.5 3001.5,-696.5 3001.5,-660.5 2819.5,-660.5\"/>\n<text text-anchor=\"middle\" x=\"2829.5\" y=\"-674.8\" font-family=\"Times,serif\" font-size=\"14.00\"> </text>\n<polyline fill=\"none\" stroke=\"black\" points=\"2839.5,-660.5 2839.5,-696.5 \"/>\n<text text-anchor=\"middle\" x=\"2879.5\" y=\"-674.8\" font-family=\"Times,serif\" font-size=\"14.00\">data 0.0035</text>\n<polyline fill=\"none\" stroke=\"black\" points=\"2919.5,-660.5 2919.5,-696.5 \"/>\n<text text-anchor=\"middle\" x=\"2960.5\" y=\"-674.8\" font-family=\"Times,serif\" font-size=\"14.00\">grad 0.0000</text>\n</g>\n<!-- 139475928116304&#45;&gt;139475928116496+ -->\n<g id=\"edge169\" class=\"edge\">\n<title>139475928116304&#45;&gt;139475928116496+</title>\n<path fill=\"none\" stroke=\"black\" d=\"M2975.02,-696.65C2984.79,-699.76 2994.71,-703.08 3004,-706.5 3014.25,-710.27 3025.23,-714.86 3035.07,-719.18\"/>\n<polygon fill=\"black\" stroke=\"black\" points=\"3033.89,-722.49 3044.45,-723.37 3036.74,-716.1 3033.89,-722.49\"/>\n</g>\n<!-- 139475928116304* -->\n<g id=\"node38\" class=\"node\">\n<title>139475928116304*</title>\n<ellipse fill=\"none\" stroke=\"black\" cx=\"2754\" cy=\"-678.5\" rx=\"27\" ry=\"18\"/>\n<text text-anchor=\"middle\" x=\"2754\" y=\"-674.8\" font-family=\"Times,serif\" font-size=\"14.00\">*</text>\n</g>\n<!-- 139475928116304*&#45;&gt;139475928116304 -->\n<g id=\"edge15\" class=\"edge\">\n<title>139475928116304*&#45;&gt;139475928116304</title>\n<path fill=\"none\" stroke=\"black\" d=\"M2781.21,-678.5C2789.34,-678.5 2798.85,-678.5 2808.94,-678.5\"/>\n<polygon fill=\"black\" stroke=\"black\" points=\"2809.19,-682 2819.19,-678.5 2809.19,-675 2809.19,-682\"/>\n</g>\n<!-- 139475927993504 -->\n<g id=\"node39\" class=\"node\">\n<title>139475927993504</title>\n<polygon fill=\"none\" stroke=\"black\" points=\"939,-202.5 939,-238.5 1126,-238.5 1126,-202.5 939,-202.5\"/>\n<text text-anchor=\"middle\" x=\"949\" y=\"-216.8\" font-family=\"Times,serif\" font-size=\"14.00\"> </text>\n<polyline fill=\"none\" stroke=\"black\" points=\"959,-202.5 959,-238.5 \"/>\n<text text-anchor=\"middle\" x=\"1001.5\" y=\"-216.8\" font-family=\"Times,serif\" font-size=\"14.00\">data &#45;0.3992</text>\n<polyline fill=\"none\" stroke=\"black\" points=\"1044,-202.5 1044,-238.5 \"/>\n<text text-anchor=\"middle\" x=\"1085\" y=\"-216.8\" font-family=\"Times,serif\" font-size=\"14.00\">grad 0.0000</text>\n</g>\n<!-- 139475927993504&#45;&gt;139475927993264+ -->\n<g id=\"edge90\" class=\"edge\">\n<title>139475927993504&#45;&gt;139475927993264+</title>\n<path fill=\"none\" stroke=\"black\" d=\"M1126.05,-212.11C1135.16,-211.29 1143.98,-210.49 1151.97,-209.76\"/>\n<polygon fill=\"black\" stroke=\"black\" points=\"1152.31,-213.25 1161.95,-208.86 1151.67,-206.28 1152.31,-213.25\"/>\n</g>\n<!-- 139475927993504* -->\n<g id=\"node40\" class=\"node\">\n<title>139475927993504*</title>\n<ellipse fill=\"none\" stroke=\"black\" cx=\"876\" cy=\"-220.5\" rx=\"27\" ry=\"18\"/>\n<text text-anchor=\"middle\" x=\"876\" y=\"-216.8\" font-family=\"Times,serif\" font-size=\"14.00\">*</text>\n</g>\n<!-- 139475927993504*&#45;&gt;139475927993504 -->\n<g id=\"edge16\" class=\"edge\">\n<title>139475927993504*&#45;&gt;139475927993504</title>\n<path fill=\"none\" stroke=\"black\" d=\"M903.21,-220.5C910.73,-220.5 919.43,-220.5 928.67,-220.5\"/>\n<polygon fill=\"black\" stroke=\"black\" points=\"928.89,-224 938.89,-220.5 928.89,-217 928.89,-224\"/>\n</g>\n<!-- 139475928001712 -->\n<g id=\"node41\" class=\"node\">\n<title>139475928001712</title>\n<polygon fill=\"none\" stroke=\"black\" points=\"2191,-550.5 2191,-586.5 2378,-586.5 2378,-550.5 2191,-550.5\"/>\n<text text-anchor=\"middle\" x=\"2201\" y=\"-564.8\" font-family=\"Times,serif\" font-size=\"14.00\"> </text>\n<polyline fill=\"none\" stroke=\"black\" points=\"2211,-550.5 2211,-586.5 \"/>\n<text text-anchor=\"middle\" x=\"2253.5\" y=\"-564.8\" font-family=\"Times,serif\" font-size=\"14.00\">data &#45;0.1130</text>\n<polyline fill=\"none\" stroke=\"black\" points=\"2296,-550.5 2296,-586.5 \"/>\n<text text-anchor=\"middle\" x=\"2337\" y=\"-564.8\" font-family=\"Times,serif\" font-size=\"14.00\">grad 0.0000</text>\n</g>\n<!-- 139475927996672tanh -->\n<g id=\"node175\" class=\"node\">\n<title>139475927996672tanh</title>\n<ellipse fill=\"none\" stroke=\"black\" cx=\"2441\" cy=\"-568.5\" rx=\"27\" ry=\"18\"/>\n<text text-anchor=\"middle\" x=\"2441\" y=\"-564.8\" font-family=\"Times,serif\" font-size=\"14.00\">tanh</text>\n</g>\n<!-- 139475928001712&#45;&gt;139475927996672tanh -->\n<g id=\"edge89\" class=\"edge\">\n<title>139475928001712&#45;&gt;139475927996672tanh</title>\n<path fill=\"none\" stroke=\"black\" d=\"M2378.05,-568.5C2387.06,-568.5 2395.79,-568.5 2403.7,-568.5\"/>\n<polygon fill=\"black\" stroke=\"black\" points=\"2403.95,-572 2413.95,-568.5 2403.95,-565 2403.95,-572\"/>\n</g>\n<!-- 139475928001712+&#45;&gt;139475928001712 -->\n<g id=\"edge17\" class=\"edge\">\n<title>139475928001712+&#45;&gt;139475928001712</title>\n<path fill=\"none\" stroke=\"black\" d=\"M2155.21,-568.5C2162.73,-568.5 2171.43,-568.5 2180.67,-568.5\"/>\n<polygon fill=\"black\" stroke=\"black\" points=\"2180.89,-572 2190.89,-568.5 2180.89,-565 2180.89,-572\"/>\n</g>\n<!-- 139475928001760 -->\n<g id=\"node43\" class=\"node\">\n<title>139475928001760</title>\n<polygon fill=\"none\" stroke=\"black\" points=\"1878,-605.5 1878,-641.5 2065,-641.5 2065,-605.5 1878,-605.5\"/>\n<text text-anchor=\"middle\" x=\"1888\" y=\"-619.8\" font-family=\"Times,serif\" font-size=\"14.00\"> </text>\n<polyline fill=\"none\" stroke=\"black\" points=\"1898,-605.5 1898,-641.5 \"/>\n<text text-anchor=\"middle\" x=\"1940.5\" y=\"-619.8\" font-family=\"Times,serif\" font-size=\"14.00\">data &#45;0.8521</text>\n<polyline fill=\"none\" stroke=\"black\" points=\"1983,-605.5 1983,-641.5 \"/>\n<text text-anchor=\"middle\" x=\"2024\" y=\"-619.8\" font-family=\"Times,serif\" font-size=\"14.00\">grad 0.0000</text>\n</g>\n<!-- 139475928001760&#45;&gt;139475928001712+ -->\n<g id=\"edge184\" class=\"edge\">\n<title>139475928001760&#45;&gt;139475928001712+</title>\n<path fill=\"none\" stroke=\"black\" d=\"M2038.56,-605.45C2047.51,-602.64 2056.53,-599.63 2065,-596.5 2075.49,-592.62 2086.71,-587.78 2096.68,-583.22\"/>\n<polygon fill=\"black\" stroke=\"black\" points=\"2098.2,-586.37 2105.79,-578.97 2095.25,-580.02 2098.2,-586.37\"/>\n</g>\n<!-- 139475928001760+ -->\n<g id=\"node44\" class=\"node\">\n<title>139475928001760+</title>\n<ellipse fill=\"none\" stroke=\"black\" cx=\"1815\" cy=\"-623.5\" rx=\"27\" ry=\"18\"/>\n<text text-anchor=\"middle\" x=\"1815\" y=\"-619.8\" font-family=\"Times,serif\" font-size=\"14.00\">+</text>\n</g>\n<!-- 139475928001760+&#45;&gt;139475928001760 -->\n<g id=\"edge18\" class=\"edge\">\n<title>139475928001760+&#45;&gt;139475928001760</title>\n<path fill=\"none\" stroke=\"black\" d=\"M1842.21,-623.5C1849.73,-623.5 1858.43,-623.5 1867.67,-623.5\"/>\n<polygon fill=\"black\" stroke=\"black\" points=\"1867.89,-627 1877.89,-623.5 1867.89,-620 1867.89,-627\"/>\n</g>\n<!-- 139475927772384 -->\n<g id=\"node45\" class=\"node\">\n<title>139475927772384</title>\n<polygon fill=\"none\" stroke=\"black\" points=\"2191,-495.5 2191,-531.5 2378,-531.5 2378,-495.5 2191,-495.5\"/>\n<text text-anchor=\"middle\" x=\"2201\" y=\"-509.8\" font-family=\"Times,serif\" font-size=\"14.00\"> </text>\n<polyline fill=\"none\" stroke=\"black\" points=\"2211,-495.5 2211,-531.5 \"/>\n<text text-anchor=\"middle\" x=\"2253.5\" y=\"-509.8\" font-family=\"Times,serif\" font-size=\"14.00\">data &#45;0.6239</text>\n<polyline fill=\"none\" stroke=\"black\" points=\"2296,-495.5 2296,-531.5 \"/>\n<text text-anchor=\"middle\" x=\"2337\" y=\"-509.8\" font-family=\"Times,serif\" font-size=\"14.00\">grad 0.0000</text>\n</g>\n<!-- 139475928003728* -->\n<g id=\"node125\" class=\"node\">\n<title>139475928003728*</title>\n<ellipse fill=\"none\" stroke=\"black\" cx=\"2441\" cy=\"-458.5\" rx=\"27\" ry=\"18\"/>\n<text text-anchor=\"middle\" x=\"2441\" y=\"-454.8\" font-family=\"Times,serif\" font-size=\"14.00\">*</text>\n</g>\n<!-- 139475927772384&#45;&gt;139475928003728* -->\n<g id=\"edge84\" class=\"edge\">\n<title>139475927772384&#45;&gt;139475928003728*</title>\n<path fill=\"none\" stroke=\"black\" d=\"M2351.56,-495.45C2360.51,-492.64 2369.53,-489.63 2378,-486.5 2388.49,-482.62 2399.71,-477.78 2409.68,-473.22\"/>\n<polygon fill=\"black\" stroke=\"black\" points=\"2411.2,-476.37 2418.79,-468.97 2408.25,-470.02 2411.2,-476.37\"/>\n</g>\n<!-- 139475928001808 -->\n<g id=\"node46\" class=\"node\">\n<title>139475928001808</title>\n<polygon fill=\"none\" stroke=\"black\" points=\"1565,-605.5 1565,-641.5 1752,-641.5 1752,-605.5 1565,-605.5\"/>\n<text text-anchor=\"middle\" x=\"1575\" y=\"-619.8\" font-family=\"Times,serif\" font-size=\"14.00\"> </text>\n<polyline fill=\"none\" stroke=\"black\" points=\"1585,-605.5 1585,-641.5 \"/>\n<text text-anchor=\"middle\" x=\"1627.5\" y=\"-619.8\" font-family=\"Times,serif\" font-size=\"14.00\">data &#45;0.3973</text>\n<polyline fill=\"none\" stroke=\"black\" points=\"1670,-605.5 1670,-641.5 \"/>\n<text text-anchor=\"middle\" x=\"1711\" y=\"-619.8\" font-family=\"Times,serif\" font-size=\"14.00\">grad 0.0000</text>\n</g>\n<!-- 139475928001808&#45;&gt;139475928001760+ -->\n<g id=\"edge208\" class=\"edge\">\n<title>139475928001808&#45;&gt;139475928001760+</title>\n<path fill=\"none\" stroke=\"black\" d=\"M1752.05,-623.5C1761.06,-623.5 1769.79,-623.5 1777.7,-623.5\"/>\n<polygon fill=\"black\" stroke=\"black\" points=\"1777.95,-627 1787.95,-623.5 1777.95,-620 1777.95,-627\"/>\n</g>\n<!-- 139475928001808* -->\n<g id=\"node47\" class=\"node\">\n<title>139475928001808*</title>\n<ellipse fill=\"none\" stroke=\"black\" cx=\"1502\" cy=\"-623.5\" rx=\"27\" ry=\"18\"/>\n<text text-anchor=\"middle\" x=\"1502\" y=\"-619.8\" font-family=\"Times,serif\" font-size=\"14.00\">*</text>\n</g>\n<!-- 139475928001808*&#45;&gt;139475928001808 -->\n<g id=\"edge19\" class=\"edge\">\n<title>139475928001808*&#45;&gt;139475928001808</title>\n<path fill=\"none\" stroke=\"black\" d=\"M1529.21,-623.5C1536.73,-623.5 1545.43,-623.5 1554.67,-623.5\"/>\n<polygon fill=\"black\" stroke=\"black\" points=\"1554.89,-627 1564.89,-623.5 1554.89,-620 1554.89,-627\"/>\n</g>\n<!-- 139475928116496 -->\n<g id=\"node48\" class=\"node\">\n<title>139475928116496</title>\n<polygon fill=\"none\" stroke=\"black\" points=\"3130,-715.5 3130,-751.5 3317,-751.5 3317,-715.5 3130,-715.5\"/>\n<text text-anchor=\"middle\" x=\"3140\" y=\"-729.8\" font-family=\"Times,serif\" font-size=\"14.00\"> </text>\n<polyline fill=\"none\" stroke=\"black\" points=\"3150,-715.5 3150,-751.5 \"/>\n<text text-anchor=\"middle\" x=\"3192.5\" y=\"-729.8\" font-family=\"Times,serif\" font-size=\"14.00\">data &#45;0.0812</text>\n<polyline fill=\"none\" stroke=\"black\" points=\"3235,-715.5 3235,-751.5 \"/>\n<text text-anchor=\"middle\" x=\"3276\" y=\"-729.8\" font-family=\"Times,serif\" font-size=\"14.00\">grad 0.0000</text>\n</g>\n<!-- 139475928116880+ -->\n<g id=\"node60\" class=\"node\">\n<title>139475928116880+</title>\n<ellipse fill=\"none\" stroke=\"black\" cx=\"3380\" cy=\"-740.5\" rx=\"27\" ry=\"18\"/>\n<text text-anchor=\"middle\" x=\"3380\" y=\"-736.8\" font-family=\"Times,serif\" font-size=\"14.00\">+</text>\n</g>\n<!-- 139475928116496&#45;&gt;139475928116880+ -->\n<g id=\"edge196\" class=\"edge\">\n<title>139475928116496&#45;&gt;139475928116880+</title>\n<path fill=\"none\" stroke=\"black\" d=\"M3317.05,-737.69C3326.06,-738.1 3334.79,-738.5 3342.7,-738.86\"/>\n<polygon fill=\"black\" stroke=\"black\" points=\"3342.8,-742.36 3352.95,-739.32 3343.12,-735.37 3342.8,-742.36\"/>\n</g>\n<!-- 139475928116496+&#45;&gt;139475928116496 -->\n<g id=\"edge20\" class=\"edge\">\n<title>139475928116496+&#45;&gt;139475928116496</title>\n<path fill=\"none\" stroke=\"black\" d=\"M3094.21,-733.5C3101.73,-733.5 3110.43,-733.5 3119.67,-733.5\"/>\n<polygon fill=\"black\" stroke=\"black\" points=\"3119.89,-737 3129.89,-733.5 3119.89,-730 3119.89,-737\"/>\n</g>\n<!-- 139475927993648 -->\n<g id=\"node50\" class=\"node\">\n<title>139475927993648</title>\n<polygon fill=\"none\" stroke=\"black\" points=\"626,-147.5 626,-183.5 813,-183.5 813,-147.5 626,-147.5\"/>\n<text text-anchor=\"middle\" x=\"636\" y=\"-161.8\" font-family=\"Times,serif\" font-size=\"14.00\"> </text>\n<polyline fill=\"none\" stroke=\"black\" points=\"646,-147.5 646,-183.5 \"/>\n<text text-anchor=\"middle\" x=\"688.5\" y=\"-161.8\" font-family=\"Times,serif\" font-size=\"14.00\">data &#45;1.3745</text>\n<polyline fill=\"none\" stroke=\"black\" points=\"731,-147.5 731,-183.5 \"/>\n<text text-anchor=\"middle\" x=\"772\" y=\"-161.8\" font-family=\"Times,serif\" font-size=\"14.00\">grad 0.0000</text>\n</g>\n<!-- 139475927994128+ -->\n<g id=\"node65\" class=\"node\">\n<title>139475927994128+</title>\n<ellipse fill=\"none\" stroke=\"black\" cx=\"876\" cy=\"-165.5\" rx=\"27\" ry=\"18\"/>\n<text text-anchor=\"middle\" x=\"876\" y=\"-161.8\" font-family=\"Times,serif\" font-size=\"14.00\">+</text>\n</g>\n<!-- 139475927993648&#45;&gt;139475927994128+ -->\n<g id=\"edge172\" class=\"edge\">\n<title>139475927993648&#45;&gt;139475927994128+</title>\n<path fill=\"none\" stroke=\"black\" d=\"M813.05,-165.5C822.06,-165.5 830.79,-165.5 838.7,-165.5\"/>\n<polygon fill=\"black\" stroke=\"black\" points=\"838.95,-169 848.95,-165.5 838.95,-162 838.95,-169\"/>\n</g>\n<!-- 139475927993648+&#45;&gt;139475927993648 -->\n<g id=\"edge21\" class=\"edge\">\n<title>139475927993648+&#45;&gt;139475927993648</title>\n<path fill=\"none\" stroke=\"black\" d=\"M590.21,-165.5C597.73,-165.5 606.43,-165.5 615.67,-165.5\"/>\n<polygon fill=\"black\" stroke=\"black\" points=\"615.89,-169 625.89,-165.5 615.89,-162 615.89,-169\"/>\n</g>\n<!-- 139475927993696 -->\n<g id=\"node52\" class=\"node\">\n<title>139475927993696</title>\n<polygon fill=\"none\" stroke=\"black\" points=\"315.5,-92.5 315.5,-128.5 497.5,-128.5 497.5,-92.5 315.5,-92.5\"/>\n<text text-anchor=\"middle\" x=\"325.5\" y=\"-106.8\" font-family=\"Times,serif\" font-size=\"14.00\"> </text>\n<polyline fill=\"none\" stroke=\"black\" points=\"335.5,-92.5 335.5,-128.5 \"/>\n<text text-anchor=\"middle\" x=\"375.5\" y=\"-106.8\" font-family=\"Times,serif\" font-size=\"14.00\">data 3.0000</text>\n<polyline fill=\"none\" stroke=\"black\" points=\"415.5,-92.5 415.5,-128.5 \"/>\n<text text-anchor=\"middle\" x=\"456.5\" y=\"-106.8\" font-family=\"Times,serif\" font-size=\"14.00\">grad 0.0000</text>\n</g>\n<!-- 139475927993888* -->\n<g id=\"node58\" class=\"node\">\n<title>139475927993888*</title>\n<ellipse fill=\"none\" stroke=\"black\" cx=\"563\" cy=\"-110.5\" rx=\"27\" ry=\"18\"/>\n<text text-anchor=\"middle\" x=\"563\" y=\"-106.8\" font-family=\"Times,serif\" font-size=\"14.00\">*</text>\n</g>\n<!-- 139475927993696&#45;&gt;139475927993888* -->\n<g id=\"edge150\" class=\"edge\">\n<title>139475927993696&#45;&gt;139475927993888*</title>\n<path fill=\"none\" stroke=\"black\" d=\"M497.82,-110.5C507.57,-110.5 517.04,-110.5 525.57,-110.5\"/>\n<polygon fill=\"black\" stroke=\"black\" points=\"525.83,-114 535.83,-110.5 525.83,-107 525.83,-114\"/>\n</g>\n<!-- 139475928001952 -->\n<g id=\"node53\" class=\"node\">\n<title>139475928001952</title>\n<polygon fill=\"none\" stroke=\"black\" points=\"1252,-605.5 1252,-641.5 1439,-641.5 1439,-605.5 1252,-605.5\"/>\n<text text-anchor=\"middle\" x=\"1262\" y=\"-619.8\" font-family=\"Times,serif\" font-size=\"14.00\"> </text>\n<polyline fill=\"none\" stroke=\"black\" points=\"1272,-605.5 1272,-641.5 \"/>\n<text text-anchor=\"middle\" x=\"1314.5\" y=\"-619.8\" font-family=\"Times,serif\" font-size=\"14.00\">data &#45;1.0000</text>\n<polyline fill=\"none\" stroke=\"black\" points=\"1357,-605.5 1357,-641.5 \"/>\n<text text-anchor=\"middle\" x=\"1398\" y=\"-619.8\" font-family=\"Times,serif\" font-size=\"14.00\">grad 0.0000</text>\n</g>\n<!-- 139475928001952&#45;&gt;139475928001808* -->\n<g id=\"edge207\" class=\"edge\">\n<title>139475928001952&#45;&gt;139475928001808*</title>\n<path fill=\"none\" stroke=\"black\" d=\"M1439.05,-623.5C1448.06,-623.5 1456.79,-623.5 1464.7,-623.5\"/>\n<polygon fill=\"black\" stroke=\"black\" points=\"1464.95,-627 1474.95,-623.5 1464.95,-620 1464.95,-627\"/>\n</g>\n<!-- 139475928116688 -->\n<g id=\"node54\" class=\"node\">\n<title>139475928116688</title>\n<polygon fill=\"none\" stroke=\"black\" points=\"3130,-796.5 3130,-832.5 3317,-832.5 3317,-796.5 3130,-796.5\"/>\n<text text-anchor=\"middle\" x=\"3140\" y=\"-810.8\" font-family=\"Times,serif\" font-size=\"14.00\"> </text>\n<polyline fill=\"none\" stroke=\"black\" points=\"3150,-796.5 3150,-832.5 \"/>\n<text text-anchor=\"middle\" x=\"3192.5\" y=\"-810.8\" font-family=\"Times,serif\" font-size=\"14.00\">data &#45;0.0841</text>\n<polyline fill=\"none\" stroke=\"black\" points=\"3235,-796.5 3235,-832.5 \"/>\n<text text-anchor=\"middle\" x=\"3276\" y=\"-810.8\" font-family=\"Times,serif\" font-size=\"14.00\">grad 0.0000</text>\n</g>\n<!-- 139475928116688&#45;&gt;139475928116880+ -->\n<g id=\"edge182\" class=\"edge\">\n<title>139475928116688&#45;&gt;139475928116880+</title>\n<path fill=\"none\" stroke=\"black\" d=\"M3262.29,-796.4C3288.64,-783.78 3323.34,-767.16 3348.05,-755.33\"/>\n<polygon fill=\"black\" stroke=\"black\" points=\"3349.8,-758.37 3357.31,-750.89 3346.78,-752.05 3349.8,-758.37\"/>\n</g>\n<!-- 139475928116688* -->\n<g id=\"node55\" class=\"node\">\n<title>139475928116688*</title>\n<ellipse fill=\"none\" stroke=\"black\" cx=\"3067\" cy=\"-841.5\" rx=\"27\" ry=\"18\"/>\n<text text-anchor=\"middle\" x=\"3067\" y=\"-837.8\" font-family=\"Times,serif\" font-size=\"14.00\">*</text>\n</g>\n<!-- 139475928116688*&#45;&gt;139475928116688 -->\n<g id=\"edge22\" class=\"edge\">\n<title>139475928116688*&#45;&gt;139475928116688</title>\n<path fill=\"none\" stroke=\"black\" d=\"M3093.51,-837.04C3101.21,-835.7 3110.17,-834.13 3119.73,-832.46\"/>\n<polygon fill=\"black\" stroke=\"black\" points=\"3120.62,-835.86 3129.86,-830.69 3119.41,-828.96 3120.62,-835.86\"/>\n</g>\n<!-- 139475927993840 -->\n<g id=\"node56\" class=\"node\">\n<title>139475927993840</title>\n<polygon fill=\"none\" stroke=\"black\" points=\"626,-257.5 626,-293.5 813,-293.5 813,-257.5 626,-257.5\"/>\n<text text-anchor=\"middle\" x=\"636\" y=\"-271.8\" font-family=\"Times,serif\" font-size=\"14.00\"> </text>\n<polyline fill=\"none\" stroke=\"black\" points=\"646,-257.5 646,-293.5 \"/>\n<text text-anchor=\"middle\" x=\"688.5\" y=\"-271.8\" font-family=\"Times,serif\" font-size=\"14.00\">data &#45;1.0000</text>\n<polyline fill=\"none\" stroke=\"black\" points=\"731,-257.5 731,-293.5 \"/>\n<text text-anchor=\"middle\" x=\"772\" y=\"-271.8\" font-family=\"Times,serif\" font-size=\"14.00\">grad 0.0000</text>\n</g>\n<!-- 139475927993840&#45;&gt;139475927993504* -->\n<g id=\"edge144\" class=\"edge\">\n<title>139475927993840&#45;&gt;139475927993504*</title>\n<path fill=\"none\" stroke=\"black\" d=\"M786.56,-257.45C795.51,-254.64 804.53,-251.63 813,-248.5 823.49,-244.62 834.71,-239.78 844.68,-235.22\"/>\n<polygon fill=\"black\" stroke=\"black\" points=\"846.2,-238.37 853.79,-230.97 843.25,-232.02 846.2,-238.37\"/>\n</g>\n<!-- 139475927993888 -->\n<g id=\"node57\" class=\"node\">\n<title>139475927993888</title>\n<polygon fill=\"none\" stroke=\"black\" points=\"628.5,-92.5 628.5,-128.5 810.5,-128.5 810.5,-92.5 628.5,-92.5\"/>\n<text text-anchor=\"middle\" x=\"638.5\" y=\"-106.8\" font-family=\"Times,serif\" font-size=\"14.00\"> </text>\n<polyline fill=\"none\" stroke=\"black\" points=\"648.5,-92.5 648.5,-128.5 \"/>\n<text text-anchor=\"middle\" x=\"688.5\" y=\"-106.8\" font-family=\"Times,serif\" font-size=\"14.00\">data 0.6647</text>\n<polyline fill=\"none\" stroke=\"black\" points=\"728.5,-92.5 728.5,-128.5 \"/>\n<text text-anchor=\"middle\" x=\"769.5\" y=\"-106.8\" font-family=\"Times,serif\" font-size=\"14.00\">grad 0.0000</text>\n</g>\n<!-- 139475927993888&#45;&gt;139475927994128+ -->\n<g id=\"edge175\" class=\"edge\">\n<title>139475927993888&#45;&gt;139475927994128+</title>\n<path fill=\"none\" stroke=\"black\" d=\"M784.02,-128.65C793.79,-131.76 803.71,-135.08 813,-138.5 823.25,-142.27 834.23,-146.86 844.07,-151.18\"/>\n<polygon fill=\"black\" stroke=\"black\" points=\"842.89,-154.49 853.45,-155.37 845.74,-148.1 842.89,-154.49\"/>\n</g>\n<!-- 139475927993888*&#45;&gt;139475927993888 -->\n<g id=\"edge23\" class=\"edge\">\n<title>139475927993888*&#45;&gt;139475927993888</title>\n<path fill=\"none\" stroke=\"black\" d=\"M590.21,-110.5C598.34,-110.5 607.85,-110.5 617.94,-110.5\"/>\n<polygon fill=\"black\" stroke=\"black\" points=\"618.19,-114 628.19,-110.5 618.19,-107 618.19,-114\"/>\n</g>\n<!-- 139475928116880 -->\n<g id=\"node59\" class=\"node\">\n<title>139475928116880</title>\n<polygon fill=\"none\" stroke=\"black\" points=\"3443,-722.5 3443,-758.5 3630,-758.5 3630,-722.5 3443,-722.5\"/>\n<text text-anchor=\"middle\" x=\"3453\" y=\"-736.8\" font-family=\"Times,serif\" font-size=\"14.00\"> </text>\n<polyline fill=\"none\" stroke=\"black\" points=\"3463,-722.5 3463,-758.5 \"/>\n<text text-anchor=\"middle\" x=\"3505.5\" y=\"-736.8\" font-family=\"Times,serif\" font-size=\"14.00\">data &#45;0.1654</text>\n<polyline fill=\"none\" stroke=\"black\" points=\"3548,-722.5 3548,-758.5 \"/>\n<text text-anchor=\"middle\" x=\"3589\" y=\"-736.8\" font-family=\"Times,serif\" font-size=\"14.00\">grad 0.0000</text>\n</g>\n<!-- 139475928116880&#45;&gt;139475928116976+ -->\n<g id=\"edge164\" class=\"edge\">\n<title>139475928116880&#45;&gt;139475928116976+</title>\n<path fill=\"none\" stroke=\"black\" d=\"M3630.05,-742.9C3639.06,-743.13 3647.79,-743.36 3655.7,-743.56\"/>\n<polygon fill=\"black\" stroke=\"black\" points=\"3655.86,-747.07 3665.95,-743.83 3656.04,-740.07 3655.86,-747.07\"/>\n</g>\n<!-- 139475928116880+&#45;&gt;139475928116880 -->\n<g id=\"edge24\" class=\"edge\">\n<title>139475928116880+&#45;&gt;139475928116880</title>\n<path fill=\"none\" stroke=\"black\" d=\"M3407.21,-740.5C3414.73,-740.5 3423.43,-740.5 3432.67,-740.5\"/>\n<polygon fill=\"black\" stroke=\"black\" points=\"3432.89,-744 3442.89,-740.5 3432.89,-737 3432.89,-744\"/>\n</g>\n<!-- 139475928002288 -->\n<g id=\"node61\" class=\"node\">\n<title>139475928002288</title>\n<polygon fill=\"none\" stroke=\"black\" points=\"941.5,-880.5 941.5,-916.5 1123.5,-916.5 1123.5,-880.5 941.5,-880.5\"/>\n<text text-anchor=\"middle\" x=\"951.5\" y=\"-894.8\" font-family=\"Times,serif\" font-size=\"14.00\"> </text>\n<polyline fill=\"none\" stroke=\"black\" points=\"961.5,-880.5 961.5,-916.5 \"/>\n<text text-anchor=\"middle\" x=\"1001.5\" y=\"-894.8\" font-family=\"Times,serif\" font-size=\"14.00\">data 2.0000</text>\n<polyline fill=\"none\" stroke=\"black\" points=\"1041.5,-880.5 1041.5,-916.5 \"/>\n<text text-anchor=\"middle\" x=\"1082.5\" y=\"-894.8\" font-family=\"Times,serif\" font-size=\"14.00\">grad 0.0000</text>\n</g>\n<!-- 139475928002384* -->\n<g id=\"node69\" class=\"node\">\n<title>139475928002384*</title>\n<ellipse fill=\"none\" stroke=\"black\" cx=\"1189\" cy=\"-843.5\" rx=\"27\" ry=\"18\"/>\n<text text-anchor=\"middle\" x=\"1189\" y=\"-839.8\" font-family=\"Times,serif\" font-size=\"14.00\">*</text>\n</g>\n<!-- 139475928002288&#45;&gt;139475928002384* -->\n<g id=\"edge194\" class=\"edge\">\n<title>139475928002288&#45;&gt;139475928002384*</title>\n<path fill=\"none\" stroke=\"black\" d=\"M1099.56,-880.45C1108.51,-877.64 1117.53,-874.63 1126,-871.5 1136.49,-867.62 1147.71,-862.78 1157.68,-858.22\"/>\n<polygon fill=\"black\" stroke=\"black\" points=\"1159.2,-861.37 1166.79,-853.97 1156.25,-855.02 1159.2,-861.37\"/>\n</g>\n<!-- 139475928116976 -->\n<g id=\"node62\" class=\"node\">\n<title>139475928116976</title>\n<polygon fill=\"none\" stroke=\"black\" points=\"3756,-726.5 3756,-762.5 3943,-762.5 3943,-726.5 3756,-726.5\"/>\n<text text-anchor=\"middle\" x=\"3766\" y=\"-740.8\" font-family=\"Times,serif\" font-size=\"14.00\"> </text>\n<polyline fill=\"none\" stroke=\"black\" points=\"3776,-726.5 3776,-762.5 \"/>\n<text text-anchor=\"middle\" x=\"3818.5\" y=\"-740.8\" font-family=\"Times,serif\" font-size=\"14.00\">data &#45;0.0952</text>\n<polyline fill=\"none\" stroke=\"black\" points=\"3861,-726.5 3861,-762.5 \"/>\n<text text-anchor=\"middle\" x=\"3902\" y=\"-740.8\" font-family=\"Times,serif\" font-size=\"14.00\">grad 0.0000</text>\n</g>\n<!-- 139475928117168tanh -->\n<g id=\"node71\" class=\"node\">\n<title>139475928117168tanh</title>\n<ellipse fill=\"none\" stroke=\"black\" cx=\"4006\" cy=\"-744.5\" rx=\"27\" ry=\"18\"/>\n<text text-anchor=\"middle\" x=\"4006\" y=\"-740.8\" font-family=\"Times,serif\" font-size=\"14.00\">tanh</text>\n</g>\n<!-- 139475928116976&#45;&gt;139475928117168tanh -->\n<g id=\"edge216\" class=\"edge\">\n<title>139475928116976&#45;&gt;139475928117168tanh</title>\n<path fill=\"none\" stroke=\"black\" d=\"M3943.05,-744.5C3952.06,-744.5 3960.79,-744.5 3968.7,-744.5\"/>\n<polygon fill=\"black\" stroke=\"black\" points=\"3968.95,-748 3978.95,-744.5 3968.95,-741 3968.95,-748\"/>\n</g>\n<!-- 139475928116976+&#45;&gt;139475928116976 -->\n<g id=\"edge25\" class=\"edge\">\n<title>139475928116976+&#45;&gt;139475928116976</title>\n<path fill=\"none\" stroke=\"black\" d=\"M3720.21,-744.5C3727.73,-744.5 3736.43,-744.5 3745.67,-744.5\"/>\n<polygon fill=\"black\" stroke=\"black\" points=\"3745.89,-748 3755.89,-744.5 3745.89,-741 3745.89,-748\"/>\n</g>\n<!-- 139475927994128 -->\n<g id=\"node64\" class=\"node\">\n<title>139475927994128</title>\n<polygon fill=\"none\" stroke=\"black\" points=\"939,-147.5 939,-183.5 1126,-183.5 1126,-147.5 939,-147.5\"/>\n<text text-anchor=\"middle\" x=\"949\" y=\"-161.8\" font-family=\"Times,serif\" font-size=\"14.00\"> </text>\n<polyline fill=\"none\" stroke=\"black\" points=\"959,-147.5 959,-183.5 \"/>\n<text text-anchor=\"middle\" x=\"1001.5\" y=\"-161.8\" font-family=\"Times,serif\" font-size=\"14.00\">data &#45;0.7098</text>\n<polyline fill=\"none\" stroke=\"black\" points=\"1044,-147.5 1044,-183.5 \"/>\n<text text-anchor=\"middle\" x=\"1085\" y=\"-161.8\" font-family=\"Times,serif\" font-size=\"14.00\">grad 0.0000</text>\n</g>\n<!-- 139475927994128&#45;&gt;139475927993264+ -->\n<g id=\"edge173\" class=\"edge\">\n<title>139475927994128&#45;&gt;139475927993264+</title>\n<path fill=\"none\" stroke=\"black\" d=\"M1101.72,-183.6C1119.71,-188.38 1138.37,-193.33 1153.71,-197.4\"/>\n<polygon fill=\"black\" stroke=\"black\" points=\"1153.2,-200.88 1163.76,-200.07 1154.99,-194.12 1153.2,-200.88\"/>\n</g>\n<!-- 139475927994128+&#45;&gt;139475927994128 -->\n<g id=\"edge26\" class=\"edge\">\n<title>139475927994128+&#45;&gt;139475927994128</title>\n<path fill=\"none\" stroke=\"black\" d=\"M903.21,-165.5C910.73,-165.5 919.43,-165.5 928.67,-165.5\"/>\n<polygon fill=\"black\" stroke=\"black\" points=\"928.89,-169 938.89,-165.5 928.89,-162 928.89,-169\"/>\n</g>\n<!-- 139475928002336 -->\n<g id=\"node66\" class=\"node\">\n<title>139475928002336</title>\n<polygon fill=\"none\" stroke=\"black\" points=\"1254.5,-880.5 1254.5,-916.5 1436.5,-916.5 1436.5,-880.5 1254.5,-880.5\"/>\n<text text-anchor=\"middle\" x=\"1264.5\" y=\"-894.8\" font-family=\"Times,serif\" font-size=\"14.00\"> </text>\n<polyline fill=\"none\" stroke=\"black\" points=\"1274.5,-880.5 1274.5,-916.5 \"/>\n<text text-anchor=\"middle\" x=\"1314.5\" y=\"-894.8\" font-family=\"Times,serif\" font-size=\"14.00\">data 0.0000</text>\n<polyline fill=\"none\" stroke=\"black\" points=\"1354.5,-880.5 1354.5,-916.5 \"/>\n<text text-anchor=\"middle\" x=\"1395.5\" y=\"-894.8\" font-family=\"Times,serif\" font-size=\"14.00\">grad 0.0000</text>\n</g>\n<!-- 139475928002576+ -->\n<g id=\"node75\" class=\"node\">\n<title>139475928002576+</title>\n<ellipse fill=\"none\" stroke=\"black\" cx=\"1502\" cy=\"-898.5\" rx=\"27\" ry=\"18\"/>\n<text text-anchor=\"middle\" x=\"1502\" y=\"-894.8\" font-family=\"Times,serif\" font-size=\"14.00\">+</text>\n</g>\n<!-- 139475928002336&#45;&gt;139475928002576+ -->\n<g id=\"edge218\" class=\"edge\">\n<title>139475928002336&#45;&gt;139475928002576+</title>\n<path fill=\"none\" stroke=\"black\" d=\"M1436.82,-898.5C1446.57,-898.5 1456.04,-898.5 1464.57,-898.5\"/>\n<polygon fill=\"black\" stroke=\"black\" points=\"1464.83,-902 1474.83,-898.5 1464.83,-895 1464.83,-902\"/>\n</g>\n<!-- 139475927772912 -->\n<g id=\"node67\" class=\"node\">\n<title>139475927772912</title>\n<polygon fill=\"none\" stroke=\"black\" points=\"1880.5,-660.5 1880.5,-696.5 2062.5,-696.5 2062.5,-660.5 1880.5,-660.5\"/>\n<text text-anchor=\"middle\" x=\"1890.5\" y=\"-674.8\" font-family=\"Times,serif\" font-size=\"14.00\"> </text>\n<polyline fill=\"none\" stroke=\"black\" points=\"1900.5,-660.5 1900.5,-696.5 \"/>\n<text text-anchor=\"middle\" x=\"1940.5\" y=\"-674.8\" font-family=\"Times,serif\" font-size=\"14.00\">data 0.1302</text>\n<polyline fill=\"none\" stroke=\"black\" points=\"1980.5,-660.5 1980.5,-696.5 \"/>\n<text text-anchor=\"middle\" x=\"2021.5\" y=\"-674.8\" font-family=\"Times,serif\" font-size=\"14.00\">grad 0.0000</text>\n</g>\n<!-- 139475927772912&#45;&gt;139475928115488* -->\n<g id=\"edge178\" class=\"edge\">\n<title>139475927772912&#45;&gt;139475928115488*</title>\n<path fill=\"none\" stroke=\"black\" d=\"M2062.82,-678.5C2072.57,-678.5 2082.04,-678.5 2090.57,-678.5\"/>\n<polygon fill=\"black\" stroke=\"black\" points=\"2090.83,-682 2100.83,-678.5 2090.83,-675 2090.83,-682\"/>\n</g>\n<!-- 139475928002384 -->\n<g id=\"node68\" class=\"node\">\n<title>139475928002384</title>\n<polygon fill=\"none\" stroke=\"black\" points=\"1254.5,-825.5 1254.5,-861.5 1436.5,-861.5 1436.5,-825.5 1254.5,-825.5\"/>\n<text text-anchor=\"middle\" x=\"1264.5\" y=\"-839.8\" font-family=\"Times,serif\" font-size=\"14.00\"> </text>\n<polyline fill=\"none\" stroke=\"black\" points=\"1274.5,-825.5 1274.5,-861.5 \"/>\n<text text-anchor=\"middle\" x=\"1314.5\" y=\"-839.8\" font-family=\"Times,serif\" font-size=\"14.00\">data 0.3178</text>\n<polyline fill=\"none\" stroke=\"black\" points=\"1354.5,-825.5 1354.5,-861.5 \"/>\n<text text-anchor=\"middle\" x=\"1395.5\" y=\"-839.8\" font-family=\"Times,serif\" font-size=\"14.00\">grad 0.0000</text>\n</g>\n<!-- 139475928002384&#45;&gt;139475928002576+ -->\n<g id=\"edge118\" class=\"edge\">\n<title>139475928002384&#45;&gt;139475928002576+</title>\n<path fill=\"none\" stroke=\"black\" d=\"M1410.02,-861.65C1419.79,-864.76 1429.71,-868.08 1439,-871.5 1449.25,-875.27 1460.23,-879.86 1470.07,-884.18\"/>\n<polygon fill=\"black\" stroke=\"black\" points=\"1468.89,-887.49 1479.45,-888.37 1471.74,-881.1 1468.89,-887.49\"/>\n</g>\n<!-- 139475928002384*&#45;&gt;139475928002384 -->\n<g id=\"edge27\" class=\"edge\">\n<title>139475928002384*&#45;&gt;139475928002384</title>\n<path fill=\"none\" stroke=\"black\" d=\"M1216.21,-843.5C1224.34,-843.5 1233.85,-843.5 1243.94,-843.5\"/>\n<polygon fill=\"black\" stroke=\"black\" points=\"1244.19,-847 1254.19,-843.5 1244.19,-840 1244.19,-847\"/>\n</g>\n<!-- 139475928117168 -->\n<g id=\"node70\" class=\"node\">\n<title>139475928117168</title>\n<polygon fill=\"none\" stroke=\"black\" points=\"4069,-726.5 4069,-762.5 4256,-762.5 4256,-726.5 4069,-726.5\"/>\n<text text-anchor=\"middle\" x=\"4079\" y=\"-740.8\" font-family=\"Times,serif\" font-size=\"14.00\"> </text>\n<polyline fill=\"none\" stroke=\"black\" points=\"4089,-726.5 4089,-762.5 \"/>\n<text text-anchor=\"middle\" x=\"4131.5\" y=\"-740.8\" font-family=\"Times,serif\" font-size=\"14.00\">data &#45;0.0949</text>\n<polyline fill=\"none\" stroke=\"black\" points=\"4174,-726.5 4174,-762.5 \"/>\n<text text-anchor=\"middle\" x=\"4215\" y=\"-740.8\" font-family=\"Times,serif\" font-size=\"14.00\">grad 0.0000</text>\n</g>\n<!-- 139475928120240* -->\n<g id=\"node200\" class=\"node\">\n<title>139475928120240*</title>\n<ellipse fill=\"none\" stroke=\"black\" cx=\"4319\" cy=\"-689.5\" rx=\"27\" ry=\"18\"/>\n<text text-anchor=\"middle\" x=\"4319\" y=\"-685.8\" font-family=\"Times,serif\" font-size=\"14.00\">*</text>\n</g>\n<!-- 139475928117168&#45;&gt;139475928120240* -->\n<g id=\"edge162\" class=\"edge\">\n<title>139475928117168&#45;&gt;139475928120240*</title>\n<path fill=\"none\" stroke=\"black\" d=\"M4229.56,-726.45C4238.51,-723.64 4247.53,-720.63 4256,-717.5 4266.49,-713.62 4277.71,-708.78 4287.68,-704.22\"/>\n<polygon fill=\"black\" stroke=\"black\" points=\"4289.2,-707.37 4296.79,-699.97 4286.25,-701.02 4289.2,-707.37\"/>\n</g>\n<!-- 139475928117168tanh&#45;&gt;139475928117168 -->\n<g id=\"edge28\" class=\"edge\">\n<title>139475928117168tanh&#45;&gt;139475928117168</title>\n<path fill=\"none\" stroke=\"black\" d=\"M4033.21,-744.5C4040.73,-744.5 4049.43,-744.5 4058.67,-744.5\"/>\n<polygon fill=\"black\" stroke=\"black\" points=\"4058.89,-748 4068.89,-744.5 4058.89,-741 4058.89,-748\"/>\n</g>\n<!-- 139475927994320 -->\n<g id=\"node72\" class=\"node\">\n<title>139475927994320</title>\n<polygon fill=\"none\" stroke=\"black\" points=\"1565,-241.5 1565,-277.5 1752,-277.5 1752,-241.5 1565,-241.5\"/>\n<text text-anchor=\"middle\" x=\"1575\" y=\"-255.8\" font-family=\"Times,serif\" font-size=\"14.00\"> </text>\n<polyline fill=\"none\" stroke=\"black\" points=\"1585,-241.5 1585,-277.5 \"/>\n<text text-anchor=\"middle\" x=\"1627.5\" y=\"-255.8\" font-family=\"Times,serif\" font-size=\"14.00\">data &#45;0.4666</text>\n<polyline fill=\"none\" stroke=\"black\" points=\"1670,-241.5 1670,-277.5 \"/>\n<text text-anchor=\"middle\" x=\"1711\" y=\"-255.8\" font-family=\"Times,serif\" font-size=\"14.00\">grad 0.0000</text>\n</g>\n<!-- 139475927994464tanh -->\n<g id=\"node77\" class=\"node\">\n<title>139475927994464tanh</title>\n<ellipse fill=\"none\" stroke=\"black\" cx=\"1815\" cy=\"-259.5\" rx=\"27\" ry=\"18\"/>\n<text text-anchor=\"middle\" x=\"1815\" y=\"-255.8\" font-family=\"Times,serif\" font-size=\"14.00\">tanh</text>\n</g>\n<!-- 139475927994320&#45;&gt;139475927994464tanh -->\n<g id=\"edge126\" class=\"edge\">\n<title>139475927994320&#45;&gt;139475927994464tanh</title>\n<path fill=\"none\" stroke=\"black\" d=\"M1752.05,-259.5C1761.06,-259.5 1769.79,-259.5 1777.7,-259.5\"/>\n<polygon fill=\"black\" stroke=\"black\" points=\"1777.95,-263 1787.95,-259.5 1777.95,-256 1777.95,-263\"/>\n</g>\n<!-- 139475927994320+&#45;&gt;139475927994320 -->\n<g id=\"edge29\" class=\"edge\">\n<title>139475927994320+&#45;&gt;139475927994320</title>\n<path fill=\"none\" stroke=\"black\" d=\"M1529.21,-259.5C1536.73,-259.5 1545.43,-259.5 1554.67,-259.5\"/>\n<polygon fill=\"black\" stroke=\"black\" points=\"1554.89,-263 1564.89,-259.5 1554.89,-256 1554.89,-263\"/>\n</g>\n<!-- 139475928002576 -->\n<g id=\"node74\" class=\"node\">\n<title>139475928002576</title>\n<polygon fill=\"none\" stroke=\"black\" points=\"1567.5,-880.5 1567.5,-916.5 1749.5,-916.5 1749.5,-880.5 1567.5,-880.5\"/>\n<text text-anchor=\"middle\" x=\"1577.5\" y=\"-894.8\" font-family=\"Times,serif\" font-size=\"14.00\"> </text>\n<polyline fill=\"none\" stroke=\"black\" points=\"1587.5,-880.5 1587.5,-916.5 \"/>\n<text text-anchor=\"middle\" x=\"1627.5\" y=\"-894.8\" font-family=\"Times,serif\" font-size=\"14.00\">data 0.3178</text>\n<polyline fill=\"none\" stroke=\"black\" points=\"1667.5,-880.5 1667.5,-916.5 \"/>\n<text text-anchor=\"middle\" x=\"1708.5\" y=\"-894.8\" font-family=\"Times,serif\" font-size=\"14.00\">grad 0.0000</text>\n</g>\n<!-- 139475928002960+ -->\n<g id=\"node90\" class=\"node\">\n<title>139475928002960+</title>\n<ellipse fill=\"none\" stroke=\"black\" cx=\"1815\" cy=\"-898.5\" rx=\"27\" ry=\"18\"/>\n<text text-anchor=\"middle\" x=\"1815\" y=\"-894.8\" font-family=\"Times,serif\" font-size=\"14.00\">+</text>\n</g>\n<!-- 139475928002576&#45;&gt;139475928002960+ -->\n<g id=\"edge148\" class=\"edge\">\n<title>139475928002576&#45;&gt;139475928002960+</title>\n<path fill=\"none\" stroke=\"black\" d=\"M1749.82,-898.5C1759.57,-898.5 1769.04,-898.5 1777.57,-898.5\"/>\n<polygon fill=\"black\" stroke=\"black\" points=\"1777.83,-902 1787.83,-898.5 1777.83,-895 1777.83,-902\"/>\n</g>\n<!-- 139475928002576+&#45;&gt;139475928002576 -->\n<g id=\"edge30\" class=\"edge\">\n<title>139475928002576+&#45;&gt;139475928002576</title>\n<path fill=\"none\" stroke=\"black\" d=\"M1529.21,-898.5C1537.34,-898.5 1546.85,-898.5 1556.94,-898.5\"/>\n<polygon fill=\"black\" stroke=\"black\" points=\"1557.19,-902 1567.19,-898.5 1557.19,-895 1557.19,-902\"/>\n</g>\n<!-- 139475927994464 -->\n<g id=\"node76\" class=\"node\">\n<title>139475927994464</title>\n<polygon fill=\"none\" stroke=\"black\" points=\"1878,-241.5 1878,-277.5 2065,-277.5 2065,-241.5 1878,-241.5\"/>\n<text text-anchor=\"middle\" x=\"1888\" y=\"-255.8\" font-family=\"Times,serif\" font-size=\"14.00\"> </text>\n<polyline fill=\"none\" stroke=\"black\" points=\"1898,-241.5 1898,-277.5 \"/>\n<text text-anchor=\"middle\" x=\"1940.5\" y=\"-255.8\" font-family=\"Times,serif\" font-size=\"14.00\">data &#45;0.4355</text>\n<polyline fill=\"none\" stroke=\"black\" points=\"1983,-241.5 1983,-277.5 \"/>\n<text text-anchor=\"middle\" x=\"2024\" y=\"-255.8\" font-family=\"Times,serif\" font-size=\"14.00\">grad 0.0000</text>\n</g>\n<!-- 139475927994464&#45;&gt;139475928115488* -->\n<g id=\"edge112\" class=\"edge\">\n<title>139475927994464&#45;&gt;139475928115488*</title>\n<path fill=\"none\" stroke=\"black\" d=\"M2014.62,-277.75C2033.07,-287.93 2053.17,-302.45 2065,-321.5 2129.77,-425.86 2074.54,-475.56 2101,-595.5 2105.16,-614.37 2111.66,-635.11 2117.12,-651.14\"/>\n<polygon fill=\"black\" stroke=\"black\" points=\"2113.93,-652.63 2120.52,-660.93 2120.54,-650.34 2113.93,-652.63\"/>\n</g>\n<!-- 139475927994464&#45;&gt;139475928000992* -->\n<g id=\"edge102\" class=\"edge\">\n<title>139475927994464&#45;&gt;139475928000992*</title>\n<path fill=\"none\" stroke=\"black\" d=\"M2013.51,-241.4C2029.58,-234.28 2048.16,-226.03 2065,-218.5 2075.03,-214.01 2085.95,-209.09 2095.8,-204.64\"/>\n<polygon fill=\"black\" stroke=\"black\" points=\"2097.54,-207.7 2105.21,-200.39 2094.66,-201.32 2097.54,-207.7\"/>\n</g>\n<!-- 139475928117456* -->\n<g id=\"node82\" class=\"node\">\n<title>139475928117456*</title>\n<ellipse fill=\"none\" stroke=\"black\" cx=\"2128\" cy=\"-80.5\" rx=\"27\" ry=\"18\"/>\n<text text-anchor=\"middle\" x=\"2128\" y=\"-76.8\" font-family=\"Times,serif\" font-size=\"14.00\">*</text>\n</g>\n<!-- 139475927994464&#45;&gt;139475928117456* -->\n<g id=\"edge183\" class=\"edge\">\n<title>139475927994464&#45;&gt;139475928117456*</title>\n<path fill=\"none\" stroke=\"black\" d=\"M2030.87,-241.39C2043.22,-235.55 2055.41,-228.04 2065,-218.5 2081.4,-202.19 2104.58,-143.01 2117.45,-107.66\"/>\n<polygon fill=\"black\" stroke=\"black\" points=\"2120.85,-108.55 2120.94,-97.96 2114.26,-106.18 2120.85,-108.55\"/>\n</g>\n<!-- 139475928003968* -->\n<g id=\"node140\" class=\"node\">\n<title>139475928003968*</title>\n<ellipse fill=\"none\" stroke=\"black\" cx=\"2128\" cy=\"-403.5\" rx=\"27\" ry=\"18\"/>\n<text text-anchor=\"middle\" x=\"2128\" y=\"-399.8\" font-family=\"Times,serif\" font-size=\"14.00\">*</text>\n</g>\n<!-- 139475927994464&#45;&gt;139475928003968* -->\n<g id=\"edge179\" class=\"edge\">\n<title>139475927994464&#45;&gt;139475928003968*</title>\n<path fill=\"none\" stroke=\"black\" d=\"M2006.08,-277.62C2024.76,-288.72 2047.66,-304.12 2065,-321.5 2085.37,-341.92 2083.13,-352.86 2101,-375.5 2102.4,-377.28 2103.89,-379.08 2105.42,-380.86\"/>\n<polygon fill=\"black\" stroke=\"black\" points=\"2102.96,-383.36 2112.24,-388.49 2108.18,-378.7 2102.96,-383.36\"/>\n</g>\n<!-- 139475927994464tanh&#45;&gt;139475927994464 -->\n<g id=\"edge31\" class=\"edge\">\n<title>139475927994464tanh&#45;&gt;139475927994464</title>\n<path fill=\"none\" stroke=\"black\" d=\"M1842.21,-259.5C1849.73,-259.5 1858.43,-259.5 1867.67,-259.5\"/>\n<polygon fill=\"black\" stroke=\"black\" points=\"1867.89,-263 1877.89,-259.5 1867.89,-256 1867.89,-263\"/>\n</g>\n<!-- 139475927773344 -->\n<g id=\"node78\" class=\"node\">\n<title>139475927773344</title>\n<polygon fill=\"none\" stroke=\"black\" points=\"1880.5,-62.5 1880.5,-98.5 2062.5,-98.5 2062.5,-62.5 1880.5,-62.5\"/>\n<text text-anchor=\"middle\" x=\"1890.5\" y=\"-76.8\" font-family=\"Times,serif\" font-size=\"14.00\"> </text>\n<polyline fill=\"none\" stroke=\"black\" points=\"1900.5,-62.5 1900.5,-98.5 \"/>\n<text text-anchor=\"middle\" x=\"1940.5\" y=\"-76.8\" font-family=\"Times,serif\" font-size=\"14.00\">data 0.5708</text>\n<polyline fill=\"none\" stroke=\"black\" points=\"1980.5,-62.5 1980.5,-98.5 \"/>\n<text text-anchor=\"middle\" x=\"2021.5\" y=\"-76.8\" font-family=\"Times,serif\" font-size=\"14.00\">grad 0.0000</text>\n</g>\n<!-- 139475927773344&#45;&gt;139475928117456* -->\n<g id=\"edge147\" class=\"edge\">\n<title>139475927773344&#45;&gt;139475928117456*</title>\n<path fill=\"none\" stroke=\"black\" d=\"M2062.82,-80.5C2072.57,-80.5 2082.04,-80.5 2090.57,-80.5\"/>\n<polygon fill=\"black\" stroke=\"black\" points=\"2090.83,-84 2100.83,-80.5 2090.83,-77 2090.83,-84\"/>\n</g>\n<!-- 139475928002768 -->\n<g id=\"node79\" class=\"node\">\n<title>139475928002768</title>\n<polygon fill=\"none\" stroke=\"black\" points=\"1565,-935.5 1565,-971.5 1752,-971.5 1752,-935.5 1565,-935.5\"/>\n<text text-anchor=\"middle\" x=\"1575\" y=\"-949.8\" font-family=\"Times,serif\" font-size=\"14.00\"> </text>\n<polyline fill=\"none\" stroke=\"black\" points=\"1585,-935.5 1585,-971.5 \"/>\n<text text-anchor=\"middle\" x=\"1627.5\" y=\"-949.8\" font-family=\"Times,serif\" font-size=\"14.00\">data &#45;0.5736</text>\n<polyline fill=\"none\" stroke=\"black\" points=\"1670,-935.5 1670,-971.5 \"/>\n<text text-anchor=\"middle\" x=\"1711\" y=\"-949.8\" font-family=\"Times,serif\" font-size=\"14.00\">grad 0.0000</text>\n</g>\n<!-- 139475928002768&#45;&gt;139475928002960+ -->\n<g id=\"edge133\" class=\"edge\">\n<title>139475928002768&#45;&gt;139475928002960+</title>\n<path fill=\"none\" stroke=\"black\" d=\"M1725.56,-935.45C1734.51,-932.64 1743.53,-929.63 1752,-926.5 1762.49,-922.62 1773.71,-917.78 1783.68,-913.22\"/>\n<polygon fill=\"black\" stroke=\"black\" points=\"1785.2,-916.37 1792.79,-908.97 1782.25,-910.02 1785.2,-916.37\"/>\n</g>\n<!-- 139475928002768* -->\n<g id=\"node80\" class=\"node\">\n<title>139475928002768*</title>\n<ellipse fill=\"none\" stroke=\"black\" cx=\"1502\" cy=\"-953.5\" rx=\"27\" ry=\"18\"/>\n<text text-anchor=\"middle\" x=\"1502\" y=\"-949.8\" font-family=\"Times,serif\" font-size=\"14.00\">*</text>\n</g>\n<!-- 139475928002768*&#45;&gt;139475928002768 -->\n<g id=\"edge32\" class=\"edge\">\n<title>139475928002768*&#45;&gt;139475928002768</title>\n<path fill=\"none\" stroke=\"black\" d=\"M1529.21,-953.5C1536.73,-953.5 1545.43,-953.5 1554.67,-953.5\"/>\n<polygon fill=\"black\" stroke=\"black\" points=\"1554.89,-957 1564.89,-953.5 1554.89,-950 1554.89,-957\"/>\n</g>\n<!-- 139475928117456 -->\n<g id=\"node81\" class=\"node\">\n<title>139475928117456</title>\n<polygon fill=\"none\" stroke=\"black\" points=\"2191,-0.5 2191,-36.5 2378,-36.5 2378,-0.5 2191,-0.5\"/>\n<text text-anchor=\"middle\" x=\"2201\" y=\"-14.8\" font-family=\"Times,serif\" font-size=\"14.00\"> </text>\n<polyline fill=\"none\" stroke=\"black\" points=\"2211,-0.5 2211,-36.5 \"/>\n<text text-anchor=\"middle\" x=\"2253.5\" y=\"-14.8\" font-family=\"Times,serif\" font-size=\"14.00\">data &#45;0.2486</text>\n<polyline fill=\"none\" stroke=\"black\" points=\"2296,-0.5 2296,-36.5 \"/>\n<text text-anchor=\"middle\" x=\"2337\" y=\"-14.8\" font-family=\"Times,serif\" font-size=\"14.00\">grad 0.0000</text>\n</g>\n<!-- 139475928117696+ -->\n<g id=\"node93\" class=\"node\">\n<title>139475928117696+</title>\n<ellipse fill=\"none\" stroke=\"black\" cx=\"2441\" cy=\"-73.5\" rx=\"27\" ry=\"18\"/>\n<text text-anchor=\"middle\" x=\"2441\" y=\"-69.8\" font-family=\"Times,serif\" font-size=\"14.00\">+</text>\n</g>\n<!-- 139475928117456&#45;&gt;139475928117696+ -->\n<g id=\"edge163\" class=\"edge\">\n<title>139475928117456&#45;&gt;139475928117696+</title>\n<path fill=\"none\" stroke=\"black\" d=\"M2351.56,-36.55C2360.51,-39.36 2369.53,-42.37 2378,-45.5 2388.49,-49.38 2399.71,-54.22 2409.68,-58.78\"/>\n<polygon fill=\"black\" stroke=\"black\" points=\"2408.25,-61.98 2418.79,-63.03 2411.2,-55.63 2408.25,-61.98\"/>\n</g>\n<!-- 139475928117456*&#45;&gt;139475928117456 -->\n<g id=\"edge33\" class=\"edge\">\n<title>139475928117456*&#45;&gt;139475928117456</title>\n<path fill=\"none\" stroke=\"black\" d=\"M2147.97,-68.28C2159.95,-60.95 2175.97,-51.84 2191,-45.5 2195.7,-43.52 2200.59,-41.63 2205.56,-39.83\"/>\n<polygon fill=\"black\" stroke=\"black\" points=\"2206.88,-43.08 2215.18,-36.5 2204.59,-36.47 2206.88,-43.08\"/>\n</g>\n<!-- 139475927994608 -->\n<g id=\"node83\" class=\"node\">\n<title>139475927994608</title>\n<polygon fill=\"none\" stroke=\"black\" points=\"315.5,-517.5 315.5,-553.5 497.5,-553.5 497.5,-517.5 315.5,-517.5\"/>\n<text text-anchor=\"middle\" x=\"325.5\" y=\"-531.8\" font-family=\"Times,serif\" font-size=\"14.00\"> </text>\n<polyline fill=\"none\" stroke=\"black\" points=\"335.5,-517.5 335.5,-553.5 \"/>\n<text text-anchor=\"middle\" x=\"375.5\" y=\"-531.8\" font-family=\"Times,serif\" font-size=\"14.00\">data 2.0000</text>\n<polyline fill=\"none\" stroke=\"black\" points=\"415.5,-517.5 415.5,-553.5 \"/>\n<text text-anchor=\"middle\" x=\"456.5\" y=\"-531.8\" font-family=\"Times,serif\" font-size=\"14.00\">grad 0.0000</text>\n</g>\n<!-- 139475927994704* -->\n<g id=\"node87\" class=\"node\">\n<title>139475927994704*</title>\n<ellipse fill=\"none\" stroke=\"black\" cx=\"563\" cy=\"-508.5\" rx=\"27\" ry=\"18\"/>\n<text text-anchor=\"middle\" x=\"563\" y=\"-504.8\" font-family=\"Times,serif\" font-size=\"14.00\">*</text>\n</g>\n<!-- 139475927994608&#45;&gt;139475927994704* -->\n<g id=\"edge127\" class=\"edge\">\n<title>139475927994608&#45;&gt;139475927994704*</title>\n<path fill=\"none\" stroke=\"black\" d=\"M497.82,-519.72C508.07,-517.92 518.01,-516.19 526.88,-514.64\"/>\n<polygon fill=\"black\" stroke=\"black\" points=\"527.5,-518.08 536.75,-512.91 526.3,-511.19 527.5,-518.08\"/>\n</g>\n<!-- 139475928002816 -->\n<g id=\"node84\" class=\"node\">\n<title>139475928002816</title>\n<polygon fill=\"none\" stroke=\"black\" points=\"1254.5,-990.5 1254.5,-1026.5 1436.5,-1026.5 1436.5,-990.5 1254.5,-990.5\"/>\n<text text-anchor=\"middle\" x=\"1264.5\" y=\"-1004.8\" font-family=\"Times,serif\" font-size=\"14.00\"> </text>\n<polyline fill=\"none\" stroke=\"black\" points=\"1274.5,-990.5 1274.5,-1026.5 \"/>\n<text text-anchor=\"middle\" x=\"1314.5\" y=\"-1004.8\" font-family=\"Times,serif\" font-size=\"14.00\">data 3.0000</text>\n<polyline fill=\"none\" stroke=\"black\" points=\"1354.5,-990.5 1354.5,-1026.5 \"/>\n<text text-anchor=\"middle\" x=\"1395.5\" y=\"-1004.8\" font-family=\"Times,serif\" font-size=\"14.00\">grad 0.0000</text>\n</g>\n<!-- 139475928002816&#45;&gt;139475928002768* -->\n<g id=\"edge201\" class=\"edge\">\n<title>139475928002816&#45;&gt;139475928002768*</title>\n<path fill=\"none\" stroke=\"black\" d=\"M1412.56,-990.45C1421.51,-987.64 1430.53,-984.63 1439,-981.5 1449.49,-977.62 1460.71,-972.78 1470.68,-968.22\"/>\n<polygon fill=\"black\" stroke=\"black\" points=\"1472.2,-971.37 1479.79,-963.97 1469.25,-965.02 1472.2,-971.37\"/>\n</g>\n<!-- 139475927773392 -->\n<g id=\"node85\" class=\"node\">\n<title>139475927773392</title>\n<polygon fill=\"none\" stroke=\"black\" points=\"4069,-671.5 4069,-707.5 4256,-707.5 4256,-671.5 4069,-671.5\"/>\n<text text-anchor=\"middle\" x=\"4079\" y=\"-685.8\" font-family=\"Times,serif\" font-size=\"14.00\"> </text>\n<polyline fill=\"none\" stroke=\"black\" points=\"4089,-671.5 4089,-707.5 \"/>\n<text text-anchor=\"middle\" x=\"4131.5\" y=\"-685.8\" font-family=\"Times,serif\" font-size=\"14.00\">data &#45;0.1868</text>\n<polyline fill=\"none\" stroke=\"black\" points=\"4174,-671.5 4174,-707.5 \"/>\n<text text-anchor=\"middle\" x=\"4215\" y=\"-685.8\" font-family=\"Times,serif\" font-size=\"14.00\">grad 0.0000</text>\n</g>\n<!-- 139475927773392&#45;&gt;139475928120240* -->\n<g id=\"edge176\" class=\"edge\">\n<title>139475927773392&#45;&gt;139475928120240*</title>\n<path fill=\"none\" stroke=\"black\" d=\"M4256.05,-689.5C4265.06,-689.5 4273.79,-689.5 4281.7,-689.5\"/>\n<polygon fill=\"black\" stroke=\"black\" points=\"4281.95,-693 4291.95,-689.5 4281.95,-686 4281.95,-693\"/>\n</g>\n<!-- 139475927994704 -->\n<g id=\"node86\" class=\"node\">\n<title>139475927994704</title>\n<polygon fill=\"none\" stroke=\"black\" points=\"626,-490.5 626,-526.5 813,-526.5 813,-490.5 626,-490.5\"/>\n<text text-anchor=\"middle\" x=\"636\" y=\"-504.8\" font-family=\"Times,serif\" font-size=\"14.00\"> </text>\n<polyline fill=\"none\" stroke=\"black\" points=\"646,-490.5 646,-526.5 \"/>\n<text text-anchor=\"middle\" x=\"688.5\" y=\"-504.8\" font-family=\"Times,serif\" font-size=\"14.00\">data &#45;1.8535</text>\n<polyline fill=\"none\" stroke=\"black\" points=\"731,-490.5 731,-526.5 \"/>\n<text text-anchor=\"middle\" x=\"772\" y=\"-504.8\" font-family=\"Times,serif\" font-size=\"14.00\">grad 0.0000</text>\n</g>\n<!-- 139475927994944+ -->\n<g id=\"node97\" class=\"node\">\n<title>139475927994944+</title>\n<ellipse fill=\"none\" stroke=\"black\" cx=\"876\" cy=\"-453.5\" rx=\"27\" ry=\"18\"/>\n<text text-anchor=\"middle\" x=\"876\" y=\"-449.8\" font-family=\"Times,serif\" font-size=\"14.00\">+</text>\n</g>\n<!-- 139475927994704&#45;&gt;139475927994944+ -->\n<g id=\"edge137\" class=\"edge\">\n<title>139475927994704&#45;&gt;139475927994944+</title>\n<path fill=\"none\" stroke=\"black\" d=\"M786.56,-490.45C795.51,-487.64 804.53,-484.63 813,-481.5 823.49,-477.62 834.71,-472.78 844.68,-468.22\"/>\n<polygon fill=\"black\" stroke=\"black\" points=\"846.2,-471.37 853.79,-463.97 843.25,-465.02 846.2,-471.37\"/>\n</g>\n<!-- 139475927994704*&#45;&gt;139475927994704 -->\n<g id=\"edge34\" class=\"edge\">\n<title>139475927994704*&#45;&gt;139475927994704</title>\n<path fill=\"none\" stroke=\"black\" d=\"M590.21,-508.5C597.73,-508.5 606.43,-508.5 615.67,-508.5\"/>\n<polygon fill=\"black\" stroke=\"black\" points=\"615.89,-512 625.89,-508.5 615.89,-505 615.89,-512\"/>\n</g>\n<!-- 139475927773536 -->\n<g id=\"node88\" class=\"node\">\n<title>139475927773536</title>\n<polygon fill=\"none\" stroke=\"black\" points=\"4069,-396.5 4069,-432.5 4256,-432.5 4256,-396.5 4069,-396.5\"/>\n<text text-anchor=\"middle\" x=\"4079\" y=\"-410.8\" font-family=\"Times,serif\" font-size=\"14.00\"> </text>\n<polyline fill=\"none\" stroke=\"black\" points=\"4089,-396.5 4089,-432.5 \"/>\n<text text-anchor=\"middle\" x=\"4131.5\" y=\"-410.8\" font-family=\"Times,serif\" font-size=\"14.00\">data &#45;0.9613</text>\n<polyline fill=\"none\" stroke=\"black\" points=\"4174,-396.5 4174,-432.5 \"/>\n<text text-anchor=\"middle\" x=\"4215\" y=\"-410.8\" font-family=\"Times,serif\" font-size=\"14.00\">grad 0.0000</text>\n</g>\n<!-- 139475928120624* -->\n<g id=\"node213\" class=\"node\">\n<title>139475928120624*</title>\n<ellipse fill=\"none\" stroke=\"black\" cx=\"4319\" cy=\"-414.5\" rx=\"27\" ry=\"18\"/>\n<text text-anchor=\"middle\" x=\"4319\" y=\"-410.8\" font-family=\"Times,serif\" font-size=\"14.00\">*</text>\n</g>\n<!-- 139475927773536&#45;&gt;139475928120624* -->\n<g id=\"edge130\" class=\"edge\">\n<title>139475927773536&#45;&gt;139475928120624*</title>\n<path fill=\"none\" stroke=\"black\" d=\"M4256.05,-414.5C4265.06,-414.5 4273.79,-414.5 4281.7,-414.5\"/>\n<polygon fill=\"black\" stroke=\"black\" points=\"4281.95,-418 4291.95,-414.5 4281.95,-411 4281.95,-418\"/>\n</g>\n<!-- 139475928002960 -->\n<g id=\"node89\" class=\"node\">\n<title>139475928002960</title>\n<polygon fill=\"none\" stroke=\"black\" points=\"1878,-880.5 1878,-916.5 2065,-916.5 2065,-880.5 1878,-880.5\"/>\n<text text-anchor=\"middle\" x=\"1888\" y=\"-894.8\" font-family=\"Times,serif\" font-size=\"14.00\"> </text>\n<polyline fill=\"none\" stroke=\"black\" points=\"1898,-880.5 1898,-916.5 \"/>\n<text text-anchor=\"middle\" x=\"1940.5\" y=\"-894.8\" font-family=\"Times,serif\" font-size=\"14.00\">data &#45;0.2557</text>\n<polyline fill=\"none\" stroke=\"black\" points=\"1983,-880.5 1983,-916.5 \"/>\n<text text-anchor=\"middle\" x=\"2024\" y=\"-894.8\" font-family=\"Times,serif\" font-size=\"14.00\">grad 0.0000</text>\n</g>\n<!-- 139475928003440+ -->\n<g id=\"node110\" class=\"node\">\n<title>139475928003440+</title>\n<ellipse fill=\"none\" stroke=\"black\" cx=\"2128\" cy=\"-843.5\" rx=\"27\" ry=\"18\"/>\n<text text-anchor=\"middle\" x=\"2128\" y=\"-839.8\" font-family=\"Times,serif\" font-size=\"14.00\">+</text>\n</g>\n<!-- 139475928002960&#45;&gt;139475928003440+ -->\n<g id=\"edge203\" class=\"edge\">\n<title>139475928002960&#45;&gt;139475928003440+</title>\n<path fill=\"none\" stroke=\"black\" d=\"M2038.56,-880.45C2047.51,-877.64 2056.53,-874.63 2065,-871.5 2075.49,-867.62 2086.71,-862.78 2096.68,-858.22\"/>\n<polygon fill=\"black\" stroke=\"black\" points=\"2098.2,-861.37 2105.79,-853.97 2095.25,-855.02 2098.2,-861.37\"/>\n</g>\n<!-- 139475928002960+&#45;&gt;139475928002960 -->\n<g id=\"edge35\" class=\"edge\">\n<title>139475928002960+&#45;&gt;139475928002960</title>\n<path fill=\"none\" stroke=\"black\" d=\"M1842.21,-898.5C1849.73,-898.5 1858.43,-898.5 1867.67,-898.5\"/>\n<polygon fill=\"black\" stroke=\"black\" points=\"1867.89,-902 1877.89,-898.5 1867.89,-895 1867.89,-902\"/>\n</g>\n<!-- 139475928117648 -->\n<g id=\"node91\" class=\"node\">\n<title>139475928117648</title>\n<polygon fill=\"none\" stroke=\"black\" points=\"2193.5,-55.5 2193.5,-91.5 2375.5,-91.5 2375.5,-55.5 2193.5,-55.5\"/>\n<text text-anchor=\"middle\" x=\"2203.5\" y=\"-69.8\" font-family=\"Times,serif\" font-size=\"14.00\"> </text>\n<polyline fill=\"none\" stroke=\"black\" points=\"2213.5,-55.5 2213.5,-91.5 \"/>\n<text text-anchor=\"middle\" x=\"2253.5\" y=\"-69.8\" font-family=\"Times,serif\" font-size=\"14.00\">data 0.0000</text>\n<polyline fill=\"none\" stroke=\"black\" points=\"2293.5,-55.5 2293.5,-91.5 \"/>\n<text text-anchor=\"middle\" x=\"2334.5\" y=\"-69.8\" font-family=\"Times,serif\" font-size=\"14.00\">grad 0.0000</text>\n</g>\n<!-- 139475928117648&#45;&gt;139475928117696+ -->\n<g id=\"edge106\" class=\"edge\">\n<title>139475928117648&#45;&gt;139475928117696+</title>\n<path fill=\"none\" stroke=\"black\" d=\"M2375.82,-73.5C2385.57,-73.5 2395.04,-73.5 2403.57,-73.5\"/>\n<polygon fill=\"black\" stroke=\"black\" points=\"2403.83,-77 2413.83,-73.5 2403.83,-70 2403.83,-77\"/>\n</g>\n<!-- 139475928117696 -->\n<g id=\"node92\" class=\"node\">\n<title>139475928117696</title>\n<polygon fill=\"none\" stroke=\"black\" points=\"2504,-83.5 2504,-119.5 2691,-119.5 2691,-83.5 2504,-83.5\"/>\n<text text-anchor=\"middle\" x=\"2514\" y=\"-97.8\" font-family=\"Times,serif\" font-size=\"14.00\"> </text>\n<polyline fill=\"none\" stroke=\"black\" points=\"2524,-83.5 2524,-119.5 \"/>\n<text text-anchor=\"middle\" x=\"2566.5\" y=\"-97.8\" font-family=\"Times,serif\" font-size=\"14.00\">data &#45;0.2486</text>\n<polyline fill=\"none\" stroke=\"black\" points=\"2609,-83.5 2609,-119.5 \"/>\n<text text-anchor=\"middle\" x=\"2650\" y=\"-97.8\" font-family=\"Times,serif\" font-size=\"14.00\">grad 0.0000</text>\n</g>\n<!-- 139475928118080+ -->\n<g id=\"node108\" class=\"node\">\n<title>139475928118080+</title>\n<ellipse fill=\"none\" stroke=\"black\" cx=\"2754\" cy=\"-238.5\" rx=\"27\" ry=\"18\"/>\n<text text-anchor=\"middle\" x=\"2754\" y=\"-234.8\" font-family=\"Times,serif\" font-size=\"14.00\">+</text>\n</g>\n<!-- 139475928117696&#45;&gt;139475928118080+ -->\n<g id=\"edge136\" class=\"edge\">\n<title>139475928117696&#45;&gt;139475928118080+</title>\n<path fill=\"none\" stroke=\"black\" d=\"M2636.29,-119.64C2653.99,-129.18 2674.71,-141.92 2691,-156.5 2709.57,-173.12 2726.33,-196.01 2737.73,-213.38\"/>\n<polygon fill=\"black\" stroke=\"black\" points=\"2734.85,-215.37 2743.18,-221.9 2740.74,-211.59 2734.85,-215.37\"/>\n</g>\n<!-- 139475928117696+&#45;&gt;139475928117696 -->\n<g id=\"edge36\" class=\"edge\">\n<title>139475928117696+&#45;&gt;139475928117696</title>\n<path fill=\"none\" stroke=\"black\" d=\"M2467.17,-78.06C2474.99,-79.48 2484.15,-81.14 2493.91,-82.91\"/>\n<polygon fill=\"black\" stroke=\"black\" points=\"2493.39,-86.37 2503.86,-84.71 2494.64,-79.48 2493.39,-86.37\"/>\n</g>\n<!-- 139475927994848 -->\n<g id=\"node94\" class=\"node\">\n<title>139475927994848</title>\n<polygon fill=\"none\" stroke=\"black\" points=\"628.5,-435.5 628.5,-471.5 810.5,-471.5 810.5,-435.5 628.5,-435.5\"/>\n<text text-anchor=\"middle\" x=\"638.5\" y=\"-449.8\" font-family=\"Times,serif\" font-size=\"14.00\"> </text>\n<polyline fill=\"none\" stroke=\"black\" points=\"648.5,-435.5 648.5,-471.5 \"/>\n<text text-anchor=\"middle\" x=\"688.5\" y=\"-449.8\" font-family=\"Times,serif\" font-size=\"14.00\">data 0.0000</text>\n<polyline fill=\"none\" stroke=\"black\" points=\"728.5,-435.5 728.5,-471.5 \"/>\n<text text-anchor=\"middle\" x=\"769.5\" y=\"-449.8\" font-family=\"Times,serif\" font-size=\"14.00\">grad 0.0000</text>\n</g>\n<!-- 139475927994848&#45;&gt;139475927994944+ -->\n<g id=\"edge177\" class=\"edge\">\n<title>139475927994848&#45;&gt;139475927994944+</title>\n<path fill=\"none\" stroke=\"black\" d=\"M810.82,-453.5C820.57,-453.5 830.04,-453.5 838.57,-453.5\"/>\n<polygon fill=\"black\" stroke=\"black\" points=\"838.83,-457 848.83,-453.5 838.83,-450 838.83,-457\"/>\n</g>\n<!-- 139475927765568 -->\n<g id=\"node95\" class=\"node\">\n<title>139475927765568</title>\n<polygon fill=\"none\" stroke=\"black\" points=\"2193.5,-770.5 2193.5,-806.5 2375.5,-806.5 2375.5,-770.5 2193.5,-770.5\"/>\n<text text-anchor=\"middle\" x=\"2203.5\" y=\"-784.8\" font-family=\"Times,serif\" font-size=\"14.00\"> </text>\n<polyline fill=\"none\" stroke=\"black\" points=\"2213.5,-770.5 2213.5,-806.5 \"/>\n<text text-anchor=\"middle\" x=\"2253.5\" y=\"-784.8\" font-family=\"Times,serif\" font-size=\"14.00\">data 0.5280</text>\n<polyline fill=\"none\" stroke=\"black\" points=\"2293.5,-770.5 2293.5,-806.5 \"/>\n<text text-anchor=\"middle\" x=\"2334.5\" y=\"-784.8\" font-family=\"Times,serif\" font-size=\"14.00\">grad 0.0000</text>\n</g>\n<!-- 139475928003824+ -->\n<g id=\"node130\" class=\"node\">\n<title>139475928003824+</title>\n<ellipse fill=\"none\" stroke=\"black\" cx=\"2441\" cy=\"-843.5\" rx=\"27\" ry=\"18\"/>\n<text text-anchor=\"middle\" x=\"2441\" y=\"-839.8\" font-family=\"Times,serif\" font-size=\"14.00\">+</text>\n</g>\n<!-- 139475927765568&#45;&gt;139475928003824+ -->\n<g id=\"edge101\" class=\"edge\">\n<title>139475927765568&#45;&gt;139475928003824+</title>\n<path fill=\"none\" stroke=\"black\" d=\"M2349.02,-806.65C2358.79,-809.76 2368.71,-813.08 2378,-816.5 2388.25,-820.27 2399.23,-824.86 2409.07,-829.18\"/>\n<polygon fill=\"black\" stroke=\"black\" points=\"2407.89,-832.49 2418.45,-833.37 2410.74,-826.1 2407.89,-832.49\"/>\n</g>\n<!-- 139475927994944 -->\n<g id=\"node96\" class=\"node\">\n<title>139475927994944</title>\n<polygon fill=\"none\" stroke=\"black\" points=\"939,-435.5 939,-471.5 1126,-471.5 1126,-435.5 939,-435.5\"/>\n<text text-anchor=\"middle\" x=\"949\" y=\"-449.8\" font-family=\"Times,serif\" font-size=\"14.00\"> </text>\n<polyline fill=\"none\" stroke=\"black\" points=\"959,-435.5 959,-471.5 \"/>\n<text text-anchor=\"middle\" x=\"1001.5\" y=\"-449.8\" font-family=\"Times,serif\" font-size=\"14.00\">data &#45;1.8535</text>\n<polyline fill=\"none\" stroke=\"black\" points=\"1044,-435.5 1044,-471.5 \"/>\n<text text-anchor=\"middle\" x=\"1085\" y=\"-449.8\" font-family=\"Times,serif\" font-size=\"14.00\">grad 0.0000</text>\n</g>\n<!-- 139475927995280+ -->\n<g id=\"node112\" class=\"node\">\n<title>139475927995280+</title>\n<ellipse fill=\"none\" stroke=\"black\" cx=\"1189\" cy=\"-398.5\" rx=\"27\" ry=\"18\"/>\n<text text-anchor=\"middle\" x=\"1189\" y=\"-394.8\" font-family=\"Times,serif\" font-size=\"14.00\">+</text>\n</g>\n<!-- 139475927994944&#45;&gt;139475927995280+ -->\n<g id=\"edge159\" class=\"edge\">\n<title>139475927994944&#45;&gt;139475927995280+</title>\n<path fill=\"none\" stroke=\"black\" d=\"M1099.56,-435.45C1108.51,-432.64 1117.53,-429.63 1126,-426.5 1136.49,-422.62 1147.71,-417.78 1157.68,-413.22\"/>\n<polygon fill=\"black\" stroke=\"black\" points=\"1159.2,-416.37 1166.79,-408.97 1156.25,-410.02 1159.2,-416.37\"/>\n</g>\n<!-- 139475927994944+&#45;&gt;139475927994944 -->\n<g id=\"edge37\" class=\"edge\">\n<title>139475927994944+&#45;&gt;139475927994944</title>\n<path fill=\"none\" stroke=\"black\" d=\"M903.21,-453.5C910.73,-453.5 919.43,-453.5 928.67,-453.5\"/>\n<polygon fill=\"black\" stroke=\"black\" points=\"928.89,-457 938.89,-453.5 928.89,-450 928.89,-457\"/>\n</g>\n<!-- 139475928117888 -->\n<g id=\"node98\" class=\"node\">\n<title>139475928117888</title>\n<polygon fill=\"none\" stroke=\"black\" points=\"2504,-220.5 2504,-256.5 2691,-256.5 2691,-220.5 2504,-220.5\"/>\n<text text-anchor=\"middle\" x=\"2514\" y=\"-234.8\" font-family=\"Times,serif\" font-size=\"14.00\"> </text>\n<polyline fill=\"none\" stroke=\"black\" points=\"2524,-220.5 2524,-256.5 \"/>\n<text text-anchor=\"middle\" x=\"2566.5\" y=\"-234.8\" font-family=\"Times,serif\" font-size=\"14.00\">data &#45;0.0576</text>\n<polyline fill=\"none\" stroke=\"black\" points=\"2609,-220.5 2609,-256.5 \"/>\n<text text-anchor=\"middle\" x=\"2650\" y=\"-234.8\" font-family=\"Times,serif\" font-size=\"14.00\">grad 0.0000</text>\n</g>\n<!-- 139475928117888&#45;&gt;139475928118080+ -->\n<g id=\"edge86\" class=\"edge\">\n<title>139475928117888&#45;&gt;139475928118080+</title>\n<path fill=\"none\" stroke=\"black\" d=\"M2691.05,-238.5C2700.06,-238.5 2708.79,-238.5 2716.7,-238.5\"/>\n<polygon fill=\"black\" stroke=\"black\" points=\"2716.95,-242 2726.95,-238.5 2716.95,-235 2716.95,-242\"/>\n</g>\n<!-- 139475928117888* -->\n<g id=\"node99\" class=\"node\">\n<title>139475928117888*</title>\n<ellipse fill=\"none\" stroke=\"black\" cx=\"2441\" cy=\"-238.5\" rx=\"27\" ry=\"18\"/>\n<text text-anchor=\"middle\" x=\"2441\" y=\"-234.8\" font-family=\"Times,serif\" font-size=\"14.00\">*</text>\n</g>\n<!-- 139475928117888*&#45;&gt;139475928117888 -->\n<g id=\"edge38\" class=\"edge\">\n<title>139475928117888*&#45;&gt;139475928117888</title>\n<path fill=\"none\" stroke=\"black\" d=\"M2468.21,-238.5C2475.73,-238.5 2484.43,-238.5 2493.67,-238.5\"/>\n<polygon fill=\"black\" stroke=\"black\" points=\"2493.89,-242 2503.89,-238.5 2493.89,-235 2493.89,-242\"/>\n</g>\n<!-- 139479133467264 -->\n<g id=\"node100\" class=\"node\">\n<title>139479133467264</title>\n<polygon fill=\"none\" stroke=\"black\" points=\"3445.5,-531.5 3445.5,-567.5 3627.5,-567.5 3627.5,-531.5 3445.5,-531.5\"/>\n<text text-anchor=\"middle\" x=\"3455.5\" y=\"-545.8\" font-family=\"Times,serif\" font-size=\"14.00\"> </text>\n<polyline fill=\"none\" stroke=\"black\" points=\"3465.5,-531.5 3465.5,-567.5 \"/>\n<text text-anchor=\"middle\" x=\"3505.5\" y=\"-545.8\" font-family=\"Times,serif\" font-size=\"14.00\">data 0.0597</text>\n<polyline fill=\"none\" stroke=\"black\" points=\"3545.5,-531.5 3545.5,-567.5 \"/>\n<text text-anchor=\"middle\" x=\"3586.5\" y=\"-545.8\" font-family=\"Times,serif\" font-size=\"14.00\">grad 0.0000</text>\n</g>\n<!-- 139479133467264&#45;&gt;139475928115152+ -->\n<g id=\"edge111\" class=\"edge\">\n<title>139479133467264&#45;&gt;139475928115152+</title>\n<path fill=\"none\" stroke=\"black\" d=\"M3627.82,-534.89C3637.87,-533.26 3647.61,-531.68 3656.34,-530.27\"/>\n<polygon fill=\"black\" stroke=\"black\" points=\"3657.13,-533.69 3666.45,-528.64 3656.01,-526.78 3657.13,-533.69\"/>\n</g>\n<!-- 139479133467264+&#45;&gt;139479133467264 -->\n<g id=\"edge39\" class=\"edge\">\n<title>139479133467264+&#45;&gt;139479133467264</title>\n<path fill=\"none\" stroke=\"black\" d=\"M3407.21,-549.5C3415.34,-549.5 3424.85,-549.5 3434.94,-549.5\"/>\n<polygon fill=\"black\" stroke=\"black\" points=\"3435.19,-553 3445.19,-549.5 3435.19,-546 3435.19,-553\"/>\n</g>\n<!-- 139475927995088 -->\n<g id=\"node102\" class=\"node\">\n<title>139475927995088</title>\n<polygon fill=\"none\" stroke=\"black\" points=\"628.5,-380.5 628.5,-416.5 810.5,-416.5 810.5,-380.5 628.5,-380.5\"/>\n<text text-anchor=\"middle\" x=\"638.5\" y=\"-394.8\" font-family=\"Times,serif\" font-size=\"14.00\"> </text>\n<polyline fill=\"none\" stroke=\"black\" points=\"648.5,-380.5 648.5,-416.5 \"/>\n<text text-anchor=\"middle\" x=\"688.5\" y=\"-394.8\" font-family=\"Times,serif\" font-size=\"14.00\">data 3.0000</text>\n<polyline fill=\"none\" stroke=\"black\" points=\"728.5,-380.5 728.5,-416.5 \"/>\n<text text-anchor=\"middle\" x=\"769.5\" y=\"-394.8\" font-family=\"Times,serif\" font-size=\"14.00\">grad 0.0000</text>\n</g>\n<!-- 139475927995376* -->\n<g id=\"node117\" class=\"node\">\n<title>139475927995376*</title>\n<ellipse fill=\"none\" stroke=\"black\" cx=\"876\" cy=\"-398.5\" rx=\"27\" ry=\"18\"/>\n<text text-anchor=\"middle\" x=\"876\" y=\"-394.8\" font-family=\"Times,serif\" font-size=\"14.00\">*</text>\n</g>\n<!-- 139475927995088&#45;&gt;139475927995376* -->\n<g id=\"edge85\" class=\"edge\">\n<title>139475927995088&#45;&gt;139475927995376*</title>\n<path fill=\"none\" stroke=\"black\" d=\"M810.82,-398.5C820.57,-398.5 830.04,-398.5 838.57,-398.5\"/>\n<polygon fill=\"black\" stroke=\"black\" points=\"838.83,-402 848.83,-398.5 838.83,-395 838.83,-402\"/>\n</g>\n<!-- 139475927773920 -->\n<g id=\"node103\" class=\"node\">\n<title>139475927773920</title>\n<polygon fill=\"none\" stroke=\"black\" points=\"1565,-383.5 1565,-419.5 1752,-419.5 1752,-383.5 1565,-383.5\"/>\n<text text-anchor=\"middle\" x=\"1575\" y=\"-397.8\" font-family=\"Times,serif\" font-size=\"14.00\"> </text>\n<polyline fill=\"none\" stroke=\"black\" points=\"1585,-383.5 1585,-419.5 \"/>\n<text text-anchor=\"middle\" x=\"1627.5\" y=\"-397.8\" font-family=\"Times,serif\" font-size=\"14.00\">data &#45;0.4423</text>\n<polyline fill=\"none\" stroke=\"black\" points=\"1670,-383.5 1670,-419.5 \"/>\n<text text-anchor=\"middle\" x=\"1711\" y=\"-397.8\" font-family=\"Times,serif\" font-size=\"14.00\">grad 0.0000</text>\n</g>\n<!-- 139475927996336+ -->\n<g id=\"node161\" class=\"node\">\n<title>139475927996336+</title>\n<ellipse fill=\"none\" stroke=\"black\" cx=\"1815\" cy=\"-348.5\" rx=\"27\" ry=\"18\"/>\n<text text-anchor=\"middle\" x=\"1815\" y=\"-344.8\" font-family=\"Times,serif\" font-size=\"14.00\">+</text>\n</g>\n<!-- 139475927773920&#45;&gt;139475927996336+ -->\n<g id=\"edge145\" class=\"edge\">\n<title>139475927773920&#45;&gt;139475927996336+</title>\n<path fill=\"none\" stroke=\"black\" d=\"M1724.99,-383.39C1734.11,-380.57 1743.33,-377.57 1752,-374.5 1762.15,-370.9 1773.03,-366.52 1782.81,-362.39\"/>\n<polygon fill=\"black\" stroke=\"black\" points=\"1784.34,-365.54 1792.14,-358.38 1781.57,-359.11 1784.34,-365.54\"/>\n</g>\n<!-- 139475928003296 -->\n<g id=\"node104\" class=\"node\">\n<title>139475928003296</title>\n<polygon fill=\"none\" stroke=\"black\" points=\"2817,-440.5 2817,-476.5 3004,-476.5 3004,-440.5 2817,-440.5\"/>\n<text text-anchor=\"middle\" x=\"2827\" y=\"-454.8\" font-family=\"Times,serif\" font-size=\"14.00\"> </text>\n<polyline fill=\"none\" stroke=\"black\" points=\"2837,-440.5 2837,-476.5 \"/>\n<text text-anchor=\"middle\" x=\"2879.5\" y=\"-454.8\" font-family=\"Times,serif\" font-size=\"14.00\">data &#45;0.2742</text>\n<polyline fill=\"none\" stroke=\"black\" points=\"2922,-440.5 2922,-476.5 \"/>\n<text text-anchor=\"middle\" x=\"2963\" y=\"-454.8\" font-family=\"Times,serif\" font-size=\"14.00\">grad 0.0000</text>\n</g>\n<!-- 139475928005168+ -->\n<g id=\"node191\" class=\"node\">\n<title>139475928005168+</title>\n<ellipse fill=\"none\" stroke=\"black\" cx=\"3067\" cy=\"-513.5\" rx=\"27\" ry=\"18\"/>\n<text text-anchor=\"middle\" x=\"3067\" y=\"-509.8\" font-family=\"Times,serif\" font-size=\"14.00\">+</text>\n</g>\n<!-- 139475928003296&#45;&gt;139475928005168+ -->\n<g id=\"edge167\" class=\"edge\">\n<title>139475928003296&#45;&gt;139475928005168+</title>\n<path fill=\"none\" stroke=\"black\" d=\"M2975.02,-476.65C2984.79,-479.76 2994.71,-483.08 3004,-486.5 3014.25,-490.27 3025.23,-494.86 3035.07,-499.18\"/>\n<polygon fill=\"black\" stroke=\"black\" points=\"3033.89,-502.49 3044.45,-503.37 3036.74,-496.1 3033.89,-502.49\"/>\n</g>\n<!-- 139475928003296+ -->\n<g id=\"node105\" class=\"node\">\n<title>139475928003296+</title>\n<ellipse fill=\"none\" stroke=\"black\" cx=\"2754\" cy=\"-458.5\" rx=\"27\" ry=\"18\"/>\n<text text-anchor=\"middle\" x=\"2754\" y=\"-454.8\" font-family=\"Times,serif\" font-size=\"14.00\">+</text>\n</g>\n<!-- 139475928003296+&#45;&gt;139475928003296 -->\n<g id=\"edge40\" class=\"edge\">\n<title>139475928003296+&#45;&gt;139475928003296</title>\n<path fill=\"none\" stroke=\"black\" d=\"M2781.21,-458.5C2788.73,-458.5 2797.43,-458.5 2806.67,-458.5\"/>\n<polygon fill=\"black\" stroke=\"black\" points=\"2806.89,-462 2816.89,-458.5 2806.89,-455 2806.89,-462\"/>\n</g>\n<!-- 139475928003392 -->\n<g id=\"node106\" class=\"node\">\n<title>139475928003392</title>\n<polygon fill=\"none\" stroke=\"black\" points=\"1565,-770.5 1565,-806.5 1752,-806.5 1752,-770.5 1565,-770.5\"/>\n<text text-anchor=\"middle\" x=\"1575\" y=\"-784.8\" font-family=\"Times,serif\" font-size=\"14.00\"> </text>\n<polyline fill=\"none\" stroke=\"black\" points=\"1585,-770.5 1585,-806.5 \"/>\n<text text-anchor=\"middle\" x=\"1627.5\" y=\"-784.8\" font-family=\"Times,serif\" font-size=\"14.00\">data &#45;1.0000</text>\n<polyline fill=\"none\" stroke=\"black\" points=\"1670,-770.5 1670,-806.5 \"/>\n<text text-anchor=\"middle\" x=\"1711\" y=\"-784.8\" font-family=\"Times,serif\" font-size=\"14.00\">grad 0.0000</text>\n</g>\n<!-- 139475928003488* -->\n<g id=\"node114\" class=\"node\">\n<title>139475928003488*</title>\n<ellipse fill=\"none\" stroke=\"black\" cx=\"1815\" cy=\"-843.5\" rx=\"27\" ry=\"18\"/>\n<text text-anchor=\"middle\" x=\"1815\" y=\"-839.8\" font-family=\"Times,serif\" font-size=\"14.00\">*</text>\n</g>\n<!-- 139475928003392&#45;&gt;139475928003488* -->\n<g id=\"edge235\" class=\"edge\">\n<title>139475928003392&#45;&gt;139475928003488*</title>\n<path fill=\"none\" stroke=\"black\" d=\"M1723.02,-806.65C1732.79,-809.76 1742.71,-813.08 1752,-816.5 1762.25,-820.27 1773.23,-824.86 1783.07,-829.18\"/>\n<polygon fill=\"black\" stroke=\"black\" points=\"1781.89,-832.49 1792.45,-833.37 1784.74,-826.1 1781.89,-832.49\"/>\n</g>\n<!-- 139475928118080 -->\n<g id=\"node107\" class=\"node\">\n<title>139475928118080</title>\n<polygon fill=\"none\" stroke=\"black\" points=\"2817,-220.5 2817,-256.5 3004,-256.5 3004,-220.5 2817,-220.5\"/>\n<text text-anchor=\"middle\" x=\"2827\" y=\"-234.8\" font-family=\"Times,serif\" font-size=\"14.00\"> </text>\n<polyline fill=\"none\" stroke=\"black\" points=\"2837,-220.5 2837,-256.5 \"/>\n<text text-anchor=\"middle\" x=\"2879.5\" y=\"-234.8\" font-family=\"Times,serif\" font-size=\"14.00\">data &#45;0.3062</text>\n<polyline fill=\"none\" stroke=\"black\" points=\"2922,-220.5 2922,-256.5 \"/>\n<text text-anchor=\"middle\" x=\"2963\" y=\"-234.8\" font-family=\"Times,serif\" font-size=\"14.00\">grad 0.0000</text>\n</g>\n<!-- 139475928118464+ -->\n<g id=\"node127\" class=\"node\">\n<title>139475928118464+</title>\n<ellipse fill=\"none\" stroke=\"black\" cx=\"3067\" cy=\"-348.5\" rx=\"27\" ry=\"18\"/>\n<text text-anchor=\"middle\" x=\"3067\" y=\"-344.8\" font-family=\"Times,serif\" font-size=\"14.00\">+</text>\n</g>\n<!-- 139475928118080&#45;&gt;139475928118464+ -->\n<g id=\"edge107\" class=\"edge\">\n<title>139475928118080&#45;&gt;139475928118464+</title>\n<path fill=\"none\" stroke=\"black\" d=\"M2986.64,-256.68C2992.75,-259.51 2998.63,-262.76 3004,-266.5 3024.7,-280.93 3041.44,-304.42 3052.29,-322.57\"/>\n<polygon fill=\"black\" stroke=\"black\" points=\"3049.4,-324.57 3057.41,-331.5 3055.47,-321.09 3049.4,-324.57\"/>\n</g>\n<!-- 139475928118080+&#45;&gt;139475928118080 -->\n<g id=\"edge41\" class=\"edge\">\n<title>139475928118080+&#45;&gt;139475928118080</title>\n<path fill=\"none\" stroke=\"black\" d=\"M2781.21,-238.5C2788.73,-238.5 2797.43,-238.5 2806.67,-238.5\"/>\n<polygon fill=\"black\" stroke=\"black\" points=\"2806.89,-242 2816.89,-238.5 2806.89,-235 2806.89,-242\"/>\n</g>\n<!-- 139475928003440 -->\n<g id=\"node109\" class=\"node\">\n<title>139475928003440</title>\n<polygon fill=\"none\" stroke=\"black\" points=\"2191,-825.5 2191,-861.5 2378,-861.5 2378,-825.5 2191,-825.5\"/>\n<text text-anchor=\"middle\" x=\"2201\" y=\"-839.8\" font-family=\"Times,serif\" font-size=\"14.00\"> </text>\n<polyline fill=\"none\" stroke=\"black\" points=\"2211,-825.5 2211,-861.5 \"/>\n<text text-anchor=\"middle\" x=\"2253.5\" y=\"-839.8\" font-family=\"Times,serif\" font-size=\"14.00\">data &#45;0.4421</text>\n<polyline fill=\"none\" stroke=\"black\" points=\"2296,-825.5 2296,-861.5 \"/>\n<text text-anchor=\"middle\" x=\"2337\" y=\"-839.8\" font-family=\"Times,serif\" font-size=\"14.00\">grad 0.0000</text>\n</g>\n<!-- 139475928003440&#45;&gt;139475928003824+ -->\n<g id=\"edge143\" class=\"edge\">\n<title>139475928003440&#45;&gt;139475928003824+</title>\n<path fill=\"none\" stroke=\"black\" d=\"M2378.05,-843.5C2387.06,-843.5 2395.79,-843.5 2403.7,-843.5\"/>\n<polygon fill=\"black\" stroke=\"black\" points=\"2403.95,-847 2413.95,-843.5 2403.95,-840 2403.95,-847\"/>\n</g>\n<!-- 139475928003440+&#45;&gt;139475928003440 -->\n<g id=\"edge42\" class=\"edge\">\n<title>139475928003440+&#45;&gt;139475928003440</title>\n<path fill=\"none\" stroke=\"black\" d=\"M2155.21,-843.5C2162.73,-843.5 2171.43,-843.5 2180.67,-843.5\"/>\n<polygon fill=\"black\" stroke=\"black\" points=\"2180.89,-847 2190.89,-843.5 2180.89,-840 2180.89,-847\"/>\n</g>\n<!-- 139475927995280 -->\n<g id=\"node111\" class=\"node\">\n<title>139475927995280</title>\n<polygon fill=\"none\" stroke=\"black\" points=\"1254.5,-380.5 1254.5,-416.5 1436.5,-416.5 1436.5,-380.5 1254.5,-380.5\"/>\n<text text-anchor=\"middle\" x=\"1264.5\" y=\"-394.8\" font-family=\"Times,serif\" font-size=\"14.00\"> </text>\n<polyline fill=\"none\" stroke=\"black\" points=\"1274.5,-380.5 1274.5,-416.5 \"/>\n<text text-anchor=\"middle\" x=\"1314.5\" y=\"-394.8\" font-family=\"Times,serif\" font-size=\"14.00\">data 0.1496</text>\n<polyline fill=\"none\" stroke=\"black\" points=\"1354.5,-380.5 1354.5,-416.5 \"/>\n<text text-anchor=\"middle\" x=\"1395.5\" y=\"-394.8\" font-family=\"Times,serif\" font-size=\"14.00\">grad 0.0000</text>\n</g>\n<!-- 139475927996048+ -->\n<g id=\"node146\" class=\"node\">\n<title>139475927996048+</title>\n<ellipse fill=\"none\" stroke=\"black\" cx=\"1502\" cy=\"-346.5\" rx=\"27\" ry=\"18\"/>\n<text text-anchor=\"middle\" x=\"1502\" y=\"-342.8\" font-family=\"Times,serif\" font-size=\"14.00\">+</text>\n</g>\n<!-- 139475927995280&#45;&gt;139475927996048+ -->\n<g id=\"edge109\" class=\"edge\">\n<title>139475927995280&#45;&gt;139475927996048+</title>\n<path fill=\"none\" stroke=\"black\" d=\"M1411.45,-380.43C1420.74,-377.59 1430.15,-374.57 1439,-371.5 1449.03,-368.02 1459.82,-363.84 1469.53,-359.89\"/>\n<polygon fill=\"black\" stroke=\"black\" points=\"1470.91,-363.11 1478.82,-356.07 1468.24,-356.64 1470.91,-363.11\"/>\n</g>\n<!-- 139475927995280+&#45;&gt;139475927995280 -->\n<g id=\"edge43\" class=\"edge\">\n<title>139475927995280+&#45;&gt;139475927995280</title>\n<path fill=\"none\" stroke=\"black\" d=\"M1216.21,-398.5C1224.34,-398.5 1233.85,-398.5 1243.94,-398.5\"/>\n<polygon fill=\"black\" stroke=\"black\" points=\"1244.19,-402 1254.19,-398.5 1244.19,-395 1244.19,-402\"/>\n</g>\n<!-- 139475928003488 -->\n<g id=\"node113\" class=\"node\">\n<title>139475928003488</title>\n<polygon fill=\"none\" stroke=\"black\" points=\"1878,-825.5 1878,-861.5 2065,-861.5 2065,-825.5 1878,-825.5\"/>\n<text text-anchor=\"middle\" x=\"1888\" y=\"-839.8\" font-family=\"Times,serif\" font-size=\"14.00\"> </text>\n<polyline fill=\"none\" stroke=\"black\" points=\"1898,-825.5 1898,-861.5 \"/>\n<text text-anchor=\"middle\" x=\"1940.5\" y=\"-839.8\" font-family=\"Times,serif\" font-size=\"14.00\">data &#45;0.1864</text>\n<polyline fill=\"none\" stroke=\"black\" points=\"1983,-825.5 1983,-861.5 \"/>\n<text text-anchor=\"middle\" x=\"2024\" y=\"-839.8\" font-family=\"Times,serif\" font-size=\"14.00\">grad 0.0000</text>\n</g>\n<!-- 139475928003488&#45;&gt;139475928003440+ -->\n<g id=\"edge119\" class=\"edge\">\n<title>139475928003488&#45;&gt;139475928003440+</title>\n<path fill=\"none\" stroke=\"black\" d=\"M2065.05,-843.5C2074.06,-843.5 2082.79,-843.5 2090.7,-843.5\"/>\n<polygon fill=\"black\" stroke=\"black\" points=\"2090.95,-847 2100.95,-843.5 2090.95,-840 2090.95,-847\"/>\n</g>\n<!-- 139475928003488*&#45;&gt;139475928003488 -->\n<g id=\"edge44\" class=\"edge\">\n<title>139475928003488*&#45;&gt;139475928003488</title>\n<path fill=\"none\" stroke=\"black\" d=\"M1842.21,-843.5C1849.73,-843.5 1858.43,-843.5 1867.67,-843.5\"/>\n<polygon fill=\"black\" stroke=\"black\" points=\"1867.89,-847 1877.89,-843.5 1867.89,-840 1867.89,-847\"/>\n</g>\n<!-- 139475927774112 -->\n<g id=\"node115\" class=\"node\">\n<title>139475927774112</title>\n<polygon fill=\"none\" stroke=\"black\" points=\"315.5,-37.5 315.5,-73.5 497.5,-73.5 497.5,-37.5 315.5,-37.5\"/>\n<text text-anchor=\"middle\" x=\"325.5\" y=\"-51.8\" font-family=\"Times,serif\" font-size=\"14.00\"> </text>\n<polyline fill=\"none\" stroke=\"black\" points=\"335.5,-37.5 335.5,-73.5 \"/>\n<text text-anchor=\"middle\" x=\"375.5\" y=\"-51.8\" font-family=\"Times,serif\" font-size=\"14.00\">data 0.2216</text>\n<polyline fill=\"none\" stroke=\"black\" points=\"415.5,-37.5 415.5,-73.5 \"/>\n<text text-anchor=\"middle\" x=\"456.5\" y=\"-51.8\" font-family=\"Times,serif\" font-size=\"14.00\">grad 0.0000</text>\n</g>\n<!-- 139475927774112&#45;&gt;139475927993888* -->\n<g id=\"edge220\" class=\"edge\">\n<title>139475927774112&#45;&gt;139475927993888*</title>\n<path fill=\"none\" stroke=\"black\" d=\"M471.02,-73.65C480.79,-76.76 490.71,-80.08 500,-83.5 510.25,-87.27 521.23,-91.86 531.07,-96.18\"/>\n<polygon fill=\"black\" stroke=\"black\" points=\"529.89,-99.49 540.45,-100.37 532.74,-93.1 529.89,-99.49\"/>\n</g>\n<!-- 139475927995376 -->\n<g id=\"node116\" class=\"node\">\n<title>139475927995376</title>\n<polygon fill=\"none\" stroke=\"black\" points=\"941.5,-380.5 941.5,-416.5 1123.5,-416.5 1123.5,-380.5 941.5,-380.5\"/>\n<text text-anchor=\"middle\" x=\"951.5\" y=\"-394.8\" font-family=\"Times,serif\" font-size=\"14.00\"> </text>\n<polyline fill=\"none\" stroke=\"black\" points=\"961.5,-380.5 961.5,-416.5 \"/>\n<text text-anchor=\"middle\" x=\"1001.5\" y=\"-394.8\" font-family=\"Times,serif\" font-size=\"14.00\">data 2.0031</text>\n<polyline fill=\"none\" stroke=\"black\" points=\"1041.5,-380.5 1041.5,-416.5 \"/>\n<text text-anchor=\"middle\" x=\"1082.5\" y=\"-394.8\" font-family=\"Times,serif\" font-size=\"14.00\">grad 0.0000</text>\n</g>\n<!-- 139475927995376&#45;&gt;139475927995280+ -->\n<g id=\"edge221\" class=\"edge\">\n<title>139475927995376&#45;&gt;139475927995280+</title>\n<path fill=\"none\" stroke=\"black\" d=\"M1123.82,-398.5C1133.57,-398.5 1143.04,-398.5 1151.57,-398.5\"/>\n<polygon fill=\"black\" stroke=\"black\" points=\"1151.83,-402 1161.83,-398.5 1151.83,-395 1151.83,-402\"/>\n</g>\n<!-- 139475927995376*&#45;&gt;139475927995376 -->\n<g id=\"edge45\" class=\"edge\">\n<title>139475927995376*&#45;&gt;139475927995376</title>\n<path fill=\"none\" stroke=\"black\" d=\"M903.21,-398.5C911.34,-398.5 920.85,-398.5 930.94,-398.5\"/>\n<polygon fill=\"black\" stroke=\"black\" points=\"931.19,-402 941.19,-398.5 931.19,-395 931.19,-402\"/>\n</g>\n<!-- 139475928118272 -->\n<g id=\"node118\" class=\"node\">\n<title>139475928118272</title>\n<polygon fill=\"none\" stroke=\"black\" points=\"2819.5,-330.5 2819.5,-366.5 3001.5,-366.5 3001.5,-330.5 2819.5,-330.5\"/>\n<text text-anchor=\"middle\" x=\"2829.5\" y=\"-344.8\" font-family=\"Times,serif\" font-size=\"14.00\"> </text>\n<polyline fill=\"none\" stroke=\"black\" points=\"2839.5,-330.5 2839.5,-366.5 \"/>\n<text text-anchor=\"middle\" x=\"2879.5\" y=\"-344.8\" font-family=\"Times,serif\" font-size=\"14.00\">data 0.0347</text>\n<polyline fill=\"none\" stroke=\"black\" points=\"2919.5,-330.5 2919.5,-366.5 \"/>\n<text text-anchor=\"middle\" x=\"2960.5\" y=\"-344.8\" font-family=\"Times,serif\" font-size=\"14.00\">grad 0.0000</text>\n</g>\n<!-- 139475928118272&#45;&gt;139475928118464+ -->\n<g id=\"edge205\" class=\"edge\">\n<title>139475928118272&#45;&gt;139475928118464+</title>\n<path fill=\"none\" stroke=\"black\" d=\"M3001.82,-348.5C3011.57,-348.5 3021.04,-348.5 3029.57,-348.5\"/>\n<polygon fill=\"black\" stroke=\"black\" points=\"3029.83,-352 3039.83,-348.5 3029.83,-345 3029.83,-352\"/>\n</g>\n<!-- 139475928118272* -->\n<g id=\"node119\" class=\"node\">\n<title>139475928118272*</title>\n<ellipse fill=\"none\" stroke=\"black\" cx=\"2754\" cy=\"-348.5\" rx=\"27\" ry=\"18\"/>\n<text text-anchor=\"middle\" x=\"2754\" y=\"-344.8\" font-family=\"Times,serif\" font-size=\"14.00\">*</text>\n</g>\n<!-- 139475928118272*&#45;&gt;139475928118272 -->\n<g id=\"edge46\" class=\"edge\">\n<title>139475928118272*&#45;&gt;139475928118272</title>\n<path fill=\"none\" stroke=\"black\" d=\"M2781.21,-348.5C2789.34,-348.5 2798.85,-348.5 2808.94,-348.5\"/>\n<polygon fill=\"black\" stroke=\"black\" points=\"2809.19,-352 2819.19,-348.5 2809.19,-345 2809.19,-352\"/>\n</g>\n<!-- 139475927995472 -->\n<g id=\"node120\" class=\"node\">\n<title>139475927995472</title>\n<polygon fill=\"none\" stroke=\"black\" points=\"939,-270.5 939,-306.5 1126,-306.5 1126,-270.5 939,-270.5\"/>\n<text text-anchor=\"middle\" x=\"949\" y=\"-284.8\" font-family=\"Times,serif\" font-size=\"14.00\"> </text>\n<polyline fill=\"none\" stroke=\"black\" points=\"959,-270.5 959,-306.5 \"/>\n<text text-anchor=\"middle\" x=\"1001.5\" y=\"-284.8\" font-family=\"Times,serif\" font-size=\"14.00\">data &#45;1.0000</text>\n<polyline fill=\"none\" stroke=\"black\" points=\"1044,-270.5 1044,-306.5 \"/>\n<text text-anchor=\"middle\" x=\"1085\" y=\"-284.8\" font-family=\"Times,serif\" font-size=\"14.00\">grad 0.0000</text>\n</g>\n<!-- 139475927995472&#45;&gt;139475927995520* -->\n<g id=\"edge117\" class=\"edge\">\n<title>139475927995472&#45;&gt;139475927995520*</title>\n<path fill=\"none\" stroke=\"black\" d=\"M1097.02,-306.65C1106.79,-309.76 1116.71,-313.08 1126,-316.5 1136.25,-320.27 1147.23,-324.86 1157.07,-329.18\"/>\n<polygon fill=\"black\" stroke=\"black\" points=\"1155.89,-332.49 1166.45,-333.37 1158.74,-326.1 1155.89,-332.49\"/>\n</g>\n<!-- 139475927774304 -->\n<g id=\"node121\" class=\"node\">\n<title>139475927774304</title>\n<polygon fill=\"none\" stroke=\"black\" points=\"939,-605.5 939,-641.5 1126,-641.5 1126,-605.5 939,-605.5\"/>\n<text text-anchor=\"middle\" x=\"949\" y=\"-619.8\" font-family=\"Times,serif\" font-size=\"14.00\"> </text>\n<polyline fill=\"none\" stroke=\"black\" points=\"959,-605.5 959,-641.5 \"/>\n<text text-anchor=\"middle\" x=\"1001.5\" y=\"-619.8\" font-family=\"Times,serif\" font-size=\"14.00\">data &#45;0.3421</text>\n<polyline fill=\"none\" stroke=\"black\" points=\"1044,-605.5 1044,-641.5 \"/>\n<text text-anchor=\"middle\" x=\"1085\" y=\"-619.8\" font-family=\"Times,serif\" font-size=\"14.00\">grad 0.0000</text>\n</g>\n<!-- 139475927774304&#45;&gt;139475928001280* -->\n<g id=\"edge141\" class=\"edge\">\n<title>139475927774304&#45;&gt;139475928001280*</title>\n<path fill=\"none\" stroke=\"black\" d=\"M1097.02,-641.65C1106.79,-644.76 1116.71,-648.08 1126,-651.5 1136.25,-655.27 1147.23,-659.86 1157.07,-664.18\"/>\n<polygon fill=\"black\" stroke=\"black\" points=\"1155.89,-667.49 1166.45,-668.37 1158.74,-661.1 1155.89,-667.49\"/>\n</g>\n<!-- 139475927995520 -->\n<g id=\"node122\" class=\"node\">\n<title>139475927995520</title>\n<polygon fill=\"none\" stroke=\"black\" points=\"1254.5,-325.5 1254.5,-361.5 1436.5,-361.5 1436.5,-325.5 1254.5,-325.5\"/>\n<text text-anchor=\"middle\" x=\"1264.5\" y=\"-339.8\" font-family=\"Times,serif\" font-size=\"14.00\"> </text>\n<polyline fill=\"none\" stroke=\"black\" points=\"1274.5,-325.5 1274.5,-361.5 \"/>\n<text text-anchor=\"middle\" x=\"1314.5\" y=\"-339.8\" font-family=\"Times,serif\" font-size=\"14.00\">data 0.2173</text>\n<polyline fill=\"none\" stroke=\"black\" points=\"1354.5,-325.5 1354.5,-361.5 \"/>\n<text text-anchor=\"middle\" x=\"1395.5\" y=\"-339.8\" font-family=\"Times,serif\" font-size=\"14.00\">grad 0.0000</text>\n</g>\n<!-- 139475927995520&#45;&gt;139475927996048+ -->\n<g id=\"edge110\" class=\"edge\">\n<title>139475927995520&#45;&gt;139475927996048+</title>\n<path fill=\"none\" stroke=\"black\" d=\"M1436.82,-345.25C1446.57,-345.44 1456.04,-345.63 1464.57,-345.79\"/>\n<polygon fill=\"black\" stroke=\"black\" points=\"1464.76,-349.3 1474.83,-345.99 1464.9,-342.3 1464.76,-349.3\"/>\n</g>\n<!-- 139475927995520*&#45;&gt;139475927995520 -->\n<g id=\"edge47\" class=\"edge\">\n<title>139475927995520*&#45;&gt;139475927995520</title>\n<path fill=\"none\" stroke=\"black\" d=\"M1216.21,-343.5C1224.34,-343.5 1233.85,-343.5 1243.94,-343.5\"/>\n<polygon fill=\"black\" stroke=\"black\" points=\"1244.19,-347 1254.19,-343.5 1244.19,-340 1244.19,-347\"/>\n</g>\n<!-- 139475928003728 -->\n<g id=\"node124\" class=\"node\">\n<title>139475928003728</title>\n<polygon fill=\"none\" stroke=\"black\" points=\"2506.5,-440.5 2506.5,-476.5 2688.5,-476.5 2688.5,-440.5 2506.5,-440.5\"/>\n<text text-anchor=\"middle\" x=\"2516.5\" y=\"-454.8\" font-family=\"Times,serif\" font-size=\"14.00\"> </text>\n<polyline fill=\"none\" stroke=\"black\" points=\"2526.5,-440.5 2526.5,-476.5 \"/>\n<text text-anchor=\"middle\" x=\"2566.5\" y=\"-454.8\" font-family=\"Times,serif\" font-size=\"14.00\">data 0.0470</text>\n<polyline fill=\"none\" stroke=\"black\" points=\"2606.5,-440.5 2606.5,-476.5 \"/>\n<text text-anchor=\"middle\" x=\"2647.5\" y=\"-454.8\" font-family=\"Times,serif\" font-size=\"14.00\">grad 0.0000</text>\n</g>\n<!-- 139475928003728&#45;&gt;139475928003296+ -->\n<g id=\"edge95\" class=\"edge\">\n<title>139475928003728&#45;&gt;139475928003296+</title>\n<path fill=\"none\" stroke=\"black\" d=\"M2688.82,-458.5C2698.57,-458.5 2708.04,-458.5 2716.57,-458.5\"/>\n<polygon fill=\"black\" stroke=\"black\" points=\"2716.83,-462 2726.83,-458.5 2716.83,-455 2716.83,-462\"/>\n</g>\n<!-- 139475928003728*&#45;&gt;139475928003728 -->\n<g id=\"edge48\" class=\"edge\">\n<title>139475928003728*&#45;&gt;139475928003728</title>\n<path fill=\"none\" stroke=\"black\" d=\"M2468.21,-458.5C2476.34,-458.5 2485.85,-458.5 2495.94,-458.5\"/>\n<polygon fill=\"black\" stroke=\"black\" points=\"2496.19,-462 2506.19,-458.5 2496.19,-455 2496.19,-462\"/>\n</g>\n<!-- 139475928118464 -->\n<g id=\"node126\" class=\"node\">\n<title>139475928118464</title>\n<polygon fill=\"none\" stroke=\"black\" points=\"3130,-344.5 3130,-380.5 3317,-380.5 3317,-344.5 3130,-344.5\"/>\n<text text-anchor=\"middle\" x=\"3140\" y=\"-358.8\" font-family=\"Times,serif\" font-size=\"14.00\"> </text>\n<polyline fill=\"none\" stroke=\"black\" points=\"3150,-344.5 3150,-380.5 \"/>\n<text text-anchor=\"middle\" x=\"3192.5\" y=\"-358.8\" font-family=\"Times,serif\" font-size=\"14.00\">data &#45;0.2715</text>\n<polyline fill=\"none\" stroke=\"black\" points=\"3235,-344.5 3235,-380.5 \"/>\n<text text-anchor=\"middle\" x=\"3276\" y=\"-358.8\" font-family=\"Times,serif\" font-size=\"14.00\">grad 0.0000</text>\n</g>\n<!-- 139475928118848+ -->\n<g id=\"node142\" class=\"node\">\n<title>139475928118848+</title>\n<ellipse fill=\"none\" stroke=\"black\" cx=\"3380\" cy=\"-362.5\" rx=\"27\" ry=\"18\"/>\n<text text-anchor=\"middle\" x=\"3380\" y=\"-358.8\" font-family=\"Times,serif\" font-size=\"14.00\">+</text>\n</g>\n<!-- 139475928118464&#45;&gt;139475928118848+ -->\n<g id=\"edge234\" class=\"edge\">\n<title>139475928118464&#45;&gt;139475928118848+</title>\n<path fill=\"none\" stroke=\"black\" d=\"M3317.05,-362.5C3326.06,-362.5 3334.79,-362.5 3342.7,-362.5\"/>\n<polygon fill=\"black\" stroke=\"black\" points=\"3342.95,-366 3352.95,-362.5 3342.95,-359 3342.95,-366\"/>\n</g>\n<!-- 139475928118464+&#45;&gt;139475928118464 -->\n<g id=\"edge49\" class=\"edge\">\n<title>139475928118464+&#45;&gt;139475928118464</title>\n<path fill=\"none\" stroke=\"black\" d=\"M3093.86,-350.84C3101.51,-351.54 3110.39,-352.34 3119.84,-353.2\"/>\n<polygon fill=\"black\" stroke=\"black\" points=\"3119.6,-356.69 3129.87,-354.11 3120.23,-349.72 3119.6,-356.69\"/>\n</g>\n<!-- 139475927774400 -->\n<g id=\"node128\" class=\"node\">\n<title>139475927774400</title>\n<polygon fill=\"none\" stroke=\"black\" points=\"1254.5,-550.5 1254.5,-586.5 1436.5,-586.5 1436.5,-550.5 1254.5,-550.5\"/>\n<text text-anchor=\"middle\" x=\"1264.5\" y=\"-564.8\" font-family=\"Times,serif\" font-size=\"14.00\"> </text>\n<polyline fill=\"none\" stroke=\"black\" points=\"1274.5,-550.5 1274.5,-586.5 \"/>\n<text text-anchor=\"middle\" x=\"1314.5\" y=\"-564.8\" font-family=\"Times,serif\" font-size=\"14.00\">data 0.3973</text>\n<polyline fill=\"none\" stroke=\"black\" points=\"1354.5,-550.5 1354.5,-586.5 \"/>\n<text text-anchor=\"middle\" x=\"1395.5\" y=\"-564.8\" font-family=\"Times,serif\" font-size=\"14.00\">grad 0.0000</text>\n</g>\n<!-- 139475927774400&#45;&gt;139475928001808* -->\n<g id=\"edge153\" class=\"edge\">\n<title>139475927774400&#45;&gt;139475928001808*</title>\n<path fill=\"none\" stroke=\"black\" d=\"M1410.02,-586.65C1419.79,-589.76 1429.71,-593.08 1439,-596.5 1449.25,-600.27 1460.23,-604.86 1470.07,-609.18\"/>\n<polygon fill=\"black\" stroke=\"black\" points=\"1468.89,-612.49 1479.45,-613.37 1471.74,-606.1 1468.89,-612.49\"/>\n</g>\n<!-- 139475928003824 -->\n<g id=\"node129\" class=\"node\">\n<title>139475928003824</title>\n<polygon fill=\"none\" stroke=\"black\" points=\"2506.5,-825.5 2506.5,-861.5 2688.5,-861.5 2688.5,-825.5 2506.5,-825.5\"/>\n<text text-anchor=\"middle\" x=\"2516.5\" y=\"-839.8\" font-family=\"Times,serif\" font-size=\"14.00\"> </text>\n<polyline fill=\"none\" stroke=\"black\" points=\"2526.5,-825.5 2526.5,-861.5 \"/>\n<text text-anchor=\"middle\" x=\"2566.5\" y=\"-839.8\" font-family=\"Times,serif\" font-size=\"14.00\">data 0.0859</text>\n<polyline fill=\"none\" stroke=\"black\" points=\"2606.5,-825.5 2606.5,-861.5 \"/>\n<text text-anchor=\"middle\" x=\"2647.5\" y=\"-839.8\" font-family=\"Times,serif\" font-size=\"14.00\">grad 0.0000</text>\n</g>\n<!-- 139475928004592tanh -->\n<g id=\"node164\" class=\"node\">\n<title>139475928004592tanh</title>\n<ellipse fill=\"none\" stroke=\"black\" cx=\"2754\" cy=\"-815.5\" rx=\"27\" ry=\"18\"/>\n<text text-anchor=\"middle\" x=\"2754\" y=\"-811.8\" font-family=\"Times,serif\" font-size=\"14.00\">tanh</text>\n</g>\n<!-- 139475928003824&#45;&gt;139475928004592tanh -->\n<g id=\"edge197\" class=\"edge\">\n<title>139475928003824&#45;&gt;139475928004592tanh</title>\n<path fill=\"none\" stroke=\"black\" d=\"M2688.82,-827.13C2699.07,-825.27 2709.01,-823.47 2717.88,-821.87\"/>\n<polygon fill=\"black\" stroke=\"black\" points=\"2718.54,-825.3 2727.75,-820.08 2717.29,-818.42 2718.54,-825.3\"/>\n</g>\n<!-- 139475928003824+&#45;&gt;139475928003824 -->\n<g id=\"edge50\" class=\"edge\">\n<title>139475928003824+&#45;&gt;139475928003824</title>\n<path fill=\"none\" stroke=\"black\" d=\"M2468.21,-843.5C2476.34,-843.5 2485.85,-843.5 2495.94,-843.5\"/>\n<polygon fill=\"black\" stroke=\"black\" points=\"2496.19,-847 2506.19,-843.5 2496.19,-840 2496.19,-847\"/>\n</g>\n<!-- 139475927774448 -->\n<g id=\"node131\" class=\"node\">\n<title>139475927774448</title>\n<polygon fill=\"none\" stroke=\"black\" points=\"2193.5,-605.5 2193.5,-641.5 2375.5,-641.5 2375.5,-605.5 2193.5,-605.5\"/>\n<text text-anchor=\"middle\" x=\"2203.5\" y=\"-619.8\" font-family=\"Times,serif\" font-size=\"14.00\"> </text>\n<polyline fill=\"none\" stroke=\"black\" points=\"2213.5,-605.5 2213.5,-641.5 \"/>\n<text text-anchor=\"middle\" x=\"2253.5\" y=\"-619.8\" font-family=\"Times,serif\" font-size=\"14.00\">data 0.3725</text>\n<polyline fill=\"none\" stroke=\"black\" points=\"2293.5,-605.5 2293.5,-641.5 \"/>\n<text text-anchor=\"middle\" x=\"2334.5\" y=\"-619.8\" font-family=\"Times,serif\" font-size=\"14.00\">grad 0.0000</text>\n</g>\n<!-- 139475927774448&#45;&gt;139475928115920* -->\n<g id=\"edge236\" class=\"edge\">\n<title>139475927774448&#45;&gt;139475928115920*</title>\n<path fill=\"none\" stroke=\"black\" d=\"M2375.82,-623.5C2385.57,-623.5 2395.04,-623.5 2403.57,-623.5\"/>\n<polygon fill=\"black\" stroke=\"black\" points=\"2403.83,-627 2413.83,-623.5 2403.83,-620 2403.83,-627\"/>\n</g>\n<!-- 139475927995712 -->\n<g id=\"node132\" class=\"node\">\n<title>139475927995712</title>\n<polygon fill=\"none\" stroke=\"black\" points=\"628.5,-798.5 628.5,-834.5 810.5,-834.5 810.5,-798.5 628.5,-798.5\"/>\n<text text-anchor=\"middle\" x=\"638.5\" y=\"-812.8\" font-family=\"Times,serif\" font-size=\"14.00\"> </text>\n<polyline fill=\"none\" stroke=\"black\" points=\"648.5,-798.5 648.5,-834.5 \"/>\n<text text-anchor=\"middle\" x=\"688.5\" y=\"-812.8\" font-family=\"Times,serif\" font-size=\"14.00\">data 2.0000</text>\n<polyline fill=\"none\" stroke=\"black\" points=\"728.5,-798.5 728.5,-834.5 \"/>\n<text text-anchor=\"middle\" x=\"769.5\" y=\"-812.8\" font-family=\"Times,serif\" font-size=\"14.00\">grad 0.0000</text>\n</g>\n<!-- 139475927995760* -->\n<g id=\"node134\" class=\"node\">\n<title>139475927995760*</title>\n<ellipse fill=\"none\" stroke=\"black\" cx=\"876\" cy=\"-788.5\" rx=\"27\" ry=\"18\"/>\n<text text-anchor=\"middle\" x=\"876\" y=\"-784.8\" font-family=\"Times,serif\" font-size=\"14.00\">*</text>\n</g>\n<!-- 139475927995712&#45;&gt;139475927995760* -->\n<g id=\"edge166\" class=\"edge\">\n<title>139475927995712&#45;&gt;139475927995760*</title>\n<path fill=\"none\" stroke=\"black\" d=\"M810.82,-800.13C821.07,-798.27 831.01,-796.47 839.88,-794.87\"/>\n<polygon fill=\"black\" stroke=\"black\" points=\"840.54,-798.3 849.75,-793.08 839.29,-791.42 840.54,-798.3\"/>\n</g>\n<!-- 139475927995760 -->\n<g id=\"node133\" class=\"node\">\n<title>139475927995760</title>\n<polygon fill=\"none\" stroke=\"black\" points=\"941.5,-770.5 941.5,-806.5 1123.5,-806.5 1123.5,-770.5 941.5,-770.5\"/>\n<text text-anchor=\"middle\" x=\"951.5\" y=\"-784.8\" font-family=\"Times,serif\" font-size=\"14.00\"> </text>\n<polyline fill=\"none\" stroke=\"black\" points=\"961.5,-770.5 961.5,-806.5 \"/>\n<text text-anchor=\"middle\" x=\"1001.5\" y=\"-784.8\" font-family=\"Times,serif\" font-size=\"14.00\">data 0.5715</text>\n<polyline fill=\"none\" stroke=\"black\" points=\"1041.5,-770.5 1041.5,-806.5 \"/>\n<text text-anchor=\"middle\" x=\"1082.5\" y=\"-784.8\" font-family=\"Times,serif\" font-size=\"14.00\">grad 0.0000</text>\n</g>\n<!-- 139475927995760&#45;&gt;139475928001040+ -->\n<g id=\"edge181\" class=\"edge\">\n<title>139475927995760&#45;&gt;139475928001040+</title>\n<path fill=\"none\" stroke=\"black\" d=\"M1099.56,-770.45C1108.51,-767.64 1117.53,-764.63 1126,-761.5 1136.49,-757.62 1147.71,-752.78 1157.68,-748.22\"/>\n<polygon fill=\"black\" stroke=\"black\" points=\"1159.2,-751.37 1166.79,-743.97 1156.25,-745.02 1159.2,-751.37\"/>\n</g>\n<!-- 139475927995760*&#45;&gt;139475927995760 -->\n<g id=\"edge51\" class=\"edge\">\n<title>139475927995760*&#45;&gt;139475927995760</title>\n<path fill=\"none\" stroke=\"black\" d=\"M903.21,-788.5C911.34,-788.5 920.85,-788.5 930.94,-788.5\"/>\n<polygon fill=\"black\" stroke=\"black\" points=\"931.19,-792 941.19,-788.5 931.19,-785 931.19,-792\"/>\n</g>\n<!-- 139475928118656 -->\n<g id=\"node135\" class=\"node\">\n<title>139475928118656</title>\n<polygon fill=\"none\" stroke=\"black\" points=\"3130,-550.5 3130,-586.5 3317,-586.5 3317,-550.5 3130,-550.5\"/>\n<text text-anchor=\"middle\" x=\"3140\" y=\"-564.8\" font-family=\"Times,serif\" font-size=\"14.00\"> </text>\n<polyline fill=\"none\" stroke=\"black\" points=\"3150,-550.5 3150,-586.5 \"/>\n<text text-anchor=\"middle\" x=\"3192.5\" y=\"-564.8\" font-family=\"Times,serif\" font-size=\"14.00\">data &#45;0.0524</text>\n<polyline fill=\"none\" stroke=\"black\" points=\"3235,-550.5 3235,-586.5 \"/>\n<text text-anchor=\"middle\" x=\"3276\" y=\"-564.8\" font-family=\"Times,serif\" font-size=\"14.00\">grad 0.0000</text>\n</g>\n<!-- 139475928118656&#45;&gt;139475928118848+ -->\n<g id=\"edge128\" class=\"edge\">\n<title>139475928118656&#45;&gt;139475928118848+</title>\n<path fill=\"none\" stroke=\"black\" d=\"M3305.42,-550.35C3309.58,-547.78 3313.49,-544.84 3317,-541.5 3359.55,-501 3372.91,-429.87 3377.09,-390.57\"/>\n<polygon fill=\"black\" stroke=\"black\" points=\"3380.58,-390.9 3378.03,-380.62 3373.61,-390.24 3380.58,-390.9\"/>\n</g>\n<!-- 139475928118656* -->\n<g id=\"node136\" class=\"node\">\n<title>139475928118656*</title>\n<ellipse fill=\"none\" stroke=\"black\" cx=\"3067\" cy=\"-568.5\" rx=\"27\" ry=\"18\"/>\n<text text-anchor=\"middle\" x=\"3067\" y=\"-564.8\" font-family=\"Times,serif\" font-size=\"14.00\">*</text>\n</g>\n<!-- 139475928118656*&#45;&gt;139475928118656 -->\n<g id=\"edge52\" class=\"edge\">\n<title>139475928118656*&#45;&gt;139475928118656</title>\n<path fill=\"none\" stroke=\"black\" d=\"M3094.21,-568.5C3101.73,-568.5 3110.43,-568.5 3119.67,-568.5\"/>\n<polygon fill=\"black\" stroke=\"black\" points=\"3119.89,-572 3129.89,-568.5 3119.89,-565 3119.89,-572\"/>\n</g>\n<!-- 139479133468032 -->\n<g id=\"node137\" class=\"node\">\n<title>139479133468032</title>\n<polygon fill=\"none\" stroke=\"black\" points=\"3132.5,-605.5 3132.5,-641.5 3314.5,-641.5 3314.5,-605.5 3132.5,-605.5\"/>\n<text text-anchor=\"middle\" x=\"3142.5\" y=\"-619.8\" font-family=\"Times,serif\" font-size=\"14.00\"> </text>\n<polyline fill=\"none\" stroke=\"black\" points=\"3152.5,-605.5 3152.5,-641.5 \"/>\n<text text-anchor=\"middle\" x=\"3192.5\" y=\"-619.8\" font-family=\"Times,serif\" font-size=\"14.00\">data 0.0841</text>\n<polyline fill=\"none\" stroke=\"black\" points=\"3232.5,-605.5 3232.5,-641.5 \"/>\n<text text-anchor=\"middle\" x=\"3273.5\" y=\"-619.8\" font-family=\"Times,serif\" font-size=\"14.00\">grad 0.0000</text>\n</g>\n<!-- 139479133468032&#45;&gt;139479133467264+ -->\n<g id=\"edge188\" class=\"edge\">\n<title>139479133468032&#45;&gt;139479133467264+</title>\n<path fill=\"none\" stroke=\"black\" d=\"M3296.21,-605.43C3303.38,-602.78 3310.43,-599.81 3317,-596.5 3330.75,-589.58 3344.54,-579.51 3355.62,-570.46\"/>\n<polygon fill=\"black\" stroke=\"black\" points=\"3358.12,-572.93 3363.51,-563.81 3353.61,-567.58 3358.12,-572.93\"/>\n</g>\n<!-- 139479133468032* -->\n<g id=\"node138\" class=\"node\">\n<title>139479133468032*</title>\n<ellipse fill=\"none\" stroke=\"black\" cx=\"3067\" cy=\"-623.5\" rx=\"27\" ry=\"18\"/>\n<text text-anchor=\"middle\" x=\"3067\" y=\"-619.8\" font-family=\"Times,serif\" font-size=\"14.00\">*</text>\n</g>\n<!-- 139479133468032*&#45;&gt;139479133468032 -->\n<g id=\"edge53\" class=\"edge\">\n<title>139479133468032*&#45;&gt;139479133468032</title>\n<path fill=\"none\" stroke=\"black\" d=\"M3094.21,-623.5C3102.34,-623.5 3111.85,-623.5 3121.94,-623.5\"/>\n<polygon fill=\"black\" stroke=\"black\" points=\"3122.19,-627 3132.19,-623.5 3122.19,-620 3122.19,-627\"/>\n</g>\n<!-- 139475928003968 -->\n<g id=\"node139\" class=\"node\">\n<title>139475928003968</title>\n<polygon fill=\"none\" stroke=\"black\" points=\"2191,-385.5 2191,-421.5 2378,-421.5 2378,-385.5 2191,-385.5\"/>\n<text text-anchor=\"middle\" x=\"2201\" y=\"-399.8\" font-family=\"Times,serif\" font-size=\"14.00\"> </text>\n<polyline fill=\"none\" stroke=\"black\" points=\"2211,-385.5 2211,-421.5 \"/>\n<text text-anchor=\"middle\" x=\"2253.5\" y=\"-399.8\" font-family=\"Times,serif\" font-size=\"14.00\">data &#45;0.3212</text>\n<polyline fill=\"none\" stroke=\"black\" points=\"2296,-385.5 2296,-421.5 \"/>\n<text text-anchor=\"middle\" x=\"2337\" y=\"-399.8\" font-family=\"Times,serif\" font-size=\"14.00\">grad 0.0000</text>\n</g>\n<!-- 139475928004304+ -->\n<g id=\"node150\" class=\"node\">\n<title>139475928004304+</title>\n<ellipse fill=\"none\" stroke=\"black\" cx=\"2441\" cy=\"-403.5\" rx=\"27\" ry=\"18\"/>\n<text text-anchor=\"middle\" x=\"2441\" y=\"-399.8\" font-family=\"Times,serif\" font-size=\"14.00\">+</text>\n</g>\n<!-- 139475928003968&#45;&gt;139475928004304+ -->\n<g id=\"edge191\" class=\"edge\">\n<title>139475928003968&#45;&gt;139475928004304+</title>\n<path fill=\"none\" stroke=\"black\" d=\"M2378.05,-403.5C2387.06,-403.5 2395.79,-403.5 2403.7,-403.5\"/>\n<polygon fill=\"black\" stroke=\"black\" points=\"2403.95,-407 2413.95,-403.5 2403.95,-400 2403.95,-407\"/>\n</g>\n<!-- 139475928003968*&#45;&gt;139475928003968 -->\n<g id=\"edge54\" class=\"edge\">\n<title>139475928003968*&#45;&gt;139475928003968</title>\n<path fill=\"none\" stroke=\"black\" d=\"M2155.21,-403.5C2162.73,-403.5 2171.43,-403.5 2180.67,-403.5\"/>\n<polygon fill=\"black\" stroke=\"black\" points=\"2180.89,-407 2190.89,-403.5 2180.89,-400 2180.89,-407\"/>\n</g>\n<!-- 139475928118848 -->\n<g id=\"node141\" class=\"node\">\n<title>139475928118848</title>\n<polygon fill=\"none\" stroke=\"black\" points=\"3443,-344.5 3443,-380.5 3630,-380.5 3630,-344.5 3443,-344.5\"/>\n<text text-anchor=\"middle\" x=\"3453\" y=\"-358.8\" font-family=\"Times,serif\" font-size=\"14.00\"> </text>\n<polyline fill=\"none\" stroke=\"black\" points=\"3463,-344.5 3463,-380.5 \"/>\n<text text-anchor=\"middle\" x=\"3505.5\" y=\"-358.8\" font-family=\"Times,serif\" font-size=\"14.00\">data &#45;0.3240</text>\n<polyline fill=\"none\" stroke=\"black\" points=\"3548,-344.5 3548,-380.5 \"/>\n<text text-anchor=\"middle\" x=\"3589\" y=\"-358.8\" font-family=\"Times,serif\" font-size=\"14.00\">grad 0.0000</text>\n</g>\n<!-- 139475928118944+ -->\n<g id=\"node148\" class=\"node\">\n<title>139475928118944+</title>\n<ellipse fill=\"none\" stroke=\"black\" cx=\"3693\" cy=\"-359.5\" rx=\"27\" ry=\"18\"/>\n<text text-anchor=\"middle\" x=\"3693\" y=\"-355.8\" font-family=\"Times,serif\" font-size=\"14.00\">+</text>\n</g>\n<!-- 139475928118848&#45;&gt;139475928118944+ -->\n<g id=\"edge154\" class=\"edge\">\n<title>139475928118848&#45;&gt;139475928118944+</title>\n<path fill=\"none\" stroke=\"black\" d=\"M3630.05,-360.7C3639.06,-360.53 3647.79,-360.36 3655.7,-360.2\"/>\n<polygon fill=\"black\" stroke=\"black\" points=\"3656.02,-363.7 3665.95,-360.01 3655.88,-356.7 3656.02,-363.7\"/>\n</g>\n<!-- 139475928118848+&#45;&gt;139475928118848 -->\n<g id=\"edge55\" class=\"edge\">\n<title>139475928118848+&#45;&gt;139475928118848</title>\n<path fill=\"none\" stroke=\"black\" d=\"M3407.21,-362.5C3414.73,-362.5 3423.43,-362.5 3432.67,-362.5\"/>\n<polygon fill=\"black\" stroke=\"black\" points=\"3432.89,-366 3442.89,-362.5 3432.89,-359 3432.89,-366\"/>\n</g>\n<!-- 139475928004208 -->\n<g id=\"node143\" class=\"node\">\n<title>139475928004208</title>\n<polygon fill=\"none\" stroke=\"black\" points=\"2193.5,-440.5 2193.5,-476.5 2375.5,-476.5 2375.5,-440.5 2193.5,-440.5\"/>\n<text text-anchor=\"middle\" x=\"2203.5\" y=\"-454.8\" font-family=\"Times,serif\" font-size=\"14.00\"> </text>\n<polyline fill=\"none\" stroke=\"black\" points=\"2213.5,-440.5 2213.5,-476.5 \"/>\n<text text-anchor=\"middle\" x=\"2253.5\" y=\"-454.8\" font-family=\"Times,serif\" font-size=\"14.00\">data 0.0000</text>\n<polyline fill=\"none\" stroke=\"black\" points=\"2293.5,-440.5 2293.5,-476.5 \"/>\n<text text-anchor=\"middle\" x=\"2334.5\" y=\"-454.8\" font-family=\"Times,serif\" font-size=\"14.00\">grad 0.0000</text>\n</g>\n<!-- 139475928004208&#45;&gt;139475928004304+ -->\n<g id=\"edge195\" class=\"edge\">\n<title>139475928004208&#45;&gt;139475928004304+</title>\n<path fill=\"none\" stroke=\"black\" d=\"M2351.56,-440.45C2360.51,-437.64 2369.53,-434.63 2378,-431.5 2388.49,-427.62 2399.71,-422.78 2409.68,-418.22\"/>\n<polygon fill=\"black\" stroke=\"black\" points=\"2411.2,-421.37 2418.79,-413.97 2408.25,-415.02 2411.2,-421.37\"/>\n</g>\n<!-- 139475927774832 -->\n<g id=\"node144\" class=\"node\">\n<title>139475927774832</title>\n<polygon fill=\"none\" stroke=\"black\" points=\"2817,-825.5 2817,-861.5 3004,-861.5 3004,-825.5 2817,-825.5\"/>\n<text text-anchor=\"middle\" x=\"2827\" y=\"-839.8\" font-family=\"Times,serif\" font-size=\"14.00\"> </text>\n<polyline fill=\"none\" stroke=\"black\" points=\"2837,-825.5 2837,-861.5 \"/>\n<text text-anchor=\"middle\" x=\"2879.5\" y=\"-839.8\" font-family=\"Times,serif\" font-size=\"14.00\">data &#45;0.9233</text>\n<polyline fill=\"none\" stroke=\"black\" points=\"2922,-825.5 2922,-861.5 \"/>\n<text text-anchor=\"middle\" x=\"2963\" y=\"-839.8\" font-family=\"Times,serif\" font-size=\"14.00\">grad 0.0000</text>\n</g>\n<!-- 139475928005360* -->\n<g id=\"node195\" class=\"node\">\n<title>139475928005360*</title>\n<ellipse fill=\"none\" stroke=\"black\" cx=\"3067\" cy=\"-787.5\" rx=\"27\" ry=\"18\"/>\n<text text-anchor=\"middle\" x=\"3067\" y=\"-783.8\" font-family=\"Times,serif\" font-size=\"14.00\">*</text>\n</g>\n<!-- 139475927774832&#45;&gt;139475928005360* -->\n<g id=\"edge115\" class=\"edge\">\n<title>139475927774832&#45;&gt;139475928005360*</title>\n<path fill=\"none\" stroke=\"black\" d=\"M2978.1,-825.4C2986.88,-822.62 2995.7,-819.63 3004,-816.5 3014.62,-812.49 3025.94,-807.44 3035.96,-802.68\"/>\n<polygon fill=\"black\" stroke=\"black\" points=\"3037.64,-805.76 3045.11,-798.25 3034.59,-799.46 3037.64,-805.76\"/>\n</g>\n<!-- 139475927996048 -->\n<g id=\"node145\" class=\"node\">\n<title>139475927996048</title>\n<polygon fill=\"none\" stroke=\"black\" points=\"1567.5,-328.5 1567.5,-364.5 1749.5,-364.5 1749.5,-328.5 1567.5,-328.5\"/>\n<text text-anchor=\"middle\" x=\"1577.5\" y=\"-342.8\" font-family=\"Times,serif\" font-size=\"14.00\"> </text>\n<polyline fill=\"none\" stroke=\"black\" points=\"1587.5,-328.5 1587.5,-364.5 \"/>\n<text text-anchor=\"middle\" x=\"1627.5\" y=\"-342.8\" font-family=\"Times,serif\" font-size=\"14.00\">data 0.3668</text>\n<polyline fill=\"none\" stroke=\"black\" points=\"1667.5,-328.5 1667.5,-364.5 \"/>\n<text text-anchor=\"middle\" x=\"1708.5\" y=\"-342.8\" font-family=\"Times,serif\" font-size=\"14.00\">grad 0.0000</text>\n</g>\n<!-- 139475927996048&#45;&gt;139475927996336+ -->\n<g id=\"edge193\" class=\"edge\">\n<title>139475927996048&#45;&gt;139475927996336+</title>\n<path fill=\"none\" stroke=\"black\" d=\"M1749.82,-347.67C1759.57,-347.8 1769.04,-347.92 1777.57,-348.03\"/>\n<polygon fill=\"black\" stroke=\"black\" points=\"1777.78,-351.53 1787.83,-348.16 1777.87,-344.53 1777.78,-351.53\"/>\n</g>\n<!-- 139475927996048+&#45;&gt;139475927996048 -->\n<g id=\"edge56\" class=\"edge\">\n<title>139475927996048+&#45;&gt;139475927996048</title>\n<path fill=\"none\" stroke=\"black\" d=\"M1529.21,-346.5C1537.34,-346.5 1546.85,-346.5 1556.94,-346.5\"/>\n<polygon fill=\"black\" stroke=\"black\" points=\"1557.19,-350 1567.19,-346.5 1557.19,-343 1557.19,-350\"/>\n</g>\n<!-- 139475928118944 -->\n<g id=\"node147\" class=\"node\">\n<title>139475928118944</title>\n<polygon fill=\"none\" stroke=\"black\" points=\"3756,-341.5 3756,-377.5 3943,-377.5 3943,-341.5 3756,-341.5\"/>\n<text text-anchor=\"middle\" x=\"3766\" y=\"-355.8\" font-family=\"Times,serif\" font-size=\"14.00\"> </text>\n<polyline fill=\"none\" stroke=\"black\" points=\"3776,-341.5 3776,-377.5 \"/>\n<text text-anchor=\"middle\" x=\"3818.5\" y=\"-355.8\" font-family=\"Times,serif\" font-size=\"14.00\">data &#45;0.1527</text>\n<polyline fill=\"none\" stroke=\"black\" points=\"3861,-341.5 3861,-377.5 \"/>\n<text text-anchor=\"middle\" x=\"3902\" y=\"-355.8\" font-family=\"Times,serif\" font-size=\"14.00\">grad 0.0000</text>\n</g>\n<!-- 139475928119136tanh -->\n<g id=\"node156\" class=\"node\">\n<title>139475928119136tanh</title>\n<ellipse fill=\"none\" stroke=\"black\" cx=\"4006\" cy=\"-359.5\" rx=\"27\" ry=\"18\"/>\n<text text-anchor=\"middle\" x=\"4006\" y=\"-355.8\" font-family=\"Times,serif\" font-size=\"14.00\">tanh</text>\n</g>\n<!-- 139475928118944&#45;&gt;139475928119136tanh -->\n<g id=\"edge97\" class=\"edge\">\n<title>139475928118944&#45;&gt;139475928119136tanh</title>\n<path fill=\"none\" stroke=\"black\" d=\"M3943.05,-359.5C3952.06,-359.5 3960.79,-359.5 3968.7,-359.5\"/>\n<polygon fill=\"black\" stroke=\"black\" points=\"3968.95,-363 3978.95,-359.5 3968.95,-356 3968.95,-363\"/>\n</g>\n<!-- 139475928118944+&#45;&gt;139475928118944 -->\n<g id=\"edge57\" class=\"edge\">\n<title>139475928118944+&#45;&gt;139475928118944</title>\n<path fill=\"none\" stroke=\"black\" d=\"M3720.21,-359.5C3727.73,-359.5 3736.43,-359.5 3745.67,-359.5\"/>\n<polygon fill=\"black\" stroke=\"black\" points=\"3745.89,-363 3755.89,-359.5 3745.89,-356 3745.89,-363\"/>\n</g>\n<!-- 139475928004304 -->\n<g id=\"node149\" class=\"node\">\n<title>139475928004304</title>\n<polygon fill=\"none\" stroke=\"black\" points=\"2504,-385.5 2504,-421.5 2691,-421.5 2691,-385.5 2504,-385.5\"/>\n<text text-anchor=\"middle\" x=\"2514\" y=\"-399.8\" font-family=\"Times,serif\" font-size=\"14.00\"> </text>\n<polyline fill=\"none\" stroke=\"black\" points=\"2524,-385.5 2524,-421.5 \"/>\n<text text-anchor=\"middle\" x=\"2566.5\" y=\"-399.8\" font-family=\"Times,serif\" font-size=\"14.00\">data &#45;0.3212</text>\n<polyline fill=\"none\" stroke=\"black\" points=\"2609,-385.5 2609,-421.5 \"/>\n<text text-anchor=\"middle\" x=\"2650\" y=\"-399.8\" font-family=\"Times,serif\" font-size=\"14.00\">grad 0.0000</text>\n</g>\n<!-- 139475928004304&#45;&gt;139475928003296+ -->\n<g id=\"edge113\" class=\"edge\">\n<title>139475928004304&#45;&gt;139475928003296+</title>\n<path fill=\"none\" stroke=\"black\" d=\"M2662.02,-421.65C2671.79,-424.76 2681.71,-428.08 2691,-431.5 2701.25,-435.27 2712.23,-439.86 2722.07,-444.18\"/>\n<polygon fill=\"black\" stroke=\"black\" points=\"2720.89,-447.49 2731.45,-448.37 2723.74,-441.1 2720.89,-447.49\"/>\n</g>\n<!-- 139475928004304+&#45;&gt;139475928004304 -->\n<g id=\"edge58\" class=\"edge\">\n<title>139475928004304+&#45;&gt;139475928004304</title>\n<path fill=\"none\" stroke=\"black\" d=\"M2468.21,-403.5C2475.73,-403.5 2484.43,-403.5 2493.67,-403.5\"/>\n<polygon fill=\"black\" stroke=\"black\" points=\"2493.89,-407 2503.89,-403.5 2493.89,-400 2493.89,-407\"/>\n</g>\n<!-- 139475927766768 -->\n<g id=\"node151\" class=\"node\">\n<title>139475927766768</title>\n<polygon fill=\"none\" stroke=\"black\" points=\"941.5,-825.5 941.5,-861.5 1123.5,-861.5 1123.5,-825.5 941.5,-825.5\"/>\n<text text-anchor=\"middle\" x=\"951.5\" y=\"-839.8\" font-family=\"Times,serif\" font-size=\"14.00\"> </text>\n<polyline fill=\"none\" stroke=\"black\" points=\"961.5,-825.5 961.5,-861.5 \"/>\n<text text-anchor=\"middle\" x=\"1001.5\" y=\"-839.8\" font-family=\"Times,serif\" font-size=\"14.00\">data 0.1589</text>\n<polyline fill=\"none\" stroke=\"black\" points=\"1041.5,-825.5 1041.5,-861.5 \"/>\n<text text-anchor=\"middle\" x=\"1082.5\" y=\"-839.8\" font-family=\"Times,serif\" font-size=\"14.00\">grad 0.0000</text>\n</g>\n<!-- 139475927766768&#45;&gt;139475928002384* -->\n<g id=\"edge198\" class=\"edge\">\n<title>139475927766768&#45;&gt;139475928002384*</title>\n<path fill=\"none\" stroke=\"black\" d=\"M1123.82,-843.5C1133.57,-843.5 1143.04,-843.5 1151.57,-843.5\"/>\n<polygon fill=\"black\" stroke=\"black\" points=\"1151.83,-847 1161.83,-843.5 1151.83,-840 1151.83,-847\"/>\n</g>\n<!-- 139475927774976 -->\n<g id=\"node152\" class=\"node\">\n<title>139475927774976</title>\n<polygon fill=\"none\" stroke=\"black\" points=\"4071.5,-451.5 4071.5,-487.5 4253.5,-487.5 4253.5,-451.5 4071.5,-451.5\"/>\n<text text-anchor=\"middle\" x=\"4081.5\" y=\"-465.8\" font-family=\"Times,serif\" font-size=\"14.00\"> </text>\n<polyline fill=\"none\" stroke=\"black\" points=\"4091.5,-451.5 4091.5,-487.5 \"/>\n<text text-anchor=\"middle\" x=\"4131.5\" y=\"-465.8\" font-family=\"Times,serif\" font-size=\"14.00\">data 0.9307</text>\n<polyline fill=\"none\" stroke=\"black\" points=\"4171.5,-451.5 4171.5,-487.5 \"/>\n<text text-anchor=\"middle\" x=\"4212.5\" y=\"-465.8\" font-family=\"Times,serif\" font-size=\"14.00\">grad 0.0000</text>\n</g>\n<!-- 139475927774976&#45;&gt;139475928119856* -->\n<g id=\"edge209\" class=\"edge\">\n<title>139475927774976&#45;&gt;139475928119856*</title>\n<path fill=\"none\" stroke=\"black\" d=\"M4253.82,-480.02C4263.77,-481.18 4273.43,-482.31 4282.1,-483.32\"/>\n<polygon fill=\"black\" stroke=\"black\" points=\"4281.8,-486.81 4292.14,-484.49 4282.61,-479.85 4281.8,-486.81\"/>\n</g>\n<!-- 139475927766816 -->\n<g id=\"node153\" class=\"node\">\n<title>139475927766816</title>\n<polygon fill=\"none\" stroke=\"black\" points=\"628.5,-202.5 628.5,-238.5 810.5,-238.5 810.5,-202.5 628.5,-202.5\"/>\n<text text-anchor=\"middle\" x=\"638.5\" y=\"-216.8\" font-family=\"Times,serif\" font-size=\"14.00\"> </text>\n<polyline fill=\"none\" stroke=\"black\" points=\"648.5,-202.5 648.5,-238.5 \"/>\n<text text-anchor=\"middle\" x=\"688.5\" y=\"-216.8\" font-family=\"Times,serif\" font-size=\"14.00\">data 0.3992</text>\n<polyline fill=\"none\" stroke=\"black\" points=\"728.5,-202.5 728.5,-238.5 \"/>\n<text text-anchor=\"middle\" x=\"769.5\" y=\"-216.8\" font-family=\"Times,serif\" font-size=\"14.00\">grad 0.0000</text>\n</g>\n<!-- 139475927766816&#45;&gt;139475927993504* -->\n<g id=\"edge214\" class=\"edge\">\n<title>139475927766816&#45;&gt;139475927993504*</title>\n<path fill=\"none\" stroke=\"black\" d=\"M810.82,-220.5C820.57,-220.5 830.04,-220.5 838.57,-220.5\"/>\n<polygon fill=\"black\" stroke=\"black\" points=\"838.83,-224 848.83,-220.5 838.83,-217 838.83,-224\"/>\n</g>\n<!-- 139475927775024 -->\n<g id=\"node154\" class=\"node\">\n<title>139475927775024</title>\n<polygon fill=\"none\" stroke=\"black\" points=\"2504,-330.5 2504,-366.5 2691,-366.5 2691,-330.5 2504,-330.5\"/>\n<text text-anchor=\"middle\" x=\"2514\" y=\"-344.8\" font-family=\"Times,serif\" font-size=\"14.00\"> </text>\n<polyline fill=\"none\" stroke=\"black\" points=\"2524,-330.5 2524,-366.5 \"/>\n<text text-anchor=\"middle\" x=\"2566.5\" y=\"-344.8\" font-family=\"Times,serif\" font-size=\"14.00\">data &#45;0.3083</text>\n<polyline fill=\"none\" stroke=\"black\" points=\"2609,-330.5 2609,-366.5 \"/>\n<text text-anchor=\"middle\" x=\"2650\" y=\"-344.8\" font-family=\"Times,serif\" font-size=\"14.00\">grad 0.0000</text>\n</g>\n<!-- 139475927775024&#45;&gt;139475928118272* -->\n<g id=\"edge135\" class=\"edge\">\n<title>139475927775024&#45;&gt;139475928118272*</title>\n<path fill=\"none\" stroke=\"black\" d=\"M2691.05,-348.5C2700.06,-348.5 2708.79,-348.5 2716.7,-348.5\"/>\n<polygon fill=\"black\" stroke=\"black\" points=\"2716.95,-352 2726.95,-348.5 2716.95,-345 2716.95,-352\"/>\n</g>\n<!-- 139475928119136 -->\n<g id=\"node155\" class=\"node\">\n<title>139475928119136</title>\n<polygon fill=\"none\" stroke=\"black\" points=\"4069,-341.5 4069,-377.5 4256,-377.5 4256,-341.5 4069,-341.5\"/>\n<text text-anchor=\"middle\" x=\"4079\" y=\"-355.8\" font-family=\"Times,serif\" font-size=\"14.00\"> </text>\n<polyline fill=\"none\" stroke=\"black\" points=\"4089,-341.5 4089,-377.5 \"/>\n<text text-anchor=\"middle\" x=\"4131.5\" y=\"-355.8\" font-family=\"Times,serif\" font-size=\"14.00\">data &#45;0.1516</text>\n<polyline fill=\"none\" stroke=\"black\" points=\"4174,-341.5 4174,-377.5 \"/>\n<text text-anchor=\"middle\" x=\"4215\" y=\"-355.8\" font-family=\"Times,serif\" font-size=\"14.00\">grad 0.0000</text>\n</g>\n<!-- 139475928119136&#45;&gt;139475928120624* -->\n<g id=\"edge99\" class=\"edge\">\n<title>139475928119136&#45;&gt;139475928120624*</title>\n<path fill=\"none\" stroke=\"black\" d=\"M4227.02,-377.65C4236.79,-380.76 4246.71,-384.08 4256,-387.5 4266.25,-391.27 4277.23,-395.86 4287.07,-400.18\"/>\n<polygon fill=\"black\" stroke=\"black\" points=\"4285.89,-403.49 4296.45,-404.37 4288.74,-397.1 4285.89,-403.49\"/>\n</g>\n<!-- 139475928119136tanh&#45;&gt;139475928119136 -->\n<g id=\"edge59\" class=\"edge\">\n<title>139475928119136tanh&#45;&gt;139475928119136</title>\n<path fill=\"none\" stroke=\"black\" d=\"M4033.21,-359.5C4040.73,-359.5 4049.43,-359.5 4058.67,-359.5\"/>\n<polygon fill=\"black\" stroke=\"black\" points=\"4058.89,-363 4068.89,-359.5 4058.89,-356 4058.89,-363\"/>\n</g>\n<!-- 139475927775072 -->\n<g id=\"node157\" class=\"node\">\n<title>139475927775072</title>\n<polygon fill=\"none\" stroke=\"black\" points=\"1880.5,-385.5 1880.5,-421.5 2062.5,-421.5 2062.5,-385.5 1880.5,-385.5\"/>\n<text text-anchor=\"middle\" x=\"1890.5\" y=\"-399.8\" font-family=\"Times,serif\" font-size=\"14.00\"> </text>\n<polyline fill=\"none\" stroke=\"black\" points=\"1900.5,-385.5 1900.5,-421.5 \"/>\n<text text-anchor=\"middle\" x=\"1940.5\" y=\"-399.8\" font-family=\"Times,serif\" font-size=\"14.00\">data 0.7376</text>\n<polyline fill=\"none\" stroke=\"black\" points=\"1980.5,-385.5 1980.5,-421.5 \"/>\n<text text-anchor=\"middle\" x=\"2021.5\" y=\"-399.8\" font-family=\"Times,serif\" font-size=\"14.00\">grad 0.0000</text>\n</g>\n<!-- 139475927775072&#45;&gt;139475928003968* -->\n<g id=\"edge105\" class=\"edge\">\n<title>139475927775072&#45;&gt;139475928003968*</title>\n<path fill=\"none\" stroke=\"black\" d=\"M2062.82,-403.5C2072.57,-403.5 2082.04,-403.5 2090.57,-403.5\"/>\n<polygon fill=\"black\" stroke=\"black\" points=\"2090.83,-407 2100.83,-403.5 2090.83,-400 2090.83,-407\"/>\n</g>\n<!-- 139475927996288 -->\n<g id=\"node158\" class=\"node\">\n<title>139475927996288</title>\n<polygon fill=\"none\" stroke=\"black\" points=\"2191,-330.5 2191,-366.5 2378,-366.5 2378,-330.5 2191,-330.5\"/>\n<text text-anchor=\"middle\" x=\"2201\" y=\"-344.8\" font-family=\"Times,serif\" font-size=\"14.00\"> </text>\n<polyline fill=\"none\" stroke=\"black\" points=\"2211,-330.5 2211,-366.5 \"/>\n<text text-anchor=\"middle\" x=\"2253.5\" y=\"-344.8\" font-family=\"Times,serif\" font-size=\"14.00\">data &#45;0.0753</text>\n<polyline fill=\"none\" stroke=\"black\" points=\"2296,-330.5 2296,-366.5 \"/>\n<text text-anchor=\"middle\" x=\"2337\" y=\"-344.8\" font-family=\"Times,serif\" font-size=\"14.00\">grad 0.0000</text>\n</g>\n<!-- 139475927996288&#45;&gt;139475928000656* -->\n<g id=\"edge223\" class=\"edge\">\n<title>139475927996288&#45;&gt;139475928000656*</title>\n<path fill=\"none\" stroke=\"black\" d=\"M2351.56,-330.45C2360.51,-327.64 2369.53,-324.63 2378,-321.5 2388.49,-317.62 2399.71,-312.78 2409.68,-308.22\"/>\n<polygon fill=\"black\" stroke=\"black\" points=\"2411.2,-311.37 2418.79,-303.97 2408.25,-305.02 2411.2,-311.37\"/>\n</g>\n<!-- 139475927996288&#45;&gt;139475928115920* -->\n<g id=\"edge131\" class=\"edge\">\n<title>139475927996288&#45;&gt;139475928115920*</title>\n<path fill=\"none\" stroke=\"black\" d=\"M2366.73,-366.59C2370.87,-369.43 2374.68,-372.72 2378,-376.5 2443.03,-450.66 2370.59,-506.92 2414,-595.5 2415,-597.53 2416.19,-599.52 2417.51,-601.44\"/>\n<polygon fill=\"black\" stroke=\"black\" points=\"2414.88,-603.76 2423.88,-609.34 2420.33,-599.36 2414.88,-603.76\"/>\n</g>\n<!-- 139475927996288&#45;&gt;139475928117888* -->\n<g id=\"edge160\" class=\"edge\">\n<title>139475927996288&#45;&gt;139475928117888*</title>\n<path fill=\"none\" stroke=\"black\" d=\"M2363.23,-330.44C2368.44,-327.85 2373.43,-324.89 2378,-321.5 2401.47,-304.11 2396,-289.51 2414,-266.5 2415.4,-264.72 2416.88,-262.91 2418.41,-261.12\"/>\n<polygon fill=\"black\" stroke=\"black\" points=\"2421.17,-263.28 2425.21,-253.49 2415.94,-258.63 2421.17,-263.28\"/>\n</g>\n<!-- 139475927996288&#45;&gt;139475928003728* -->\n<g id=\"edge228\" class=\"edge\">\n<title>139475927996288&#45;&gt;139475928003728*</title>\n<path fill=\"none\" stroke=\"black\" d=\"M2361.35,-366.57C2367.24,-369.41 2372.88,-372.7 2378,-376.5 2401.16,-393.69 2396.13,-407.86 2414,-430.5 2415.4,-432.28 2416.89,-434.08 2418.42,-435.86\"/>\n<polygon fill=\"black\" stroke=\"black\" points=\"2415.96,-438.36 2425.24,-443.49 2421.18,-433.7 2415.96,-438.36\"/>\n</g>\n<!-- 139475927996288tanh -->\n<g id=\"node159\" class=\"node\">\n<title>139475927996288tanh</title>\n<ellipse fill=\"none\" stroke=\"black\" cx=\"2128\" cy=\"-348.5\" rx=\"27\" ry=\"18\"/>\n<text text-anchor=\"middle\" x=\"2128\" y=\"-344.8\" font-family=\"Times,serif\" font-size=\"14.00\">tanh</text>\n</g>\n<!-- 139475927996288tanh&#45;&gt;139475927996288 -->\n<g id=\"edge60\" class=\"edge\">\n<title>139475927996288tanh&#45;&gt;139475927996288</title>\n<path fill=\"none\" stroke=\"black\" d=\"M2155.21,-348.5C2162.73,-348.5 2171.43,-348.5 2180.67,-348.5\"/>\n<polygon fill=\"black\" stroke=\"black\" points=\"2180.89,-352 2190.89,-348.5 2180.89,-345 2180.89,-352\"/>\n</g>\n<!-- 139475927996336 -->\n<g id=\"node160\" class=\"node\">\n<title>139475927996336</title>\n<polygon fill=\"none\" stroke=\"black\" points=\"1878,-330.5 1878,-366.5 2065,-366.5 2065,-330.5 1878,-330.5\"/>\n<text text-anchor=\"middle\" x=\"1888\" y=\"-344.8\" font-family=\"Times,serif\" font-size=\"14.00\"> </text>\n<polyline fill=\"none\" stroke=\"black\" points=\"1898,-330.5 1898,-366.5 \"/>\n<text text-anchor=\"middle\" x=\"1940.5\" y=\"-344.8\" font-family=\"Times,serif\" font-size=\"14.00\">data &#45;0.0754</text>\n<polyline fill=\"none\" stroke=\"black\" points=\"1983,-330.5 1983,-366.5 \"/>\n<text text-anchor=\"middle\" x=\"2024\" y=\"-344.8\" font-family=\"Times,serif\" font-size=\"14.00\">grad 0.0000</text>\n</g>\n<!-- 139475927996336&#45;&gt;139475927996288tanh -->\n<g id=\"edge192\" class=\"edge\">\n<title>139475927996336&#45;&gt;139475927996288tanh</title>\n<path fill=\"none\" stroke=\"black\" d=\"M2065.05,-348.5C2074.06,-348.5 2082.79,-348.5 2090.7,-348.5\"/>\n<polygon fill=\"black\" stroke=\"black\" points=\"2090.95,-352 2100.95,-348.5 2090.95,-345 2090.95,-352\"/>\n</g>\n<!-- 139475927996336+&#45;&gt;139475927996336 -->\n<g id=\"edge61\" class=\"edge\">\n<title>139475927996336+&#45;&gt;139475927996336</title>\n<path fill=\"none\" stroke=\"black\" d=\"M1842.21,-348.5C1849.73,-348.5 1858.43,-348.5 1867.67,-348.5\"/>\n<polygon fill=\"black\" stroke=\"black\" points=\"1867.89,-352 1877.89,-348.5 1867.89,-345 1867.89,-352\"/>\n</g>\n<!-- 139475927775168 -->\n<g id=\"node162\" class=\"node\">\n<title>139475927775168</title>\n<polygon fill=\"none\" stroke=\"black\" points=\"2193.5,-275.5 2193.5,-311.5 2375.5,-311.5 2375.5,-275.5 2193.5,-275.5\"/>\n<text text-anchor=\"middle\" x=\"2203.5\" y=\"-289.8\" font-family=\"Times,serif\" font-size=\"14.00\"> </text>\n<polyline fill=\"none\" stroke=\"black\" points=\"2213.5,-275.5 2213.5,-311.5 \"/>\n<text text-anchor=\"middle\" x=\"2253.5\" y=\"-289.8\" font-family=\"Times,serif\" font-size=\"14.00\">data 0.7639</text>\n<polyline fill=\"none\" stroke=\"black\" points=\"2293.5,-275.5 2293.5,-311.5 \"/>\n<text text-anchor=\"middle\" x=\"2334.5\" y=\"-289.8\" font-family=\"Times,serif\" font-size=\"14.00\">grad 0.0000</text>\n</g>\n<!-- 139475927775168&#45;&gt;139475928000656* -->\n<g id=\"edge232\" class=\"edge\">\n<title>139475927775168&#45;&gt;139475928000656*</title>\n<path fill=\"none\" stroke=\"black\" d=\"M2375.82,-293.5C2385.57,-293.5 2395.04,-293.5 2403.57,-293.5\"/>\n<polygon fill=\"black\" stroke=\"black\" points=\"2403.83,-297 2413.83,-293.5 2403.83,-290 2403.83,-297\"/>\n</g>\n<!-- 139475928004592 -->\n<g id=\"node163\" class=\"node\">\n<title>139475928004592</title>\n<polygon fill=\"none\" stroke=\"black\" points=\"2819.5,-770.5 2819.5,-806.5 3001.5,-806.5 3001.5,-770.5 2819.5,-770.5\"/>\n<text text-anchor=\"middle\" x=\"2829.5\" y=\"-784.8\" font-family=\"Times,serif\" font-size=\"14.00\"> </text>\n<polyline fill=\"none\" stroke=\"black\" points=\"2839.5,-770.5 2839.5,-806.5 \"/>\n<text text-anchor=\"middle\" x=\"2879.5\" y=\"-784.8\" font-family=\"Times,serif\" font-size=\"14.00\">data 0.0857</text>\n<polyline fill=\"none\" stroke=\"black\" points=\"2919.5,-770.5 2919.5,-806.5 \"/>\n<text text-anchor=\"middle\" x=\"2960.5\" y=\"-784.8\" font-family=\"Times,serif\" font-size=\"14.00\">grad 0.0000</text>\n</g>\n<!-- 139475928004592&#45;&gt;139475928116688* -->\n<g id=\"edge224\" class=\"edge\">\n<title>139475928004592&#45;&gt;139475928116688*</title>\n<path fill=\"none\" stroke=\"black\" d=\"M2973.94,-806.57C2984.04,-809.73 2994.35,-813.1 3004,-816.5 3014.02,-820.03 3024.79,-824.23 3034.51,-828.17\"/>\n<polygon fill=\"black\" stroke=\"black\" points=\"3033.22,-831.42 3043.8,-831.99 3035.88,-824.95 3033.22,-831.42\"/>\n</g>\n<!-- 139475928004592&#45;&gt;139475928118656* -->\n<g id=\"edge132\" class=\"edge\">\n<title>139475928004592&#45;&gt;139475928118656*</title>\n<path fill=\"none\" stroke=\"black\" d=\"M2993.73,-770.27C2997.46,-767.71 3000.92,-764.8 3004,-761.5 3055.21,-706.62 3005.23,-663.02 3040,-596.5 3041.05,-594.49 3042.28,-592.52 3043.63,-590.62\"/>\n<polygon fill=\"black\" stroke=\"black\" points=\"3046.44,-592.71 3050.06,-582.75 3041.02,-588.28 3046.44,-592.71\"/>\n</g>\n<!-- 139475928004592&#45;&gt;139479133468032* -->\n<g id=\"edge157\" class=\"edge\">\n<title>139475928004592&#45;&gt;139479133468032*</title>\n<path fill=\"none\" stroke=\"black\" d=\"M2991.19,-770.48C2995.77,-767.88 3000.09,-764.91 3004,-761.5 3021.44,-746.31 3044.23,-686.71 3056.75,-650.99\"/>\n<polygon fill=\"black\" stroke=\"black\" points=\"3060.19,-651.77 3060.15,-641.18 3053.57,-649.48 3060.19,-651.77\"/>\n</g>\n<!-- 139475928004592&#45;&gt;139475928005360* -->\n<g id=\"edge96\" class=\"edge\">\n<title>139475928004592&#45;&gt;139475928005360*</title>\n<path fill=\"none\" stroke=\"black\" d=\"M3001.82,-787.92C3011.57,-787.85 3021.04,-787.79 3029.57,-787.74\"/>\n<polygon fill=\"black\" stroke=\"black\" points=\"3029.85,-791.23 3039.83,-787.67 3029.81,-784.23 3029.85,-791.23\"/>\n</g>\n<!-- 139475928004592tanh&#45;&gt;139475928004592 -->\n<g id=\"edge62\" class=\"edge\">\n<title>139475928004592tanh&#45;&gt;139475928004592</title>\n<path fill=\"none\" stroke=\"black\" d=\"M2780.51,-811.04C2788.83,-809.59 2798.62,-807.88 2809.03,-806.06\"/>\n<polygon fill=\"black\" stroke=\"black\" points=\"2809.93,-809.45 2819.18,-804.28 2808.73,-802.56 2809.93,-809.45\"/>\n</g>\n<!-- 139475927775312 -->\n<g id=\"node165\" class=\"node\">\n<title>139475927775312</title>\n<polygon fill=\"none\" stroke=\"black\" points=\"3445.5,-641.5 3445.5,-677.5 3627.5,-677.5 3627.5,-641.5 3445.5,-641.5\"/>\n<text text-anchor=\"middle\" x=\"3455.5\" y=\"-655.8\" font-family=\"Times,serif\" font-size=\"14.00\"> </text>\n<polyline fill=\"none\" stroke=\"black\" points=\"3465.5,-641.5 3465.5,-677.5 \"/>\n<text text-anchor=\"middle\" x=\"3505.5\" y=\"-655.8\" font-family=\"Times,serif\" font-size=\"14.00\">data 0.2920</text>\n<polyline fill=\"none\" stroke=\"black\" points=\"3545.5,-641.5 3545.5,-677.5 \"/>\n<text text-anchor=\"middle\" x=\"3586.5\" y=\"-655.8\" font-family=\"Times,serif\" font-size=\"14.00\">grad 0.0000</text>\n</g>\n<!-- 139475928005504+ -->\n<g id=\"node198\" class=\"node\">\n<title>139475928005504+</title>\n<ellipse fill=\"none\" stroke=\"black\" cx=\"3693\" cy=\"-634.5\" rx=\"27\" ry=\"18\"/>\n<text text-anchor=\"middle\" x=\"3693\" y=\"-630.8\" font-family=\"Times,serif\" font-size=\"14.00\">+</text>\n</g>\n<!-- 139475927775312&#45;&gt;139475928005504+ -->\n<g id=\"edge174\" class=\"edge\">\n<title>139475927775312&#45;&gt;139475928005504+</title>\n<path fill=\"none\" stroke=\"black\" d=\"M3627.82,-644.89C3637.87,-643.26 3647.61,-641.68 3656.34,-640.27\"/>\n<polygon fill=\"black\" stroke=\"black\" points=\"3657.13,-643.69 3666.45,-638.64 3656.01,-636.78 3657.13,-643.69\"/>\n</g>\n<!-- 139475927775360 -->\n<g id=\"node166\" class=\"node\">\n<title>139475927775360</title>\n<polygon fill=\"none\" stroke=\"black\" points=\"313,-462.5 313,-498.5 500,-498.5 500,-462.5 313,-462.5\"/>\n<text text-anchor=\"middle\" x=\"323\" y=\"-476.8\" font-family=\"Times,serif\" font-size=\"14.00\"> </text>\n<polyline fill=\"none\" stroke=\"black\" points=\"333,-462.5 333,-498.5 \"/>\n<text text-anchor=\"middle\" x=\"375.5\" y=\"-476.8\" font-family=\"Times,serif\" font-size=\"14.00\">data &#45;0.9267</text>\n<polyline fill=\"none\" stroke=\"black\" points=\"418,-462.5 418,-498.5 \"/>\n<text text-anchor=\"middle\" x=\"459\" y=\"-476.8\" font-family=\"Times,serif\" font-size=\"14.00\">grad 0.0000</text>\n</g>\n<!-- 139475927775360&#45;&gt;139475927994704* -->\n<g id=\"edge123\" class=\"edge\">\n<title>139475927775360&#45;&gt;139475927994704*</title>\n<path fill=\"none\" stroke=\"black\" d=\"M500.05,-497.27C509.54,-498.99 518.71,-500.65 526.95,-502.15\"/>\n<polygon fill=\"black\" stroke=\"black\" points=\"526.39,-505.6 536.85,-503.94 527.64,-498.72 526.39,-505.6\"/>\n</g>\n<!-- 139475928119424 -->\n<g id=\"node167\" class=\"node\">\n<title>139475928119424</title>\n<polygon fill=\"none\" stroke=\"black\" points=\"4382,-575.5 4382,-611.5 4569,-611.5 4569,-575.5 4382,-575.5\"/>\n<text text-anchor=\"middle\" x=\"4392\" y=\"-589.8\" font-family=\"Times,serif\" font-size=\"14.00\"> </text>\n<polyline fill=\"none\" stroke=\"black\" points=\"4402,-575.5 4402,-611.5 \"/>\n<text text-anchor=\"middle\" x=\"4444.5\" y=\"-589.8\" font-family=\"Times,serif\" font-size=\"14.00\">data &#45;0.0174</text>\n<polyline fill=\"none\" stroke=\"black\" points=\"4487,-575.5 4487,-611.5 \"/>\n<text text-anchor=\"middle\" x=\"4528\" y=\"-589.8\" font-family=\"Times,serif\" font-size=\"14.00\">grad 0.0000</text>\n</g>\n<!-- 139475928119664+ -->\n<g id=\"node183\" class=\"node\">\n<title>139475928119664+</title>\n<ellipse fill=\"none\" stroke=\"black\" cx=\"4696\" cy=\"-542.5\" rx=\"27\" ry=\"18\"/>\n<text text-anchor=\"middle\" x=\"4696\" y=\"-538.8\" font-family=\"Times,serif\" font-size=\"14.00\">+</text>\n</g>\n<!-- 139475928119424&#45;&gt;139475928119664+ -->\n<g id=\"edge199\" class=\"edge\">\n<title>139475928119424&#45;&gt;139475928119664+</title>\n<path fill=\"none\" stroke=\"black\" d=\"M4553.84,-575.45C4590.25,-566.95 4631.84,-557.24 4660.4,-550.58\"/>\n<polygon fill=\"black\" stroke=\"black\" points=\"4661.35,-553.95 4670.29,-548.27 4659.76,-547.13 4661.35,-553.95\"/>\n</g>\n<!-- 139475928119424* -->\n<g id=\"node168\" class=\"node\">\n<title>139475928119424*</title>\n<ellipse fill=\"none\" stroke=\"black\" cx=\"4319\" cy=\"-593.5\" rx=\"27\" ry=\"18\"/>\n<text text-anchor=\"middle\" x=\"4319\" y=\"-589.8\" font-family=\"Times,serif\" font-size=\"14.00\">*</text>\n</g>\n<!-- 139475928119424*&#45;&gt;139475928119424 -->\n<g id=\"edge63\" class=\"edge\">\n<title>139475928119424*&#45;&gt;139475928119424</title>\n<path fill=\"none\" stroke=\"black\" d=\"M4346.21,-593.5C4353.73,-593.5 4362.43,-593.5 4371.67,-593.5\"/>\n<polygon fill=\"black\" stroke=\"black\" points=\"4371.89,-597 4381.89,-593.5 4371.89,-590 4371.89,-597\"/>\n</g>\n<!-- 139475927775408 -->\n<g id=\"node169\" class=\"node\">\n<title>139475927775408</title>\n<polygon fill=\"none\" stroke=\"black\" points=\"2817,-880.5 2817,-916.5 3004,-916.5 3004,-880.5 2817,-880.5\"/>\n<text text-anchor=\"middle\" x=\"2827\" y=\"-894.8\" font-family=\"Times,serif\" font-size=\"14.00\"> </text>\n<polyline fill=\"none\" stroke=\"black\" points=\"2837,-880.5 2837,-916.5 \"/>\n<text text-anchor=\"middle\" x=\"2879.5\" y=\"-894.8\" font-family=\"Times,serif\" font-size=\"14.00\">data &#45;0.9819</text>\n<polyline fill=\"none\" stroke=\"black\" points=\"2922,-880.5 2922,-916.5 \"/>\n<text text-anchor=\"middle\" x=\"2963\" y=\"-894.8\" font-family=\"Times,serif\" font-size=\"14.00\">grad 0.0000</text>\n</g>\n<!-- 139475927775408&#45;&gt;139475928116688* -->\n<g id=\"edge237\" class=\"edge\">\n<title>139475927775408&#45;&gt;139475928116688*</title>\n<path fill=\"none\" stroke=\"black\" d=\"M2978.14,-880.5C2986.91,-877.71 2995.73,-874.68 3004,-871.5 3014.74,-867.37 3026.17,-862.1 3036.25,-857.14\"/>\n<polygon fill=\"black\" stroke=\"black\" points=\"3038.07,-860.14 3045.43,-852.52 3034.93,-853.89 3038.07,-860.14\"/>\n</g>\n<!-- 139475927767248 -->\n<g id=\"node170\" class=\"node\">\n<title>139475927767248</title>\n<polygon fill=\"none\" stroke=\"black\" points=\"2504,-495.5 2504,-531.5 2691,-531.5 2691,-495.5 2504,-495.5\"/>\n<text text-anchor=\"middle\" x=\"2514\" y=\"-509.8\" font-family=\"Times,serif\" font-size=\"14.00\"> </text>\n<polyline fill=\"none\" stroke=\"black\" points=\"2524,-495.5 2524,-531.5 \"/>\n<text text-anchor=\"middle\" x=\"2566.5\" y=\"-509.8\" font-family=\"Times,serif\" font-size=\"14.00\">data &#45;0.2999</text>\n<polyline fill=\"none\" stroke=\"black\" points=\"2609,-495.5 2609,-531.5 \"/>\n<text text-anchor=\"middle\" x=\"2650\" y=\"-509.8\" font-family=\"Times,serif\" font-size=\"14.00\">grad 0.0000</text>\n</g>\n<!-- 139475927767248&#45;&gt;139475927999504* -->\n<g id=\"edge165\" class=\"edge\">\n<title>139475927767248&#45;&gt;139475927999504*</title>\n<path fill=\"none\" stroke=\"black\" d=\"M2691.05,-513.5C2700.06,-513.5 2708.79,-513.5 2716.7,-513.5\"/>\n<polygon fill=\"black\" stroke=\"black\" points=\"2716.95,-517 2726.95,-513.5 2716.95,-510 2716.95,-517\"/>\n</g>\n<!-- 139475927775456 -->\n<g id=\"node171\" class=\"node\">\n<title>139475927775456</title>\n<polygon fill=\"none\" stroke=\"black\" points=\"2193.5,-220.5 2193.5,-256.5 2375.5,-256.5 2375.5,-220.5 2193.5,-220.5\"/>\n<text text-anchor=\"middle\" x=\"2203.5\" y=\"-234.8\" font-family=\"Times,serif\" font-size=\"14.00\"> </text>\n<polyline fill=\"none\" stroke=\"black\" points=\"2213.5,-220.5 2213.5,-256.5 \"/>\n<text text-anchor=\"middle\" x=\"2253.5\" y=\"-234.8\" font-family=\"Times,serif\" font-size=\"14.00\">data 0.7655</text>\n<polyline fill=\"none\" stroke=\"black\" points=\"2293.5,-220.5 2293.5,-256.5 \"/>\n<text text-anchor=\"middle\" x=\"2334.5\" y=\"-234.8\" font-family=\"Times,serif\" font-size=\"14.00\">grad 0.0000</text>\n</g>\n<!-- 139475927775456&#45;&gt;139475928117888* -->\n<g id=\"edge200\" class=\"edge\">\n<title>139475927775456&#45;&gt;139475928117888*</title>\n<path fill=\"none\" stroke=\"black\" d=\"M2375.82,-238.5C2385.57,-238.5 2395.04,-238.5 2403.57,-238.5\"/>\n<polygon fill=\"black\" stroke=\"black\" points=\"2403.83,-242 2413.83,-238.5 2403.83,-235 2403.83,-242\"/>\n</g>\n<!-- 139475928004832 -->\n<g id=\"node172\" class=\"node\">\n<title>139475928004832</title>\n<polygon fill=\"none\" stroke=\"black\" points=\"3443,-586.5 3443,-622.5 3630,-622.5 3630,-586.5 3443,-586.5\"/>\n<text text-anchor=\"middle\" x=\"3453\" y=\"-600.8\" font-family=\"Times,serif\" font-size=\"14.00\"> </text>\n<polyline fill=\"none\" stroke=\"black\" points=\"3463,-586.5 3463,-622.5 \"/>\n<text text-anchor=\"middle\" x=\"3505.5\" y=\"-600.8\" font-family=\"Times,serif\" font-size=\"14.00\">data &#45;0.3172</text>\n<polyline fill=\"none\" stroke=\"black\" points=\"3548,-586.5 3548,-622.5 \"/>\n<text text-anchor=\"middle\" x=\"3589\" y=\"-600.8\" font-family=\"Times,serif\" font-size=\"14.00\">grad 0.0000</text>\n</g>\n<!-- 139475928004832&#45;&gt;139475928005504+ -->\n<g id=\"edge149\" class=\"edge\">\n<title>139475928004832&#45;&gt;139475928005504+</title>\n<path fill=\"none\" stroke=\"black\" d=\"M3630.05,-622.47C3639.54,-624.31 3648.71,-626.09 3656.95,-627.69\"/>\n<polygon fill=\"black\" stroke=\"black\" points=\"3656.37,-631.15 3666.85,-629.62 3657.7,-624.27 3656.37,-631.15\"/>\n</g>\n<!-- 139475928004832+ -->\n<g id=\"node173\" class=\"node\">\n<title>139475928004832+</title>\n<ellipse fill=\"none\" stroke=\"black\" cx=\"3380\" cy=\"-604.5\" rx=\"27\" ry=\"18\"/>\n<text text-anchor=\"middle\" x=\"3380\" y=\"-600.8\" font-family=\"Times,serif\" font-size=\"14.00\">+</text>\n</g>\n<!-- 139475928004832+&#45;&gt;139475928004832 -->\n<g id=\"edge64\" class=\"edge\">\n<title>139475928004832+&#45;&gt;139475928004832</title>\n<path fill=\"none\" stroke=\"black\" d=\"M3407.21,-604.5C3414.73,-604.5 3423.43,-604.5 3432.67,-604.5\"/>\n<polygon fill=\"black\" stroke=\"black\" points=\"3432.89,-608 3442.89,-604.5 3432.89,-601 3432.89,-608\"/>\n</g>\n<!-- 139475927996672 -->\n<g id=\"node174\" class=\"node\">\n<title>139475927996672</title>\n<polygon fill=\"none\" stroke=\"black\" points=\"2504,-550.5 2504,-586.5 2691,-586.5 2691,-550.5 2504,-550.5\"/>\n<text text-anchor=\"middle\" x=\"2514\" y=\"-564.8\" font-family=\"Times,serif\" font-size=\"14.00\"> </text>\n<polyline fill=\"none\" stroke=\"black\" points=\"2524,-550.5 2524,-586.5 \"/>\n<text text-anchor=\"middle\" x=\"2566.5\" y=\"-564.8\" font-family=\"Times,serif\" font-size=\"14.00\">data &#45;0.1125</text>\n<polyline fill=\"none\" stroke=\"black\" points=\"2609,-550.5 2609,-586.5 \"/>\n<text text-anchor=\"middle\" x=\"2650\" y=\"-564.8\" font-family=\"Times,serif\" font-size=\"14.00\">grad 0.0000</text>\n</g>\n<!-- 139475927996672&#45;&gt;139475927999504* -->\n<g id=\"edge211\" class=\"edge\">\n<title>139475927996672&#45;&gt;139475927999504*</title>\n<path fill=\"none\" stroke=\"black\" d=\"M2664.56,-550.45C2673.51,-547.64 2682.53,-544.63 2691,-541.5 2701.49,-537.62 2712.71,-532.78 2722.68,-528.22\"/>\n<polygon fill=\"black\" stroke=\"black\" points=\"2724.2,-531.37 2731.79,-523.97 2721.25,-525.02 2724.2,-531.37\"/>\n</g>\n<!-- 139475927996672&#45;&gt;139475928116304* -->\n<g id=\"edge215\" class=\"edge\">\n<title>139475927996672&#45;&gt;139475928116304*</title>\n<path fill=\"none\" stroke=\"black\" d=\"M2673.64,-586.68C2679.75,-589.51 2685.63,-592.76 2691,-596.5 2711.7,-610.93 2728.44,-634.42 2739.29,-652.57\"/>\n<polygon fill=\"black\" stroke=\"black\" points=\"2736.4,-654.57 2744.41,-661.5 2742.47,-651.09 2736.4,-654.57\"/>\n</g>\n<!-- 139475927996672&#45;&gt;139475928118272* -->\n<g id=\"edge92\" class=\"edge\">\n<title>139475927996672&#45;&gt;139475928118272*</title>\n<path fill=\"none\" stroke=\"black\" d=\"M2679.51,-550.44C2683.65,-547.85 2687.52,-544.88 2691,-541.5 2692.54,-540 2727.71,-428.81 2744.38,-375.9\"/>\n<polygon fill=\"black\" stroke=\"black\" points=\"2747.79,-376.73 2747.45,-366.14 2741.11,-374.63 2747.79,-376.73\"/>\n</g>\n<!-- 139475928005120* -->\n<g id=\"node187\" class=\"node\">\n<title>139475928005120*</title>\n<ellipse fill=\"none\" stroke=\"black\" cx=\"2754\" cy=\"-568.5\" rx=\"27\" ry=\"18\"/>\n<text text-anchor=\"middle\" x=\"2754\" y=\"-564.8\" font-family=\"Times,serif\" font-size=\"14.00\">*</text>\n</g>\n<!-- 139475927996672&#45;&gt;139475928005120* -->\n<g id=\"edge94\" class=\"edge\">\n<title>139475927996672&#45;&gt;139475928005120*</title>\n<path fill=\"none\" stroke=\"black\" d=\"M2691.05,-568.5C2700.06,-568.5 2708.79,-568.5 2716.7,-568.5\"/>\n<polygon fill=\"black\" stroke=\"black\" points=\"2716.95,-572 2726.95,-568.5 2716.95,-565 2716.95,-572\"/>\n</g>\n<!-- 139475927996672tanh&#45;&gt;139475927996672 -->\n<g id=\"edge65\" class=\"edge\">\n<title>139475927996672tanh&#45;&gt;139475927996672</title>\n<path fill=\"none\" stroke=\"black\" d=\"M2468.21,-568.5C2475.73,-568.5 2484.43,-568.5 2493.67,-568.5\"/>\n<polygon fill=\"black\" stroke=\"black\" points=\"2493.89,-572 2503.89,-568.5 2493.89,-565 2493.89,-572\"/>\n</g>\n<!-- 139475927775504 -->\n<g id=\"node176\" class=\"node\">\n<title>139475927775504</title>\n<polygon fill=\"none\" stroke=\"black\" points=\"628.5,-325.5 628.5,-361.5 810.5,-361.5 810.5,-325.5 628.5,-325.5\"/>\n<text text-anchor=\"middle\" x=\"638.5\" y=\"-339.8\" font-family=\"Times,serif\" font-size=\"14.00\"> </text>\n<polyline fill=\"none\" stroke=\"black\" points=\"648.5,-325.5 648.5,-361.5 \"/>\n<text text-anchor=\"middle\" x=\"688.5\" y=\"-339.8\" font-family=\"Times,serif\" font-size=\"14.00\">data 0.6677</text>\n<polyline fill=\"none\" stroke=\"black\" points=\"728.5,-325.5 728.5,-361.5 \"/>\n<text text-anchor=\"middle\" x=\"769.5\" y=\"-339.8\" font-family=\"Times,serif\" font-size=\"14.00\">grad 0.0000</text>\n</g>\n<!-- 139475927775504&#45;&gt;139475927995376* -->\n<g id=\"edge98\" class=\"edge\">\n<title>139475927775504&#45;&gt;139475927995376*</title>\n<path fill=\"none\" stroke=\"black\" d=\"M784.02,-361.65C793.79,-364.76 803.71,-368.08 813,-371.5 823.25,-375.27 834.23,-379.86 844.07,-384.18\"/>\n<polygon fill=\"black\" stroke=\"black\" points=\"842.89,-387.49 853.45,-388.37 845.74,-381.1 842.89,-387.49\"/>\n</g>\n<!-- 139475927996720 -->\n<g id=\"node177\" class=\"node\">\n<title>139475927996720</title>\n<polygon fill=\"none\" stroke=\"black\" points=\"941.5,-715.5 941.5,-751.5 1123.5,-751.5 1123.5,-715.5 941.5,-715.5\"/>\n<text text-anchor=\"middle\" x=\"951.5\" y=\"-729.8\" font-family=\"Times,serif\" font-size=\"14.00\"> </text>\n<polyline fill=\"none\" stroke=\"black\" points=\"961.5,-715.5 961.5,-751.5 \"/>\n<text text-anchor=\"middle\" x=\"1001.5\" y=\"-729.8\" font-family=\"Times,serif\" font-size=\"14.00\">data 0.0000</text>\n<polyline fill=\"none\" stroke=\"black\" points=\"1041.5,-715.5 1041.5,-751.5 \"/>\n<text text-anchor=\"middle\" x=\"1082.5\" y=\"-729.8\" font-family=\"Times,serif\" font-size=\"14.00\">grad 0.0000</text>\n</g>\n<!-- 139475927996720&#45;&gt;139475928001040+ -->\n<g id=\"edge217\" class=\"edge\">\n<title>139475927996720&#45;&gt;139475928001040+</title>\n<path fill=\"none\" stroke=\"black\" d=\"M1123.82,-733.5C1133.57,-733.5 1143.04,-733.5 1151.57,-733.5\"/>\n<polygon fill=\"black\" stroke=\"black\" points=\"1151.83,-737 1161.83,-733.5 1151.83,-730 1151.83,-737\"/>\n</g>\n<!-- 139475927775552 -->\n<g id=\"node178\" class=\"node\">\n<title>139475927775552</title>\n<polygon fill=\"none\" stroke=\"black\" points=\"2504,-660.5 2504,-696.5 2691,-696.5 2691,-660.5 2504,-660.5\"/>\n<text text-anchor=\"middle\" x=\"2514\" y=\"-674.8\" font-family=\"Times,serif\" font-size=\"14.00\"> </text>\n<polyline fill=\"none\" stroke=\"black\" points=\"2524,-660.5 2524,-696.5 \"/>\n<text text-anchor=\"middle\" x=\"2566.5\" y=\"-674.8\" font-family=\"Times,serif\" font-size=\"14.00\">data &#45;0.0312</text>\n<polyline fill=\"none\" stroke=\"black\" points=\"2609,-660.5 2609,-696.5 \"/>\n<text text-anchor=\"middle\" x=\"2650\" y=\"-674.8\" font-family=\"Times,serif\" font-size=\"14.00\">grad 0.0000</text>\n</g>\n<!-- 139475927775552&#45;&gt;139475928116304* -->\n<g id=\"edge189\" class=\"edge\">\n<title>139475927775552&#45;&gt;139475928116304*</title>\n<path fill=\"none\" stroke=\"black\" d=\"M2691.05,-678.5C2700.06,-678.5 2708.79,-678.5 2716.7,-678.5\"/>\n<polygon fill=\"black\" stroke=\"black\" points=\"2716.95,-682 2726.95,-678.5 2716.95,-675 2716.95,-682\"/>\n</g>\n<!-- 139475928119616 -->\n<g id=\"node179\" class=\"node\">\n<title>139475928119616</title>\n<polygon fill=\"none\" stroke=\"black\" points=\"4384.5,-520.5 4384.5,-556.5 4566.5,-556.5 4566.5,-520.5 4384.5,-520.5\"/>\n<text text-anchor=\"middle\" x=\"4394.5\" y=\"-534.8\" font-family=\"Times,serif\" font-size=\"14.00\"> </text>\n<polyline fill=\"none\" stroke=\"black\" points=\"4404.5,-520.5 4404.5,-556.5 \"/>\n<text text-anchor=\"middle\" x=\"4444.5\" y=\"-534.8\" font-family=\"Times,serif\" font-size=\"14.00\">data 0.0000</text>\n<polyline fill=\"none\" stroke=\"black\" points=\"4484.5,-520.5 4484.5,-556.5 \"/>\n<text text-anchor=\"middle\" x=\"4525.5\" y=\"-534.8\" font-family=\"Times,serif\" font-size=\"14.00\">grad 0.0000</text>\n</g>\n<!-- 139475928119616&#45;&gt;139475928119664+ -->\n<g id=\"edge139\" class=\"edge\">\n<title>139475928119616&#45;&gt;139475928119664+</title>\n<path fill=\"none\" stroke=\"black\" d=\"M4566.63,-540.15C4598.93,-540.74 4633.53,-541.37 4658.66,-541.83\"/>\n<polygon fill=\"black\" stroke=\"black\" points=\"4658.75,-545.34 4668.82,-542.02 4658.88,-538.34 4658.75,-545.34\"/>\n</g>\n<!-- 139475927996768 -->\n<g id=\"node180\" class=\"node\">\n<title>139475927996768</title>\n<polygon fill=\"none\" stroke=\"black\" points=\"1565,-660.5 1565,-696.5 1752,-696.5 1752,-660.5 1565,-660.5\"/>\n<text text-anchor=\"middle\" x=\"1575\" y=\"-674.8\" font-family=\"Times,serif\" font-size=\"14.00\"> </text>\n<polyline fill=\"none\" stroke=\"black\" points=\"1585,-660.5 1585,-696.5 \"/>\n<text text-anchor=\"middle\" x=\"1627.5\" y=\"-674.8\" font-family=\"Times,serif\" font-size=\"14.00\">data &#45;0.4547</text>\n<polyline fill=\"none\" stroke=\"black\" points=\"1670,-660.5 1670,-696.5 \"/>\n<text text-anchor=\"middle\" x=\"1711\" y=\"-674.8\" font-family=\"Times,serif\" font-size=\"14.00\">grad 0.0000</text>\n</g>\n<!-- 139475927996768&#45;&gt;139475928001760+ -->\n<g id=\"edge171\" class=\"edge\">\n<title>139475927996768&#45;&gt;139475928001760+</title>\n<path fill=\"none\" stroke=\"black\" d=\"M1725.56,-660.45C1734.51,-657.64 1743.53,-654.63 1752,-651.5 1762.49,-647.62 1773.71,-642.78 1783.68,-638.22\"/>\n<polygon fill=\"black\" stroke=\"black\" points=\"1785.2,-641.37 1792.79,-633.97 1782.25,-635.02 1785.2,-641.37\"/>\n</g>\n<!-- 139475927996768+&#45;&gt;139475927996768 -->\n<g id=\"edge66\" class=\"edge\">\n<title>139475927996768+&#45;&gt;139475927996768</title>\n<path fill=\"none\" stroke=\"black\" d=\"M1529.21,-678.5C1536.73,-678.5 1545.43,-678.5 1554.67,-678.5\"/>\n<polygon fill=\"black\" stroke=\"black\" points=\"1554.89,-682 1564.89,-678.5 1554.89,-675 1554.89,-682\"/>\n</g>\n<!-- 139475928119664 -->\n<g id=\"node182\" class=\"node\">\n<title>139475928119664</title>\n<polygon fill=\"none\" stroke=\"black\" points=\"4823,-520.5 4823,-556.5 5010,-556.5 5010,-520.5 4823,-520.5\"/>\n<text text-anchor=\"middle\" x=\"4833\" y=\"-534.8\" font-family=\"Times,serif\" font-size=\"14.00\"> </text>\n<polyline fill=\"none\" stroke=\"black\" points=\"4843,-520.5 4843,-556.5 \"/>\n<text text-anchor=\"middle\" x=\"4885.5\" y=\"-534.8\" font-family=\"Times,serif\" font-size=\"14.00\">data &#45;0.0174</text>\n<polyline fill=\"none\" stroke=\"black\" points=\"4928,-520.5 4928,-556.5 \"/>\n<text text-anchor=\"middle\" x=\"4969\" y=\"-534.8\" font-family=\"Times,serif\" font-size=\"14.00\">grad 0.0000</text>\n</g>\n<!-- 139475928120048+ -->\n<g id=\"node193\" class=\"node\">\n<title>139475928120048+</title>\n<ellipse fill=\"none\" stroke=\"black\" cx=\"5073\" cy=\"-523.5\" rx=\"27\" ry=\"18\"/>\n<text text-anchor=\"middle\" x=\"5073\" y=\"-519.8\" font-family=\"Times,serif\" font-size=\"14.00\">+</text>\n</g>\n<!-- 139475928119664&#45;&gt;139475928120048+ -->\n<g id=\"edge124\" class=\"edge\">\n<title>139475928119664&#45;&gt;139475928120048+</title>\n<path fill=\"none\" stroke=\"black\" d=\"M5010.05,-529.51C5019.25,-528.62 5028.16,-527.76 5036.21,-526.98\"/>\n<polygon fill=\"black\" stroke=\"black\" points=\"5036.64,-530.45 5046.25,-526 5035.96,-523.48 5036.64,-530.45\"/>\n</g>\n<!-- 139475928119664+&#45;&gt;139475928119664 -->\n<g id=\"edge67\" class=\"edge\">\n<title>139475928119664+&#45;&gt;139475928119664</title>\n<path fill=\"none\" stroke=\"black\" d=\"M4723.36,-542.02C4745.78,-541.61 4779.51,-540.99 4812.48,-540.39\"/>\n<polygon fill=\"black\" stroke=\"black\" points=\"4812.74,-543.88 4822.67,-540.2 4812.61,-536.88 4812.74,-543.88\"/>\n</g>\n<!-- 139475927775648 -->\n<g id=\"node184\" class=\"node\">\n<title>139475927775648</title>\n<polygon fill=\"none\" stroke=\"black\" points=\"5752,-524.5 5752,-560.5 5939,-560.5 5939,-524.5 5752,-524.5\"/>\n<text text-anchor=\"middle\" x=\"5762\" y=\"-538.8\" font-family=\"Times,serif\" font-size=\"14.00\"> </text>\n<polyline fill=\"none\" stroke=\"black\" points=\"5772,-524.5 5772,-560.5 \"/>\n<text text-anchor=\"middle\" x=\"5814.5\" y=\"-538.8\" font-family=\"Times,serif\" font-size=\"14.00\">data &#45;0.4347</text>\n<polyline fill=\"none\" stroke=\"black\" points=\"5857,-524.5 5857,-560.5 \"/>\n<text text-anchor=\"middle\" x=\"5898\" y=\"-538.8\" font-family=\"Times,serif\" font-size=\"14.00\">grad 0.0000</text>\n</g>\n<!-- 139475928120912+ -->\n<g id=\"node220\" class=\"node\">\n<title>139475928120912+</title>\n<ellipse fill=\"none\" stroke=\"black\" cx=\"6002\" cy=\"-514.5\" rx=\"27\" ry=\"18\"/>\n<text text-anchor=\"middle\" x=\"6002\" y=\"-510.8\" font-family=\"Times,serif\" font-size=\"14.00\">+</text>\n</g>\n<!-- 139475927775648&#45;&gt;139475928120912+ -->\n<g id=\"edge180\" class=\"edge\">\n<title>139475927775648&#45;&gt;139475928120912+</title>\n<path fill=\"none\" stroke=\"black\" d=\"M5939.05,-525.73C5948.54,-524.01 5957.71,-522.35 5965.95,-520.85\"/>\n<polygon fill=\"black\" stroke=\"black\" points=\"5966.64,-524.28 5975.85,-519.06 5965.39,-517.4 5966.64,-524.28\"/>\n</g>\n<!-- 139475927775744 -->\n<g id=\"node185\" class=\"node\">\n<title>139475927775744</title>\n<polygon fill=\"none\" stroke=\"black\" points=\"3445.5,-289.5 3445.5,-325.5 3627.5,-325.5 3627.5,-289.5 3445.5,-289.5\"/>\n<text text-anchor=\"middle\" x=\"3455.5\" y=\"-303.8\" font-family=\"Times,serif\" font-size=\"14.00\"> </text>\n<polyline fill=\"none\" stroke=\"black\" points=\"3465.5,-289.5 3465.5,-325.5 \"/>\n<text text-anchor=\"middle\" x=\"3505.5\" y=\"-303.8\" font-family=\"Times,serif\" font-size=\"14.00\">data 0.1712</text>\n<polyline fill=\"none\" stroke=\"black\" points=\"3545.5,-289.5 3545.5,-325.5 \"/>\n<text text-anchor=\"middle\" x=\"3586.5\" y=\"-303.8\" font-family=\"Times,serif\" font-size=\"14.00\">grad 0.0000</text>\n</g>\n<!-- 139475927775744&#45;&gt;139475928118944+ -->\n<g id=\"edge93\" class=\"edge\">\n<title>139475927775744&#45;&gt;139475928118944+</title>\n<path fill=\"none\" stroke=\"black\" d=\"M3599.41,-325.53C3609.67,-328.72 3620.16,-332.11 3630,-335.5 3639.8,-338.87 3650.35,-342.84 3659.93,-346.56\"/>\n<polygon fill=\"black\" stroke=\"black\" points=\"3658.89,-349.91 3669.48,-350.31 3661.45,-343.39 3658.89,-349.91\"/>\n</g>\n<!-- 139475928005120 -->\n<g id=\"node186\" class=\"node\">\n<title>139475928005120</title>\n<polygon fill=\"none\" stroke=\"black\" points=\"2819.5,-495.5 2819.5,-531.5 3001.5,-531.5 3001.5,-495.5 2819.5,-495.5\"/>\n<text text-anchor=\"middle\" x=\"2829.5\" y=\"-509.8\" font-family=\"Times,serif\" font-size=\"14.00\"> </text>\n<polyline fill=\"none\" stroke=\"black\" points=\"2839.5,-495.5 2839.5,-531.5 \"/>\n<text text-anchor=\"middle\" x=\"2879.5\" y=\"-509.8\" font-family=\"Times,serif\" font-size=\"14.00\">data 0.0362</text>\n<polyline fill=\"none\" stroke=\"black\" points=\"2919.5,-495.5 2919.5,-531.5 \"/>\n<text text-anchor=\"middle\" x=\"2960.5\" y=\"-509.8\" font-family=\"Times,serif\" font-size=\"14.00\">grad 0.0000</text>\n</g>\n<!-- 139475928005120&#45;&gt;139475928005168+ -->\n<g id=\"edge210\" class=\"edge\">\n<title>139475928005120&#45;&gt;139475928005168+</title>\n<path fill=\"none\" stroke=\"black\" d=\"M3001.82,-513.5C3011.57,-513.5 3021.04,-513.5 3029.57,-513.5\"/>\n<polygon fill=\"black\" stroke=\"black\" points=\"3029.83,-517 3039.83,-513.5 3029.83,-510 3029.83,-517\"/>\n</g>\n<!-- 139475928005120*&#45;&gt;139475928005120 -->\n<g id=\"edge68\" class=\"edge\">\n<title>139475928005120*&#45;&gt;139475928005120</title>\n<path fill=\"none\" stroke=\"black\" d=\"M2776.55,-558.37C2788.36,-553.02 2803.34,-546.52 2817,-541.5 2823.24,-539.2 2829.77,-536.95 2836.34,-534.78\"/>\n<polygon fill=\"black\" stroke=\"black\" points=\"2837.55,-538.07 2845.98,-531.65 2835.39,-531.41 2837.55,-538.07\"/>\n</g>\n<!-- 139475928119856 -->\n<g id=\"node188\" class=\"node\">\n<title>139475928119856</title>\n<polygon fill=\"none\" stroke=\"black\" points=\"4605,-469.5 4605,-505.5 4787,-505.5 4787,-469.5 4605,-469.5\"/>\n<text text-anchor=\"middle\" x=\"4615\" y=\"-483.8\" font-family=\"Times,serif\" font-size=\"14.00\"> </text>\n<polyline fill=\"none\" stroke=\"black\" points=\"4625,-469.5 4625,-505.5 \"/>\n<text text-anchor=\"middle\" x=\"4665\" y=\"-483.8\" font-family=\"Times,serif\" font-size=\"14.00\">data 0.2751</text>\n<polyline fill=\"none\" stroke=\"black\" points=\"4705,-469.5 4705,-505.5 \"/>\n<text text-anchor=\"middle\" x=\"4746\" y=\"-483.8\" font-family=\"Times,serif\" font-size=\"14.00\">grad 0.0000</text>\n</g>\n<!-- 139475928119856&#45;&gt;139475928120048+ -->\n<g id=\"edge230\" class=\"edge\">\n<title>139475928119856&#45;&gt;139475928120048+</title>\n<path fill=\"none\" stroke=\"black\" d=\"M4787.01,-491.66C4849.72,-495.23 4935.19,-501.43 5010,-511.5 5018.82,-512.69 5028.29,-514.33 5037.1,-516.02\"/>\n<polygon fill=\"black\" stroke=\"black\" points=\"5036.58,-519.48 5047.07,-518 5037.94,-512.62 5036.58,-519.48\"/>\n</g>\n<!-- 139475928119856*&#45;&gt;139475928119856 -->\n<g id=\"edge69\" class=\"edge\">\n<title>139475928119856*&#45;&gt;139475928119856</title>\n<path fill=\"none\" stroke=\"black\" d=\"M4346.07,-487.5C4396.67,-487.5 4510.57,-487.5 4594.54,-487.5\"/>\n<polygon fill=\"black\" stroke=\"black\" points=\"4594.63,-491 4604.63,-487.5 4594.63,-484 4594.63,-491\"/>\n</g>\n<!-- 139475928005168 -->\n<g id=\"node190\" class=\"node\">\n<title>139475928005168</title>\n<polygon fill=\"none\" stroke=\"black\" points=\"3130,-495.5 3130,-531.5 3317,-531.5 3317,-495.5 3130,-495.5\"/>\n<text text-anchor=\"middle\" x=\"3140\" y=\"-509.8\" font-family=\"Times,serif\" font-size=\"14.00\"> </text>\n<polyline fill=\"none\" stroke=\"black\" points=\"3150,-495.5 3150,-531.5 \"/>\n<text text-anchor=\"middle\" x=\"3192.5\" y=\"-509.8\" font-family=\"Times,serif\" font-size=\"14.00\">data &#45;0.2381</text>\n<polyline fill=\"none\" stroke=\"black\" points=\"3235,-495.5 3235,-531.5 \"/>\n<text text-anchor=\"middle\" x=\"3276\" y=\"-509.8\" font-family=\"Times,serif\" font-size=\"14.00\">grad 0.0000</text>\n</g>\n<!-- 139475928005168&#45;&gt;139475928004832+ -->\n<g id=\"edge158\" class=\"edge\">\n<title>139475928005168&#45;&gt;139475928004832+</title>\n<path fill=\"none\" stroke=\"black\" d=\"M3297.22,-531.64C3304.12,-534.5 3310.83,-537.77 3317,-541.5 3321.87,-544.44 3341.9,-565.12 3357.89,-581.99\"/>\n<polygon fill=\"black\" stroke=\"black\" points=\"3355.48,-584.53 3364.89,-589.4 3360.57,-579.72 3355.48,-584.53\"/>\n</g>\n<!-- 139475928005168+&#45;&gt;139475928005168 -->\n<g id=\"edge70\" class=\"edge\">\n<title>139475928005168+&#45;&gt;139475928005168</title>\n<path fill=\"none\" stroke=\"black\" d=\"M3094.21,-513.5C3101.73,-513.5 3110.43,-513.5 3119.67,-513.5\"/>\n<polygon fill=\"black\" stroke=\"black\" points=\"3119.89,-517 3129.89,-513.5 3119.89,-510 3119.89,-517\"/>\n</g>\n<!-- 139475928120048 -->\n<g id=\"node192\" class=\"node\">\n<title>139475928120048</title>\n<polygon fill=\"none\" stroke=\"black\" points=\"5136,-505.5 5136,-541.5 5318,-541.5 5318,-505.5 5136,-505.5\"/>\n<text text-anchor=\"middle\" x=\"5146\" y=\"-519.8\" font-family=\"Times,serif\" font-size=\"14.00\"> </text>\n<polyline fill=\"none\" stroke=\"black\" points=\"5156,-505.5 5156,-541.5 \"/>\n<text text-anchor=\"middle\" x=\"5196\" y=\"-519.8\" font-family=\"Times,serif\" font-size=\"14.00\">data 0.2577</text>\n<polyline fill=\"none\" stroke=\"black\" points=\"5236,-505.5 5236,-541.5 \"/>\n<text text-anchor=\"middle\" x=\"5277\" y=\"-519.8\" font-family=\"Times,serif\" font-size=\"14.00\">grad 0.0000</text>\n</g>\n<!-- 139475928120432+ -->\n<g id=\"node204\" class=\"node\">\n<title>139475928120432+</title>\n<ellipse fill=\"none\" stroke=\"black\" cx=\"5381\" cy=\"-523.5\" rx=\"27\" ry=\"18\"/>\n<text text-anchor=\"middle\" x=\"5381\" y=\"-519.8\" font-family=\"Times,serif\" font-size=\"14.00\">+</text>\n</g>\n<!-- 139475928120048&#45;&gt;139475928120432+ -->\n<g id=\"edge212\" class=\"edge\">\n<title>139475928120048&#45;&gt;139475928120432+</title>\n<path fill=\"none\" stroke=\"black\" d=\"M5318.18,-523.5C5327.14,-523.5 5335.83,-523.5 5343.73,-523.5\"/>\n<polygon fill=\"black\" stroke=\"black\" points=\"5343.96,-527 5353.96,-523.5 5343.96,-520 5343.96,-527\"/>\n</g>\n<!-- 139475928120048+&#45;&gt;139475928120048 -->\n<g id=\"edge71\" class=\"edge\">\n<title>139475928120048+&#45;&gt;139475928120048</title>\n<path fill=\"none\" stroke=\"black\" d=\"M5100.13,-523.5C5107.67,-523.5 5116.39,-523.5 5125.64,-523.5\"/>\n<polygon fill=\"black\" stroke=\"black\" points=\"5125.87,-527 5135.87,-523.5 5125.87,-520 5125.87,-527\"/>\n</g>\n<!-- 139475928005360 -->\n<g id=\"node194\" class=\"node\">\n<title>139475928005360</title>\n<polygon fill=\"none\" stroke=\"black\" points=\"3130,-660.5 3130,-696.5 3317,-696.5 3317,-660.5 3130,-660.5\"/>\n<text text-anchor=\"middle\" x=\"3140\" y=\"-674.8\" font-family=\"Times,serif\" font-size=\"14.00\"> </text>\n<polyline fill=\"none\" stroke=\"black\" points=\"3150,-660.5 3150,-696.5 \"/>\n<text text-anchor=\"middle\" x=\"3192.5\" y=\"-674.8\" font-family=\"Times,serif\" font-size=\"14.00\">data &#45;0.0791</text>\n<polyline fill=\"none\" stroke=\"black\" points=\"3235,-660.5 3235,-696.5 \"/>\n<text text-anchor=\"middle\" x=\"3276\" y=\"-674.8\" font-family=\"Times,serif\" font-size=\"14.00\">grad 0.0000</text>\n</g>\n<!-- 139475928005360&#45;&gt;139475928004832+ -->\n<g id=\"edge100\" class=\"edge\">\n<title>139475928005360&#45;&gt;139475928004832+</title>\n<path fill=\"none\" stroke=\"black\" d=\"M3296.21,-660.43C3303.38,-657.78 3310.43,-654.81 3317,-651.5 3330.75,-644.58 3344.54,-634.51 3355.62,-625.46\"/>\n<polygon fill=\"black\" stroke=\"black\" points=\"3358.12,-627.93 3363.51,-618.81 3353.61,-622.58 3358.12,-627.93\"/>\n</g>\n<!-- 139475928005360*&#45;&gt;139475928005360 -->\n<g id=\"edge72\" class=\"edge\">\n<title>139475928005360*&#45;&gt;139475928005360</title>\n<path fill=\"none\" stroke=\"black\" d=\"M3083.07,-772.8C3086.79,-768.92 3090.66,-764.66 3094,-760.5 3112.08,-738.02 3106.84,-723.69 3130,-706.5 3132.48,-704.66 3135.08,-702.94 3137.77,-701.33\"/>\n<polygon fill=\"black\" stroke=\"black\" points=\"3139.49,-704.38 3146.65,-696.57 3136.18,-698.21 3139.49,-704.38\"/>\n</g>\n<!-- 139475927776080 -->\n<g id=\"node196\" class=\"node\">\n<title>139475927776080</title>\n<polygon fill=\"none\" stroke=\"black\" points=\"3445.5,-476.5 3445.5,-512.5 3627.5,-512.5 3627.5,-476.5 3445.5,-476.5\"/>\n<text text-anchor=\"middle\" x=\"3455.5\" y=\"-490.8\" font-family=\"Times,serif\" font-size=\"14.00\"> </text>\n<polyline fill=\"none\" stroke=\"black\" points=\"3465.5,-476.5 3465.5,-512.5 \"/>\n<text text-anchor=\"middle\" x=\"3505.5\" y=\"-490.8\" font-family=\"Times,serif\" font-size=\"14.00\">data 0.2450</text>\n<polyline fill=\"none\" stroke=\"black\" points=\"3545.5,-476.5 3545.5,-512.5 \"/>\n<text text-anchor=\"middle\" x=\"3586.5\" y=\"-490.8\" font-family=\"Times,serif\" font-size=\"14.00\">grad 0.0000</text>\n</g>\n<!-- 139475927776080&#45;&gt;139475928115152+ -->\n<g id=\"edge206\" class=\"edge\">\n<title>139475927776080&#45;&gt;139475928115152+</title>\n<path fill=\"none\" stroke=\"black\" d=\"M3627.82,-512.04C3638.07,-514.03 3648.01,-515.96 3656.88,-517.68\"/>\n<polygon fill=\"black\" stroke=\"black\" points=\"3656.27,-521.13 3666.75,-519.6 3657.6,-514.26 3656.27,-521.13\"/>\n</g>\n<!-- 139475928005504 -->\n<g id=\"node197\" class=\"node\">\n<title>139475928005504</title>\n<polygon fill=\"none\" stroke=\"black\" points=\"3756,-616.5 3756,-652.5 3943,-652.5 3943,-616.5 3756,-616.5\"/>\n<text text-anchor=\"middle\" x=\"3766\" y=\"-630.8\" font-family=\"Times,serif\" font-size=\"14.00\"> </text>\n<polyline fill=\"none\" stroke=\"black\" points=\"3776,-616.5 3776,-652.5 \"/>\n<text text-anchor=\"middle\" x=\"3818.5\" y=\"-630.8\" font-family=\"Times,serif\" font-size=\"14.00\">data &#45;0.0252</text>\n<polyline fill=\"none\" stroke=\"black\" points=\"3861,-616.5 3861,-652.5 \"/>\n<text text-anchor=\"middle\" x=\"3902\" y=\"-630.8\" font-family=\"Times,serif\" font-size=\"14.00\">grad 0.0000</text>\n</g>\n<!-- 139475928005744tanh -->\n<g id=\"node206\" class=\"node\">\n<title>139475928005744tanh</title>\n<ellipse fill=\"none\" stroke=\"black\" cx=\"4006\" cy=\"-634.5\" rx=\"27\" ry=\"18\"/>\n<text text-anchor=\"middle\" x=\"4006\" y=\"-630.8\" font-family=\"Times,serif\" font-size=\"14.00\">tanh</text>\n</g>\n<!-- 139475928005504&#45;&gt;139475928005744tanh -->\n<g id=\"edge185\" class=\"edge\">\n<title>139475928005504&#45;&gt;139475928005744tanh</title>\n<path fill=\"none\" stroke=\"black\" d=\"M3943.05,-634.5C3952.06,-634.5 3960.79,-634.5 3968.7,-634.5\"/>\n<polygon fill=\"black\" stroke=\"black\" points=\"3968.95,-638 3978.95,-634.5 3968.95,-631 3968.95,-638\"/>\n</g>\n<!-- 139475928005504+&#45;&gt;139475928005504 -->\n<g id=\"edge73\" class=\"edge\">\n<title>139475928005504+&#45;&gt;139475928005504</title>\n<path fill=\"none\" stroke=\"black\" d=\"M3720.21,-634.5C3727.73,-634.5 3736.43,-634.5 3745.67,-634.5\"/>\n<polygon fill=\"black\" stroke=\"black\" points=\"3745.89,-638 3755.89,-634.5 3745.89,-631 3745.89,-638\"/>\n</g>\n<!-- 139475928120240 -->\n<g id=\"node199\" class=\"node\">\n<title>139475928120240</title>\n<polygon fill=\"none\" stroke=\"black\" points=\"4605,-630.5 4605,-666.5 4787,-666.5 4787,-630.5 4605,-630.5\"/>\n<text text-anchor=\"middle\" x=\"4615\" y=\"-644.8\" font-family=\"Times,serif\" font-size=\"14.00\"> </text>\n<polyline fill=\"none\" stroke=\"black\" points=\"4625,-630.5 4625,-666.5 \"/>\n<text text-anchor=\"middle\" x=\"4665\" y=\"-644.8\" font-family=\"Times,serif\" font-size=\"14.00\">data 0.0177</text>\n<polyline fill=\"none\" stroke=\"black\" points=\"4705,-630.5 4705,-666.5 \"/>\n<text text-anchor=\"middle\" x=\"4746\" y=\"-644.8\" font-family=\"Times,serif\" font-size=\"14.00\">grad 0.0000</text>\n</g>\n<!-- 139475928120240&#45;&gt;139475928120432+ -->\n<g id=\"edge152\" class=\"edge\">\n<title>139475928120240&#45;&gt;139475928120432+</title>\n<path fill=\"none\" stroke=\"black\" d=\"M4787.11,-642.07C4909.45,-631.62 5133.94,-606.34 5318,-551.5 5328.81,-548.28 5340.18,-543.57 5350.19,-538.92\"/>\n<polygon fill=\"black\" stroke=\"black\" points=\"5351.81,-542.03 5359.31,-534.54 5348.78,-535.72 5351.81,-542.03\"/>\n</g>\n<!-- 139475928120240*&#45;&gt;139475928120240 -->\n<g id=\"edge74\" class=\"edge\">\n<title>139475928120240*&#45;&gt;139475928120240</title>\n<path fill=\"none\" stroke=\"black\" d=\"M4345.78,-686.68C4396.26,-681.16 4510.58,-668.66 4594.74,-659.46\"/>\n<polygon fill=\"black\" stroke=\"black\" points=\"4595.28,-662.92 4604.84,-658.36 4594.52,-655.96 4595.28,-662.92\"/>\n</g>\n<!-- 139475927776176 -->\n<g id=\"node201\" class=\"node\">\n<title>139475927776176</title>\n<polygon fill=\"none\" stroke=\"black\" points=\"2819.5,-605.5 2819.5,-641.5 3001.5,-641.5 3001.5,-605.5 2819.5,-605.5\"/>\n<text text-anchor=\"middle\" x=\"2829.5\" y=\"-619.8\" font-family=\"Times,serif\" font-size=\"14.00\"> </text>\n<polyline fill=\"none\" stroke=\"black\" points=\"2839.5,-605.5 2839.5,-641.5 \"/>\n<text text-anchor=\"middle\" x=\"2879.5\" y=\"-619.8\" font-family=\"Times,serif\" font-size=\"14.00\">data 0.9815</text>\n<polyline fill=\"none\" stroke=\"black\" points=\"2919.5,-605.5 2919.5,-641.5 \"/>\n<text text-anchor=\"middle\" x=\"2960.5\" y=\"-619.8\" font-family=\"Times,serif\" font-size=\"14.00\">grad 0.0000</text>\n</g>\n<!-- 139475927776176&#45;&gt;139479133468032* -->\n<g id=\"edge138\" class=\"edge\">\n<title>139475927776176&#45;&gt;139479133468032*</title>\n<path fill=\"none\" stroke=\"black\" d=\"M3001.82,-623.5C3011.57,-623.5 3021.04,-623.5 3029.57,-623.5\"/>\n<polygon fill=\"black\" stroke=\"black\" points=\"3029.83,-627 3039.83,-623.5 3029.83,-620 3029.83,-627\"/>\n</g>\n<!-- 139475927776272 -->\n<g id=\"node202\" class=\"node\">\n<title>139475927776272</title>\n<polygon fill=\"none\" stroke=\"black\" points=\"1880.5,-172.5 1880.5,-208.5 2062.5,-208.5 2062.5,-172.5 1880.5,-172.5\"/>\n<text text-anchor=\"middle\" x=\"1890.5\" y=\"-186.8\" font-family=\"Times,serif\" font-size=\"14.00\"> </text>\n<polyline fill=\"none\" stroke=\"black\" points=\"1900.5,-172.5 1900.5,-208.5 \"/>\n<text text-anchor=\"middle\" x=\"1940.5\" y=\"-186.8\" font-family=\"Times,serif\" font-size=\"14.00\">data 0.0013</text>\n<polyline fill=\"none\" stroke=\"black\" points=\"1980.5,-172.5 1980.5,-208.5 \"/>\n<text text-anchor=\"middle\" x=\"2021.5\" y=\"-186.8\" font-family=\"Times,serif\" font-size=\"14.00\">grad 0.0000</text>\n</g>\n<!-- 139475927776272&#45;&gt;139475928000992* -->\n<g id=\"edge222\" class=\"edge\">\n<title>139475927776272&#45;&gt;139475928000992*</title>\n<path fill=\"none\" stroke=\"black\" d=\"M2062.82,-190.5C2072.57,-190.5 2082.04,-190.5 2090.57,-190.5\"/>\n<polygon fill=\"black\" stroke=\"black\" points=\"2090.83,-194 2100.83,-190.5 2090.83,-187 2090.83,-194\"/>\n</g>\n<!-- 139475928120432 -->\n<g id=\"node203\" class=\"node\">\n<title>139475928120432</title>\n<polygon fill=\"none\" stroke=\"black\" points=\"5444,-499.5 5444,-535.5 5626,-535.5 5626,-499.5 5444,-499.5\"/>\n<text text-anchor=\"middle\" x=\"5454\" y=\"-513.8\" font-family=\"Times,serif\" font-size=\"14.00\"> </text>\n<polyline fill=\"none\" stroke=\"black\" points=\"5464,-499.5 5464,-535.5 \"/>\n<text text-anchor=\"middle\" x=\"5504\" y=\"-513.8\" font-family=\"Times,serif\" font-size=\"14.00\">data 0.2754</text>\n<polyline fill=\"none\" stroke=\"black\" points=\"5544,-499.5 5544,-535.5 \"/>\n<text text-anchor=\"middle\" x=\"5585\" y=\"-513.8\" font-family=\"Times,serif\" font-size=\"14.00\">grad 0.0000</text>\n</g>\n<!-- 139475928120816+ -->\n<g id=\"node217\" class=\"node\">\n<title>139475928120816+</title>\n<ellipse fill=\"none\" stroke=\"black\" cx=\"5689\" cy=\"-487.5\" rx=\"27\" ry=\"18\"/>\n<text text-anchor=\"middle\" x=\"5689\" y=\"-483.8\" font-family=\"Times,serif\" font-size=\"14.00\">+</text>\n</g>\n<!-- 139475928120432&#45;&gt;139475928120816+ -->\n<g id=\"edge226\" class=\"edge\">\n<title>139475928120432&#45;&gt;139475928120816+</title>\n<path fill=\"none\" stroke=\"black\" d=\"M5626.18,-499.7C5635.61,-497.84 5644.75,-496.04 5652.98,-494.41\"/>\n<polygon fill=\"black\" stroke=\"black\" points=\"5653.72,-497.83 5662.86,-492.46 5652.37,-490.96 5653.72,-497.83\"/>\n</g>\n<!-- 139475928120432+&#45;&gt;139475928120432 -->\n<g id=\"edge75\" class=\"edge\">\n<title>139475928120432+&#45;&gt;139475928120432</title>\n<path fill=\"none\" stroke=\"black\" d=\"M5408.13,-522.47C5415.67,-522.17 5424.39,-521.83 5433.64,-521.46\"/>\n<polygon fill=\"black\" stroke=\"black\" points=\"5434.01,-524.95 5443.87,-521.06 5433.74,-517.96 5434.01,-524.95\"/>\n</g>\n<!-- 139475928005744 -->\n<g id=\"node205\" class=\"node\">\n<title>139475928005744</title>\n<polygon fill=\"none\" stroke=\"black\" points=\"4069,-616.5 4069,-652.5 4256,-652.5 4256,-616.5 4069,-616.5\"/>\n<text text-anchor=\"middle\" x=\"4079\" y=\"-630.8\" font-family=\"Times,serif\" font-size=\"14.00\"> </text>\n<polyline fill=\"none\" stroke=\"black\" points=\"4089,-616.5 4089,-652.5 \"/>\n<text text-anchor=\"middle\" x=\"4131.5\" y=\"-630.8\" font-family=\"Times,serif\" font-size=\"14.00\">data &#45;0.0252</text>\n<polyline fill=\"none\" stroke=\"black\" points=\"4174,-616.5 4174,-652.5 \"/>\n<text text-anchor=\"middle\" x=\"4215\" y=\"-630.8\" font-family=\"Times,serif\" font-size=\"14.00\">grad 0.0000</text>\n</g>\n<!-- 139475928005744&#45;&gt;139475928119424* -->\n<g id=\"edge88\" class=\"edge\">\n<title>139475928005744&#45;&gt;139475928119424*</title>\n<path fill=\"none\" stroke=\"black\" d=\"M4231.72,-616.4C4249.71,-611.62 4268.37,-606.67 4283.71,-602.6\"/>\n<polygon fill=\"black\" stroke=\"black\" points=\"4284.99,-605.88 4293.76,-599.93 4283.2,-599.12 4284.99,-605.88\"/>\n</g>\n<!-- 139475928005744tanh&#45;&gt;139475928005744 -->\n<g id=\"edge76\" class=\"edge\">\n<title>139475928005744tanh&#45;&gt;139475928005744</title>\n<path fill=\"none\" stroke=\"black\" d=\"M4033.21,-634.5C4040.73,-634.5 4049.43,-634.5 4058.67,-634.5\"/>\n<polygon fill=\"black\" stroke=\"black\" points=\"4058.89,-638 4068.89,-634.5 4058.89,-631 4058.89,-638\"/>\n</g>\n<!-- 139475927776464 -->\n<g id=\"node207\" class=\"node\">\n<title>139475927776464</title>\n<polygon fill=\"none\" stroke=\"black\" points=\"4071.5,-561.5 4071.5,-597.5 4253.5,-597.5 4253.5,-561.5 4071.5,-561.5\"/>\n<text text-anchor=\"middle\" x=\"4081.5\" y=\"-575.8\" font-family=\"Times,serif\" font-size=\"14.00\"> </text>\n<polyline fill=\"none\" stroke=\"black\" points=\"4091.5,-561.5 4091.5,-597.5 \"/>\n<text text-anchor=\"middle\" x=\"4131.5\" y=\"-575.8\" font-family=\"Times,serif\" font-size=\"14.00\">data 0.6920</text>\n<polyline fill=\"none\" stroke=\"black\" points=\"4171.5,-561.5 4171.5,-597.5 \"/>\n<text text-anchor=\"middle\" x=\"4212.5\" y=\"-575.8\" font-family=\"Times,serif\" font-size=\"14.00\">grad 0.0000</text>\n</g>\n<!-- 139475927776464&#45;&gt;139475928119424* -->\n<g id=\"edge161\" class=\"edge\">\n<title>139475927776464&#45;&gt;139475928119424*</title>\n<path fill=\"none\" stroke=\"black\" d=\"M4253.82,-587.68C4263.77,-588.59 4273.43,-589.46 4282.1,-590.25\"/>\n<polygon fill=\"black\" stroke=\"black\" points=\"4281.86,-593.74 4292.14,-591.16 4282.49,-586.77 4281.86,-593.74\"/>\n</g>\n<!-- 139475927768304 -->\n<g id=\"node208\" class=\"node\">\n<title>139475927768304</title>\n<polygon fill=\"none\" stroke=\"black\" points=\"1252,-935.5 1252,-971.5 1439,-971.5 1439,-935.5 1252,-935.5\"/>\n<text text-anchor=\"middle\" x=\"1262\" y=\"-949.8\" font-family=\"Times,serif\" font-size=\"14.00\"> </text>\n<polyline fill=\"none\" stroke=\"black\" points=\"1272,-935.5 1272,-971.5 \"/>\n<text text-anchor=\"middle\" x=\"1314.5\" y=\"-949.8\" font-family=\"Times,serif\" font-size=\"14.00\">data &#45;0.1912</text>\n<polyline fill=\"none\" stroke=\"black\" points=\"1357,-935.5 1357,-971.5 \"/>\n<text text-anchor=\"middle\" x=\"1398\" y=\"-949.8\" font-family=\"Times,serif\" font-size=\"14.00\">grad 0.0000</text>\n</g>\n<!-- 139475927768304&#45;&gt;139475928002768* -->\n<g id=\"edge134\" class=\"edge\">\n<title>139475927768304&#45;&gt;139475928002768*</title>\n<path fill=\"none\" stroke=\"black\" d=\"M1439.05,-953.5C1448.06,-953.5 1456.79,-953.5 1464.7,-953.5\"/>\n<polygon fill=\"black\" stroke=\"black\" points=\"1464.95,-957 1474.95,-953.5 1464.95,-950 1464.95,-957\"/>\n</g>\n<!-- 139475927776512 -->\n<g id=\"node209\" class=\"node\">\n<title>139475927776512</title>\n<polygon fill=\"none\" stroke=\"black\" points=\"1567.5,-825.5 1567.5,-861.5 1749.5,-861.5 1749.5,-825.5 1567.5,-825.5\"/>\n<text text-anchor=\"middle\" x=\"1577.5\" y=\"-839.8\" font-family=\"Times,serif\" font-size=\"14.00\"> </text>\n<polyline fill=\"none\" stroke=\"black\" points=\"1587.5,-825.5 1587.5,-861.5 \"/>\n<text text-anchor=\"middle\" x=\"1627.5\" y=\"-839.8\" font-family=\"Times,serif\" font-size=\"14.00\">data 0.1864</text>\n<polyline fill=\"none\" stroke=\"black\" points=\"1667.5,-825.5 1667.5,-861.5 \"/>\n<text text-anchor=\"middle\" x=\"1708.5\" y=\"-839.8\" font-family=\"Times,serif\" font-size=\"14.00\">grad 0.0000</text>\n</g>\n<!-- 139475927776512&#45;&gt;139475928003488* -->\n<g id=\"edge225\" class=\"edge\">\n<title>139475927776512&#45;&gt;139475928003488*</title>\n<path fill=\"none\" stroke=\"black\" d=\"M1749.82,-843.5C1759.57,-843.5 1769.04,-843.5 1777.57,-843.5\"/>\n<polygon fill=\"black\" stroke=\"black\" points=\"1777.83,-847 1787.83,-843.5 1777.83,-840 1777.83,-847\"/>\n</g>\n<!-- 139475928005888 -->\n<g id=\"node210\" class=\"node\">\n<title>139475928005888</title>\n<polygon fill=\"none\" stroke=\"black\" points=\"2504,-165.5 2504,-201.5 2691,-201.5 2691,-165.5 2504,-165.5\"/>\n<text text-anchor=\"middle\" x=\"2514\" y=\"-179.8\" font-family=\"Times,serif\" font-size=\"14.00\"> </text>\n<polyline fill=\"none\" stroke=\"black\" points=\"2524,-165.5 2524,-201.5 \"/>\n<text text-anchor=\"middle\" x=\"2566.5\" y=\"-179.8\" font-family=\"Times,serif\" font-size=\"14.00\">data &#45;0.0006</text>\n<polyline fill=\"none\" stroke=\"black\" points=\"2609,-165.5 2609,-201.5 \"/>\n<text text-anchor=\"middle\" x=\"2650\" y=\"-179.8\" font-family=\"Times,serif\" font-size=\"14.00\">grad 0.0000</text>\n</g>\n<!-- 139475928005888&#45;&gt;139475927997824+ -->\n<g id=\"edge120\" class=\"edge\">\n<title>139475928005888&#45;&gt;139475927997824+</title>\n<path fill=\"none\" stroke=\"black\" d=\"M2674.35,-201.57C2680.24,-204.41 2685.88,-207.7 2691,-211.5 2714.16,-228.69 2709.13,-242.86 2727,-265.5 2728.4,-267.28 2729.89,-269.08 2731.42,-270.86\"/>\n<polygon fill=\"black\" stroke=\"black\" points=\"2728.96,-273.36 2738.24,-278.49 2734.18,-268.7 2728.96,-273.36\"/>\n</g>\n<!-- 139475928005888+&#45;&gt;139475928005888 -->\n<g id=\"edge77\" class=\"edge\">\n<title>139475928005888+&#45;&gt;139475928005888</title>\n<path fill=\"none\" stroke=\"black\" d=\"M2468.21,-183.5C2475.73,-183.5 2484.43,-183.5 2493.67,-183.5\"/>\n<polygon fill=\"black\" stroke=\"black\" points=\"2493.89,-187 2503.89,-183.5 2493.89,-180 2493.89,-187\"/>\n</g>\n<!-- 139475928120624 -->\n<g id=\"node212\" class=\"node\">\n<title>139475928120624</title>\n<polygon fill=\"none\" stroke=\"black\" points=\"4825.5,-423.5 4825.5,-459.5 5007.5,-459.5 5007.5,-423.5 4825.5,-423.5\"/>\n<text text-anchor=\"middle\" x=\"4835.5\" y=\"-437.8\" font-family=\"Times,serif\" font-size=\"14.00\"> </text>\n<polyline fill=\"none\" stroke=\"black\" points=\"4845.5,-423.5 4845.5,-459.5 \"/>\n<text text-anchor=\"middle\" x=\"4885.5\" y=\"-437.8\" font-family=\"Times,serif\" font-size=\"14.00\">data 0.1457</text>\n<polyline fill=\"none\" stroke=\"black\" points=\"4925.5,-423.5 4925.5,-459.5 \"/>\n<text text-anchor=\"middle\" x=\"4966.5\" y=\"-437.8\" font-family=\"Times,serif\" font-size=\"14.00\">grad 0.0000</text>\n</g>\n<!-- 139475928120624&#45;&gt;139475928120816+ -->\n<g id=\"edge168\" class=\"edge\">\n<title>139475928120624&#45;&gt;139475928120816+</title>\n<path fill=\"none\" stroke=\"black\" d=\"M5007.81,-451.79C5069.24,-457.91 5152.42,-464.5 5226,-464.5 5226,-464.5 5226,-464.5 5382,-464.5 5480.05,-464.5 5595.28,-476.39 5652.3,-483.07\"/>\n<polygon fill=\"black\" stroke=\"black\" points=\"5651.91,-486.55 5662.26,-484.25 5652.74,-479.6 5651.91,-486.55\"/>\n</g>\n<!-- 139475928120624*&#45;&gt;139475928120624 -->\n<g id=\"edge78\" class=\"edge\">\n<title>139475928120624*&#45;&gt;139475928120624</title>\n<path fill=\"none\" stroke=\"black\" d=\"M4345.97,-415.68C4426.34,-419.32 4674.03,-430.55 4814.87,-436.94\"/>\n<polygon fill=\"black\" stroke=\"black\" points=\"4815.09,-440.45 4825.24,-437.41 4815.41,-433.46 4815.09,-440.45\"/>\n</g>\n<!-- 139475927997824 -->\n<g id=\"node214\" class=\"node\">\n<title>139475927997824</title>\n<polygon fill=\"none\" stroke=\"black\" points=\"2817,-275.5 2817,-311.5 3004,-311.5 3004,-275.5 2817,-275.5\"/>\n<text text-anchor=\"middle\" x=\"2827\" y=\"-289.8\" font-family=\"Times,serif\" font-size=\"14.00\"> </text>\n<polyline fill=\"none\" stroke=\"black\" points=\"2837,-275.5 2837,-311.5 \"/>\n<text text-anchor=\"middle\" x=\"2879.5\" y=\"-289.8\" font-family=\"Times,serif\" font-size=\"14.00\">data &#45;0.0581</text>\n<polyline fill=\"none\" stroke=\"black\" points=\"2922,-275.5 2922,-311.5 \"/>\n<text text-anchor=\"middle\" x=\"2963\" y=\"-289.8\" font-family=\"Times,serif\" font-size=\"14.00\">grad 0.0000</text>\n</g>\n<!-- 139475927997824&#45;&gt;139479133464144+ -->\n<g id=\"edge116\" class=\"edge\">\n<title>139475927997824&#45;&gt;139479133464144+</title>\n<path fill=\"none\" stroke=\"black\" d=\"M2987.35,-311.57C2993.24,-314.41 2998.88,-317.7 3004,-321.5 3027.16,-338.69 3022.13,-352.86 3040,-375.5 3041.4,-377.28 3042.89,-379.08 3044.42,-380.86\"/>\n<polygon fill=\"black\" stroke=\"black\" points=\"3041.96,-383.36 3051.24,-388.49 3047.18,-378.7 3041.96,-383.36\"/>\n</g>\n<!-- 139475927997824+&#45;&gt;139475927997824 -->\n<g id=\"edge79\" class=\"edge\">\n<title>139475927997824+&#45;&gt;139475927997824</title>\n<path fill=\"none\" stroke=\"black\" d=\"M2781.21,-293.5C2788.73,-293.5 2797.43,-293.5 2806.67,-293.5\"/>\n<polygon fill=\"black\" stroke=\"black\" points=\"2806.89,-297 2816.89,-293.5 2806.89,-290 2806.89,-297\"/>\n</g>\n<!-- 139475928120816 -->\n<g id=\"node216\" class=\"node\">\n<title>139475928120816</title>\n<polygon fill=\"none\" stroke=\"black\" points=\"5754.5,-469.5 5754.5,-505.5 5936.5,-505.5 5936.5,-469.5 5754.5,-469.5\"/>\n<text text-anchor=\"middle\" x=\"5764.5\" y=\"-483.8\" font-family=\"Times,serif\" font-size=\"14.00\"> </text>\n<polyline fill=\"none\" stroke=\"black\" points=\"5774.5,-469.5 5774.5,-505.5 \"/>\n<text text-anchor=\"middle\" x=\"5814.5\" y=\"-483.8\" font-family=\"Times,serif\" font-size=\"14.00\">data 0.4211</text>\n<polyline fill=\"none\" stroke=\"black\" points=\"5854.5,-469.5 5854.5,-505.5 \"/>\n<text text-anchor=\"middle\" x=\"5895.5\" y=\"-483.8\" font-family=\"Times,serif\" font-size=\"14.00\">grad 0.0000</text>\n</g>\n<!-- 139475928120816&#45;&gt;139475928120912+ -->\n<g id=\"edge190\" class=\"edge\">\n<title>139475928120816&#45;&gt;139475928120912+</title>\n<path fill=\"none\" stroke=\"black\" d=\"M5936.82,-503.28C5947.07,-505.08 5957.01,-506.81 5965.88,-508.36\"/>\n<polygon fill=\"black\" stroke=\"black\" points=\"5965.3,-511.81 5975.75,-510.09 5966.5,-504.92 5965.3,-511.81\"/>\n</g>\n<!-- 139475928120816+&#45;&gt;139475928120816 -->\n<g id=\"edge80\" class=\"edge\">\n<title>139475928120816+&#45;&gt;139475928120816</title>\n<path fill=\"none\" stroke=\"black\" d=\"M5716.21,-487.5C5724.34,-487.5 5733.85,-487.5 5743.94,-487.5\"/>\n<polygon fill=\"black\" stroke=\"black\" points=\"5744.19,-491 5754.19,-487.5 5744.19,-484 5744.19,-491\"/>\n</g>\n<!-- 139475927768592 -->\n<g id=\"node218\" class=\"node\">\n<title>139475927768592</title>\n<polygon fill=\"none\" stroke=\"black\" points=\"2504,-605.5 2504,-641.5 2691,-641.5 2691,-605.5 2504,-605.5\"/>\n<text text-anchor=\"middle\" x=\"2514\" y=\"-619.8\" font-family=\"Times,serif\" font-size=\"14.00\"> </text>\n<polyline fill=\"none\" stroke=\"black\" points=\"2524,-605.5 2524,-641.5 \"/>\n<text text-anchor=\"middle\" x=\"2566.5\" y=\"-619.8\" font-family=\"Times,serif\" font-size=\"14.00\">data &#45;0.3215</text>\n<polyline fill=\"none\" stroke=\"black\" points=\"2609,-605.5 2609,-641.5 \"/>\n<text text-anchor=\"middle\" x=\"2650\" y=\"-619.8\" font-family=\"Times,serif\" font-size=\"14.00\">grad 0.0000</text>\n</g>\n<!-- 139475927768592&#45;&gt;139475928005120* -->\n<g id=\"edge114\" class=\"edge\">\n<title>139475927768592&#45;&gt;139475928005120*</title>\n<path fill=\"none\" stroke=\"black\" d=\"M2664.56,-605.45C2673.51,-602.64 2682.53,-599.63 2691,-596.5 2701.49,-592.62 2712.71,-587.78 2722.68,-583.22\"/>\n<polygon fill=\"black\" stroke=\"black\" points=\"2724.2,-586.37 2731.79,-578.97 2721.25,-580.02 2724.2,-586.37\"/>\n</g>\n<!-- 139475928120912 -->\n<g id=\"node219\" class=\"node\">\n<title>139475928120912</title>\n<polygon fill=\"none\" stroke=\"black\" points=\"6065,-496.5 6065,-532.5 6252,-532.5 6252,-496.5 6065,-496.5\"/>\n<text text-anchor=\"middle\" x=\"6075\" y=\"-510.8\" font-family=\"Times,serif\" font-size=\"14.00\"> </text>\n<polyline fill=\"none\" stroke=\"black\" points=\"6085,-496.5 6085,-532.5 \"/>\n<text text-anchor=\"middle\" x=\"6127.5\" y=\"-510.8\" font-family=\"Times,serif\" font-size=\"14.00\">data &#45;0.0135</text>\n<polyline fill=\"none\" stroke=\"black\" points=\"6170,-496.5 6170,-532.5 \"/>\n<text text-anchor=\"middle\" x=\"6211\" y=\"-510.8\" font-family=\"Times,serif\" font-size=\"14.00\">grad 0.0000</text>\n</g>\n<!-- 139475928121104tanh -->\n<g id=\"node224\" class=\"node\">\n<title>139475928121104tanh</title>\n<ellipse fill=\"none\" stroke=\"black\" cx=\"6315\" cy=\"-514.5\" rx=\"27\" ry=\"18\"/>\n<text text-anchor=\"middle\" x=\"6315\" y=\"-510.8\" font-family=\"Times,serif\" font-size=\"14.00\">tanh</text>\n</g>\n<!-- 139475928120912&#45;&gt;139475928121104tanh -->\n<g id=\"edge91\" class=\"edge\">\n<title>139475928120912&#45;&gt;139475928121104tanh</title>\n<path fill=\"none\" stroke=\"black\" d=\"M6252.05,-514.5C6261.06,-514.5 6269.79,-514.5 6277.7,-514.5\"/>\n<polygon fill=\"black\" stroke=\"black\" points=\"6277.95,-518 6287.95,-514.5 6277.95,-511 6277.95,-518\"/>\n</g>\n<!-- 139475928120912+&#45;&gt;139475928120912 -->\n<g id=\"edge81\" class=\"edge\">\n<title>139475928120912+&#45;&gt;139475928120912</title>\n<path fill=\"none\" stroke=\"black\" d=\"M6029.21,-514.5C6036.73,-514.5 6045.43,-514.5 6054.67,-514.5\"/>\n<polygon fill=\"black\" stroke=\"black\" points=\"6054.89,-518 6064.89,-514.5 6054.89,-511 6054.89,-518\"/>\n</g>\n<!-- 139475927768736 -->\n<g id=\"node221\" class=\"node\">\n<title>139475927768736</title>\n<polygon fill=\"none\" stroke=\"black\" points=\"628.5,-743.5 628.5,-779.5 810.5,-779.5 810.5,-743.5 628.5,-743.5\"/>\n<text text-anchor=\"middle\" x=\"638.5\" y=\"-757.8\" font-family=\"Times,serif\" font-size=\"14.00\"> </text>\n<polyline fill=\"none\" stroke=\"black\" points=\"648.5,-743.5 648.5,-779.5 \"/>\n<text text-anchor=\"middle\" x=\"688.5\" y=\"-757.8\" font-family=\"Times,serif\" font-size=\"14.00\">data 0.2857</text>\n<polyline fill=\"none\" stroke=\"black\" points=\"728.5,-743.5 728.5,-779.5 \"/>\n<text text-anchor=\"middle\" x=\"769.5\" y=\"-757.8\" font-family=\"Times,serif\" font-size=\"14.00\">grad 0.0000</text>\n</g>\n<!-- 139475927768736&#45;&gt;139475927995760* -->\n<g id=\"edge146\" class=\"edge\">\n<title>139475927768736&#45;&gt;139475927995760*</title>\n<path fill=\"none\" stroke=\"black\" d=\"M810.82,-777.28C821.07,-779.08 831.01,-780.81 839.88,-782.36\"/>\n<polygon fill=\"black\" stroke=\"black\" points=\"839.3,-785.81 849.75,-784.09 840.5,-778.92 839.3,-785.81\"/>\n</g>\n<!-- 139475927776944 -->\n<g id=\"node222\" class=\"node\">\n<title>139475927776944</title>\n<polygon fill=\"none\" stroke=\"black\" points=\"0,-175.5 0,-211.5 187,-211.5 187,-175.5 0,-175.5\"/>\n<text text-anchor=\"middle\" x=\"10\" y=\"-189.8\" font-family=\"Times,serif\" font-size=\"14.00\"> </text>\n<polyline fill=\"none\" stroke=\"black\" points=\"20,-175.5 20,-211.5 \"/>\n<text text-anchor=\"middle\" x=\"62.5\" y=\"-189.8\" font-family=\"Times,serif\" font-size=\"14.00\">data &#45;0.6872</text>\n<polyline fill=\"none\" stroke=\"black\" points=\"105,-175.5 105,-211.5 \"/>\n<text text-anchor=\"middle\" x=\"146\" y=\"-189.8\" font-family=\"Times,serif\" font-size=\"14.00\">grad 0.0000</text>\n</g>\n<!-- 139475927776944&#45;&gt;139475927990528* -->\n<g id=\"edge187\" class=\"edge\">\n<title>139475927776944&#45;&gt;139475927990528*</title>\n<path fill=\"none\" stroke=\"black\" d=\"M187.05,-209.67C196.34,-211.3 205.33,-212.87 213.44,-214.29\"/>\n<polygon fill=\"black\" stroke=\"black\" points=\"213.1,-217.78 223.55,-216.05 214.3,-210.88 213.1,-217.78\"/>\n</g>\n<!-- 139475928121104 -->\n<g id=\"node223\" class=\"node\">\n<title>139475928121104</title>\n<polygon fill=\"none\" stroke=\"black\" points=\"6378,-496.5 6378,-532.5 6565,-532.5 6565,-496.5 6378,-496.5\"/>\n<text text-anchor=\"middle\" x=\"6388\" y=\"-510.8\" font-family=\"Times,serif\" font-size=\"14.00\"> </text>\n<polyline fill=\"none\" stroke=\"black\" points=\"6398,-496.5 6398,-532.5 \"/>\n<text text-anchor=\"middle\" x=\"6440.5\" y=\"-510.8\" font-family=\"Times,serif\" font-size=\"14.00\">data &#45;0.0135</text>\n<polyline fill=\"none\" stroke=\"black\" points=\"6483,-496.5 6483,-532.5 \"/>\n<text text-anchor=\"middle\" x=\"6524\" y=\"-510.8\" font-family=\"Times,serif\" font-size=\"14.00\">grad 0.0000</text>\n</g>\n<!-- 139475928121104tanh&#45;&gt;139475928121104 -->\n<g id=\"edge82\" class=\"edge\">\n<title>139475928121104tanh&#45;&gt;139475928121104</title>\n<path fill=\"none\" stroke=\"black\" d=\"M6342.21,-514.5C6349.73,-514.5 6358.43,-514.5 6367.67,-514.5\"/>\n<polygon fill=\"black\" stroke=\"black\" points=\"6367.89,-518 6377.89,-514.5 6367.89,-511 6367.89,-518\"/>\n</g>\n<!-- 139475927777040 -->\n<g id=\"node225\" class=\"node\">\n<title>139475927777040</title>\n<polygon fill=\"none\" stroke=\"black\" points=\"2817,-550.5 2817,-586.5 3004,-586.5 3004,-550.5 2817,-550.5\"/>\n<text text-anchor=\"middle\" x=\"2827\" y=\"-564.8\" font-family=\"Times,serif\" font-size=\"14.00\"> </text>\n<polyline fill=\"none\" stroke=\"black\" points=\"2837,-550.5 2837,-586.5 \"/>\n<text text-anchor=\"middle\" x=\"2879.5\" y=\"-564.8\" font-family=\"Times,serif\" font-size=\"14.00\">data &#45;0.6119</text>\n<polyline fill=\"none\" stroke=\"black\" points=\"2922,-550.5 2922,-586.5 \"/>\n<text text-anchor=\"middle\" x=\"2963\" y=\"-564.8\" font-family=\"Times,serif\" font-size=\"14.00\">grad 0.0000</text>\n</g>\n<!-- 139475927777040&#45;&gt;139475928118656* -->\n<g id=\"edge129\" class=\"edge\">\n<title>139475927777040&#45;&gt;139475928118656*</title>\n<path fill=\"none\" stroke=\"black\" d=\"M3004.05,-568.5C3013.06,-568.5 3021.79,-568.5 3029.7,-568.5\"/>\n<polygon fill=\"black\" stroke=\"black\" points=\"3029.95,-572 3039.95,-568.5 3029.95,-565 3029.95,-572\"/>\n</g>\n<!-- 139475928006560 -->\n<g id=\"node226\" class=\"node\">\n<title>139475928006560</title>\n<polygon fill=\"none\" stroke=\"black\" points=\"2193.5,-110.5 2193.5,-146.5 2375.5,-146.5 2375.5,-110.5 2193.5,-110.5\"/>\n<text text-anchor=\"middle\" x=\"2203.5\" y=\"-124.8\" font-family=\"Times,serif\" font-size=\"14.00\"> </text>\n<polyline fill=\"none\" stroke=\"black\" points=\"2213.5,-110.5 2213.5,-146.5 \"/>\n<text text-anchor=\"middle\" x=\"2253.5\" y=\"-124.8\" font-family=\"Times,serif\" font-size=\"14.00\">data 0.0000</text>\n<polyline fill=\"none\" stroke=\"black\" points=\"2293.5,-110.5 2293.5,-146.5 \"/>\n<text text-anchor=\"middle\" x=\"2334.5\" y=\"-124.8\" font-family=\"Times,serif\" font-size=\"14.00\">grad 0.0000</text>\n</g>\n<!-- 139475928006560&#45;&gt;139475928005888+ -->\n<g id=\"edge186\" class=\"edge\">\n<title>139475928006560&#45;&gt;139475928005888+</title>\n<path fill=\"none\" stroke=\"black\" d=\"M2349.02,-146.65C2358.79,-149.76 2368.71,-153.08 2378,-156.5 2388.25,-160.27 2399.23,-164.86 2409.07,-169.18\"/>\n<polygon fill=\"black\" stroke=\"black\" points=\"2407.89,-172.49 2418.45,-173.37 2410.74,-166.1 2407.89,-172.49\"/>\n</g>\n</g>\n</svg>\n",
            "text/plain": [
              "<graphviz.graphs.Digraph at 0x7eda452484c0>"
            ]
          },
          "metadata": {},
          "execution_count": 99
        }
      ]
    },
    {
      "cell_type": "markdown",
      "source": [
        "Lets create a tiny dataset and wok through it"
      ],
      "metadata": {
        "id": "MccbYGTNKhDV"
      }
    },
    {
      "cell_type": "code",
      "source": [
        "xs = [\n",
        "    [2.0, 3.0, -1.0],\n",
        "    [3.0, -1.0, 0.5],\n",
        "    [0.5, 1.0, 1.0],\n",
        "    [1.0, 1.0, -1.0]\n",
        "]\n",
        "\n",
        "ys = [1.0, -1.0, -1.0, 1.0] # desired targets (simple binary classifier)\n",
        "y_pred = [n(x) for x in xs]\n",
        "y_pred"
      ],
      "metadata": {
        "colab": {
          "base_uri": "https://localhost:8080/"
        },
        "id": "e367BXLvIcuM",
        "outputId": "3a6cb9d0-0b73-43ad-e112-e7ff15c57606"
      },
      "execution_count": 100,
      "outputs": [
        {
          "output_type": "execute_result",
          "data": {
            "text/plain": [
              "[Value(data=-0.013523617697609671),\n",
              " Value(data=0.19645521891652043),\n",
              " Value(data=0.3661204828614341),\n",
              " Value(data=0.26286826066468755)]"
            ]
          },
          "metadata": {},
          "execution_count": 100
        }
      ]
    },
    {
      "cell_type": "markdown",
      "source": [
        "Now we need to tune our Neural Network to predict the y_pred as close as ys. The trick used in the Neural network to do this is using a single number that some how measures the performance of the NN, that single number is the Loss. We would aim to minimize the loss. We will use here MSE."
      ],
      "metadata": {
        "id": "IBb3j65OLEgj"
      }
    },
    {
      "cell_type": "markdown",
      "source": [
        "Computing the loss"
      ],
      "metadata": {
        "id": "0dMfTnzIRjbw"
      }
    },
    {
      "cell_type": "code",
      "source": [
        "# the individual losses\n",
        "[(yout - ygt)**2 for ygt, yout in zip(ys, y_pred)]"
      ],
      "metadata": {
        "colab": {
          "base_uri": "https://localhost:8080/"
        },
        "id": "F8-whD3pRqJn",
        "outputId": "0ceb62cd-1da1-46f1-c646-d101e596f666"
      },
      "execution_count": 101,
      "outputs": [
        {
          "output_type": "execute_result",
          "data": {
            "text/plain": [
              "[Value(data=1.0272301236308505),\n",
              " Value(data=1.431505090872579),\n",
              " Value(data=1.866285173693558),\n",
              " Value(data=0.5433632011355031)]"
            ]
          },
          "metadata": {},
          "execution_count": 101
        }
      ]
    },
    {
      "cell_type": "code",
      "source": [
        "loss = sum((yout - ygt)**2 for ygt, yout in zip(ys, y_pred))\n",
        "loss"
      ],
      "metadata": {
        "colab": {
          "base_uri": "https://localhost:8080/"
        },
        "id": "kd6tZo5kLDKv",
        "outputId": "d6e95c93-6516-49c6-e7d9-622a824e31c0"
      },
      "execution_count": 102,
      "outputs": [
        {
          "output_type": "execute_result",
          "data": {
            "text/plain": [
              "Value(data=4.868383589332491)"
            ]
          },
          "metadata": {},
          "execution_count": 102
        }
      ]
    },
    {
      "cell_type": "code",
      "source": [
        "loss.backward()"
      ],
      "metadata": {
        "id": "UwBPndi5N1Ud"
      },
      "execution_count": 103,
      "outputs": []
    },
    {
      "cell_type": "code",
      "source": [
        "## looking at gradient of one of the weights\n",
        "n.layers[0].neurons[0].w[0].grad"
      ],
      "metadata": {
        "colab": {
          "base_uri": "https://localhost:8080/"
        },
        "id": "nwtaUoLUR9hh",
        "outputId": "4d9bba95-b48c-4590-9cd3-bc8311a31e41"
      },
      "execution_count": 104,
      "outputs": [
        {
          "output_type": "execute_result",
          "data": {
            "text/plain": [
              "0.3100526427816488"
            ]
          },
          "metadata": {},
          "execution_count": 104
        }
      ]
    },
    {
      "cell_type": "markdown",
      "source": [
        "Since its negative, we know that it has a negative impact on the Loss, so slightly increasing this weight will bring loss down"
      ],
      "metadata": {
        "id": "eo2Afl7rSO-G"
      }
    },
    {
      "cell_type": "markdown",
      "source": [
        "Note we don't care about gradients of inputs, since those are fixed factors. We would need to nudge the weights inorder to optimize."
      ],
      "metadata": {
        "id": "4XMOXpCZSv5P"
      }
    },
    {
      "cell_type": "markdown",
      "source": [
        "### Weight parameters\n",
        "Now we will write a code to gather all the parameters, so that we can play with it"
      ],
      "metadata": {
        "id": "NV88ME_1z6AI"
      }
    },
    {
      "cell_type": "code",
      "source": [
        "class Neuron:\n",
        "\n",
        "    def __init__(self, nin): #nin: number of inputs\n",
        "        self.w = [Value(random.uniform(-1, 1)) for _ in range(nin)]\n",
        "        self.b = Value(random.uniform(-1, 1))\n",
        "\n",
        "    def __call__(self, x): ## forward pass\n",
        "        # w*x + b operation)\n",
        "        act = sum(wi*xi for wi, xi in zip(self.w, x)) + self.b #this line was throwing error, added __radd__ method to Value class to ignore order\n",
        "        out = act.tanh()\n",
        "        return out\n",
        "\n",
        "    def parameters(self):\n",
        "        return self.w + [self.b]\n",
        "\n",
        "class Layer:\n",
        "\n",
        "    def __init__(self, nin, nout): #nout number of neurons\n",
        "        self.neurons = [Neuron(nin) for _ in range(nout)]\n",
        "\n",
        "    def __call__(self, x):\n",
        "        outs = [n(x) for n in self.neurons]\n",
        "        return outs[0] if len(outs)==1 else outs\n",
        "\n",
        "    def parameters(self):\n",
        "        return [p for neuron in self.neurons for p in neuron.parameters()]\n",
        "        ##alternate code\n",
        "        # params = []\n",
        "        # for neuron in self.neurons:\n",
        "        #     ps = neuron.parameters()\n",
        "        #     params.extend(ps)\n",
        "        # return params\n",
        "\n",
        "\n",
        "class MLP:\n",
        "\n",
        "    def __init__(self, nin, nouts): # unlike Layer, we have here list of nouts, defining the size of different layers\n",
        "        sz = [nin] + nouts\n",
        "        self.layers = [Layer(sz[i], sz[i+1]) for i in range(len(nouts))]\n",
        "\n",
        "    def __call__(self, x):\n",
        "        for layer in self.layers:\n",
        "            x = layer(x)\n",
        "        return x\n",
        "\n",
        "    def parameters(self):\n",
        "        return [p for layer in self.layers for p in layer.parameters()]\n",
        "\n"
      ],
      "metadata": {
        "id": "3TIGnMN4xwnq"
      },
      "execution_count": 192,
      "outputs": []
    },
    {
      "cell_type": "code",
      "source": [
        "x = [2.0, 3.0, -1.0]\n",
        "n = MLP(3, [4, 4, 1])\n",
        "n(x)"
      ],
      "metadata": {
        "colab": {
          "base_uri": "https://localhost:8080/"
        },
        "id": "l79j2yIz5gwW",
        "outputId": "6d306753-eef4-4efb-f178-67e9b186f2d2"
      },
      "execution_count": 193,
      "outputs": [
        {
          "output_type": "execute_result",
          "data": {
            "text/plain": [
              "Value(data=-0.9458678746169102)"
            ]
          },
          "metadata": {},
          "execution_count": 193
        }
      ]
    },
    {
      "cell_type": "code",
      "source": [
        "n.parameters()"
      ],
      "metadata": {
        "colab": {
          "base_uri": "https://localhost:8080/"
        },
        "id": "eNdXlGlO2XA3",
        "outputId": "a7ab9037-bbce-4bff-96d4-f74715995e96"
      },
      "execution_count": 194,
      "outputs": [
        {
          "output_type": "execute_result",
          "data": {
            "text/plain": [
              "[Value(data=-0.9758219230906884),\n",
              " Value(data=-0.6534599140675958),\n",
              " Value(data=0.39201545066552845),\n",
              " Value(data=0.37230687948138064),\n",
              " Value(data=-0.15167878556932157),\n",
              " Value(data=0.42856871316552847),\n",
              " Value(data=-0.883777916026838),\n",
              " Value(data=-0.4108801855628308),\n",
              " Value(data=-0.10640786357434306),\n",
              " Value(data=-0.41310987597220583),\n",
              " Value(data=0.14753603464703602),\n",
              " Value(data=0.6292116981453526),\n",
              " Value(data=-0.8217680725186693),\n",
              " Value(data=-0.798152891475896),\n",
              " Value(data=0.7315464159869456),\n",
              " Value(data=-0.4862432961282628),\n",
              " Value(data=-0.20370542924194734),\n",
              " Value(data=-0.9426703409406232),\n",
              " Value(data=0.2315329134574513),\n",
              " Value(data=0.7712978097109944),\n",
              " Value(data=-0.061190864982460846),\n",
              " Value(data=0.4676229709449331),\n",
              " Value(data=-0.7934649426840621),\n",
              " Value(data=0.9401650892105924),\n",
              " Value(data=0.6999825377430828),\n",
              " Value(data=0.07552738706573581),\n",
              " Value(data=0.09858355898452564),\n",
              " Value(data=-0.5635070635961792),\n",
              " Value(data=-0.1558050425374109),\n",
              " Value(data=0.776355946168455),\n",
              " Value(data=-0.09714139056378768),\n",
              " Value(data=-0.09761139791347584),\n",
              " Value(data=-0.01750015006842509),\n",
              " Value(data=-0.5194535380741432),\n",
              " Value(data=-0.8023817119543517),\n",
              " Value(data=-0.7758474924907048),\n",
              " Value(data=0.4327765836705981),\n",
              " Value(data=0.8810226167415762),\n",
              " Value(data=0.3984856133668817),\n",
              " Value(data=0.9092607060877012),\n",
              " Value(data=-0.5887819021235214)]"
            ]
          },
          "metadata": {},
          "execution_count": 194
        }
      ]
    },
    {
      "cell_type": "code",
      "source": [
        "# total parameters\n",
        "len(n.parameters())"
      ],
      "metadata": {
        "colab": {
          "base_uri": "https://localhost:8080/"
        },
        "id": "P1Gk4NNk2Ybp",
        "outputId": "d6f1122d-ef4c-48fe-83cd-37ee63573206"
      },
      "execution_count": 195,
      "outputs": [
        {
          "output_type": "execute_result",
          "data": {
            "text/plain": [
              "41"
            ]
          },
          "metadata": {},
          "execution_count": 195
        }
      ]
    },
    {
      "cell_type": "code",
      "source": [
        "xs = [\n",
        "    [2.0, 3.0, -1.0],\n",
        "    [3.0, -1.0, 0.5],\n",
        "    [0.5, 1.0, 1.0],\n",
        "    [1.0, 1.0, -1.0]\n",
        "]\n",
        "\n",
        "ys = [1.0, -1.0, -1.0, 1.0] # desired targets (simple binary classifier)\n",
        "y_pred = [n(x) for x in xs]\n",
        "y_pred"
      ],
      "metadata": {
        "colab": {
          "base_uri": "https://localhost:8080/"
        },
        "id": "fpDtQOGI2deL",
        "outputId": "c25daba1-e3d3-4ffe-90c0-b1311e185a85"
      },
      "execution_count": 196,
      "outputs": [
        {
          "output_type": "execute_result",
          "data": {
            "text/plain": [
              "[Value(data=-0.9458678746169102),\n",
              " Value(data=-0.48299224265549456),\n",
              " Value(data=-0.5853268095635941),\n",
              " Value(data=-0.9641852176909933)]"
            ]
          },
          "metadata": {},
          "execution_count": 196
        }
      ]
    },
    {
      "cell_type": "code",
      "source": [
        "loss = sum((yout - ygt)**2 for ygt, yout in zip(ys, y_pred))\n",
        "loss"
      ],
      "metadata": {
        "colab": {
          "base_uri": "https://localhost:8080/"
        },
        "id": "OV0MCMpn2oR_",
        "outputId": "5c5f33ae-f094-4724-b06d-f2a3396e9836"
      },
      "execution_count": 197,
      "outputs": [
        {
          "output_type": "execute_result",
          "data": {
            "text/plain": [
              "Value(data=8.083676230883048)"
            ]
          },
          "metadata": {},
          "execution_count": 197
        }
      ]
    },
    {
      "cell_type": "code",
      "source": [
        "loss.backward()"
      ],
      "metadata": {
        "id": "EBTS_DuF24jT"
      },
      "execution_count": 198,
      "outputs": []
    },
    {
      "cell_type": "code",
      "source": [
        "len(n.parameters())"
      ],
      "metadata": {
        "colab": {
          "base_uri": "https://localhost:8080/"
        },
        "id": "GEmHfcVN5QAX",
        "outputId": "1509dbb2-a93e-42d3-d95d-171397319594"
      },
      "execution_count": 199,
      "outputs": [
        {
          "output_type": "execute_result",
          "data": {
            "text/plain": [
              "41"
            ]
          },
          "metadata": {},
          "execution_count": 199
        }
      ]
    },
    {
      "cell_type": "code",
      "source": [
        "n.layers[0].neurons[0].w[0].grad"
      ],
      "metadata": {
        "colab": {
          "base_uri": "https://localhost:8080/"
        },
        "id": "xyQfdunq286q",
        "outputId": "52a8e9f1-3e2c-46da-b34e-768754593791"
      },
      "execution_count": 200,
      "outputs": [
        {
          "output_type": "execute_result",
          "data": {
            "text/plain": [
              "0.13315256563472225"
            ]
          },
          "metadata": {},
          "execution_count": 200
        }
      ]
    },
    {
      "cell_type": "code",
      "source": [
        "n.layers[0].neurons[0].w[0].data"
      ],
      "metadata": {
        "colab": {
          "base_uri": "https://localhost:8080/"
        },
        "id": "9LOIbIaz3FVh",
        "outputId": "92056e3c-80ed-466a-b345-93ea16057dd8"
      },
      "execution_count": 201,
      "outputs": [
        {
          "output_type": "execute_result",
          "data": {
            "text/plain": [
              "-0.9758219230906884"
            ]
          },
          "metadata": {},
          "execution_count": 201
        }
      ]
    },
    {
      "cell_type": "markdown",
      "source": [
        "if the gradient is negative, then increasing the weight value makes the loss go down. Conversely if the gradient is positive, decreasing the weight value makes the loss go down."
      ],
      "metadata": {
        "id": "1isMRzKo7GbN"
      }
    },
    {
      "cell_type": "markdown",
      "source": [
        "## Gradient descent\n",
        "\n",
        "Intuition: Gradient vector is a vector which is pointing in the direction of increasing the loss. we want to minimize the loss. In Gradient Descent, we update the weight in opposite direction of gradients.\n",
        "so we update weight with negative gardient in samll step-size"
      ],
      "metadata": {
        "id": "3Q8tpW4k3wF_"
      }
    },
    {
      "cell_type": "code",
      "source": [
        "# update weights\n",
        "for p in n.parameters():\n",
        "    p.data += -0.01 * p.grad"
      ],
      "metadata": {
        "id": "9gVJx1z83HSy"
      },
      "execution_count": 202,
      "outputs": []
    },
    {
      "cell_type": "markdown",
      "source": [
        "lets look at the weight we observed earlier, how its affected. So we see the value is increase"
      ],
      "metadata": {
        "id": "IO4LCuaN6av-"
      }
    },
    {
      "cell_type": "code",
      "source": [
        "n.layers[0].neurons[0].w[0].data"
      ],
      "metadata": {
        "colab": {
          "base_uri": "https://localhost:8080/"
        },
        "id": "wJvS9MVW54IW",
        "outputId": "714d39f0-8346-44dc-f140-bd1e7bc09fec"
      },
      "execution_count": 203,
      "outputs": [
        {
          "output_type": "execute_result",
          "data": {
            "text/plain": [
              "-0.9771534487470356"
            ]
          },
          "metadata": {},
          "execution_count": 203
        }
      ]
    },
    {
      "cell_type": "markdown",
      "source": [
        "lets recalculate the loss"
      ],
      "metadata": {
        "id": "WmSoiLTy8Dt0"
      }
    },
    {
      "cell_type": "code",
      "source": [
        "y_pred = [n(x) for x in xs]\n",
        "loss = sum((yout - ygt)**2 for ygt, yout in zip(ys, y_pred))\n",
        "loss"
      ],
      "metadata": {
        "colab": {
          "base_uri": "https://localhost:8080/"
        },
        "id": "U4esITlJ56Fm",
        "outputId": "c8d01161-9c53-4010-cd6f-ddf0aa7f6945"
      },
      "execution_count": 204,
      "outputs": [
        {
          "output_type": "execute_result",
          "data": {
            "text/plain": [
              "Value(data=7.96953448622916)"
            ]
          },
          "metadata": {},
          "execution_count": 204
        }
      ]
    },
    {
      "cell_type": "markdown",
      "source": [
        "Note we have loss slightly decreased, which means improvement"
      ],
      "metadata": {
        "id": "MZvSJM6_8N-d"
      }
    },
    {
      "cell_type": "code",
      "source": [
        "## forward pass\n",
        "print(n.layers[0].neurons[0].w[0].data) # keeping track of this particular weight\n",
        "\n",
        "# make prediction\n",
        "y_pred = [n(x) for x in xs]\n",
        "\n",
        "# compute loss\n",
        "loss = sum((yout - ygt)**2 for ygt, yout in zip(ys, y_pred))\n",
        "print(loss)\n",
        "\n",
        "# backward pass\n",
        "loss.backward()\n",
        "\n",
        "# update weights\n",
        "for p in n.parameters():\n",
        "    p.data += -0.01 * p.grad"
      ],
      "metadata": {
        "colab": {
          "base_uri": "https://localhost:8080/"
        },
        "id": "GUekVupy8aYd",
        "outputId": "d64d116a-4e53-4219-b76d-f6e10ef72e4a"
      },
      "execution_count": 205,
      "outputs": [
        {
          "output_type": "stream",
          "name": "stdout",
          "text": [
            "-0.9771534487470356\n",
            "Value(data=7.96953448622916)\n"
          ]
        }
      ]
    },
    {
      "cell_type": "markdown",
      "source": [
        "rerun it for few times, you will notice the loss decreasing. Beautiful!!!"
      ],
      "metadata": {
        "id": "Hp8344iR8ycb"
      }
    },
    {
      "cell_type": "code",
      "source": [
        "\n",
        "print(n.layers[0].neurons[0].w[0].data) # keeping track of this particular weight\n",
        "\n",
        "## forward pass\n",
        "# make prediction\n",
        "y_pred = [n(x) for x in xs]\n",
        "\n",
        "# compute loss\n",
        "loss = sum((yout - ygt)**2 for ygt, yout in zip(ys, y_pred))\n",
        "print(f\"loss:{loss.data}\")\n",
        "\n",
        "# backward pass\n",
        "loss.backward()\n",
        "\n",
        "# update weights\n",
        "for p in n.parameters():\n",
        "    p.data += -0.01 * p.grad"
      ],
      "metadata": {
        "colab": {
          "base_uri": "https://localhost:8080/"
        },
        "id": "bdwWz6eA8x6j",
        "outputId": "af3f3f3a-dcda-41c2-dd73-b9ba4f7e55d3"
      },
      "execution_count": 216,
      "outputs": [
        {
          "output_type": "stream",
          "name": "stdout",
          "text": [
            "-1.0059242333552456\n",
            "loss:0.2386073962216473\n"
          ]
        }
      ]
    },
    {
      "cell_type": "code",
      "source": [
        "ys"
      ],
      "metadata": {
        "colab": {
          "base_uri": "https://localhost:8080/"
        },
        "id": "kOD1pVC1-glb",
        "outputId": "d2b6bb68-ccb0-4d53-f969-4e784509fe40"
      },
      "execution_count": 218,
      "outputs": [
        {
          "output_type": "execute_result",
          "data": {
            "text/plain": [
              "[1.0, -1.0, -1.0, 1.0]"
            ]
          },
          "metadata": {},
          "execution_count": 218
        }
      ]
    },
    {
      "cell_type": "code",
      "source": [
        "y_pred"
      ],
      "metadata": {
        "colab": {
          "base_uri": "https://localhost:8080/"
        },
        "id": "K3U0Z8K1-ZOr",
        "outputId": "3651fe0a-3f2a-46bf-eac5-73c6013ad596"
      },
      "execution_count": 217,
      "outputs": [
        {
          "output_type": "execute_result",
          "data": {
            "text/plain": [
              "[Value(data=0.9866151127786856),\n",
              " Value(data=-0.7946590370177778),\n",
              " Value(data=-0.5572501487496969),\n",
              " Value(data=0.9846409910772801)]"
            ]
          },
          "metadata": {},
          "execution_count": 217
        }
      ]
    },
    {
      "cell_type": "markdown",
      "source": [
        "Changing the learning rate"
      ],
      "metadata": {
        "id": "NIfra_FC-xcT"
      }
    },
    {
      "cell_type": "markdown",
      "source": [
        "rerun for couple of times to learn the trend with learning rate set to 0.1"
      ],
      "metadata": {
        "id": "n_9l2-9P_RzK"
      }
    },
    {
      "cell_type": "code",
      "source": [
        "print(n.layers[0].neurons[0].w[0].data) # keeping track of this particular weight\n",
        "\n",
        "## forward pass\n",
        "# make prediction\n",
        "y_pred = [n(x) for x in xs]\n",
        "\n",
        "# compute loss\n",
        "loss = sum((yout - ygt)**2 for ygt, yout in zip(ys, y_pred))\n",
        "print(f\"loss:{loss.data}\")\n",
        "\n",
        "# backward pass\n",
        "loss.backward()\n",
        "\n",
        "# update weights\n",
        "for p in n.parameters():\n",
        "    p.data += -0.1 * p.grad"
      ],
      "metadata": {
        "colab": {
          "base_uri": "https://localhost:8080/"
        },
        "id": "asiUYVU4-aA0",
        "outputId": "948153b5-1de8-4a89-9eb0-c5c519df5f76"
      },
      "execution_count": 223,
      "outputs": [
        {
          "output_type": "stream",
          "name": "stdout",
          "text": [
            "-0.8614134523907285\n",
            "loss:7.941573756951133\n"
          ]
        }
      ]
    },
    {
      "cell_type": "code",
      "source": [
        "y_pred"
      ],
      "metadata": {
        "colab": {
          "base_uri": "https://localhost:8080/"
        },
        "id": "tQurvX9T-6a5",
        "outputId": "b3ced050-fad9-4905-ee8e-bfd72f32069e"
      },
      "execution_count": 225,
      "outputs": [
        {
          "output_type": "execute_result",
          "data": {
            "text/plain": [
              "[Value(data=-0.9984085470342594),\n",
              " Value(data=-0.9999607406786721),\n",
              " Value(data=-0.9999999855761655),\n",
              " Value(data=-0.9869416283701588)]"
            ]
          },
          "metadata": {},
          "execution_count": 225
        }
      ]
    },
    {
      "cell_type": "markdown",
      "source": [
        "Oops! so it was going good for first two runs we got the y_pred very close to ys. But in subsequent run, got overshot and ended up higher loss. Choosing a higher learning rate is not a good idea"
      ],
      "metadata": {
        "id": "EphhrMQ6_Hhi"
      }
    },
    {
      "cell_type": "markdown",
      "source": [
        "Lets put the Gradient descent in a neat code"
      ],
      "metadata": {
        "id": "ZbpY0r5tAPcR"
      }
    },
    {
      "cell_type": "code",
      "source": [
        "# model\n",
        "n = MLP(3, [4, 4, 1])\n",
        "\n",
        "# data\n",
        "xs = [\n",
        "    [2.0, 3.0, -1.0],\n",
        "    [3.0, -1.0, 0.5],\n",
        "    [0.5, 1.0, 1.0],\n",
        "    [1.0, 1.0, -1.0]\n",
        "]\n",
        "\n",
        "ys = [1.0, -1.0, -1.0, 1.0] # desired targets (simple binary classifier)"
      ],
      "metadata": {
        "id": "dMqZ8lKhBPSh"
      },
      "execution_count": 255,
      "outputs": []
    },
    {
      "cell_type": "code",
      "source": [
        "# Training for 20 epochs, learning rate - 0.05\n",
        "\n",
        "for k in range(20):\n",
        "    # forward pass\n",
        "    y_pred = [n(x) for x in xs]\n",
        "    loss = sum((yout - ygt)**2 for ygt, yout in zip(ys, y_pred))\n",
        "\n",
        "    # backward pass\n",
        "    loss.backward()\n",
        "\n",
        "    # update weights\n",
        "    for p in n.parameters():\n",
        "        p.data += - 0.05 * p.grad\n",
        "\n",
        "\n",
        "    print(f\"{k} loss:{loss.data}\")"
      ],
      "metadata": {
        "colab": {
          "base_uri": "https://localhost:8080/"
        },
        "id": "tj7fytE-AWos",
        "outputId": "bdeef590-314a-4543-a885-09a890b9baf7"
      },
      "execution_count": 256,
      "outputs": [
        {
          "output_type": "stream",
          "name": "stdout",
          "text": [
            "0 loss:7.677835439695201\n",
            "1 loss:5.938515142233748\n",
            "2 loss:3.452010706188479\n",
            "3 loss:2.335644135625864\n",
            "4 loss:3.1329772256540016\n",
            "5 loss:1.2055186629158232\n",
            "6 loss:0.2967586987650784\n",
            "7 loss:0.3737318211513237\n",
            "8 loss:0.23414547326327748\n",
            "9 loss:0.035017192053185875\n",
            "10 loss:0.0030107560898931067\n",
            "11 loss:0.0013605977548486197\n",
            "12 loss:0.0014815719456078894\n",
            "13 loss:0.0018464797359698624\n",
            "14 loss:0.0024632860020542212\n",
            "15 loss:0.003402309187887896\n",
            "16 loss:0.004704316165644228\n",
            "17 loss:0.006283524687574804\n",
            "18 loss:0.007797899408169312\n",
            "19 loss:0.008600933255470173\n"
          ]
        }
      ]
    },
    {
      "cell_type": "code",
      "source": [
        "y_pred"
      ],
      "metadata": {
        "colab": {
          "base_uri": "https://localhost:8080/"
        },
        "id": "J00lHJk3BeAg",
        "outputId": "40da8a32-aff6-4605-a2eb-9ee8ed083646"
      },
      "execution_count": 257,
      "outputs": [
        {
          "output_type": "execute_result",
          "data": {
            "text/plain": [
              "[Value(data=0.9977628411147141),\n",
              " Value(data=-0.9073091062579659),\n",
              " Value(data=-0.9999999997199103),\n",
              " Value(data=0.9979199536315018)]"
            ]
          },
          "metadata": {},
          "execution_count": 257
        }
      ]
    },
    {
      "cell_type": "markdown",
      "source": [
        "### Common mistake - Let's fix the bug\n",
        "We have a bug here - in `Value` class, if you remember for `self.grad` we do a `+=`, basically for accumulating the grad (to accomodate - same variable used more than once case), so when we nudge the weights and after forward pass. We need to reset the parameter grads to zero and then backpropogate.  \n",
        "\n",
        "The reason you see the buggy code working, because our problem is quiet simple one. the grad kept on accumulating, which gave us increased step size, converging faster"
      ],
      "metadata": {
        "id": "O5N0LKrvCQkx"
      }
    },
    {
      "cell_type": "code",
      "source": [
        "# model\n",
        "n = MLP(3, [4, 4, 1])\n",
        "\n",
        "# data\n",
        "xs = [\n",
        "    [2.0, 3.0, -1.0],\n",
        "    [3.0, -1.0, 0.5],\n",
        "    [0.5, 1.0, 1.0],\n",
        "    [1.0, 1.0, -1.0]\n",
        "]\n",
        "\n",
        "ys = [1.0, -1.0, -1.0, 1.0] # desired targets (simple binary classifier)"
      ],
      "metadata": {
        "id": "z__zZQKVC5RR"
      },
      "execution_count": 263,
      "outputs": []
    },
    {
      "cell_type": "code",
      "source": [
        "# Training for 20 epochs, learning rate - 0.05\n",
        "## run couple of times\n",
        "## play with learning rate\n",
        "\n",
        "for k in range(20):\n",
        "    # forward pass\n",
        "    y_pred = [n(x) for x in xs]\n",
        "    loss = sum((yout - ygt)**2 for ygt, yout in zip(ys, y_pred))\n",
        "\n",
        "    # backward pass\n",
        "    for p in n.parameters():\n",
        "        p.grad = 0.0\n",
        "    loss.backward()\n",
        "\n",
        "    # update weights\n",
        "    for p in n.parameters():\n",
        "        p.data += - 0.1 * p.grad\n",
        "\n",
        "\n",
        "    print(f\"{k} loss:{loss.data}\")"
      ],
      "metadata": {
        "colab": {
          "base_uri": "https://localhost:8080/"
        },
        "id": "X3IsN5XnBfQz",
        "outputId": "e5b61406-2cf7-45a4-e712-eb92fb157089"
      },
      "execution_count": 266,
      "outputs": [
        {
          "output_type": "stream",
          "name": "stdout",
          "text": [
            "0 loss:0.013893661497771551\n",
            "1 loss:0.013278322296446064\n",
            "2 loss:0.012719731172566822\n",
            "3 loss:0.012209696457484305\n",
            "4 loss:0.011741626446109227\n",
            "5 loss:0.011310143101732818\n",
            "6 loss:0.010910804669116494\n",
            "7 loss:0.010539902618330446\n",
            "8 loss:0.010194310413318676\n",
            "9 loss:0.009871369112297338\n",
            "10 loss:0.009568799601531605\n",
            "11 loss:0.009284634393124503\n",
            "12 loss:0.009017164001613545\n",
            "13 loss:0.008764894328290815\n",
            "14 loss:0.00852651245802935\n",
            "15 loss:0.008300858957393836\n",
            "16 loss:0.00808690524915244\n",
            "17 loss:0.007883734988732485\n",
            "18 loss:0.007690528623786515\n",
            "19 loss:0.007506550506657716\n"
          ]
        }
      ]
    },
    {
      "cell_type": "code",
      "source": [
        "y_pred"
      ],
      "metadata": {
        "colab": {
          "base_uri": "https://localhost:8080/"
        },
        "id": "oGXTFsVXDtJg",
        "outputId": "de5ae749-37f4-41d8-e22a-6405bb388bbd"
      },
      "execution_count": 265,
      "outputs": [
        {
          "output_type": "execute_result",
          "data": {
            "text/plain": [
              "[Value(data=0.9322708881316202),\n",
              " Value(data=-0.9441321144601903),\n",
              " Value(data=-0.9466964305271542),\n",
              " Value(data=0.9365463445626999)]"
            ]
          },
          "metadata": {},
          "execution_count": 265
        }
      ]
    },
    {
      "cell_type": "markdown",
      "source": [
        "We fixed the bug, and run our code, and also able to minimize the loss to a good deal. We observe the `y_pred` very close to `ys`."
      ],
      "metadata": {
        "id": "ha0YYLvbG_nk"
      }
    },
    {
      "cell_type": "markdown",
      "source": [
        "That's it!"
      ],
      "metadata": {
        "id": "jUih5IGfHPC-"
      }
    },
    {
      "cell_type": "code",
      "source": [
        "## End Note\n",
        "print(\"Give, and it will be given to you. Good measure, pressed down, shaken together, running over, will be put into your lap. For with the measure you use it will be measured back to you. Luke 6:38\")"
      ],
      "metadata": {
        "colab": {
          "base_uri": "https://localhost:8080/"
        },
        "id": "90Ma70o0DtxR",
        "outputId": "aa579689-5016-4326-bf0f-e015a2ac6914"
      },
      "execution_count": 267,
      "outputs": [
        {
          "output_type": "stream",
          "name": "stdout",
          "text": [
            "Give, and it will be given to you. Good measure, pressed down, shaken together, running over, will be put into your lap. For with the measure you use it will be measured back to you. Luke 6:38\n"
          ]
        }
      ]
    }
  ]
}